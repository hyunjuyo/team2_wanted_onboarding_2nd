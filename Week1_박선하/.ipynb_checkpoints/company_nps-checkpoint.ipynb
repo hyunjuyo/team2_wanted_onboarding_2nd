{
 "cells": [
  {
   "cell_type": "code",
   "execution_count": 61,
   "metadata": {},
   "outputs": [],
   "source": [
    "import pandas as pd\n",
    "import matplotlib.pyplot as plt\n",
    "import seaborn as sns\n",
    "from datetime import datetime, timedelta"
   ]
  },
  {
   "cell_type": "code",
   "execution_count": 137,
   "metadata": {},
   "outputs": [],
   "source": [
    "df = pd.read_csv('company_nps_data.csv',encoding='euc-kr')"
   ]
  },
  {
   "cell_type": "code",
   "execution_count": 138,
   "metadata": {},
   "outputs": [
    {
     "data": {
      "text/html": [
       "<div>\n",
       "<style scoped>\n",
       "    .dataframe tbody tr th:only-of-type {\n",
       "        vertical-align: middle;\n",
       "    }\n",
       "\n",
       "    .dataframe tbody tr th {\n",
       "        vertical-align: top;\n",
       "    }\n",
       "\n",
       "    .dataframe thead th {\n",
       "        text-align: right;\n",
       "    }\n",
       "</style>\n",
       "<table border=\"1\" class=\"dataframe\">\n",
       "  <thead>\n",
       "    <tr style=\"text-align: right;\">\n",
       "      <th></th>\n",
       "      <th>회사ID</th>\n",
       "      <th>연매출액</th>\n",
       "      <th>년도</th>\n",
       "      <th>월</th>\n",
       "      <th>월별_연금보험료</th>\n",
       "      <th>월별_직원수</th>\n",
       "    </tr>\n",
       "  </thead>\n",
       "  <tbody>\n",
       "    <tr>\n",
       "      <th>0</th>\n",
       "      <td>233757</td>\n",
       "      <td>41688077</td>\n",
       "      <td>2018</td>\n",
       "      <td>7</td>\n",
       "      <td>8912380</td>\n",
       "      <td>36</td>\n",
       "    </tr>\n",
       "    <tr>\n",
       "      <th>1</th>\n",
       "      <td>123464</td>\n",
       "      <td>1760695</td>\n",
       "      <td>2018</td>\n",
       "      <td>3</td>\n",
       "      <td>942380</td>\n",
       "      <td>5</td>\n",
       "    </tr>\n",
       "    <tr>\n",
       "      <th>2</th>\n",
       "      <td>342124</td>\n",
       "      <td>3221341</td>\n",
       "      <td>2018</td>\n",
       "      <td>7</td>\n",
       "      <td>781180</td>\n",
       "      <td>4</td>\n",
       "    </tr>\n",
       "    <tr>\n",
       "      <th>3</th>\n",
       "      <td>386420</td>\n",
       "      <td>4815584</td>\n",
       "      <td>2015</td>\n",
       "      <td>11</td>\n",
       "      <td>3795900</td>\n",
       "      <td>14</td>\n",
       "    </tr>\n",
       "    <tr>\n",
       "      <th>4</th>\n",
       "      <td>129243</td>\n",
       "      <td>9799736</td>\n",
       "      <td>2018</td>\n",
       "      <td>10</td>\n",
       "      <td>40724680</td>\n",
       "      <td>151</td>\n",
       "    </tr>\n",
       "  </tbody>\n",
       "</table>\n",
       "</div>"
      ],
      "text/plain": [
       "     회사ID      연매출액    년도   월  월별_연금보험료  월별_직원수\n",
       "0  233757  41688077  2018   7   8912380      36\n",
       "1  123464   1760695  2018   3    942380       5\n",
       "2  342124   3221341  2018   7    781180       4\n",
       "3  386420   4815584  2015  11   3795900      14\n",
       "4  129243   9799736  2018  10  40724680     151"
      ]
     },
     "execution_count": 138,
     "metadata": {},
     "output_type": "execute_result"
    }
   ],
   "source": [
    "df.head()"
   ]
  },
  {
   "cell_type": "code",
   "execution_count": 139,
   "metadata": {},
   "outputs": [
    {
     "data": {
      "text/html": [
       "<div>\n",
       "<style scoped>\n",
       "    .dataframe tbody tr th:only-of-type {\n",
       "        vertical-align: middle;\n",
       "    }\n",
       "\n",
       "    .dataframe tbody tr th {\n",
       "        vertical-align: top;\n",
       "    }\n",
       "\n",
       "    .dataframe thead th {\n",
       "        text-align: right;\n",
       "    }\n",
       "</style>\n",
       "<table border=\"1\" class=\"dataframe\">\n",
       "  <thead>\n",
       "    <tr style=\"text-align: right;\">\n",
       "      <th></th>\n",
       "      <th>회사ID</th>\n",
       "      <th>연매출액</th>\n",
       "      <th>년도</th>\n",
       "      <th>월</th>\n",
       "      <th>월별_연금보험료</th>\n",
       "      <th>월별_직원수</th>\n",
       "    </tr>\n",
       "  </thead>\n",
       "  <tbody>\n",
       "    <tr>\n",
       "      <th>count</th>\n",
       "      <td>9.980100e+04</td>\n",
       "      <td>9.980100e+04</td>\n",
       "      <td>99801.000000</td>\n",
       "      <td>99801.000000</td>\n",
       "      <td>9.980100e+04</td>\n",
       "      <td>99801.000000</td>\n",
       "    </tr>\n",
       "    <tr>\n",
       "      <th>mean</th>\n",
       "      <td>2.762982e+05</td>\n",
       "      <td>3.053589e+07</td>\n",
       "      <td>2016.967125</td>\n",
       "      <td>6.714352</td>\n",
       "      <td>9.734079e+06</td>\n",
       "      <td>37.623431</td>\n",
       "    </tr>\n",
       "    <tr>\n",
       "      <th>std</th>\n",
       "      <td>1.339032e+05</td>\n",
       "      <td>3.016647e+08</td>\n",
       "      <td>0.976688</td>\n",
       "      <td>3.512966</td>\n",
       "      <td>4.347256e+07</td>\n",
       "      <td>146.947194</td>\n",
       "    </tr>\n",
       "    <tr>\n",
       "      <th>min</th>\n",
       "      <td>6.300000e+01</td>\n",
       "      <td>-7.882176e+06</td>\n",
       "      <td>2015.000000</td>\n",
       "      <td>1.000000</td>\n",
       "      <td>0.000000e+00</td>\n",
       "      <td>0.000000</td>\n",
       "    </tr>\n",
       "    <tr>\n",
       "      <th>25%</th>\n",
       "      <td>1.655300e+05</td>\n",
       "      <td>1.409760e+06</td>\n",
       "      <td>2016.000000</td>\n",
       "      <td>4.000000</td>\n",
       "      <td>1.181160e+06</td>\n",
       "      <td>6.000000</td>\n",
       "    </tr>\n",
       "    <tr>\n",
       "      <th>50%</th>\n",
       "      <td>2.591490e+05</td>\n",
       "      <td>3.573585e+06</td>\n",
       "      <td>2017.000000</td>\n",
       "      <td>7.000000</td>\n",
       "      <td>2.332760e+06</td>\n",
       "      <td>11.000000</td>\n",
       "    </tr>\n",
       "    <tr>\n",
       "      <th>75%</th>\n",
       "      <td>3.826560e+05</td>\n",
       "      <td>9.582321e+06</td>\n",
       "      <td>2018.000000</td>\n",
       "      <td>10.000000</td>\n",
       "      <td>5.591860e+06</td>\n",
       "      <td>24.000000</td>\n",
       "    </tr>\n",
       "    <tr>\n",
       "      <th>max</th>\n",
       "      <td>5.159723e+06</td>\n",
       "      <td>1.132878e+10</td>\n",
       "      <td>2019.000000</td>\n",
       "      <td>12.000000</td>\n",
       "      <td>9.780673e+08</td>\n",
       "      <td>3133.000000</td>\n",
       "    </tr>\n",
       "  </tbody>\n",
       "</table>\n",
       "</div>"
      ],
      "text/plain": [
       "               회사ID          연매출액            년도             월      월별_연금보험료  \\\n",
       "count  9.980100e+04  9.980100e+04  99801.000000  99801.000000  9.980100e+04   \n",
       "mean   2.762982e+05  3.053589e+07   2016.967125      6.714352  9.734079e+06   \n",
       "std    1.339032e+05  3.016647e+08      0.976688      3.512966  4.347256e+07   \n",
       "min    6.300000e+01 -7.882176e+06   2015.000000      1.000000  0.000000e+00   \n",
       "25%    1.655300e+05  1.409760e+06   2016.000000      4.000000  1.181160e+06   \n",
       "50%    2.591490e+05  3.573585e+06   2017.000000      7.000000  2.332760e+06   \n",
       "75%    3.826560e+05  9.582321e+06   2018.000000     10.000000  5.591860e+06   \n",
       "max    5.159723e+06  1.132878e+10   2019.000000     12.000000  9.780673e+08   \n",
       "\n",
       "             월별_직원수  \n",
       "count  99801.000000  \n",
       "mean      37.623431  \n",
       "std      146.947194  \n",
       "min        0.000000  \n",
       "25%        6.000000  \n",
       "50%       11.000000  \n",
       "75%       24.000000  \n",
       "max     3133.000000  "
      ]
     },
     "execution_count": 139,
     "metadata": {},
     "output_type": "execute_result"
    }
   ],
   "source": [
    "df.describe()"
   ]
  },
  {
   "cell_type": "code",
   "execution_count": 140,
   "metadata": {},
   "outputs": [
    {
     "name": "stdout",
     "output_type": "stream",
     "text": [
      "<class 'pandas.core.frame.DataFrame'>\n",
      "RangeIndex: 99801 entries, 0 to 99800\n",
      "Data columns (total 6 columns):\n",
      "회사ID        99801 non-null int64\n",
      "연매출액        99801 non-null int64\n",
      "년도          99801 non-null int64\n",
      "월           99801 non-null int64\n",
      "월별_연금보험료    99801 non-null int64\n",
      "월별_직원수      99801 non-null int64\n",
      "dtypes: int64(6)\n",
      "memory usage: 4.6 MB\n"
     ]
    }
   ],
   "source": [
    "df.info()"
   ]
  },
  {
   "cell_type": "code",
   "execution_count": 141,
   "metadata": {},
   "outputs": [],
   "source": [
    "b = pd.to_datetime(df['년도'].astype(str) + df[\"월\"].astype(str), format='%Y%m')"
   ]
  },
  {
   "cell_type": "code",
   "execution_count": 142,
   "metadata": {},
   "outputs": [],
   "source": [
    "date = pd.DataFrame(b)"
   ]
  },
  {
   "cell_type": "code",
   "execution_count": 143,
   "metadata": {},
   "outputs": [],
   "source": [
    "# date.rename(columns={0:\"date\"}, inplace=True)"
   ]
  },
  {
   "cell_type": "code",
   "execution_count": 147,
   "metadata": {},
   "outputs": [
    {
     "data": {
      "text/html": [
       "<div>\n",
       "<style scoped>\n",
       "    .dataframe tbody tr th:only-of-type {\n",
       "        vertical-align: middle;\n",
       "    }\n",
       "\n",
       "    .dataframe tbody tr th {\n",
       "        vertical-align: top;\n",
       "    }\n",
       "\n",
       "    .dataframe thead th {\n",
       "        text-align: right;\n",
       "    }\n",
       "</style>\n",
       "<table border=\"1\" class=\"dataframe\">\n",
       "  <thead>\n",
       "    <tr style=\"text-align: right;\">\n",
       "      <th></th>\n",
       "      <th>0</th>\n",
       "    </tr>\n",
       "  </thead>\n",
       "  <tbody>\n",
       "    <tr>\n",
       "      <th>0</th>\n",
       "      <td>2018-07-01</td>\n",
       "    </tr>\n",
       "    <tr>\n",
       "      <th>1</th>\n",
       "      <td>2018-03-01</td>\n",
       "    </tr>\n",
       "    <tr>\n",
       "      <th>2</th>\n",
       "      <td>2018-07-01</td>\n",
       "    </tr>\n",
       "    <tr>\n",
       "      <th>3</th>\n",
       "      <td>2015-11-01</td>\n",
       "    </tr>\n",
       "    <tr>\n",
       "      <th>4</th>\n",
       "      <td>2018-10-01</td>\n",
       "    </tr>\n",
       "  </tbody>\n",
       "</table>\n",
       "</div>"
      ],
      "text/plain": [
       "           0\n",
       "0 2018-07-01\n",
       "1 2018-03-01\n",
       "2 2018-07-01\n",
       "3 2015-11-01\n",
       "4 2018-10-01"
      ]
     },
     "execution_count": 147,
     "metadata": {},
     "output_type": "execute_result"
    }
   ],
   "source": [
    "date.head()"
   ]
  },
  {
   "cell_type": "code",
   "execution_count": 148,
   "metadata": {},
   "outputs": [],
   "source": [
    "df_2 = df.join(date)"
   ]
  },
  {
   "cell_type": "code",
   "execution_count": 150,
   "metadata": {},
   "outputs": [],
   "source": [
    "# 컬럼명 변경\n",
    "df_2.rename(columns={0:\"날짜\"}, inplace=True)"
   ]
  },
  {
   "cell_type": "code",
   "execution_count": null,
   "metadata": {},
   "outputs": [],
   "source": []
  }
 ],
 "metadata": {
  "kernelspec": {
   "display_name": "Python 3",
   "language": "python",
   "name": "python3"
  },
  "language_info": {
   "codemirror_mode": {
    "name": "ipython",
    "version": 3
   },
   "file_extension": ".py",
   "mimetype": "text/x-python",
   "name": "python",
   "nbconvert_exporter": "python",
   "pygments_lexer": "ipython3",
   "version": "3.7.3"
  }
 },
 "nbformat": 4,
 "nbformat_minor": 2
}
