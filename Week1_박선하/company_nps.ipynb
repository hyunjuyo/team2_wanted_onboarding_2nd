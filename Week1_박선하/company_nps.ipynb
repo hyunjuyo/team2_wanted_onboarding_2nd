{
 "cells": [
  {
   "cell_type": "code",
   "execution_count": 3,
   "metadata": {},
   "outputs": [],
   "source": [
    "import pandas as pd\n",
    "import matplotlib.pyplot as plt\n",
    "import seaborn as sns\n",
    "from datetime import datetime, timedelta"
   ]
  },
  {
   "cell_type": "code",
   "execution_count": 4,
   "metadata": {},
   "outputs": [],
   "source": [
    "df = pd.read_csv('company_nps_data.csv',encoding='euc-kr')"
   ]
  },
  {
   "cell_type": "code",
   "execution_count": 5,
   "metadata": {},
   "outputs": [
    {
     "data": {
      "text/html": [
       "<div>\n",
       "<style scoped>\n",
       "    .dataframe tbody tr th:only-of-type {\n",
       "        vertical-align: middle;\n",
       "    }\n",
       "\n",
       "    .dataframe tbody tr th {\n",
       "        vertical-align: top;\n",
       "    }\n",
       "\n",
       "    .dataframe thead th {\n",
       "        text-align: right;\n",
       "    }\n",
       "</style>\n",
       "<table border=\"1\" class=\"dataframe\">\n",
       "  <thead>\n",
       "    <tr style=\"text-align: right;\">\n",
       "      <th></th>\n",
       "      <th>회사ID</th>\n",
       "      <th>연매출액</th>\n",
       "      <th>년도</th>\n",
       "      <th>월</th>\n",
       "      <th>월별_연금보험료</th>\n",
       "      <th>월별_직원수</th>\n",
       "    </tr>\n",
       "  </thead>\n",
       "  <tbody>\n",
       "    <tr>\n",
       "      <th>0</th>\n",
       "      <td>233757</td>\n",
       "      <td>41688077</td>\n",
       "      <td>2018</td>\n",
       "      <td>7</td>\n",
       "      <td>8912380</td>\n",
       "      <td>36</td>\n",
       "    </tr>\n",
       "    <tr>\n",
       "      <th>1</th>\n",
       "      <td>123464</td>\n",
       "      <td>1760695</td>\n",
       "      <td>2018</td>\n",
       "      <td>3</td>\n",
       "      <td>942380</td>\n",
       "      <td>5</td>\n",
       "    </tr>\n",
       "    <tr>\n",
       "      <th>2</th>\n",
       "      <td>342124</td>\n",
       "      <td>3221341</td>\n",
       "      <td>2018</td>\n",
       "      <td>7</td>\n",
       "      <td>781180</td>\n",
       "      <td>4</td>\n",
       "    </tr>\n",
       "    <tr>\n",
       "      <th>3</th>\n",
       "      <td>386420</td>\n",
       "      <td>4815584</td>\n",
       "      <td>2015</td>\n",
       "      <td>11</td>\n",
       "      <td>3795900</td>\n",
       "      <td>14</td>\n",
       "    </tr>\n",
       "    <tr>\n",
       "      <th>4</th>\n",
       "      <td>129243</td>\n",
       "      <td>9799736</td>\n",
       "      <td>2018</td>\n",
       "      <td>10</td>\n",
       "      <td>40724680</td>\n",
       "      <td>151</td>\n",
       "    </tr>\n",
       "  </tbody>\n",
       "</table>\n",
       "</div>"
      ],
      "text/plain": [
       "     회사ID      연매출액    년도   월  월별_연금보험료  월별_직원수\n",
       "0  233757  41688077  2018   7   8912380      36\n",
       "1  123464   1760695  2018   3    942380       5\n",
       "2  342124   3221341  2018   7    781180       4\n",
       "3  386420   4815584  2015  11   3795900      14\n",
       "4  129243   9799736  2018  10  40724680     151"
      ]
     },
     "execution_count": 5,
     "metadata": {},
     "output_type": "execute_result"
    }
   ],
   "source": [
    "df.head()"
   ]
  },
  {
   "cell_type": "code",
   "execution_count": 6,
   "metadata": {},
   "outputs": [
    {
     "data": {
      "text/html": [
       "<div>\n",
       "<style scoped>\n",
       "    .dataframe tbody tr th:only-of-type {\n",
       "        vertical-align: middle;\n",
       "    }\n",
       "\n",
       "    .dataframe tbody tr th {\n",
       "        vertical-align: top;\n",
       "    }\n",
       "\n",
       "    .dataframe thead th {\n",
       "        text-align: right;\n",
       "    }\n",
       "</style>\n",
       "<table border=\"1\" class=\"dataframe\">\n",
       "  <thead>\n",
       "    <tr style=\"text-align: right;\">\n",
       "      <th></th>\n",
       "      <th>회사ID</th>\n",
       "      <th>연매출액</th>\n",
       "      <th>년도</th>\n",
       "      <th>월</th>\n",
       "      <th>월별_연금보험료</th>\n",
       "      <th>월별_직원수</th>\n",
       "    </tr>\n",
       "  </thead>\n",
       "  <tbody>\n",
       "    <tr>\n",
       "      <th>count</th>\n",
       "      <td>9.980100e+04</td>\n",
       "      <td>9.980100e+04</td>\n",
       "      <td>99801.000000</td>\n",
       "      <td>99801.000000</td>\n",
       "      <td>9.980100e+04</td>\n",
       "      <td>99801.000000</td>\n",
       "    </tr>\n",
       "    <tr>\n",
       "      <th>mean</th>\n",
       "      <td>2.762982e+05</td>\n",
       "      <td>3.053589e+07</td>\n",
       "      <td>2016.967125</td>\n",
       "      <td>6.714352</td>\n",
       "      <td>9.734079e+06</td>\n",
       "      <td>37.623431</td>\n",
       "    </tr>\n",
       "    <tr>\n",
       "      <th>std</th>\n",
       "      <td>1.339032e+05</td>\n",
       "      <td>3.016647e+08</td>\n",
       "      <td>0.976688</td>\n",
       "      <td>3.512966</td>\n",
       "      <td>4.347256e+07</td>\n",
       "      <td>146.947194</td>\n",
       "    </tr>\n",
       "    <tr>\n",
       "      <th>min</th>\n",
       "      <td>6.300000e+01</td>\n",
       "      <td>-7.882176e+06</td>\n",
       "      <td>2015.000000</td>\n",
       "      <td>1.000000</td>\n",
       "      <td>0.000000e+00</td>\n",
       "      <td>0.000000</td>\n",
       "    </tr>\n",
       "    <tr>\n",
       "      <th>25%</th>\n",
       "      <td>1.655300e+05</td>\n",
       "      <td>1.409760e+06</td>\n",
       "      <td>2016.000000</td>\n",
       "      <td>4.000000</td>\n",
       "      <td>1.181160e+06</td>\n",
       "      <td>6.000000</td>\n",
       "    </tr>\n",
       "    <tr>\n",
       "      <th>50%</th>\n",
       "      <td>2.591490e+05</td>\n",
       "      <td>3.573585e+06</td>\n",
       "      <td>2017.000000</td>\n",
       "      <td>7.000000</td>\n",
       "      <td>2.332760e+06</td>\n",
       "      <td>11.000000</td>\n",
       "    </tr>\n",
       "    <tr>\n",
       "      <th>75%</th>\n",
       "      <td>3.826560e+05</td>\n",
       "      <td>9.582321e+06</td>\n",
       "      <td>2018.000000</td>\n",
       "      <td>10.000000</td>\n",
       "      <td>5.591860e+06</td>\n",
       "      <td>24.000000</td>\n",
       "    </tr>\n",
       "    <tr>\n",
       "      <th>max</th>\n",
       "      <td>5.159723e+06</td>\n",
       "      <td>1.132878e+10</td>\n",
       "      <td>2019.000000</td>\n",
       "      <td>12.000000</td>\n",
       "      <td>9.780673e+08</td>\n",
       "      <td>3133.000000</td>\n",
       "    </tr>\n",
       "  </tbody>\n",
       "</table>\n",
       "</div>"
      ],
      "text/plain": [
       "               회사ID          연매출액            년도             월      월별_연금보험료  \\\n",
       "count  9.980100e+04  9.980100e+04  99801.000000  99801.000000  9.980100e+04   \n",
       "mean   2.762982e+05  3.053589e+07   2016.967125      6.714352  9.734079e+06   \n",
       "std    1.339032e+05  3.016647e+08      0.976688      3.512966  4.347256e+07   \n",
       "min    6.300000e+01 -7.882176e+06   2015.000000      1.000000  0.000000e+00   \n",
       "25%    1.655300e+05  1.409760e+06   2016.000000      4.000000  1.181160e+06   \n",
       "50%    2.591490e+05  3.573585e+06   2017.000000      7.000000  2.332760e+06   \n",
       "75%    3.826560e+05  9.582321e+06   2018.000000     10.000000  5.591860e+06   \n",
       "max    5.159723e+06  1.132878e+10   2019.000000     12.000000  9.780673e+08   \n",
       "\n",
       "             월별_직원수  \n",
       "count  99801.000000  \n",
       "mean      37.623431  \n",
       "std      146.947194  \n",
       "min        0.000000  \n",
       "25%        6.000000  \n",
       "50%       11.000000  \n",
       "75%       24.000000  \n",
       "max     3133.000000  "
      ]
     },
     "execution_count": 6,
     "metadata": {},
     "output_type": "execute_result"
    }
   ],
   "source": [
    "df.describe()"
   ]
  },
  {
   "cell_type": "code",
   "execution_count": 7,
   "metadata": {},
   "outputs": [
    {
     "name": "stdout",
     "output_type": "stream",
     "text": [
      "<class 'pandas.core.frame.DataFrame'>\n",
      "RangeIndex: 99801 entries, 0 to 99800\n",
      "Data columns (total 6 columns):\n",
      "회사ID        99801 non-null int64\n",
      "연매출액        99801 non-null int64\n",
      "년도          99801 non-null int64\n",
      "월           99801 non-null int64\n",
      "월별_연금보험료    99801 non-null int64\n",
      "월별_직원수      99801 non-null int64\n",
      "dtypes: int64(6)\n",
      "memory usage: 4.6 MB\n"
     ]
    }
   ],
   "source": [
    "df.info()"
   ]
  },
  {
   "cell_type": "code",
   "execution_count": 8,
   "metadata": {},
   "outputs": [],
   "source": [
    "b = pd.to_datetime(df['년도'].astype(str) + df[\"월\"].astype(str), format='%Y%m')"
   ]
  },
  {
   "cell_type": "code",
   "execution_count": 9,
   "metadata": {},
   "outputs": [],
   "source": [
    "date = pd.DataFrame(b)"
   ]
  },
  {
   "cell_type": "code",
   "execution_count": 10,
   "metadata": {},
   "outputs": [],
   "source": [
    "# date.rename(columns={0:\"date\"}, inplace=True)"
   ]
  },
  {
   "cell_type": "code",
   "execution_count": 11,
   "metadata": {},
   "outputs": [
    {
     "data": {
      "text/html": [
       "<div>\n",
       "<style scoped>\n",
       "    .dataframe tbody tr th:only-of-type {\n",
       "        vertical-align: middle;\n",
       "    }\n",
       "\n",
       "    .dataframe tbody tr th {\n",
       "        vertical-align: top;\n",
       "    }\n",
       "\n",
       "    .dataframe thead th {\n",
       "        text-align: right;\n",
       "    }\n",
       "</style>\n",
       "<table border=\"1\" class=\"dataframe\">\n",
       "  <thead>\n",
       "    <tr style=\"text-align: right;\">\n",
       "      <th></th>\n",
       "      <th>0</th>\n",
       "    </tr>\n",
       "  </thead>\n",
       "  <tbody>\n",
       "    <tr>\n",
       "      <th>0</th>\n",
       "      <td>2018-07-01</td>\n",
       "    </tr>\n",
       "    <tr>\n",
       "      <th>1</th>\n",
       "      <td>2018-03-01</td>\n",
       "    </tr>\n",
       "    <tr>\n",
       "      <th>2</th>\n",
       "      <td>2018-07-01</td>\n",
       "    </tr>\n",
       "    <tr>\n",
       "      <th>3</th>\n",
       "      <td>2015-11-01</td>\n",
       "    </tr>\n",
       "    <tr>\n",
       "      <th>4</th>\n",
       "      <td>2018-10-01</td>\n",
       "    </tr>\n",
       "  </tbody>\n",
       "</table>\n",
       "</div>"
      ],
      "text/plain": [
       "           0\n",
       "0 2018-07-01\n",
       "1 2018-03-01\n",
       "2 2018-07-01\n",
       "3 2015-11-01\n",
       "4 2018-10-01"
      ]
     },
     "execution_count": 11,
     "metadata": {},
     "output_type": "execute_result"
    }
   ],
   "source": [
    "date.head()"
   ]
  },
  {
   "cell_type": "code",
   "execution_count": 12,
   "metadata": {},
   "outputs": [],
   "source": [
    "df_2 = df.join(date)"
   ]
  },
  {
   "cell_type": "code",
   "execution_count": 13,
   "metadata": {},
   "outputs": [],
   "source": [
    "# 컬럼명 변경\n",
    "df_2.rename(columns={0:\"날짜\"}, inplace=True)"
   ]
  },
  {
   "cell_type": "code",
   "execution_count": 14,
   "metadata": {},
   "outputs": [
    {
     "data": {
      "text/plain": [
       "11328779396"
      ]
     },
     "execution_count": 14,
     "metadata": {},
     "output_type": "execute_result"
    }
   ],
   "source": [
    "df_2[\"연매출액\"].max()"
   ]
  },
  {
   "cell_type": "code",
   "execution_count": 15,
   "metadata": {},
   "outputs": [
    {
     "data": {
      "text/html": [
       "<div>\n",
       "<style scoped>\n",
       "    .dataframe tbody tr th:only-of-type {\n",
       "        vertical-align: middle;\n",
       "    }\n",
       "\n",
       "    .dataframe tbody tr th {\n",
       "        vertical-align: top;\n",
       "    }\n",
       "\n",
       "    .dataframe thead th {\n",
       "        text-align: right;\n",
       "    }\n",
       "</style>\n",
       "<table border=\"1\" class=\"dataframe\">\n",
       "  <thead>\n",
       "    <tr style=\"text-align: right;\">\n",
       "      <th></th>\n",
       "      <th>회사ID</th>\n",
       "      <th>연매출액</th>\n",
       "      <th>년도</th>\n",
       "      <th>월</th>\n",
       "      <th>월별_연금보험료</th>\n",
       "      <th>월별_직원수</th>\n",
       "      <th>날짜</th>\n",
       "    </tr>\n",
       "  </thead>\n",
       "  <tbody>\n",
       "    <tr>\n",
       "      <th>6449</th>\n",
       "      <td>63</td>\n",
       "      <td>11328779396</td>\n",
       "      <td>2018</td>\n",
       "      <td>6</td>\n",
       "      <td>401083100</td>\n",
       "      <td>1011</td>\n",
       "      <td>2018-06-01</td>\n",
       "    </tr>\n",
       "    <tr>\n",
       "      <th>23302</th>\n",
       "      <td>63</td>\n",
       "      <td>11328779396</td>\n",
       "      <td>2018</td>\n",
       "      <td>7</td>\n",
       "      <td>418169080</td>\n",
       "      <td>1009</td>\n",
       "      <td>2018-07-01</td>\n",
       "    </tr>\n",
       "    <tr>\n",
       "      <th>23648</th>\n",
       "      <td>63</td>\n",
       "      <td>11328779396</td>\n",
       "      <td>2018</td>\n",
       "      <td>10</td>\n",
       "      <td>414503020</td>\n",
       "      <td>996</td>\n",
       "      <td>2018-10-01</td>\n",
       "    </tr>\n",
       "    <tr>\n",
       "      <th>28110</th>\n",
       "      <td>63</td>\n",
       "      <td>11328779396</td>\n",
       "      <td>2018</td>\n",
       "      <td>5</td>\n",
       "      <td>400339640</td>\n",
       "      <td>1002</td>\n",
       "      <td>2018-05-01</td>\n",
       "    </tr>\n",
       "    <tr>\n",
       "      <th>33039</th>\n",
       "      <td>63</td>\n",
       "      <td>11328779396</td>\n",
       "      <td>2018</td>\n",
       "      <td>1</td>\n",
       "      <td>403119840</td>\n",
       "      <td>1006</td>\n",
       "      <td>2018-01-01</td>\n",
       "    </tr>\n",
       "    <tr>\n",
       "      <th>52606</th>\n",
       "      <td>63</td>\n",
       "      <td>11328779396</td>\n",
       "      <td>2018</td>\n",
       "      <td>8</td>\n",
       "      <td>418292620</td>\n",
       "      <td>1011</td>\n",
       "      <td>2018-08-01</td>\n",
       "    </tr>\n",
       "    <tr>\n",
       "      <th>53569</th>\n",
       "      <td>63</td>\n",
       "      <td>11328779396</td>\n",
       "      <td>2018</td>\n",
       "      <td>12</td>\n",
       "      <td>419953960</td>\n",
       "      <td>1014</td>\n",
       "      <td>2018-12-01</td>\n",
       "    </tr>\n",
       "    <tr>\n",
       "      <th>74251</th>\n",
       "      <td>63</td>\n",
       "      <td>11328779396</td>\n",
       "      <td>2018</td>\n",
       "      <td>2</td>\n",
       "      <td>406770960</td>\n",
       "      <td>1018</td>\n",
       "      <td>2018-02-01</td>\n",
       "    </tr>\n",
       "    <tr>\n",
       "      <th>79358</th>\n",
       "      <td>63</td>\n",
       "      <td>11328779396</td>\n",
       "      <td>2018</td>\n",
       "      <td>9</td>\n",
       "      <td>416186660</td>\n",
       "      <td>999</td>\n",
       "      <td>2018-09-01</td>\n",
       "    </tr>\n",
       "    <tr>\n",
       "      <th>80770</th>\n",
       "      <td>63</td>\n",
       "      <td>11328779396</td>\n",
       "      <td>2018</td>\n",
       "      <td>4</td>\n",
       "      <td>404211800</td>\n",
       "      <td>1012</td>\n",
       "      <td>2018-04-01</td>\n",
       "    </tr>\n",
       "    <tr>\n",
       "      <th>80947</th>\n",
       "      <td>63</td>\n",
       "      <td>11328779396</td>\n",
       "      <td>2018</td>\n",
       "      <td>3</td>\n",
       "      <td>404826240</td>\n",
       "      <td>1013</td>\n",
       "      <td>2018-03-01</td>\n",
       "    </tr>\n",
       "    <tr>\n",
       "      <th>98243</th>\n",
       "      <td>63</td>\n",
       "      <td>11328779396</td>\n",
       "      <td>2018</td>\n",
       "      <td>11</td>\n",
       "      <td>414081820</td>\n",
       "      <td>995</td>\n",
       "      <td>2018-11-01</td>\n",
       "    </tr>\n",
       "  </tbody>\n",
       "</table>\n",
       "</div>"
      ],
      "text/plain": [
       "       회사ID         연매출액    년도   월   월별_연금보험료  월별_직원수         날짜\n",
       "6449     63  11328779396  2018   6  401083100    1011 2018-06-01\n",
       "23302    63  11328779396  2018   7  418169080    1009 2018-07-01\n",
       "23648    63  11328779396  2018  10  414503020     996 2018-10-01\n",
       "28110    63  11328779396  2018   5  400339640    1002 2018-05-01\n",
       "33039    63  11328779396  2018   1  403119840    1006 2018-01-01\n",
       "52606    63  11328779396  2018   8  418292620    1011 2018-08-01\n",
       "53569    63  11328779396  2018  12  419953960    1014 2018-12-01\n",
       "74251    63  11328779396  2018   2  406770960    1018 2018-02-01\n",
       "79358    63  11328779396  2018   9  416186660     999 2018-09-01\n",
       "80770    63  11328779396  2018   4  404211800    1012 2018-04-01\n",
       "80947    63  11328779396  2018   3  404826240    1013 2018-03-01\n",
       "98243    63  11328779396  2018  11  414081820     995 2018-11-01"
      ]
     },
     "execution_count": 15,
     "metadata": {},
     "output_type": "execute_result"
    }
   ],
   "source": [
    "df_2[df_2[\"연매출액\"] == 11328779396]"
   ]
  },
  {
   "cell_type": "code",
   "execution_count": 16,
   "metadata": {},
   "outputs": [],
   "source": [
    "df_2 = df_2.sort_values(by=[\"회사ID\", \"날짜\"])"
   ]
  },
  {
   "cell_type": "code",
   "execution_count": 17,
   "metadata": {},
   "outputs": [],
   "source": [
    "a = df_2[df_2[\"회사ID\"] == 63]"
   ]
  },
  {
   "cell_type": "code",
   "execution_count": 20,
   "metadata": {},
   "outputs": [
    {
     "data": {
      "text/plain": [
       "[<matplotlib.lines.Line2D at 0x17547171748>]"
      ]
     },
     "execution_count": 20,
     "metadata": {},
     "output_type": "execute_result"
    },
    {
     "data": {
      "image/png": "[encoded data removed]",
      "text/plain": [
       "<Figure size 432x288 with 1 Axes>"
      ]
     },
     "metadata": {
      "needs_background": "light"
     },
     "output_type": "display_data"
    }
   ],
   "source": [
    "plt.plot(a[\"날짜\"], a[\"월별_직원수\"])"
   ]
  },
  {
   "cell_type": "code",
   "execution_count": 21,
   "metadata": {},
   "outputs": [
    {
     "data": {
      "text/plain": [
       "978067260"
      ]
     },
     "execution_count": 21,
     "metadata": {},
     "output_type": "execute_result"
    }
   ],
   "source": [
    "df_2[\"월별_연금보험료\"].max()"
   ]
  },
  {
   "cell_type": "code",
   "execution_count": 22,
   "metadata": {},
   "outputs": [
    {
     "data": {
      "text/html": [
       "<div>\n",
       "<style scoped>\n",
       "    .dataframe tbody tr th:only-of-type {\n",
       "        vertical-align: middle;\n",
       "    }\n",
       "\n",
       "    .dataframe tbody tr th {\n",
       "        vertical-align: top;\n",
       "    }\n",
       "\n",
       "    .dataframe thead th {\n",
       "        text-align: right;\n",
       "    }\n",
       "</style>\n",
       "<table border=\"1\" class=\"dataframe\">\n",
       "  <thead>\n",
       "    <tr style=\"text-align: right;\">\n",
       "      <th></th>\n",
       "      <th>회사ID</th>\n",
       "      <th>연매출액</th>\n",
       "      <th>년도</th>\n",
       "      <th>월</th>\n",
       "      <th>월별_연금보험료</th>\n",
       "      <th>월별_직원수</th>\n",
       "      <th>날짜</th>\n",
       "    </tr>\n",
       "  </thead>\n",
       "  <tbody>\n",
       "    <tr>\n",
       "      <th>37400</th>\n",
       "      <td>227414</td>\n",
       "      <td>4933525226</td>\n",
       "      <td>2018</td>\n",
       "      <td>8</td>\n",
       "      <td>978067260</td>\n",
       "      <td>2499</td>\n",
       "      <td>2018-08-01</td>\n",
       "    </tr>\n",
       "  </tbody>\n",
       "</table>\n",
       "</div>"
      ],
      "text/plain": [
       "         회사ID        연매출액    년도  월   월별_연금보험료  월별_직원수         날짜\n",
       "37400  227414  4933525226  2018  8  978067260    2499 2018-08-01"
      ]
     },
     "execution_count": 22,
     "metadata": {},
     "output_type": "execute_result"
    }
   ],
   "source": [
    "df_2[df_2[\"월별_연금보험료\"] == 978067260]"
   ]
  },
  {
   "cell_type": "code",
   "execution_count": 23,
   "metadata": {},
   "outputs": [],
   "source": [
    "b = df_2[df_2['회사ID'] == 227414]"
   ]
  },
  {
   "cell_type": "code",
   "execution_count": 24,
   "metadata": {},
   "outputs": [
    {
     "data": {
      "text/html": [
       "<div>\n",
       "<style scoped>\n",
       "    .dataframe tbody tr th:only-of-type {\n",
       "        vertical-align: middle;\n",
       "    }\n",
       "\n",
       "    .dataframe tbody tr th {\n",
       "        vertical-align: top;\n",
       "    }\n",
       "\n",
       "    .dataframe thead th {\n",
       "        text-align: right;\n",
       "    }\n",
       "</style>\n",
       "<table border=\"1\" class=\"dataframe\">\n",
       "  <thead>\n",
       "    <tr style=\"text-align: right;\">\n",
       "      <th></th>\n",
       "      <th>회사ID</th>\n",
       "      <th>연매출액</th>\n",
       "      <th>년도</th>\n",
       "      <th>월</th>\n",
       "      <th>월별_연금보험료</th>\n",
       "      <th>월별_직원수</th>\n",
       "      <th>날짜</th>\n",
       "    </tr>\n",
       "  </thead>\n",
       "  <tbody>\n",
       "    <tr>\n",
       "      <th>33039</th>\n",
       "      <td>63</td>\n",
       "      <td>11328779396</td>\n",
       "      <td>2018</td>\n",
       "      <td>1</td>\n",
       "      <td>403119840</td>\n",
       "      <td>1006</td>\n",
       "      <td>2018-01-01</td>\n",
       "    </tr>\n",
       "    <tr>\n",
       "      <th>74251</th>\n",
       "      <td>63</td>\n",
       "      <td>11328779396</td>\n",
       "      <td>2018</td>\n",
       "      <td>2</td>\n",
       "      <td>406770960</td>\n",
       "      <td>1018</td>\n",
       "      <td>2018-02-01</td>\n",
       "    </tr>\n",
       "    <tr>\n",
       "      <th>80947</th>\n",
       "      <td>63</td>\n",
       "      <td>11328779396</td>\n",
       "      <td>2018</td>\n",
       "      <td>3</td>\n",
       "      <td>404826240</td>\n",
       "      <td>1013</td>\n",
       "      <td>2018-03-01</td>\n",
       "    </tr>\n",
       "    <tr>\n",
       "      <th>80770</th>\n",
       "      <td>63</td>\n",
       "      <td>11328779396</td>\n",
       "      <td>2018</td>\n",
       "      <td>4</td>\n",
       "      <td>404211800</td>\n",
       "      <td>1012</td>\n",
       "      <td>2018-04-01</td>\n",
       "    </tr>\n",
       "    <tr>\n",
       "      <th>28110</th>\n",
       "      <td>63</td>\n",
       "      <td>11328779396</td>\n",
       "      <td>2018</td>\n",
       "      <td>5</td>\n",
       "      <td>400339640</td>\n",
       "      <td>1002</td>\n",
       "      <td>2018-05-01</td>\n",
       "    </tr>\n",
       "  </tbody>\n",
       "</table>\n",
       "</div>"
      ],
      "text/plain": [
       "       회사ID         연매출액    년도  월   월별_연금보험료  월별_직원수         날짜\n",
       "33039    63  11328779396  2018  1  403119840    1006 2018-01-01\n",
       "74251    63  11328779396  2018  2  406770960    1018 2018-02-01\n",
       "80947    63  11328779396  2018  3  404826240    1013 2018-03-01\n",
       "80770    63  11328779396  2018  4  404211800    1012 2018-04-01\n",
       "28110    63  11328779396  2018  5  400339640    1002 2018-05-01"
      ]
     },
     "execution_count": 24,
     "metadata": {},
     "output_type": "execute_result"
    }
   ],
   "source": [
    "df_2.head()"
   ]
  },
  {
   "cell_type": "code",
   "execution_count": 25,
   "metadata": {},
   "outputs": [],
   "source": [
    "# pct = df_2[\"월별_직원수\"].pct_change().round(2)"
   ]
  },
  {
   "cell_type": "code",
   "execution_count": 26,
   "metadata": {},
   "outputs": [],
   "source": [
    "# df_2.insert(len(df_2.columns), \"월별_직원수_변동률\", pct)"
   ]
  },
  {
   "cell_type": "code",
   "execution_count": 27,
   "metadata": {},
   "outputs": [
    {
     "data": {
      "text/html": [
       "<div>\n",
       "<style scoped>\n",
       "    .dataframe tbody tr th:only-of-type {\n",
       "        vertical-align: middle;\n",
       "    }\n",
       "\n",
       "    .dataframe tbody tr th {\n",
       "        vertical-align: top;\n",
       "    }\n",
       "\n",
       "    .dataframe thead th {\n",
       "        text-align: right;\n",
       "    }\n",
       "</style>\n",
       "<table border=\"1\" class=\"dataframe\">\n",
       "  <thead>\n",
       "    <tr style=\"text-align: right;\">\n",
       "      <th></th>\n",
       "      <th>회사ID</th>\n",
       "      <th>연매출액</th>\n",
       "      <th>년도</th>\n",
       "      <th>월</th>\n",
       "      <th>월별_연금보험료</th>\n",
       "      <th>월별_직원수</th>\n",
       "      <th>날짜</th>\n",
       "    </tr>\n",
       "  </thead>\n",
       "  <tbody>\n",
       "    <tr>\n",
       "      <th>33039</th>\n",
       "      <td>63</td>\n",
       "      <td>11328779396</td>\n",
       "      <td>2018</td>\n",
       "      <td>1</td>\n",
       "      <td>403119840</td>\n",
       "      <td>1006</td>\n",
       "      <td>2018-01-01</td>\n",
       "    </tr>\n",
       "    <tr>\n",
       "      <th>74251</th>\n",
       "      <td>63</td>\n",
       "      <td>11328779396</td>\n",
       "      <td>2018</td>\n",
       "      <td>2</td>\n",
       "      <td>406770960</td>\n",
       "      <td>1018</td>\n",
       "      <td>2018-02-01</td>\n",
       "    </tr>\n",
       "    <tr>\n",
       "      <th>80947</th>\n",
       "      <td>63</td>\n",
       "      <td>11328779396</td>\n",
       "      <td>2018</td>\n",
       "      <td>3</td>\n",
       "      <td>404826240</td>\n",
       "      <td>1013</td>\n",
       "      <td>2018-03-01</td>\n",
       "    </tr>\n",
       "    <tr>\n",
       "      <th>80770</th>\n",
       "      <td>63</td>\n",
       "      <td>11328779396</td>\n",
       "      <td>2018</td>\n",
       "      <td>4</td>\n",
       "      <td>404211800</td>\n",
       "      <td>1012</td>\n",
       "      <td>2018-04-01</td>\n",
       "    </tr>\n",
       "    <tr>\n",
       "      <th>28110</th>\n",
       "      <td>63</td>\n",
       "      <td>11328779396</td>\n",
       "      <td>2018</td>\n",
       "      <td>5</td>\n",
       "      <td>400339640</td>\n",
       "      <td>1002</td>\n",
       "      <td>2018-05-01</td>\n",
       "    </tr>\n",
       "    <tr>\n",
       "      <th>6449</th>\n",
       "      <td>63</td>\n",
       "      <td>11328779396</td>\n",
       "      <td>2018</td>\n",
       "      <td>6</td>\n",
       "      <td>401083100</td>\n",
       "      <td>1011</td>\n",
       "      <td>2018-06-01</td>\n",
       "    </tr>\n",
       "    <tr>\n",
       "      <th>23302</th>\n",
       "      <td>63</td>\n",
       "      <td>11328779396</td>\n",
       "      <td>2018</td>\n",
       "      <td>7</td>\n",
       "      <td>418169080</td>\n",
       "      <td>1009</td>\n",
       "      <td>2018-07-01</td>\n",
       "    </tr>\n",
       "    <tr>\n",
       "      <th>52606</th>\n",
       "      <td>63</td>\n",
       "      <td>11328779396</td>\n",
       "      <td>2018</td>\n",
       "      <td>8</td>\n",
       "      <td>418292620</td>\n",
       "      <td>1011</td>\n",
       "      <td>2018-08-01</td>\n",
       "    </tr>\n",
       "    <tr>\n",
       "      <th>79358</th>\n",
       "      <td>63</td>\n",
       "      <td>11328779396</td>\n",
       "      <td>2018</td>\n",
       "      <td>9</td>\n",
       "      <td>416186660</td>\n",
       "      <td>999</td>\n",
       "      <td>2018-09-01</td>\n",
       "    </tr>\n",
       "    <tr>\n",
       "      <th>23648</th>\n",
       "      <td>63</td>\n",
       "      <td>11328779396</td>\n",
       "      <td>2018</td>\n",
       "      <td>10</td>\n",
       "      <td>414503020</td>\n",
       "      <td>996</td>\n",
       "      <td>2018-10-01</td>\n",
       "    </tr>\n",
       "    <tr>\n",
       "      <th>98243</th>\n",
       "      <td>63</td>\n",
       "      <td>11328779396</td>\n",
       "      <td>2018</td>\n",
       "      <td>11</td>\n",
       "      <td>414081820</td>\n",
       "      <td>995</td>\n",
       "      <td>2018-11-01</td>\n",
       "    </tr>\n",
       "    <tr>\n",
       "      <th>53569</th>\n",
       "      <td>63</td>\n",
       "      <td>11328779396</td>\n",
       "      <td>2018</td>\n",
       "      <td>12</td>\n",
       "      <td>419953960</td>\n",
       "      <td>1014</td>\n",
       "      <td>2018-12-01</td>\n",
       "    </tr>\n",
       "  </tbody>\n",
       "</table>\n",
       "</div>"
      ],
      "text/plain": [
       "       회사ID         연매출액    년도   월   월별_연금보험료  월별_직원수         날짜\n",
       "33039    63  11328779396  2018   1  403119840    1006 2018-01-01\n",
       "74251    63  11328779396  2018   2  406770960    1018 2018-02-01\n",
       "80947    63  11328779396  2018   3  404826240    1013 2018-03-01\n",
       "80770    63  11328779396  2018   4  404211800    1012 2018-04-01\n",
       "28110    63  11328779396  2018   5  400339640    1002 2018-05-01\n",
       "6449     63  11328779396  2018   6  401083100    1011 2018-06-01\n",
       "23302    63  11328779396  2018   7  418169080    1009 2018-07-01\n",
       "52606    63  11328779396  2018   8  418292620    1011 2018-08-01\n",
       "79358    63  11328779396  2018   9  416186660     999 2018-09-01\n",
       "23648    63  11328779396  2018  10  414503020     996 2018-10-01\n",
       "98243    63  11328779396  2018  11  414081820     995 2018-11-01\n",
       "53569    63  11328779396  2018  12  419953960    1014 2018-12-01"
      ]
     },
     "execution_count": 27,
     "metadata": {},
     "output_type": "execute_result"
    }
   ],
   "source": [
    "a = df_2[df_2['회사ID'] == 63]\n",
    "a"
   ]
  },
  {
   "cell_type": "code",
   "execution_count": 28,
   "metadata": {},
   "outputs": [
    {
     "data": {
      "text/plain": [
       "33039     NaN\n",
       "74251    0.01\n",
       "80947   -0.00\n",
       "80770   -0.00\n",
       "28110   -0.01\n",
       "6449     0.01\n",
       "23302   -0.00\n",
       "52606    0.00\n",
       "79358   -0.01\n",
       "23648   -0.00\n",
       "98243   -0.00\n",
       "53569    0.02\n",
       "Name: 월별_직원수, dtype: float64"
      ]
     },
     "execution_count": 28,
     "metadata": {},
     "output_type": "execute_result"
    }
   ],
   "source": [
    "a['월별_직원수'].pct_change().round(2)"
   ]
  },
  {
   "cell_type": "code",
   "execution_count": 29,
   "metadata": {},
   "outputs": [],
   "source": [
    "unique = df_2[\"회사ID\"].unique()"
   ]
  },
  {
   "cell_type": "code",
   "execution_count": 30,
   "metadata": {},
   "outputs": [],
   "source": [
    "for i in unique:\n",
    "    df_2[df_2[\"회사ID\"] == i]"
   ]
  },
  {
   "cell_type": "code",
   "execution_count": null,
   "metadata": {},
   "outputs": [],
   "source": []
  }
 ],
 "metadata": {
  "kernelspec": {
   "display_name": "Python 3",
   "language": "python",
   "name": "python3"
  },
  "language_info": {
   "codemirror_mode": {
    "name": "ipython",
    "version": 3
   },
   "file_extension": ".py",
   "mimetype": "text/x-python",
   "name": "python",
   "nbconvert_exporter": "python",
   "pygments_lexer": "ipython3",
   "version": "3.7.3"
  }
 },
 "nbformat": 4,
 "nbformat_minor": 2
}
