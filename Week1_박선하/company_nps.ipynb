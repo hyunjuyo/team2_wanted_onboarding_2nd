{
 "cells": [
  {
   "cell_type": "markdown",
   "metadata": {},
   "source": [
    "## 🎁 모듈 로드"
   ]
  },
  {
   "cell_type": "code",
   "execution_count": 2,
   "metadata": {},
   "outputs": [],
   "source": [
    "import pandas as pd\n",
    "import matplotlib.pyplot as plt\n",
    "import seaborn as sns\n",
    "import numpy as np\n",
    "from datetime import datetime, timedelta"
   ]
  },
  {
   "cell_type": "markdown",
   "metadata": {},
   "source": [
    "## 👏 데이터 시각화 세팅"
   ]
  },
  {
   "cell_type": "code",
   "execution_count": 3,
   "metadata": {},
   "outputs": [],
   "source": [
    "%matplotlib inline\n",
    "sns.set_style(style=\"white\")\n",
    "sns.set()\n",
    "\n",
    "# (Windows OS) 한글 출력을 위한 글꼴 설정\n",
    "plt.rcParams['font.family'] = 'Malgun Gothic'  \n",
    "# (MAC OS)\n",
    "# plt.rcParams['font.family'] = 'AppleGothic'  \n",
    "# 문자 - (마이너스) 정상 출력을 위한 코드\n",
    "plt.rcParams['axes.unicode_minus'] = False\n",
    "# 경고 제거\n",
    "plt.rcParams.update({'figure.max_open_warning': 0})"
   ]
  },
  {
   "cell_type": "markdown",
   "metadata": {},
   "source": [
    "# 😒원티드 DB 국민연금 사업장 데이터 분석\n",
    "---\n",
    "## 데이터 정보\n",
    "* 회사 수 : 약 5,000여개\n",
    "- 월별데이터 : 직원 수, 국민연금 보험료(인원 수에 대한 상한선_최대고지금액이 존재함)\n",
    "- 년단위 데이터 : 매출액(천원단위)\n",
    "\n",
    "- [참고](https://github.com/chsop/team4_wanted_onboarding/blob/main/week1/%EB%B0%95%EC%B0%AC%EC%84%9C_onboarding_week1_analysis_v1.1_%ED%81%B4%EB%9F%AC%EC%8A%A4%ED%84%B0%EB%A7%81.ipynb)\n",
    "---"
   ]
  },
  {
   "cell_type": "markdown",
   "metadata": {},
   "source": [
    "### 데이터 Read"
   ]
  },
  {
   "cell_type": "code",
   "execution_count": 4,
   "metadata": {},
   "outputs": [],
   "source": [
    "df = pd.read_csv('company_nps_data.csv',encoding='euc-kr')"
   ]
  },
  {
   "cell_type": "code",
   "execution_count": 5,
   "metadata": {},
   "outputs": [
    {
     "data": {
      "text/html": [
       "<div>\n",
       "<style scoped>\n",
       "    .dataframe tbody tr th:only-of-type {\n",
       "        vertical-align: middle;\n",
       "    }\n",
       "\n",
       "    .dataframe tbody tr th {\n",
       "        vertical-align: top;\n",
       "    }\n",
       "\n",
       "    .dataframe thead th {\n",
       "        text-align: right;\n",
       "    }\n",
       "</style>\n",
       "<table border=\"1\" class=\"dataframe\">\n",
       "  <thead>\n",
       "    <tr style=\"text-align: right;\">\n",
       "      <th></th>\n",
       "      <th>회사ID</th>\n",
       "      <th>연매출액</th>\n",
       "      <th>년도</th>\n",
       "      <th>월</th>\n",
       "      <th>월별_연금보험료</th>\n",
       "      <th>월별_직원수</th>\n",
       "    </tr>\n",
       "  </thead>\n",
       "  <tbody>\n",
       "    <tr>\n",
       "      <th>0</th>\n",
       "      <td>233757</td>\n",
       "      <td>41688077</td>\n",
       "      <td>2018</td>\n",
       "      <td>7</td>\n",
       "      <td>8912380</td>\n",
       "      <td>36</td>\n",
       "    </tr>\n",
       "    <tr>\n",
       "      <th>1</th>\n",
       "      <td>123464</td>\n",
       "      <td>1760695</td>\n",
       "      <td>2018</td>\n",
       "      <td>3</td>\n",
       "      <td>942380</td>\n",
       "      <td>5</td>\n",
       "    </tr>\n",
       "  </tbody>\n",
       "</table>\n",
       "</div>"
      ],
      "text/plain": [
       "     회사ID      연매출액    년도  월  월별_연금보험료  월별_직원수\n",
       "0  233757  41688077  2018  7   8912380      36\n",
       "1  123464   1760695  2018  3    942380       5"
      ]
     },
     "execution_count": 5,
     "metadata": {},
     "output_type": "execute_result"
    }
   ],
   "source": [
    "# 데이터 형태 확인\n",
    "df.head(2)"
   ]
  },
  {
   "cell_type": "code",
   "execution_count": 6,
   "metadata": {},
   "outputs": [
    {
     "data": {
      "text/html": [
       "<div>\n",
       "<style scoped>\n",
       "    .dataframe tbody tr th:only-of-type {\n",
       "        vertical-align: middle;\n",
       "    }\n",
       "\n",
       "    .dataframe tbody tr th {\n",
       "        vertical-align: top;\n",
       "    }\n",
       "\n",
       "    .dataframe thead th {\n",
       "        text-align: right;\n",
       "    }\n",
       "</style>\n",
       "<table border=\"1\" class=\"dataframe\">\n",
       "  <thead>\n",
       "    <tr style=\"text-align: right;\">\n",
       "      <th></th>\n",
       "      <th>회사ID</th>\n",
       "      <th>연매출액</th>\n",
       "      <th>년도</th>\n",
       "      <th>월</th>\n",
       "      <th>월별_연금보험료</th>\n",
       "      <th>월별_직원수</th>\n",
       "    </tr>\n",
       "  </thead>\n",
       "  <tbody>\n",
       "    <tr>\n",
       "      <th>count</th>\n",
       "      <td>9.980100e+04</td>\n",
       "      <td>9.980100e+04</td>\n",
       "      <td>99801.000000</td>\n",
       "      <td>99801.000000</td>\n",
       "      <td>9.980100e+04</td>\n",
       "      <td>99801.000000</td>\n",
       "    </tr>\n",
       "    <tr>\n",
       "      <th>mean</th>\n",
       "      <td>2.762982e+05</td>\n",
       "      <td>3.053589e+07</td>\n",
       "      <td>2016.967125</td>\n",
       "      <td>6.714352</td>\n",
       "      <td>9.734079e+06</td>\n",
       "      <td>37.623431</td>\n",
       "    </tr>\n",
       "    <tr>\n",
       "      <th>std</th>\n",
       "      <td>1.339032e+05</td>\n",
       "      <td>3.016647e+08</td>\n",
       "      <td>0.976688</td>\n",
       "      <td>3.512966</td>\n",
       "      <td>4.347256e+07</td>\n",
       "      <td>146.947194</td>\n",
       "    </tr>\n",
       "    <tr>\n",
       "      <th>min</th>\n",
       "      <td>6.300000e+01</td>\n",
       "      <td>-7.882176e+06</td>\n",
       "      <td>2015.000000</td>\n",
       "      <td>1.000000</td>\n",
       "      <td>0.000000e+00</td>\n",
       "      <td>0.000000</td>\n",
       "    </tr>\n",
       "    <tr>\n",
       "      <th>25%</th>\n",
       "      <td>1.655300e+05</td>\n",
       "      <td>1.409760e+06</td>\n",
       "      <td>2016.000000</td>\n",
       "      <td>4.000000</td>\n",
       "      <td>1.181160e+06</td>\n",
       "      <td>6.000000</td>\n",
       "    </tr>\n",
       "    <tr>\n",
       "      <th>50%</th>\n",
       "      <td>2.591490e+05</td>\n",
       "      <td>3.573585e+06</td>\n",
       "      <td>2017.000000</td>\n",
       "      <td>7.000000</td>\n",
       "      <td>2.332760e+06</td>\n",
       "      <td>11.000000</td>\n",
       "    </tr>\n",
       "    <tr>\n",
       "      <th>75%</th>\n",
       "      <td>3.826560e+05</td>\n",
       "      <td>9.582321e+06</td>\n",
       "      <td>2018.000000</td>\n",
       "      <td>10.000000</td>\n",
       "      <td>5.591860e+06</td>\n",
       "      <td>24.000000</td>\n",
       "    </tr>\n",
       "    <tr>\n",
       "      <th>max</th>\n",
       "      <td>5.159723e+06</td>\n",
       "      <td>1.132878e+10</td>\n",
       "      <td>2019.000000</td>\n",
       "      <td>12.000000</td>\n",
       "      <td>9.780673e+08</td>\n",
       "      <td>3133.000000</td>\n",
       "    </tr>\n",
       "  </tbody>\n",
       "</table>\n",
       "</div>"
      ],
      "text/plain": [
       "               회사ID          연매출액            년도             월      월별_연금보험료  \\\n",
       "count  9.980100e+04  9.980100e+04  99801.000000  99801.000000  9.980100e+04   \n",
       "mean   2.762982e+05  3.053589e+07   2016.967125      6.714352  9.734079e+06   \n",
       "std    1.339032e+05  3.016647e+08      0.976688      3.512966  4.347256e+07   \n",
       "min    6.300000e+01 -7.882176e+06   2015.000000      1.000000  0.000000e+00   \n",
       "25%    1.655300e+05  1.409760e+06   2016.000000      4.000000  1.181160e+06   \n",
       "50%    2.591490e+05  3.573585e+06   2017.000000      7.000000  2.332760e+06   \n",
       "75%    3.826560e+05  9.582321e+06   2018.000000     10.000000  5.591860e+06   \n",
       "max    5.159723e+06  1.132878e+10   2019.000000     12.000000  9.780673e+08   \n",
       "\n",
       "             월별_직원수  \n",
       "count  99801.000000  \n",
       "mean      37.623431  \n",
       "std      146.947194  \n",
       "min        0.000000  \n",
       "25%        6.000000  \n",
       "50%       11.000000  \n",
       "75%       24.000000  \n",
       "max     3133.000000  "
      ]
     },
     "execution_count": 6,
     "metadata": {},
     "output_type": "execute_result"
    }
   ],
   "source": [
    "df.describe()"
   ]
  },
  {
   "cell_type": "code",
   "execution_count": 7,
   "metadata": {},
   "outputs": [
    {
     "name": "stdout",
     "output_type": "stream",
     "text": [
      "<class 'pandas.core.frame.DataFrame'>\n",
      "RangeIndex: 99801 entries, 0 to 99800\n",
      "Data columns (total 6 columns):\n",
      "회사ID        99801 non-null int64\n",
      "연매출액        99801 non-null int64\n",
      "년도          99801 non-null int64\n",
      "월           99801 non-null int64\n",
      "월별_연금보험료    99801 non-null int64\n",
      "월별_직원수      99801 non-null int64\n",
      "dtypes: int64(6)\n",
      "memory usage: 4.6 MB\n"
     ]
    }
   ],
   "source": [
    "df.info()"
   ]
  },
  {
   "cell_type": "code",
   "execution_count": 8,
   "metadata": {},
   "outputs": [
    {
     "data": {
      "text/plain": [
       "5000"
      ]
     },
     "execution_count": 8,
     "metadata": {},
     "output_type": "execute_result"
    }
   ],
   "source": [
    "len(set(df['회사ID']))"
   ]
  },
  {
   "cell_type": "markdown",
   "metadata": {},
   "source": [
    "---\n",
    "### 데이터 전처리"
   ]
  },
  {
   "cell_type": "markdown",
   "metadata": {},
   "source": [
    "- 데이터 추가\n",
    " * '년도'와 '월' 데이터를 활용하여 시계열데이터(datetime) 추가\n",
    "- 이상치 제거\n",
    " * 연매출액이 0보다 낮은 경우\n",
    " * 월별직원수가 0명인 경우"
   ]
  },
  {
   "cell_type": "code",
   "execution_count": 9,
   "metadata": {},
   "outputs": [],
   "source": [
    "# 데이터 추가(datetime)\n",
    "df[\"년월\"] = pd.to_datetime(df['년도'].astype(str) + df[\"월\"].astype(str), format='%Y%m')\n",
    "df = df.sort_values(by=[\"회사ID\", \"년월\"])"
   ]
  },
  {
   "cell_type": "code",
   "execution_count": 10,
   "metadata": {},
   "outputs": [],
   "source": [
    "# 이상치 제거\n",
    "# 이상치 제거를 통해 2개 기업에 대한 데이터 삭제\n",
    "df = df.drop(index=df.query('연매출액 < 0').index)\n",
    "df = df.drop(index=df.query('월별_직원수 == 0').index)"
   ]
  },
  {
   "cell_type": "code",
   "execution_count": 11,
   "metadata": {},
   "outputs": [
    {
     "data": {
      "text/plain": [
       "4998"
      ]
     },
     "execution_count": 11,
     "metadata": {},
     "output_type": "execute_result"
    }
   ],
   "source": [
    "# 고유 회사 ID 갯수 확인\n",
    "len(set(df['회사ID']))\n",
    "# df.drop_duplicates('회사ID')"
   ]
  },
  {
   "cell_type": "code",
   "execution_count": 12,
   "metadata": {},
   "outputs": [
    {
     "data": {
      "text/plain": [
       "array([     63,      95,     102, ..., 2693684, 3312354, 5159723],\n",
       "      dtype=int64)"
      ]
     },
     "execution_count": 12,
     "metadata": {},
     "output_type": "execute_result"
    }
   ],
   "source": [
    "# 고유 회사ID 확인\n",
    "unique = df[\"회사ID\"].unique()\n",
    "unique"
   ]
  },
  {
   "cell_type": "code",
   "execution_count": 13,
   "metadata": {},
   "outputs": [],
   "source": [
    "# 비어있는 신규 데이터 프레임 생성\n",
    "column_names = [\"회사ID\",\t\"연매출액\", \"년도\", \"월\", \"월별_연금보험료\", \"월별_직원수\", \"년월\", \"월별_직원수_변동률\"]\n",
    "new_df = pd.DataFrame()\n",
    "new_df = new_df.reindex(columns=column_names)"
   ]
  },
  {
   "cell_type": "code",
   "execution_count": 14,
   "metadata": {},
   "outputs": [],
   "source": [
    "# 월별 직원수 변동률 column 추가\n",
    "for i in unique:\n",
    "    company = df[df[\"회사ID\"] == i]\n",
    "    roc = company[\"월별_직원수\"].pct_change().round(2)\n",
    "    company.insert(len(company.columns), \"월별_직원수_변동률\", roc)\n",
    "    new_df = new_df.append(company, sort=False)"
   ]
  },
  {
   "cell_type": "code",
   "execution_count": 15,
   "metadata": {},
   "outputs": [],
   "source": [
    "# 결측치 처리 : NaN to 0\n",
    "new_df = new_df.fillna(0)"
   ]
  },
  {
   "cell_type": "code",
   "execution_count": 17,
   "metadata": {},
   "outputs": [
    {
     "data": {
      "text/html": [
       "<div>\n",
       "<style scoped>\n",
       "    .dataframe tbody tr th:only-of-type {\n",
       "        vertical-align: middle;\n",
       "    }\n",
       "\n",
       "    .dataframe tbody tr th {\n",
       "        vertical-align: top;\n",
       "    }\n",
       "\n",
       "    .dataframe thead th {\n",
       "        text-align: right;\n",
       "    }\n",
       "</style>\n",
       "<table border=\"1\" class=\"dataframe\">\n",
       "  <thead>\n",
       "    <tr style=\"text-align: right;\">\n",
       "      <th></th>\n",
       "      <th>회사ID</th>\n",
       "      <th>연매출액</th>\n",
       "      <th>년도</th>\n",
       "      <th>월</th>\n",
       "      <th>월별_연금보험료</th>\n",
       "      <th>월별_직원수</th>\n",
       "      <th>년월</th>\n",
       "      <th>월별_직원수_변동률</th>\n",
       "    </tr>\n",
       "  </thead>\n",
       "  <tbody>\n",
       "    <tr>\n",
       "      <th>33039</th>\n",
       "      <td>63.0</td>\n",
       "      <td>1.132878e+10</td>\n",
       "      <td>2018.0</td>\n",
       "      <td>1.0</td>\n",
       "      <td>403119840.0</td>\n",
       "      <td>1006.0</td>\n",
       "      <td>2018-01-01</td>\n",
       "      <td>0.00</td>\n",
       "    </tr>\n",
       "    <tr>\n",
       "      <th>74251</th>\n",
       "      <td>63.0</td>\n",
       "      <td>1.132878e+10</td>\n",
       "      <td>2018.0</td>\n",
       "      <td>2.0</td>\n",
       "      <td>406770960.0</td>\n",
       "      <td>1018.0</td>\n",
       "      <td>2018-02-01</td>\n",
       "      <td>0.01</td>\n",
       "    </tr>\n",
       "    <tr>\n",
       "      <th>80947</th>\n",
       "      <td>63.0</td>\n",
       "      <td>1.132878e+10</td>\n",
       "      <td>2018.0</td>\n",
       "      <td>3.0</td>\n",
       "      <td>404826240.0</td>\n",
       "      <td>1013.0</td>\n",
       "      <td>2018-03-01</td>\n",
       "      <td>-0.00</td>\n",
       "    </tr>\n",
       "    <tr>\n",
       "      <th>80770</th>\n",
       "      <td>63.0</td>\n",
       "      <td>1.132878e+10</td>\n",
       "      <td>2018.0</td>\n",
       "      <td>4.0</td>\n",
       "      <td>404211800.0</td>\n",
       "      <td>1012.0</td>\n",
       "      <td>2018-04-01</td>\n",
       "      <td>-0.00</td>\n",
       "    </tr>\n",
       "    <tr>\n",
       "      <th>28110</th>\n",
       "      <td>63.0</td>\n",
       "      <td>1.132878e+10</td>\n",
       "      <td>2018.0</td>\n",
       "      <td>5.0</td>\n",
       "      <td>400339640.0</td>\n",
       "      <td>1002.0</td>\n",
       "      <td>2018-05-01</td>\n",
       "      <td>-0.01</td>\n",
       "    </tr>\n",
       "  </tbody>\n",
       "</table>\n",
       "</div>"
      ],
      "text/plain": [
       "       회사ID          연매출액      년도    월     월별_연금보험료  월별_직원수         년월  \\\n",
       "33039  63.0  1.132878e+10  2018.0  1.0  403119840.0  1006.0 2018-01-01   \n",
       "74251  63.0  1.132878e+10  2018.0  2.0  406770960.0  1018.0 2018-02-01   \n",
       "80947  63.0  1.132878e+10  2018.0  3.0  404826240.0  1013.0 2018-03-01   \n",
       "80770  63.0  1.132878e+10  2018.0  4.0  404211800.0  1012.0 2018-04-01   \n",
       "28110  63.0  1.132878e+10  2018.0  5.0  400339640.0  1002.0 2018-05-01   \n",
       "\n",
       "       월별_직원수_변동률  \n",
       "33039        0.00  \n",
       "74251        0.01  \n",
       "80947       -0.00  \n",
       "80770       -0.00  \n",
       "28110       -0.01  "
      ]
     },
     "execution_count": 17,
     "metadata": {},
     "output_type": "execute_result"
    }
   ],
   "source": [
    "new_df.head()"
   ]
  },
  {
   "cell_type": "code",
   "execution_count": 23,
   "metadata": {},
   "outputs": [],
   "source": [
    "# 데이터 형변환 float64 > int64\n",
    "columns = ['회사ID', '연매출액', '년도', '월', '월별_연금보험료', '월별_직원수']\n",
    "for i in columns:\n",
    "    new_df[i] = new_df[i].astype('int64')"
   ]
  },
  {
   "cell_type": "code",
   "execution_count": 25,
   "metadata": {},
   "outputs": [],
   "source": [
    "# 급여관련 데이터 추가\n",
    "# 대한민국 연금보험 비율은 9%로 0.09\n",
    "new_df['월별_월급총합'] = (new_df['월별_연금보험료'] / 0.09).round(2)\n",
    "new_df['월별_월급평균'] = (new_df['월별_월급총합'] / df['월별_직원수']).round(2)\n",
    "new_df[\"평균_연봉\"] = (new_df[\"월별_월급평균\"] * 12)"
   ]
  },
  {
   "cell_type": "markdown",
   "metadata": {},
   "source": [
    "## ✔데이터 통계\n",
    "- 4998개 기업의 2015년~2019년까지의 데이터(사업시작 기간은 기업별로 상이)\n",
    " * 최초 5000개 기업이었으나, 전처리 과정 중 이상치 제거를 진행함\n",
    "---\n",
    "\n",
    "- 최대 연매출액 :  금11,328,779,396,000원(금일십일조삼천이백팔십칠억칠천구백삼십구만육천원)\n",
    "- 최대 월별 연금보험료 :  금978,067,260원(금구억칠천팔백육만칠천이백육십원)\n",
    "- 최대 월별 직원수 :  3,133명\n",
    "\n",
    "\n",
    "- 평균 연매출액 :  금30,544,049,000원(금삼백오억사천사백사만구천원)\n",
    "- 평균 월별 연금보험료 :  금9,736,289원(금구백칠십삼만육천이백팔십구원)\n",
    "- 평균 월별 직원수 : 약 38명\n",
    "\n",
    "\n",
    "- 최소 연매출액 :  금300,000원(금삼십만원)\n",
    "- 최소 월별 연금보험료 :  금90,000원(금구만원)\n",
    "- 최소 월별 직원수 :  3명\n"
   ]
  },
  {
   "cell_type": "code",
   "execution_count": 31,
   "metadata": {},
   "outputs": [
    {
     "data": {
      "text/html": [
       "<div>\n",
       "<style scoped>\n",
       "    .dataframe tbody tr th:only-of-type {\n",
       "        vertical-align: middle;\n",
       "    }\n",
       "\n",
       "    .dataframe tbody tr th {\n",
       "        vertical-align: top;\n",
       "    }\n",
       "\n",
       "    .dataframe thead th {\n",
       "        text-align: right;\n",
       "    }\n",
       "</style>\n",
       "<table border=\"1\" class=\"dataframe\">\n",
       "  <thead>\n",
       "    <tr style=\"text-align: right;\">\n",
       "      <th></th>\n",
       "      <th>회사ID</th>\n",
       "      <th>연매출액</th>\n",
       "      <th>년도</th>\n",
       "      <th>월</th>\n",
       "      <th>월별_연금보험료</th>\n",
       "      <th>월별_직원수</th>\n",
       "      <th>년월</th>\n",
       "      <th>월별_직원수_변동률</th>\n",
       "      <th>월별_월급총합</th>\n",
       "      <th>월별_월급평균</th>\n",
       "      <th>평균_연봉</th>\n",
       "    </tr>\n",
       "  </thead>\n",
       "  <tbody>\n",
       "    <tr>\n",
       "      <th>33039</th>\n",
       "      <td>63</td>\n",
       "      <td>11328779396</td>\n",
       "      <td>2018</td>\n",
       "      <td>1</td>\n",
       "      <td>403119840</td>\n",
       "      <td>1006</td>\n",
       "      <td>2018-01-01</td>\n",
       "      <td>0.00</td>\n",
       "      <td>4.479109e+09</td>\n",
       "      <td>4452394.96</td>\n",
       "      <td>53428739.52</td>\n",
       "    </tr>\n",
       "    <tr>\n",
       "      <th>74251</th>\n",
       "      <td>63</td>\n",
       "      <td>11328779396</td>\n",
       "      <td>2018</td>\n",
       "      <td>2</td>\n",
       "      <td>406770960</td>\n",
       "      <td>1018</td>\n",
       "      <td>2018-02-01</td>\n",
       "      <td>0.01</td>\n",
       "      <td>4.519677e+09</td>\n",
       "      <td>4439761.62</td>\n",
       "      <td>53277139.44</td>\n",
       "    </tr>\n",
       "    <tr>\n",
       "      <th>80947</th>\n",
       "      <td>63</td>\n",
       "      <td>11328779396</td>\n",
       "      <td>2018</td>\n",
       "      <td>3</td>\n",
       "      <td>404826240</td>\n",
       "      <td>1013</td>\n",
       "      <td>2018-03-01</td>\n",
       "      <td>-0.00</td>\n",
       "      <td>4.498069e+09</td>\n",
       "      <td>4440344.85</td>\n",
       "      <td>53284138.20</td>\n",
       "    </tr>\n",
       "    <tr>\n",
       "      <th>80770</th>\n",
       "      <td>63</td>\n",
       "      <td>11328779396</td>\n",
       "      <td>2018</td>\n",
       "      <td>4</td>\n",
       "      <td>404211800</td>\n",
       "      <td>1012</td>\n",
       "      <td>2018-04-01</td>\n",
       "      <td>-0.00</td>\n",
       "      <td>4.491242e+09</td>\n",
       "      <td>4437986.39</td>\n",
       "      <td>53255836.68</td>\n",
       "    </tr>\n",
       "    <tr>\n",
       "      <th>28110</th>\n",
       "      <td>63</td>\n",
       "      <td>11328779396</td>\n",
       "      <td>2018</td>\n",
       "      <td>5</td>\n",
       "      <td>400339640</td>\n",
       "      <td>1002</td>\n",
       "      <td>2018-05-01</td>\n",
       "      <td>-0.01</td>\n",
       "      <td>4.448218e+09</td>\n",
       "      <td>4439339.54</td>\n",
       "      <td>53272074.48</td>\n",
       "    </tr>\n",
       "  </tbody>\n",
       "</table>\n",
       "</div>"
      ],
      "text/plain": [
       "       회사ID         연매출액    년도  월   월별_연금보험료  월별_직원수         년월  월별_직원수_변동률  \\\n",
       "33039    63  11328779396  2018  1  403119840    1006 2018-01-01        0.00   \n",
       "74251    63  11328779396  2018  2  406770960    1018 2018-02-01        0.01   \n",
       "80947    63  11328779396  2018  3  404826240    1013 2018-03-01       -0.00   \n",
       "80770    63  11328779396  2018  4  404211800    1012 2018-04-01       -0.00   \n",
       "28110    63  11328779396  2018  5  400339640    1002 2018-05-01       -0.01   \n",
       "\n",
       "            월별_월급총합     월별_월급평균        평균_연봉  \n",
       "33039  4.479109e+09  4452394.96  53428739.52  \n",
       "74251  4.519677e+09  4439761.62  53277139.44  \n",
       "80947  4.498069e+09  4440344.85  53284138.20  \n",
       "80770  4.491242e+09  4437986.39  53255836.68  \n",
       "28110  4.448218e+09  4439339.54  53272074.48  "
      ]
     },
     "execution_count": 31,
     "metadata": {},
     "output_type": "execute_result"
    }
   ],
   "source": [
    "new_df.head()"
   ]
  },
  {
   "cell_type": "code",
   "execution_count": 52,
   "metadata": {},
   "outputs": [
    {
     "data": {
      "text/plain": [
       "array([[<matplotlib.axes._subplots.AxesSubplot object at 0x000001BEBBFA0E48>]],\n",
       "      dtype=object)"
      ]
     },
     "execution_count": 52,
     "metadata": {},
     "output_type": "execute_result"
    },
    {
     "data": {
      "image/png": "[encoded data removed]",
      "text/plain": [
       "<Figure size 720x360 with 1 Axes>"
      ]
     },
     "metadata": {},
     "output_type": "display_data"
    }
   ],
   "source": [
    "# 데이터 분포 시각화\n",
    "new_df.hist(bins=60, column=['평균_연봉'],figsize=(10,5))"
   ]
  },
  {
   "cell_type": "code",
   "execution_count": 63,
   "metadata": {},
   "outputs": [
    {
     "data": {
      "text/plain": [
       "array([[<matplotlib.axes._subplots.AxesSubplot object at 0x000001BEBD9874E0>,\n",
       "        <matplotlib.axes._subplots.AxesSubplot object at 0x000001BEBE0D75C0>]],\n",
       "      dtype=object)"
      ]
     },
     "execution_count": 63,
     "metadata": {},
     "output_type": "execute_result"
    },
    {
     "data": {
      "image/png": "[encoded data removed]",
      "text/plain": [
       "<Figure size 1080x504 with 2 Axes>"
      ]
     },
     "metadata": {},
     "output_type": "display_data"
    }
   ],
   "source": [
    "# 기업별 평균 데이터 분포 시각화\n",
    "# 값이 작은 회사가 많아 전체적인 분포확인을 위해 값에 log를 적용\n",
    "a = new_df.groupby('회사ID').mean()\n",
    "a.hist(bins=60, column=['연매출액', '월별_직원수_변동률'],figsize=(15,7), log=True)"
   ]
  },
  {
   "cell_type": "code",
   "execution_count": 154,
   "metadata": {},
   "outputs": [],
   "source": [
    "# 데이터 이산화\n",
    "n_bins = 5\n",
    "bin_labels = list(range(1, n_bins+1))\n",
    "\n",
    "for i in ['연매출액', '평균_연봉' ,'월별_직원수_변동률']:\n",
    "    new_column = i+\"bin\"\n",
    "    new_df.loc[:,new_column] = pd.cut(new_df[i], n_bins, labels=bin_labels)"
   ]
  },
  {
   "cell_type": "code",
   "execution_count": 176,
   "metadata": {},
   "outputs": [
    {
     "data": {
      "image/png": "[encoded data removed]",
      "text/plain": [
       "<Figure size 432x288 with 1 Axes>"
      ]
     },
     "metadata": {},
     "output_type": "display_data"
    }
   ],
   "source": [
    "plt.scatter(new_df['월별_직원수_변동률bin'], new_df['평균_연봉bin'], c='r')\n",
    "plt.show()"
   ]
  },
  {
   "cell_type": "code",
   "execution_count": 180,
   "metadata": {},
   "outputs": [],
   "source": [
    "bin5 = new_df[new_df['월별_직원수_변동률bin'] >= 2]"
   ]
  },
  {
   "cell_type": "code",
   "execution_count": 181,
   "metadata": {},
   "outputs": [
    {
     "data": {
      "text/html": [
       "<div>\n",
       "<style scoped>\n",
       "    .dataframe tbody tr th:only-of-type {\n",
       "        vertical-align: middle;\n",
       "    }\n",
       "\n",
       "    .dataframe tbody tr th {\n",
       "        vertical-align: top;\n",
       "    }\n",
       "\n",
       "    .dataframe thead th {\n",
       "        text-align: right;\n",
       "    }\n",
       "</style>\n",
       "<table border=\"1\" class=\"dataframe\">\n",
       "  <thead>\n",
       "    <tr style=\"text-align: right;\">\n",
       "      <th></th>\n",
       "      <th>회사ID</th>\n",
       "      <th>연매출액</th>\n",
       "      <th>년도</th>\n",
       "      <th>월</th>\n",
       "      <th>월별_연금보험료</th>\n",
       "      <th>월별_직원수</th>\n",
       "      <th>월별_직원수_변동률</th>\n",
       "      <th>월별_월급총합</th>\n",
       "      <th>월별_월급평균</th>\n",
       "      <th>평균_연봉</th>\n",
       "    </tr>\n",
       "  </thead>\n",
       "  <tbody>\n",
       "    <tr>\n",
       "      <th>count</th>\n",
       "      <td>18.000000</td>\n",
       "      <td>1.800000e+01</td>\n",
       "      <td>18.000000</td>\n",
       "      <td>18.000000</td>\n",
       "      <td>1.800000e+01</td>\n",
       "      <td>18.000000</td>\n",
       "      <td>18.000000</td>\n",
       "      <td>1.800000e+01</td>\n",
       "      <td>1.800000e+01</td>\n",
       "      <td>1.800000e+01</td>\n",
       "    </tr>\n",
       "    <tr>\n",
       "      <th>mean</th>\n",
       "      <td>316191.055556</td>\n",
       "      <td>7.969711e+06</td>\n",
       "      <td>2017.166667</td>\n",
       "      <td>4.888889</td>\n",
       "      <td>1.091540e+07</td>\n",
       "      <td>66.944444</td>\n",
       "      <td>5.227778</td>\n",
       "      <td>1.212823e+08</td>\n",
       "      <td>1.965868e+06</td>\n",
       "      <td>2.359042e+07</td>\n",
       "    </tr>\n",
       "    <tr>\n",
       "      <th>std</th>\n",
       "      <td>169324.183576</td>\n",
       "      <td>1.069080e+07</td>\n",
       "      <td>0.923548</td>\n",
       "      <td>4.171174</td>\n",
       "      <td>2.630163e+07</td>\n",
       "      <td>164.482959</td>\n",
       "      <td>4.324704</td>\n",
       "      <td>2.922403e+08</td>\n",
       "      <td>6.075275e+05</td>\n",
       "      <td>7.290330e+06</td>\n",
       "    </tr>\n",
       "    <tr>\n",
       "      <th>min</th>\n",
       "      <td>3611.000000</td>\n",
       "      <td>4.603310e+05</td>\n",
       "      <td>2016.000000</td>\n",
       "      <td>1.000000</td>\n",
       "      <td>1.177460e+06</td>\n",
       "      <td>11.000000</td>\n",
       "      <td>2.670000</td>\n",
       "      <td>1.308289e+07</td>\n",
       "      <td>8.721926e+05</td>\n",
       "      <td>1.046631e+07</td>\n",
       "    </tr>\n",
       "    <tr>\n",
       "      <th>25%</th>\n",
       "      <td>233827.000000</td>\n",
       "      <td>1.189206e+06</td>\n",
       "      <td>2016.000000</td>\n",
       "      <td>2.000000</td>\n",
       "      <td>2.515585e+06</td>\n",
       "      <td>15.000000</td>\n",
       "      <td>2.750000</td>\n",
       "      <td>2.795094e+07</td>\n",
       "      <td>1.584709e+06</td>\n",
       "      <td>1.901651e+07</td>\n",
       "    </tr>\n",
       "    <tr>\n",
       "      <th>50%</th>\n",
       "      <td>383052.000000</td>\n",
       "      <td>2.962794e+06</td>\n",
       "      <td>2017.500000</td>\n",
       "      <td>2.500000</td>\n",
       "      <td>3.714340e+06</td>\n",
       "      <td>21.500000</td>\n",
       "      <td>3.265000</td>\n",
       "      <td>4.127044e+07</td>\n",
       "      <td>1.894040e+06</td>\n",
       "      <td>2.272848e+07</td>\n",
       "    </tr>\n",
       "    <tr>\n",
       "      <th>75%</th>\n",
       "      <td>454938.750000</td>\n",
       "      <td>1.111653e+07</td>\n",
       "      <td>2018.000000</td>\n",
       "      <td>8.250000</td>\n",
       "      <td>6.143000e+06</td>\n",
       "      <td>29.500000</td>\n",
       "      <td>5.997500</td>\n",
       "      <td>6.825556e+07</td>\n",
       "      <td>2.314499e+06</td>\n",
       "      <td>2.777398e+07</td>\n",
       "    </tr>\n",
       "    <tr>\n",
       "      <th>max</th>\n",
       "      <td>560267.000000</td>\n",
       "      <td>4.028536e+07</td>\n",
       "      <td>2018.000000</td>\n",
       "      <td>12.000000</td>\n",
       "      <td>1.151580e+08</td>\n",
       "      <td>719.000000</td>\n",
       "      <td>17.000000</td>\n",
       "      <td>1.279533e+09</td>\n",
       "      <td>3.446081e+06</td>\n",
       "      <td>4.135297e+07</td>\n",
       "    </tr>\n",
       "  </tbody>\n",
       "</table>\n",
       "</div>"
      ],
      "text/plain": [
       "                회사ID          연매출액           년도          월      월별_연금보험료  \\\n",
       "count      18.000000  1.800000e+01    18.000000  18.000000  1.800000e+01   \n",
       "mean   316191.055556  7.969711e+06  2017.166667   4.888889  1.091540e+07   \n",
       "std    169324.183576  1.069080e+07     0.923548   4.171174  2.630163e+07   \n",
       "min      3611.000000  4.603310e+05  2016.000000   1.000000  1.177460e+06   \n",
       "25%    233827.000000  1.189206e+06  2016.000000   2.000000  2.515585e+06   \n",
       "50%    383052.000000  2.962794e+06  2017.500000   2.500000  3.714340e+06   \n",
       "75%    454938.750000  1.111653e+07  2018.000000   8.250000  6.143000e+06   \n",
       "max    560267.000000  4.028536e+07  2018.000000  12.000000  1.151580e+08   \n",
       "\n",
       "           월별_직원수  월별_직원수_변동률       월별_월급총합       월별_월급평균         평균_연봉  \n",
       "count   18.000000   18.000000  1.800000e+01  1.800000e+01  1.800000e+01  \n",
       "mean    66.944444    5.227778  1.212823e+08  1.965868e+06  2.359042e+07  \n",
       "std    164.482959    4.324704  2.922403e+08  6.075275e+05  7.290330e+06  \n",
       "min     11.000000    2.670000  1.308289e+07  8.721926e+05  1.046631e+07  \n",
       "25%     15.000000    2.750000  2.795094e+07  1.584709e+06  1.901651e+07  \n",
       "50%     21.500000    3.265000  4.127044e+07  1.894040e+06  2.272848e+07  \n",
       "75%     29.500000    5.997500  6.825556e+07  2.314499e+06  2.777398e+07  \n",
       "max    719.000000   17.000000  1.279533e+09  3.446081e+06  4.135297e+07  "
      ]
     },
     "execution_count": 181,
     "metadata": {},
     "output_type": "execute_result"
    }
   ],
   "source": [
    "bin5.describe()"
   ]
  },
  {
   "cell_type": "code",
   "execution_count": null,
   "metadata": {},
   "outputs": [],
   "source": []
  }
 ],
 "metadata": {
  "kernelspec": {
   "display_name": "Python 3",
   "language": "python",
   "name": "python3"
  },
  "language_info": {
   "codemirror_mode": {
    "name": "ipython",
    "version": 3
   },
   "file_extension": ".py",
   "mimetype": "text/x-python",
   "name": "python",
   "nbconvert_exporter": "python",
   "pygments_lexer": "ipython3",
   "version": "3.7.3"
  }
 },
 "nbformat": 4,
 "nbformat_minor": 2
}
