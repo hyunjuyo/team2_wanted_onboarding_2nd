{
 "cells": [
  {
   "cell_type": "code",
   "execution_count": null,
   "id": "b9199937",
   "metadata": {},
   "outputs": [],
   "source": []
  },
  {
   "cell_type": "code",
   "execution_count": null,
   "id": "0f1e12cd",
   "metadata": {},
   "outputs": [],
   "source": []
  },
  {
   "cell_type": "code",
   "execution_count": null,
   "id": "6d2a17ca",
   "metadata": {},
   "outputs": [],
   "source": []
  },
  {
   "cell_type": "markdown",
   "id": "6becb060",
   "metadata": {},
   "source": [
    "# Data 구조 및 형태 파악"
   ]
  },
  {
   "cell_type": "code",
   "execution_count": 1,
   "id": "69fbcd53",
   "metadata": {},
   "outputs": [],
   "source": [
    "import pandas as pd\n",
    "import numpy as np\n",
    "import matplotlib.pyplot as plt\n",
    "import seaborn as sns\n",
    "\n",
    "plt.rcParams[\"font.family\"]=\"Malgun Gothic\"  # 한글 출력 관련 설정\n",
    "plt.rcParams[\"axes.unicode_minus\"]=False  # 마이너스(\"-\") 출력 관련 설정"
   ]
  },
  {
   "cell_type": "code",
   "execution_count": 2,
   "id": "d8c313fd",
   "metadata": {},
   "outputs": [
    {
     "data": {
      "text/html": [
       "<div>\n",
       "<style scoped>\n",
       "    .dataframe tbody tr th:only-of-type {\n",
       "        vertical-align: middle;\n",
       "    }\n",
       "\n",
       "    .dataframe tbody tr th {\n",
       "        vertical-align: top;\n",
       "    }\n",
       "\n",
       "    .dataframe thead th {\n",
       "        text-align: right;\n",
       "    }\n",
       "</style>\n",
       "<table border=\"1\" class=\"dataframe\">\n",
       "  <thead>\n",
       "    <tr style=\"text-align: right;\">\n",
       "      <th></th>\n",
       "      <th>age</th>\n",
       "      <th>gender</th>\n",
       "      <th>year</th>\n",
       "      <th>refund</th>\n",
       "      <th>fee</th>\n",
       "      <th>has_paid</th>\n",
       "      <th>income_근로</th>\n",
       "      <th>income_사업</th>\n",
       "      <th>income_기타</th>\n",
       "    </tr>\n",
       "  </thead>\n",
       "  <tbody>\n",
       "    <tr>\n",
       "      <th>0</th>\n",
       "      <td>27.0</td>\n",
       "      <td>F</td>\n",
       "      <td>2019</td>\n",
       "      <td>5000.0</td>\n",
       "      <td>400.0</td>\n",
       "      <td>False</td>\n",
       "      <td>10001000.0</td>\n",
       "      <td>61000.0</td>\n",
       "      <td>NaN</td>\n",
       "    </tr>\n",
       "    <tr>\n",
       "      <th>1</th>\n",
       "      <td>34.0</td>\n",
       "      <td>M</td>\n",
       "      <td>2018</td>\n",
       "      <td>100000.0</td>\n",
       "      <td>1700.0</td>\n",
       "      <td>True</td>\n",
       "      <td>18092000.0</td>\n",
       "      <td>NaN</td>\n",
       "      <td>1815000.0</td>\n",
       "    </tr>\n",
       "    <tr>\n",
       "      <th>2</th>\n",
       "      <td>28.0</td>\n",
       "      <td>F</td>\n",
       "      <td>2017</td>\n",
       "      <td>289000.0</td>\n",
       "      <td>11500.0</td>\n",
       "      <td>False</td>\n",
       "      <td>NaN</td>\n",
       "      <td>1461000.0</td>\n",
       "      <td>NaN</td>\n",
       "    </tr>\n",
       "    <tr>\n",
       "      <th>3</th>\n",
       "      <td>27.0</td>\n",
       "      <td>M</td>\n",
       "      <td>2019</td>\n",
       "      <td>410000.0</td>\n",
       "      <td>16200.0</td>\n",
       "      <td>False</td>\n",
       "      <td>NaN</td>\n",
       "      <td>2471000.0</td>\n",
       "      <td>NaN</td>\n",
       "    </tr>\n",
       "    <tr>\n",
       "      <th>4</th>\n",
       "      <td>26.0</td>\n",
       "      <td>F</td>\n",
       "      <td>2016</td>\n",
       "      <td>114000.0</td>\n",
       "      <td>4300.0</td>\n",
       "      <td>True</td>\n",
       "      <td>0.0</td>\n",
       "      <td>689000.0</td>\n",
       "      <td>NaN</td>\n",
       "    </tr>\n",
       "    <tr>\n",
       "      <th>...</th>\n",
       "      <td>...</td>\n",
       "      <td>...</td>\n",
       "      <td>...</td>\n",
       "      <td>...</td>\n",
       "      <td>...</td>\n",
       "      <td>...</td>\n",
       "      <td>...</td>\n",
       "      <td>...</td>\n",
       "      <td>...</td>\n",
       "    </tr>\n",
       "    <tr>\n",
       "      <th>99995</th>\n",
       "      <td>27.0</td>\n",
       "      <td>F</td>\n",
       "      <td>2019</td>\n",
       "      <td>301000.0</td>\n",
       "      <td>11900.0</td>\n",
       "      <td>True</td>\n",
       "      <td>NaN</td>\n",
       "      <td>NaN</td>\n",
       "      <td>680000.0</td>\n",
       "    </tr>\n",
       "    <tr>\n",
       "      <th>99996</th>\n",
       "      <td>62.0</td>\n",
       "      <td>F</td>\n",
       "      <td>2019</td>\n",
       "      <td>77000.0</td>\n",
       "      <td>1300.0</td>\n",
       "      <td>True</td>\n",
       "      <td>NaN</td>\n",
       "      <td>463000.0</td>\n",
       "      <td>NaN</td>\n",
       "    </tr>\n",
       "    <tr>\n",
       "      <th>99997</th>\n",
       "      <td>24.0</td>\n",
       "      <td>M</td>\n",
       "      <td>2020</td>\n",
       "      <td>9000.0</td>\n",
       "      <td>400.0</td>\n",
       "      <td>False</td>\n",
       "      <td>7923000.0</td>\n",
       "      <td>54000.0</td>\n",
       "      <td>NaN</td>\n",
       "    </tr>\n",
       "    <tr>\n",
       "      <th>99998</th>\n",
       "      <td>24.0</td>\n",
       "      <td>M</td>\n",
       "      <td>2019</td>\n",
       "      <td>34000.0</td>\n",
       "      <td>400.0</td>\n",
       "      <td>True</td>\n",
       "      <td>NaN</td>\n",
       "      <td>204000.0</td>\n",
       "      <td>NaN</td>\n",
       "    </tr>\n",
       "    <tr>\n",
       "      <th>99999</th>\n",
       "      <td>23.0</td>\n",
       "      <td>F</td>\n",
       "      <td>2019</td>\n",
       "      <td>34000.0</td>\n",
       "      <td>400.0</td>\n",
       "      <td>True</td>\n",
       "      <td>7344000.0</td>\n",
       "      <td>205000.0</td>\n",
       "      <td>NaN</td>\n",
       "    </tr>\n",
       "  </tbody>\n",
       "</table>\n",
       "<p>100000 rows × 9 columns</p>\n",
       "</div>"
      ],
      "text/plain": [
       "        age gender  year    refund      fee  has_paid   income_근로  income_사업  \\\n",
       "0      27.0      F  2019    5000.0    400.0     False  10001000.0    61000.0   \n",
       "1      34.0      M  2018  100000.0   1700.0      True  18092000.0        NaN   \n",
       "2      28.0      F  2017  289000.0  11500.0     False         NaN  1461000.0   \n",
       "3      27.0      M  2019  410000.0  16200.0     False         NaN  2471000.0   \n",
       "4      26.0      F  2016  114000.0   4300.0      True         0.0   689000.0   \n",
       "...     ...    ...   ...       ...      ...       ...         ...        ...   \n",
       "99995  27.0      F  2019  301000.0  11900.0      True         NaN        NaN   \n",
       "99996  62.0      F  2019   77000.0   1300.0      True         NaN   463000.0   \n",
       "99997  24.0      M  2020    9000.0    400.0     False   7923000.0    54000.0   \n",
       "99998  24.0      M  2019   34000.0    400.0      True         NaN   204000.0   \n",
       "99999  23.0      F  2019   34000.0    400.0      True   7344000.0   205000.0   \n",
       "\n",
       "       income_기타  \n",
       "0            NaN  \n",
       "1      1815000.0  \n",
       "2            NaN  \n",
       "3            NaN  \n",
       "4            NaN  \n",
       "...          ...  \n",
       "99995   680000.0  \n",
       "99996        NaN  \n",
       "99997        NaN  \n",
       "99998        NaN  \n",
       "99999        NaN  \n",
       "\n",
       "[100000 rows x 9 columns]"
      ]
     },
     "execution_count": 2,
     "metadata": {},
     "output_type": "execute_result"
    }
   ],
   "source": [
    "file_path = \"./data/Jobis_3o3.csv\"\n",
    "df = pd.read_csv(file_path)\n",
    "df"
   ]
  },
  {
   "cell_type": "code",
   "execution_count": 3,
   "id": "2481fef5",
   "metadata": {},
   "outputs": [
    {
     "data": {
      "text/plain": [
       "(100000, 9)"
      ]
     },
     "execution_count": 3,
     "metadata": {},
     "output_type": "execute_result"
    }
   ],
   "source": [
    "df.shape"
   ]
  },
  {
   "cell_type": "code",
   "execution_count": 4,
   "id": "d10c4caf",
   "metadata": {},
   "outputs": [
    {
     "name": "stdout",
     "output_type": "stream",
     "text": [
      "<class 'pandas.core.frame.DataFrame'>\n",
      "RangeIndex: 100000 entries, 0 to 99999\n",
      "Data columns (total 9 columns):\n",
      " #   Column     Non-Null Count   Dtype  \n",
      "---  ------     --------------   -----  \n",
      " 0   age        100000 non-null  float64\n",
      " 1   gender     100000 non-null  object \n",
      " 2   year       100000 non-null  int64  \n",
      " 3   refund     100000 non-null  float64\n",
      " 4   fee        100000 non-null  float64\n",
      " 5   has_paid   100000 non-null  bool   \n",
      " 6   income_근로  40791 non-null   float64\n",
      " 7   income_사업  78227 non-null   float64\n",
      " 8   income_기타  25260 non-null   float64\n",
      "dtypes: bool(1), float64(6), int64(1), object(1)\n",
      "memory usage: 6.2+ MB\n"
     ]
    }
   ],
   "source": [
    "df.info()"
   ]
  },
  {
   "cell_type": "markdown",
   "id": "47fbfff7",
   "metadata": {},
   "source": [
    "> => \"income_근로\", \"income_사업\", \"income_기타\" Feature에 null값 존재 확인"
   ]
  },
  {
   "cell_type": "markdown",
   "id": "85e25f09",
   "metadata": {},
   "source": [
    "### income 관련 Feature에 존재하는 null값이 어떤 케이스인지 확인"
   ]
  },
  {
   "cell_type": "code",
   "execution_count": 5,
   "id": "e73d6156",
   "metadata": {},
   "outputs": [
    {
     "data": {
      "text/html": [
       "<div>\n",
       "<style scoped>\n",
       "    .dataframe tbody tr th:only-of-type {\n",
       "        vertical-align: middle;\n",
       "    }\n",
       "\n",
       "    .dataframe tbody tr th {\n",
       "        vertical-align: top;\n",
       "    }\n",
       "\n",
       "    .dataframe thead th {\n",
       "        text-align: right;\n",
       "    }\n",
       "</style>\n",
       "<table border=\"1\" class=\"dataframe\">\n",
       "  <thead>\n",
       "    <tr style=\"text-align: right;\">\n",
       "      <th></th>\n",
       "      <th>age</th>\n",
       "      <th>gender</th>\n",
       "      <th>year</th>\n",
       "      <th>refund</th>\n",
       "      <th>fee</th>\n",
       "      <th>has_paid</th>\n",
       "      <th>income_근로</th>\n",
       "      <th>income_사업</th>\n",
       "      <th>income_기타</th>\n",
       "    </tr>\n",
       "  </thead>\n",
       "  <tbody>\n",
       "    <tr>\n",
       "      <th>4</th>\n",
       "      <td>26.0</td>\n",
       "      <td>F</td>\n",
       "      <td>2016</td>\n",
       "      <td>114000.0</td>\n",
       "      <td>4300.0</td>\n",
       "      <td>True</td>\n",
       "      <td>0.0</td>\n",
       "      <td>689000.0</td>\n",
       "      <td>NaN</td>\n",
       "    </tr>\n",
       "    <tr>\n",
       "      <th>114</th>\n",
       "      <td>25.0</td>\n",
       "      <td>M</td>\n",
       "      <td>2016</td>\n",
       "      <td>282000.0</td>\n",
       "      <td>12300.0</td>\n",
       "      <td>True</td>\n",
       "      <td>0.0</td>\n",
       "      <td>1698000.0</td>\n",
       "      <td>170000.0</td>\n",
       "    </tr>\n",
       "    <tr>\n",
       "      <th>215</th>\n",
       "      <td>24.0</td>\n",
       "      <td>F</td>\n",
       "      <td>2017</td>\n",
       "      <td>130000.0</td>\n",
       "      <td>5100.0</td>\n",
       "      <td>False</td>\n",
       "      <td>0.0</td>\n",
       "      <td>784000.0</td>\n",
       "      <td>NaN</td>\n",
       "    </tr>\n",
       "    <tr>\n",
       "      <th>327</th>\n",
       "      <td>33.0</td>\n",
       "      <td>F</td>\n",
       "      <td>2016</td>\n",
       "      <td>673000.0</td>\n",
       "      <td>12800.0</td>\n",
       "      <td>True</td>\n",
       "      <td>0.0</td>\n",
       "      <td>5169000.0</td>\n",
       "      <td>NaN</td>\n",
       "    </tr>\n",
       "    <tr>\n",
       "      <th>347</th>\n",
       "      <td>24.0</td>\n",
       "      <td>F</td>\n",
       "      <td>2018</td>\n",
       "      <td>123000.0</td>\n",
       "      <td>4700.0</td>\n",
       "      <td>True</td>\n",
       "      <td>0.0</td>\n",
       "      <td>740000.0</td>\n",
       "      <td>NaN</td>\n",
       "    </tr>\n",
       "    <tr>\n",
       "      <th>513</th>\n",
       "      <td>24.0</td>\n",
       "      <td>F</td>\n",
       "      <td>2017</td>\n",
       "      <td>28000.0</td>\n",
       "      <td>400.0</td>\n",
       "      <td>True</td>\n",
       "      <td>0.0</td>\n",
       "      <td>170000.0</td>\n",
       "      <td>NaN</td>\n",
       "    </tr>\n",
       "    <tr>\n",
       "      <th>653</th>\n",
       "      <td>26.0</td>\n",
       "      <td>M</td>\n",
       "      <td>2017</td>\n",
       "      <td>99000.0</td>\n",
       "      <td>6400.0</td>\n",
       "      <td>True</td>\n",
       "      <td>0.0</td>\n",
       "      <td>599000.0</td>\n",
       "      <td>318000.0</td>\n",
       "    </tr>\n",
       "    <tr>\n",
       "      <th>670</th>\n",
       "      <td>21.0</td>\n",
       "      <td>M</td>\n",
       "      <td>2017</td>\n",
       "      <td>5000.0</td>\n",
       "      <td>400.0</td>\n",
       "      <td>True</td>\n",
       "      <td>NaN</td>\n",
       "      <td>0.0</td>\n",
       "      <td>NaN</td>\n",
       "    </tr>\n",
       "    <tr>\n",
       "      <th>671</th>\n",
       "      <td>29.0</td>\n",
       "      <td>F</td>\n",
       "      <td>2016</td>\n",
       "      <td>127000.0</td>\n",
       "      <td>3400.0</td>\n",
       "      <td>True</td>\n",
       "      <td>0.0</td>\n",
       "      <td>767000.0</td>\n",
       "      <td>NaN</td>\n",
       "    </tr>\n",
       "    <tr>\n",
       "      <th>803</th>\n",
       "      <td>25.0</td>\n",
       "      <td>F</td>\n",
       "      <td>2017</td>\n",
       "      <td>168000.0</td>\n",
       "      <td>6400.0</td>\n",
       "      <td>True</td>\n",
       "      <td>0.0</td>\n",
       "      <td>1014000.0</td>\n",
       "      <td>34000.0</td>\n",
       "    </tr>\n",
       "    <tr>\n",
       "      <th>944</th>\n",
       "      <td>25.0</td>\n",
       "      <td>M</td>\n",
       "      <td>2017</td>\n",
       "      <td>4000.0</td>\n",
       "      <td>400.0</td>\n",
       "      <td>True</td>\n",
       "      <td>0.0</td>\n",
       "      <td>22000.0</td>\n",
       "      <td>NaN</td>\n",
       "    </tr>\n",
       "    <tr>\n",
       "      <th>1035</th>\n",
       "      <td>35.0</td>\n",
       "      <td>M</td>\n",
       "      <td>2016</td>\n",
       "      <td>143000.0</td>\n",
       "      <td>4300.0</td>\n",
       "      <td>True</td>\n",
       "      <td>0.0</td>\n",
       "      <td>859000.0</td>\n",
       "      <td>NaN</td>\n",
       "    </tr>\n",
       "    <tr>\n",
       "      <th>1078</th>\n",
       "      <td>26.0</td>\n",
       "      <td>M</td>\n",
       "      <td>2018</td>\n",
       "      <td>113000.0</td>\n",
       "      <td>4300.0</td>\n",
       "      <td>True</td>\n",
       "      <td>NaN</td>\n",
       "      <td>0.0</td>\n",
       "      <td>510000.0</td>\n",
       "    </tr>\n",
       "    <tr>\n",
       "      <th>1144</th>\n",
       "      <td>26.0</td>\n",
       "      <td>M</td>\n",
       "      <td>2019</td>\n",
       "      <td>24000.0</td>\n",
       "      <td>400.0</td>\n",
       "      <td>True</td>\n",
       "      <td>0.0</td>\n",
       "      <td>147000.0</td>\n",
       "      <td>NaN</td>\n",
       "    </tr>\n",
       "    <tr>\n",
       "      <th>1194</th>\n",
       "      <td>27.0</td>\n",
       "      <td>M</td>\n",
       "      <td>2017</td>\n",
       "      <td>1350000.0</td>\n",
       "      <td>42500.0</td>\n",
       "      <td>True</td>\n",
       "      <td>0.0</td>\n",
       "      <td>14031000.0</td>\n",
       "      <td>185000.0</td>\n",
       "    </tr>\n",
       "    <tr>\n",
       "      <th>1247</th>\n",
       "      <td>23.0</td>\n",
       "      <td>F</td>\n",
       "      <td>2018</td>\n",
       "      <td>637000.0</td>\n",
       "      <td>25100.0</td>\n",
       "      <td>False</td>\n",
       "      <td>0.0</td>\n",
       "      <td>5561000.0</td>\n",
       "      <td>NaN</td>\n",
       "    </tr>\n",
       "    <tr>\n",
       "      <th>1281</th>\n",
       "      <td>26.0</td>\n",
       "      <td>M</td>\n",
       "      <td>2020</td>\n",
       "      <td>11000.0</td>\n",
       "      <td>400.0</td>\n",
       "      <td>False</td>\n",
       "      <td>NaN</td>\n",
       "      <td>68000.0</td>\n",
       "      <td>0.0</td>\n",
       "    </tr>\n",
       "    <tr>\n",
       "      <th>1283</th>\n",
       "      <td>23.0</td>\n",
       "      <td>F</td>\n",
       "      <td>2017</td>\n",
       "      <td>66000.0</td>\n",
       "      <td>1300.0</td>\n",
       "      <td>True</td>\n",
       "      <td>0.0</td>\n",
       "      <td>NaN</td>\n",
       "      <td>345000.0</td>\n",
       "    </tr>\n",
       "    <tr>\n",
       "      <th>1322</th>\n",
       "      <td>26.0</td>\n",
       "      <td>M</td>\n",
       "      <td>2020</td>\n",
       "      <td>31000.0</td>\n",
       "      <td>400.0</td>\n",
       "      <td>False</td>\n",
       "      <td>0.0</td>\n",
       "      <td>190000.0</td>\n",
       "      <td>13000.0</td>\n",
       "    </tr>\n",
       "    <tr>\n",
       "      <th>1419</th>\n",
       "      <td>23.0</td>\n",
       "      <td>F</td>\n",
       "      <td>2018</td>\n",
       "      <td>107000.0</td>\n",
       "      <td>4300.0</td>\n",
       "      <td>False</td>\n",
       "      <td>0.0</td>\n",
       "      <td>644000.0</td>\n",
       "      <td>270000.0</td>\n",
       "    </tr>\n",
       "  </tbody>\n",
       "</table>\n",
       "</div>"
      ],
      "text/plain": [
       "       age gender  year     refund      fee  has_paid  income_근로   income_사업  \\\n",
       "4     26.0      F  2016   114000.0   4300.0      True        0.0    689000.0   \n",
       "114   25.0      M  2016   282000.0  12300.0      True        0.0   1698000.0   \n",
       "215   24.0      F  2017   130000.0   5100.0     False        0.0    784000.0   \n",
       "327   33.0      F  2016   673000.0  12800.0      True        0.0   5169000.0   \n",
       "347   24.0      F  2018   123000.0   4700.0      True        0.0    740000.0   \n",
       "513   24.0      F  2017    28000.0    400.0      True        0.0    170000.0   \n",
       "653   26.0      M  2017    99000.0   6400.0      True        0.0    599000.0   \n",
       "670   21.0      M  2017     5000.0    400.0      True        NaN         0.0   \n",
       "671   29.0      F  2016   127000.0   3400.0      True        0.0    767000.0   \n",
       "803   25.0      F  2017   168000.0   6400.0      True        0.0   1014000.0   \n",
       "944   25.0      M  2017     4000.0    400.0      True        0.0     22000.0   \n",
       "1035  35.0      M  2016   143000.0   4300.0      True        0.0    859000.0   \n",
       "1078  26.0      M  2018   113000.0   4300.0      True        NaN         0.0   \n",
       "1144  26.0      M  2019    24000.0    400.0      True        0.0    147000.0   \n",
       "1194  27.0      M  2017  1350000.0  42500.0      True        0.0  14031000.0   \n",
       "1247  23.0      F  2018   637000.0  25100.0     False        0.0   5561000.0   \n",
       "1281  26.0      M  2020    11000.0    400.0     False        NaN     68000.0   \n",
       "1283  23.0      F  2017    66000.0   1300.0      True        0.0         NaN   \n",
       "1322  26.0      M  2020    31000.0    400.0     False        0.0    190000.0   \n",
       "1419  23.0      F  2018   107000.0   4300.0     False        0.0    644000.0   \n",
       "\n",
       "      income_기타  \n",
       "4           NaN  \n",
       "114    170000.0  \n",
       "215         NaN  \n",
       "327         NaN  \n",
       "347         NaN  \n",
       "513         NaN  \n",
       "653    318000.0  \n",
       "670         NaN  \n",
       "671         NaN  \n",
       "803     34000.0  \n",
       "944         NaN  \n",
       "1035        NaN  \n",
       "1078   510000.0  \n",
       "1144        NaN  \n",
       "1194   185000.0  \n",
       "1247        NaN  \n",
       "1281        0.0  \n",
       "1283   345000.0  \n",
       "1322    13000.0  \n",
       "1419   270000.0  "
      ]
     },
     "execution_count": 5,
     "metadata": {},
     "output_type": "execute_result"
    }
   ],
   "source": [
    "df.query(\"income_근로 == 0 or income_사업 == 0 or income_기타 == 0\").head(20)"
   ]
  },
  {
   "cell_type": "markdown",
   "id": "7945aed4",
   "metadata": {},
   "source": [
    "> => income 관련 각 Feature별 '0.0'이 입력된 경우와 'NaN'이 입력된 경우가 혼재함 => 두 가지 모두 해당 소득금액이 없는 경우인 것으로 보임 => 2가지 케이스를 굳이 구분할 필요는 없다고 판단되어 '0.0'으로 동일하게 입력하고자 함"
   ]
  },
  {
   "cell_type": "markdown",
   "id": "429d566c",
   "metadata": {},
   "source": [
    "### income 관련 Feature별 존재하는 null값 '0.0'으로 채워주기 => \"df_v1\""
   ]
  },
  {
   "cell_type": "code",
   "execution_count": 6,
   "id": "f9aa0039",
   "metadata": {},
   "outputs": [
    {
     "data": {
      "text/html": [
       "<div>\n",
       "<style scoped>\n",
       "    .dataframe tbody tr th:only-of-type {\n",
       "        vertical-align: middle;\n",
       "    }\n",
       "\n",
       "    .dataframe tbody tr th {\n",
       "        vertical-align: top;\n",
       "    }\n",
       "\n",
       "    .dataframe thead th {\n",
       "        text-align: right;\n",
       "    }\n",
       "</style>\n",
       "<table border=\"1\" class=\"dataframe\">\n",
       "  <thead>\n",
       "    <tr style=\"text-align: right;\">\n",
       "      <th></th>\n",
       "      <th>age</th>\n",
       "      <th>gender</th>\n",
       "      <th>year</th>\n",
       "      <th>refund</th>\n",
       "      <th>fee</th>\n",
       "      <th>has_paid</th>\n",
       "      <th>income_근로</th>\n",
       "      <th>income_사업</th>\n",
       "      <th>income_기타</th>\n",
       "    </tr>\n",
       "  </thead>\n",
       "  <tbody>\n",
       "    <tr>\n",
       "      <th>0</th>\n",
       "      <td>27.0</td>\n",
       "      <td>F</td>\n",
       "      <td>2019</td>\n",
       "      <td>5000.0</td>\n",
       "      <td>400.0</td>\n",
       "      <td>False</td>\n",
       "      <td>10001000.0</td>\n",
       "      <td>61000.0</td>\n",
       "      <td>0.0</td>\n",
       "    </tr>\n",
       "    <tr>\n",
       "      <th>1</th>\n",
       "      <td>34.0</td>\n",
       "      <td>M</td>\n",
       "      <td>2018</td>\n",
       "      <td>100000.0</td>\n",
       "      <td>1700.0</td>\n",
       "      <td>True</td>\n",
       "      <td>18092000.0</td>\n",
       "      <td>0.0</td>\n",
       "      <td>1815000.0</td>\n",
       "    </tr>\n",
       "    <tr>\n",
       "      <th>2</th>\n",
       "      <td>28.0</td>\n",
       "      <td>F</td>\n",
       "      <td>2017</td>\n",
       "      <td>289000.0</td>\n",
       "      <td>11500.0</td>\n",
       "      <td>False</td>\n",
       "      <td>0.0</td>\n",
       "      <td>1461000.0</td>\n",
       "      <td>0.0</td>\n",
       "    </tr>\n",
       "    <tr>\n",
       "      <th>3</th>\n",
       "      <td>27.0</td>\n",
       "      <td>M</td>\n",
       "      <td>2019</td>\n",
       "      <td>410000.0</td>\n",
       "      <td>16200.0</td>\n",
       "      <td>False</td>\n",
       "      <td>0.0</td>\n",
       "      <td>2471000.0</td>\n",
       "      <td>0.0</td>\n",
       "    </tr>\n",
       "    <tr>\n",
       "      <th>4</th>\n",
       "      <td>26.0</td>\n",
       "      <td>F</td>\n",
       "      <td>2016</td>\n",
       "      <td>114000.0</td>\n",
       "      <td>4300.0</td>\n",
       "      <td>True</td>\n",
       "      <td>0.0</td>\n",
       "      <td>689000.0</td>\n",
       "      <td>0.0</td>\n",
       "    </tr>\n",
       "    <tr>\n",
       "      <th>...</th>\n",
       "      <td>...</td>\n",
       "      <td>...</td>\n",
       "      <td>...</td>\n",
       "      <td>...</td>\n",
       "      <td>...</td>\n",
       "      <td>...</td>\n",
       "      <td>...</td>\n",
       "      <td>...</td>\n",
       "      <td>...</td>\n",
       "    </tr>\n",
       "    <tr>\n",
       "      <th>99995</th>\n",
       "      <td>27.0</td>\n",
       "      <td>F</td>\n",
       "      <td>2019</td>\n",
       "      <td>301000.0</td>\n",
       "      <td>11900.0</td>\n",
       "      <td>True</td>\n",
       "      <td>0.0</td>\n",
       "      <td>0.0</td>\n",
       "      <td>680000.0</td>\n",
       "    </tr>\n",
       "    <tr>\n",
       "      <th>99996</th>\n",
       "      <td>62.0</td>\n",
       "      <td>F</td>\n",
       "      <td>2019</td>\n",
       "      <td>77000.0</td>\n",
       "      <td>1300.0</td>\n",
       "      <td>True</td>\n",
       "      <td>0.0</td>\n",
       "      <td>463000.0</td>\n",
       "      <td>0.0</td>\n",
       "    </tr>\n",
       "    <tr>\n",
       "      <th>99997</th>\n",
       "      <td>24.0</td>\n",
       "      <td>M</td>\n",
       "      <td>2020</td>\n",
       "      <td>9000.0</td>\n",
       "      <td>400.0</td>\n",
       "      <td>False</td>\n",
       "      <td>7923000.0</td>\n",
       "      <td>54000.0</td>\n",
       "      <td>0.0</td>\n",
       "    </tr>\n",
       "    <tr>\n",
       "      <th>99998</th>\n",
       "      <td>24.0</td>\n",
       "      <td>M</td>\n",
       "      <td>2019</td>\n",
       "      <td>34000.0</td>\n",
       "      <td>400.0</td>\n",
       "      <td>True</td>\n",
       "      <td>0.0</td>\n",
       "      <td>204000.0</td>\n",
       "      <td>0.0</td>\n",
       "    </tr>\n",
       "    <tr>\n",
       "      <th>99999</th>\n",
       "      <td>23.0</td>\n",
       "      <td>F</td>\n",
       "      <td>2019</td>\n",
       "      <td>34000.0</td>\n",
       "      <td>400.0</td>\n",
       "      <td>True</td>\n",
       "      <td>7344000.0</td>\n",
       "      <td>205000.0</td>\n",
       "      <td>0.0</td>\n",
       "    </tr>\n",
       "  </tbody>\n",
       "</table>\n",
       "<p>100000 rows × 9 columns</p>\n",
       "</div>"
      ],
      "text/plain": [
       "        age gender  year    refund      fee  has_paid   income_근로  income_사업  \\\n",
       "0      27.0      F  2019    5000.0    400.0     False  10001000.0    61000.0   \n",
       "1      34.0      M  2018  100000.0   1700.0      True  18092000.0        0.0   \n",
       "2      28.0      F  2017  289000.0  11500.0     False         0.0  1461000.0   \n",
       "3      27.0      M  2019  410000.0  16200.0     False         0.0  2471000.0   \n",
       "4      26.0      F  2016  114000.0   4300.0      True         0.0   689000.0   \n",
       "...     ...    ...   ...       ...      ...       ...         ...        ...   \n",
       "99995  27.0      F  2019  301000.0  11900.0      True         0.0        0.0   \n",
       "99996  62.0      F  2019   77000.0   1300.0      True         0.0   463000.0   \n",
       "99997  24.0      M  2020    9000.0    400.0     False   7923000.0    54000.0   \n",
       "99998  24.0      M  2019   34000.0    400.0      True         0.0   204000.0   \n",
       "99999  23.0      F  2019   34000.0    400.0      True   7344000.0   205000.0   \n",
       "\n",
       "       income_기타  \n",
       "0            0.0  \n",
       "1      1815000.0  \n",
       "2            0.0  \n",
       "3            0.0  \n",
       "4            0.0  \n",
       "...          ...  \n",
       "99995   680000.0  \n",
       "99996        0.0  \n",
       "99997        0.0  \n",
       "99998        0.0  \n",
       "99999        0.0  \n",
       "\n",
       "[100000 rows x 9 columns]"
      ]
     },
     "execution_count": 6,
     "metadata": {},
     "output_type": "execute_result"
    }
   ],
   "source": [
    "df_v1 = df.fillna(0.0)\n",
    "df_v1"
   ]
  },
  {
   "cell_type": "markdown",
   "id": "e39710fd",
   "metadata": {},
   "source": [
    "# 각 Feature별 검토"
   ]
  },
  {
   "cell_type": "markdown",
   "id": "fa71fb03",
   "metadata": {},
   "source": [
    "## 1. age(고객의 만 나이)"
   ]
  },
  {
   "cell_type": "code",
   "execution_count": 7,
   "id": "e060077e",
   "metadata": {},
   "outputs": [
    {
     "data": {
      "text/plain": [
       "count    100000.00000\n",
       "mean         29.00096\n",
       "std           7.76819\n",
       "min          15.00000\n",
       "25%          24.00000\n",
       "50%          27.00000\n",
       "75%          31.00000\n",
       "max          81.00000\n",
       "Name: age, dtype: float64"
      ]
     },
     "execution_count": 7,
     "metadata": {},
     "output_type": "execute_result"
    }
   ],
   "source": [
    "df_v1[\"age\"].describe()"
   ]
  },
  {
   "cell_type": "code",
   "execution_count": 8,
   "id": "0de5c159",
   "metadata": {},
   "outputs": [
    {
     "data": {
      "text/plain": [
       "65"
      ]
     },
     "execution_count": 8,
     "metadata": {},
     "output_type": "execute_result"
    }
   ],
   "source": [
    "len(df_v1[\"age\"].unique())  # 고유한 나이대 총 개수 확인"
   ]
  },
  {
   "cell_type": "code",
   "execution_count": 9,
   "id": "f5f9c90e",
   "metadata": {},
   "outputs": [
    {
     "data": {
      "text/plain": [
       "(array([1.100e+01, 5.400e+01, 2.730e+02, 9.410e+02, 2.312e+03, 3.702e+03,\n",
       "        5.443e+03, 7.336e+03, 8.713e+03, 9.417e+03, 8.632e+03, 8.126e+03,\n",
       "        7.209e+03, 6.087e+03, 4.184e+03, 3.583e+03, 3.098e+03, 2.340e+03,\n",
       "        2.002e+03, 1.767e+03, 1.436e+03, 1.445e+03, 1.195e+03, 1.132e+03,\n",
       "        1.031e+03, 8.170e+02, 6.970e+02, 6.380e+02, 4.430e+02, 4.530e+02,\n",
       "        3.980e+02, 4.570e+02, 5.180e+02, 4.550e+02, 4.120e+02, 4.370e+02,\n",
       "        4.600e+02, 4.210e+02, 3.000e+02, 2.310e+02, 2.830e+02, 2.150e+02,\n",
       "        2.090e+02, 1.550e+02, 1.280e+02, 9.100e+01, 6.800e+01, 4.000e+01,\n",
       "        6.800e+01, 2.600e+01, 2.300e+01, 1.700e+01, 1.200e+01, 1.400e+01,\n",
       "        1.300e+01, 5.000e+00, 4.000e+00, 1.000e+00, 5.000e+00, 0.000e+00,\n",
       "        7.000e+00, 2.000e+00, 4.000e+00, 1.000e+00, 3.000e+00]),\n",
       " array([15.        , 16.01538462, 17.03076923, 18.04615385, 19.06153846,\n",
       "        20.07692308, 21.09230769, 22.10769231, 23.12307692, 24.13846154,\n",
       "        25.15384615, 26.16923077, 27.18461538, 28.2       , 29.21538462,\n",
       "        30.23076923, 31.24615385, 32.26153846, 33.27692308, 34.29230769,\n",
       "        35.30769231, 36.32307692, 37.33846154, 38.35384615, 39.36923077,\n",
       "        40.38461538, 41.4       , 42.41538462, 43.43076923, 44.44615385,\n",
       "        45.46153846, 46.47692308, 47.49230769, 48.50769231, 49.52307692,\n",
       "        50.53846154, 51.55384615, 52.56923077, 53.58461538, 54.6       ,\n",
       "        55.61538462, 56.63076923, 57.64615385, 58.66153846, 59.67692308,\n",
       "        60.69230769, 61.70769231, 62.72307692, 63.73846154, 64.75384615,\n",
       "        65.76923077, 66.78461538, 67.8       , 68.81538462, 69.83076923,\n",
       "        70.84615385, 71.86153846, 72.87692308, 73.89230769, 74.90769231,\n",
       "        75.92307692, 76.93846154, 77.95384615, 78.96923077, 79.98461538,\n",
       "        81.        ]),\n",
       " <BarContainer object of 65 artists>)"
      ]
     },
     "execution_count": 9,
     "metadata": {},
     "output_type": "execute_result"
    },
    {
     "data": {
      "image/png": "[encoded data removed]",
      "text/plain": [
       "<Figure size 432x288 with 1 Axes>"
      ]
     },
     "metadata": {
      "needs_background": "light"
     },
     "output_type": "display_data"
    }
   ],
   "source": [
    "plt.hist(df_v1[\"age\"], bins=65)  # 나이대별 분포 시각화"
   ]
  },
  {
   "cell_type": "code",
   "execution_count": 10,
   "id": "f99fb22e",
   "metadata": {},
   "outputs": [
    {
     "data": {
      "text/plain": [
       "25.0    9417\n",
       "24.0    8713\n",
       "26.0    8632\n",
       "27.0    8126\n",
       "23.0    7336\n",
       "        ... \n",
       "81.0       3\n",
       "77.0       2\n",
       "15.0       1\n",
       "79.0       1\n",
       "73.0       1\n",
       "Name: age, Length: 65, dtype: int64"
      ]
     },
     "execution_count": 10,
     "metadata": {},
     "output_type": "execute_result"
    }
   ],
   "source": [
    "df_v1[\"age\"].value_counts()  # 나이대별 존재하는 데이터 개수 확인"
   ]
  },
  {
   "cell_type": "markdown",
   "id": "2a146068",
   "metadata": {},
   "source": [
    "### => 평균 29세로 15세~81세의 분포를 보임. 20대 중후반의 데이터가 가장 많은 것을 확인"
   ]
  },
  {
   "cell_type": "markdown",
   "id": "fe0bb9f7",
   "metadata": {},
   "source": [
    "## 2. gender(고객의 성별)"
   ]
  },
  {
   "cell_type": "code",
   "execution_count": 11,
   "id": "cf7d2f63",
   "metadata": {},
   "outputs": [
    {
     "data": {
      "text/plain": [
       "M    50477\n",
       "F    49501\n",
       "-       22\n",
       "Name: gender, dtype: int64"
      ]
     },
     "execution_count": 11,
     "metadata": {},
     "output_type": "execute_result"
    }
   ],
   "source": [
    "df_v1[\"gender\"].value_counts()  # 성별에 따른 개수 확인"
   ]
  },
  {
   "cell_type": "code",
   "execution_count": 12,
   "id": "b90cc377",
   "metadata": {},
   "outputs": [
    {
     "data": {
      "text/html": [
       "<div>\n",
       "<style scoped>\n",
       "    .dataframe tbody tr th:only-of-type {\n",
       "        vertical-align: middle;\n",
       "    }\n",
       "\n",
       "    .dataframe tbody tr th {\n",
       "        vertical-align: top;\n",
       "    }\n",
       "\n",
       "    .dataframe thead th {\n",
       "        text-align: right;\n",
       "    }\n",
       "</style>\n",
       "<table border=\"1\" class=\"dataframe\">\n",
       "  <thead>\n",
       "    <tr style=\"text-align: right;\">\n",
       "      <th></th>\n",
       "      <th>age</th>\n",
       "      <th>gender</th>\n",
       "      <th>year</th>\n",
       "      <th>refund</th>\n",
       "      <th>fee</th>\n",
       "      <th>has_paid</th>\n",
       "      <th>income_근로</th>\n",
       "      <th>income_사업</th>\n",
       "      <th>income_기타</th>\n",
       "    </tr>\n",
       "  </thead>\n",
       "  <tbody>\n",
       "    <tr>\n",
       "      <th>2613</th>\n",
       "      <td>27.0</td>\n",
       "      <td>-</td>\n",
       "      <td>2016</td>\n",
       "      <td>559000.0</td>\n",
       "      <td>12800.0</td>\n",
       "      <td>False</td>\n",
       "      <td>0.0</td>\n",
       "      <td>0.0</td>\n",
       "      <td>0.0</td>\n",
       "    </tr>\n",
       "    <tr>\n",
       "      <th>4101</th>\n",
       "      <td>27.0</td>\n",
       "      <td>-</td>\n",
       "      <td>2017</td>\n",
       "      <td>209000.0</td>\n",
       "      <td>4300.0</td>\n",
       "      <td>False</td>\n",
       "      <td>0.0</td>\n",
       "      <td>0.0</td>\n",
       "      <td>0.0</td>\n",
       "    </tr>\n",
       "    <tr>\n",
       "      <th>9574</th>\n",
       "      <td>42.0</td>\n",
       "      <td>-</td>\n",
       "      <td>2015</td>\n",
       "      <td>175000.0</td>\n",
       "      <td>4300.0</td>\n",
       "      <td>False</td>\n",
       "      <td>0.0</td>\n",
       "      <td>0.0</td>\n",
       "      <td>0.0</td>\n",
       "    </tr>\n",
       "    <tr>\n",
       "      <th>20536</th>\n",
       "      <td>26.0</td>\n",
       "      <td>-</td>\n",
       "      <td>2017</td>\n",
       "      <td>845000.0</td>\n",
       "      <td>25100.0</td>\n",
       "      <td>False</td>\n",
       "      <td>0.0</td>\n",
       "      <td>0.0</td>\n",
       "      <td>0.0</td>\n",
       "    </tr>\n",
       "    <tr>\n",
       "      <th>28211</th>\n",
       "      <td>26.0</td>\n",
       "      <td>-</td>\n",
       "      <td>2016</td>\n",
       "      <td>650000.0</td>\n",
       "      <td>12800.0</td>\n",
       "      <td>False</td>\n",
       "      <td>0.0</td>\n",
       "      <td>0.0</td>\n",
       "      <td>0.0</td>\n",
       "    </tr>\n",
       "    <tr>\n",
       "      <th>36217</th>\n",
       "      <td>27.0</td>\n",
       "      <td>-</td>\n",
       "      <td>2018</td>\n",
       "      <td>124000.0</td>\n",
       "      <td>3400.0</td>\n",
       "      <td>False</td>\n",
       "      <td>0.0</td>\n",
       "      <td>0.0</td>\n",
       "      <td>0.0</td>\n",
       "    </tr>\n",
       "    <tr>\n",
       "      <th>37674</th>\n",
       "      <td>27.0</td>\n",
       "      <td>-</td>\n",
       "      <td>2015</td>\n",
       "      <td>252000.0</td>\n",
       "      <td>8500.0</td>\n",
       "      <td>False</td>\n",
       "      <td>0.0</td>\n",
       "      <td>0.0</td>\n",
       "      <td>0.0</td>\n",
       "    </tr>\n",
       "    <tr>\n",
       "      <th>38223</th>\n",
       "      <td>53.0</td>\n",
       "      <td>-</td>\n",
       "      <td>2015</td>\n",
       "      <td>6000.0</td>\n",
       "      <td>400.0</td>\n",
       "      <td>False</td>\n",
       "      <td>0.0</td>\n",
       "      <td>0.0</td>\n",
       "      <td>0.0</td>\n",
       "    </tr>\n",
       "    <tr>\n",
       "      <th>38441</th>\n",
       "      <td>23.0</td>\n",
       "      <td>-</td>\n",
       "      <td>2018</td>\n",
       "      <td>110000.0</td>\n",
       "      <td>3000.0</td>\n",
       "      <td>False</td>\n",
       "      <td>0.0</td>\n",
       "      <td>0.0</td>\n",
       "      <td>0.0</td>\n",
       "    </tr>\n",
       "    <tr>\n",
       "      <th>41454</th>\n",
       "      <td>41.0</td>\n",
       "      <td>-</td>\n",
       "      <td>2015</td>\n",
       "      <td>122000.0</td>\n",
       "      <td>4300.0</td>\n",
       "      <td>True</td>\n",
       "      <td>0.0</td>\n",
       "      <td>0.0</td>\n",
       "      <td>0.0</td>\n",
       "    </tr>\n",
       "    <tr>\n",
       "      <th>46337</th>\n",
       "      <td>27.0</td>\n",
       "      <td>-</td>\n",
       "      <td>2019</td>\n",
       "      <td>676000.0</td>\n",
       "      <td>42500.0</td>\n",
       "      <td>False</td>\n",
       "      <td>0.0</td>\n",
       "      <td>0.0</td>\n",
       "      <td>0.0</td>\n",
       "    </tr>\n",
       "    <tr>\n",
       "      <th>47966</th>\n",
       "      <td>41.0</td>\n",
       "      <td>-</td>\n",
       "      <td>2017</td>\n",
       "      <td>35000.0</td>\n",
       "      <td>400.0</td>\n",
       "      <td>True</td>\n",
       "      <td>0.0</td>\n",
       "      <td>0.0</td>\n",
       "      <td>0.0</td>\n",
       "    </tr>\n",
       "    <tr>\n",
       "      <th>52346</th>\n",
       "      <td>41.0</td>\n",
       "      <td>-</td>\n",
       "      <td>2019</td>\n",
       "      <td>345000.0</td>\n",
       "      <td>8500.0</td>\n",
       "      <td>False</td>\n",
       "      <td>0.0</td>\n",
       "      <td>0.0</td>\n",
       "      <td>0.0</td>\n",
       "    </tr>\n",
       "    <tr>\n",
       "      <th>53924</th>\n",
       "      <td>41.0</td>\n",
       "      <td>-</td>\n",
       "      <td>2016</td>\n",
       "      <td>179000.0</td>\n",
       "      <td>4300.0</td>\n",
       "      <td>True</td>\n",
       "      <td>0.0</td>\n",
       "      <td>0.0</td>\n",
       "      <td>0.0</td>\n",
       "    </tr>\n",
       "    <tr>\n",
       "      <th>57536</th>\n",
       "      <td>25.0</td>\n",
       "      <td>-</td>\n",
       "      <td>2015</td>\n",
       "      <td>126000.0</td>\n",
       "      <td>4300.0</td>\n",
       "      <td>False</td>\n",
       "      <td>0.0</td>\n",
       "      <td>0.0</td>\n",
       "      <td>0.0</td>\n",
       "    </tr>\n",
       "    <tr>\n",
       "      <th>60508</th>\n",
       "      <td>22.0</td>\n",
       "      <td>-</td>\n",
       "      <td>2018</td>\n",
       "      <td>33000.0</td>\n",
       "      <td>400.0</td>\n",
       "      <td>True</td>\n",
       "      <td>0.0</td>\n",
       "      <td>0.0</td>\n",
       "      <td>0.0</td>\n",
       "    </tr>\n",
       "    <tr>\n",
       "      <th>61782</th>\n",
       "      <td>29.0</td>\n",
       "      <td>-</td>\n",
       "      <td>2018</td>\n",
       "      <td>29000.0</td>\n",
       "      <td>400.0</td>\n",
       "      <td>False</td>\n",
       "      <td>0.0</td>\n",
       "      <td>0.0</td>\n",
       "      <td>0.0</td>\n",
       "    </tr>\n",
       "    <tr>\n",
       "      <th>63173</th>\n",
       "      <td>21.0</td>\n",
       "      <td>-</td>\n",
       "      <td>2019</td>\n",
       "      <td>130000.0</td>\n",
       "      <td>3800.0</td>\n",
       "      <td>False</td>\n",
       "      <td>0.0</td>\n",
       "      <td>0.0</td>\n",
       "      <td>0.0</td>\n",
       "    </tr>\n",
       "    <tr>\n",
       "      <th>68844</th>\n",
       "      <td>26.0</td>\n",
       "      <td>-</td>\n",
       "      <td>2019</td>\n",
       "      <td>487000.0</td>\n",
       "      <td>12800.0</td>\n",
       "      <td>False</td>\n",
       "      <td>0.0</td>\n",
       "      <td>0.0</td>\n",
       "      <td>0.0</td>\n",
       "    </tr>\n",
       "    <tr>\n",
       "      <th>72826</th>\n",
       "      <td>27.0</td>\n",
       "      <td>-</td>\n",
       "      <td>2019</td>\n",
       "      <td>223000.0</td>\n",
       "      <td>6400.0</td>\n",
       "      <td>False</td>\n",
       "      <td>0.0</td>\n",
       "      <td>0.0</td>\n",
       "      <td>0.0</td>\n",
       "    </tr>\n",
       "    <tr>\n",
       "      <th>73571</th>\n",
       "      <td>19.0</td>\n",
       "      <td>-</td>\n",
       "      <td>2019</td>\n",
       "      <td>43000.0</td>\n",
       "      <td>400.0</td>\n",
       "      <td>False</td>\n",
       "      <td>0.0</td>\n",
       "      <td>0.0</td>\n",
       "      <td>0.0</td>\n",
       "    </tr>\n",
       "    <tr>\n",
       "      <th>73655</th>\n",
       "      <td>23.0</td>\n",
       "      <td>-</td>\n",
       "      <td>2018</td>\n",
       "      <td>6000.0</td>\n",
       "      <td>400.0</td>\n",
       "      <td>False</td>\n",
       "      <td>0.0</td>\n",
       "      <td>0.0</td>\n",
       "      <td>0.0</td>\n",
       "    </tr>\n",
       "  </tbody>\n",
       "</table>\n",
       "</div>"
      ],
      "text/plain": [
       "        age gender  year    refund      fee  has_paid  income_근로  income_사업  \\\n",
       "2613   27.0      -  2016  559000.0  12800.0     False        0.0        0.0   \n",
       "4101   27.0      -  2017  209000.0   4300.0     False        0.0        0.0   \n",
       "9574   42.0      -  2015  175000.0   4300.0     False        0.0        0.0   \n",
       "20536  26.0      -  2017  845000.0  25100.0     False        0.0        0.0   \n",
       "28211  26.0      -  2016  650000.0  12800.0     False        0.0        0.0   \n",
       "36217  27.0      -  2018  124000.0   3400.0     False        0.0        0.0   \n",
       "37674  27.0      -  2015  252000.0   8500.0     False        0.0        0.0   \n",
       "38223  53.0      -  2015    6000.0    400.0     False        0.0        0.0   \n",
       "38441  23.0      -  2018  110000.0   3000.0     False        0.0        0.0   \n",
       "41454  41.0      -  2015  122000.0   4300.0      True        0.0        0.0   \n",
       "46337  27.0      -  2019  676000.0  42500.0     False        0.0        0.0   \n",
       "47966  41.0      -  2017   35000.0    400.0      True        0.0        0.0   \n",
       "52346  41.0      -  2019  345000.0   8500.0     False        0.0        0.0   \n",
       "53924  41.0      -  2016  179000.0   4300.0      True        0.0        0.0   \n",
       "57536  25.0      -  2015  126000.0   4300.0     False        0.0        0.0   \n",
       "60508  22.0      -  2018   33000.0    400.0      True        0.0        0.0   \n",
       "61782  29.0      -  2018   29000.0    400.0     False        0.0        0.0   \n",
       "63173  21.0      -  2019  130000.0   3800.0     False        0.0        0.0   \n",
       "68844  26.0      -  2019  487000.0  12800.0     False        0.0        0.0   \n",
       "72826  27.0      -  2019  223000.0   6400.0     False        0.0        0.0   \n",
       "73571  19.0      -  2019   43000.0    400.0     False        0.0        0.0   \n",
       "73655  23.0      -  2018    6000.0    400.0     False        0.0        0.0   \n",
       "\n",
       "       income_기타  \n",
       "2613         0.0  \n",
       "4101         0.0  \n",
       "9574         0.0  \n",
       "20536        0.0  \n",
       "28211        0.0  \n",
       "36217        0.0  \n",
       "37674        0.0  \n",
       "38223        0.0  \n",
       "38441        0.0  \n",
       "41454        0.0  \n",
       "46337        0.0  \n",
       "47966        0.0  \n",
       "52346        0.0  \n",
       "53924        0.0  \n",
       "57536        0.0  \n",
       "60508        0.0  \n",
       "61782        0.0  \n",
       "63173        0.0  \n",
       "68844        0.0  \n",
       "72826        0.0  \n",
       "73571        0.0  \n",
       "73655        0.0  "
      ]
     },
     "execution_count": 12,
     "metadata": {},
     "output_type": "execute_result"
    }
   ],
   "source": [
    "df_v1[df_v1[\"gender\"] == \"-\"]  # \"gender\"가 제대로 입력되지 않은 22개 데이터 내역 확인"
   ]
  },
  {
   "cell_type": "markdown",
   "id": "bcf20b70",
   "metadata": {},
   "source": [
    "> => 위 22개 데이터에 대해 성별이 확인되지 않으나, 성별 외 다른 Feature는 구분이 가능하므로 삭제하지 않고 유지하기로 함"
   ]
  },
  {
   "cell_type": "markdown",
   "id": "eea25ea4",
   "metadata": {},
   "source": [
    "### => 남성이 50.5%, 여성이 49.5% 수준이며, gender 정보가 입력되지 않은 데이터 22개 존재함 확인"
   ]
  },
  {
   "cell_type": "markdown",
   "id": "ef493777",
   "metadata": {},
   "source": [
    "## 3. year(소득이 발생한 연도)"
   ]
  },
  {
   "cell_type": "code",
   "execution_count": 13,
   "id": "42ff6dfb",
   "metadata": {},
   "outputs": [
    {
     "data": {
      "text/plain": [
       "2020    23782\n",
       "2019    20842\n",
       "2018    19983\n",
       "2017    17495\n",
       "2016    13913\n",
       "2015     3985\n",
       "Name: year, dtype: int64"
      ]
     },
     "execution_count": 13,
     "metadata": {},
     "output_type": "execute_result"
    }
   ],
   "source": [
    "df_v1[\"year\"].value_counts()  # 연도별 데이터 개수 확인"
   ]
  },
  {
   "cell_type": "code",
   "execution_count": 14,
   "id": "0e8cc8cd",
   "metadata": {},
   "outputs": [
    {
     "data": {
      "text/plain": [
       "<BarContainer object of 6 artists>"
      ]
     },
     "execution_count": 14,
     "metadata": {},
     "output_type": "execute_result"
    },
    {
     "data": {
      "image/png": "[encoded data removed]",
      "text/plain": [
       "<Figure size 432x288 with 1 Axes>"
      ]
     },
     "metadata": {
      "needs_background": "light"
     },
     "output_type": "display_data"
    }
   ],
   "source": [
    "# 연도별 데이터 개수 시각화\n",
    "x = df_v1[\"year\"].value_counts().sort_values().index\n",
    "y = df_v1[\"year\"].value_counts().sort_values().values\n",
    "plt.bar(x, y)"
   ]
  },
  {
   "cell_type": "markdown",
   "id": "136f156f",
   "metadata": {},
   "source": [
    "### => 6개년도(2015년~2020년) 데이터가 존재하며, 최근 연도일수록 data수가 증가함을 확인"
   ]
  },
  {
   "cell_type": "markdown",
   "id": "cf2c3ef7",
   "metadata": {},
   "source": [
    "## 4. refund(예상환급액)"
   ]
  },
  {
   "cell_type": "code",
   "execution_count": 15,
   "id": "6e1cf061",
   "metadata": {},
   "outputs": [],
   "source": [
    "# 과학적표기법 출력 관련, 항상 float 형식으로 출력되도록 설정\n",
    "pd.set_option(\"display.float_format\", \"{:.1f}\".format)"
   ]
  },
  {
   "cell_type": "code",
   "execution_count": 16,
   "id": "37bcc0ec",
   "metadata": {},
   "outputs": [
    {
     "data": {
      "text/plain": [
       "count     100000.0\n",
       "mean      208142.2\n",
       "std       307174.4\n",
       "min     -8265000.0\n",
       "25%        33000.0\n",
       "50%        99000.0\n",
       "75%       254000.0\n",
       "max      7725000.0\n",
       "Name: refund, dtype: float64"
      ]
     },
     "execution_count": 16,
     "metadata": {},
     "output_type": "execute_result"
    }
   ],
   "source": [
    "df_v1[\"refund\"].describe()"
   ]
  },
  {
   "cell_type": "code",
   "execution_count": 17,
   "id": "e53cd57d",
   "metadata": {},
   "outputs": [
    {
     "data": {
      "text/plain": [
       "5000.0     1998\n",
       "4000.0     1856\n",
       "7000.0     1562\n",
       "6000.0     1233\n",
       "28000.0    1181\n",
       "14000.0    1130\n",
       "11000.0    1084\n",
       "8000.0     1042\n",
       "9000.0     1014\n",
       "10000.0     948\n",
       "21000.0     889\n",
       "35000.0     798\n",
       "13000.0     778\n",
       "47000.0     773\n",
       "15000.0     763\n",
       "25000.0     741\n",
       "18000.0     730\n",
       "56000.0     716\n",
       "38000.0     708\n",
       "42000.0     686\n",
       "Name: refund, dtype: int64"
      ]
     },
     "execution_count": 17,
     "metadata": {},
     "output_type": "execute_result"
    }
   ],
   "source": [
    "df_v1[\"refund\"].value_counts().head(20)"
   ]
  },
  {
   "cell_type": "markdown",
   "id": "320416d2",
   "metadata": {},
   "source": [
    "### => 예상환급액 평균은 20.8만원 수준으로 5천원 내외 금액대의 개수가 가장 많음을 확인"
   ]
  },
  {
   "cell_type": "markdown",
   "id": "52113757",
   "metadata": {},
   "source": [
    "## 5. fee(수수료)"
   ]
  },
  {
   "cell_type": "code",
   "execution_count": 18,
   "id": "f66258e9",
   "metadata": {},
   "outputs": [
    {
     "data": {
      "text/plain": [
       "count   100000.0\n",
       "mean      7247.6\n",
       "std      11926.9\n",
       "min        400.0\n",
       "25%        400.0\n",
       "50%       4300.0\n",
       "75%       8500.0\n",
       "max     307000.0\n",
       "Name: fee, dtype: float64"
      ]
     },
     "execution_count": 18,
     "metadata": {},
     "output_type": "execute_result"
    }
   ],
   "source": [
    "df_v1[\"fee\"].describe()"
   ]
  },
  {
   "cell_type": "code",
   "execution_count": 19,
   "id": "74caf726",
   "metadata": {},
   "outputs": [
    {
     "data": {
      "text/plain": [
       "3.4820615940330035"
      ]
     },
     "execution_count": 19,
     "metadata": {},
     "output_type": "execute_result"
    }
   ],
   "source": [
    "# refund 평균 대비 fee 평균 비율 산출 => 약 3.48% 수준\n",
    "(df_v1[\"fee\"].mean() / df_v1[\"refund\"].mean()) * 100"
   ]
  },
  {
   "cell_type": "code",
   "execution_count": 20,
   "id": "d45b6b67",
   "metadata": {},
   "outputs": [
    {
     "data": {
      "text/plain": [
       "3.9741100323624594"
      ]
     },
     "execution_count": 20,
     "metadata": {},
     "output_type": "execute_result"
    }
   ],
   "source": [
    "# refund max값 대비 fee max값 비율 산출 => 약 3.97% 수준\n",
    "(df_v1[\"fee\"].max() / df_v1[\"refund\"].max()) * 100"
   ]
  },
  {
   "cell_type": "markdown",
   "id": "6e13beb2",
   "metadata": {},
   "source": [
    "### => fee는 refund 금액 수준에 따라 산출되는 금액으로 추정되며, 산출 비율은 약 3.48%(평균금액 기준) 수준임"
   ]
  },
  {
   "cell_type": "markdown",
   "id": "3bdb1a32",
   "metadata": {},
   "source": [
    "## 6. has_paid(수수료 결제여부)"
   ]
  },
  {
   "cell_type": "code",
   "execution_count": 21,
   "id": "83ad8b13",
   "metadata": {},
   "outputs": [
    {
     "data": {
      "text/plain": [
       "True     64643\n",
       "False    35357\n",
       "Name: has_paid, dtype: int64"
      ]
     },
     "execution_count": 21,
     "metadata": {},
     "output_type": "execute_result"
    }
   ],
   "source": [
    "df_v1[\"has_paid\"].value_counts()"
   ]
  },
  {
   "cell_type": "markdown",
   "id": "873658dc",
   "metadata": {},
   "source": [
    "### => 해당 fee를 결제한 비율이 전체 64.6%로 나타남. 각각의 금액 수준 및 케이스별로 세부 분석 필요"
   ]
  },
  {
   "cell_type": "markdown",
   "id": "e5917633",
   "metadata": {},
   "source": [
    "## 7~9. income_근로(근로소득), income_사업(사업소득), income_기타(기타소득)"
   ]
  },
  {
   "cell_type": "code",
   "execution_count": 22,
   "id": "3ab08cef",
   "metadata": {},
   "outputs": [
    {
     "data": {
      "text/html": [
       "<div>\n",
       "<style scoped>\n",
       "    .dataframe tbody tr th:only-of-type {\n",
       "        vertical-align: middle;\n",
       "    }\n",
       "\n",
       "    .dataframe tbody tr th {\n",
       "        vertical-align: top;\n",
       "    }\n",
       "\n",
       "    .dataframe thead th {\n",
       "        text-align: right;\n",
       "    }\n",
       "</style>\n",
       "<table border=\"1\" class=\"dataframe\">\n",
       "  <thead>\n",
       "    <tr style=\"text-align: right;\">\n",
       "      <th></th>\n",
       "      <th>income_근로</th>\n",
       "      <th>income_사업</th>\n",
       "      <th>income_기타</th>\n",
       "    </tr>\n",
       "  </thead>\n",
       "  <tbody>\n",
       "    <tr>\n",
       "      <th>count</th>\n",
       "      <td>100000.0</td>\n",
       "      <td>100000.0</td>\n",
       "      <td>100000.0</td>\n",
       "    </tr>\n",
       "    <tr>\n",
       "      <th>mean</th>\n",
       "      <td>2623920.6</td>\n",
       "      <td>1182567.1</td>\n",
       "      <td>160725.2</td>\n",
       "    </tr>\n",
       "    <tr>\n",
       "      <th>std</th>\n",
       "      <td>5260655.4</td>\n",
       "      <td>2254789.1</td>\n",
       "      <td>795876.1</td>\n",
       "    </tr>\n",
       "    <tr>\n",
       "      <th>min</th>\n",
       "      <td>0.0</td>\n",
       "      <td>0.0</td>\n",
       "      <td>0.0</td>\n",
       "    </tr>\n",
       "    <tr>\n",
       "      <th>25%</th>\n",
       "      <td>0.0</td>\n",
       "      <td>31000.0</td>\n",
       "      <td>0.0</td>\n",
       "    </tr>\n",
       "    <tr>\n",
       "      <th>50%</th>\n",
       "      <td>0.0</td>\n",
       "      <td>328000.0</td>\n",
       "      <td>0.0</td>\n",
       "    </tr>\n",
       "    <tr>\n",
       "      <th>75%</th>\n",
       "      <td>2994000.0</td>\n",
       "      <td>1235000.0</td>\n",
       "      <td>2000.0</td>\n",
       "    </tr>\n",
       "    <tr>\n",
       "      <th>max</th>\n",
       "      <td>182335000.0</td>\n",
       "      <td>39934000.0</td>\n",
       "      <td>62810000.0</td>\n",
       "    </tr>\n",
       "  </tbody>\n",
       "</table>\n",
       "</div>"
      ],
      "text/plain": [
       "        income_근로  income_사업  income_기타\n",
       "count    100000.0   100000.0   100000.0\n",
       "mean    2623920.6  1182567.1   160725.2\n",
       "std     5260655.4  2254789.1   795876.1\n",
       "min           0.0        0.0        0.0\n",
       "25%           0.0    31000.0        0.0\n",
       "50%           0.0   328000.0        0.0\n",
       "75%     2994000.0  1235000.0     2000.0\n",
       "max   182335000.0 39934000.0 62810000.0"
      ]
     },
     "execution_count": 22,
     "metadata": {},
     "output_type": "execute_result"
    }
   ],
   "source": [
    "df_v1[[\"income_근로\", \"income_사업\", \"income_기타\"]].describe()  # 각 소득별 data 현황 확인"
   ]
  },
  {
   "cell_type": "code",
   "execution_count": 23,
   "id": "00a88d4b",
   "metadata": {},
   "outputs": [
    {
     "data": {
      "text/plain": [
       "<BarContainer object of 3 artists>"
      ]
     },
     "execution_count": 23,
     "metadata": {},
     "output_type": "execute_result"
    },
    {
     "data": {
      "image/png": "[encoded data removed]",
      "text/plain": [
       "<Figure size 432x288 with 1 Axes>"
      ]
     },
     "metadata": {
      "needs_background": "light"
     },
     "output_type": "display_data"
    }
   ],
   "source": [
    "# 각 소득의 평균금액 비교 시각화\n",
    "x = df_v1[[\"income_근로\", \"income_사업\", \"income_기타\"]].columns\n",
    "y = [df_v1[\"income_근로\"].mean(), df_v1[\"income_사업\"].mean(), df_v1[\"income_기타\"].mean()]\n",
    "plt.bar(x, y)"
   ]
  },
  {
   "cell_type": "markdown",
   "id": "378cc4a1",
   "metadata": {},
   "source": [
    "### => 근로소득 > 사업소득 > 기타소득 순으로 평균금액이 크게 나타나며, 각 소득 내 금액의 분포는 고르지 않음 확인"
   ]
  },
  {
   "cell_type": "markdown",
   "id": "ebccdc60",
   "metadata": {},
   "source": [
    "# 각 Feature별 검토 결과\n",
    "* 각각의 데이터가 갖는 의미와 분포 현황 등은 확인되었으나 각 Feature간의 연관성에 기반한 추가 파악 필요\n",
    "* 특히, 결제여부(\"has_paid\")에 따른 그룹별 분류를 통해 각 Feature가 갖는 특징을 디테일하게 분석 필요할 것으로 보임\n",
    "\n",
    "> ##### [ 한가지 의문점 ]<br/><br/> => 고객 1명에 대해 귀속년도별로 여러개의 데이터가 존재할 수 있을텐데, 현 data상으로는 귀속년도별로 동일고객인지 여부를 특정할 수 있는 Feature(id 등)가 존재하지 않음<br/> => 따라서, 해당 data에 기반하여 귀속년도별 동일고객인지 여부는 고려하지 않고 분석을 진행해야 할 것으로 판단됨"
   ]
  },
  {
   "cell_type": "markdown",
   "id": "258cb364",
   "metadata": {},
   "source": [
    "# 고객의 결제여부(has_paid)에 영향을  미치는 요인들 분석"
   ]
  },
  {
   "cell_type": "markdown",
   "id": "dae75612",
   "metadata": {},
   "source": [
    "## 전체 Feature간 상관관계 파악"
   ]
  },
  {
   "cell_type": "code",
   "execution_count": 24,
   "id": "e14d7ff0",
   "metadata": {},
   "outputs": [
    {
     "name": "stderr",
     "output_type": "stream",
     "text": [
      "C:\\Users\\HJ\\AppData\\Local\\Temp/ipykernel_43120/2700979913.py:2: DeprecationWarning: `np.bool` is a deprecated alias for the builtin `bool`. To silence this warning, use `bool` by itself. Doing this will not modify any behavior and is safe. If you specifically wanted the numpy scalar type, use `np.bool_` here.\n",
      "Deprecated in NumPy 1.20; for more details and guidance: https://numpy.org/devdocs/release/1.20.0-notes.html#deprecations\n",
      "  mask = np.triu(np.ones_like(corr, dtype=np.bool))  # 아래쪽 삼각형만 표시되도록 마스크 적용\n"
     ]
    },
    {
     "data": {
      "text/plain": [
       "<AxesSubplot:>"
      ]
     },
     "execution_count": 24,
     "metadata": {},
     "output_type": "execute_result"
    },
    {
     "data": {
      "image/png": "[encoded data removed]",
      "text/plain": [
       "<Figure size 1080x720 with 2 Axes>"
      ]
     },
     "metadata": {
      "needs_background": "light"
     },
     "output_type": "display_data"
    }
   ],
   "source": [
    "corr = df_v1.corr()\n",
    "mask = np.triu(np.ones_like(corr, dtype=np.bool))  # 아래쪽 삼각형만 표시되도록 마스크 적용\n",
    "plt.figure(figsize=(15,10))\n",
    "cmap = sns.diverging_palette(120, 10, as_cmap=True)  # 색상 분류기준 설정\n",
    "sns.heatmap(corr, mask=mask, cmap=cmap, square=True, linewidth=0.5, annot=True, center=0, vmax=0.8)  # 출력값 범위 등 설정값 적용"
   ]
  },
  {
   "cell_type": "markdown",
   "id": "fab18383",
   "metadata": {},
   "source": [
    "> => refund와 fee의 상관관계가 매우 높은 것으로 확인됨 => refund 금액에 따라 fee 금액이 결정되는 것으로 파악됨\n",
    "\n",
    "> => 소득 분류 중에서는 사업소득 및 기타소득이 refund 금액과의 상관관계가 높게 나타나며, 근로소득과 refund와의 상관관계는 거의 없는 것으로 확인됨<br/> => (사유 추정) 근로소득은 기본적으로 연말정산 시 세금신고 및 처리가 완료되는 데에 반해, 사업소득과 기타소득에 대해서는 해당 고객이 종합소득세 신고기간에 정해진 신고절차 및 처리를 완료하지 않아 관련 환급액이 존재하는 것으로 추정됨"
   ]
  },
  {
   "cell_type": "markdown",
   "id": "0949df5b",
   "metadata": {},
   "source": [
    "## 각 소득별 Refund와의 관계 시각화(scatterplot)"
   ]
  },
  {
   "cell_type": "code",
   "execution_count": 25,
   "id": "57c60a57",
   "metadata": {},
   "outputs": [
    {
     "name": "stderr",
     "output_type": "stream",
     "text": [
      "c:\\users\\hj\\.conda\\envs\\pydata\\lib\\site-packages\\seaborn\\_decorators.py:36: FutureWarning: Pass the following variables as keyword args: x, y. From version 0.12, the only valid positional argument will be `data`, and passing other arguments without an explicit keyword will result in an error or misinterpretation.\n",
      "  warnings.warn(\n",
      "c:\\users\\hj\\.conda\\envs\\pydata\\lib\\site-packages\\seaborn\\_decorators.py:36: FutureWarning: Pass the following variables as keyword args: x, y. From version 0.12, the only valid positional argument will be `data`, and passing other arguments without an explicit keyword will result in an error or misinterpretation.\n",
      "  warnings.warn(\n",
      "c:\\users\\hj\\.conda\\envs\\pydata\\lib\\site-packages\\seaborn\\_decorators.py:36: FutureWarning: Pass the following variables as keyword args: x, y. From version 0.12, the only valid positional argument will be `data`, and passing other arguments without an explicit keyword will result in an error or misinterpretation.\n",
      "  warnings.warn(\n"
     ]
    },
    {
     "data": {
      "image/png": "[encoded data removed]",
      "text/plain": [
       "<Figure size 1080x360 with 3 Axes>"
      ]
     },
     "metadata": {
      "needs_background": "light"
     },
     "output_type": "display_data"
    }
   ],
   "source": [
    "plt.figure(figsize=(15,5))\n",
    "\n",
    "plt.subplot(1,3,1)\n",
    "x = df_v1[\"income_근로\"]\n",
    "y = df_v1[\"refund\"]\n",
    "sns.scatterplot(x, y)\n",
    "plt.title(\"근로소득 and Refund\")\n",
    "\n",
    "plt.subplot(1,3,2)\n",
    "x = df_v1[\"income_사업\"]\n",
    "y = df_v1[\"refund\"]\n",
    "sns.scatterplot(x, y)\n",
    "plt.title(\"사업소득 and Refund\")\n",
    "\n",
    "plt.subplot(1,3,3)\n",
    "x = df_v1[\"income_기타\"]\n",
    "y = df_v1[\"refund\"]\n",
    "sns.scatterplot(x, y)\n",
    "plt.title(\"기타소득 and Refund\")\n",
    "\n",
    "plt.show()"
   ]
  },
  {
   "cell_type": "markdown",
   "id": "1df5a31e",
   "metadata": {},
   "source": [
    "---"
   ]
  },
  {
   "cell_type": "markdown",
   "id": "a2eecb0e",
   "metadata": {},
   "source": [
    "## 고객의 결제여부(has_paid)에 따른 그룹별 특성 비교(1차) - boxplot, stripplot"
   ]
  },
  {
   "cell_type": "code",
   "execution_count": 26,
   "id": "29bfd2e8",
   "metadata": {},
   "outputs": [],
   "source": [
    "# 결제여부(has_paid) 기준, 2개 그래프 출력 함수 정의\n",
    "def show_plot(feature):\n",
    "    plt.figure(figsize=(15,10))\n",
    "    plt.subplot(1,2,1)\n",
    "    sns.boxplot(y=df_v1[feature], x=df_v1[\"has_paid\"])\n",
    "    plt.ylabel(feature, fontsize=12)\n",
    "    plt.xlabel(\"has_paid(결제여부)\", fontsize=12)\n",
    "    plt.subplot(1,2,2)\n",
    "    sns.stripplot(y=df_v1[feature], x=df_v1[\"has_paid\"])\n",
    "    plt.ylabel(feature, fontsize=12)\n",
    "    plt.xlabel(\"has_paid(결제여부)\", fontsize=12)\n",
    "    plt.show()"
   ]
  },
  {
   "cell_type": "code",
   "execution_count": 27,
   "id": "97401dfb",
   "metadata": {},
   "outputs": [
    {
     "data": {
      "image/png": "[encoded data removed]",
      "text/plain": [
       "<Figure size 1080x720 with 2 Axes>"
      ]
     },
     "metadata": {
      "needs_background": "light"
     },
     "output_type": "display_data"
    }
   ],
   "source": [
    "show_plot(\"age\")  # age 피처의 특성 확인"
   ]
  },
  {
   "cell_type": "code",
   "execution_count": 28,
   "id": "5b0dc364",
   "metadata": {},
   "outputs": [
    {
     "data": {
      "image/png": "[encoded data removed]",
      "text/plain": [
       "<Figure size 1080x720 with 2 Axes>"
      ]
     },
     "metadata": {
      "needs_background": "light"
     },
     "output_type": "display_data"
    }
   ],
   "source": [
    "show_plot(\"refund\")  # refund 피처의 특성 확인"
   ]
  },
  {
   "cell_type": "code",
   "execution_count": 29,
   "id": "3eaccc9a",
   "metadata": {},
   "outputs": [
    {
     "data": {
      "image/png": "[encoded data removed]",
      "text/plain": [
       "<Figure size 1080x720 with 2 Axes>"
      ]
     },
     "metadata": {
      "needs_background": "light"
     },
     "output_type": "display_data"
    }
   ],
   "source": [
    "show_plot(\"income_근로\")  # 근로소득 피처의 특성 확인"
   ]
  },
  {
   "cell_type": "code",
   "execution_count": 30,
   "id": "e849e1e7",
   "metadata": {},
   "outputs": [
    {
     "data": {
      "image/png": "[encoded data removed]",
      "text/plain": [
       "<Figure size 1080x720 with 2 Axes>"
      ]
     },
     "metadata": {
      "needs_background": "light"
     },
     "output_type": "display_data"
    }
   ],
   "source": [
    "show_plot(\"income_사업\")  # 사업소득 피처의 특성 확인"
   ]
  },
  {
   "cell_type": "code",
   "execution_count": 31,
   "id": "bb0ca8e2",
   "metadata": {},
   "outputs": [
    {
     "data": {
      "image/png": "[encoded data removed]",
      "text/plain": [
       "<Figure size 1080x720 with 2 Axes>"
      ]
     },
     "metadata": {
      "needs_background": "light"
     },
     "output_type": "display_data"
    }
   ],
   "source": [
    "show_plot(\"income_기타\")  # 기타소득 피처의 특성 확인"
   ]
  },
  {
   "cell_type": "markdown",
   "id": "df647ba2",
   "metadata": {},
   "source": [
    "### => 고객의 결제여부에 따른 그룹별 특성을 시각화해 본 결과, 각 Feature별 일부 차이는 존재하나 유의미한 수준의 분명한 차이를 보여주지는 않음\n",
    "### => 각 Feature간의 관계를 종합해 다각도로 분석이 필요할 것으로 판단됨"
   ]
  },
  {
   "cell_type": "markdown",
   "id": "f9c3d4b9",
   "metadata": {},
   "source": [
    "---"
   ]
  },
  {
   "cell_type": "markdown",
   "id": "ef71bc83",
   "metadata": {},
   "source": [
    "## 고객의 결제여부(has_paid)에 따른 그룹별 특성 비교(2차) - 각 Feature간 종합적 분석\n",
    "* 결제 비율(%)을 산출한 뒤, 각 Feature별 다각도로 분석 진행\n",
    "* 결제 비율(%) 산출식<br/>\n",
    "    => \"has_paid\"값이 True인 개수 / 전체 \"has_paid\" 개수"
   ]
  },
  {
   "cell_type": "markdown",
   "id": "a220bbf3",
   "metadata": {},
   "source": [
    "### 1. 성별, 나이대별 결제 비율 시각화"
   ]
  },
  {
   "cell_type": "code",
   "execution_count": 32,
   "id": "c010f9b1",
   "metadata": {},
   "outputs": [],
   "source": [
    "# 각 성별에 대한 나이대별 결제비율 산출 함수 정의\n",
    "def get_paid_rate_by_gender(gender):\n",
    "    # 해당 gender 기준, 나이대별 총 data 개수 산출\n",
    "    total_count = df_v1[df_v1[\"gender\"] != \"-\"].groupby([\"age\", \"gender\"])[\"has_paid\"].count().unstack()[gender]\n",
    "    \n",
    "    # 해당 gender 기준, 나이대별 \"has_paid\"가 True인 data 개수 산출\n",
    "    gender_paid = df_v1[df_v1[\"gender\"] != \"-\"].groupby([\"age\", \"gender\", \"has_paid\"])[\"has_paid\"].count()\n",
    "    gender_paid = gender_paid.unstack(\"gender\").unstack(\"has_paid\")[(gender, True)]\n",
    "    \n",
    "    # 결제비율 계산 => True인 개수 / 총 개수\n",
    "    paid_rate = (gender_paid / total_count) * 100\n",
    "    #ret = r.fillna(0)\n",
    "    \n",
    "    return paid_rate, total_count"
   ]
  },
  {
   "cell_type": "code",
   "execution_count": 44,
   "id": "bace24b9",
   "metadata": {},
   "outputs": [
    {
     "name": "stderr",
     "output_type": "stream",
     "text": [
      "c:\\users\\hj\\.conda\\envs\\pydata\\lib\\site-packages\\seaborn\\_decorators.py:36: FutureWarning: Pass the following variables as keyword args: x, y. From version 0.12, the only valid positional argument will be `data`, and passing other arguments without an explicit keyword will result in an error or misinterpretation.\n",
      "  warnings.warn(\n",
      "c:\\users\\hj\\.conda\\envs\\pydata\\lib\\site-packages\\seaborn\\_decorators.py:36: FutureWarning: Pass the following variables as keyword args: x, y. From version 0.12, the only valid positional argument will be `data`, and passing other arguments without an explicit keyword will result in an error or misinterpretation.\n",
      "  warnings.warn(\n"
     ]
    },
    {
     "data": {
      "image/png": "[encoded data removed]",
      "text/plain": [
       "<Figure size 1080x720 with 2 Axes>"
      ]
     },
     "metadata": {
      "needs_background": "light"
     },
     "output_type": "display_data"
    }
   ],
   "source": [
    "# 나이대별, 성별에 따른 결제비율 시각화 => 총 data 개수 함께 표기\n",
    "\n",
    "m_paid_rate, m_total = get_paid_rate_by_gender(\"M\")\n",
    "f_paid_rate, f_total = get_paid_rate_by_gender(\"F\")\n",
    "\n",
    "fig, ax1 = plt.subplots()\n",
    "ax2 = ax1.twinx()  # ax1과 x축을 공유하는 ax2 셋팅\n",
    "fig.set_size_inches(15,10)  # 사이즈 설정\n",
    "\n",
    "# 성별에 따른 결제비율 lineplot 출력\n",
    "sns.lineplot(m_paid_rate.index, m_paid_rate.values, ax=ax1)  # male 그래프\n",
    "sns.lineplot(f_paid_rate.index, f_paid_rate.values, ax=ax1)  # female 그래프\n",
    "ax1.grid()  # 격자무늬\n",
    "plt.xticks(np.arange(15, 82, step=5))  # x축 나이대 표기 설정\n",
    "ax1.legend([\"Male 비율\", \"Female 비율\"], loc=\"upper center\", fontsize=15)\n",
    "ax1.set_xlabel(\"Age\", fontsize=15)\n",
    "ax1.set_ylabel(\"결제 비율(%)\", fontsize=15)\n",
    "\n",
    "# 총 data 개수 bar그래프 출력\n",
    "total = f_total.fillna(0) + m_total.fillna(0)\n",
    "ax2.bar(total.index, total.values, color=\"gray\", alpha=0.2)  # 투명도 등 설정\n",
    "ax2.legend([\"총 data 개수\"], loc=\"upper left\", fontsize=15)\n",
    "ax2.set_ylabel(\"총 data 개수\", fontsize=15)\n",
    "\n",
    "plt.title(\"< 나이대별 결제 비율(%) : 'has_paid'값이 True인 비율 >\", fontsize=17)\n",
    "plt.show()"
   ]
  },
  {
   "cell_type": "markdown",
   "id": "65febe8a",
   "metadata": {},
   "source": [
    "> => 총 data 개수가 일정수준 이상인 동시에 성별 결제비율의 차이를 나타내는 구간이 확인됨(20세\\~29세)<br/> => 20세\\~29세에서 Male의 결제비율이 Female 대비 상대적으로 높은 것으로 나타남\n",
    "\n",
    "> => 더불어, 총 data 개수가 일정수준 이상 확보된 20세\\~40세 구간 내에서 20세\\~29세 나이대의 결제비율이 비교적 높은 것으로 확인됨"
   ]
  },
  {
   "cell_type": "markdown",
   "id": "e89db102",
   "metadata": {},
   "source": [
    "### => 나이대를 기준으로 봤을 때 20세~29세의 결제비율이 상대적으로 높은 것으로 확인되며,\n",
    "### => 여성보다는 남성의 결제비율이 높은 것으로 나타남"
   ]
  },
  {
   "cell_type": "markdown",
   "id": "dab78d71",
   "metadata": {},
   "source": [
    "### 2. 성별, Refund 금액수준별 결제 비율 시각화\n",
    "* Refund 금액수준별 그룹핑 후, 해당 그룹별 결제비율 비교 진행"
   ]
  },
  {
   "cell_type": "markdown",
   "id": "1ba512c1",
   "metadata": {},
   "source": [
    "#### refund 그룹핑 정보 추가한 신규 데이터프레임 생성 => \"df_v1_1\"\n",
    "    => 총 10만개의 data를 refund 금액 기준 내림차순 정렬 후 50개의 그룹으로 분류(한 그룹당 2천개 data)"
   ]
  },
  {
   "cell_type": "code",
   "execution_count": 34,
   "id": "53161923",
   "metadata": {},
   "outputs": [
    {
     "data": {
      "text/html": [
       "<div>\n",
       "<style scoped>\n",
       "    .dataframe tbody tr th:only-of-type {\n",
       "        vertical-align: middle;\n",
       "    }\n",
       "\n",
       "    .dataframe tbody tr th {\n",
       "        vertical-align: top;\n",
       "    }\n",
       "\n",
       "    .dataframe thead th {\n",
       "        text-align: right;\n",
       "    }\n",
       "</style>\n",
       "<table border=\"1\" class=\"dataframe\">\n",
       "  <thead>\n",
       "    <tr style=\"text-align: right;\">\n",
       "      <th></th>\n",
       "      <th>age</th>\n",
       "      <th>gender</th>\n",
       "      <th>year</th>\n",
       "      <th>refund</th>\n",
       "      <th>fee</th>\n",
       "      <th>has_paid</th>\n",
       "      <th>income_근로</th>\n",
       "      <th>income_사업</th>\n",
       "      <th>income_기타</th>\n",
       "    </tr>\n",
       "  </thead>\n",
       "  <tbody>\n",
       "    <tr>\n",
       "      <th>0</th>\n",
       "      <td>25.0</td>\n",
       "      <td>F</td>\n",
       "      <td>2018</td>\n",
       "      <td>7725000.0</td>\n",
       "      <td>307000.0</td>\n",
       "      <td>True</td>\n",
       "      <td>2850000.0</td>\n",
       "      <td>0.0</td>\n",
       "      <td>17297000.0</td>\n",
       "    </tr>\n",
       "    <tr>\n",
       "      <th>1</th>\n",
       "      <td>25.0</td>\n",
       "      <td>M</td>\n",
       "      <td>2018</td>\n",
       "      <td>7608000.0</td>\n",
       "      <td>302300.0</td>\n",
       "      <td>False</td>\n",
       "      <td>0.0</td>\n",
       "      <td>0.0</td>\n",
       "      <td>25674000.0</td>\n",
       "    </tr>\n",
       "    <tr>\n",
       "      <th>2</th>\n",
       "      <td>40.0</td>\n",
       "      <td>M</td>\n",
       "      <td>2020</td>\n",
       "      <td>6815000.0</td>\n",
       "      <td>270800.0</td>\n",
       "      <td>False</td>\n",
       "      <td>22743000.0</td>\n",
       "      <td>0.0</td>\n",
       "      <td>9779000.0</td>\n",
       "    </tr>\n",
       "    <tr>\n",
       "      <th>3</th>\n",
       "      <td>45.0</td>\n",
       "      <td>M</td>\n",
       "      <td>2019</td>\n",
       "      <td>6255000.0</td>\n",
       "      <td>248700.0</td>\n",
       "      <td>False</td>\n",
       "      <td>6776000.0</td>\n",
       "      <td>0.0</td>\n",
       "      <td>14134000.0</td>\n",
       "    </tr>\n",
       "    <tr>\n",
       "      <th>4</th>\n",
       "      <td>32.0</td>\n",
       "      <td>F</td>\n",
       "      <td>2017</td>\n",
       "      <td>6254000.0</td>\n",
       "      <td>248300.0</td>\n",
       "      <td>True</td>\n",
       "      <td>0.0</td>\n",
       "      <td>0.0</td>\n",
       "      <td>10918000.0</td>\n",
       "    </tr>\n",
       "    <tr>\n",
       "      <th>...</th>\n",
       "      <td>...</td>\n",
       "      <td>...</td>\n",
       "      <td>...</td>\n",
       "      <td>...</td>\n",
       "      <td>...</td>\n",
       "      <td>...</td>\n",
       "      <td>...</td>\n",
       "      <td>...</td>\n",
       "      <td>...</td>\n",
       "    </tr>\n",
       "    <tr>\n",
       "      <th>99995</th>\n",
       "      <td>39.0</td>\n",
       "      <td>F</td>\n",
       "      <td>2020</td>\n",
       "      <td>-683000.0</td>\n",
       "      <td>39100.0</td>\n",
       "      <td>False</td>\n",
       "      <td>6082000.0</td>\n",
       "      <td>10649000.0</td>\n",
       "      <td>0.0</td>\n",
       "    </tr>\n",
       "    <tr>\n",
       "      <th>99996</th>\n",
       "      <td>48.0</td>\n",
       "      <td>F</td>\n",
       "      <td>2018</td>\n",
       "      <td>-948000.0</td>\n",
       "      <td>3000.0</td>\n",
       "      <td>True</td>\n",
       "      <td>8157000.0</td>\n",
       "      <td>3975000.0</td>\n",
       "      <td>0.0</td>\n",
       "    </tr>\n",
       "    <tr>\n",
       "      <th>99997</th>\n",
       "      <td>28.0</td>\n",
       "      <td>F</td>\n",
       "      <td>2020</td>\n",
       "      <td>-1658000.0</td>\n",
       "      <td>1700.0</td>\n",
       "      <td>False</td>\n",
       "      <td>10509000.0</td>\n",
       "      <td>570000.0</td>\n",
       "      <td>0.0</td>\n",
       "    </tr>\n",
       "    <tr>\n",
       "      <th>99998</th>\n",
       "      <td>34.0</td>\n",
       "      <td>M</td>\n",
       "      <td>2017</td>\n",
       "      <td>-2328000.0</td>\n",
       "      <td>400.0</td>\n",
       "      <td>False</td>\n",
       "      <td>16759000.0</td>\n",
       "      <td>28000.0</td>\n",
       "      <td>441000.0</td>\n",
       "    </tr>\n",
       "    <tr>\n",
       "      <th>99999</th>\n",
       "      <td>33.0</td>\n",
       "      <td>M</td>\n",
       "      <td>2018</td>\n",
       "      <td>-8265000.0</td>\n",
       "      <td>4300.0</td>\n",
       "      <td>True</td>\n",
       "      <td>0.0</td>\n",
       "      <td>690000.0</td>\n",
       "      <td>0.0</td>\n",
       "    </tr>\n",
       "  </tbody>\n",
       "</table>\n",
       "<p>100000 rows × 9 columns</p>\n",
       "</div>"
      ],
      "text/plain": [
       "       age gender  year     refund      fee  has_paid  income_근로  income_사업  \\\n",
       "0     25.0      F  2018  7725000.0 307000.0      True  2850000.0        0.0   \n",
       "1     25.0      M  2018  7608000.0 302300.0     False        0.0        0.0   \n",
       "2     40.0      M  2020  6815000.0 270800.0     False 22743000.0        0.0   \n",
       "3     45.0      M  2019  6255000.0 248700.0     False  6776000.0        0.0   \n",
       "4     32.0      F  2017  6254000.0 248300.0      True        0.0        0.0   \n",
       "...    ...    ...   ...        ...      ...       ...        ...        ...   \n",
       "99995 39.0      F  2020  -683000.0  39100.0     False  6082000.0 10649000.0   \n",
       "99996 48.0      F  2018  -948000.0   3000.0      True  8157000.0  3975000.0   \n",
       "99997 28.0      F  2020 -1658000.0   1700.0     False 10509000.0   570000.0   \n",
       "99998 34.0      M  2017 -2328000.0    400.0     False 16759000.0    28000.0   \n",
       "99999 33.0      M  2018 -8265000.0   4300.0      True        0.0   690000.0   \n",
       "\n",
       "       income_기타  \n",
       "0     17297000.0  \n",
       "1     25674000.0  \n",
       "2      9779000.0  \n",
       "3     14134000.0  \n",
       "4     10918000.0  \n",
       "...          ...  \n",
       "99995        0.0  \n",
       "99996        0.0  \n",
       "99997        0.0  \n",
       "99998   441000.0  \n",
       "99999        0.0  \n",
       "\n",
       "[100000 rows x 9 columns]"
      ]
     },
     "execution_count": 34,
     "metadata": {},
     "output_type": "execute_result"
    }
   ],
   "source": [
    "# refund 기준 내림차순 정렬 후, 신규 인덱스 설정\n",
    "df_v1_1 = df_v1.sort_values(by=\"refund\", ascending=False)\n",
    "df_v1_1.set_index(np.arange(100000), inplace=True)\n",
    "df_v1_1"
   ]
  },
  {
   "cell_type": "code",
   "execution_count": 35,
   "id": "e294fcae",
   "metadata": {},
   "outputs": [
    {
     "name": "stderr",
     "output_type": "stream",
     "text": [
      "c:\\users\\hj\\.conda\\envs\\pydata\\lib\\site-packages\\pandas\\core\\frame.py:3607: SettingWithCopyWarning: \n",
      "A value is trying to be set on a copy of a slice from a DataFrame.\n",
      "Try using .loc[row_indexer,col_indexer] = value instead\n",
      "\n",
      "See the caveats in the documentation: https://pandas.pydata.org/pandas-docs/stable/user_guide/indexing.html#returning-a-view-versus-a-copy\n",
      "  self._set_item(key, value)\n"
     ]
    },
    {
     "data": {
      "text/html": [
       "<div>\n",
       "<style scoped>\n",
       "    .dataframe tbody tr th:only-of-type {\n",
       "        vertical-align: middle;\n",
       "    }\n",
       "\n",
       "    .dataframe tbody tr th {\n",
       "        vertical-align: top;\n",
       "    }\n",
       "\n",
       "    .dataframe thead th {\n",
       "        text-align: right;\n",
       "    }\n",
       "</style>\n",
       "<table border=\"1\" class=\"dataframe\">\n",
       "  <thead>\n",
       "    <tr style=\"text-align: right;\">\n",
       "      <th></th>\n",
       "      <th>age</th>\n",
       "      <th>gender</th>\n",
       "      <th>year</th>\n",
       "      <th>refund</th>\n",
       "      <th>fee</th>\n",
       "      <th>has_paid</th>\n",
       "      <th>income_근로</th>\n",
       "      <th>income_사업</th>\n",
       "      <th>income_기타</th>\n",
       "      <th>refund_group</th>\n",
       "    </tr>\n",
       "  </thead>\n",
       "  <tbody>\n",
       "    <tr>\n",
       "      <th>0</th>\n",
       "      <td>25.0</td>\n",
       "      <td>F</td>\n",
       "      <td>2018</td>\n",
       "      <td>7725000.0</td>\n",
       "      <td>307000.0</td>\n",
       "      <td>True</td>\n",
       "      <td>2850000.0</td>\n",
       "      <td>0.0</td>\n",
       "      <td>17297000.0</td>\n",
       "      <td>1</td>\n",
       "    </tr>\n",
       "    <tr>\n",
       "      <th>1</th>\n",
       "      <td>25.0</td>\n",
       "      <td>M</td>\n",
       "      <td>2018</td>\n",
       "      <td>7608000.0</td>\n",
       "      <td>302300.0</td>\n",
       "      <td>False</td>\n",
       "      <td>0.0</td>\n",
       "      <td>0.0</td>\n",
       "      <td>25674000.0</td>\n",
       "      <td>1</td>\n",
       "    </tr>\n",
       "    <tr>\n",
       "      <th>2</th>\n",
       "      <td>40.0</td>\n",
       "      <td>M</td>\n",
       "      <td>2020</td>\n",
       "      <td>6815000.0</td>\n",
       "      <td>270800.0</td>\n",
       "      <td>False</td>\n",
       "      <td>22743000.0</td>\n",
       "      <td>0.0</td>\n",
       "      <td>9779000.0</td>\n",
       "      <td>1</td>\n",
       "    </tr>\n",
       "    <tr>\n",
       "      <th>3</th>\n",
       "      <td>45.0</td>\n",
       "      <td>M</td>\n",
       "      <td>2019</td>\n",
       "      <td>6255000.0</td>\n",
       "      <td>248700.0</td>\n",
       "      <td>False</td>\n",
       "      <td>6776000.0</td>\n",
       "      <td>0.0</td>\n",
       "      <td>14134000.0</td>\n",
       "      <td>1</td>\n",
       "    </tr>\n",
       "    <tr>\n",
       "      <th>4</th>\n",
       "      <td>32.0</td>\n",
       "      <td>F</td>\n",
       "      <td>2017</td>\n",
       "      <td>6254000.0</td>\n",
       "      <td>248300.0</td>\n",
       "      <td>True</td>\n",
       "      <td>0.0</td>\n",
       "      <td>0.0</td>\n",
       "      <td>10918000.0</td>\n",
       "      <td>1</td>\n",
       "    </tr>\n",
       "    <tr>\n",
       "      <th>...</th>\n",
       "      <td>...</td>\n",
       "      <td>...</td>\n",
       "      <td>...</td>\n",
       "      <td>...</td>\n",
       "      <td>...</td>\n",
       "      <td>...</td>\n",
       "      <td>...</td>\n",
       "      <td>...</td>\n",
       "      <td>...</td>\n",
       "      <td>...</td>\n",
       "    </tr>\n",
       "    <tr>\n",
       "      <th>99995</th>\n",
       "      <td>39.0</td>\n",
       "      <td>F</td>\n",
       "      <td>2020</td>\n",
       "      <td>-683000.0</td>\n",
       "      <td>39100.0</td>\n",
       "      <td>False</td>\n",
       "      <td>6082000.0</td>\n",
       "      <td>10649000.0</td>\n",
       "      <td>0.0</td>\n",
       "      <td>50</td>\n",
       "    </tr>\n",
       "    <tr>\n",
       "      <th>99996</th>\n",
       "      <td>48.0</td>\n",
       "      <td>F</td>\n",
       "      <td>2018</td>\n",
       "      <td>-948000.0</td>\n",
       "      <td>3000.0</td>\n",
       "      <td>True</td>\n",
       "      <td>8157000.0</td>\n",
       "      <td>3975000.0</td>\n",
       "      <td>0.0</td>\n",
       "      <td>50</td>\n",
       "    </tr>\n",
       "    <tr>\n",
       "      <th>99997</th>\n",
       "      <td>28.0</td>\n",
       "      <td>F</td>\n",
       "      <td>2020</td>\n",
       "      <td>-1658000.0</td>\n",
       "      <td>1700.0</td>\n",
       "      <td>False</td>\n",
       "      <td>10509000.0</td>\n",
       "      <td>570000.0</td>\n",
       "      <td>0.0</td>\n",
       "      <td>50</td>\n",
       "    </tr>\n",
       "    <tr>\n",
       "      <th>99998</th>\n",
       "      <td>34.0</td>\n",
       "      <td>M</td>\n",
       "      <td>2017</td>\n",
       "      <td>-2328000.0</td>\n",
       "      <td>400.0</td>\n",
       "      <td>False</td>\n",
       "      <td>16759000.0</td>\n",
       "      <td>28000.0</td>\n",
       "      <td>441000.0</td>\n",
       "      <td>50</td>\n",
       "    </tr>\n",
       "    <tr>\n",
       "      <th>99999</th>\n",
       "      <td>33.0</td>\n",
       "      <td>M</td>\n",
       "      <td>2018</td>\n",
       "      <td>-8265000.0</td>\n",
       "      <td>4300.0</td>\n",
       "      <td>True</td>\n",
       "      <td>0.0</td>\n",
       "      <td>690000.0</td>\n",
       "      <td>0.0</td>\n",
       "      <td>50</td>\n",
       "    </tr>\n",
       "  </tbody>\n",
       "</table>\n",
       "<p>100000 rows × 10 columns</p>\n",
       "</div>"
      ],
      "text/plain": [
       "       age gender  year     refund      fee  has_paid  income_근로  income_사업  \\\n",
       "0     25.0      F  2018  7725000.0 307000.0      True  2850000.0        0.0   \n",
       "1     25.0      M  2018  7608000.0 302300.0     False        0.0        0.0   \n",
       "2     40.0      M  2020  6815000.0 270800.0     False 22743000.0        0.0   \n",
       "3     45.0      M  2019  6255000.0 248700.0     False  6776000.0        0.0   \n",
       "4     32.0      F  2017  6254000.0 248300.0      True        0.0        0.0   \n",
       "...    ...    ...   ...        ...      ...       ...        ...        ...   \n",
       "99995 39.0      F  2020  -683000.0  39100.0     False  6082000.0 10649000.0   \n",
       "99996 48.0      F  2018  -948000.0   3000.0      True  8157000.0  3975000.0   \n",
       "99997 28.0      F  2020 -1658000.0   1700.0     False 10509000.0   570000.0   \n",
       "99998 34.0      M  2017 -2328000.0    400.0     False 16759000.0    28000.0   \n",
       "99999 33.0      M  2018 -8265000.0   4300.0      True        0.0   690000.0   \n",
       "\n",
       "       income_기타  refund_group  \n",
       "0     17297000.0             1  \n",
       "1     25674000.0             1  \n",
       "2      9779000.0             1  \n",
       "3     14134000.0             1  \n",
       "4     10918000.0             1  \n",
       "...          ...           ...  \n",
       "99995        0.0            50  \n",
       "99996        0.0            50  \n",
       "99997        0.0            50  \n",
       "99998   441000.0            50  \n",
       "99999        0.0            50  \n",
       "\n",
       "[100000 rows x 10 columns]"
      ]
     },
     "execution_count": 35,
     "metadata": {},
     "output_type": "execute_result"
    }
   ],
   "source": [
    "# 인덱스 순서에 따라 순차적으로 상위 2천개씩 해당 그룹 정보 입력\n",
    "\n",
    "df_v1_1[\"refund_group\"] = 0  # 컬럼 생성\n",
    "group_size = 2000  # 한 그룹당 2천개의 data => 총 50개 그룹\n",
    "refund_group_list = {}  # 딕셔너리로 그룹핑 정보 별도 저장 => 필요 시 활용\n",
    "\n",
    "for i in range(int(df_v1_1[\"refund_group\"].count() / group_size)):\n",
    "    start_i = i * group_size  # 시작 index\n",
    "    end_i = start_i + group_size  # 종료 index\n",
    "\n",
    "    df_v1_1.iloc[start_i:end_i][\"refund_group\"] = i + 1  # 해당 그룹 정보 입력\n",
    "    refund_group_list[f\"{i+1}그룹\"] = df_v1_1[\"refund\"].values[start_i:end_i]  # 딕셔너리로 그룹핑 정보 저장\n",
    "\n",
    "df_v1_1  # 그룹핑 정보 입력 결과 확인"
   ]
  },
  {
   "cell_type": "code",
   "execution_count": 36,
   "id": "2f12c640",
   "metadata": {},
   "outputs": [
    {
     "data": {
      "text/plain": [
       "array([7725000., 7608000., 6815000., 6255000., 6254000., 6054000.,\n",
       "       6000000., 5835000., 5620000., 5595000., 5580000., 5562000.,\n",
       "       5542000., 5429000., 5312000., 5300000., 5162000., 5158000.,\n",
       "       5119000., 5109000., 5026000., 4911000., 4910000., 4880000.,\n",
       "       4871000., 4801000., 4773000., 4686000., 4562000., 4530000.,\n",
       "       4480000., 4446000., 4403000., 4328000., 4304000., 4192000.,\n",
       "       4171000., 4105000., 4086000., 4085000., 4046000., 4021000.,\n",
       "       3996000., 3995000., 3955000., 3953000., 3905000., 3882000.,\n",
       "       3866000., 3844000.])"
      ]
     },
     "execution_count": 36,
     "metadata": {},
     "output_type": "execute_result"
    }
   ],
   "source": [
    "refund_group_list[\"1그룹\"][:50]  # 1그룹 상위 50개 data 현황 확인"
   ]
  },
  {
   "cell_type": "markdown",
   "id": "c9474fa9",
   "metadata": {},
   "source": [
    "#### refund 그룹별 결제 비율 산출 및 시각화"
   ]
  },
  {
   "cell_type": "code",
   "execution_count": 37,
   "id": "53b58972",
   "metadata": {},
   "outputs": [],
   "source": [
    "# 각 refund 그룹별 결제비율 산출 함수 정의\n",
    "def get_paid_rate_by_refund(gender):\n",
    "    # 해당 gender 기준, refund 그룹별 총 data 개수 산출\n",
    "    total_count = df_v1_1[df_v1_1[\"gender\"] != \"-\"].groupby([\"refund_group\", \"gender\"])[\"has_paid\"].count().unstack()[gender]\n",
    "    \n",
    "    # 해당 gender 기준, 나이대별 \"has_paid\"가 True인 data 개수 산출\n",
    "    gender_paid = df_v1_1[df_v1_1[\"gender\"] != \"-\"].groupby([\"refund_group\", \"gender\", \"has_paid\"])[\"has_paid\"].count()\n",
    "    gender_paid = gender_paid.unstack(\"gender\").unstack(\"has_paid\")[(gender, True)]\n",
    "    \n",
    "    # 결제비율 계산 => True인 개수 / 총 개수\n",
    "    paid_rate = (gender_paid / total_count) * 100\n",
    "    #ret = r.fillna(0)\n",
    "    \n",
    "    return paid_rate, total_count"
   ]
  },
  {
   "cell_type": "code",
   "execution_count": 38,
   "id": "515fd8aa",
   "metadata": {},
   "outputs": [
    {
     "name": "stderr",
     "output_type": "stream",
     "text": [
      "c:\\users\\hj\\.conda\\envs\\pydata\\lib\\site-packages\\seaborn\\_decorators.py:36: FutureWarning: Pass the following variables as keyword args: x, y. From version 0.12, the only valid positional argument will be `data`, and passing other arguments without an explicit keyword will result in an error or misinterpretation.\n",
      "  warnings.warn(\n",
      "c:\\users\\hj\\.conda\\envs\\pydata\\lib\\site-packages\\seaborn\\_decorators.py:36: FutureWarning: Pass the following variables as keyword args: x, y. From version 0.12, the only valid positional argument will be `data`, and passing other arguments without an explicit keyword will result in an error or misinterpretation.\n",
      "  warnings.warn(\n"
     ]
    },
    {
     "data": {
      "image/png": "[encoded data removed]",
      "text/plain": [
       "<Figure size 1080x720 with 2 Axes>"
      ]
     },
     "metadata": {
      "needs_background": "light"
     },
     "output_type": "display_data"
    }
   ],
   "source": [
    "# refund그룹별, 성별에 따른 결제비율 시각화 => 총 data 개수 함께 표기\n",
    "\n",
    "m_paid_rate, m_total = get_paid_rate_by_refund(\"M\")\n",
    "f_paid_rate, f_total = get_paid_rate_by_refund(\"F\")\n",
    "\n",
    "fig, ax1 = plt.subplots()\n",
    "ax2 = ax1.twinx()  # ax1과 x축을 공유하는 ax2 셋팅\n",
    "fig.set_size_inches(15,10)  # 사이즈 설정\n",
    "\n",
    "# 성별에 따른 결제비율 lineplot 출력\n",
    "sns.lineplot(m_paid_rate.index, m_paid_rate.values, ax=ax1)  # male 그래프\n",
    "sns.lineplot(f_paid_rate.index, f_paid_rate.values, ax=ax1)  # female 그래프\n",
    "ax1.grid(axis=\"y\")  # 격자무늬 => 가로방향만 출력\n",
    "plt.xticks(np.arange(1, 51, step=1))  # x축 그룹번호 표기 설정\n",
    "ax1.legend([\"Male 비율\", \"Female 비율\"], loc=\"upper center\", fontsize=15)\n",
    "ax1.set_xlabel(\"Refund_group(1그룹~50그룹)\", fontsize=15)\n",
    "ax1.set_ylabel(\"has_paid 비율(%)\", fontsize=15)\n",
    "\n",
    "# 총 data 개수 bar그래프 출력\n",
    "total = f_total.fillna(0) + m_total.fillna(0)\n",
    "ax2.bar(total.index, total.values, color=\"gray\", alpha=0.1)  # 투명도 등 설정\n",
    "ax2.legend([\"총 data 개수\"], loc=\"upper left\", fontsize=15)\n",
    "ax2.set_ylabel(\"총 data 개수\", fontsize=15)\n",
    "\n",
    "plt.title(\"< Refund 그룹별 has_paid 비율(%) >\", fontsize=17)\n",
    "plt.show()"
   ]
  },
  {
   "cell_type": "markdown",
   "id": "4073b9b4",
   "metadata": {},
   "source": [
    "> => Refund 금액수준별 추이 확인 결과, 중간 그룹(10\\~39그룹)의 결제비율이 상대적으로 높게 나타남 => 30\\~39그룹이 가장 높음\n",
    "\n",
    "> => refund 금액이 낮은 하위 그룹(40\\~50그룹)과 함께 최상위 그룹(1\\~9그룹)의 결제비율이 상대적으로 낮게 나타난 점 또한 주목할 필요 있음"
   ]
  },
  {
   "cell_type": "markdown",
   "id": "95d2f6a0",
   "metadata": {},
   "source": [
    "#### (Refund 그룹 관련 추가 검토) 30~39그룹의 Refund 금액 현황 확인\n",
    "    => 평균 47천원 수준이며, 28천원 ~ 71천원의 분포를 보임\n",
    "    => 위 그룹 중에서도 가장 결제 비율이 높은 32그룹의 Refund 금액 평균은 57천원 수준임"
   ]
  },
  {
   "cell_type": "code",
   "execution_count": 47,
   "id": "6a7f2230",
   "metadata": {},
   "outputs": [
    {
     "data": {
      "text/plain": [
       "count   20000.0\n",
       "mean    47111.9\n",
       "std     12673.4\n",
       "min     28000.0\n",
       "25%     36000.0\n",
       "50%     46000.0\n",
       "75%     57000.0\n",
       "max     71000.0\n",
       "Name: refund, dtype: float64"
      ]
     },
     "execution_count": 47,
     "metadata": {},
     "output_type": "execute_result"
    }
   ],
   "source": [
    "# 30~39그룹의 Refund 금액 현황 확인 => 평균 47,112원\n",
    "df_v1_1.query(\"refund_group >= 30 and refund_group <= 39\")[\"refund\"].describe()"
   ]
  },
  {
   "cell_type": "code",
   "execution_count": 48,
   "id": "f239195f",
   "metadata": {},
   "outputs": [
    {
     "data": {
      "text/plain": [
       "count    2000.0\n",
       "mean    57416.0\n",
       "std      1460.8\n",
       "min     55000.0\n",
       "25%     56000.0\n",
       "50%     57000.0\n",
       "75%     59000.0\n",
       "max     60000.0\n",
       "Name: refund, dtype: float64"
      ]
     },
     "execution_count": 48,
     "metadata": {},
     "output_type": "execute_result"
    }
   ],
   "source": [
    "# 32그룹(결제 비율 최상위 그룹)의 Refund 금액 현황 확인 => 평균 57,416원\n",
    "df_v1_1.query(\"refund_group == 32\")[\"refund\"].describe()"
   ]
  },
  {
   "cell_type": "markdown",
   "id": "f1b1f503",
   "metadata": {},
   "source": [
    "#### (Refund 그룹 관련 추가 검토) 전체 data상 결제 비율의 평균인 64.6%보다 낮아지는 지점(그룹) 확인\n",
    "    => 상위 그룹에서는 11그룹, 하위 그룹에서는 43그룹인 것으로 확인됨"
   ]
  },
  {
   "cell_type": "code",
   "execution_count": 117,
   "id": "6c7ec036",
   "metadata": {},
   "outputs": [
    {
     "data": {
      "text/plain": [
       "64.4"
      ]
     },
     "execution_count": 117,
     "metadata": {},
     "output_type": "execute_result"
    }
   ],
   "source": [
    "# 아래 그룹 번호 입력 후, 해당 그룹별 결제 비율(%) 확인 => 11그룹 : 64.4% / 43그룹 : 64.55%\n",
    "check_group = 11\n",
    "total_count = df_v1_1.query(f\"refund_group == {check_group}\")[\"has_paid\"].count()\n",
    "true_count = df_v1_1.query(f\"refund_group == {check_group}\")[\"has_paid\"].value_counts()[1]\n",
    "그룹_결제비율 = (true_count / total_count) * 100\n",
    "그룹_결제비율"
   ]
  },
  {
   "cell_type": "markdown",
   "id": "7f304914",
   "metadata": {},
   "source": [
    "#### (Refund 그룹 관련 추가 검토) 11그룹의 Refund 및 Fee 금액 분포 현황 확인\n",
    "    => Refund 금액 평균 : 297,197원\n",
    "    => Fee 금액 평균 : 10,651원 (Refund * 3.58%)"
   ]
  },
  {
   "cell_type": "code",
   "execution_count": 60,
   "id": "41ba2a2d",
   "metadata": {},
   "outputs": [
    {
     "data": {
      "text/plain": [
       "count     2000.0\n",
       "mean    297197.0\n",
       "std       7958.4\n",
       "min     284000.0\n",
       "25%     290000.0\n",
       "50%     296000.0\n",
       "75%     304000.0\n",
       "max     312000.0\n",
       "Name: refund, dtype: float64"
      ]
     },
     "execution_count": 60,
     "metadata": {},
     "output_type": "execute_result"
    }
   ],
   "source": [
    "df_v1_1.query(\"refund_group == 11\")[\"refund\"].describe()"
   ]
  },
  {
   "cell_type": "code",
   "execution_count": 119,
   "id": "48ce9678",
   "metadata": {},
   "outputs": [
    {
     "data": {
      "text/plain": [
       "count    2000.0\n",
       "mean    10650.5\n",
       "std      1868.2\n",
       "min      8100.0\n",
       "25%      8500.0\n",
       "50%     11500.0\n",
       "75%     11900.0\n",
       "max     49300.0\n",
       "Name: fee, dtype: float64"
      ]
     },
     "execution_count": 119,
     "metadata": {},
     "output_type": "execute_result"
    }
   ],
   "source": [
    "df_v1_1.query(\"refund_group == 11\")[\"fee\"].describe()"
   ]
  },
  {
   "cell_type": "code",
   "execution_count": 112,
   "id": "28abf026",
   "metadata": {},
   "outputs": [
    {
     "data": {
      "text/plain": [
       "3.583649902253387"
      ]
     },
     "execution_count": 112,
     "metadata": {},
     "output_type": "execute_result"
    }
   ],
   "source": [
    "# 11그룹의 Refund 평균 대비 Fee 평균 계산\n",
    "r = df_v1_1.query(\"refund_group == 11\")[\"fee\"].mean() / df_v1_1.query(\"refund_group == 11\")[\"refund\"].mean()\n",
    "r * 100"
   ]
  },
  {
   "cell_type": "markdown",
   "id": "72d92974",
   "metadata": {},
   "source": [
    "#### (Refund 그룹 관련 추가 검토) 43그룹의 Refund 및 Fee 금액 분포 현황 확인\n",
    "    => Refund 금액 평균 : 16,624원\n",
    "    => Fee 금액 평균 : 511원 (Refund * 3.07%)"
   ]
  },
  {
   "cell_type": "code",
   "execution_count": 124,
   "id": "69b10a1d",
   "metadata": {},
   "outputs": [
    {
     "data": {
      "text/plain": [
       "count    2000.0\n",
       "mean    16623.5\n",
       "std       961.4\n",
       "min     15000.0\n",
       "25%     16000.0\n",
       "50%     17000.0\n",
       "75%     17000.0\n",
       "max     18000.0\n",
       "Name: refund, dtype: float64"
      ]
     },
     "execution_count": 124,
     "metadata": {},
     "output_type": "execute_result"
    }
   ],
   "source": [
    "df_v1_1.query(\"refund_group == 43\")[\"refund\"].describe()"
   ]
  },
  {
   "cell_type": "code",
   "execution_count": 109,
   "id": "75581b62",
   "metadata": {},
   "outputs": [
    {
     "data": {
      "text/plain": [
       "count    2000.0\n",
       "mean      510.6\n",
       "std      1705.0\n",
       "min       400.0\n",
       "25%       400.0\n",
       "50%       400.0\n",
       "75%       400.0\n",
       "max     54000.0\n",
       "Name: fee, dtype: float64"
      ]
     },
     "execution_count": 109,
     "metadata": {},
     "output_type": "execute_result"
    }
   ],
   "source": [
    "df_v1_1.query(\"refund_group == 43\")[\"fee\"].describe()"
   ]
  },
  {
   "cell_type": "code",
   "execution_count": 113,
   "id": "1475b06c",
   "metadata": {},
   "outputs": [
    {
     "data": {
      "text/plain": [
       "3.0712545492826417"
      ]
     },
     "execution_count": 113,
     "metadata": {},
     "output_type": "execute_result"
    }
   ],
   "source": [
    "# 43그룹의 Refund 평균 대비 Fee 평균 계산\n",
    "r = df_v1_1.query(\"refund_group == 43\")[\"fee\"].mean() / df_v1_1.query(\"refund_group == 43\")[\"refund\"].mean()\n",
    "r * 100"
   ]
  },
  {
   "cell_type": "markdown",
   "id": "20c64ad9",
   "metadata": {},
   "source": [
    "### Refund 금액 수준별 그룹핑에 따른 1차 분석 결과\n",
    "* 전체 data상 결제 비율의 평균인 64.6%보다 낮아지는 지점(그룹)의 특징 분석\n",
    "  - 해당 그룹 => 상위 그룹 : 11그룹 / 하위 그룹 : 43그룹\n",
    "  - 하위 그룹(43그룹)의 경우, Refund 금액이 2만원 근접한 수준에서 1만원대 중반으로 내려오는 지점으로 확인됨\n",
    "  - 상위 그룹(11그룹)의 경우, Fee 금액이 1만원대로 최초 진입하는 지점으로 확인됨\n",
    "\n",
    "> 하위 그룹(43그룹 이하)은 환급 받게 되는 금액이 생각보다 크지 않은 것을 확인 후, 최종 결제하지 않은 것으로 추정 가능<br/>\n",
    "> 상위 그룹(11그룹 이상)은 지불해야 할 수수료 금액이 생각보다 큰 것을 확인 후, 최종 결제하지 않은 것으로 추정 가능\n",
    "\n",
    "    => 상위 그룹의 경우, 환급 받게 되는 금액이 커질수록 수수료 금액도 연동되어 커지게 되는데 해당 수수료 지불 의사에 대한 허들금액이 존재하는 것으로 판단되며, 위 분석결과에 따라 해당 수수료 허들금액은 1만원 수준인 것으로 파악됨"
   ]
  },
  {
   "cell_type": "code",
   "execution_count": null,
   "id": "a35cb10e",
   "metadata": {},
   "outputs": [],
   "source": []
  },
  {
   "cell_type": "code",
   "execution_count": null,
   "id": "e5690cfa",
   "metadata": {},
   "outputs": [],
   "source": []
  },
  {
   "cell_type": "markdown",
   "id": "37bf2530",
   "metadata": {},
   "source": [
    "#### (추가 비교) 나이대별 Refund 평균금액 그래프 출력 및 현황 확인"
   ]
  },
  {
   "cell_type": "code",
   "execution_count": 39,
   "id": "6bd00cad",
   "metadata": {},
   "outputs": [],
   "source": [
    "# 각 성별에 대한 나이대별 refund 평균치 산출 함수 정의\n",
    "def get_refund_mean(gender):\n",
    "    # 해당 gender 기준, 나이대별 총 data 개수 산출\n",
    "    gender_total = df_v1[df_v1[\"gender\"] != \"-\"].groupby([\"age\", \"gender\"])[\"has_paid\"].count().unstack()[gender]\n",
    "    \n",
    "    # 해당 gender 기준, 나이대별 \"refund\" 평균치 산출\n",
    "    gender_refund = df_v1[df_v1[\"gender\"] != \"-\"].groupby([\"age\", \"gender\"])[\"refund\"].mean().unstack()[gender]\n",
    "    \n",
    "    return gender_refund, gender_total"
   ]
  },
  {
   "cell_type": "code",
   "execution_count": 50,
   "id": "73a6aa78",
   "metadata": {},
   "outputs": [
    {
     "name": "stderr",
     "output_type": "stream",
     "text": [
      "c:\\users\\hj\\.conda\\envs\\pydata\\lib\\site-packages\\seaborn\\_decorators.py:36: FutureWarning: Pass the following variables as keyword args: x, y. From version 0.12, the only valid positional argument will be `data`, and passing other arguments without an explicit keyword will result in an error or misinterpretation.\n",
      "  warnings.warn(\n",
      "c:\\users\\hj\\.conda\\envs\\pydata\\lib\\site-packages\\seaborn\\_decorators.py:36: FutureWarning: Pass the following variables as keyword args: x, y. From version 0.12, the only valid positional argument will be `data`, and passing other arguments without an explicit keyword will result in an error or misinterpretation.\n",
      "  warnings.warn(\n"
     ]
    },
    {
     "data": {
      "image/png": "[encoded data removed]",
      "text/plain": [
       "<Figure size 1080x720 with 2 Axes>"
      ]
     },
     "metadata": {
      "needs_background": "light"
     },
     "output_type": "display_data"
    }
   ],
   "source": [
    "# 나이대별, 성별에 따른 refund 평균치 시각화 => 총 data 개수 함께 표기\n",
    "\n",
    "m_refund_mean, m_total = get_refund_mean(\"M\")\n",
    "f_refund_mean, f_total = get_refund_mean(\"F\")\n",
    "\n",
    "fig, ax1 = plt.subplots()\n",
    "ax2 = ax1.twinx()  # ax1과 x축을 공유하는 ax2 셋팅\n",
    "fig.set_size_inches(15,10)  # 사이즈 설정\n",
    "\n",
    "# 성별에 따른 refund 평균치 lineplot 출력\n",
    "sns.lineplot(m_refund_mean.index, m_refund_mean.values, ax=ax1)  # male 그래프\n",
    "sns.lineplot(f_refund_mean.index, f_refund_mean.values, ax=ax1)  # female 그래프\n",
    "ax1.grid()  # 격자무늬\n",
    "plt.xticks(np.arange(15, 82, step=5))  # x축 나이대 표기 설정\n",
    "ax1.legend([\"Male refund\", \"Female refund\"], loc=\"upper center\", fontsize=15)\n",
    "ax1.set_xlabel(\"Age\", fontsize=15)\n",
    "ax1.set_ylabel(\"Refund 금액 평균(원)\", fontsize=15)\n",
    "\n",
    "# 총 data 개수 bar그래프 출력\n",
    "total = f_total.fillna(0) + m_total.fillna(0)\n",
    "ax2.bar(total.index, total.values, color=\"gray\", alpha=0.2)  # 투명도 등 설정\n",
    "ax2.legend([\"총 data 개수\"], loc=\"upper left\", fontsize=15)\n",
    "ax2.set_ylabel(\"총 data 개수\", fontsize=15)\n",
    "\n",
    "plt.title(\"< 나이대별 Refund 금액 평균 >\", fontsize=17)\n",
    "plt.show()"
   ]
  },
  {
   "cell_type": "markdown",
   "id": "4216eba5",
   "metadata": {},
   "source": [
    "> 총 data 개수와 함께 고려했을 때, 나이가 많을수록 Refund 평균금액도 상승하는 추세로 나타남\n",
    "\n",
    "> 여성보다는 남성의 Refund 평균금액이 상대적으로 높은 것으로 확인됨"
   ]
  },
  {
   "cell_type": "markdown",
   "id": "715b8232",
   "metadata": {},
   "source": [
    "### => Refund 금액 기준으로 봤을 때 가장 큰 최상위 그룹보다는 오히려 중간그룹에서 고객의 결제비율이 상대적으로 높은 것으로 확인되며,\n",
    "### => Refund 금액의 크기는 50대까지는 대체적으로 나이와 함께 증가하는 것으로 나타남\n",
    "### => 또한, 남성이 여성보다 결제비율이 전반적으로 높게 나타나는 점 거듭 확인됨"
   ]
  },
  {
   "cell_type": "code",
   "execution_count": null,
   "id": "fd534c91",
   "metadata": {},
   "outputs": [],
   "source": []
  },
  {
   "cell_type": "code",
   "execution_count": null,
   "id": "f0c8e205",
   "metadata": {},
   "outputs": [],
   "source": []
  }
 ],
 "metadata": {
  "kernelspec": {
   "display_name": "Python 3 (ipykernel)",
   "language": "python",
   "name": "python3"
  },
  "language_info": {
   "codemirror_mode": {
    "name": "ipython",
    "version": 3
   },
   "file_extension": ".py",
   "mimetype": "text/x-python",
   "name": "python",
   "nbconvert_exporter": "python",
   "pygments_lexer": "ipython3",
   "version": "3.8.10"
  }
 },
 "nbformat": 4,
 "nbformat_minor": 5
}
