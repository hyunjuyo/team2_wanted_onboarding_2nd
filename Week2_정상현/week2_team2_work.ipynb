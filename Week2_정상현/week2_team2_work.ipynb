{
 "cells": [
  {
   "cell_type": "markdown",
   "metadata": {},
   "source": [
    "## Ⅰ. Intro\n",
    "\n",
    "### 1. 테이블의 내용\n",
    "1. 고객이 각 귀속년도별\n",
    "1. 근로 / 사업 / 기타 소득에 대한 예상환급액과 수수료를 조회한 뒤\n",
    "1. 결제를 하거나 하지 않은 여부를 저장\n",
    "\n",
    "### 2. 컬럼 정보\n",
    "- age: 고객의 만 나이입니다. \n",
    "- gender: 고객의 성별입니다.\n",
    "- year: 소득이 발생한 연도(귀속년도)입니다.\n",
    "- refund: 예상환급액입니다.\n",
    "- fee: 수수료입니다.\n",
    "- has_paid: 수수료를 결제했는지의 여부\n",
    "- income_근로: 고객의 근로소득(월급/일용직급여)\n",
    "- income_사업: 고객의 사업소득(프리랜서 소득)\n",
    "- income_기타: 고객의 기타소득(그외 기타 소득)\n",
    "\n",
    "### 3. 질문\n",
    "\n",
    "- 고객의 결제여부에 영향을 미치는 요인들은 무엇인가요? \n",
    "- 고객의 수수료 결제금액의 합을 높히기 위해서는 어떻게 해야 할까요?\n",
    "\n",
    "### 4. 개념파악 \n",
    "- 납부세액 혹은 환급세액의 결정방법\n",
    "- 소득을 3범주로 하여, 기장의무가 달라진다.  \n",
    "https://m.blog.naver.com/PostView.naver?isHttpsRedirect=true&blogId=fobi52&logNo=221270380307"
   ]
  },
  {
   "cell_type": "markdown",
   "metadata": {},
   "source": [
    "### 5. EDA"
   ]
  },
  {
   "cell_type": "code",
   "execution_count": 1,
   "metadata": {},
   "outputs": [],
   "source": [
    "import pandas as pd\n",
    "import numpy as np\n",
    "import seaborn as sns\n",
    "import matplotlib.pyplot as plt\n",
    "plt.rcParams['font.family'] = 'Malgun Gothic'\n",
    "plt.rcParams['axes.unicode_minus'] = False"
   ]
  },
  {
   "cell_type": "code",
   "execution_count": 2,
   "metadata": {},
   "outputs": [],
   "source": [
    "df=pd.read_csv('Jobis_3o3.csv')"
   ]
  },
  {
   "cell_type": "code",
   "execution_count": 3,
   "metadata": {},
   "outputs": [
    {
     "name": "stdout",
     "output_type": "stream",
     "text": [
      "<class 'pandas.core.frame.DataFrame'>\n",
      "RangeIndex: 100000 entries, 0 to 99999\n",
      "Data columns (total 9 columns):\n",
      "age          100000 non-null float64\n",
      "gender       100000 non-null object\n",
      "year         100000 non-null int64\n",
      "refund       100000 non-null float64\n",
      "fee          100000 non-null float64\n",
      "has_paid     100000 non-null bool\n",
      "income_근로    40791 non-null float64\n",
      "income_사업    78227 non-null float64\n",
      "income_기타    25260 non-null float64\n",
      "dtypes: bool(1), float64(6), int64(1), object(1)\n",
      "memory usage: 6.2+ MB\n"
     ]
    }
   ],
   "source": [
    "df.info()"
   ]
  },
  {
   "cell_type": "code",
   "execution_count": 4,
   "metadata": {},
   "outputs": [
    {
     "data": {
      "text/html": [
       "<div>\n",
       "<style scoped>\n",
       "    .dataframe tbody tr th:only-of-type {\n",
       "        vertical-align: middle;\n",
       "    }\n",
       "\n",
       "    .dataframe tbody tr th {\n",
       "        vertical-align: top;\n",
       "    }\n",
       "\n",
       "    .dataframe thead th {\n",
       "        text-align: right;\n",
       "    }\n",
       "</style>\n",
       "<table border=\"1\" class=\"dataframe\">\n",
       "  <thead>\n",
       "    <tr style=\"text-align: right;\">\n",
       "      <th></th>\n",
       "      <th>age</th>\n",
       "      <th>year</th>\n",
       "      <th>refund</th>\n",
       "      <th>fee</th>\n",
       "      <th>income_근로</th>\n",
       "      <th>income_사업</th>\n",
       "      <th>income_기타</th>\n",
       "    </tr>\n",
       "  </thead>\n",
       "  <tbody>\n",
       "    <tr>\n",
       "      <td>count</td>\n",
       "      <td>100000.00000</td>\n",
       "      <td>100000.000000</td>\n",
       "      <td>1.000000e+05</td>\n",
       "      <td>100000.000000</td>\n",
       "      <td>4.079100e+04</td>\n",
       "      <td>7.822700e+04</td>\n",
       "      <td>2.526000e+04</td>\n",
       "    </tr>\n",
       "    <tr>\n",
       "      <td>mean</td>\n",
       "      <td>29.00096</td>\n",
       "      <td>2018.111300</td>\n",
       "      <td>2.081422e+05</td>\n",
       "      <td>7247.641000</td>\n",
       "      <td>6.432597e+06</td>\n",
       "      <td>1.511712e+06</td>\n",
       "      <td>6.362834e+05</td>\n",
       "    </tr>\n",
       "    <tr>\n",
       "      <td>std</td>\n",
       "      <td>7.76819</td>\n",
       "      <td>1.495812</td>\n",
       "      <td>3.071744e+05</td>\n",
       "      <td>11926.896979</td>\n",
       "      <td>6.583716e+06</td>\n",
       "      <td>2.449810e+06</td>\n",
       "      <td>1.484947e+06</td>\n",
       "    </tr>\n",
       "    <tr>\n",
       "      <td>min</td>\n",
       "      <td>15.00000</td>\n",
       "      <td>2015.000000</td>\n",
       "      <td>-8.265000e+06</td>\n",
       "      <td>400.000000</td>\n",
       "      <td>0.000000e+00</td>\n",
       "      <td>0.000000e+00</td>\n",
       "      <td>0.000000e+00</td>\n",
       "    </tr>\n",
       "    <tr>\n",
       "      <td>25%</td>\n",
       "      <td>24.00000</td>\n",
       "      <td>2017.000000</td>\n",
       "      <td>3.300000e+04</td>\n",
       "      <td>400.000000</td>\n",
       "      <td>1.616000e+06</td>\n",
       "      <td>1.770000e+05</td>\n",
       "      <td>8.200000e+04</td>\n",
       "    </tr>\n",
       "    <tr>\n",
       "      <td>50%</td>\n",
       "      <td>27.00000</td>\n",
       "      <td>2018.000000</td>\n",
       "      <td>9.900000e+04</td>\n",
       "      <td>4300.000000</td>\n",
       "      <td>4.507000e+06</td>\n",
       "      <td>6.190000e+05</td>\n",
       "      <td>2.130000e+05</td>\n",
       "    </tr>\n",
       "    <tr>\n",
       "      <td>75%</td>\n",
       "      <td>31.00000</td>\n",
       "      <td>2019.000000</td>\n",
       "      <td>2.540000e+05</td>\n",
       "      <td>8500.000000</td>\n",
       "      <td>9.301000e+06</td>\n",
       "      <td>1.601000e+06</td>\n",
       "      <td>5.820000e+05</td>\n",
       "    </tr>\n",
       "    <tr>\n",
       "      <td>max</td>\n",
       "      <td>81.00000</td>\n",
       "      <td>2020.000000</td>\n",
       "      <td>7.725000e+06</td>\n",
       "      <td>307000.000000</td>\n",
       "      <td>1.823350e+08</td>\n",
       "      <td>3.993400e+07</td>\n",
       "      <td>6.281000e+07</td>\n",
       "    </tr>\n",
       "  </tbody>\n",
       "</table>\n",
       "</div>"
      ],
      "text/plain": [
       "                age           year        refund            fee     income_근로  \\\n",
       "count  100000.00000  100000.000000  1.000000e+05  100000.000000  4.079100e+04   \n",
       "mean       29.00096    2018.111300  2.081422e+05    7247.641000  6.432597e+06   \n",
       "std         7.76819       1.495812  3.071744e+05   11926.896979  6.583716e+06   \n",
       "min        15.00000    2015.000000 -8.265000e+06     400.000000  0.000000e+00   \n",
       "25%        24.00000    2017.000000  3.300000e+04     400.000000  1.616000e+06   \n",
       "50%        27.00000    2018.000000  9.900000e+04    4300.000000  4.507000e+06   \n",
       "75%        31.00000    2019.000000  2.540000e+05    8500.000000  9.301000e+06   \n",
       "max        81.00000    2020.000000  7.725000e+06  307000.000000  1.823350e+08   \n",
       "\n",
       "          income_사업     income_기타  \n",
       "count  7.822700e+04  2.526000e+04  \n",
       "mean   1.511712e+06  6.362834e+05  \n",
       "std    2.449810e+06  1.484947e+06  \n",
       "min    0.000000e+00  0.000000e+00  \n",
       "25%    1.770000e+05  8.200000e+04  \n",
       "50%    6.190000e+05  2.130000e+05  \n",
       "75%    1.601000e+06  5.820000e+05  \n",
       "max    3.993400e+07  6.281000e+07  "
      ]
     },
     "execution_count": 4,
     "metadata": {},
     "output_type": "execute_result"
    }
   ],
   "source": [
    "df.describe()"
   ]
  },
  {
   "cell_type": "markdown",
   "metadata": {},
   "source": [
    "#### 1) 지불여부를 숫자로 바꾸고 수수료를 곱한 새로운 변수(Target)를 생성한다.\n",
    "#### 2) 환급액에서 수수료를 뺀 gain이라는 변수를 생성하고, profit의 비율을 변수 pr로 생성한다."
   ]
  },
  {
   "cell_type": "code",
   "execution_count": 5,
   "metadata": {},
   "outputs": [],
   "source": [
    "df['has_paid']=df['has_paid'].replace(True,1).replace(False,0)"
   ]
  },
  {
   "cell_type": "code",
   "execution_count": 6,
   "metadata": {},
   "outputs": [],
   "source": [
    "df['Target']=df.has_paid*df.fee"
   ]
  },
  {
   "cell_type": "markdown",
   "metadata": {},
   "source": [
    "#### 3) 환급액과 수수료를 고려한 순 환급액과 이익률 변수를 생성"
   ]
  },
  {
   "cell_type": "code",
   "execution_count": 7,
   "metadata": {},
   "outputs": [],
   "source": [
    "pr=(df.refund-df.fee)/df.refund\n",
    "df['pr']=pr\n",
    "gain=df.refund-df.fee\n",
    "df['gain']=gain"
   ]
  },
  {
   "cell_type": "markdown",
   "metadata": {},
   "source": [
    "#### 4) 나이를 카테고리화"
   ]
  },
  {
   "cell_type": "markdown",
   "metadata": {},
   "source": [
    "- 나이를 카테고리화하는 기준으로는 통곗값기반 이상값 탐색 알고리즘의 값 범위를 활용하였다.  \n",
    "    다만, 상위 이상값들의 결제금액합이 전체 데이터의 19%에 해당해 상위 이상값은 두그룹으로 나눴다."
   ]
  },
  {
   "cell_type": "code",
   "execution_count": 8,
   "metadata": {},
   "outputs": [
    {
     "data": {
      "text/plain": [
       "<matplotlib.axes._subplots.AxesSubplot at 0x1dd1d2a7808>"
      ]
     },
     "execution_count": 8,
     "metadata": {},
     "output_type": "execute_result"
    },
    {
     "data": {
      "image/png": "[encoded data removed]",
      "text/plain": [
       "<Figure size 432x288 with 1 Axes>"
      ]
     },
     "metadata": {
      "needs_background": "light"
     },
     "output_type": "display_data"
    }
   ],
   "source": [
    "df.age.hist()"
   ]
  },
  {
   "cell_type": "code",
   "execution_count": 9,
   "metadata": {},
   "outputs": [],
   "source": [
    "IQR= df.age.quantile(0.75)-df.age.quantile(0.25)\n",
    "Q3= df.age.quantile(0.25)\n",
    "Q1=df.age.quantile(0.75)"
   ]
  },
  {
   "cell_type": "code",
   "execution_count": 10,
   "metadata": {},
   "outputs": [
    {
     "data": {
      "text/plain": [
       "count    79872.000000\n",
       "mean        26.467085\n",
       "std          3.310020\n",
       "min         21.000000\n",
       "25%         24.000000\n",
       "50%         26.000000\n",
       "75%         29.000000\n",
       "max         34.000000\n",
       "Name: age, dtype: float64"
      ]
     },
     "execution_count": 10,
     "metadata": {},
     "output_type": "execute_result"
    }
   ],
   "source": [
    "df.query(\"(age > @Q1-1.5*@IQR) and (age < @Q3+1.5*@IQR)\").age.describe()"
   ]
  },
  {
   "cell_type": "code",
   "execution_count": 11,
   "metadata": {},
   "outputs": [
    {
     "data": {
      "text/plain": [
       "'19.56%'"
      ]
     },
     "execution_count": 11,
     "metadata": {},
     "output_type": "execute_result"
    }
   ],
   "source": [
    "# 이상값들의 총 결제금액에서 차지하는 비중(%) -상위\n",
    "str(round((df.query(\"age > 34\").Target.sum()/df.Target.sum())*100,2))+'%'"
   ]
  },
  {
   "cell_type": "code",
   "execution_count": 12,
   "metadata": {},
   "outputs": [
    {
     "data": {
      "text/plain": [
       "'2.45%'"
      ]
     },
     "execution_count": 12,
     "metadata": {},
     "output_type": "execute_result"
    }
   ],
   "source": [
    "# 하위\n",
    "str(round((df.query(\"age < 21\").Target.sum()/df.Target.sum())*100,2))+'%'"
   ]
  },
  {
   "cell_type": "code",
   "execution_count": 13,
   "metadata": {},
   "outputs": [
    {
     "data": {
      "text/plain": [
       "48.0"
      ]
     },
     "execution_count": 13,
     "metadata": {},
     "output_type": "execute_result"
    }
   ],
   "source": [
    "df.query(\"age > 34\").age.quantile(0.75)"
   ]
  },
  {
   "cell_type": "code",
   "execution_count": 14,
   "metadata": {},
   "outputs": [],
   "source": [
    "# 나이 카테고리 변수 생성\n",
    "cat_1=pd.cut(df.age,bins=[-1,21,24,26,29,34,37,48,100]).astype('str').str.rstrip(']').str.lstrip('(')\n",
    "df['ag_cat']=cat_1"
   ]
  },
  {
   "cell_type": "markdown",
   "metadata": {},
   "source": [
    "- 추가로 각 소득원의 유무와 각 데이터가 소득원을 몇개가지고 있는지도 변수로 생성한다."
   ]
  },
  {
   "cell_type": "code",
   "execution_count": 15,
   "metadata": {},
   "outputs": [],
   "source": [
    "df['근로yn']=df.income_근로.notnull()\n",
    "df['사업yn']=df.income_사업.notnull()\n",
    "df['기타yn']=df.income_기타.notnull()\n",
    "df['소득notnull여부']=pd.concat([df.income_근로.notnull(),df.income_사업.notnull(),df.income_기타.notnull()],axis=1).sum(1).astype('str')"
   ]
  },
  {
   "cell_type": "markdown",
   "metadata": {},
   "source": [
    "#### 5) 성별컬럼 결측값처리"
   ]
  },
  {
   "cell_type": "markdown",
   "metadata": {},
   "source": [
    "- 성별 값이 '-'인 데이터는 22건이 존재한다. 그리고 모두 소득원에 대한 정보가 없다. (위 3가지 컬럼에 집계되지 않는 소득이 있는 것으로 판단한다.) \n",
    "- 이중 실제 결제 된 데이터가 4건에 해당한다. 이는, 총 결제데이터 6만4643건의 데이터규모에서 극히 일부분이며, 결제 여부를 고려하지 않는 10만건 중에 성별 결측치 데이터는 극 소수이기 때문에 제외한다."
   ]
  },
  {
   "cell_type": "code",
   "execution_count": 16,
   "metadata": {},
   "outputs": [
    {
     "data": {
      "text/html": [
       "<div>\n",
       "<style scoped>\n",
       "    .dataframe tbody tr th:only-of-type {\n",
       "        vertical-align: middle;\n",
       "    }\n",
       "\n",
       "    .dataframe tbody tr th {\n",
       "        vertical-align: top;\n",
       "    }\n",
       "\n",
       "    .dataframe thead th {\n",
       "        text-align: right;\n",
       "    }\n",
       "</style>\n",
       "<table border=\"1\" class=\"dataframe\">\n",
       "  <thead>\n",
       "    <tr style=\"text-align: right;\">\n",
       "      <th></th>\n",
       "      <th>age</th>\n",
       "      <th>gender</th>\n",
       "      <th>year</th>\n",
       "      <th>refund</th>\n",
       "      <th>fee</th>\n",
       "      <th>has_paid</th>\n",
       "      <th>income_근로</th>\n",
       "      <th>income_사업</th>\n",
       "      <th>income_기타</th>\n",
       "      <th>Target</th>\n",
       "      <th>pr</th>\n",
       "      <th>gain</th>\n",
       "      <th>ag_cat</th>\n",
       "      <th>근로yn</th>\n",
       "      <th>사업yn</th>\n",
       "      <th>기타yn</th>\n",
       "      <th>소득notnull여부</th>\n",
       "    </tr>\n",
       "  </thead>\n",
       "  <tbody>\n",
       "    <tr>\n",
       "      <td>2613</td>\n",
       "      <td>27.0</td>\n",
       "      <td>-</td>\n",
       "      <td>2016</td>\n",
       "      <td>559000.0</td>\n",
       "      <td>12800.0</td>\n",
       "      <td>0.0</td>\n",
       "      <td>NaN</td>\n",
       "      <td>NaN</td>\n",
       "      <td>NaN</td>\n",
       "      <td>0.0</td>\n",
       "      <td>0.977102</td>\n",
       "      <td>546200.0</td>\n",
       "      <td>26, 29</td>\n",
       "      <td>False</td>\n",
       "      <td>False</td>\n",
       "      <td>False</td>\n",
       "      <td>0</td>\n",
       "    </tr>\n",
       "    <tr>\n",
       "      <td>4101</td>\n",
       "      <td>27.0</td>\n",
       "      <td>-</td>\n",
       "      <td>2017</td>\n",
       "      <td>209000.0</td>\n",
       "      <td>4300.0</td>\n",
       "      <td>0.0</td>\n",
       "      <td>NaN</td>\n",
       "      <td>NaN</td>\n",
       "      <td>NaN</td>\n",
       "      <td>0.0</td>\n",
       "      <td>0.979426</td>\n",
       "      <td>204700.0</td>\n",
       "      <td>26, 29</td>\n",
       "      <td>False</td>\n",
       "      <td>False</td>\n",
       "      <td>False</td>\n",
       "      <td>0</td>\n",
       "    </tr>\n",
       "    <tr>\n",
       "      <td>9574</td>\n",
       "      <td>42.0</td>\n",
       "      <td>-</td>\n",
       "      <td>2015</td>\n",
       "      <td>175000.0</td>\n",
       "      <td>4300.0</td>\n",
       "      <td>0.0</td>\n",
       "      <td>NaN</td>\n",
       "      <td>NaN</td>\n",
       "      <td>NaN</td>\n",
       "      <td>0.0</td>\n",
       "      <td>0.975429</td>\n",
       "      <td>170700.0</td>\n",
       "      <td>37, 48</td>\n",
       "      <td>False</td>\n",
       "      <td>False</td>\n",
       "      <td>False</td>\n",
       "      <td>0</td>\n",
       "    </tr>\n",
       "    <tr>\n",
       "      <td>20536</td>\n",
       "      <td>26.0</td>\n",
       "      <td>-</td>\n",
       "      <td>2017</td>\n",
       "      <td>845000.0</td>\n",
       "      <td>25100.0</td>\n",
       "      <td>0.0</td>\n",
       "      <td>NaN</td>\n",
       "      <td>NaN</td>\n",
       "      <td>NaN</td>\n",
       "      <td>0.0</td>\n",
       "      <td>0.970296</td>\n",
       "      <td>819900.0</td>\n",
       "      <td>24, 26</td>\n",
       "      <td>False</td>\n",
       "      <td>False</td>\n",
       "      <td>False</td>\n",
       "      <td>0</td>\n",
       "    </tr>\n",
       "    <tr>\n",
       "      <td>28211</td>\n",
       "      <td>26.0</td>\n",
       "      <td>-</td>\n",
       "      <td>2016</td>\n",
       "      <td>650000.0</td>\n",
       "      <td>12800.0</td>\n",
       "      <td>0.0</td>\n",
       "      <td>NaN</td>\n",
       "      <td>NaN</td>\n",
       "      <td>NaN</td>\n",
       "      <td>0.0</td>\n",
       "      <td>0.980308</td>\n",
       "      <td>637200.0</td>\n",
       "      <td>24, 26</td>\n",
       "      <td>False</td>\n",
       "      <td>False</td>\n",
       "      <td>False</td>\n",
       "      <td>0</td>\n",
       "    </tr>\n",
       "    <tr>\n",
       "      <td>36217</td>\n",
       "      <td>27.0</td>\n",
       "      <td>-</td>\n",
       "      <td>2018</td>\n",
       "      <td>124000.0</td>\n",
       "      <td>3400.0</td>\n",
       "      <td>0.0</td>\n",
       "      <td>NaN</td>\n",
       "      <td>NaN</td>\n",
       "      <td>NaN</td>\n",
       "      <td>0.0</td>\n",
       "      <td>0.972581</td>\n",
       "      <td>120600.0</td>\n",
       "      <td>26, 29</td>\n",
       "      <td>False</td>\n",
       "      <td>False</td>\n",
       "      <td>False</td>\n",
       "      <td>0</td>\n",
       "    </tr>\n",
       "    <tr>\n",
       "      <td>37674</td>\n",
       "      <td>27.0</td>\n",
       "      <td>-</td>\n",
       "      <td>2015</td>\n",
       "      <td>252000.0</td>\n",
       "      <td>8500.0</td>\n",
       "      <td>0.0</td>\n",
       "      <td>NaN</td>\n",
       "      <td>NaN</td>\n",
       "      <td>NaN</td>\n",
       "      <td>0.0</td>\n",
       "      <td>0.966270</td>\n",
       "      <td>243500.0</td>\n",
       "      <td>26, 29</td>\n",
       "      <td>False</td>\n",
       "      <td>False</td>\n",
       "      <td>False</td>\n",
       "      <td>0</td>\n",
       "    </tr>\n",
       "    <tr>\n",
       "      <td>38223</td>\n",
       "      <td>53.0</td>\n",
       "      <td>-</td>\n",
       "      <td>2015</td>\n",
       "      <td>6000.0</td>\n",
       "      <td>400.0</td>\n",
       "      <td>0.0</td>\n",
       "      <td>NaN</td>\n",
       "      <td>NaN</td>\n",
       "      <td>NaN</td>\n",
       "      <td>0.0</td>\n",
       "      <td>0.933333</td>\n",
       "      <td>5600.0</td>\n",
       "      <td>48, 100</td>\n",
       "      <td>False</td>\n",
       "      <td>False</td>\n",
       "      <td>False</td>\n",
       "      <td>0</td>\n",
       "    </tr>\n",
       "    <tr>\n",
       "      <td>38441</td>\n",
       "      <td>23.0</td>\n",
       "      <td>-</td>\n",
       "      <td>2018</td>\n",
       "      <td>110000.0</td>\n",
       "      <td>3000.0</td>\n",
       "      <td>0.0</td>\n",
       "      <td>NaN</td>\n",
       "      <td>NaN</td>\n",
       "      <td>NaN</td>\n",
       "      <td>0.0</td>\n",
       "      <td>0.972727</td>\n",
       "      <td>107000.0</td>\n",
       "      <td>21, 24</td>\n",
       "      <td>False</td>\n",
       "      <td>False</td>\n",
       "      <td>False</td>\n",
       "      <td>0</td>\n",
       "    </tr>\n",
       "    <tr>\n",
       "      <td>41454</td>\n",
       "      <td>41.0</td>\n",
       "      <td>-</td>\n",
       "      <td>2015</td>\n",
       "      <td>122000.0</td>\n",
       "      <td>4300.0</td>\n",
       "      <td>1.0</td>\n",
       "      <td>NaN</td>\n",
       "      <td>NaN</td>\n",
       "      <td>NaN</td>\n",
       "      <td>4300.0</td>\n",
       "      <td>0.964754</td>\n",
       "      <td>117700.0</td>\n",
       "      <td>37, 48</td>\n",
       "      <td>False</td>\n",
       "      <td>False</td>\n",
       "      <td>False</td>\n",
       "      <td>0</td>\n",
       "    </tr>\n",
       "    <tr>\n",
       "      <td>46337</td>\n",
       "      <td>27.0</td>\n",
       "      <td>-</td>\n",
       "      <td>2019</td>\n",
       "      <td>676000.0</td>\n",
       "      <td>42500.0</td>\n",
       "      <td>0.0</td>\n",
       "      <td>NaN</td>\n",
       "      <td>NaN</td>\n",
       "      <td>NaN</td>\n",
       "      <td>0.0</td>\n",
       "      <td>0.937130</td>\n",
       "      <td>633500.0</td>\n",
       "      <td>26, 29</td>\n",
       "      <td>False</td>\n",
       "      <td>False</td>\n",
       "      <td>False</td>\n",
       "      <td>0</td>\n",
       "    </tr>\n",
       "    <tr>\n",
       "      <td>47966</td>\n",
       "      <td>41.0</td>\n",
       "      <td>-</td>\n",
       "      <td>2017</td>\n",
       "      <td>35000.0</td>\n",
       "      <td>400.0</td>\n",
       "      <td>1.0</td>\n",
       "      <td>NaN</td>\n",
       "      <td>NaN</td>\n",
       "      <td>NaN</td>\n",
       "      <td>400.0</td>\n",
       "      <td>0.988571</td>\n",
       "      <td>34600.0</td>\n",
       "      <td>37, 48</td>\n",
       "      <td>False</td>\n",
       "      <td>False</td>\n",
       "      <td>False</td>\n",
       "      <td>0</td>\n",
       "    </tr>\n",
       "    <tr>\n",
       "      <td>52346</td>\n",
       "      <td>41.0</td>\n",
       "      <td>-</td>\n",
       "      <td>2019</td>\n",
       "      <td>345000.0</td>\n",
       "      <td>8500.0</td>\n",
       "      <td>0.0</td>\n",
       "      <td>NaN</td>\n",
       "      <td>NaN</td>\n",
       "      <td>NaN</td>\n",
       "      <td>0.0</td>\n",
       "      <td>0.975362</td>\n",
       "      <td>336500.0</td>\n",
       "      <td>37, 48</td>\n",
       "      <td>False</td>\n",
       "      <td>False</td>\n",
       "      <td>False</td>\n",
       "      <td>0</td>\n",
       "    </tr>\n",
       "    <tr>\n",
       "      <td>53924</td>\n",
       "      <td>41.0</td>\n",
       "      <td>-</td>\n",
       "      <td>2016</td>\n",
       "      <td>179000.0</td>\n",
       "      <td>4300.0</td>\n",
       "      <td>1.0</td>\n",
       "      <td>NaN</td>\n",
       "      <td>NaN</td>\n",
       "      <td>NaN</td>\n",
       "      <td>4300.0</td>\n",
       "      <td>0.975978</td>\n",
       "      <td>174700.0</td>\n",
       "      <td>37, 48</td>\n",
       "      <td>False</td>\n",
       "      <td>False</td>\n",
       "      <td>False</td>\n",
       "      <td>0</td>\n",
       "    </tr>\n",
       "    <tr>\n",
       "      <td>57536</td>\n",
       "      <td>25.0</td>\n",
       "      <td>-</td>\n",
       "      <td>2015</td>\n",
       "      <td>126000.0</td>\n",
       "      <td>4300.0</td>\n",
       "      <td>0.0</td>\n",
       "      <td>NaN</td>\n",
       "      <td>NaN</td>\n",
       "      <td>NaN</td>\n",
       "      <td>0.0</td>\n",
       "      <td>0.965873</td>\n",
       "      <td>121700.0</td>\n",
       "      <td>24, 26</td>\n",
       "      <td>False</td>\n",
       "      <td>False</td>\n",
       "      <td>False</td>\n",
       "      <td>0</td>\n",
       "    </tr>\n",
       "    <tr>\n",
       "      <td>60508</td>\n",
       "      <td>22.0</td>\n",
       "      <td>-</td>\n",
       "      <td>2018</td>\n",
       "      <td>33000.0</td>\n",
       "      <td>400.0</td>\n",
       "      <td>1.0</td>\n",
       "      <td>NaN</td>\n",
       "      <td>NaN</td>\n",
       "      <td>NaN</td>\n",
       "      <td>400.0</td>\n",
       "      <td>0.987879</td>\n",
       "      <td>32600.0</td>\n",
       "      <td>21, 24</td>\n",
       "      <td>False</td>\n",
       "      <td>False</td>\n",
       "      <td>False</td>\n",
       "      <td>0</td>\n",
       "    </tr>\n",
       "    <tr>\n",
       "      <td>61782</td>\n",
       "      <td>29.0</td>\n",
       "      <td>-</td>\n",
       "      <td>2018</td>\n",
       "      <td>29000.0</td>\n",
       "      <td>400.0</td>\n",
       "      <td>0.0</td>\n",
       "      <td>NaN</td>\n",
       "      <td>NaN</td>\n",
       "      <td>NaN</td>\n",
       "      <td>0.0</td>\n",
       "      <td>0.986207</td>\n",
       "      <td>28600.0</td>\n",
       "      <td>26, 29</td>\n",
       "      <td>False</td>\n",
       "      <td>False</td>\n",
       "      <td>False</td>\n",
       "      <td>0</td>\n",
       "    </tr>\n",
       "    <tr>\n",
       "      <td>63173</td>\n",
       "      <td>21.0</td>\n",
       "      <td>-</td>\n",
       "      <td>2019</td>\n",
       "      <td>130000.0</td>\n",
       "      <td>3800.0</td>\n",
       "      <td>0.0</td>\n",
       "      <td>NaN</td>\n",
       "      <td>NaN</td>\n",
       "      <td>NaN</td>\n",
       "      <td>0.0</td>\n",
       "      <td>0.970769</td>\n",
       "      <td>126200.0</td>\n",
       "      <td>-1, 21</td>\n",
       "      <td>False</td>\n",
       "      <td>False</td>\n",
       "      <td>False</td>\n",
       "      <td>0</td>\n",
       "    </tr>\n",
       "    <tr>\n",
       "      <td>68844</td>\n",
       "      <td>26.0</td>\n",
       "      <td>-</td>\n",
       "      <td>2019</td>\n",
       "      <td>487000.0</td>\n",
       "      <td>12800.0</td>\n",
       "      <td>0.0</td>\n",
       "      <td>NaN</td>\n",
       "      <td>NaN</td>\n",
       "      <td>NaN</td>\n",
       "      <td>0.0</td>\n",
       "      <td>0.973717</td>\n",
       "      <td>474200.0</td>\n",
       "      <td>24, 26</td>\n",
       "      <td>False</td>\n",
       "      <td>False</td>\n",
       "      <td>False</td>\n",
       "      <td>0</td>\n",
       "    </tr>\n",
       "    <tr>\n",
       "      <td>72826</td>\n",
       "      <td>27.0</td>\n",
       "      <td>-</td>\n",
       "      <td>2019</td>\n",
       "      <td>223000.0</td>\n",
       "      <td>6400.0</td>\n",
       "      <td>0.0</td>\n",
       "      <td>NaN</td>\n",
       "      <td>NaN</td>\n",
       "      <td>NaN</td>\n",
       "      <td>0.0</td>\n",
       "      <td>0.971300</td>\n",
       "      <td>216600.0</td>\n",
       "      <td>26, 29</td>\n",
       "      <td>False</td>\n",
       "      <td>False</td>\n",
       "      <td>False</td>\n",
       "      <td>0</td>\n",
       "    </tr>\n",
       "    <tr>\n",
       "      <td>73571</td>\n",
       "      <td>19.0</td>\n",
       "      <td>-</td>\n",
       "      <td>2019</td>\n",
       "      <td>43000.0</td>\n",
       "      <td>400.0</td>\n",
       "      <td>0.0</td>\n",
       "      <td>NaN</td>\n",
       "      <td>NaN</td>\n",
       "      <td>NaN</td>\n",
       "      <td>0.0</td>\n",
       "      <td>0.990698</td>\n",
       "      <td>42600.0</td>\n",
       "      <td>-1, 21</td>\n",
       "      <td>False</td>\n",
       "      <td>False</td>\n",
       "      <td>False</td>\n",
       "      <td>0</td>\n",
       "    </tr>\n",
       "    <tr>\n",
       "      <td>73655</td>\n",
       "      <td>23.0</td>\n",
       "      <td>-</td>\n",
       "      <td>2018</td>\n",
       "      <td>6000.0</td>\n",
       "      <td>400.0</td>\n",
       "      <td>0.0</td>\n",
       "      <td>NaN</td>\n",
       "      <td>NaN</td>\n",
       "      <td>NaN</td>\n",
       "      <td>0.0</td>\n",
       "      <td>0.933333</td>\n",
       "      <td>5600.0</td>\n",
       "      <td>21, 24</td>\n",
       "      <td>False</td>\n",
       "      <td>False</td>\n",
       "      <td>False</td>\n",
       "      <td>0</td>\n",
       "    </tr>\n",
       "  </tbody>\n",
       "</table>\n",
       "</div>"
      ],
      "text/plain": [
       "        age gender  year    refund      fee  has_paid  income_근로  income_사업  \\\n",
       "2613   27.0      -  2016  559000.0  12800.0       0.0        NaN        NaN   \n",
       "4101   27.0      -  2017  209000.0   4300.0       0.0        NaN        NaN   \n",
       "9574   42.0      -  2015  175000.0   4300.0       0.0        NaN        NaN   \n",
       "20536  26.0      -  2017  845000.0  25100.0       0.0        NaN        NaN   \n",
       "28211  26.0      -  2016  650000.0  12800.0       0.0        NaN        NaN   \n",
       "36217  27.0      -  2018  124000.0   3400.0       0.0        NaN        NaN   \n",
       "37674  27.0      -  2015  252000.0   8500.0       0.0        NaN        NaN   \n",
       "38223  53.0      -  2015    6000.0    400.0       0.0        NaN        NaN   \n",
       "38441  23.0      -  2018  110000.0   3000.0       0.0        NaN        NaN   \n",
       "41454  41.0      -  2015  122000.0   4300.0       1.0        NaN        NaN   \n",
       "46337  27.0      -  2019  676000.0  42500.0       0.0        NaN        NaN   \n",
       "47966  41.0      -  2017   35000.0    400.0       1.0        NaN        NaN   \n",
       "52346  41.0      -  2019  345000.0   8500.0       0.0        NaN        NaN   \n",
       "53924  41.0      -  2016  179000.0   4300.0       1.0        NaN        NaN   \n",
       "57536  25.0      -  2015  126000.0   4300.0       0.0        NaN        NaN   \n",
       "60508  22.0      -  2018   33000.0    400.0       1.0        NaN        NaN   \n",
       "61782  29.0      -  2018   29000.0    400.0       0.0        NaN        NaN   \n",
       "63173  21.0      -  2019  130000.0   3800.0       0.0        NaN        NaN   \n",
       "68844  26.0      -  2019  487000.0  12800.0       0.0        NaN        NaN   \n",
       "72826  27.0      -  2019  223000.0   6400.0       0.0        NaN        NaN   \n",
       "73571  19.0      -  2019   43000.0    400.0       0.0        NaN        NaN   \n",
       "73655  23.0      -  2018    6000.0    400.0       0.0        NaN        NaN   \n",
       "\n",
       "       income_기타  Target        pr      gain   ag_cat   근로yn   사업yn   기타yn  \\\n",
       "2613         NaN     0.0  0.977102  546200.0   26, 29  False  False  False   \n",
       "4101         NaN     0.0  0.979426  204700.0   26, 29  False  False  False   \n",
       "9574         NaN     0.0  0.975429  170700.0   37, 48  False  False  False   \n",
       "20536        NaN     0.0  0.970296  819900.0   24, 26  False  False  False   \n",
       "28211        NaN     0.0  0.980308  637200.0   24, 26  False  False  False   \n",
       "36217        NaN     0.0  0.972581  120600.0   26, 29  False  False  False   \n",
       "37674        NaN     0.0  0.966270  243500.0   26, 29  False  False  False   \n",
       "38223        NaN     0.0  0.933333    5600.0  48, 100  False  False  False   \n",
       "38441        NaN     0.0  0.972727  107000.0   21, 24  False  False  False   \n",
       "41454        NaN  4300.0  0.964754  117700.0   37, 48  False  False  False   \n",
       "46337        NaN     0.0  0.937130  633500.0   26, 29  False  False  False   \n",
       "47966        NaN   400.0  0.988571   34600.0   37, 48  False  False  False   \n",
       "52346        NaN     0.0  0.975362  336500.0   37, 48  False  False  False   \n",
       "53924        NaN  4300.0  0.975978  174700.0   37, 48  False  False  False   \n",
       "57536        NaN     0.0  0.965873  121700.0   24, 26  False  False  False   \n",
       "60508        NaN   400.0  0.987879   32600.0   21, 24  False  False  False   \n",
       "61782        NaN     0.0  0.986207   28600.0   26, 29  False  False  False   \n",
       "63173        NaN     0.0  0.970769  126200.0   -1, 21  False  False  False   \n",
       "68844        NaN     0.0  0.973717  474200.0   24, 26  False  False  False   \n",
       "72826        NaN     0.0  0.971300  216600.0   26, 29  False  False  False   \n",
       "73571        NaN     0.0  0.990698   42600.0   -1, 21  False  False  False   \n",
       "73655        NaN     0.0  0.933333    5600.0   21, 24  False  False  False   \n",
       "\n",
       "      소득notnull여부  \n",
       "2613            0  \n",
       "4101            0  \n",
       "9574            0  \n",
       "20536           0  \n",
       "28211           0  \n",
       "36217           0  \n",
       "37674           0  \n",
       "38223           0  \n",
       "38441           0  \n",
       "41454           0  \n",
       "46337           0  \n",
       "47966           0  \n",
       "52346           0  \n",
       "53924           0  \n",
       "57536           0  \n",
       "60508           0  \n",
       "61782           0  \n",
       "63173           0  \n",
       "68844           0  \n",
       "72826           0  \n",
       "73571           0  \n",
       "73655           0  "
      ]
     },
     "execution_count": 16,
     "metadata": {},
     "output_type": "execute_result"
    }
   ],
   "source": [
    "df.loc[df.gender=='-',:]"
   ]
  },
  {
   "cell_type": "code",
   "execution_count": 17,
   "metadata": {},
   "outputs": [
    {
     "data": {
      "text/plain": [
       "64643"
      ]
     },
     "execution_count": 17,
     "metadata": {},
     "output_type": "execute_result"
    }
   ],
   "source": [
    "df.query(\"has_paid==1\").shape[0]"
   ]
  },
  {
   "cell_type": "code",
   "execution_count": 19,
   "metadata": {},
   "outputs": [
    {
     "data": {
      "text/html": [
       "<div>\n",
       "<style scoped>\n",
       "    .dataframe tbody tr th:only-of-type {\n",
       "        vertical-align: middle;\n",
       "    }\n",
       "\n",
       "    .dataframe tbody tr th {\n",
       "        vertical-align: top;\n",
       "    }\n",
       "\n",
       "    .dataframe thead th {\n",
       "        text-align: right;\n",
       "    }\n",
       "</style>\n",
       "<table border=\"1\" class=\"dataframe\">\n",
       "  <thead>\n",
       "    <tr style=\"text-align: right;\">\n",
       "      <th></th>\n",
       "      <th>age</th>\n",
       "      <th>gender</th>\n",
       "      <th>year</th>\n",
       "      <th>refund</th>\n",
       "      <th>fee</th>\n",
       "      <th>has_paid</th>\n",
       "      <th>income_근로</th>\n",
       "      <th>income_사업</th>\n",
       "      <th>income_기타</th>\n",
       "      <th>Target</th>\n",
       "      <th>pr</th>\n",
       "      <th>gain</th>\n",
       "      <th>ag_cat</th>\n",
       "      <th>근로yn</th>\n",
       "      <th>사업yn</th>\n",
       "      <th>기타yn</th>\n",
       "      <th>소득notnull여부</th>\n",
       "    </tr>\n",
       "  </thead>\n",
       "  <tbody>\n",
       "    <tr>\n",
       "      <td>10034</td>\n",
       "      <td>34.0</td>\n",
       "      <td>M</td>\n",
       "      <td>2015</td>\n",
       "      <td>-231000.0</td>\n",
       "      <td>8500.0</td>\n",
       "      <td>1.0</td>\n",
       "      <td>8989000.0</td>\n",
       "      <td>1714000.0</td>\n",
       "      <td>NaN</td>\n",
       "      <td>8500.0</td>\n",
       "      <td>1.036797</td>\n",
       "      <td>-239500.0</td>\n",
       "      <td>29, 34</td>\n",
       "      <td>True</td>\n",
       "      <td>True</td>\n",
       "      <td>False</td>\n",
       "      <td>2</td>\n",
       "    </tr>\n",
       "    <tr>\n",
       "      <td>10624</td>\n",
       "      <td>25.0</td>\n",
       "      <td>F</td>\n",
       "      <td>2018</td>\n",
       "      <td>-7000.0</td>\n",
       "      <td>400.0</td>\n",
       "      <td>1.0</td>\n",
       "      <td>7508000.0</td>\n",
       "      <td>28000.0</td>\n",
       "      <td>NaN</td>\n",
       "      <td>400.0</td>\n",
       "      <td>1.057143</td>\n",
       "      <td>-7400.0</td>\n",
       "      <td>24, 26</td>\n",
       "      <td>True</td>\n",
       "      <td>True</td>\n",
       "      <td>False</td>\n",
       "      <td>2</td>\n",
       "    </tr>\n",
       "    <tr>\n",
       "      <td>29515</td>\n",
       "      <td>41.0</td>\n",
       "      <td>F</td>\n",
       "      <td>2017</td>\n",
       "      <td>-10000.0</td>\n",
       "      <td>400.0</td>\n",
       "      <td>1.0</td>\n",
       "      <td>19718000.0</td>\n",
       "      <td>162000.0</td>\n",
       "      <td>128000.0</td>\n",
       "      <td>400.0</td>\n",
       "      <td>1.040000</td>\n",
       "      <td>-10400.0</td>\n",
       "      <td>37, 48</td>\n",
       "      <td>True</td>\n",
       "      <td>True</td>\n",
       "      <td>True</td>\n",
       "      <td>3</td>\n",
       "    </tr>\n",
       "    <tr>\n",
       "      <td>54256</td>\n",
       "      <td>48.0</td>\n",
       "      <td>F</td>\n",
       "      <td>2018</td>\n",
       "      <td>-948000.0</td>\n",
       "      <td>3000.0</td>\n",
       "      <td>1.0</td>\n",
       "      <td>8157000.0</td>\n",
       "      <td>3975000.0</td>\n",
       "      <td>NaN</td>\n",
       "      <td>3000.0</td>\n",
       "      <td>1.003165</td>\n",
       "      <td>-951000.0</td>\n",
       "      <td>37, 48</td>\n",
       "      <td>True</td>\n",
       "      <td>True</td>\n",
       "      <td>False</td>\n",
       "      <td>2</td>\n",
       "    </tr>\n",
       "    <tr>\n",
       "      <td>57756</td>\n",
       "      <td>38.0</td>\n",
       "      <td>F</td>\n",
       "      <td>2017</td>\n",
       "      <td>-107000.0</td>\n",
       "      <td>4300.0</td>\n",
       "      <td>1.0</td>\n",
       "      <td>16619000.0</td>\n",
       "      <td>737000.0</td>\n",
       "      <td>NaN</td>\n",
       "      <td>4300.0</td>\n",
       "      <td>1.040187</td>\n",
       "      <td>-111300.0</td>\n",
       "      <td>37, 48</td>\n",
       "      <td>True</td>\n",
       "      <td>True</td>\n",
       "      <td>False</td>\n",
       "      <td>2</td>\n",
       "    </tr>\n",
       "    <tr>\n",
       "      <td>68881</td>\n",
       "      <td>33.0</td>\n",
       "      <td>M</td>\n",
       "      <td>2016</td>\n",
       "      <td>-322000.0</td>\n",
       "      <td>400.0</td>\n",
       "      <td>1.0</td>\n",
       "      <td>NaN</td>\n",
       "      <td>57000.0</td>\n",
       "      <td>NaN</td>\n",
       "      <td>400.0</td>\n",
       "      <td>1.001242</td>\n",
       "      <td>-322400.0</td>\n",
       "      <td>29, 34</td>\n",
       "      <td>False</td>\n",
       "      <td>True</td>\n",
       "      <td>False</td>\n",
       "      <td>1</td>\n",
       "    </tr>\n",
       "    <tr>\n",
       "      <td>98352</td>\n",
       "      <td>33.0</td>\n",
       "      <td>M</td>\n",
       "      <td>2018</td>\n",
       "      <td>-8265000.0</td>\n",
       "      <td>4300.0</td>\n",
       "      <td>1.0</td>\n",
       "      <td>NaN</td>\n",
       "      <td>690000.0</td>\n",
       "      <td>NaN</td>\n",
       "      <td>4300.0</td>\n",
       "      <td>1.000520</td>\n",
       "      <td>-8269300.0</td>\n",
       "      <td>29, 34</td>\n",
       "      <td>False</td>\n",
       "      <td>True</td>\n",
       "      <td>False</td>\n",
       "      <td>1</td>\n",
       "    </tr>\n",
       "  </tbody>\n",
       "</table>\n",
       "</div>"
      ],
      "text/plain": [
       "        age gender  year     refund     fee  has_paid   income_근로  income_사업  \\\n",
       "10034  34.0      M  2015  -231000.0  8500.0       1.0   8989000.0  1714000.0   \n",
       "10624  25.0      F  2018    -7000.0   400.0       1.0   7508000.0    28000.0   \n",
       "29515  41.0      F  2017   -10000.0   400.0       1.0  19718000.0   162000.0   \n",
       "54256  48.0      F  2018  -948000.0  3000.0       1.0   8157000.0  3975000.0   \n",
       "57756  38.0      F  2017  -107000.0  4300.0       1.0  16619000.0   737000.0   \n",
       "68881  33.0      M  2016  -322000.0   400.0       1.0         NaN    57000.0   \n",
       "98352  33.0      M  2018 -8265000.0  4300.0       1.0         NaN   690000.0   \n",
       "\n",
       "       income_기타  Target        pr       gain  ag_cat   근로yn  사업yn   기타yn  \\\n",
       "10034        NaN  8500.0  1.036797  -239500.0  29, 34   True  True  False   \n",
       "10624        NaN   400.0  1.057143    -7400.0  24, 26   True  True  False   \n",
       "29515   128000.0   400.0  1.040000   -10400.0  37, 48   True  True   True   \n",
       "54256        NaN  3000.0  1.003165  -951000.0  37, 48   True  True  False   \n",
       "57756        NaN  4300.0  1.040187  -111300.0  37, 48   True  True  False   \n",
       "68881        NaN   400.0  1.001242  -322400.0  29, 34  False  True  False   \n",
       "98352        NaN  4300.0  1.000520 -8269300.0  29, 34  False  True  False   \n",
       "\n",
       "      소득notnull여부  \n",
       "10034           2  \n",
       "10624           2  \n",
       "29515           3  \n",
       "54256           2  \n",
       "57756           2  \n",
       "68881           1  \n",
       "98352           1  "
      ]
     },
     "execution_count": 19,
     "metadata": {},
     "output_type": "execute_result"
    }
   ],
   "source": [
    "df.query(\"refund <0 and has_paid ==1.0\")"
   ]
  },
  {
   "cell_type": "markdown",
   "metadata": {},
   "source": [
    "- 환급세액이 마이너스인 경우는 기납부 세액이 결정세액보다 적은 경우이므로 세액의 특성상 존재하는 데이터이다.  \n",
    "- 이 데이터들은 전체 데이터에서 수수료중 빈도수가 높은 400과 4300과 8500에 해당하는 데이터로 오류 데이터로 보지 않고 삭제하지 않는다."
   ]
  },
  {
   "cell_type": "markdown",
   "metadata": {},
   "source": [
    "#### 6) 상관관계 파악"
   ]
  },
  {
   "cell_type": "code",
   "execution_count": 21,
   "metadata": {},
   "outputs": [],
   "source": [
    "corr=df.corr()"
   ]
  },
  {
   "cell_type": "code",
   "execution_count": 22,
   "metadata": {},
   "outputs": [
    {
     "data": {
      "text/plain": [
       "Text(0.5, 1, 'Feature Correlation')"
      ]
     },
     "execution_count": 22,
     "metadata": {},
     "output_type": "execute_result"
    },
    {
     "data": {
      "image/png": "[encoded data removed]",
      "text/plain": [
       "<Figure size 1080x1080 with 2 Axes>"
      ]
     },
     "metadata": {
      "needs_background": "light"
     },
     "output_type": "display_data"
    }
   ],
   "source": [
    "plt.figure(figsize=(15, 15));\n",
    "sns.heatmap(corr,\n",
    "            vmax=0.8,\n",
    "            linewidths=0.01,\n",
    "            square=True,\n",
    "            annot=True,\n",
    "            cmap='YlGnBu');\n",
    "plt.title('Feature Correlation')"
   ]
  },
  {
   "cell_type": "markdown",
   "metadata": {},
   "source": [
    "- <U>상관계수 히트맵으로는 결제여부와 약한 상관관계가 있는 사업소득 유무를 제외하면,상관관계 있는 변수는 없는 것으로 판단된다.</U>\n",
    "- 다만, 결제금액인 Target을 보면, 상식적으로 생각하는 것처럼 환급액과 수수료에 약한 상관관계가 있다.\n",
    "- 추가로, 사업소득과 결제금액은 뚜렷한 양의 상관관계가 있으며, 기타소득과도 결제금액은 어느정도의 상관관계가 있다."
   ]
  },
  {
   "cell_type": "markdown",
   "metadata": {},
   "source": [
    "####  7) 범주형 변수간의 상관관계 파악\n",
    "#### - Cramer's V\n",
    "#####   범주형 변수간 상관관계 파악\n",
    "#####   비교 대상 범주 대상이 3개 이상\n",
    "https://www.kaggle.com/chrisbss1/cramer-s-v-correlation-matrix"
   ]
  },
  {
   "cell_type": "code",
   "execution_count": 24,
   "metadata": {},
   "outputs": [
    {
     "data": {
      "text/html": [
       "<div>\n",
       "<style scoped>\n",
       "    .dataframe tbody tr th:only-of-type {\n",
       "        vertical-align: middle;\n",
       "    }\n",
       "\n",
       "    .dataframe tbody tr th {\n",
       "        vertical-align: top;\n",
       "    }\n",
       "\n",
       "    .dataframe thead th {\n",
       "        text-align: right;\n",
       "    }\n",
       "</style>\n",
       "<table border=\"1\" class=\"dataframe\">\n",
       "  <thead>\n",
       "    <tr style=\"text-align: right;\">\n",
       "      <th></th>\n",
       "      <th>gender</th>\n",
       "      <th>year</th>\n",
       "      <th>has_paid</th>\n",
       "      <th>ag_cat</th>\n",
       "      <th>근로yn</th>\n",
       "      <th>사업yn</th>\n",
       "      <th>기타yn</th>\n",
       "      <th>소득notnull여부</th>\n",
       "    </tr>\n",
       "  </thead>\n",
       "  <tbody>\n",
       "    <tr>\n",
       "      <td>0</td>\n",
       "      <td>F</td>\n",
       "      <td>2019</td>\n",
       "      <td>0.0</td>\n",
       "      <td>26, 29</td>\n",
       "      <td>True</td>\n",
       "      <td>True</td>\n",
       "      <td>False</td>\n",
       "      <td>2</td>\n",
       "    </tr>\n",
       "    <tr>\n",
       "      <td>1</td>\n",
       "      <td>M</td>\n",
       "      <td>2018</td>\n",
       "      <td>1.0</td>\n",
       "      <td>29, 34</td>\n",
       "      <td>True</td>\n",
       "      <td>False</td>\n",
       "      <td>True</td>\n",
       "      <td>2</td>\n",
       "    </tr>\n",
       "    <tr>\n",
       "      <td>2</td>\n",
       "      <td>F</td>\n",
       "      <td>2017</td>\n",
       "      <td>0.0</td>\n",
       "      <td>26, 29</td>\n",
       "      <td>False</td>\n",
       "      <td>True</td>\n",
       "      <td>False</td>\n",
       "      <td>1</td>\n",
       "    </tr>\n",
       "    <tr>\n",
       "      <td>3</td>\n",
       "      <td>M</td>\n",
       "      <td>2019</td>\n",
       "      <td>0.0</td>\n",
       "      <td>26, 29</td>\n",
       "      <td>False</td>\n",
       "      <td>True</td>\n",
       "      <td>False</td>\n",
       "      <td>1</td>\n",
       "    </tr>\n",
       "    <tr>\n",
       "      <td>4</td>\n",
       "      <td>F</td>\n",
       "      <td>2016</td>\n",
       "      <td>1.0</td>\n",
       "      <td>24, 26</td>\n",
       "      <td>True</td>\n",
       "      <td>True</td>\n",
       "      <td>False</td>\n",
       "      <td>2</td>\n",
       "    </tr>\n",
       "  </tbody>\n",
       "</table>\n",
       "</div>"
      ],
      "text/plain": [
       "  gender  year  has_paid  ag_cat   근로yn   사업yn   기타yn 소득notnull여부\n",
       "0      F  2019       0.0  26, 29   True   True  False           2\n",
       "1      M  2018       1.0  29, 34   True  False   True           2\n",
       "2      F  2017       0.0  26, 29  False   True  False           1\n",
       "3      M  2019       0.0  26, 29  False   True  False           1\n",
       "4      F  2016       1.0  24, 26   True   True  False           2"
      ]
     },
     "execution_count": 24,
     "metadata": {},
     "output_type": "execute_result"
    }
   ],
   "source": [
    "data = df[[i for i in df.columns if i in ('gender','ag_cat','has_paid','근로yn','사업yn','기타yn','소득notnull여부','year')]]\n",
    "\n",
    "data.head()"
   ]
  },
  {
   "cell_type": "code",
   "execution_count": 25,
   "metadata": {},
   "outputs": [],
   "source": [
    "from sklearn import preprocessing\n",
    "\n",
    "label = preprocessing.LabelEncoder()\n",
    "data_encoded = pd.DataFrame() \n",
    "\n",
    "for i in data.columns :\n",
    "  data_encoded[i]=label.fit_transform(data[i])"
   ]
  },
  {
   "cell_type": "code",
   "execution_count": 26,
   "metadata": {},
   "outputs": [
    {
     "data": {
      "text/html": [
       "<div>\n",
       "<style scoped>\n",
       "    .dataframe tbody tr th:only-of-type {\n",
       "        vertical-align: middle;\n",
       "    }\n",
       "\n",
       "    .dataframe tbody tr th {\n",
       "        vertical-align: top;\n",
       "    }\n",
       "\n",
       "    .dataframe thead th {\n",
       "        text-align: right;\n",
       "    }\n",
       "</style>\n",
       "<table border=\"1\" class=\"dataframe\">\n",
       "  <thead>\n",
       "    <tr style=\"text-align: right;\">\n",
       "      <th></th>\n",
       "      <th>gender</th>\n",
       "      <th>year</th>\n",
       "      <th>has_paid</th>\n",
       "      <th>ag_cat</th>\n",
       "      <th>근로yn</th>\n",
       "      <th>사업yn</th>\n",
       "      <th>기타yn</th>\n",
       "      <th>소득notnull여부</th>\n",
       "    </tr>\n",
       "  </thead>\n",
       "  <tbody>\n",
       "    <tr>\n",
       "      <td>0</td>\n",
       "      <td>0</td>\n",
       "      <td>4</td>\n",
       "      <td>0</td>\n",
       "      <td>3</td>\n",
       "      <td>1</td>\n",
       "      <td>1</td>\n",
       "      <td>0</td>\n",
       "      <td>2</td>\n",
       "    </tr>\n",
       "    <tr>\n",
       "      <td>1</td>\n",
       "      <td>1</td>\n",
       "      <td>3</td>\n",
       "      <td>1</td>\n",
       "      <td>4</td>\n",
       "      <td>1</td>\n",
       "      <td>0</td>\n",
       "      <td>1</td>\n",
       "      <td>2</td>\n",
       "    </tr>\n",
       "    <tr>\n",
       "      <td>2</td>\n",
       "      <td>0</td>\n",
       "      <td>2</td>\n",
       "      <td>0</td>\n",
       "      <td>3</td>\n",
       "      <td>0</td>\n",
       "      <td>1</td>\n",
       "      <td>0</td>\n",
       "      <td>1</td>\n",
       "    </tr>\n",
       "    <tr>\n",
       "      <td>3</td>\n",
       "      <td>1</td>\n",
       "      <td>4</td>\n",
       "      <td>0</td>\n",
       "      <td>3</td>\n",
       "      <td>0</td>\n",
       "      <td>1</td>\n",
       "      <td>0</td>\n",
       "      <td>1</td>\n",
       "    </tr>\n",
       "    <tr>\n",
       "      <td>4</td>\n",
       "      <td>0</td>\n",
       "      <td>1</td>\n",
       "      <td>1</td>\n",
       "      <td>2</td>\n",
       "      <td>1</td>\n",
       "      <td>1</td>\n",
       "      <td>0</td>\n",
       "      <td>2</td>\n",
       "    </tr>\n",
       "  </tbody>\n",
       "</table>\n",
       "</div>"
      ],
      "text/plain": [
       "   gender  year  has_paid  ag_cat  근로yn  사업yn  기타yn  소득notnull여부\n",
       "0       0     4         0       3     1     1     0            2\n",
       "1       1     3         1       4     1     0     1            2\n",
       "2       0     2         0       3     0     1     0            1\n",
       "3       1     4         0       3     0     1     0            1\n",
       "4       0     1         1       2     1     1     0            2"
      ]
     },
     "execution_count": 26,
     "metadata": {},
     "output_type": "execute_result"
    }
   ],
   "source": [
    "data_encoded.head()"
   ]
  },
  {
   "cell_type": "code",
   "execution_count": 27,
   "metadata": {},
   "outputs": [],
   "source": [
    "from scipy.stats import chi2_contingency\n",
    "import numpy as np\n",
    "\n",
    "\n",
    "def cramers_V(var1,var2) :\n",
    "  crosstab =np.array(pd.crosstab(var1,var2, rownames=None, colnames=None)) # Cross table building\n",
    "  stat = chi2_contingency(crosstab)[0] # Keeping of the test statistic of the Chi2 test\n",
    "  obs = np.sum(crosstab) # Number of observations\n",
    "  mini = min(crosstab.shape)-1 # Take the minimum value between the columns and the rows of the cross table\n",
    "  return (stat/(obs*mini))"
   ]
  },
  {
   "cell_type": "code",
   "execution_count": 28,
   "metadata": {},
   "outputs": [
    {
     "data": {
      "text/html": [
       "<div>\n",
       "<style scoped>\n",
       "    .dataframe tbody tr th:only-of-type {\n",
       "        vertical-align: middle;\n",
       "    }\n",
       "\n",
       "    .dataframe tbody tr th {\n",
       "        vertical-align: top;\n",
       "    }\n",
       "\n",
       "    .dataframe thead th {\n",
       "        text-align: right;\n",
       "    }\n",
       "</style>\n",
       "<table border=\"1\" class=\"dataframe\">\n",
       "  <thead>\n",
       "    <tr style=\"text-align: right;\">\n",
       "      <th></th>\n",
       "      <th>gender</th>\n",
       "      <th>year</th>\n",
       "      <th>has_paid</th>\n",
       "      <th>ag_cat</th>\n",
       "      <th>근로yn</th>\n",
       "      <th>사업yn</th>\n",
       "      <th>기타yn</th>\n",
       "      <th>소득notnull여부</th>\n",
       "    </tr>\n",
       "  </thead>\n",
       "  <tbody>\n",
       "    <tr>\n",
       "      <td>gender</td>\n",
       "      <td>1.00</td>\n",
       "      <td>0.00</td>\n",
       "      <td>0.00</td>\n",
       "      <td>0.02</td>\n",
       "      <td>0.00</td>\n",
       "      <td>0.00</td>\n",
       "      <td>0.00</td>\n",
       "      <td>0.00</td>\n",
       "    </tr>\n",
       "    <tr>\n",
       "      <td>year</td>\n",
       "      <td>0.00</td>\n",
       "      <td>1.00</td>\n",
       "      <td>0.04</td>\n",
       "      <td>0.01</td>\n",
       "      <td>0.03</td>\n",
       "      <td>0.02</td>\n",
       "      <td>0.01</td>\n",
       "      <td>0.03</td>\n",
       "    </tr>\n",
       "    <tr>\n",
       "      <td>has_paid</td>\n",
       "      <td>0.00</td>\n",
       "      <td>0.04</td>\n",
       "      <td>1.00</td>\n",
       "      <td>0.00</td>\n",
       "      <td>0.01</td>\n",
       "      <td>0.06</td>\n",
       "      <td>0.00</td>\n",
       "      <td>0.10</td>\n",
       "    </tr>\n",
       "    <tr>\n",
       "      <td>ag_cat</td>\n",
       "      <td>0.02</td>\n",
       "      <td>0.01</td>\n",
       "      <td>0.00</td>\n",
       "      <td>1.00</td>\n",
       "      <td>0.04</td>\n",
       "      <td>0.01</td>\n",
       "      <td>0.01</td>\n",
       "      <td>0.02</td>\n",
       "    </tr>\n",
       "    <tr>\n",
       "      <td>근로yn</td>\n",
       "      <td>0.00</td>\n",
       "      <td>0.03</td>\n",
       "      <td>0.01</td>\n",
       "      <td>0.04</td>\n",
       "      <td>1.00</td>\n",
       "      <td>0.01</td>\n",
       "      <td>0.02</td>\n",
       "      <td>0.76</td>\n",
       "    </tr>\n",
       "    <tr>\n",
       "      <td>사업yn</td>\n",
       "      <td>0.00</td>\n",
       "      <td>0.02</td>\n",
       "      <td>0.06</td>\n",
       "      <td>0.01</td>\n",
       "      <td>0.01</td>\n",
       "      <td>1.00</td>\n",
       "      <td>0.15</td>\n",
       "      <td>0.37</td>\n",
       "    </tr>\n",
       "    <tr>\n",
       "      <td>기타yn</td>\n",
       "      <td>0.00</td>\n",
       "      <td>0.01</td>\n",
       "      <td>0.00</td>\n",
       "      <td>0.01</td>\n",
       "      <td>0.02</td>\n",
       "      <td>0.15</td>\n",
       "      <td>1.00</td>\n",
       "      <td>0.26</td>\n",
       "    </tr>\n",
       "    <tr>\n",
       "      <td>소득notnull여부</td>\n",
       "      <td>0.00</td>\n",
       "      <td>0.03</td>\n",
       "      <td>0.10</td>\n",
       "      <td>0.02</td>\n",
       "      <td>0.76</td>\n",
       "      <td>0.37</td>\n",
       "      <td>0.26</td>\n",
       "      <td>1.00</td>\n",
       "    </tr>\n",
       "  </tbody>\n",
       "</table>\n",
       "</div>"
      ],
      "text/plain": [
       "             gender  year  has_paid  ag_cat  근로yn  사업yn  기타yn  소득notnull여부\n",
       "gender         1.00  0.00      0.00    0.02  0.00  0.00  0.00         0.00\n",
       "year           0.00  1.00      0.04    0.01  0.03  0.02  0.01         0.03\n",
       "has_paid       0.00  0.04      1.00    0.00  0.01  0.06  0.00         0.10\n",
       "ag_cat         0.02  0.01      0.00    1.00  0.04  0.01  0.01         0.02\n",
       "근로yn           0.00  0.03      0.01    0.04  1.00  0.01  0.02         0.76\n",
       "사업yn           0.00  0.02      0.06    0.01  0.01  1.00  0.15         0.37\n",
       "기타yn           0.00  0.01      0.00    0.01  0.02  0.15  1.00         0.26\n",
       "소득notnull여부    0.00  0.03      0.10    0.02  0.76  0.37  0.26         1.00"
      ]
     },
     "execution_count": 28,
     "metadata": {},
     "output_type": "execute_result"
    }
   ],
   "source": [
    "rows= []\n",
    "\n",
    "for var1 in data_encoded:\n",
    "  col = []\n",
    "  for var2 in data_encoded :\n",
    "    cramers =cramers_V(data_encoded[var1], data_encoded[var2]) # Cramer's V test\n",
    "    col.append(round(cramers,2)) # Keeping of the rounded value of the Cramer's V  \n",
    "  rows.append(col)\n",
    "  \n",
    "cramers_results = np.array(rows)\n",
    "df1 = pd.DataFrame(cramers_results, columns = data_encoded.columns, index =data_encoded.columns)\n",
    "\n",
    "\n",
    "\n",
    "df1"
   ]
  },
  {
   "cell_type": "code",
   "execution_count": 29,
   "metadata": {},
   "outputs": [
    {
     "data": {
      "text/plain": [
       "Text(0.5, 1, 'Feature Correlation')"
      ]
     },
     "execution_count": 29,
     "metadata": {},
     "output_type": "execute_result"
    },
    {
     "data": {
      "image/png": "[encoded data removed]",
      "text/plain": [
       "<Figure size 1080x1080 with 2 Axes>"
      ]
     },
     "metadata": {
      "needs_background": "light"
     },
     "output_type": "display_data"
    }
   ],
   "source": [
    "plt.rcParams['font.family'] = 'Malgun Gothic'\n",
    "plt.figure(figsize=(15, 15));\n",
    "sns.heatmap(df1,\n",
    "            vmax=0.8,\n",
    "            linewidths=0.01,\n",
    "            square=True,\n",
    "            annot=True,\n",
    "            cmap='YlGnBu');\n",
    "plt.title('Feature Correlation')"
   ]
  },
  {
   "cell_type": "markdown",
   "metadata": {},
   "source": [
    "- <U>통계적으로 범주형 변수간의 상관관계는 없는 것으로 판단된다.</U>"
   ]
  },
  {
   "cell_type": "markdown",
   "metadata": {},
   "source": [
    "***"
   ]
  },
  {
   "cell_type": "markdown",
   "metadata": {},
   "source": [
    "## Ⅱ. 고객의 결제여부에 영향을 미치는 요인 분석"
   ]
  },
  {
   "cell_type": "markdown",
   "metadata": {},
   "source": [
    "### 1. 머신러닝 분류 모델을 통해 지불여부에 대해 데이터를 학습시키고 feature importance를 출력한 후 분석을 진행\n",
    "#### 1) XGB분류모델을 통해 지불여부를 target value로 설정하고, 나머지 변수를 학습"
   ]
  },
  {
   "cell_type": "code",
   "execution_count": 30,
   "metadata": {},
   "outputs": [],
   "source": [
    "from xgboost import XGBClassifier\n",
    "from xgboost import plot_importance\n",
    "from sklearn.preprocessing import MinMaxScaler\n",
    "scaler=MinMaxScaler()"
   ]
  },
  {
   "cell_type": "code",
   "execution_count": 31,
   "metadata": {},
   "outputs": [
    {
     "data": {
      "text/html": [
       "<div>\n",
       "<style scoped>\n",
       "    .dataframe tbody tr th:only-of-type {\n",
       "        vertical-align: middle;\n",
       "    }\n",
       "\n",
       "    .dataframe tbody tr th {\n",
       "        vertical-align: top;\n",
       "    }\n",
       "\n",
       "    .dataframe thead th {\n",
       "        text-align: right;\n",
       "    }\n",
       "</style>\n",
       "<table border=\"1\" class=\"dataframe\">\n",
       "  <thead>\n",
       "    <tr style=\"text-align: right;\">\n",
       "      <th></th>\n",
       "      <th>year</th>\n",
       "      <th>refund</th>\n",
       "      <th>fee</th>\n",
       "      <th>income_근로</th>\n",
       "      <th>income_사업</th>\n",
       "      <th>income_기타</th>\n",
       "      <th>gain</th>\n",
       "      <th>age</th>\n",
       "      <th>gender_F</th>\n",
       "      <th>gender_M</th>\n",
       "    </tr>\n",
       "  </thead>\n",
       "  <tbody>\n",
       "    <tr>\n",
       "      <td>0</td>\n",
       "      <td>0.8</td>\n",
       "      <td>0.517198</td>\n",
       "      <td>0.000000</td>\n",
       "      <td>0.054850</td>\n",
       "      <td>0.001528</td>\n",
       "      <td>0.000000</td>\n",
       "      <td>0.527427</td>\n",
       "      <td>0.181818</td>\n",
       "      <td>1</td>\n",
       "      <td>0</td>\n",
       "    </tr>\n",
       "    <tr>\n",
       "      <td>1</td>\n",
       "      <td>0.6</td>\n",
       "      <td>0.523139</td>\n",
       "      <td>0.004240</td>\n",
       "      <td>0.099224</td>\n",
       "      <td>0.000000</td>\n",
       "      <td>0.028897</td>\n",
       "      <td>0.533400</td>\n",
       "      <td>0.287879</td>\n",
       "      <td>0</td>\n",
       "      <td>1</td>\n",
       "    </tr>\n",
       "    <tr>\n",
       "      <td>2</td>\n",
       "      <td>0.4</td>\n",
       "      <td>0.534959</td>\n",
       "      <td>0.036204</td>\n",
       "      <td>0.000000</td>\n",
       "      <td>0.036585</td>\n",
       "      <td>0.000000</td>\n",
       "      <td>0.544823</td>\n",
       "      <td>0.196970</td>\n",
       "      <td>1</td>\n",
       "      <td>0</td>\n",
       "    </tr>\n",
       "    <tr>\n",
       "      <td>3</td>\n",
       "      <td>0.8</td>\n",
       "      <td>0.542527</td>\n",
       "      <td>0.051533</td>\n",
       "      <td>0.000000</td>\n",
       "      <td>0.061877</td>\n",
       "      <td>0.000000</td>\n",
       "      <td>0.552237</td>\n",
       "      <td>0.181818</td>\n",
       "      <td>0</td>\n",
       "      <td>1</td>\n",
       "    </tr>\n",
       "    <tr>\n",
       "      <td>4</td>\n",
       "      <td>0.2</td>\n",
       "      <td>0.524015</td>\n",
       "      <td>0.012720</td>\n",
       "      <td>0.000000</td>\n",
       "      <td>0.017253</td>\n",
       "      <td>0.000000</td>\n",
       "      <td>0.534126</td>\n",
       "      <td>0.166667</td>\n",
       "      <td>1</td>\n",
       "      <td>0</td>\n",
       "    </tr>\n",
       "    <tr>\n",
       "      <td>...</td>\n",
       "      <td>...</td>\n",
       "      <td>...</td>\n",
       "      <td>...</td>\n",
       "      <td>...</td>\n",
       "      <td>...</td>\n",
       "      <td>...</td>\n",
       "      <td>...</td>\n",
       "      <td>...</td>\n",
       "      <td>...</td>\n",
       "      <td>...</td>\n",
       "    </tr>\n",
       "    <tr>\n",
       "      <td>99995</td>\n",
       "      <td>0.8</td>\n",
       "      <td>0.535710</td>\n",
       "      <td>0.037508</td>\n",
       "      <td>0.000000</td>\n",
       "      <td>0.000000</td>\n",
       "      <td>0.010826</td>\n",
       "      <td>0.545562</td>\n",
       "      <td>0.181818</td>\n",
       "      <td>1</td>\n",
       "      <td>0</td>\n",
       "    </tr>\n",
       "    <tr>\n",
       "      <td>99996</td>\n",
       "      <td>0.8</td>\n",
       "      <td>0.521701</td>\n",
       "      <td>0.002935</td>\n",
       "      <td>0.000000</td>\n",
       "      <td>0.011594</td>\n",
       "      <td>0.000000</td>\n",
       "      <td>0.531959</td>\n",
       "      <td>0.712121</td>\n",
       "      <td>1</td>\n",
       "      <td>0</td>\n",
       "    </tr>\n",
       "    <tr>\n",
       "      <td>99997</td>\n",
       "      <td>1.0</td>\n",
       "      <td>0.517448</td>\n",
       "      <td>0.000000</td>\n",
       "      <td>0.043453</td>\n",
       "      <td>0.001352</td>\n",
       "      <td>0.000000</td>\n",
       "      <td>0.527682</td>\n",
       "      <td>0.136364</td>\n",
       "      <td>0</td>\n",
       "      <td>1</td>\n",
       "    </tr>\n",
       "    <tr>\n",
       "      <td>99998</td>\n",
       "      <td>0.8</td>\n",
       "      <td>0.519012</td>\n",
       "      <td>0.000000</td>\n",
       "      <td>0.000000</td>\n",
       "      <td>0.005108</td>\n",
       "      <td>0.000000</td>\n",
       "      <td>0.529275</td>\n",
       "      <td>0.136364</td>\n",
       "      <td>0</td>\n",
       "      <td>1</td>\n",
       "    </tr>\n",
       "    <tr>\n",
       "      <td>99999</td>\n",
       "      <td>0.8</td>\n",
       "      <td>0.519012</td>\n",
       "      <td>0.000000</td>\n",
       "      <td>0.040278</td>\n",
       "      <td>0.005133</td>\n",
       "      <td>0.000000</td>\n",
       "      <td>0.529275</td>\n",
       "      <td>0.121212</td>\n",
       "      <td>1</td>\n",
       "      <td>0</td>\n",
       "    </tr>\n",
       "  </tbody>\n",
       "</table>\n",
       "<p>99978 rows × 10 columns</p>\n",
       "</div>"
      ],
      "text/plain": [
       "       year    refund       fee  income_근로  income_사업  income_기타      gain  \\\n",
       "0       0.8  0.517198  0.000000   0.054850   0.001528   0.000000  0.527427   \n",
       "1       0.6  0.523139  0.004240   0.099224   0.000000   0.028897  0.533400   \n",
       "2       0.4  0.534959  0.036204   0.000000   0.036585   0.000000  0.544823   \n",
       "3       0.8  0.542527  0.051533   0.000000   0.061877   0.000000  0.552237   \n",
       "4       0.2  0.524015  0.012720   0.000000   0.017253   0.000000  0.534126   \n",
       "...     ...       ...       ...        ...        ...        ...       ...   \n",
       "99995   0.8  0.535710  0.037508   0.000000   0.000000   0.010826  0.545562   \n",
       "99996   0.8  0.521701  0.002935   0.000000   0.011594   0.000000  0.531959   \n",
       "99997   1.0  0.517448  0.000000   0.043453   0.001352   0.000000  0.527682   \n",
       "99998   0.8  0.519012  0.000000   0.000000   0.005108   0.000000  0.529275   \n",
       "99999   0.8  0.519012  0.000000   0.040278   0.005133   0.000000  0.529275   \n",
       "\n",
       "            age  gender_F  gender_M  \n",
       "0      0.181818         1         0  \n",
       "1      0.287879         0         1  \n",
       "2      0.196970         1         0  \n",
       "3      0.181818         0         1  \n",
       "4      0.166667         1         0  \n",
       "...         ...       ...       ...  \n",
       "99995  0.181818         1         0  \n",
       "99996  0.712121         1         0  \n",
       "99997  0.136364         0         1  \n",
       "99998  0.136364         0         1  \n",
       "99999  0.121212         1         0  \n",
       "\n",
       "[99978 rows x 10 columns]"
      ]
     },
     "execution_count": 31,
     "metadata": {},
     "output_type": "execute_result"
    }
   ],
   "source": [
    "X=df.reindex(['gender','year', 'refund', 'fee','income_근로','income_사업', 'income_기타','gain','age'],axis=1)\n",
    "X=X.fillna(0)\n",
    "y=df.has_paid\n",
    "X=pd.get_dummies(X)\n",
    "X.iloc[:,:8]=scaler.fit_transform(X.iloc[:,:8])\n",
    "X"
   ]
  },
  {
   "cell_type": "code",
   "execution_count": 32,
   "metadata": {},
   "outputs": [
    {
     "data": {
      "text/plain": [
       "0        0.0\n",
       "1        1.0\n",
       "2        0.0\n",
       "3        0.0\n",
       "4        1.0\n",
       "        ... \n",
       "99995    1.0\n",
       "99996    1.0\n",
       "99997    0.0\n",
       "99998    1.0\n",
       "99999    1.0\n",
       "Name: has_paid, Length: 99978, dtype: float64"
      ]
     },
     "execution_count": 32,
     "metadata": {},
     "output_type": "execute_result"
    }
   ],
   "source": [
    "y"
   ]
  },
  {
   "cell_type": "code",
   "execution_count": 33,
   "metadata": {},
   "outputs": [
    {
     "name": "stdout",
     "output_type": "stream",
     "text": [
      "[21:38:11] WARNING: C:/Users/Administrator/workspace/xgboost-win64_release_1.4.0/src/learner.cc:1095: Starting in XGBoost 1.3.0, the default evaluation metric used with the objective 'binary:logistic' was changed from 'error' to 'logloss'. Explicitly set eval_metric if you'd like to restore the old behavior.\n"
     ]
    },
    {
     "data": {
      "text/plain": [
       "XGBClassifier(base_score=0.5, booster='gbtree', colsample_bylevel=1,\n",
       "              colsample_bynode=1, colsample_bytree=1, gamma=0, gpu_id=-1,\n",
       "              importance_type='gain', interaction_constraints='',\n",
       "              learning_rate=0.3, max_delta_step=0, max_depth=6,\n",
       "              min_child_weight=1, missing=nan, monotone_constraints='()',\n",
       "              n_estimators=100, n_jobs=8, num_parallel_tree=1, random_state=42,\n",
       "              reg_alpha=0, reg_lambda=1, scale_pos_weight=1, subsample=1,\n",
       "              tree_method='exact', use_label_encoder=False,\n",
       "              validate_parameters=1, verbosity=None)"
      ]
     },
     "execution_count": 33,
     "metadata": {},
     "output_type": "execute_result"
    }
   ],
   "source": [
    "xgb_clf=XGBClassifier(n_estimators=100,random_state=42,learning_rate=0.3,use_label_encoder=False)\n",
    "xgb_clf.fit(X,y)"
   ]
  },
  {
   "cell_type": "markdown",
   "metadata": {},
   "source": [
    "#### 2) 변수중요도 파악"
   ]
  },
  {
   "cell_type": "code",
   "execution_count": 34,
   "metadata": {},
   "outputs": [
    {
     "data": {
      "text/plain": [
       "<matplotlib.axes._subplots.AxesSubplot at 0x1dd1e84c9c8>"
      ]
     },
     "execution_count": 34,
     "metadata": {},
     "output_type": "execute_result"
    },
    {
     "data": {
      "image/png": "[encoded data removed]",
      "text/plain": [
       "<Figure size 432x288 with 1 Axes>"
      ]
     },
     "metadata": {
      "needs_background": "light"
     },
     "output_type": "display_data"
    }
   ],
   "source": [
    "fig, ax = plt.subplots()\n",
    "plot_importance(xgb_clf,ax=ax)"
   ]
  },
  {
   "cell_type": "markdown",
   "metadata": {},
   "source": [
    "- 피어슨상관계수 히트맵에서 결제금액과 (사업소득 기타소득)이 상관관계가 있었는데, 여기서도 feature importance기준으로 상위에 속한다.\n",
    "- 제일 높은 변수중요도를 가진 변수는 사업소득이고,두번쨰가 나이,3번째가 근로소득, 네번째가 환급액,5번째가 기타 소득에 해당한다.  \n",
    "    => <U>이는 삼쩜삼 서비스를 이용해서 결제하는 주요 고객이 프리랜서일 수 있다는 의미로 해석할 수 있다.</U>\n",
    "- 변수에 각 소득원의 유무(예: 근로yn)를 넣고 학습시켰을 때 소득원의 유무는 변수중요도가 높지 않았다. "
   ]
  },
  {
   "cell_type": "markdown",
   "metadata": {},
   "source": [
    "### 2. income 사업 변수 및 소득 데이터 분석\n",
    "    - 그래프에서 보는 것처럼 결제고객의 사업소득 금액대 평균이 미결제고객의 금액대 보다 모든 연령그룹에서 훨씬 낮은 특징이 있다.\n",
    "    - 다만, 최빈값을 기준으로 보면 다른 인사이트를 얻을 수 있다.  \n",
    "    - 20세 이전과 26세에서 29세그룹, 34세부터 고연령층까지 사업소득의 최빈값이 구매고객 쪽이 더 높다.\n",
    "    - 이를 사용하면 연령별로 income 소득의 최빈값을 기준으로하여 결제율을 상승시킬 수 있다."
   ]
  },
  {
   "cell_type": "markdown",
   "metadata": {},
   "source": [
    "#### 1) 연령별 결제여부별 각 소득 파악"
   ]
  },
  {
   "cell_type": "markdown",
   "metadata": {},
   "source": [
    "#### (1) 사업소득"
   ]
  },
  {
   "cell_type": "code",
   "execution_count": 35,
   "metadata": {},
   "outputs": [
    {
     "data": {
      "text/plain": [
       "<matplotlib.legend.Legend at 0x1dd1ea3cf08>"
      ]
     },
     "execution_count": 35,
     "metadata": {},
     "output_type": "execute_result"
    },
    {
     "data": {
      "image/png": "[encoded data removed]",
      "text/plain": [
       "<Figure size 432x288 with 1 Axes>"
      ]
     },
     "metadata": {
      "needs_background": "light"
     },
     "output_type": "display_data"
    }
   ],
   "source": [
    "ag_p0=df.loc[df.income_사업.notnull(),:].query(\"has_paid==0\").groupby('ag_cat')['income_사업'].mean()\n",
    "ag_p0.name='미결제고객'\n",
    "ag_p0.plot()\n",
    "ag_p1=df.loc[df.income_사업.notnull(),:].query(\"has_paid==1\").groupby('ag_cat')['income_사업'].mean()\n",
    "ag_p1.name='결제고객'\n",
    "ag_p1.plot()\n",
    "plt.legend()"
   ]
  },
  {
   "cell_type": "code",
   "execution_count": 37,
   "metadata": {},
   "outputs": [
    {
     "data": {
      "text/plain": [
       "<matplotlib.legend.Legend at 0x1dd1e9c5448>"
      ]
     },
     "execution_count": 37,
     "metadata": {},
     "output_type": "execute_result"
    },
    {
     "data": {
      "image/png": "[encoded data removed]",
      "text/plain": [
       "<Figure size 432x288 with 1 Axes>"
      ]
     },
     "metadata": {
      "needs_background": "light"
     },
     "output_type": "display_data"
    }
   ],
   "source": [
    "f1= lambda x: x.mode()\n",
    "ag_p0=df.loc[df.income_사업.notnull(),:].query(\"has_paid==0\").groupby('ag_cat')['income_사업'].agg(f1)\n",
    "ag_p0.name='미결제고객'\n",
    "ag_p0.plot()\n",
    "ag_p1=df.loc[df.income_사업.notnull(),:].query(\"has_paid==1\").groupby('ag_cat')['income_사업'].agg(f1)\n",
    "ag_p1.name='결제고객'\n",
    "ag_p1.plot()\n",
    "plt.legend()"
   ]
  },
  {
   "cell_type": "markdown",
   "metadata": {},
   "source": [
    "- 연령별 사업소득의 결제율을 높이기위한 값 설정"
   ]
  },
  {
   "cell_type": "code",
   "execution_count": 39,
   "metadata": {},
   "outputs": [
    {
     "data": {
      "text/html": [
       "<div>\n",
       "<style scoped>\n",
       "    .dataframe tbody tr th:only-of-type {\n",
       "        vertical-align: middle;\n",
       "    }\n",
       "\n",
       "    .dataframe tbody tr th {\n",
       "        vertical-align: top;\n",
       "    }\n",
       "\n",
       "    .dataframe thead th {\n",
       "        text-align: right;\n",
       "    }\n",
       "</style>\n",
       "<table border=\"1\" class=\"dataframe\">\n",
       "  <thead>\n",
       "    <tr style=\"text-align: right;\">\n",
       "      <th></th>\n",
       "      <th>cvr</th>\n",
       "    </tr>\n",
       "    <tr>\n",
       "      <th>age_bin</th>\n",
       "      <th></th>\n",
       "    </tr>\n",
       "  </thead>\n",
       "  <tbody>\n",
       "    <tr>\n",
       "      <td>-1, 21</td>\n",
       "      <td>0.663146</td>\n",
       "    </tr>\n",
       "    <tr>\n",
       "      <td>21, 24</td>\n",
       "      <td>0.653823</td>\n",
       "    </tr>\n",
       "    <tr>\n",
       "      <td>26, 29</td>\n",
       "      <td>0.653374</td>\n",
       "    </tr>\n",
       "    <tr>\n",
       "      <td>24, 26</td>\n",
       "      <td>0.652258</td>\n",
       "    </tr>\n",
       "    <tr>\n",
       "      <td>29, 34</td>\n",
       "      <td>0.638193</td>\n",
       "    </tr>\n",
       "    <tr>\n",
       "      <td>37, 48</td>\n",
       "      <td>0.625418</td>\n",
       "    </tr>\n",
       "    <tr>\n",
       "      <td>34, 37</td>\n",
       "      <td>0.621988</td>\n",
       "    </tr>\n",
       "    <tr>\n",
       "      <td>48, 100</td>\n",
       "      <td>0.616695</td>\n",
       "    </tr>\n",
       "  </tbody>\n",
       "</table>\n",
       "</div>"
      ],
      "text/plain": [
       "              cvr\n",
       "age_bin          \n",
       "-1, 21   0.663146\n",
       "21, 24   0.653823\n",
       "26, 29   0.653374\n",
       "24, 26   0.652258\n",
       "29, 34   0.638193\n",
       "37, 48   0.625418\n",
       "34, 37   0.621988\n",
       "48, 100  0.616695"
      ]
     },
     "execution_count": 39,
     "metadata": {},
     "output_type": "execute_result"
    }
   ],
   "source": [
    "# 나이대별 결제율\n",
    "l1=[]\n",
    "l2=[]\n",
    "for i in df.ag_cat.unique():\n",
    "    str_expr=\"ag_cat == @i\"\n",
    "    str_expr1=\"ag_cat == @i and has_paid ==1\"\n",
    "    l1.append(df.query(str_expr1).shape[0]/df.query(str_expr).shape[0])\n",
    "    l2.append(i)\n",
    "    \n",
    "age_cvr=pd.DataFrame([l2,l1]).T\n",
    "age_cvr.columns=['age_bin','cvr']\n",
    "age_cvr=age_cvr.set_index('age_bin').sort_values('cvr',ascending=False)\n",
    "age_cvr"
   ]
  },
  {
   "cell_type": "markdown",
   "metadata": {},
   "source": [
    "#### 사업소득 그룹화 (7개)"
   ]
  },
  {
   "cell_type": "code",
   "execution_count": 40,
   "metadata": {},
   "outputs": [
    {
     "data": {
      "text/html": [
       "<div>\n",
       "<style scoped>\n",
       "    .dataframe tbody tr th:only-of-type {\n",
       "        vertical-align: middle;\n",
       "    }\n",
       "\n",
       "    .dataframe tbody tr th {\n",
       "        vertical-align: top;\n",
       "    }\n",
       "\n",
       "    .dataframe thead th {\n",
       "        text-align: right;\n",
       "    }\n",
       "</style>\n",
       "<table border=\"1\" class=\"dataframe\">\n",
       "  <thead>\n",
       "    <tr style=\"text-align: right;\">\n",
       "      <th></th>\n",
       "      <th>age</th>\n",
       "      <th>gender</th>\n",
       "      <th>year</th>\n",
       "      <th>refund</th>\n",
       "      <th>fee</th>\n",
       "      <th>has_paid</th>\n",
       "      <th>income_근로</th>\n",
       "      <th>income_사업</th>\n",
       "      <th>income_기타</th>\n",
       "      <th>Target</th>\n",
       "      <th>pr</th>\n",
       "      <th>gain</th>\n",
       "      <th>ag_cat</th>\n",
       "      <th>근로yn</th>\n",
       "      <th>사업yn</th>\n",
       "      <th>기타yn</th>\n",
       "      <th>소득notnull여부</th>\n",
       "      <th>inc_comp_cat</th>\n",
       "    </tr>\n",
       "  </thead>\n",
       "  <tbody>\n",
       "    <tr>\n",
       "      <td>0</td>\n",
       "      <td>27.0</td>\n",
       "      <td>F</td>\n",
       "      <td>2019</td>\n",
       "      <td>5000.0</td>\n",
       "      <td>400.0</td>\n",
       "      <td>0.0</td>\n",
       "      <td>10001000.0</td>\n",
       "      <td>61000.0</td>\n",
       "      <td>NaN</td>\n",
       "      <td>0.0</td>\n",
       "      <td>0.920000</td>\n",
       "      <td>4600.0</td>\n",
       "      <td>26, 29</td>\n",
       "      <td>True</td>\n",
       "      <td>True</td>\n",
       "      <td>False</td>\n",
       "      <td>2</td>\n",
       "      <td>(-1.0, 102000.0]</td>\n",
       "    </tr>\n",
       "    <tr>\n",
       "      <td>1</td>\n",
       "      <td>34.0</td>\n",
       "      <td>M</td>\n",
       "      <td>2018</td>\n",
       "      <td>100000.0</td>\n",
       "      <td>1700.0</td>\n",
       "      <td>1.0</td>\n",
       "      <td>18092000.0</td>\n",
       "      <td>NaN</td>\n",
       "      <td>1815000.0</td>\n",
       "      <td>1700.0</td>\n",
       "      <td>0.983000</td>\n",
       "      <td>98300.0</td>\n",
       "      <td>29, 34</td>\n",
       "      <td>True</td>\n",
       "      <td>False</td>\n",
       "      <td>True</td>\n",
       "      <td>2</td>\n",
       "      <td>n</td>\n",
       "    </tr>\n",
       "    <tr>\n",
       "      <td>2</td>\n",
       "      <td>28.0</td>\n",
       "      <td>F</td>\n",
       "      <td>2017</td>\n",
       "      <td>289000.0</td>\n",
       "      <td>11500.0</td>\n",
       "      <td>0.0</td>\n",
       "      <td>NaN</td>\n",
       "      <td>1461000.0</td>\n",
       "      <td>NaN</td>\n",
       "      <td>0.0</td>\n",
       "      <td>0.960208</td>\n",
       "      <td>277500.0</td>\n",
       "      <td>26, 29</td>\n",
       "      <td>False</td>\n",
       "      <td>True</td>\n",
       "      <td>False</td>\n",
       "      <td>1</td>\n",
       "      <td>(1233000.0, 2793000.0]</td>\n",
       "    </tr>\n",
       "    <tr>\n",
       "      <td>3</td>\n",
       "      <td>27.0</td>\n",
       "      <td>M</td>\n",
       "      <td>2019</td>\n",
       "      <td>410000.0</td>\n",
       "      <td>16200.0</td>\n",
       "      <td>0.0</td>\n",
       "      <td>NaN</td>\n",
       "      <td>2471000.0</td>\n",
       "      <td>NaN</td>\n",
       "      <td>0.0</td>\n",
       "      <td>0.960488</td>\n",
       "      <td>393800.0</td>\n",
       "      <td>26, 29</td>\n",
       "      <td>False</td>\n",
       "      <td>True</td>\n",
       "      <td>False</td>\n",
       "      <td>1</td>\n",
       "      <td>(1233000.0, 2793000.0]</td>\n",
       "    </tr>\n",
       "    <tr>\n",
       "      <td>4</td>\n",
       "      <td>26.0</td>\n",
       "      <td>F</td>\n",
       "      <td>2016</td>\n",
       "      <td>114000.0</td>\n",
       "      <td>4300.0</td>\n",
       "      <td>1.0</td>\n",
       "      <td>0.0</td>\n",
       "      <td>689000.0</td>\n",
       "      <td>NaN</td>\n",
       "      <td>4300.0</td>\n",
       "      <td>0.962281</td>\n",
       "      <td>109700.0</td>\n",
       "      <td>24, 26</td>\n",
       "      <td>True</td>\n",
       "      <td>True</td>\n",
       "      <td>False</td>\n",
       "      <td>2</td>\n",
       "      <td>(640000.0, 1233000.0]</td>\n",
       "    </tr>\n",
       "    <tr>\n",
       "      <td>...</td>\n",
       "      <td>...</td>\n",
       "      <td>...</td>\n",
       "      <td>...</td>\n",
       "      <td>...</td>\n",
       "      <td>...</td>\n",
       "      <td>...</td>\n",
       "      <td>...</td>\n",
       "      <td>...</td>\n",
       "      <td>...</td>\n",
       "      <td>...</td>\n",
       "      <td>...</td>\n",
       "      <td>...</td>\n",
       "      <td>...</td>\n",
       "      <td>...</td>\n",
       "      <td>...</td>\n",
       "      <td>...</td>\n",
       "      <td>...</td>\n",
       "      <td>...</td>\n",
       "    </tr>\n",
       "    <tr>\n",
       "      <td>99995</td>\n",
       "      <td>27.0</td>\n",
       "      <td>F</td>\n",
       "      <td>2019</td>\n",
       "      <td>301000.0</td>\n",
       "      <td>11900.0</td>\n",
       "      <td>1.0</td>\n",
       "      <td>NaN</td>\n",
       "      <td>NaN</td>\n",
       "      <td>680000.0</td>\n",
       "      <td>11900.0</td>\n",
       "      <td>0.960465</td>\n",
       "      <td>289100.0</td>\n",
       "      <td>26, 29</td>\n",
       "      <td>False</td>\n",
       "      <td>False</td>\n",
       "      <td>True</td>\n",
       "      <td>1</td>\n",
       "      <td>n</td>\n",
       "    </tr>\n",
       "    <tr>\n",
       "      <td>99996</td>\n",
       "      <td>62.0</td>\n",
       "      <td>F</td>\n",
       "      <td>2019</td>\n",
       "      <td>77000.0</td>\n",
       "      <td>1300.0</td>\n",
       "      <td>1.0</td>\n",
       "      <td>NaN</td>\n",
       "      <td>463000.0</td>\n",
       "      <td>NaN</td>\n",
       "      <td>1300.0</td>\n",
       "      <td>0.983117</td>\n",
       "      <td>75700.0</td>\n",
       "      <td>48, 100</td>\n",
       "      <td>False</td>\n",
       "      <td>True</td>\n",
       "      <td>False</td>\n",
       "      <td>1</td>\n",
       "      <td>(295000.0, 640000.0]</td>\n",
       "    </tr>\n",
       "    <tr>\n",
       "      <td>99997</td>\n",
       "      <td>24.0</td>\n",
       "      <td>M</td>\n",
       "      <td>2020</td>\n",
       "      <td>9000.0</td>\n",
       "      <td>400.0</td>\n",
       "      <td>0.0</td>\n",
       "      <td>7923000.0</td>\n",
       "      <td>54000.0</td>\n",
       "      <td>NaN</td>\n",
       "      <td>0.0</td>\n",
       "      <td>0.955556</td>\n",
       "      <td>8600.0</td>\n",
       "      <td>21, 24</td>\n",
       "      <td>True</td>\n",
       "      <td>True</td>\n",
       "      <td>False</td>\n",
       "      <td>2</td>\n",
       "      <td>(-1.0, 102000.0]</td>\n",
       "    </tr>\n",
       "    <tr>\n",
       "      <td>99998</td>\n",
       "      <td>24.0</td>\n",
       "      <td>M</td>\n",
       "      <td>2019</td>\n",
       "      <td>34000.0</td>\n",
       "      <td>400.0</td>\n",
       "      <td>1.0</td>\n",
       "      <td>NaN</td>\n",
       "      <td>204000.0</td>\n",
       "      <td>NaN</td>\n",
       "      <td>400.0</td>\n",
       "      <td>0.988235</td>\n",
       "      <td>33600.0</td>\n",
       "      <td>21, 24</td>\n",
       "      <td>False</td>\n",
       "      <td>True</td>\n",
       "      <td>False</td>\n",
       "      <td>1</td>\n",
       "      <td>(102000.0, 295000.0]</td>\n",
       "    </tr>\n",
       "    <tr>\n",
       "      <td>99999</td>\n",
       "      <td>23.0</td>\n",
       "      <td>F</td>\n",
       "      <td>2019</td>\n",
       "      <td>34000.0</td>\n",
       "      <td>400.0</td>\n",
       "      <td>1.0</td>\n",
       "      <td>7344000.0</td>\n",
       "      <td>205000.0</td>\n",
       "      <td>NaN</td>\n",
       "      <td>400.0</td>\n",
       "      <td>0.988235</td>\n",
       "      <td>33600.0</td>\n",
       "      <td>21, 24</td>\n",
       "      <td>True</td>\n",
       "      <td>True</td>\n",
       "      <td>False</td>\n",
       "      <td>2</td>\n",
       "      <td>(102000.0, 295000.0]</td>\n",
       "    </tr>\n",
       "  </tbody>\n",
       "</table>\n",
       "<p>99978 rows × 18 columns</p>\n",
       "</div>"
      ],
      "text/plain": [
       "        age gender  year    refund      fee  has_paid   income_근로  income_사업  \\\n",
       "0      27.0      F  2019    5000.0    400.0       0.0  10001000.0    61000.0   \n",
       "1      34.0      M  2018  100000.0   1700.0       1.0  18092000.0        NaN   \n",
       "2      28.0      F  2017  289000.0  11500.0       0.0         NaN  1461000.0   \n",
       "3      27.0      M  2019  410000.0  16200.0       0.0         NaN  2471000.0   \n",
       "4      26.0      F  2016  114000.0   4300.0       1.0         0.0   689000.0   \n",
       "...     ...    ...   ...       ...      ...       ...         ...        ...   \n",
       "99995  27.0      F  2019  301000.0  11900.0       1.0         NaN        NaN   \n",
       "99996  62.0      F  2019   77000.0   1300.0       1.0         NaN   463000.0   \n",
       "99997  24.0      M  2020    9000.0    400.0       0.0   7923000.0    54000.0   \n",
       "99998  24.0      M  2019   34000.0    400.0       1.0         NaN   204000.0   \n",
       "99999  23.0      F  2019   34000.0    400.0       1.0   7344000.0   205000.0   \n",
       "\n",
       "       income_기타   Target        pr      gain   ag_cat   근로yn   사업yn   기타yn  \\\n",
       "0            NaN      0.0  0.920000    4600.0   26, 29   True   True  False   \n",
       "1      1815000.0   1700.0  0.983000   98300.0   29, 34   True  False   True   \n",
       "2            NaN      0.0  0.960208  277500.0   26, 29  False   True  False   \n",
       "3            NaN      0.0  0.960488  393800.0   26, 29  False   True  False   \n",
       "4            NaN   4300.0  0.962281  109700.0   24, 26   True   True  False   \n",
       "...          ...      ...       ...       ...      ...    ...    ...    ...   \n",
       "99995   680000.0  11900.0  0.960465  289100.0   26, 29  False  False   True   \n",
       "99996        NaN   1300.0  0.983117   75700.0  48, 100  False   True  False   \n",
       "99997        NaN      0.0  0.955556    8600.0   21, 24   True   True  False   \n",
       "99998        NaN    400.0  0.988235   33600.0   21, 24  False   True  False   \n",
       "99999        NaN    400.0  0.988235   33600.0   21, 24   True   True  False   \n",
       "\n",
       "      소득notnull여부            inc_comp_cat  \n",
       "0               2        (-1.0, 102000.0]  \n",
       "1               2                       n  \n",
       "2               1  (1233000.0, 2793000.0]  \n",
       "3               1  (1233000.0, 2793000.0]  \n",
       "4               2   (640000.0, 1233000.0]  \n",
       "...           ...                     ...  \n",
       "99995           1                       n  \n",
       "99996           1    (295000.0, 640000.0]  \n",
       "99997           2        (-1.0, 102000.0]  \n",
       "99998           1    (102000.0, 295000.0]  \n",
       "99999           2    (102000.0, 295000.0]  \n",
       "\n",
       "[99978 rows x 18 columns]"
      ]
     },
     "execution_count": 40,
     "metadata": {},
     "output_type": "execute_result"
    }
   ],
   "source": [
    "inc_comp_cat=pd.cut(df.income_사업,bins=[-1,df.income_사업.quantile(0.17),df.income_사업.quantile(0.17*2),\n",
    "                     df.income_사업.quantile(0.17*3),df.income_사업.quantile(0.17*4),df.income_사업.quantile(0.17*5),df.income_사업.max()])\n",
    "      #l,abels=['a','b','c','d','e','f'])\n",
    "df['inc_comp_cat']=inc_comp_cat\n",
    "df['inc_comp_cat']=df['inc_comp_cat'].astype('str')\n",
    "df['inc_comp_cat']=df['inc_comp_cat'].replace('nan','n')\n",
    "df"
   ]
  },
  {
   "cell_type": "markdown",
   "metadata": {},
   "source": [
    "#### 사업소득 그룹별 결제율을 측정 (3번째로 낮은 수치의 사업소득그룹이 결제율은 높음)"
   ]
  },
  {
   "cell_type": "code",
   "execution_count": 42,
   "metadata": {},
   "outputs": [
    {
     "data": {
      "text/plain": [
       "inc_comp_cat\n",
       "(295000.0, 640000.0]       0.781172\n",
       "(102000.0, 295000.0]       0.763988\n",
       "(640000.0, 1233000.0]      0.746281\n",
       "(1233000.0, 2793000.0]     0.704518\n",
       "(-1.0, 102000.0]           0.642573\n",
       "(2793000.0, 39934000.0]    0.605438\n",
       "n                          0.420716\n",
       "Name: 1.0, dtype: float64"
      ]
     },
     "execution_count": 42,
     "metadata": {},
     "output_type": "execute_result"
    }
   ],
   "source": [
    "f1= lambda x : x/x.sum()\n",
    "df.groupby(['inc_comp_cat','has_paid'])['refund'].count().unstack().apply(f1,axis=1).iloc[:,1].sort_values(ascending=False)"
   ]
  },
  {
   "cell_type": "markdown",
   "metadata": {},
   "source": [
    "#### 나이대별 결제율은 60%대 이므로, 70%대의 전환율을 가진 사업소득그룹중 최솟값을 기준으로 필터링 후 나이대별 결제율 측정"
   ]
  },
  {
   "cell_type": "code",
   "execution_count": 131,
   "metadata": {},
   "outputs": [
    {
     "data": {
      "text/html": [
       "<div>\n",
       "<style scoped>\n",
       "    .dataframe tbody tr th:only-of-type {\n",
       "        vertical-align: middle;\n",
       "    }\n",
       "\n",
       "    .dataframe tbody tr th {\n",
       "        vertical-align: top;\n",
       "    }\n",
       "\n",
       "    .dataframe thead th {\n",
       "        text-align: right;\n",
       "    }\n",
       "</style>\n",
       "<table border=\"1\" class=\"dataframe\">\n",
       "  <thead>\n",
       "    <tr style=\"text-align: right;\">\n",
       "      <th></th>\n",
       "      <th>cvr</th>\n",
       "      <th>age_cvr</th>\n",
       "    </tr>\n",
       "    <tr>\n",
       "      <th>age_bin</th>\n",
       "      <th></th>\n",
       "      <th></th>\n",
       "    </tr>\n",
       "  </thead>\n",
       "  <tbody>\n",
       "    <tr>\n",
       "      <td>26, 29</td>\n",
       "      <td>0.738617</td>\n",
       "      <td>0.653374</td>\n",
       "    </tr>\n",
       "    <tr>\n",
       "      <td>34, 37</td>\n",
       "      <td>0.731175</td>\n",
       "      <td>0.621988</td>\n",
       "    </tr>\n",
       "    <tr>\n",
       "      <td>29, 34</td>\n",
       "      <td>0.727812</td>\n",
       "      <td>0.638193</td>\n",
       "    </tr>\n",
       "    <tr>\n",
       "      <td>24, 26</td>\n",
       "      <td>0.727063</td>\n",
       "      <td>0.652258</td>\n",
       "    </tr>\n",
       "    <tr>\n",
       "      <td>21, 24</td>\n",
       "      <td>0.716702</td>\n",
       "      <td>0.653823</td>\n",
       "    </tr>\n",
       "    <tr>\n",
       "      <td>37, 48</td>\n",
       "      <td>0.710381</td>\n",
       "      <td>0.625418</td>\n",
       "    </tr>\n",
       "    <tr>\n",
       "      <td>-1, 21</td>\n",
       "      <td>0.702544</td>\n",
       "      <td>0.663146</td>\n",
       "    </tr>\n",
       "    <tr>\n",
       "      <td>48, 100</td>\n",
       "      <td>0.697194</td>\n",
       "      <td>0.616695</td>\n",
       "    </tr>\n",
       "  </tbody>\n",
       "</table>\n",
       "</div>"
      ],
      "text/plain": [
       "              cvr   age_cvr\n",
       "age_bin                    \n",
       "26, 29   0.738617  0.653374\n",
       "34, 37   0.731175  0.621988\n",
       "29, 34   0.727812  0.638193\n",
       "24, 26   0.727063  0.652258\n",
       "21, 24   0.716702  0.653823\n",
       "37, 48   0.710381  0.625418\n",
       "-1, 21   0.702544  0.663146\n",
       "48, 100  0.697194  0.616695"
      ]
     },
     "execution_count": 131,
     "metadata": {},
     "output_type": "execute_result"
    }
   ],
   "source": [
    "# 사업 소득 변수에 결제율 70%대의 최소값 이상인 데이터를 넣은 나이대별 결제율 비교\n",
    "l1=[]\n",
    "l2=[]\n",
    "for i in np.arange(0,ag_p1.shape[0]):\n",
    "        l1.append(ag_p1.index[i])\n",
    "        l2.append(df.query(\"income_사업>= 102000.0 and ag_cat==@ag_p1.index[@i]\").has_paid.value_counts()[1]/df.query(\"income_사업>= 102000.0 and ag_cat==@ag_p1.index[@i]\").shape[0])\n",
    "\n",
    "age_mode_cvr=pd.DataFrame([l1,l2]).T\n",
    "age_mode_cvr.columns=['age_bin','cvr']    \n",
    "age_buis_cvr=age_mode_cvr.set_index('age_bin').sort_values('cvr',ascending=False)\n",
    "age_buis_cvr['age_cvr']=age_cvr\n",
    "age_buis_cvr"
   ]
  },
  {
   "cell_type": "code",
   "execution_count": 44,
   "metadata": {},
   "outputs": [
    {
     "data": {
      "text/plain": [
       "cvr    0.078324\n",
       "dtype: float64"
      ]
     },
     "execution_count": 44,
     "metadata": {},
     "output_type": "execute_result"
    }
   ],
   "source": [
    "(age_buis_cvr-age_cvr).sort_values(by='cvr',ascending=False).mean()"
   ]
  },
  {
   "cell_type": "markdown",
   "metadata": {},
   "source": [
    "- <U> xgboost 모델의 feature selection에서 높은 중요도를 보인것처럼, income_사업 소득의 변화로 구매에 영향을 미칠 수 있음을 확인했다.</U>"
   ]
  },
  {
   "cell_type": "markdown",
   "metadata": {},
   "source": [
    "#### (2) 기타소득\n",
    "    - 기타소득 그룹화"
   ]
  },
  {
   "cell_type": "code",
   "execution_count": 95,
   "metadata": {},
   "outputs": [],
   "source": [
    "inc_etc_cat=pd.cut(df.income_기타,bins=[-1,df.income_기타.quantile(0.17),df.income_기타.quantile(0.17*2),\n",
    "                     df.income_기타.quantile(0.17*3),df.income_기타.quantile(0.17*4),df.income_기타.quantile(0.17*5),df.income_기타.max()])\n",
    "      #l,abels=['a','b','c','d','e','f'])\n",
    "df['inc_etc_cat']=inc_etc_cat\n",
    "df['inc_etc_cat']=df['inc_etc_cat'].astype('str')\n",
    "df['inc_etc_cat']=df['inc_etc_cat'].replace('nan','n')"
   ]
  },
  {
   "cell_type": "code",
   "execution_count": 73,
   "metadata": {},
   "outputs": [
    {
     "data": {
      "text/plain": [
       "<matplotlib.legend.Legend at 0x1dd21a0cac8>"
      ]
     },
     "execution_count": 73,
     "metadata": {},
     "output_type": "execute_result"
    },
    {
     "data": {
      "image/png": "[encoded data removed]",
      "text/plain": [
       "<Figure size 432x288 with 1 Axes>"
      ]
     },
     "metadata": {
      "needs_background": "light"
     },
     "output_type": "display_data"
    }
   ],
   "source": [
    "#기타소득 나이대별 평균\n",
    "ag_p0=df.loc[df.income_기타.notnull(),:].query(\"has_paid==0\").groupby('ag_cat')['income_기타'].mean()\n",
    "ag_p0.name='미결제고객'\n",
    "ag_p0.plot()\n",
    "ag_p1=df.loc[df.income_기타.notnull(),:].query(\"has_paid==1\").groupby('ag_cat')['income_기타'].mean()\n",
    "ag_p1.name='결제고객'\n",
    "ag_p1.plot()\n",
    "plt.legend()"
   ]
  },
  {
   "cell_type": "code",
   "execution_count": 46,
   "metadata": {},
   "outputs": [
    {
     "data": {
      "text/plain": [
       "<matplotlib.legend.Legend at 0x1dd2138ab48>"
      ]
     },
     "execution_count": 46,
     "metadata": {},
     "output_type": "execute_result"
    },
    {
     "data": {
      "image/png": "[encoded data removed]",
      "text/plain": [
       "<Figure size 432x288 with 1 Axes>"
      ]
     },
     "metadata": {
      "needs_background": "light"
     },
     "output_type": "display_data"
    }
   ],
   "source": [
    "#기타소득 나이대별 최빈값\n",
    "f1= lambda x: x.mode()[0]\n",
    "ag_p0=df.loc[df.income_기타.notnull(),:].query(\"has_paid==0\").groupby('ag_cat')['income_기타'].agg(f1)\n",
    "ag_p0.name='미결제고객'\n",
    "ag_p0.plot()\n",
    "ag_p1=df.loc[df.income_기타.notnull(),:].query(\"has_paid==1\").groupby('ag_cat')['income_기타'].agg(f1)\n",
    "ag_p1.name='결제고객'\n",
    "ag_p1.plot()\n",
    "plt.legend()"
   ]
  },
  {
   "cell_type": "code",
   "execution_count": 74,
   "metadata": {},
   "outputs": [
    {
     "data": {
      "text/plain": [
       "inc_etc_cat\n",
       "(51000.0, 114000.0]        0.690822\n",
       "(114000.0, 213000.0]       0.688810\n",
       "(-1.0, 51000.0]            0.686903\n",
       "(213000.0, 425000.0]       0.682455\n",
       "(425000.0, 1020000.0]      0.660925\n",
       "n                          0.641813\n",
       "(1020000.0, 62810000.0]    0.536968\n",
       "Name: 1.0, dtype: float64"
      ]
     },
     "execution_count": 74,
     "metadata": {},
     "output_type": "execute_result"
    }
   ],
   "source": [
    "f1= lambda x : x/x.sum()\n",
    "df.groupby(['inc_etc_cat','has_paid'])['refund'].count().unstack().apply(f1,axis=1).iloc[:,1].sort_values(ascending=False)"
   ]
  },
  {
   "cell_type": "code",
   "execution_count": 133,
   "metadata": {},
   "outputs": [
    {
     "data": {
      "text/html": [
       "<div>\n",
       "<style scoped>\n",
       "    .dataframe tbody tr th:only-of-type {\n",
       "        vertical-align: middle;\n",
       "    }\n",
       "\n",
       "    .dataframe tbody tr th {\n",
       "        vertical-align: top;\n",
       "    }\n",
       "\n",
       "    .dataframe thead th {\n",
       "        text-align: right;\n",
       "    }\n",
       "</style>\n",
       "<table border=\"1\" class=\"dataframe\">\n",
       "  <thead>\n",
       "    <tr style=\"text-align: right;\">\n",
       "      <th></th>\n",
       "      <th>cvr</th>\n",
       "      <th>age_cvr</th>\n",
       "    </tr>\n",
       "    <tr>\n",
       "      <th>age_bin</th>\n",
       "      <th></th>\n",
       "      <th></th>\n",
       "    </tr>\n",
       "  </thead>\n",
       "  <tbody>\n",
       "    <tr>\n",
       "      <td>-1, 21</td>\n",
       "      <td>0.68244</td>\n",
       "      <td>0.663146</td>\n",
       "    </tr>\n",
       "    <tr>\n",
       "      <td>21, 24</td>\n",
       "      <td>0.636502</td>\n",
       "      <td>0.653823</td>\n",
       "    </tr>\n",
       "    <tr>\n",
       "      <td>24, 26</td>\n",
       "      <td>0.638557</td>\n",
       "      <td>0.652258</td>\n",
       "    </tr>\n",
       "    <tr>\n",
       "      <td>26, 29</td>\n",
       "      <td>0.664028</td>\n",
       "      <td>0.653374</td>\n",
       "    </tr>\n",
       "    <tr>\n",
       "      <td>29, 34</td>\n",
       "      <td>0.647432</td>\n",
       "      <td>0.638193</td>\n",
       "    </tr>\n",
       "    <tr>\n",
       "      <td>34, 37</td>\n",
       "      <td>0.668863</td>\n",
       "      <td>0.621988</td>\n",
       "    </tr>\n",
       "    <tr>\n",
       "      <td>37, 48</td>\n",
       "      <td>0.702674</td>\n",
       "      <td>0.625418</td>\n",
       "    </tr>\n",
       "    <tr>\n",
       "      <td>48, 100</td>\n",
       "      <td>0.642029</td>\n",
       "      <td>0.616695</td>\n",
       "    </tr>\n",
       "  </tbody>\n",
       "</table>\n",
       "</div>"
      ],
      "text/plain": [
       "              cvr   age_cvr\n",
       "age_bin                    \n",
       "-1, 21    0.68244  0.663146\n",
       "21, 24   0.636502  0.653823\n",
       "24, 26   0.638557  0.652258\n",
       "26, 29   0.664028  0.653374\n",
       "29, 34   0.647432  0.638193\n",
       "34, 37   0.668863  0.621988\n",
       "37, 48   0.702674  0.625418\n",
       "48, 100  0.642029  0.616695"
      ]
     },
     "execution_count": 133,
     "metadata": {},
     "output_type": "execute_result"
    }
   ],
   "source": [
    "# 기타 소득 변수에 의한 필터링으로 나이대별 결제율 비교\n",
    "l1=[]\n",
    "l2=[]\n",
    "for i in np.arange(0,ag_p1.shape[0]):\n",
    "        l1.append(ag_p1.index[i])\n",
    "        l2.append(df.query(\"income_기타>= 51000 and ag_cat==@ag_p1.index[@i]\").has_paid.value_counts()[1]/df.query(\"income_기타>= 51000 and ag_cat==@ag_p1.index[@i]\").shape[0])\n",
    "\n",
    "age_mode_cvr=pd.DataFrame([l1,l2]).T\n",
    "age_mode_cvr.columns=['age_bin','cvr']    \n",
    "age_etc_cvr=age_mode_cvr.set_index('age_bin').sort_values('cvr',ascending=False)\n",
    "age_etc_cvr['age_cvr']=age_cvr\n",
    "age_etc_cvr.sort_index()"
   ]
  },
  {
   "cell_type": "markdown",
   "metadata": {},
   "source": [
    "- 기타 소득의 경우 위치기준 기타소득범위의 17%에 해당하는 값이나 1로 필터링하면, 21세부터 26세까지의 결제율은 낮아지고 나머지는 높아진다.\n",
    "- <U>필터링 없는 경우와 비교하면  34세 이상의 결제율 상승에 기타소득의 유무나 최소값설정으로 필터링을 하는 것이 결제율에 영향이 있다.</U> "
   ]
  },
  {
   "cell_type": "markdown",
   "metadata": {},
   "source": [
    "#### (3) 근로소득\n",
    "    - 근로소득 범주화"
   ]
  },
  {
   "cell_type": "code",
   "execution_count": 134,
   "metadata": {},
   "outputs": [],
   "source": [
    "inc_lab_cat=pd.cut(df.income_근로,bins=[-1,df.income_근로.quantile(0.17),df.income_근로.quantile(0.17*2),\n",
    "                     df.income_근로.quantile(0.17*3),df.income_근로.quantile(0.17*4),df.income_근로.quantile(0.17*5),df.income_근로.max()])\n",
    "      #l,abels=['a','b','c','d','e','f'])\n",
    "df['inc_lab_cat']=inc_lab_cat\n",
    "df['inc_lab_cat']=df['inc_lab_cat'].astype('str')\n",
    "df['inc_lab_cat']=df['inc_lab_cat'].replace('nan','n')"
   ]
  },
  {
   "cell_type": "code",
   "execution_count": 142,
   "metadata": {},
   "outputs": [
    {
     "data": {
      "text/plain": [
       "n                            59187\n",
       "(4651000.0, 7742000.0]        6935\n",
       "(-1.0, 993300.0]              6935\n",
       "(2457600.0, 4651000.0]        6935\n",
       "(993300.0, 2457600.0]         6934\n",
       "(7742000.0, 12228500.0]       6933\n",
       "(12228500.0, 182335000.0]     6119\n",
       "Name: inc_lab_cat, dtype: int64"
      ]
     },
     "execution_count": 142,
     "metadata": {},
     "output_type": "execute_result"
    }
   ],
   "source": [
    "df.inc_lab_cat.value_counts()"
   ]
  },
  {
   "cell_type": "code",
   "execution_count": 150,
   "metadata": {},
   "outputs": [
    {
     "data": {
      "text/html": [
       "<div>\n",
       "<style scoped>\n",
       "    .dataframe tbody tr th:only-of-type {\n",
       "        vertical-align: middle;\n",
       "    }\n",
       "\n",
       "    .dataframe tbody tr th {\n",
       "        vertical-align: top;\n",
       "    }\n",
       "\n",
       "    .dataframe thead th {\n",
       "        text-align: right;\n",
       "    }\n",
       "</style>\n",
       "<table border=\"1\" class=\"dataframe\">\n",
       "  <thead>\n",
       "    <tr style=\"text-align: right;\">\n",
       "      <th></th>\n",
       "      <th>cvr</th>\n",
       "      <th>age_cvr</th>\n",
       "    </tr>\n",
       "    <tr>\n",
       "      <th>age_bin</th>\n",
       "      <th></th>\n",
       "      <th></th>\n",
       "    </tr>\n",
       "  </thead>\n",
       "  <tbody>\n",
       "    <tr>\n",
       "      <td>-1, 21</td>\n",
       "      <td>0.663991</td>\n",
       "      <td>0.663146</td>\n",
       "    </tr>\n",
       "    <tr>\n",
       "      <td>21, 24</td>\n",
       "      <td>0.688779</td>\n",
       "      <td>0.653823</td>\n",
       "    </tr>\n",
       "    <tr>\n",
       "      <td>24, 26</td>\n",
       "      <td>0.701689</td>\n",
       "      <td>0.652258</td>\n",
       "    </tr>\n",
       "    <tr>\n",
       "      <td>26, 29</td>\n",
       "      <td>0.702118</td>\n",
       "      <td>0.653374</td>\n",
       "    </tr>\n",
       "    <tr>\n",
       "      <td>29, 34</td>\n",
       "      <td>0.695729</td>\n",
       "      <td>0.638193</td>\n",
       "    </tr>\n",
       "    <tr>\n",
       "      <td>34, 37</td>\n",
       "      <td>0.70194</td>\n",
       "      <td>0.621988</td>\n",
       "    </tr>\n",
       "    <tr>\n",
       "      <td>37, 48</td>\n",
       "      <td>0.711419</td>\n",
       "      <td>0.625418</td>\n",
       "    </tr>\n",
       "    <tr>\n",
       "      <td>48, 100</td>\n",
       "      <td>0.703676</td>\n",
       "      <td>0.616695</td>\n",
       "    </tr>\n",
       "  </tbody>\n",
       "</table>\n",
       "</div>"
      ],
      "text/plain": [
       "              cvr   age_cvr\n",
       "age_bin                    \n",
       "-1, 21   0.663991  0.663146\n",
       "21, 24   0.688779  0.653823\n",
       "24, 26   0.701689  0.652258\n",
       "26, 29   0.702118  0.653374\n",
       "29, 34   0.695729  0.638193\n",
       "34, 37    0.70194  0.621988\n",
       "37, 48   0.711419  0.625418\n",
       "48, 100  0.703676  0.616695"
      ]
     },
     "execution_count": 150,
     "metadata": {},
     "output_type": "execute_result"
    }
   ],
   "source": [
    "# 근로 소득 카테고리에서 최소값기준으로 필터링하여 결제율 비교\n",
    "l1=[]\n",
    "l2=[]\n",
    "for i in np.arange(0,ag_p1.shape[0]):\n",
    "        l1.append(ag_p1.index[i])\n",
    "        l2.append(df.query(\"income_근로>= 993300 and ag_cat==@ag_p1.index[@i]\").has_paid.value_counts()[1]/df.query(\"income_근로>= 993300 and ag_cat==@ag_p1.index[@i]\").shape[0])\n",
    "\n",
    "age_mode_cvr=pd.DataFrame([l1,l2]).T\n",
    "age_mode_cvr.columns=['age_bin','cvr']    \n",
    "age_lab_cvr=age_mode_cvr.set_index('age_bin').sort_values('cvr',ascending=False)\n",
    "age_lab_cvr['age_cvr']=age_cvr\n",
    "age_lab_cvr.sort_index()"
   ]
  },
  {
   "cell_type": "code",
   "execution_count": 156,
   "metadata": {},
   "outputs": [
    {
     "data": {
      "text/plain": [
       "0.05555575478494797"
      ]
     },
     "execution_count": 156,
     "metadata": {},
     "output_type": "execute_result"
    }
   ],
   "source": [
    "(age_lab_cvr['cvr']-age_lab_cvr['age_cvr']).mean()"
   ]
  },
  {
   "cell_type": "markdown",
   "metadata": {},
   "source": [
    "- 근로소득의 필터링을 통해 모든 연령층에서 결제율 전환을 상승을 관찰할 수 있다.\n",
    "- 그러므로, 근로소득도 결제여부에 영향을 주는 변수라고 볼 수 있다.\n",
    "- 다만 차이값의 평균으로 보면 3가지 소득에서 전체를 동일기준으로 하면 사업 > 근로 > 기타 순으로 결제여부에 영향을 주는 것으로 추측할 수 있다."
   ]
  },
  {
   "cell_type": "markdown",
   "metadata": {},
   "source": [
    "### 3. AGE 변수 분석 "
   ]
  },
  {
   "cell_type": "markdown",
   "metadata": {},
   "source": [
    "#### 1) 통계적 방법으로 독립성 검정을 통해 나이 카테고리변수와 결제여부컬럼의 독립성을 확인한다."
   ]
  },
  {
   "cell_type": "markdown",
   "metadata": {},
   "source": [
    "- 독립성 검정은  두 factor 변수사이에 '귀무가설 : 독립이다. / 대립가설 : 독립이 아니다.' 를 의미한다.\n",
    "- 카이제곱검정을 통한 P_value가 0.05보다 작으면 귀무가설은 기각되고 대립가설이 채택된다.  \n",
    "- 주어진 데이터에서 나이카테고리와 지불여부에 대한 독립성검정시 pvalue가 0.05보다 작아 대립가설이 채택되고 서로 관련이 있다고 볼 수 있다."
   ]
  },
  {
   "cell_type": "code",
   "execution_count": 54,
   "metadata": {},
   "outputs": [
    {
     "data": {
      "text/plain": [
       "(2.5428346424485214e-12, True)"
      ]
     },
     "execution_count": 54,
     "metadata": {},
     "output_type": "execute_result"
    }
   ],
   "source": [
    "from scipy.stats import chi2_contingency\n",
    "df_age=pd.crosstab(df.ag_cat,df.has_paid)\n",
    "p_value=chi2_contingency(df_age)[1]\n",
    "(p_value,p_value<0.05)"
   ]
  },
  {
   "cell_type": "markdown",
   "metadata": {},
   "source": [
    "#### 2) 데이터 그룹별 결제수 합과 결제율을 비교한다."
   ]
  },
  {
   "cell_type": "markdown",
   "metadata": {},
   "source": [
    "- 21-24세, 26-29세가 가장 결제 규모가 높고 34세까지는 높은 편에 속한다.\n",
    "- age_cvr은 위에서 만든 나이별 전체 데이터의 결제율데이터이다.\n",
    "- 결제율은 20세 이하의 데이터가 1등이기 때문에, 결제 규모의 순위와는 차이가 있다고 볼 수 있다.\n",
    "- 하지만, 결제율을 비교하면 34세 이상의 나이가 하위권이고 그 이전의 나이대는 상위권인것처럼 전체적인 추세는 규모를 비교한 것과 비슷하다.\n",
    "- <U>결국 34세 미만의 연령에 해당하는지의 여부가 결제여부에 영향을 미치는 것으로 볼 수 있다.</U>"
   ]
  },
  {
   "cell_type": "code",
   "execution_count": 55,
   "metadata": {},
   "outputs": [
    {
     "data": {
      "text/plain": [
       "ag_cat\n",
       "21, 24     14050.0\n",
       "26, 29     13992.0\n",
       "24, 26     11770.0\n",
       "29, 34      9705.0\n",
       "37, 48      4862.0\n",
       "-1, 21      4835.0\n",
       "34, 37      2891.0\n",
       "48, 100     2534.0\n",
       "Name: has_paid, dtype: float64"
      ]
     },
     "execution_count": 55,
     "metadata": {},
     "output_type": "execute_result"
    }
   ],
   "source": [
    "# 나이대별 결제 데이터 합의 규모를 보기 위한 것이다.\n",
    "a=df.groupby('ag_cat')['has_paid'].sum().sort_values(ascending=False)\n",
    "a"
   ]
  },
  {
   "cell_type": "code",
   "execution_count": 181,
   "metadata": {},
   "outputs": [
    {
     "data": {
      "text/plain": [
       "(0.5, 0.8)"
      ]
     },
     "execution_count": 181,
     "metadata": {},
     "output_type": "execute_result"
    },
    {
     "data": {
      "image/png": "[encoded data removed]",
      "text/plain": [
       "<Figure size 432x288 with 1 Axes>"
      ]
     },
     "metadata": {
      "needs_background": "light"
     },
     "output_type": "display_data"
    }
   ],
   "source": [
    "sns.barplot(age_cvr.index,age_cvr.cvr)\n",
    "plt.title('나이대 데이터별 결제율')\n",
    "plt.ylim(0.5, 0.8)"
   ]
  },
  {
   "cell_type": "code",
   "execution_count": 179,
   "metadata": {},
   "outputs": [
    {
     "data": {
      "text/plain": [
       "Text(0.5, 1.0, '나이대별 결제 데이터 합의 규모')"
      ]
     },
     "execution_count": 179,
     "metadata": {},
     "output_type": "execute_result"
    },
    {
     "data": {
      "image/png": "[encoded data removed]",
      "text/plain": [
       "<Figure size 432x288 with 1 Axes>"
      ]
     },
     "metadata": {
      "needs_background": "light"
     },
     "output_type": "display_data"
    }
   ],
   "source": [
    "sns.barplot(x=a.index,y=a)\n",
    "plt.title('나이대별 결제 데이터 합의 규모')"
   ]
  },
  {
   "cell_type": "markdown",
   "metadata": {},
   "source": [
    "- 결제율과 나이대별 구매 규모를 고려한 변수 생성( 결제규모 x 결제율)\n",
    "- 변수의 값을 보면, 34세 이전에 해당하는 그룹의 값과 아닌값의 차이가 약 2배 넘게 차이난다.\n",
    "- 즉, <U>특정 연령 그룹에 해당하는지의 여부가 구매여부에 영향을 주는 것으로 파악된다.</U>"
   ]
  },
  {
   "cell_type": "code",
   "execution_count": 58,
   "metadata": {},
   "outputs": [
    {
     "data": {
      "text/html": [
       "<div>\n",
       "<style scoped>\n",
       "    .dataframe tbody tr th:only-of-type {\n",
       "        vertical-align: middle;\n",
       "    }\n",
       "\n",
       "    .dataframe tbody tr th {\n",
       "        vertical-align: top;\n",
       "    }\n",
       "\n",
       "    .dataframe thead th {\n",
       "        text-align: right;\n",
       "    }\n",
       "</style>\n",
       "<table border=\"1\" class=\"dataframe\">\n",
       "  <thead>\n",
       "    <tr style=\"text-align: right;\">\n",
       "      <th></th>\n",
       "      <th>variable</th>\n",
       "    </tr>\n",
       "    <tr>\n",
       "      <th>age_bin</th>\n",
       "      <th></th>\n",
       "    </tr>\n",
       "  </thead>\n",
       "  <tbody>\n",
       "    <tr>\n",
       "      <td>21, 24</td>\n",
       "      <td>9186.21</td>\n",
       "    </tr>\n",
       "    <tr>\n",
       "      <td>26, 29</td>\n",
       "      <td>9142.01</td>\n",
       "    </tr>\n",
       "    <tr>\n",
       "      <td>24, 26</td>\n",
       "      <td>7677.08</td>\n",
       "    </tr>\n",
       "    <tr>\n",
       "      <td>29, 34</td>\n",
       "      <td>6193.66</td>\n",
       "    </tr>\n",
       "    <tr>\n",
       "      <td>-1, 21</td>\n",
       "      <td>3206.31</td>\n",
       "    </tr>\n",
       "    <tr>\n",
       "      <td>37, 48</td>\n",
       "      <td>3040.78</td>\n",
       "    </tr>\n",
       "    <tr>\n",
       "      <td>34, 37</td>\n",
       "      <td>1798.17</td>\n",
       "    </tr>\n",
       "    <tr>\n",
       "      <td>48, 100</td>\n",
       "      <td>1562.71</td>\n",
       "    </tr>\n",
       "  </tbody>\n",
       "</table>\n",
       "</div>"
      ],
      "text/plain": [
       "        variable\n",
       "age_bin         \n",
       "21, 24   9186.21\n",
       "26, 29   9142.01\n",
       "24, 26   7677.08\n",
       "29, 34   6193.66\n",
       "-1, 21   3206.31\n",
       "37, 48   3040.78\n",
       "34, 37   1798.17\n",
       "48, 100  1562.71"
      ]
     },
     "execution_count": 58,
     "metadata": {},
     "output_type": "execute_result"
    }
   ],
   "source": [
    "a2=(age_cvr[['cvr']].sort_index().transpose()*a.sort_index()).T\n",
    "a2.columns=['variable']\n",
    "a2.sort_values(by='variable',ascending=False)"
   ]
  },
  {
   "cell_type": "markdown",
   "metadata": {},
   "source": [
    "### 4. refund 변수 분석 \n",
    "#### 1) 히스토그램을 통한 데이터 파악 및 범주화로 결제율 개선\n",
    "    - 결제여부에 따라 환불액은 미결제 데이터가 1745개 결제데이터가 1521개로 차이가 있다.\n",
    "    - 그리고 상위빈도 환불액의 경우, 크기차이가 있어 빈도수와 환불액을 곱한 수치의 합을 비교하겠다.\n",
    "    - 이렇게 하면 높은 환불액에 빈도수가 높을 경우 더 높은 수치를 얻을 수 있다. "
   ]
  },
  {
   "cell_type": "code",
   "execution_count": 207,
   "metadata": {},
   "outputs": [
    {
     "data": {
      "text/plain": [
       "<matplotlib.axes._subplots.AxesSubplot at 0x1dd1d86b7c8>"
      ]
     },
     "execution_count": 207,
     "metadata": {},
     "output_type": "execute_result"
    },
    {
     "data": {
      "image/png": "[encoded data removed]",
      "text/plain": [
       "<Figure size 432x288 with 1 Axes>"
      ]
     },
     "metadata": {
      "needs_background": "light"
     },
     "output_type": "display_data"
    }
   ],
   "source": [
    "sns.distplot(df.query(\"has_paid==0\")['refund'],bins=50)"
   ]
  },
  {
   "cell_type": "code",
   "execution_count": 209,
   "metadata": {},
   "outputs": [
    {
     "data": {
      "text/plain": [
       "<matplotlib.axes._subplots.AxesSubplot at 0x1dd2181d848>"
      ]
     },
     "execution_count": 209,
     "metadata": {},
     "output_type": "execute_result"
    },
    {
     "data": {
      "image/png": "[encoded data removed]",
      "text/plain": [
       "<Figure size 432x288 with 1 Axes>"
      ]
     },
     "metadata": {
      "needs_background": "light"
     },
     "output_type": "display_data"
    }
   ],
   "source": [
    "sns.distplot(df.query(\"has_paid==1\")['refund'],bins=100)"
   ]
  },
  {
   "cell_type": "code",
   "execution_count": 237,
   "metadata": {},
   "outputs": [
    {
     "data": {
      "text/plain": [
       "98352    c\n",
       "52858    c\n",
       "55168    c\n",
       "54256    c\n",
       "94281    c\n",
       "        ..\n",
       "30513    a\n",
       "2374     a\n",
       "47635    a\n",
       "11235    a\n",
       "61745    a\n",
       "Name: ref_cat, Length: 99978, dtype: object"
      ]
     },
     "execution_count": 237,
     "metadata": {},
     "output_type": "execute_result"
    }
   ],
   "source": [
    "# 환불액을 3가지 범주 데이터로 변환\n",
    "df=df.sort_values(by='refund')\n",
    "l1=[]\n",
    "for i in range(df.shape[0]):\n",
    "    if i > df.shape[0]*0.66:\n",
    "        l1.append('a')\n",
    "    elif i > df.shape[0]*0.33:\n",
    "        l1.append('b')\n",
    "    else:\n",
    "        l1.append('c')\n",
    "\n",
    "df['ref_cat']=l1\n",
    "df['ref_cat']"
   ]
  },
  {
   "cell_type": "code",
   "execution_count": 230,
   "metadata": {},
   "outputs": [
    {
     "data": {
      "text/html": [
       "<div>\n",
       "<style scoped>\n",
       "    .dataframe tbody tr th:only-of-type {\n",
       "        vertical-align: middle;\n",
       "    }\n",
       "\n",
       "    .dataframe tbody tr th {\n",
       "        vertical-align: top;\n",
       "    }\n",
       "\n",
       "    .dataframe thead th {\n",
       "        text-align: right;\n",
       "    }\n",
       "</style>\n",
       "<table border=\"1\" class=\"dataframe\">\n",
       "  <thead>\n",
       "    <tr style=\"text-align: right;\">\n",
       "      <th>has_paid</th>\n",
       "      <th>0.0</th>\n",
       "      <th>1.0</th>\n",
       "    </tr>\n",
       "    <tr>\n",
       "      <th>ref_cat</th>\n",
       "      <th></th>\n",
       "      <th></th>\n",
       "    </tr>\n",
       "  </thead>\n",
       "  <tbody>\n",
       "    <tr>\n",
       "      <td>a</td>\n",
       "      <td>0.391386</td>\n",
       "      <td>0.608614</td>\n",
       "    </tr>\n",
       "    <tr>\n",
       "      <td>b</td>\n",
       "      <td>0.308399</td>\n",
       "      <td>0.691601</td>\n",
       "    </tr>\n",
       "    <tr>\n",
       "      <td>c</td>\n",
       "      <td>0.359470</td>\n",
       "      <td>0.640530</td>\n",
       "    </tr>\n",
       "  </tbody>\n",
       "</table>\n",
       "</div>"
      ],
      "text/plain": [
       "has_paid       0.0       1.0\n",
       "ref_cat                     \n",
       "a         0.391386  0.608614\n",
       "b         0.308399  0.691601\n",
       "c         0.359470  0.640530"
      ]
     },
     "execution_count": 230,
     "metadata": {},
     "output_type": "execute_result"
    }
   ],
   "source": [
    "f1= lambda x: x/x.sum()\n",
    "df.groupby(['ref_cat','has_paid'])['age'].count().unstack().apply(f1,axis=1)"
   ]
  },
  {
   "cell_type": "code",
   "execution_count": 235,
   "metadata": {},
   "outputs": [
    {
     "data": {
      "text/plain": [
       "(48000.0, 180000.0)"
      ]
     },
     "execution_count": 235,
     "metadata": {},
     "output_type": "execute_result"
    }
   ],
   "source": [
    "(df.iloc[round(df.shape[0]*0.33),:].refund,df.iloc[round(df.shape[0]*0.66),:].refund)"
   ]
  },
  {
   "cell_type": "markdown",
   "metadata": {},
   "source": [
    "- 연령 데이터에서 b 그룹에 해당하는 refund 값으로 필터링하여 전체 연령 그룹의 결제율 개선확인\n",
    "- <U> 즉, 환급액은 결제 여부에 영향을 미친다.</U>"
   ]
  },
  {
   "cell_type": "code",
   "execution_count": 238,
   "metadata": {},
   "outputs": [
    {
     "data": {
      "text/html": [
       "<div>\n",
       "<style scoped>\n",
       "    .dataframe tbody tr th:only-of-type {\n",
       "        vertical-align: middle;\n",
       "    }\n",
       "\n",
       "    .dataframe tbody tr th {\n",
       "        vertical-align: top;\n",
       "    }\n",
       "\n",
       "    .dataframe thead th {\n",
       "        text-align: right;\n",
       "    }\n",
       "</style>\n",
       "<table border=\"1\" class=\"dataframe\">\n",
       "  <thead>\n",
       "    <tr style=\"text-align: right;\">\n",
       "      <th></th>\n",
       "      <th>cvr</th>\n",
       "      <th>age_cvr</th>\n",
       "    </tr>\n",
       "    <tr>\n",
       "      <th>age_bin</th>\n",
       "      <th></th>\n",
       "      <th></th>\n",
       "    </tr>\n",
       "  </thead>\n",
       "  <tbody>\n",
       "    <tr>\n",
       "      <td>-1, 21</td>\n",
       "      <td>0.731395</td>\n",
       "      <td>0.663146</td>\n",
       "    </tr>\n",
       "    <tr>\n",
       "      <td>21, 24</td>\n",
       "      <td>0.703872</td>\n",
       "      <td>0.653823</td>\n",
       "    </tr>\n",
       "    <tr>\n",
       "      <td>24, 26</td>\n",
       "      <td>0.694764</td>\n",
       "      <td>0.652258</td>\n",
       "    </tr>\n",
       "    <tr>\n",
       "      <td>26, 29</td>\n",
       "      <td>0.69403</td>\n",
       "      <td>0.653374</td>\n",
       "    </tr>\n",
       "    <tr>\n",
       "      <td>29, 34</td>\n",
       "      <td>0.668028</td>\n",
       "      <td>0.638193</td>\n",
       "    </tr>\n",
       "    <tr>\n",
       "      <td>34, 37</td>\n",
       "      <td>0.650507</td>\n",
       "      <td>0.621988</td>\n",
       "    </tr>\n",
       "    <tr>\n",
       "      <td>37, 48</td>\n",
       "      <td>0.676407</td>\n",
       "      <td>0.625418</td>\n",
       "    </tr>\n",
       "    <tr>\n",
       "      <td>48, 100</td>\n",
       "      <td>0.663415</td>\n",
       "      <td>0.616695</td>\n",
       "    </tr>\n",
       "  </tbody>\n",
       "</table>\n",
       "</div>"
      ],
      "text/plain": [
       "              cvr   age_cvr\n",
       "age_bin                    \n",
       "-1, 21   0.731395  0.663146\n",
       "21, 24   0.703872  0.653823\n",
       "24, 26   0.694764  0.652258\n",
       "26, 29    0.69403  0.653374\n",
       "29, 34   0.668028  0.638193\n",
       "34, 37   0.650507  0.621988\n",
       "37, 48   0.676407  0.625418\n",
       "48, 100  0.663415  0.616695"
      ]
     },
     "execution_count": 238,
     "metadata": {},
     "output_type": "execute_result"
    }
   ],
   "source": [
    "l1=[]\n",
    "l2=[]\n",
    "for i in np.arange(0,ag_p1.shape[0]):\n",
    "        l1.append(ag_p1.index[i])\n",
    "        l2.append(df.query(\"refund >= 48000 and refund <= 180000 and ag_cat==@ag_p1.index[@i]\").has_paid.value_counts()[1]/df.query(\"refund >= 48000 and refund <= 180000 and ag_cat==@ag_p1.index[@i]\").shape[0])\n",
    "\n",
    "age_mode_cvr=pd.DataFrame([l1,l2]).T\n",
    "age_mode_cvr.columns=['age_bin','cvr']    \n",
    "age_ref_cvr=age_mode_cvr.set_index('age_bin').sort_values('cvr',ascending=False)\n",
    "age_ref_cvr['age_cvr']=age_cvr\n",
    "age_ref_cvr.sort_index()"
   ]
  },
  {
   "cell_type": "markdown",
   "metadata": {},
   "source": [
    "### 5.  year변수분석과 결제금액 총합계 증대방안\n",
    "#### 1)  연도에 따른 변화 분석"
   ]
  },
  {
   "cell_type": "markdown",
   "metadata": {},
   "source": [
    "- 19년 이전까지는 연별 결제율이 감소하였으나 20년에 급감했다.\n",
    "- 19년도 까지는 연도가 지나면서 결제 규모와 여부가 증가했다. \n",
    "- 연도별 총 유입의 증가폭은 2019년까지 감소하다가 20년에 반등했다.\n",
    "- 20년도는 미결제 데이터의 수는 금증하고 결제 데이터는 급감하였다.\n",
    "- 19년부터 20년사이에 결제데이터의 수가 감소하고 예상환불액합계는 오히려 미결제자 측에서 급격히 증가하는 등 추세가 최근에 변하였다."
   ]
  },
  {
   "cell_type": "code",
   "execution_count": 67,
   "metadata": {
    "scrolled": true
   },
   "outputs": [
    {
     "data": {
      "text/html": [
       "<div>\n",
       "<style scoped>\n",
       "    .dataframe tbody tr th:only-of-type {\n",
       "        vertical-align: middle;\n",
       "    }\n",
       "\n",
       "    .dataframe tbody tr th {\n",
       "        vertical-align: top;\n",
       "    }\n",
       "\n",
       "    .dataframe thead th {\n",
       "        text-align: right;\n",
       "    }\n",
       "</style>\n",
       "<table border=\"1\" class=\"dataframe\">\n",
       "  <thead>\n",
       "    <tr style=\"text-align: right;\">\n",
       "      <th></th>\n",
       "      <th>cvr</th>\n",
       "    </tr>\n",
       "    <tr>\n",
       "      <th>year</th>\n",
       "      <th></th>\n",
       "    </tr>\n",
       "  </thead>\n",
       "  <tbody>\n",
       "    <tr>\n",
       "      <td>2015.0</td>\n",
       "      <td>0.711307</td>\n",
       "    </tr>\n",
       "    <tr>\n",
       "      <td>2017.0</td>\n",
       "      <td>0.697633</td>\n",
       "    </tr>\n",
       "    <tr>\n",
       "      <td>2016.0</td>\n",
       "      <td>0.697124</td>\n",
       "    </tr>\n",
       "    <tr>\n",
       "      <td>2018.0</td>\n",
       "      <td>0.695115</td>\n",
       "    </tr>\n",
       "    <tr>\n",
       "      <td>2019.0</td>\n",
       "      <td>0.694999</td>\n",
       "    </tr>\n",
       "    <tr>\n",
       "      <td>2020.0</td>\n",
       "      <td>0.485241</td>\n",
       "    </tr>\n",
       "  </tbody>\n",
       "</table>\n",
       "</div>"
      ],
      "text/plain": [
       "             cvr\n",
       "year            \n",
       "2015.0  0.711307\n",
       "2017.0  0.697633\n",
       "2016.0  0.697124\n",
       "2018.0  0.695115\n",
       "2019.0  0.694999\n",
       "2020.0  0.485241"
      ]
     },
     "execution_count": 67,
     "metadata": {},
     "output_type": "execute_result"
    }
   ],
   "source": [
    "# 년도별 결제율 출력\n",
    "l1=[]\n",
    "l2=[]\n",
    "for i in df.year.unique():\n",
    "    str_expr=\"year == @i\"\n",
    "    str_expr1=\"year == @i and has_paid ==1\"\n",
    "    l1.append(df.query(str_expr1).shape[0]/df.query(str_expr).shape[0])\n",
    "    l2.append(i)\n",
    "    \n",
    "y_cvr=pd.DataFrame([l2,l1]).T\n",
    "y_cvr.columns=['year','cvr']\n",
    "y_cvr=y_cvr.set_index('year').sort_values('cvr',ascending=False)\n",
    "y_cvr"
   ]
  },
  {
   "cell_type": "code",
   "execution_count": 68,
   "metadata": {},
   "outputs": [
    {
     "data": {
      "text/plain": [
       "<matplotlib.legend.Legend at 0x1dd21a33548>"
      ]
     },
     "execution_count": 68,
     "metadata": {},
     "output_type": "execute_result"
    },
    {
     "data": {
      "image/png": "[encoded data removed]",
      "text/plain": [
       "<Figure size 432x288 with 2 Axes>"
      ]
     },
     "metadata": {
      "needs_background": "light"
     },
     "output_type": "display_data"
    }
   ],
   "source": [
    "fig, ax1 = plt.subplots()\n",
    "ax2 = ax1.twinx()\n",
    "sns.lineplot(df.groupby('year')['Target'].sum().index,df.groupby('year')['Target'].sum(),label='결제금액의합',ax=ax1,color='red')\n",
    "sns.lineplot(y_cvr.index,y_cvr['cvr'],label='결제율',ax=ax2,color='blue')\n",
    "ax1.legend(loc=\"lower right\")\n",
    "ax2.legend()"
   ]
  },
  {
   "cell_type": "code",
   "execution_count": 241,
   "metadata": {},
   "outputs": [
    {
     "data": {
      "text/plain": [
       "Text(0.5, 1.0, '연도별 결제여부별 데이터의 수의 합계')"
      ]
     },
     "execution_count": 241,
     "metadata": {},
     "output_type": "execute_result"
    },
    {
     "data": {
      "image/png": "[encoded data removed]",
      "text/plain": [
       "<Figure size 432x288 with 1 Axes>"
      ]
     },
     "metadata": {
      "needs_background": "light"
     },
     "output_type": "display_data"
    }
   ],
   "source": [
    "df_y_hp=df.groupby(['year','has_paid'])['age'].count()\n",
    "df_y_hp.name='count'\n",
    "df_y_hp=df_y_hp.reset_index()\n",
    "df_y_hp1=df_y_hp.query(\"has_paid==1\")\n",
    "df_y_hp0=df_y_hp.query(\"has_paid==0\")\n",
    "plt.plot(df_y_hp1.year,df_y_hp1['count'],label='결제데이터')\n",
    "plt.plot(df_y_hp0.year,df_y_hp0['count'],label='미결제데이터')\n",
    "plt.legend()\n",
    "plt.title('연도별 결제여부별 데이터의 수의 합계')"
   ]
  },
  {
   "cell_type": "markdown",
   "metadata": {},
   "source": [
    "- 결제데이터가 급격히 줄고, 미결제 데이터가 급격히 늘었으니 결제율이 급락하는 것은 당연하다."
   ]
  },
  {
   "cell_type": "code",
   "execution_count": 250,
   "metadata": {},
   "outputs": [
    {
     "data": {
      "text/plain": [
       "Text(0.5, 1.0, '연도별 결제여부별 순 환급액의 평균')"
      ]
     },
     "execution_count": 250,
     "metadata": {},
     "output_type": "execute_result"
    },
    {
     "data": {
      "image/png": "[encoded data removed]",
      "text/plain": [
       "<Figure size 432x288 with 1 Axes>"
      ]
     },
     "metadata": {
      "needs_background": "light"
     },
     "output_type": "display_data"
    }
   ],
   "source": [
    "plt.plot(df.query(\"has_paid==1\").groupby('year')['refund'].sum().index,df.query(\"has_paid==1\").groupby('year')['gain'].mean(),label='결제데이터')\n",
    "plt.plot(df.query(\"has_paid==0\").groupby('year')['refund'].sum().index,df.query(\"has_paid==0\").groupby('year')['gain'].mean(),label='미결제데이터')\n",
    "plt.legend()\n",
    "plt.title('연도별 결제여부별 순 환급액의 평균')"
   ]
  },
  {
   "cell_type": "markdown",
   "metadata": {},
   "source": [
    "- 순환급액 때문에 2020년에 결제고객과 결제율이 급감한 것은 아니다."
   ]
  },
  {
   "cell_type": "code",
   "execution_count": 260,
   "metadata": {},
   "outputs": [
    {
     "data": {
      "text/plain": [
       "Text(0.5, 1.0, '연도별 결제고객별 결제금액의 평균값')"
      ]
     },
     "execution_count": 260,
     "metadata": {},
     "output_type": "execute_result"
    },
    {
     "data": {
      "image/png": "[encoded data removed]",
      "text/plain": [
       "<Figure size 432x288 with 1 Axes>"
      ]
     },
     "metadata": {
      "needs_background": "light"
     },
     "output_type": "display_data"
    }
   ],
   "source": [
    "plt.plot(df.query(\"has_paid==1\").groupby('year')['Target'].sum().index,df.query(\"has_paid==1\").groupby('year')['Target'].mean(),label='결제데이터')\n",
    "plt.title('연도별 결제고객별 결제금액의 평균값')"
   ]
  },
  {
   "cell_type": "markdown",
   "metadata": {},
   "source": [
    "- 여기까지 보면 전체 데이터에서 년도가 지나며 지속적인 추세는 없고, 20년 기준으로 급격한 변화가 발생한다.\n",
    "- 이러한 현상은 삼쩜삼 서비스 오픈이 20년 3월에 있었기 때문으로 추정한다."
   ]
  },
  {
   "cell_type": "code",
   "execution_count": 262,
   "metadata": {},
   "outputs": [
    {
     "data": {
      "text/plain": [
       "Text(0.5, 1.0, '연도별 결제고객별 결제금액의 총합계')"
      ]
     },
     "execution_count": 262,
     "metadata": {},
     "output_type": "execute_result"
    },
    {
     "data": {
      "image/png": "[encoded data removed]",
      "text/plain": [
       "<Figure size 432x288 with 1 Axes>"
      ]
     },
     "metadata": {
      "needs_background": "light"
     },
     "output_type": "display_data"
    }
   ],
   "source": [
    "plt.plot(df.query(\"has_paid==1\").groupby('year')['Target'].sum().index,df.query(\"has_paid==1\").groupby('year')['Target'].sum(),label='결제데이터')\n",
    "plt.title('연도별 결제고객별 결제금액의 총합계')"
   ]
  },
  {
   "cell_type": "markdown",
   "metadata": {},
   "source": [
    "- 미결제 데이터의 수와 결제 데이터의 수가 20년도에 교차되더라도 결제 금액총합은 지속적으로 증가한다.\n",
    "- 또한, 고객마다의 순 환급액도 증가했다. 다만, 미결제 고객의 순 환급액 평균이 더 높다.\n",
    "- 총결제 고객수도 꾸준히 증가한다."
   ]
  },
  {
   "cell_type": "code",
   "execution_count": 267,
   "metadata": {},
   "outputs": [
    {
     "data": {
      "text/plain": [
       "Text(0.5, 1.0, '연도별 총 고객 수')"
      ]
     },
     "execution_count": 267,
     "metadata": {},
     "output_type": "execute_result"
    },
    {
     "data": {
      "image/png": "[encoded data removed]",
      "text/plain": [
       "<Figure size 432x288 with 1 Axes>"
      ]
     },
     "metadata": {
      "needs_background": "light"
     },
     "output_type": "display_data"
    }
   ],
   "source": [
    "plt.plot(df.groupby('year')['age'].count(),color='orange')\n",
    "plt.title('연도별 총 고객 수')"
   ]
  },
  {
   "cell_type": "markdown",
   "metadata": {},
   "source": [
    "- 추가로 년도별 사업소득 그룹별로 차지하는 비중을 살펴보겠다."
   ]
  },
  {
   "cell_type": "code",
   "execution_count": 257,
   "metadata": {},
   "outputs": [
    {
     "data": {
      "text/html": [
       "<div>\n",
       "<style scoped>\n",
       "    .dataframe tbody tr th:only-of-type {\n",
       "        vertical-align: middle;\n",
       "    }\n",
       "\n",
       "    .dataframe tbody tr th {\n",
       "        vertical-align: top;\n",
       "    }\n",
       "\n",
       "    .dataframe thead th {\n",
       "        text-align: right;\n",
       "    }\n",
       "</style>\n",
       "<table border=\"1\" class=\"dataframe\">\n",
       "  <thead>\n",
       "    <tr style=\"text-align: right;\">\n",
       "      <th>inc_comp_cat</th>\n",
       "      <th>(-1.0, 102000.0]</th>\n",
       "      <th>(102000.0, 295000.0]</th>\n",
       "      <th>(1233000.0, 2793000.0]</th>\n",
       "      <th>(2793000.0, 39934000.0]</th>\n",
       "      <th>(295000.0, 640000.0]</th>\n",
       "      <th>(640000.0, 1233000.0]</th>\n",
       "      <th>n</th>\n",
       "    </tr>\n",
       "    <tr>\n",
       "      <th>year</th>\n",
       "      <th></th>\n",
       "      <th></th>\n",
       "      <th></th>\n",
       "      <th></th>\n",
       "      <th></th>\n",
       "      <th></th>\n",
       "      <th></th>\n",
       "    </tr>\n",
       "  </thead>\n",
       "  <tbody>\n",
       "    <tr>\n",
       "      <td>2015</td>\n",
       "      <td>0.093216</td>\n",
       "      <td>0.123869</td>\n",
       "      <td>0.101005</td>\n",
       "      <td>0.066332</td>\n",
       "      <td>0.116332</td>\n",
       "      <td>0.102010</td>\n",
       "      <td>0.397236</td>\n",
       "    </tr>\n",
       "    <tr>\n",
       "      <td>2016</td>\n",
       "      <td>0.148095</td>\n",
       "      <td>0.142344</td>\n",
       "      <td>0.125018</td>\n",
       "      <td>0.083178</td>\n",
       "      <td>0.138677</td>\n",
       "      <td>0.127318</td>\n",
       "      <td>0.235370</td>\n",
       "    </tr>\n",
       "    <tr>\n",
       "      <td>2017</td>\n",
       "      <td>0.142579</td>\n",
       "      <td>0.139378</td>\n",
       "      <td>0.125314</td>\n",
       "      <td>0.089698</td>\n",
       "      <td>0.142522</td>\n",
       "      <td>0.134576</td>\n",
       "      <td>0.225932</td>\n",
       "    </tr>\n",
       "    <tr>\n",
       "      <td>2018</td>\n",
       "      <td>0.137001</td>\n",
       "      <td>0.139654</td>\n",
       "      <td>0.124837</td>\n",
       "      <td>0.088948</td>\n",
       "      <td>0.132095</td>\n",
       "      <td>0.139654</td>\n",
       "      <td>0.237812</td>\n",
       "    </tr>\n",
       "    <tr>\n",
       "      <td>2019</td>\n",
       "      <td>0.130543</td>\n",
       "      <td>0.137790</td>\n",
       "      <td>0.126224</td>\n",
       "      <td>0.077654</td>\n",
       "      <td>0.146285</td>\n",
       "      <td>0.146717</td>\n",
       "      <td>0.234786</td>\n",
       "    </tr>\n",
       "    <tr>\n",
       "      <td>2020</td>\n",
       "      <td>0.124254</td>\n",
       "      <td>0.113826</td>\n",
       "      <td>0.160752</td>\n",
       "      <td>0.224834</td>\n",
       "      <td>0.114246</td>\n",
       "      <td>0.123287</td>\n",
       "      <td>0.138802</td>\n",
       "    </tr>\n",
       "  </tbody>\n",
       "</table>\n",
       "</div>"
      ],
      "text/plain": [
       "inc_comp_cat  (-1.0, 102000.0]  (102000.0, 295000.0]  (1233000.0, 2793000.0]  \\\n",
       "year                                                                           \n",
       "2015                  0.093216              0.123869                0.101005   \n",
       "2016                  0.148095              0.142344                0.125018   \n",
       "2017                  0.142579              0.139378                0.125314   \n",
       "2018                  0.137001              0.139654                0.124837   \n",
       "2019                  0.130543              0.137790                0.126224   \n",
       "2020                  0.124254              0.113826                0.160752   \n",
       "\n",
       "inc_comp_cat  (2793000.0, 39934000.0]  (295000.0, 640000.0]  \\\n",
       "year                                                          \n",
       "2015                         0.066332              0.116332   \n",
       "2016                         0.083178              0.138677   \n",
       "2017                         0.089698              0.142522   \n",
       "2018                         0.088948              0.132095   \n",
       "2019                         0.077654              0.146285   \n",
       "2020                         0.224834              0.114246   \n",
       "\n",
       "inc_comp_cat  (640000.0, 1233000.0]         n  \n",
       "year                                           \n",
       "2015                       0.102010  0.397236  \n",
       "2016                       0.127318  0.235370  \n",
       "2017                       0.134576  0.225932  \n",
       "2018                       0.139654  0.237812  \n",
       "2019                       0.146717  0.234786  \n",
       "2020                       0.123287  0.138802  "
      ]
     },
     "execution_count": 257,
     "metadata": {},
     "output_type": "execute_result"
    }
   ],
   "source": [
    "f1= lambda x: x / x.sum() \n",
    "pd.crosstab(df.year,df.inc_comp_cat).apply(f1,axis=1)"
   ]
  },
  {
   "cell_type": "code",
   "execution_count": 268,
   "metadata": {},
   "outputs": [
    {
     "data": {
      "text/html": [
       "<div>\n",
       "<style scoped>\n",
       "    .dataframe tbody tr th:only-of-type {\n",
       "        vertical-align: middle;\n",
       "    }\n",
       "\n",
       "    .dataframe tbody tr th {\n",
       "        vertical-align: top;\n",
       "    }\n",
       "\n",
       "    .dataframe thead th {\n",
       "        text-align: right;\n",
       "    }\n",
       "</style>\n",
       "<table border=\"1\" class=\"dataframe\">\n",
       "  <thead>\n",
       "    <tr style=\"text-align: right;\">\n",
       "      <th>inc_lab_cat</th>\n",
       "      <th>(-1.0, 993300.0]</th>\n",
       "      <th>(12228500.0, 182335000.0]</th>\n",
       "      <th>(2457600.0, 4651000.0]</th>\n",
       "      <th>(4651000.0, 7742000.0]</th>\n",
       "      <th>(7742000.0, 12228500.0]</th>\n",
       "      <th>(993300.0, 2457600.0]</th>\n",
       "      <th>n</th>\n",
       "    </tr>\n",
       "    <tr>\n",
       "      <th>year</th>\n",
       "      <th></th>\n",
       "      <th></th>\n",
       "      <th></th>\n",
       "      <th></th>\n",
       "      <th></th>\n",
       "      <th></th>\n",
       "      <th></th>\n",
       "    </tr>\n",
       "  </thead>\n",
       "  <tbody>\n",
       "    <tr>\n",
       "      <td>2015</td>\n",
       "      <td>0.012060</td>\n",
       "      <td>0.011558</td>\n",
       "      <td>0.009548</td>\n",
       "      <td>0.007538</td>\n",
       "      <td>0.007538</td>\n",
       "      <td>0.011558</td>\n",
       "      <td>0.940201</td>\n",
       "    </tr>\n",
       "    <tr>\n",
       "      <td>2016</td>\n",
       "      <td>0.075341</td>\n",
       "      <td>0.041912</td>\n",
       "      <td>0.063911</td>\n",
       "      <td>0.066427</td>\n",
       "      <td>0.046873</td>\n",
       "      <td>0.063839</td>\n",
       "      <td>0.641697</td>\n",
       "    </tr>\n",
       "    <tr>\n",
       "      <td>2017</td>\n",
       "      <td>0.079522</td>\n",
       "      <td>0.044592</td>\n",
       "      <td>0.064144</td>\n",
       "      <td>0.067574</td>\n",
       "      <td>0.052653</td>\n",
       "      <td>0.072547</td>\n",
       "      <td>0.618969</td>\n",
       "    </tr>\n",
       "    <tr>\n",
       "      <td>2018</td>\n",
       "      <td>0.069727</td>\n",
       "      <td>0.058414</td>\n",
       "      <td>0.064921</td>\n",
       "      <td>0.068075</td>\n",
       "      <td>0.069076</td>\n",
       "      <td>0.064921</td>\n",
       "      <td>0.604865</td>\n",
       "    </tr>\n",
       "    <tr>\n",
       "      <td>2019</td>\n",
       "      <td>0.065512</td>\n",
       "      <td>0.076022</td>\n",
       "      <td>0.073191</td>\n",
       "      <td>0.074246</td>\n",
       "      <td>0.083749</td>\n",
       "      <td>0.072135</td>\n",
       "      <td>0.555145</td>\n",
       "    </tr>\n",
       "    <tr>\n",
       "      <td>2020</td>\n",
       "      <td>0.071062</td>\n",
       "      <td>0.082373</td>\n",
       "      <td>0.086788</td>\n",
       "      <td>0.079556</td>\n",
       "      <td>0.092717</td>\n",
       "      <td>0.081196</td>\n",
       "      <td>0.506307</td>\n",
       "    </tr>\n",
       "  </tbody>\n",
       "</table>\n",
       "</div>"
      ],
      "text/plain": [
       "inc_lab_cat  (-1.0, 993300.0]  (12228500.0, 182335000.0]  \\\n",
       "year                                                       \n",
       "2015                 0.012060                   0.011558   \n",
       "2016                 0.075341                   0.041912   \n",
       "2017                 0.079522                   0.044592   \n",
       "2018                 0.069727                   0.058414   \n",
       "2019                 0.065512                   0.076022   \n",
       "2020                 0.071062                   0.082373   \n",
       "\n",
       "inc_lab_cat  (2457600.0, 4651000.0]  (4651000.0, 7742000.0]  \\\n",
       "year                                                          \n",
       "2015                       0.009548                0.007538   \n",
       "2016                       0.063911                0.066427   \n",
       "2017                       0.064144                0.067574   \n",
       "2018                       0.064921                0.068075   \n",
       "2019                       0.073191                0.074246   \n",
       "2020                       0.086788                0.079556   \n",
       "\n",
       "inc_lab_cat  (7742000.0, 12228500.0]  (993300.0, 2457600.0]         n  \n",
       "year                                                                   \n",
       "2015                        0.007538               0.011558  0.940201  \n",
       "2016                        0.046873               0.063839  0.641697  \n",
       "2017                        0.052653               0.072547  0.618969  \n",
       "2018                        0.069076               0.064921  0.604865  \n",
       "2019                        0.083749               0.072135  0.555145  \n",
       "2020                        0.092717               0.081196  0.506307  "
      ]
     },
     "execution_count": 268,
     "metadata": {},
     "output_type": "execute_result"
    }
   ],
   "source": [
    "pd.crosstab(df.year,df.inc_lab_cat).apply(f1,axis=1)"
   ]
  },
  {
   "cell_type": "code",
   "execution_count": 269,
   "metadata": {},
   "outputs": [
    {
     "data": {
      "text/html": [
       "<div>\n",
       "<style scoped>\n",
       "    .dataframe tbody tr th:only-of-type {\n",
       "        vertical-align: middle;\n",
       "    }\n",
       "\n",
       "    .dataframe tbody tr th {\n",
       "        vertical-align: top;\n",
       "    }\n",
       "\n",
       "    .dataframe thead th {\n",
       "        text-align: right;\n",
       "    }\n",
       "</style>\n",
       "<table border=\"1\" class=\"dataframe\">\n",
       "  <thead>\n",
       "    <tr style=\"text-align: right;\">\n",
       "      <th>inc_etc_cat</th>\n",
       "      <th>(-1.0, 51000.0]</th>\n",
       "      <th>(1020000.0, 62810000.0]</th>\n",
       "      <th>(114000.0, 213000.0]</th>\n",
       "      <th>(213000.0, 425000.0]</th>\n",
       "      <th>(425000.0, 1020000.0]</th>\n",
       "      <th>(51000.0, 114000.0]</th>\n",
       "      <th>n</th>\n",
       "    </tr>\n",
       "    <tr>\n",
       "      <th>year</th>\n",
       "      <th></th>\n",
       "      <th></th>\n",
       "      <th></th>\n",
       "      <th></th>\n",
       "      <th></th>\n",
       "      <th></th>\n",
       "      <th></th>\n",
       "    </tr>\n",
       "  </thead>\n",
       "  <tbody>\n",
       "    <tr>\n",
       "      <td>2015</td>\n",
       "      <td>0.029648</td>\n",
       "      <td>0.008040</td>\n",
       "      <td>0.013568</td>\n",
       "      <td>0.012563</td>\n",
       "      <td>0.012563</td>\n",
       "      <td>0.016332</td>\n",
       "      <td>0.907286</td>\n",
       "    </tr>\n",
       "    <tr>\n",
       "      <td>2016</td>\n",
       "      <td>0.040043</td>\n",
       "      <td>0.037527</td>\n",
       "      <td>0.050683</td>\n",
       "      <td>0.042416</td>\n",
       "      <td>0.039756</td>\n",
       "      <td>0.029331</td>\n",
       "      <td>0.760244</td>\n",
       "    </tr>\n",
       "    <tr>\n",
       "      <td>2017</td>\n",
       "      <td>0.040590</td>\n",
       "      <td>0.037217</td>\n",
       "      <td>0.046879</td>\n",
       "      <td>0.044020</td>\n",
       "      <td>0.041105</td>\n",
       "      <td>0.030814</td>\n",
       "      <td>0.759376</td>\n",
       "    </tr>\n",
       "    <tr>\n",
       "      <td>2018</td>\n",
       "      <td>0.048253</td>\n",
       "      <td>0.035940</td>\n",
       "      <td>0.045250</td>\n",
       "      <td>0.042647</td>\n",
       "      <td>0.045600</td>\n",
       "      <td>0.043748</td>\n",
       "      <td>0.738562</td>\n",
       "    </tr>\n",
       "    <tr>\n",
       "      <td>2019</td>\n",
       "      <td>0.047034</td>\n",
       "      <td>0.031580</td>\n",
       "      <td>0.048714</td>\n",
       "      <td>0.041803</td>\n",
       "      <td>0.043914</td>\n",
       "      <td>0.052985</td>\n",
       "      <td>0.733970</td>\n",
       "    </tr>\n",
       "    <tr>\n",
       "      <td>2020</td>\n",
       "      <td>0.044950</td>\n",
       "      <td>0.049575</td>\n",
       "      <td>0.043436</td>\n",
       "      <td>0.042259</td>\n",
       "      <td>0.045833</td>\n",
       "      <td>0.050669</td>\n",
       "      <td>0.723278</td>\n",
       "    </tr>\n",
       "  </tbody>\n",
       "</table>\n",
       "</div>"
      ],
      "text/plain": [
       "inc_etc_cat  (-1.0, 51000.0]  (1020000.0, 62810000.0]  (114000.0, 213000.0]  \\\n",
       "year                                                                          \n",
       "2015                0.029648                 0.008040              0.013568   \n",
       "2016                0.040043                 0.037527              0.050683   \n",
       "2017                0.040590                 0.037217              0.046879   \n",
       "2018                0.048253                 0.035940              0.045250   \n",
       "2019                0.047034                 0.031580              0.048714   \n",
       "2020                0.044950                 0.049575              0.043436   \n",
       "\n",
       "inc_etc_cat  (213000.0, 425000.0]  (425000.0, 1020000.0]  (51000.0, 114000.0]  \\\n",
       "year                                                                            \n",
       "2015                     0.012563               0.012563             0.016332   \n",
       "2016                     0.042416               0.039756             0.029331   \n",
       "2017                     0.044020               0.041105             0.030814   \n",
       "2018                     0.042647               0.045600             0.043748   \n",
       "2019                     0.041803               0.043914             0.052985   \n",
       "2020                     0.042259               0.045833             0.050669   \n",
       "\n",
       "inc_etc_cat         n  \n",
       "year                   \n",
       "2015         0.907286  \n",
       "2016         0.760244  \n",
       "2017         0.759376  \n",
       "2018         0.738562  \n",
       "2019         0.733970  \n",
       "2020         0.723278  "
      ]
     },
     "execution_count": 269,
     "metadata": {},
     "output_type": "execute_result"
    }
   ],
   "source": [
    "pd.crosstab(df.year,df.inc_etc_cat).apply(f1,axis=1)"
   ]
  },
  {
   "cell_type": "code",
   "execution_count": 273,
   "metadata": {},
   "outputs": [
    {
     "data": {
      "text/html": [
       "<div>\n",
       "<style scoped>\n",
       "    .dataframe tbody tr th:only-of-type {\n",
       "        vertical-align: middle;\n",
       "    }\n",
       "\n",
       "    .dataframe tbody tr th {\n",
       "        vertical-align: top;\n",
       "    }\n",
       "\n",
       "    .dataframe thead th {\n",
       "        text-align: right;\n",
       "    }\n",
       "</style>\n",
       "<table border=\"1\" class=\"dataframe\">\n",
       "  <thead>\n",
       "    <tr style=\"text-align: right;\">\n",
       "      <th>ref_cat</th>\n",
       "      <th>a</th>\n",
       "      <th>b</th>\n",
       "      <th>c</th>\n",
       "    </tr>\n",
       "    <tr>\n",
       "      <th>year</th>\n",
       "      <th></th>\n",
       "      <th></th>\n",
       "      <th></th>\n",
       "    </tr>\n",
       "  </thead>\n",
       "  <tbody>\n",
       "    <tr>\n",
       "      <td>2015</td>\n",
       "      <td>0.284925</td>\n",
       "      <td>0.321357</td>\n",
       "      <td>0.393719</td>\n",
       "    </tr>\n",
       "    <tr>\n",
       "      <td>2016</td>\n",
       "      <td>0.294177</td>\n",
       "      <td>0.332566</td>\n",
       "      <td>0.373257</td>\n",
       "    </tr>\n",
       "    <tr>\n",
       "      <td>2017</td>\n",
       "      <td>0.305397</td>\n",
       "      <td>0.335468</td>\n",
       "      <td>0.359136</td>\n",
       "    </tr>\n",
       "    <tr>\n",
       "      <td>2018</td>\n",
       "      <td>0.302132</td>\n",
       "      <td>0.341426</td>\n",
       "      <td>0.356442</td>\n",
       "    </tr>\n",
       "    <tr>\n",
       "      <td>2019</td>\n",
       "      <td>0.297850</td>\n",
       "      <td>0.352755</td>\n",
       "      <td>0.349395</td>\n",
       "    </tr>\n",
       "    <tr>\n",
       "      <td>2020</td>\n",
       "      <td>0.470188</td>\n",
       "      <td>0.296401</td>\n",
       "      <td>0.233412</td>\n",
       "    </tr>\n",
       "  </tbody>\n",
       "</table>\n",
       "</div>"
      ],
      "text/plain": [
       "ref_cat         a         b         c\n",
       "year                                 \n",
       "2015     0.284925  0.321357  0.393719\n",
       "2016     0.294177  0.332566  0.373257\n",
       "2017     0.305397  0.335468  0.359136\n",
       "2018     0.302132  0.341426  0.356442\n",
       "2019     0.297850  0.352755  0.349395\n",
       "2020     0.470188  0.296401  0.233412"
      ]
     },
     "execution_count": 273,
     "metadata": {},
     "output_type": "execute_result"
    }
   ],
   "source": [
    "pd.crosstab(df.year,df.ref_cat).apply(f1,axis=1)"
   ]
  },
  {
   "cell_type": "code",
   "execution_count": 276,
   "metadata": {},
   "outputs": [
    {
     "data": {
      "text/html": [
       "<div>\n",
       "<style scoped>\n",
       "    .dataframe tbody tr th:only-of-type {\n",
       "        vertical-align: middle;\n",
       "    }\n",
       "\n",
       "    .dataframe tbody tr th {\n",
       "        vertical-align: top;\n",
       "    }\n",
       "\n",
       "    .dataframe thead th {\n",
       "        text-align: right;\n",
       "    }\n",
       "</style>\n",
       "<table border=\"1\" class=\"dataframe\">\n",
       "  <thead>\n",
       "    <tr style=\"text-align: right;\">\n",
       "      <th>ag_cat</th>\n",
       "      <th>-1, 21</th>\n",
       "      <th>21, 24</th>\n",
       "      <th>24, 26</th>\n",
       "      <th>26, 29</th>\n",
       "      <th>29, 34</th>\n",
       "      <th>34, 37</th>\n",
       "      <th>37, 48</th>\n",
       "      <th>48, 100</th>\n",
       "    </tr>\n",
       "    <tr>\n",
       "      <th>year</th>\n",
       "      <th></th>\n",
       "      <th></th>\n",
       "      <th></th>\n",
       "      <th></th>\n",
       "      <th></th>\n",
       "      <th></th>\n",
       "      <th></th>\n",
       "      <th></th>\n",
       "    </tr>\n",
       "  </thead>\n",
       "  <tbody>\n",
       "    <tr>\n",
       "      <td>2015</td>\n",
       "      <td>0.005528</td>\n",
       "      <td>0.095980</td>\n",
       "      <td>0.210050</td>\n",
       "      <td>0.299246</td>\n",
       "      <td>0.196482</td>\n",
       "      <td>0.050754</td>\n",
       "      <td>0.090452</td>\n",
       "      <td>0.051508</td>\n",
       "    </tr>\n",
       "    <tr>\n",
       "      <td>2016</td>\n",
       "      <td>0.013012</td>\n",
       "      <td>0.153918</td>\n",
       "      <td>0.177283</td>\n",
       "      <td>0.261826</td>\n",
       "      <td>0.188785</td>\n",
       "      <td>0.059310</td>\n",
       "      <td>0.094033</td>\n",
       "      <td>0.051833</td>\n",
       "    </tr>\n",
       "    <tr>\n",
       "      <td>2017</td>\n",
       "      <td>0.028184</td>\n",
       "      <td>0.206151</td>\n",
       "      <td>0.185628</td>\n",
       "      <td>0.234736</td>\n",
       "      <td>0.168420</td>\n",
       "      <td>0.048994</td>\n",
       "      <td>0.083753</td>\n",
       "      <td>0.044134</td>\n",
       "    </tr>\n",
       "    <tr>\n",
       "      <td>2018</td>\n",
       "      <td>0.070427</td>\n",
       "      <td>0.229102</td>\n",
       "      <td>0.186105</td>\n",
       "      <td>0.209881</td>\n",
       "      <td>0.141956</td>\n",
       "      <td>0.046201</td>\n",
       "      <td>0.076134</td>\n",
       "      <td>0.040194</td>\n",
       "    </tr>\n",
       "    <tr>\n",
       "      <td>2019</td>\n",
       "      <td>0.114033</td>\n",
       "      <td>0.239297</td>\n",
       "      <td>0.178009</td>\n",
       "      <td>0.184728</td>\n",
       "      <td>0.134863</td>\n",
       "      <td>0.041755</td>\n",
       "      <td>0.071511</td>\n",
       "      <td>0.035803</td>\n",
       "    </tr>\n",
       "    <tr>\n",
       "      <td>2020</td>\n",
       "      <td>0.118241</td>\n",
       "      <td>0.243756</td>\n",
       "      <td>0.171096</td>\n",
       "      <td>0.186444</td>\n",
       "      <td>0.134850</td>\n",
       "      <td>0.040829</td>\n",
       "      <td>0.068539</td>\n",
       "      <td>0.036246</td>\n",
       "    </tr>\n",
       "  </tbody>\n",
       "</table>\n",
       "</div>"
      ],
      "text/plain": [
       "ag_cat    -1, 21    21, 24    24, 26    26, 29    29, 34    34, 37    37, 48  \\\n",
       "year                                                                           \n",
       "2015    0.005528  0.095980  0.210050  0.299246  0.196482  0.050754  0.090452   \n",
       "2016    0.013012  0.153918  0.177283  0.261826  0.188785  0.059310  0.094033   \n",
       "2017    0.028184  0.206151  0.185628  0.234736  0.168420  0.048994  0.083753   \n",
       "2018    0.070427  0.229102  0.186105  0.209881  0.141956  0.046201  0.076134   \n",
       "2019    0.114033  0.239297  0.178009  0.184728  0.134863  0.041755  0.071511   \n",
       "2020    0.118241  0.243756  0.171096  0.186444  0.134850  0.040829  0.068539   \n",
       "\n",
       "ag_cat   48, 100  \n",
       "year              \n",
       "2015    0.051508  \n",
       "2016    0.051833  \n",
       "2017    0.044134  \n",
       "2018    0.040194  \n",
       "2019    0.035803  \n",
       "2020    0.036246  "
      ]
     },
     "execution_count": 276,
     "metadata": {},
     "output_type": "execute_result"
    }
   ],
   "source": [
    "pd.crosstab(df.year,df.ag_cat).apply(f1,axis=1)"
   ]
  },
  {
   "cell_type": "code",
   "execution_count": 277,
   "metadata": {},
   "outputs": [
    {
     "data": {
      "text/html": [
       "<div>\n",
       "<style scoped>\n",
       "    .dataframe tbody tr th:only-of-type {\n",
       "        vertical-align: middle;\n",
       "    }\n",
       "\n",
       "    .dataframe tbody tr th {\n",
       "        vertical-align: top;\n",
       "    }\n",
       "\n",
       "    .dataframe thead th {\n",
       "        text-align: right;\n",
       "    }\n",
       "</style>\n",
       "<table border=\"1\" class=\"dataframe\">\n",
       "  <thead>\n",
       "    <tr style=\"text-align: right;\">\n",
       "      <th>ag_cat</th>\n",
       "      <th>-1, 21</th>\n",
       "      <th>21, 24</th>\n",
       "      <th>24, 26</th>\n",
       "      <th>26, 29</th>\n",
       "      <th>29, 34</th>\n",
       "      <th>34, 37</th>\n",
       "      <th>37, 48</th>\n",
       "      <th>48, 100</th>\n",
       "    </tr>\n",
       "    <tr>\n",
       "      <th>inc_comp_cat</th>\n",
       "      <th></th>\n",
       "      <th></th>\n",
       "      <th></th>\n",
       "      <th></th>\n",
       "      <th></th>\n",
       "      <th></th>\n",
       "      <th></th>\n",
       "      <th></th>\n",
       "    </tr>\n",
       "  </thead>\n",
       "  <tbody>\n",
       "    <tr>\n",
       "      <td>(-1.0, 102000.0]</td>\n",
       "      <td>0.102197</td>\n",
       "      <td>0.237085</td>\n",
       "      <td>0.184899</td>\n",
       "      <td>0.200270</td>\n",
       "      <td>0.130839</td>\n",
       "      <td>0.040339</td>\n",
       "      <td>0.065007</td>\n",
       "      <td>0.039364</td>\n",
       "    </tr>\n",
       "    <tr>\n",
       "      <td>(102000.0, 295000.0]</td>\n",
       "      <td>0.096393</td>\n",
       "      <td>0.247082</td>\n",
       "      <td>0.183749</td>\n",
       "      <td>0.200768</td>\n",
       "      <td>0.132239</td>\n",
       "      <td>0.035620</td>\n",
       "      <td>0.066345</td>\n",
       "      <td>0.037804</td>\n",
       "    </tr>\n",
       "    <tr>\n",
       "      <td>(1233000.0, 2793000.0]</td>\n",
       "      <td>0.066190</td>\n",
       "      <td>0.205949</td>\n",
       "      <td>0.177636</td>\n",
       "      <td>0.216943</td>\n",
       "      <td>0.160617</td>\n",
       "      <td>0.048946</td>\n",
       "      <td>0.079217</td>\n",
       "      <td>0.044503</td>\n",
       "    </tr>\n",
       "    <tr>\n",
       "      <td>(2793000.0, 39934000.0]</td>\n",
       "      <td>0.040402</td>\n",
       "      <td>0.159052</td>\n",
       "      <td>0.159990</td>\n",
       "      <td>0.230907</td>\n",
       "      <td>0.195960</td>\n",
       "      <td>0.059325</td>\n",
       "      <td>0.105268</td>\n",
       "      <td>0.049096</td>\n",
       "    </tr>\n",
       "    <tr>\n",
       "      <td>(295000.0, 640000.0]</td>\n",
       "      <td>0.094213</td>\n",
       "      <td>0.245466</td>\n",
       "      <td>0.189856</td>\n",
       "      <td>0.204154</td>\n",
       "      <td>0.128527</td>\n",
       "      <td>0.035744</td>\n",
       "      <td>0.064489</td>\n",
       "      <td>0.037550</td>\n",
       "    </tr>\n",
       "    <tr>\n",
       "      <td>(640000.0, 1233000.0]</td>\n",
       "      <td>0.078287</td>\n",
       "      <td>0.244929</td>\n",
       "      <td>0.184072</td>\n",
       "      <td>0.208715</td>\n",
       "      <td>0.138242</td>\n",
       "      <td>0.040721</td>\n",
       "      <td>0.064914</td>\n",
       "      <td>0.040120</td>\n",
       "    </tr>\n",
       "    <tr>\n",
       "      <td>n</td>\n",
       "      <td>0.046021</td>\n",
       "      <td>0.180360</td>\n",
       "      <td>0.180681</td>\n",
       "      <td>0.229737</td>\n",
       "      <td>0.171302</td>\n",
       "      <td>0.058572</td>\n",
       "      <td>0.092777</td>\n",
       "      <td>0.040550</td>\n",
       "    </tr>\n",
       "  </tbody>\n",
       "</table>\n",
       "</div>"
      ],
      "text/plain": [
       "ag_cat                     -1, 21    21, 24    24, 26    26, 29    29, 34  \\\n",
       "inc_comp_cat                                                                \n",
       "(-1.0, 102000.0]         0.102197  0.237085  0.184899  0.200270  0.130839   \n",
       "(102000.0, 295000.0]     0.096393  0.247082  0.183749  0.200768  0.132239   \n",
       "(1233000.0, 2793000.0]   0.066190  0.205949  0.177636  0.216943  0.160617   \n",
       "(2793000.0, 39934000.0]  0.040402  0.159052  0.159990  0.230907  0.195960   \n",
       "(295000.0, 640000.0]     0.094213  0.245466  0.189856  0.204154  0.128527   \n",
       "(640000.0, 1233000.0]    0.078287  0.244929  0.184072  0.208715  0.138242   \n",
       "n                        0.046021  0.180360  0.180681  0.229737  0.171302   \n",
       "\n",
       "ag_cat                     34, 37    37, 48   48, 100  \n",
       "inc_comp_cat                                           \n",
       "(-1.0, 102000.0]         0.040339  0.065007  0.039364  \n",
       "(102000.0, 295000.0]     0.035620  0.066345  0.037804  \n",
       "(1233000.0, 2793000.0]   0.048946  0.079217  0.044503  \n",
       "(2793000.0, 39934000.0]  0.059325  0.105268  0.049096  \n",
       "(295000.0, 640000.0]     0.035744  0.064489  0.037550  \n",
       "(640000.0, 1233000.0]    0.040721  0.064914  0.040120  \n",
       "n                        0.058572  0.092777  0.040550  "
      ]
     },
     "execution_count": 277,
     "metadata": {},
     "output_type": "execute_result"
    }
   ],
   "source": [
    "pd.crosstab(df.inc_comp_cat,df.ag_cat).apply(f1,axis=1)"
   ]
  },
  {
   "cell_type": "code",
   "execution_count": 278,
   "metadata": {},
   "outputs": [
    {
     "data": {
      "text/html": [
       "<div>\n",
       "<style scoped>\n",
       "    .dataframe tbody tr th:only-of-type {\n",
       "        vertical-align: middle;\n",
       "    }\n",
       "\n",
       "    .dataframe tbody tr th {\n",
       "        vertical-align: top;\n",
       "    }\n",
       "\n",
       "    .dataframe thead th {\n",
       "        text-align: right;\n",
       "    }\n",
       "</style>\n",
       "<table border=\"1\" class=\"dataframe\">\n",
       "  <thead>\n",
       "    <tr style=\"text-align: right;\">\n",
       "      <th>gender</th>\n",
       "      <th>F</th>\n",
       "      <th>M</th>\n",
       "    </tr>\n",
       "    <tr>\n",
       "      <th>inc_comp_cat</th>\n",
       "      <th></th>\n",
       "      <th></th>\n",
       "    </tr>\n",
       "  </thead>\n",
       "  <tbody>\n",
       "    <tr>\n",
       "      <td>(-1.0, 102000.0]</td>\n",
       "      <td>0.505961</td>\n",
       "      <td>0.494039</td>\n",
       "    </tr>\n",
       "    <tr>\n",
       "      <td>(102000.0, 295000.0]</td>\n",
       "      <td>0.525416</td>\n",
       "      <td>0.474584</td>\n",
       "    </tr>\n",
       "    <tr>\n",
       "      <td>(1233000.0, 2793000.0]</td>\n",
       "      <td>0.489081</td>\n",
       "      <td>0.510919</td>\n",
       "    </tr>\n",
       "    <tr>\n",
       "      <td>(2793000.0, 39934000.0]</td>\n",
       "      <td>0.441783</td>\n",
       "      <td>0.558217</td>\n",
       "    </tr>\n",
       "    <tr>\n",
       "      <td>(295000.0, 640000.0]</td>\n",
       "      <td>0.520129</td>\n",
       "      <td>0.479871</td>\n",
       "    </tr>\n",
       "    <tr>\n",
       "      <td>(640000.0, 1233000.0]</td>\n",
       "      <td>0.506912</td>\n",
       "      <td>0.493088</td>\n",
       "    </tr>\n",
       "    <tr>\n",
       "      <td>n</td>\n",
       "      <td>0.479932</td>\n",
       "      <td>0.520068</td>\n",
       "    </tr>\n",
       "  </tbody>\n",
       "</table>\n",
       "</div>"
      ],
      "text/plain": [
       "gender                          F         M\n",
       "inc_comp_cat                               \n",
       "(-1.0, 102000.0]         0.505961  0.494039\n",
       "(102000.0, 295000.0]     0.525416  0.474584\n",
       "(1233000.0, 2793000.0]   0.489081  0.510919\n",
       "(2793000.0, 39934000.0]  0.441783  0.558217\n",
       "(295000.0, 640000.0]     0.520129  0.479871\n",
       "(640000.0, 1233000.0]    0.506912  0.493088\n",
       "n                        0.479932  0.520068"
      ]
     },
     "execution_count": 278,
     "metadata": {},
     "output_type": "execute_result"
    }
   ],
   "source": [
    "pd.crosstab(df.inc_comp_cat,df.gender).apply(f1,axis=1)"
   ]
  },
  {
   "cell_type": "markdown",
   "metadata": {},
   "source": [
    "- 사업소득이 없는 데이터가 23%대에서 13%대로 급감하고, 사업소득이 2,793,000 에서 39,934,000 범위인 데이터가 3배 증가했다.\n",
    "- 그외, 사업 소득이 1233000에서 2793000까지에 속한 그룹의 데이터 비중도 증가했다.\n",
    "- 근로소득의 경우나 기타소득의 경우에는 이에 비해 결측값 감소나 특정그룹의 비율 변화정도가 작은편이다.\n",
    "- 환급액 각 그룹별 비중은 사업소득처럼 큰 변화가 있다. 제일 고액의 그룹인 a그룹이 증가하였다.\n",
    "- 반면, 제일 저액의 그룹인 c그룹(약 11%)이 가장 많이 감소하고 중간액의 그룹은 덜 감소하였다.\n",
    "- 나이그룹의 변화는 거의 없는것으로 보인다."
   ]
  },
  {
   "cell_type": "markdown",
   "metadata": {},
   "source": [
    "### 2020년 결제금액 총합계의 증가와 변수들의 변화에 대해 정리하면 매출액 총 합계를 증가시키키 위해 다음의 결론을 내릴 수 있다.\n",
    "    1. 2020년에 결제금액의 평균값과 총합계가 급증했다.\n",
    "    2. 오히려 총 결제율과 결제데이터의 수는 하락하였다.\n",
    "    3. 사업소득이 2,793,000 에서 39,934,000 범위(최상위)에 해당하는 고객은 2020년 다른해에 비해 3배이상 증가하였다.\n",
    "    4. 사업소득 최상위 그룹은 26세 이상의 고객의 비율이 다른 사업소득 그룹보다 높고, 남성의 비율이 다른 사업소득 그룹보다 높다.\n",
    "    5. 위 3가지 기준에 해당하는 고객이 가장 많이 쓰는 플랫폼에서 해당 그룹을 타게팅하여 지속적으로 마케팅할 경우 결제 금액  \n",
    "       총합계의 증대를 예상할 수 있다."
   ]
  }
 ],
 "metadata": {
  "kernelspec": {
   "display_name": "Python 3",
   "language": "python",
   "name": "python3"
  },
  "language_info": {
   "codemirror_mode": {
    "name": "ipython",
    "version": 3
   },
   "file_extension": ".py",
   "mimetype": "text/x-python",
   "name": "python",
   "nbconvert_exporter": "python",
   "pygments_lexer": "ipython3",
   "version": "3.7.4"
  }
 },
 "nbformat": 4,
 "nbformat_minor": 2
}
