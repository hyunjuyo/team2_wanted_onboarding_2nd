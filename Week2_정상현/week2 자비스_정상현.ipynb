{
 "cells": [
  {
   "cell_type": "markdown",
   "metadata": {},
   "source": [
    "## Ⅰ. Intro\n",
    "\n",
    "### 1. 테이블의 내용\n",
    "1. 고객이 각 귀속년도별\n",
    "1. 근로 / 사업 / 기타 소득에 대한 예상환급액과 수수료를 조회한 뒤\n",
    "1. 결제를 하거나 하지 않은 여부를 저장\n",
    "\n",
    "### 2. 컬럼 정보\n",
    "- age: 고객의 만 나이입니다. \n",
    "- gender: 고객의 성별입니다.\n",
    "- year: 소득이 발생한 연도(귀속년도)입니다.\n",
    "- refund: 예상환급액입니다.\n",
    "- fee: 수수료입니다.\n",
    "- has_paid: 수수료를 결제했는지의 여부\n",
    "- income_근로: 고객의 근로소득(월급/일용직급여)\n",
    "- income_사업: 고객의 사업소득(프리랜서 소득)\n",
    "- income_기타: 고객의 기타소득(그외 기타 소득)\n",
    "\n",
    "### 3. 질문\n",
    "\n",
    "- 고객의 결제여부에 영향을 미치는 요인들은 무엇인가요? \n",
    "- 고객의 수수료 결제금액의 합을 높히기 위해서는 어떻게 해야 할까요?\n",
    "\n",
    "### 4. 개념파악 \n",
    "- 납부세액 혹은 환급세액의 결정방법\n",
    "- 소득을 3범주로 하여, 기장의무가 달라진다.  \n",
    "https://m.blog.naver.com/PostView.naver?isHttpsRedirect=true&blogId=fobi52&logNo=221270380307"
   ]
  },
  {
   "cell_type": "markdown",
   "metadata": {},
   "source": [
    "### 5. EDA"
   ]
  },
  {
   "cell_type": "code",
   "execution_count": 1,
   "metadata": {},
   "outputs": [],
   "source": [
    "import pandas as pd\n",
    "import numpy as np\n",
    "import seaborn as sns\n",
    "import matplotlib.pyplot as plt\n",
    "plt.rcParams['font.family'] = 'Malgun Gothic'\n",
    "plt.rcParams['axes.unicode_minus'] = False"
   ]
  },
  {
   "cell_type": "code",
   "execution_count": 2,
   "metadata": {},
   "outputs": [],
   "source": [
    "df=pd.read_csv('Jobis_3o3.csv')"
   ]
  },
  {
   "cell_type": "code",
   "execution_count": 3,
   "metadata": {},
   "outputs": [
    {
     "name": "stdout",
     "output_type": "stream",
     "text": [
      "<class 'pandas.core.frame.DataFrame'>\n",
      "RangeIndex: 100000 entries, 0 to 99999\n",
      "Data columns (total 9 columns):\n",
      "age          100000 non-null float64\n",
      "gender       100000 non-null object\n",
      "year         100000 non-null int64\n",
      "refund       100000 non-null float64\n",
      "fee          100000 non-null float64\n",
      "has_paid     100000 non-null bool\n",
      "income_근로    40791 non-null float64\n",
      "income_사업    78227 non-null float64\n",
      "income_기타    25260 non-null float64\n",
      "dtypes: bool(1), float64(6), int64(1), object(1)\n",
      "memory usage: 6.2+ MB\n"
     ]
    }
   ],
   "source": [
    "df.info()"
   ]
  },
  {
   "cell_type": "code",
   "execution_count": 4,
   "metadata": {},
   "outputs": [
    {
     "data": {
      "text/html": [
       "<div>\n",
       "<style scoped>\n",
       "    .dataframe tbody tr th:only-of-type {\n",
       "        vertical-align: middle;\n",
       "    }\n",
       "\n",
       "    .dataframe tbody tr th {\n",
       "        vertical-align: top;\n",
       "    }\n",
       "\n",
       "    .dataframe thead th {\n",
       "        text-align: right;\n",
       "    }\n",
       "</style>\n",
       "<table border=\"1\" class=\"dataframe\">\n",
       "  <thead>\n",
       "    <tr style=\"text-align: right;\">\n",
       "      <th></th>\n",
       "      <th>age</th>\n",
       "      <th>year</th>\n",
       "      <th>refund</th>\n",
       "      <th>fee</th>\n",
       "      <th>income_근로</th>\n",
       "      <th>income_사업</th>\n",
       "      <th>income_기타</th>\n",
       "    </tr>\n",
       "  </thead>\n",
       "  <tbody>\n",
       "    <tr>\n",
       "      <td>count</td>\n",
       "      <td>100000.00000</td>\n",
       "      <td>100000.000000</td>\n",
       "      <td>1.000000e+05</td>\n",
       "      <td>100000.000000</td>\n",
       "      <td>4.079100e+04</td>\n",
       "      <td>7.822700e+04</td>\n",
       "      <td>2.526000e+04</td>\n",
       "    </tr>\n",
       "    <tr>\n",
       "      <td>mean</td>\n",
       "      <td>29.00096</td>\n",
       "      <td>2018.111300</td>\n",
       "      <td>2.081422e+05</td>\n",
       "      <td>7247.641000</td>\n",
       "      <td>6.432597e+06</td>\n",
       "      <td>1.511712e+06</td>\n",
       "      <td>6.362834e+05</td>\n",
       "    </tr>\n",
       "    <tr>\n",
       "      <td>std</td>\n",
       "      <td>7.76819</td>\n",
       "      <td>1.495812</td>\n",
       "      <td>3.071744e+05</td>\n",
       "      <td>11926.896979</td>\n",
       "      <td>6.583716e+06</td>\n",
       "      <td>2.449810e+06</td>\n",
       "      <td>1.484947e+06</td>\n",
       "    </tr>\n",
       "    <tr>\n",
       "      <td>min</td>\n",
       "      <td>15.00000</td>\n",
       "      <td>2015.000000</td>\n",
       "      <td>-8.265000e+06</td>\n",
       "      <td>400.000000</td>\n",
       "      <td>0.000000e+00</td>\n",
       "      <td>0.000000e+00</td>\n",
       "      <td>0.000000e+00</td>\n",
       "    </tr>\n",
       "    <tr>\n",
       "      <td>25%</td>\n",
       "      <td>24.00000</td>\n",
       "      <td>2017.000000</td>\n",
       "      <td>3.300000e+04</td>\n",
       "      <td>400.000000</td>\n",
       "      <td>1.616000e+06</td>\n",
       "      <td>1.770000e+05</td>\n",
       "      <td>8.200000e+04</td>\n",
       "    </tr>\n",
       "    <tr>\n",
       "      <td>50%</td>\n",
       "      <td>27.00000</td>\n",
       "      <td>2018.000000</td>\n",
       "      <td>9.900000e+04</td>\n",
       "      <td>4300.000000</td>\n",
       "      <td>4.507000e+06</td>\n",
       "      <td>6.190000e+05</td>\n",
       "      <td>2.130000e+05</td>\n",
       "    </tr>\n",
       "    <tr>\n",
       "      <td>75%</td>\n",
       "      <td>31.00000</td>\n",
       "      <td>2019.000000</td>\n",
       "      <td>2.540000e+05</td>\n",
       "      <td>8500.000000</td>\n",
       "      <td>9.301000e+06</td>\n",
       "      <td>1.601000e+06</td>\n",
       "      <td>5.820000e+05</td>\n",
       "    </tr>\n",
       "    <tr>\n",
       "      <td>max</td>\n",
       "      <td>81.00000</td>\n",
       "      <td>2020.000000</td>\n",
       "      <td>7.725000e+06</td>\n",
       "      <td>307000.000000</td>\n",
       "      <td>1.823350e+08</td>\n",
       "      <td>3.993400e+07</td>\n",
       "      <td>6.281000e+07</td>\n",
       "    </tr>\n",
       "  </tbody>\n",
       "</table>\n",
       "</div>"
      ],
      "text/plain": [
       "                age           year        refund            fee     income_근로  \\\n",
       "count  100000.00000  100000.000000  1.000000e+05  100000.000000  4.079100e+04   \n",
       "mean       29.00096    2018.111300  2.081422e+05    7247.641000  6.432597e+06   \n",
       "std         7.76819       1.495812  3.071744e+05   11926.896979  6.583716e+06   \n",
       "min        15.00000    2015.000000 -8.265000e+06     400.000000  0.000000e+00   \n",
       "25%        24.00000    2017.000000  3.300000e+04     400.000000  1.616000e+06   \n",
       "50%        27.00000    2018.000000  9.900000e+04    4300.000000  4.507000e+06   \n",
       "75%        31.00000    2019.000000  2.540000e+05    8500.000000  9.301000e+06   \n",
       "max        81.00000    2020.000000  7.725000e+06  307000.000000  1.823350e+08   \n",
       "\n",
       "          income_사업     income_기타  \n",
       "count  7.822700e+04  2.526000e+04  \n",
       "mean   1.511712e+06  6.362834e+05  \n",
       "std    2.449810e+06  1.484947e+06  \n",
       "min    0.000000e+00  0.000000e+00  \n",
       "25%    1.770000e+05  8.200000e+04  \n",
       "50%    6.190000e+05  2.130000e+05  \n",
       "75%    1.601000e+06  5.820000e+05  \n",
       "max    3.993400e+07  6.281000e+07  "
      ]
     },
     "execution_count": 4,
     "metadata": {},
     "output_type": "execute_result"
    }
   ],
   "source": [
    "df.describe()"
   ]
  },
  {
   "cell_type": "markdown",
   "metadata": {},
   "source": [
    "#### 1) 지불여부를 숫자로 바꾸고 수수료를 곱한 새로운 변수(Target)를 생성한다.\n",
    "#### 2) 환급액에서 수수료를 뺀 gain이라는 변수를 생성하고, profit의 비율을 변수 pr로 생성한다."
   ]
  },
  {
   "cell_type": "code",
   "execution_count": 5,
   "metadata": {},
   "outputs": [],
   "source": [
    "df['has_paid']=df['has_paid'].replace(True,1).replace(False,0)"
   ]
  },
  {
   "cell_type": "code",
   "execution_count": 6,
   "metadata": {},
   "outputs": [],
   "source": [
    "df['Target']=df.has_paid*df.fee"
   ]
  },
  {
   "cell_type": "markdown",
   "metadata": {},
   "source": [
    "#### 3) 환급액과 수수료를 고려한 순 환급액과 이익률 변수를 생성"
   ]
  },
  {
   "cell_type": "code",
   "execution_count": 7,
   "metadata": {},
   "outputs": [],
   "source": [
    "pr=(df.refund-df.fee)/df.refund\n",
    "df['pr']=pr\n",
    "gain=df.refund-df.fee\n",
    "df['gain']=gain"
   ]
  },
  {
   "cell_type": "markdown",
   "metadata": {},
   "source": [
    "#### 4) 나이를 카테고리화"
   ]
  },
  {
   "cell_type": "code",
   "execution_count": 8,
   "metadata": {},
   "outputs": [],
   "source": [
    "cat_1=pd.cut(df.age,bins=[-1,21,24,26,29,34,37,48,100]).astype('str').str.rstrip(']').str.lstrip('(')\n",
    "df['ag_cat']=cat_1"
   ]
  },
  {
   "cell_type": "code",
   "execution_count": 9,
   "metadata": {},
   "outputs": [],
   "source": [
    "df['근로yn']=df.income_근로.notnull()\n",
    "df['사업yn']=df.income_사업.notnull()\n",
    "df['기타yn']=df.income_기타.notnull()\n",
    "df['소득notnull여부']=pd.concat([df.income_근로.notnull(),df.income_사업.notnull(),df.income_기타.notnull()],axis=1).sum(1).astype('str')"
   ]
  },
  {
   "cell_type": "markdown",
   "metadata": {},
   "source": [
    "#### 5) 성별컬럼 결측값처리"
   ]
  },
  {
   "cell_type": "code",
   "execution_count": 10,
   "metadata": {},
   "outputs": [
    {
     "data": {
      "text/html": [
       "<div>\n",
       "<style scoped>\n",
       "    .dataframe tbody tr th:only-of-type {\n",
       "        vertical-align: middle;\n",
       "    }\n",
       "\n",
       "    .dataframe tbody tr th {\n",
       "        vertical-align: top;\n",
       "    }\n",
       "\n",
       "    .dataframe thead th {\n",
       "        text-align: right;\n",
       "    }\n",
       "</style>\n",
       "<table border=\"1\" class=\"dataframe\">\n",
       "  <thead>\n",
       "    <tr style=\"text-align: right;\">\n",
       "      <th></th>\n",
       "      <th>age</th>\n",
       "      <th>gender</th>\n",
       "      <th>year</th>\n",
       "      <th>refund</th>\n",
       "      <th>fee</th>\n",
       "      <th>has_paid</th>\n",
       "      <th>income_근로</th>\n",
       "      <th>income_사업</th>\n",
       "      <th>income_기타</th>\n",
       "      <th>Target</th>\n",
       "      <th>pr</th>\n",
       "      <th>gain</th>\n",
       "      <th>ag_cat</th>\n",
       "      <th>근로yn</th>\n",
       "      <th>사업yn</th>\n",
       "      <th>기타yn</th>\n",
       "      <th>소득notnull여부</th>\n",
       "    </tr>\n",
       "  </thead>\n",
       "  <tbody>\n",
       "    <tr>\n",
       "      <td>2613</td>\n",
       "      <td>27.0</td>\n",
       "      <td>-</td>\n",
       "      <td>2016</td>\n",
       "      <td>559000.0</td>\n",
       "      <td>12800.0</td>\n",
       "      <td>0.0</td>\n",
       "      <td>NaN</td>\n",
       "      <td>NaN</td>\n",
       "      <td>NaN</td>\n",
       "      <td>0.0</td>\n",
       "      <td>0.977102</td>\n",
       "      <td>546200.0</td>\n",
       "      <td>26, 29</td>\n",
       "      <td>False</td>\n",
       "      <td>False</td>\n",
       "      <td>False</td>\n",
       "      <td>0</td>\n",
       "    </tr>\n",
       "    <tr>\n",
       "      <td>4101</td>\n",
       "      <td>27.0</td>\n",
       "      <td>-</td>\n",
       "      <td>2017</td>\n",
       "      <td>209000.0</td>\n",
       "      <td>4300.0</td>\n",
       "      <td>0.0</td>\n",
       "      <td>NaN</td>\n",
       "      <td>NaN</td>\n",
       "      <td>NaN</td>\n",
       "      <td>0.0</td>\n",
       "      <td>0.979426</td>\n",
       "      <td>204700.0</td>\n",
       "      <td>26, 29</td>\n",
       "      <td>False</td>\n",
       "      <td>False</td>\n",
       "      <td>False</td>\n",
       "      <td>0</td>\n",
       "    </tr>\n",
       "    <tr>\n",
       "      <td>9574</td>\n",
       "      <td>42.0</td>\n",
       "      <td>-</td>\n",
       "      <td>2015</td>\n",
       "      <td>175000.0</td>\n",
       "      <td>4300.0</td>\n",
       "      <td>0.0</td>\n",
       "      <td>NaN</td>\n",
       "      <td>NaN</td>\n",
       "      <td>NaN</td>\n",
       "      <td>0.0</td>\n",
       "      <td>0.975429</td>\n",
       "      <td>170700.0</td>\n",
       "      <td>37, 48</td>\n",
       "      <td>False</td>\n",
       "      <td>False</td>\n",
       "      <td>False</td>\n",
       "      <td>0</td>\n",
       "    </tr>\n",
       "    <tr>\n",
       "      <td>20536</td>\n",
       "      <td>26.0</td>\n",
       "      <td>-</td>\n",
       "      <td>2017</td>\n",
       "      <td>845000.0</td>\n",
       "      <td>25100.0</td>\n",
       "      <td>0.0</td>\n",
       "      <td>NaN</td>\n",
       "      <td>NaN</td>\n",
       "      <td>NaN</td>\n",
       "      <td>0.0</td>\n",
       "      <td>0.970296</td>\n",
       "      <td>819900.0</td>\n",
       "      <td>24, 26</td>\n",
       "      <td>False</td>\n",
       "      <td>False</td>\n",
       "      <td>False</td>\n",
       "      <td>0</td>\n",
       "    </tr>\n",
       "    <tr>\n",
       "      <td>28211</td>\n",
       "      <td>26.0</td>\n",
       "      <td>-</td>\n",
       "      <td>2016</td>\n",
       "      <td>650000.0</td>\n",
       "      <td>12800.0</td>\n",
       "      <td>0.0</td>\n",
       "      <td>NaN</td>\n",
       "      <td>NaN</td>\n",
       "      <td>NaN</td>\n",
       "      <td>0.0</td>\n",
       "      <td>0.980308</td>\n",
       "      <td>637200.0</td>\n",
       "      <td>24, 26</td>\n",
       "      <td>False</td>\n",
       "      <td>False</td>\n",
       "      <td>False</td>\n",
       "      <td>0</td>\n",
       "    </tr>\n",
       "    <tr>\n",
       "      <td>36217</td>\n",
       "      <td>27.0</td>\n",
       "      <td>-</td>\n",
       "      <td>2018</td>\n",
       "      <td>124000.0</td>\n",
       "      <td>3400.0</td>\n",
       "      <td>0.0</td>\n",
       "      <td>NaN</td>\n",
       "      <td>NaN</td>\n",
       "      <td>NaN</td>\n",
       "      <td>0.0</td>\n",
       "      <td>0.972581</td>\n",
       "      <td>120600.0</td>\n",
       "      <td>26, 29</td>\n",
       "      <td>False</td>\n",
       "      <td>False</td>\n",
       "      <td>False</td>\n",
       "      <td>0</td>\n",
       "    </tr>\n",
       "    <tr>\n",
       "      <td>37674</td>\n",
       "      <td>27.0</td>\n",
       "      <td>-</td>\n",
       "      <td>2015</td>\n",
       "      <td>252000.0</td>\n",
       "      <td>8500.0</td>\n",
       "      <td>0.0</td>\n",
       "      <td>NaN</td>\n",
       "      <td>NaN</td>\n",
       "      <td>NaN</td>\n",
       "      <td>0.0</td>\n",
       "      <td>0.966270</td>\n",
       "      <td>243500.0</td>\n",
       "      <td>26, 29</td>\n",
       "      <td>False</td>\n",
       "      <td>False</td>\n",
       "      <td>False</td>\n",
       "      <td>0</td>\n",
       "    </tr>\n",
       "    <tr>\n",
       "      <td>38223</td>\n",
       "      <td>53.0</td>\n",
       "      <td>-</td>\n",
       "      <td>2015</td>\n",
       "      <td>6000.0</td>\n",
       "      <td>400.0</td>\n",
       "      <td>0.0</td>\n",
       "      <td>NaN</td>\n",
       "      <td>NaN</td>\n",
       "      <td>NaN</td>\n",
       "      <td>0.0</td>\n",
       "      <td>0.933333</td>\n",
       "      <td>5600.0</td>\n",
       "      <td>48, 100</td>\n",
       "      <td>False</td>\n",
       "      <td>False</td>\n",
       "      <td>False</td>\n",
       "      <td>0</td>\n",
       "    </tr>\n",
       "    <tr>\n",
       "      <td>38441</td>\n",
       "      <td>23.0</td>\n",
       "      <td>-</td>\n",
       "      <td>2018</td>\n",
       "      <td>110000.0</td>\n",
       "      <td>3000.0</td>\n",
       "      <td>0.0</td>\n",
       "      <td>NaN</td>\n",
       "      <td>NaN</td>\n",
       "      <td>NaN</td>\n",
       "      <td>0.0</td>\n",
       "      <td>0.972727</td>\n",
       "      <td>107000.0</td>\n",
       "      <td>21, 24</td>\n",
       "      <td>False</td>\n",
       "      <td>False</td>\n",
       "      <td>False</td>\n",
       "      <td>0</td>\n",
       "    </tr>\n",
       "    <tr>\n",
       "      <td>41454</td>\n",
       "      <td>41.0</td>\n",
       "      <td>-</td>\n",
       "      <td>2015</td>\n",
       "      <td>122000.0</td>\n",
       "      <td>4300.0</td>\n",
       "      <td>1.0</td>\n",
       "      <td>NaN</td>\n",
       "      <td>NaN</td>\n",
       "      <td>NaN</td>\n",
       "      <td>4300.0</td>\n",
       "      <td>0.964754</td>\n",
       "      <td>117700.0</td>\n",
       "      <td>37, 48</td>\n",
       "      <td>False</td>\n",
       "      <td>False</td>\n",
       "      <td>False</td>\n",
       "      <td>0</td>\n",
       "    </tr>\n",
       "    <tr>\n",
       "      <td>46337</td>\n",
       "      <td>27.0</td>\n",
       "      <td>-</td>\n",
       "      <td>2019</td>\n",
       "      <td>676000.0</td>\n",
       "      <td>42500.0</td>\n",
       "      <td>0.0</td>\n",
       "      <td>NaN</td>\n",
       "      <td>NaN</td>\n",
       "      <td>NaN</td>\n",
       "      <td>0.0</td>\n",
       "      <td>0.937130</td>\n",
       "      <td>633500.0</td>\n",
       "      <td>26, 29</td>\n",
       "      <td>False</td>\n",
       "      <td>False</td>\n",
       "      <td>False</td>\n",
       "      <td>0</td>\n",
       "    </tr>\n",
       "    <tr>\n",
       "      <td>47966</td>\n",
       "      <td>41.0</td>\n",
       "      <td>-</td>\n",
       "      <td>2017</td>\n",
       "      <td>35000.0</td>\n",
       "      <td>400.0</td>\n",
       "      <td>1.0</td>\n",
       "      <td>NaN</td>\n",
       "      <td>NaN</td>\n",
       "      <td>NaN</td>\n",
       "      <td>400.0</td>\n",
       "      <td>0.988571</td>\n",
       "      <td>34600.0</td>\n",
       "      <td>37, 48</td>\n",
       "      <td>False</td>\n",
       "      <td>False</td>\n",
       "      <td>False</td>\n",
       "      <td>0</td>\n",
       "    </tr>\n",
       "    <tr>\n",
       "      <td>52346</td>\n",
       "      <td>41.0</td>\n",
       "      <td>-</td>\n",
       "      <td>2019</td>\n",
       "      <td>345000.0</td>\n",
       "      <td>8500.0</td>\n",
       "      <td>0.0</td>\n",
       "      <td>NaN</td>\n",
       "      <td>NaN</td>\n",
       "      <td>NaN</td>\n",
       "      <td>0.0</td>\n",
       "      <td>0.975362</td>\n",
       "      <td>336500.0</td>\n",
       "      <td>37, 48</td>\n",
       "      <td>False</td>\n",
       "      <td>False</td>\n",
       "      <td>False</td>\n",
       "      <td>0</td>\n",
       "    </tr>\n",
       "    <tr>\n",
       "      <td>53924</td>\n",
       "      <td>41.0</td>\n",
       "      <td>-</td>\n",
       "      <td>2016</td>\n",
       "      <td>179000.0</td>\n",
       "      <td>4300.0</td>\n",
       "      <td>1.0</td>\n",
       "      <td>NaN</td>\n",
       "      <td>NaN</td>\n",
       "      <td>NaN</td>\n",
       "      <td>4300.0</td>\n",
       "      <td>0.975978</td>\n",
       "      <td>174700.0</td>\n",
       "      <td>37, 48</td>\n",
       "      <td>False</td>\n",
       "      <td>False</td>\n",
       "      <td>False</td>\n",
       "      <td>0</td>\n",
       "    </tr>\n",
       "    <tr>\n",
       "      <td>57536</td>\n",
       "      <td>25.0</td>\n",
       "      <td>-</td>\n",
       "      <td>2015</td>\n",
       "      <td>126000.0</td>\n",
       "      <td>4300.0</td>\n",
       "      <td>0.0</td>\n",
       "      <td>NaN</td>\n",
       "      <td>NaN</td>\n",
       "      <td>NaN</td>\n",
       "      <td>0.0</td>\n",
       "      <td>0.965873</td>\n",
       "      <td>121700.0</td>\n",
       "      <td>24, 26</td>\n",
       "      <td>False</td>\n",
       "      <td>False</td>\n",
       "      <td>False</td>\n",
       "      <td>0</td>\n",
       "    </tr>\n",
       "    <tr>\n",
       "      <td>60508</td>\n",
       "      <td>22.0</td>\n",
       "      <td>-</td>\n",
       "      <td>2018</td>\n",
       "      <td>33000.0</td>\n",
       "      <td>400.0</td>\n",
       "      <td>1.0</td>\n",
       "      <td>NaN</td>\n",
       "      <td>NaN</td>\n",
       "      <td>NaN</td>\n",
       "      <td>400.0</td>\n",
       "      <td>0.987879</td>\n",
       "      <td>32600.0</td>\n",
       "      <td>21, 24</td>\n",
       "      <td>False</td>\n",
       "      <td>False</td>\n",
       "      <td>False</td>\n",
       "      <td>0</td>\n",
       "    </tr>\n",
       "    <tr>\n",
       "      <td>61782</td>\n",
       "      <td>29.0</td>\n",
       "      <td>-</td>\n",
       "      <td>2018</td>\n",
       "      <td>29000.0</td>\n",
       "      <td>400.0</td>\n",
       "      <td>0.0</td>\n",
       "      <td>NaN</td>\n",
       "      <td>NaN</td>\n",
       "      <td>NaN</td>\n",
       "      <td>0.0</td>\n",
       "      <td>0.986207</td>\n",
       "      <td>28600.0</td>\n",
       "      <td>26, 29</td>\n",
       "      <td>False</td>\n",
       "      <td>False</td>\n",
       "      <td>False</td>\n",
       "      <td>0</td>\n",
       "    </tr>\n",
       "    <tr>\n",
       "      <td>63173</td>\n",
       "      <td>21.0</td>\n",
       "      <td>-</td>\n",
       "      <td>2019</td>\n",
       "      <td>130000.0</td>\n",
       "      <td>3800.0</td>\n",
       "      <td>0.0</td>\n",
       "      <td>NaN</td>\n",
       "      <td>NaN</td>\n",
       "      <td>NaN</td>\n",
       "      <td>0.0</td>\n",
       "      <td>0.970769</td>\n",
       "      <td>126200.0</td>\n",
       "      <td>-1, 21</td>\n",
       "      <td>False</td>\n",
       "      <td>False</td>\n",
       "      <td>False</td>\n",
       "      <td>0</td>\n",
       "    </tr>\n",
       "    <tr>\n",
       "      <td>68844</td>\n",
       "      <td>26.0</td>\n",
       "      <td>-</td>\n",
       "      <td>2019</td>\n",
       "      <td>487000.0</td>\n",
       "      <td>12800.0</td>\n",
       "      <td>0.0</td>\n",
       "      <td>NaN</td>\n",
       "      <td>NaN</td>\n",
       "      <td>NaN</td>\n",
       "      <td>0.0</td>\n",
       "      <td>0.973717</td>\n",
       "      <td>474200.0</td>\n",
       "      <td>24, 26</td>\n",
       "      <td>False</td>\n",
       "      <td>False</td>\n",
       "      <td>False</td>\n",
       "      <td>0</td>\n",
       "    </tr>\n",
       "    <tr>\n",
       "      <td>72826</td>\n",
       "      <td>27.0</td>\n",
       "      <td>-</td>\n",
       "      <td>2019</td>\n",
       "      <td>223000.0</td>\n",
       "      <td>6400.0</td>\n",
       "      <td>0.0</td>\n",
       "      <td>NaN</td>\n",
       "      <td>NaN</td>\n",
       "      <td>NaN</td>\n",
       "      <td>0.0</td>\n",
       "      <td>0.971300</td>\n",
       "      <td>216600.0</td>\n",
       "      <td>26, 29</td>\n",
       "      <td>False</td>\n",
       "      <td>False</td>\n",
       "      <td>False</td>\n",
       "      <td>0</td>\n",
       "    </tr>\n",
       "    <tr>\n",
       "      <td>73571</td>\n",
       "      <td>19.0</td>\n",
       "      <td>-</td>\n",
       "      <td>2019</td>\n",
       "      <td>43000.0</td>\n",
       "      <td>400.0</td>\n",
       "      <td>0.0</td>\n",
       "      <td>NaN</td>\n",
       "      <td>NaN</td>\n",
       "      <td>NaN</td>\n",
       "      <td>0.0</td>\n",
       "      <td>0.990698</td>\n",
       "      <td>42600.0</td>\n",
       "      <td>-1, 21</td>\n",
       "      <td>False</td>\n",
       "      <td>False</td>\n",
       "      <td>False</td>\n",
       "      <td>0</td>\n",
       "    </tr>\n",
       "    <tr>\n",
       "      <td>73655</td>\n",
       "      <td>23.0</td>\n",
       "      <td>-</td>\n",
       "      <td>2018</td>\n",
       "      <td>6000.0</td>\n",
       "      <td>400.0</td>\n",
       "      <td>0.0</td>\n",
       "      <td>NaN</td>\n",
       "      <td>NaN</td>\n",
       "      <td>NaN</td>\n",
       "      <td>0.0</td>\n",
       "      <td>0.933333</td>\n",
       "      <td>5600.0</td>\n",
       "      <td>21, 24</td>\n",
       "      <td>False</td>\n",
       "      <td>False</td>\n",
       "      <td>False</td>\n",
       "      <td>0</td>\n",
       "    </tr>\n",
       "  </tbody>\n",
       "</table>\n",
       "</div>"
      ],
      "text/plain": [
       "        age gender  year    refund      fee  has_paid  income_근로  income_사업  \\\n",
       "2613   27.0      -  2016  559000.0  12800.0       0.0        NaN        NaN   \n",
       "4101   27.0      -  2017  209000.0   4300.0       0.0        NaN        NaN   \n",
       "9574   42.0      -  2015  175000.0   4300.0       0.0        NaN        NaN   \n",
       "20536  26.0      -  2017  845000.0  25100.0       0.0        NaN        NaN   \n",
       "28211  26.0      -  2016  650000.0  12800.0       0.0        NaN        NaN   \n",
       "36217  27.0      -  2018  124000.0   3400.0       0.0        NaN        NaN   \n",
       "37674  27.0      -  2015  252000.0   8500.0       0.0        NaN        NaN   \n",
       "38223  53.0      -  2015    6000.0    400.0       0.0        NaN        NaN   \n",
       "38441  23.0      -  2018  110000.0   3000.0       0.0        NaN        NaN   \n",
       "41454  41.0      -  2015  122000.0   4300.0       1.0        NaN        NaN   \n",
       "46337  27.0      -  2019  676000.0  42500.0       0.0        NaN        NaN   \n",
       "47966  41.0      -  2017   35000.0    400.0       1.0        NaN        NaN   \n",
       "52346  41.0      -  2019  345000.0   8500.0       0.0        NaN        NaN   \n",
       "53924  41.0      -  2016  179000.0   4300.0       1.0        NaN        NaN   \n",
       "57536  25.0      -  2015  126000.0   4300.0       0.0        NaN        NaN   \n",
       "60508  22.0      -  2018   33000.0    400.0       1.0        NaN        NaN   \n",
       "61782  29.0      -  2018   29000.0    400.0       0.0        NaN        NaN   \n",
       "63173  21.0      -  2019  130000.0   3800.0       0.0        NaN        NaN   \n",
       "68844  26.0      -  2019  487000.0  12800.0       0.0        NaN        NaN   \n",
       "72826  27.0      -  2019  223000.0   6400.0       0.0        NaN        NaN   \n",
       "73571  19.0      -  2019   43000.0    400.0       0.0        NaN        NaN   \n",
       "73655  23.0      -  2018    6000.0    400.0       0.0        NaN        NaN   \n",
       "\n",
       "       income_기타  Target        pr      gain   ag_cat   근로yn   사업yn   기타yn  \\\n",
       "2613         NaN     0.0  0.977102  546200.0   26, 29  False  False  False   \n",
       "4101         NaN     0.0  0.979426  204700.0   26, 29  False  False  False   \n",
       "9574         NaN     0.0  0.975429  170700.0   37, 48  False  False  False   \n",
       "20536        NaN     0.0  0.970296  819900.0   24, 26  False  False  False   \n",
       "28211        NaN     0.0  0.980308  637200.0   24, 26  False  False  False   \n",
       "36217        NaN     0.0  0.972581  120600.0   26, 29  False  False  False   \n",
       "37674        NaN     0.0  0.966270  243500.0   26, 29  False  False  False   \n",
       "38223        NaN     0.0  0.933333    5600.0  48, 100  False  False  False   \n",
       "38441        NaN     0.0  0.972727  107000.0   21, 24  False  False  False   \n",
       "41454        NaN  4300.0  0.964754  117700.0   37, 48  False  False  False   \n",
       "46337        NaN     0.0  0.937130  633500.0   26, 29  False  False  False   \n",
       "47966        NaN   400.0  0.988571   34600.0   37, 48  False  False  False   \n",
       "52346        NaN     0.0  0.975362  336500.0   37, 48  False  False  False   \n",
       "53924        NaN  4300.0  0.975978  174700.0   37, 48  False  False  False   \n",
       "57536        NaN     0.0  0.965873  121700.0   24, 26  False  False  False   \n",
       "60508        NaN   400.0  0.987879   32600.0   21, 24  False  False  False   \n",
       "61782        NaN     0.0  0.986207   28600.0   26, 29  False  False  False   \n",
       "63173        NaN     0.0  0.970769  126200.0   -1, 21  False  False  False   \n",
       "68844        NaN     0.0  0.973717  474200.0   24, 26  False  False  False   \n",
       "72826        NaN     0.0  0.971300  216600.0   26, 29  False  False  False   \n",
       "73571        NaN     0.0  0.990698   42600.0   -1, 21  False  False  False   \n",
       "73655        NaN     0.0  0.933333    5600.0   21, 24  False  False  False   \n",
       "\n",
       "      소득notnull여부  \n",
       "2613            0  \n",
       "4101            0  \n",
       "9574            0  \n",
       "20536           0  \n",
       "28211           0  \n",
       "36217           0  \n",
       "37674           0  \n",
       "38223           0  \n",
       "38441           0  \n",
       "41454           0  \n",
       "46337           0  \n",
       "47966           0  \n",
       "52346           0  \n",
       "53924           0  \n",
       "57536           0  \n",
       "60508           0  \n",
       "61782           0  \n",
       "63173           0  \n",
       "68844           0  \n",
       "72826           0  \n",
       "73571           0  \n",
       "73655           0  "
      ]
     },
     "execution_count": 10,
     "metadata": {},
     "output_type": "execute_result"
    }
   ],
   "source": [
    "df.loc[df.gender=='-',:]"
   ]
  },
  {
   "cell_type": "code",
   "execution_count": 11,
   "metadata": {},
   "outputs": [
    {
     "data": {
      "text/plain": [
       "64643"
      ]
     },
     "execution_count": 11,
     "metadata": {},
     "output_type": "execute_result"
    }
   ],
   "source": [
    "df.query(\"has_paid==1\").shape[0]"
   ]
  },
  {
   "cell_type": "markdown",
   "metadata": {},
   "source": [
    "- 성별 값이 '-'인 데이터는 22건이 존재한다. 그리고 소득원에 대한 정보가 없다. (위 3가지 컬럼에 집계되지 않는 소득이 있는 것으로 판단한다.) \n",
    "- 이중 실제 결제 된 데이터가 4건에 해당한다. 이는, 총 10만건중 결제데이터 6만4643건의 데이터규모에서 극히 일부분이며, 성별 추정의  \n",
    "  근거가   적기때문에 삭제한다."
   ]
  },
  {
   "cell_type": "code",
   "execution_count": 12,
   "metadata": {},
   "outputs": [],
   "source": [
    "df=df.loc[df.gender!='-',:]"
   ]
  },
  {
   "cell_type": "code",
   "execution_count": 13,
   "metadata": {},
   "outputs": [
    {
     "data": {
      "text/html": [
       "<div>\n",
       "<style scoped>\n",
       "    .dataframe tbody tr th:only-of-type {\n",
       "        vertical-align: middle;\n",
       "    }\n",
       "\n",
       "    .dataframe tbody tr th {\n",
       "        vertical-align: top;\n",
       "    }\n",
       "\n",
       "    .dataframe thead th {\n",
       "        text-align: right;\n",
       "    }\n",
       "</style>\n",
       "<table border=\"1\" class=\"dataframe\">\n",
       "  <thead>\n",
       "    <tr style=\"text-align: right;\">\n",
       "      <th></th>\n",
       "      <th>age</th>\n",
       "      <th>gender</th>\n",
       "      <th>year</th>\n",
       "      <th>refund</th>\n",
       "      <th>fee</th>\n",
       "      <th>has_paid</th>\n",
       "      <th>income_근로</th>\n",
       "      <th>income_사업</th>\n",
       "      <th>income_기타</th>\n",
       "      <th>Target</th>\n",
       "      <th>pr</th>\n",
       "      <th>gain</th>\n",
       "      <th>ag_cat</th>\n",
       "      <th>근로yn</th>\n",
       "      <th>사업yn</th>\n",
       "      <th>기타yn</th>\n",
       "      <th>소득notnull여부</th>\n",
       "    </tr>\n",
       "  </thead>\n",
       "  <tbody>\n",
       "    <tr>\n",
       "      <td>10034</td>\n",
       "      <td>34.0</td>\n",
       "      <td>M</td>\n",
       "      <td>2015</td>\n",
       "      <td>-231000.0</td>\n",
       "      <td>8500.0</td>\n",
       "      <td>1.0</td>\n",
       "      <td>8989000.0</td>\n",
       "      <td>1714000.0</td>\n",
       "      <td>NaN</td>\n",
       "      <td>8500.0</td>\n",
       "      <td>1.036797</td>\n",
       "      <td>-239500.0</td>\n",
       "      <td>29, 34</td>\n",
       "      <td>True</td>\n",
       "      <td>True</td>\n",
       "      <td>False</td>\n",
       "      <td>2</td>\n",
       "    </tr>\n",
       "    <tr>\n",
       "      <td>10624</td>\n",
       "      <td>25.0</td>\n",
       "      <td>F</td>\n",
       "      <td>2018</td>\n",
       "      <td>-7000.0</td>\n",
       "      <td>400.0</td>\n",
       "      <td>1.0</td>\n",
       "      <td>7508000.0</td>\n",
       "      <td>28000.0</td>\n",
       "      <td>NaN</td>\n",
       "      <td>400.0</td>\n",
       "      <td>1.057143</td>\n",
       "      <td>-7400.0</td>\n",
       "      <td>24, 26</td>\n",
       "      <td>True</td>\n",
       "      <td>True</td>\n",
       "      <td>False</td>\n",
       "      <td>2</td>\n",
       "    </tr>\n",
       "    <tr>\n",
       "      <td>29515</td>\n",
       "      <td>41.0</td>\n",
       "      <td>F</td>\n",
       "      <td>2017</td>\n",
       "      <td>-10000.0</td>\n",
       "      <td>400.0</td>\n",
       "      <td>1.0</td>\n",
       "      <td>19718000.0</td>\n",
       "      <td>162000.0</td>\n",
       "      <td>128000.0</td>\n",
       "      <td>400.0</td>\n",
       "      <td>1.040000</td>\n",
       "      <td>-10400.0</td>\n",
       "      <td>37, 48</td>\n",
       "      <td>True</td>\n",
       "      <td>True</td>\n",
       "      <td>True</td>\n",
       "      <td>3</td>\n",
       "    </tr>\n",
       "    <tr>\n",
       "      <td>54256</td>\n",
       "      <td>48.0</td>\n",
       "      <td>F</td>\n",
       "      <td>2018</td>\n",
       "      <td>-948000.0</td>\n",
       "      <td>3000.0</td>\n",
       "      <td>1.0</td>\n",
       "      <td>8157000.0</td>\n",
       "      <td>3975000.0</td>\n",
       "      <td>NaN</td>\n",
       "      <td>3000.0</td>\n",
       "      <td>1.003165</td>\n",
       "      <td>-951000.0</td>\n",
       "      <td>37, 48</td>\n",
       "      <td>True</td>\n",
       "      <td>True</td>\n",
       "      <td>False</td>\n",
       "      <td>2</td>\n",
       "    </tr>\n",
       "    <tr>\n",
       "      <td>57756</td>\n",
       "      <td>38.0</td>\n",
       "      <td>F</td>\n",
       "      <td>2017</td>\n",
       "      <td>-107000.0</td>\n",
       "      <td>4300.0</td>\n",
       "      <td>1.0</td>\n",
       "      <td>16619000.0</td>\n",
       "      <td>737000.0</td>\n",
       "      <td>NaN</td>\n",
       "      <td>4300.0</td>\n",
       "      <td>1.040187</td>\n",
       "      <td>-111300.0</td>\n",
       "      <td>37, 48</td>\n",
       "      <td>True</td>\n",
       "      <td>True</td>\n",
       "      <td>False</td>\n",
       "      <td>2</td>\n",
       "    </tr>\n",
       "    <tr>\n",
       "      <td>68881</td>\n",
       "      <td>33.0</td>\n",
       "      <td>M</td>\n",
       "      <td>2016</td>\n",
       "      <td>-322000.0</td>\n",
       "      <td>400.0</td>\n",
       "      <td>1.0</td>\n",
       "      <td>NaN</td>\n",
       "      <td>57000.0</td>\n",
       "      <td>NaN</td>\n",
       "      <td>400.0</td>\n",
       "      <td>1.001242</td>\n",
       "      <td>-322400.0</td>\n",
       "      <td>29, 34</td>\n",
       "      <td>False</td>\n",
       "      <td>True</td>\n",
       "      <td>False</td>\n",
       "      <td>1</td>\n",
       "    </tr>\n",
       "    <tr>\n",
       "      <td>98352</td>\n",
       "      <td>33.0</td>\n",
       "      <td>M</td>\n",
       "      <td>2018</td>\n",
       "      <td>-8265000.0</td>\n",
       "      <td>4300.0</td>\n",
       "      <td>1.0</td>\n",
       "      <td>NaN</td>\n",
       "      <td>690000.0</td>\n",
       "      <td>NaN</td>\n",
       "      <td>4300.0</td>\n",
       "      <td>1.000520</td>\n",
       "      <td>-8269300.0</td>\n",
       "      <td>29, 34</td>\n",
       "      <td>False</td>\n",
       "      <td>True</td>\n",
       "      <td>False</td>\n",
       "      <td>1</td>\n",
       "    </tr>\n",
       "  </tbody>\n",
       "</table>\n",
       "</div>"
      ],
      "text/plain": [
       "        age gender  year     refund     fee  has_paid   income_근로  income_사업  \\\n",
       "10034  34.0      M  2015  -231000.0  8500.0       1.0   8989000.0  1714000.0   \n",
       "10624  25.0      F  2018    -7000.0   400.0       1.0   7508000.0    28000.0   \n",
       "29515  41.0      F  2017   -10000.0   400.0       1.0  19718000.0   162000.0   \n",
       "54256  48.0      F  2018  -948000.0  3000.0       1.0   8157000.0  3975000.0   \n",
       "57756  38.0      F  2017  -107000.0  4300.0       1.0  16619000.0   737000.0   \n",
       "68881  33.0      M  2016  -322000.0   400.0       1.0         NaN    57000.0   \n",
       "98352  33.0      M  2018 -8265000.0  4300.0       1.0         NaN   690000.0   \n",
       "\n",
       "       income_기타  Target        pr       gain  ag_cat   근로yn  사업yn   기타yn  \\\n",
       "10034        NaN  8500.0  1.036797  -239500.0  29, 34   True  True  False   \n",
       "10624        NaN   400.0  1.057143    -7400.0  24, 26   True  True  False   \n",
       "29515   128000.0   400.0  1.040000   -10400.0  37, 48   True  True   True   \n",
       "54256        NaN  3000.0  1.003165  -951000.0  37, 48   True  True  False   \n",
       "57756        NaN  4300.0  1.040187  -111300.0  37, 48   True  True  False   \n",
       "68881        NaN   400.0  1.001242  -322400.0  29, 34  False  True  False   \n",
       "98352        NaN  4300.0  1.000520 -8269300.0  29, 34  False  True  False   \n",
       "\n",
       "      소득notnull여부  \n",
       "10034           2  \n",
       "10624           2  \n",
       "29515           3  \n",
       "54256           2  \n",
       "57756           2  \n",
       "68881           1  \n",
       "98352           1  "
      ]
     },
     "execution_count": 13,
     "metadata": {},
     "output_type": "execute_result"
    }
   ],
   "source": [
    "df.query(\"refund <0 and has_paid ==1.0\")"
   ]
  },
  {
   "cell_type": "markdown",
   "metadata": {},
   "source": [
    "- 환급세액이 -인 경우는 기납부 세액이 결정세액보다 적은 경우이므로 세액의 특성상 존재하는 데이터이다.  \n",
    "- 이 데이터들은 전체 데이터에서 수수료중 빈도수가 높은 400과 4300과 8500에 해당하는 데이터로 삭제하지 않는다."
   ]
  },
  {
   "cell_type": "code",
   "execution_count": 14,
   "metadata": {},
   "outputs": [
    {
     "data": {
      "text/plain": [
       "400.0       33949\n",
       "4300.0      10100\n",
       "900.0        5906\n",
       "8500.0       4970\n",
       "1300.0       4401\n",
       "            ...  \n",
       "125000.0        1\n",
       "193500.0        1\n",
       "203200.0        1\n",
       "123700.0        1\n",
       "240600.0        1\n",
       "Name: fee, Length: 352, dtype: int64"
      ]
     },
     "execution_count": 14,
     "metadata": {},
     "output_type": "execute_result"
    }
   ],
   "source": [
    "df.fee.value_counts()"
   ]
  },
  {
   "cell_type": "markdown",
   "metadata": {},
   "source": [
    "- 수수료는 범주형 변수인 것으로 판단된다."
   ]
  },
  {
   "cell_type": "markdown",
   "metadata": {},
   "source": [
    "#### 6) 상관관계 파악"
   ]
  },
  {
   "cell_type": "code",
   "execution_count": 15,
   "metadata": {},
   "outputs": [],
   "source": [
    "corr=df.corr()"
   ]
  },
  {
   "cell_type": "code",
   "execution_count": 16,
   "metadata": {},
   "outputs": [
    {
     "data": {
      "text/plain": [
       "Text(0.5, 1, 'Feature Correlation')"
      ]
     },
     "execution_count": 16,
     "metadata": {},
     "output_type": "execute_result"
    },
    {
     "data": {
      "image/png": "[encoded data removed]",
      "text/plain": [
       "<Figure size 1080x1080 with 2 Axes>"
      ]
     },
     "metadata": {
      "needs_background": "light"
     },
     "output_type": "display_data"
    }
   ],
   "source": [
    "plt.figure(figsize=(15, 15));\n",
    "sns.heatmap(corr,\n",
    "            vmax=0.8,\n",
    "            linewidths=0.01,\n",
    "            square=True,\n",
    "            annot=True,\n",
    "            cmap='YlGnBu');\n",
    "plt.title('Feature Correlation')"
   ]
  },
  {
   "cell_type": "markdown",
   "metadata": {},
   "source": [
    "- 상관계수 히트맵으로는 결제여부와 상관관계 있는 변수는 없는 것으로 판단된다.\n",
    "- 다만, 결제금액인 Target을 보면, 상식적으로 생각하는 것처럼 환급액과 수수료에 약한 상관관계가 있다.\n",
    "- 추가로, 사업소득과 결제금액은 뚜렷한 양의 상관관계가 있으며, 기타소득과도 결제금액은 어느정도의 상관관계가 있다."
   ]
  },
  {
   "cell_type": "markdown",
   "metadata": {},
   "source": [
    "####  7) 범주형 변수간의 상관관계 파악\n",
    "#### - Cramer's V\n",
    "#####   범주형 변수간 상관관계 파악\n",
    "#####   비교 대상 범주 대상이 3개 이상\n",
    "https://www.kaggle.com/chrisbss1/cramer-s-v-correlation-matrix"
   ]
  },
  {
   "cell_type": "code",
   "execution_count": 17,
   "metadata": {},
   "outputs": [
    {
     "data": {
      "text/html": [
       "<div>\n",
       "<style scoped>\n",
       "    .dataframe tbody tr th:only-of-type {\n",
       "        vertical-align: middle;\n",
       "    }\n",
       "\n",
       "    .dataframe tbody tr th {\n",
       "        vertical-align: top;\n",
       "    }\n",
       "\n",
       "    .dataframe thead th {\n",
       "        text-align: right;\n",
       "    }\n",
       "</style>\n",
       "<table border=\"1\" class=\"dataframe\">\n",
       "  <thead>\n",
       "    <tr style=\"text-align: right;\">\n",
       "      <th></th>\n",
       "      <th>age</th>\n",
       "      <th>gender</th>\n",
       "      <th>year</th>\n",
       "      <th>refund</th>\n",
       "      <th>fee</th>\n",
       "      <th>has_paid</th>\n",
       "      <th>income_근로</th>\n",
       "      <th>income_사업</th>\n",
       "      <th>income_기타</th>\n",
       "      <th>Target</th>\n",
       "      <th>pr</th>\n",
       "      <th>gain</th>\n",
       "      <th>ag_cat</th>\n",
       "      <th>근로yn</th>\n",
       "      <th>사업yn</th>\n",
       "      <th>기타yn</th>\n",
       "      <th>소득notnull여부</th>\n",
       "    </tr>\n",
       "  </thead>\n",
       "  <tbody>\n",
       "    <tr>\n",
       "      <td>0</td>\n",
       "      <td>27.0</td>\n",
       "      <td>F</td>\n",
       "      <td>2019</td>\n",
       "      <td>5000.0</td>\n",
       "      <td>400.0</td>\n",
       "      <td>0.0</td>\n",
       "      <td>10001000.0</td>\n",
       "      <td>61000.0</td>\n",
       "      <td>NaN</td>\n",
       "      <td>0.0</td>\n",
       "      <td>0.920000</td>\n",
       "      <td>4600.0</td>\n",
       "      <td>26, 29</td>\n",
       "      <td>True</td>\n",
       "      <td>True</td>\n",
       "      <td>False</td>\n",
       "      <td>2</td>\n",
       "    </tr>\n",
       "    <tr>\n",
       "      <td>1</td>\n",
       "      <td>34.0</td>\n",
       "      <td>M</td>\n",
       "      <td>2018</td>\n",
       "      <td>100000.0</td>\n",
       "      <td>1700.0</td>\n",
       "      <td>1.0</td>\n",
       "      <td>18092000.0</td>\n",
       "      <td>NaN</td>\n",
       "      <td>1815000.0</td>\n",
       "      <td>1700.0</td>\n",
       "      <td>0.983000</td>\n",
       "      <td>98300.0</td>\n",
       "      <td>29, 34</td>\n",
       "      <td>True</td>\n",
       "      <td>False</td>\n",
       "      <td>True</td>\n",
       "      <td>2</td>\n",
       "    </tr>\n",
       "    <tr>\n",
       "      <td>2</td>\n",
       "      <td>28.0</td>\n",
       "      <td>F</td>\n",
       "      <td>2017</td>\n",
       "      <td>289000.0</td>\n",
       "      <td>11500.0</td>\n",
       "      <td>0.0</td>\n",
       "      <td>NaN</td>\n",
       "      <td>1461000.0</td>\n",
       "      <td>NaN</td>\n",
       "      <td>0.0</td>\n",
       "      <td>0.960208</td>\n",
       "      <td>277500.0</td>\n",
       "      <td>26, 29</td>\n",
       "      <td>False</td>\n",
       "      <td>True</td>\n",
       "      <td>False</td>\n",
       "      <td>1</td>\n",
       "    </tr>\n",
       "    <tr>\n",
       "      <td>3</td>\n",
       "      <td>27.0</td>\n",
       "      <td>M</td>\n",
       "      <td>2019</td>\n",
       "      <td>410000.0</td>\n",
       "      <td>16200.0</td>\n",
       "      <td>0.0</td>\n",
       "      <td>NaN</td>\n",
       "      <td>2471000.0</td>\n",
       "      <td>NaN</td>\n",
       "      <td>0.0</td>\n",
       "      <td>0.960488</td>\n",
       "      <td>393800.0</td>\n",
       "      <td>26, 29</td>\n",
       "      <td>False</td>\n",
       "      <td>True</td>\n",
       "      <td>False</td>\n",
       "      <td>1</td>\n",
       "    </tr>\n",
       "    <tr>\n",
       "      <td>4</td>\n",
       "      <td>26.0</td>\n",
       "      <td>F</td>\n",
       "      <td>2016</td>\n",
       "      <td>114000.0</td>\n",
       "      <td>4300.0</td>\n",
       "      <td>1.0</td>\n",
       "      <td>0.0</td>\n",
       "      <td>689000.0</td>\n",
       "      <td>NaN</td>\n",
       "      <td>4300.0</td>\n",
       "      <td>0.962281</td>\n",
       "      <td>109700.0</td>\n",
       "      <td>24, 26</td>\n",
       "      <td>True</td>\n",
       "      <td>True</td>\n",
       "      <td>False</td>\n",
       "      <td>2</td>\n",
       "    </tr>\n",
       "    <tr>\n",
       "      <td>...</td>\n",
       "      <td>...</td>\n",
       "      <td>...</td>\n",
       "      <td>...</td>\n",
       "      <td>...</td>\n",
       "      <td>...</td>\n",
       "      <td>...</td>\n",
       "      <td>...</td>\n",
       "      <td>...</td>\n",
       "      <td>...</td>\n",
       "      <td>...</td>\n",
       "      <td>...</td>\n",
       "      <td>...</td>\n",
       "      <td>...</td>\n",
       "      <td>...</td>\n",
       "      <td>...</td>\n",
       "      <td>...</td>\n",
       "      <td>...</td>\n",
       "    </tr>\n",
       "    <tr>\n",
       "      <td>99995</td>\n",
       "      <td>27.0</td>\n",
       "      <td>F</td>\n",
       "      <td>2019</td>\n",
       "      <td>301000.0</td>\n",
       "      <td>11900.0</td>\n",
       "      <td>1.0</td>\n",
       "      <td>NaN</td>\n",
       "      <td>NaN</td>\n",
       "      <td>680000.0</td>\n",
       "      <td>11900.0</td>\n",
       "      <td>0.960465</td>\n",
       "      <td>289100.0</td>\n",
       "      <td>26, 29</td>\n",
       "      <td>False</td>\n",
       "      <td>False</td>\n",
       "      <td>True</td>\n",
       "      <td>1</td>\n",
       "    </tr>\n",
       "    <tr>\n",
       "      <td>99996</td>\n",
       "      <td>62.0</td>\n",
       "      <td>F</td>\n",
       "      <td>2019</td>\n",
       "      <td>77000.0</td>\n",
       "      <td>1300.0</td>\n",
       "      <td>1.0</td>\n",
       "      <td>NaN</td>\n",
       "      <td>463000.0</td>\n",
       "      <td>NaN</td>\n",
       "      <td>1300.0</td>\n",
       "      <td>0.983117</td>\n",
       "      <td>75700.0</td>\n",
       "      <td>48, 100</td>\n",
       "      <td>False</td>\n",
       "      <td>True</td>\n",
       "      <td>False</td>\n",
       "      <td>1</td>\n",
       "    </tr>\n",
       "    <tr>\n",
       "      <td>99997</td>\n",
       "      <td>24.0</td>\n",
       "      <td>M</td>\n",
       "      <td>2020</td>\n",
       "      <td>9000.0</td>\n",
       "      <td>400.0</td>\n",
       "      <td>0.0</td>\n",
       "      <td>7923000.0</td>\n",
       "      <td>54000.0</td>\n",
       "      <td>NaN</td>\n",
       "      <td>0.0</td>\n",
       "      <td>0.955556</td>\n",
       "      <td>8600.0</td>\n",
       "      <td>21, 24</td>\n",
       "      <td>True</td>\n",
       "      <td>True</td>\n",
       "      <td>False</td>\n",
       "      <td>2</td>\n",
       "    </tr>\n",
       "    <tr>\n",
       "      <td>99998</td>\n",
       "      <td>24.0</td>\n",
       "      <td>M</td>\n",
       "      <td>2019</td>\n",
       "      <td>34000.0</td>\n",
       "      <td>400.0</td>\n",
       "      <td>1.0</td>\n",
       "      <td>NaN</td>\n",
       "      <td>204000.0</td>\n",
       "      <td>NaN</td>\n",
       "      <td>400.0</td>\n",
       "      <td>0.988235</td>\n",
       "      <td>33600.0</td>\n",
       "      <td>21, 24</td>\n",
       "      <td>False</td>\n",
       "      <td>True</td>\n",
       "      <td>False</td>\n",
       "      <td>1</td>\n",
       "    </tr>\n",
       "    <tr>\n",
       "      <td>99999</td>\n",
       "      <td>23.0</td>\n",
       "      <td>F</td>\n",
       "      <td>2019</td>\n",
       "      <td>34000.0</td>\n",
       "      <td>400.0</td>\n",
       "      <td>1.0</td>\n",
       "      <td>7344000.0</td>\n",
       "      <td>205000.0</td>\n",
       "      <td>NaN</td>\n",
       "      <td>400.0</td>\n",
       "      <td>0.988235</td>\n",
       "      <td>33600.0</td>\n",
       "      <td>21, 24</td>\n",
       "      <td>True</td>\n",
       "      <td>True</td>\n",
       "      <td>False</td>\n",
       "      <td>2</td>\n",
       "    </tr>\n",
       "  </tbody>\n",
       "</table>\n",
       "<p>99978 rows × 17 columns</p>\n",
       "</div>"
      ],
      "text/plain": [
       "        age gender  year    refund      fee  has_paid   income_근로  income_사업  \\\n",
       "0      27.0      F  2019    5000.0    400.0       0.0  10001000.0    61000.0   \n",
       "1      34.0      M  2018  100000.0   1700.0       1.0  18092000.0        NaN   \n",
       "2      28.0      F  2017  289000.0  11500.0       0.0         NaN  1461000.0   \n",
       "3      27.0      M  2019  410000.0  16200.0       0.0         NaN  2471000.0   \n",
       "4      26.0      F  2016  114000.0   4300.0       1.0         0.0   689000.0   \n",
       "...     ...    ...   ...       ...      ...       ...         ...        ...   \n",
       "99995  27.0      F  2019  301000.0  11900.0       1.0         NaN        NaN   \n",
       "99996  62.0      F  2019   77000.0   1300.0       1.0         NaN   463000.0   \n",
       "99997  24.0      M  2020    9000.0    400.0       0.0   7923000.0    54000.0   \n",
       "99998  24.0      M  2019   34000.0    400.0       1.0         NaN   204000.0   \n",
       "99999  23.0      F  2019   34000.0    400.0       1.0   7344000.0   205000.0   \n",
       "\n",
       "       income_기타   Target        pr      gain   ag_cat   근로yn   사업yn   기타yn  \\\n",
       "0            NaN      0.0  0.920000    4600.0   26, 29   True   True  False   \n",
       "1      1815000.0   1700.0  0.983000   98300.0   29, 34   True  False   True   \n",
       "2            NaN      0.0  0.960208  277500.0   26, 29  False   True  False   \n",
       "3            NaN      0.0  0.960488  393800.0   26, 29  False   True  False   \n",
       "4            NaN   4300.0  0.962281  109700.0   24, 26   True   True  False   \n",
       "...          ...      ...       ...       ...      ...    ...    ...    ...   \n",
       "99995   680000.0  11900.0  0.960465  289100.0   26, 29  False  False   True   \n",
       "99996        NaN   1300.0  0.983117   75700.0  48, 100  False   True  False   \n",
       "99997        NaN      0.0  0.955556    8600.0   21, 24   True   True  False   \n",
       "99998        NaN    400.0  0.988235   33600.0   21, 24  False   True  False   \n",
       "99999        NaN    400.0  0.988235   33600.0   21, 24   True   True  False   \n",
       "\n",
       "      소득notnull여부  \n",
       "0               2  \n",
       "1               2  \n",
       "2               1  \n",
       "3               1  \n",
       "4               2  \n",
       "...           ...  \n",
       "99995           1  \n",
       "99996           1  \n",
       "99997           2  \n",
       "99998           1  \n",
       "99999           2  \n",
       "\n",
       "[99978 rows x 17 columns]"
      ]
     },
     "execution_count": 17,
     "metadata": {},
     "output_type": "execute_result"
    }
   ],
   "source": [
    "df"
   ]
  },
  {
   "cell_type": "code",
   "execution_count": 18,
   "metadata": {},
   "outputs": [
    {
     "data": {
      "text/html": [
       "<div>\n",
       "<style scoped>\n",
       "    .dataframe tbody tr th:only-of-type {\n",
       "        vertical-align: middle;\n",
       "    }\n",
       "\n",
       "    .dataframe tbody tr th {\n",
       "        vertical-align: top;\n",
       "    }\n",
       "\n",
       "    .dataframe thead th {\n",
       "        text-align: right;\n",
       "    }\n",
       "</style>\n",
       "<table border=\"1\" class=\"dataframe\">\n",
       "  <thead>\n",
       "    <tr style=\"text-align: right;\">\n",
       "      <th></th>\n",
       "      <th>gender</th>\n",
       "      <th>year</th>\n",
       "      <th>has_paid</th>\n",
       "      <th>ag_cat</th>\n",
       "      <th>근로yn</th>\n",
       "      <th>사업yn</th>\n",
       "      <th>기타yn</th>\n",
       "      <th>소득notnull여부</th>\n",
       "    </tr>\n",
       "  </thead>\n",
       "  <tbody>\n",
       "    <tr>\n",
       "      <td>0</td>\n",
       "      <td>F</td>\n",
       "      <td>2019</td>\n",
       "      <td>0.0</td>\n",
       "      <td>26, 29</td>\n",
       "      <td>True</td>\n",
       "      <td>True</td>\n",
       "      <td>False</td>\n",
       "      <td>2</td>\n",
       "    </tr>\n",
       "    <tr>\n",
       "      <td>1</td>\n",
       "      <td>M</td>\n",
       "      <td>2018</td>\n",
       "      <td>1.0</td>\n",
       "      <td>29, 34</td>\n",
       "      <td>True</td>\n",
       "      <td>False</td>\n",
       "      <td>True</td>\n",
       "      <td>2</td>\n",
       "    </tr>\n",
       "    <tr>\n",
       "      <td>2</td>\n",
       "      <td>F</td>\n",
       "      <td>2017</td>\n",
       "      <td>0.0</td>\n",
       "      <td>26, 29</td>\n",
       "      <td>False</td>\n",
       "      <td>True</td>\n",
       "      <td>False</td>\n",
       "      <td>1</td>\n",
       "    </tr>\n",
       "    <tr>\n",
       "      <td>3</td>\n",
       "      <td>M</td>\n",
       "      <td>2019</td>\n",
       "      <td>0.0</td>\n",
       "      <td>26, 29</td>\n",
       "      <td>False</td>\n",
       "      <td>True</td>\n",
       "      <td>False</td>\n",
       "      <td>1</td>\n",
       "    </tr>\n",
       "    <tr>\n",
       "      <td>4</td>\n",
       "      <td>F</td>\n",
       "      <td>2016</td>\n",
       "      <td>1.0</td>\n",
       "      <td>24, 26</td>\n",
       "      <td>True</td>\n",
       "      <td>True</td>\n",
       "      <td>False</td>\n",
       "      <td>2</td>\n",
       "    </tr>\n",
       "  </tbody>\n",
       "</table>\n",
       "</div>"
      ],
      "text/plain": [
       "  gender  year  has_paid  ag_cat   근로yn   사업yn   기타yn 소득notnull여부\n",
       "0      F  2019       0.0  26, 29   True   True  False           2\n",
       "1      M  2018       1.0  29, 34   True  False   True           2\n",
       "2      F  2017       0.0  26, 29  False   True  False           1\n",
       "3      M  2019       0.0  26, 29  False   True  False           1\n",
       "4      F  2016       1.0  24, 26   True   True  False           2"
      ]
     },
     "execution_count": 18,
     "metadata": {},
     "output_type": "execute_result"
    }
   ],
   "source": [
    "data = df[[i for i in df.columns if i in ('gender','ag_cat','has_paid','근로yn','사업yn','기타yn','소득notnull여부','year')]]\n",
    "\n",
    "data.head()"
   ]
  },
  {
   "cell_type": "code",
   "execution_count": 19,
   "metadata": {},
   "outputs": [],
   "source": [
    "from sklearn import preprocessing\n",
    "\n",
    "label = preprocessing.LabelEncoder()\n",
    "data_encoded = pd.DataFrame() \n",
    "\n",
    "for i in data.columns :\n",
    "  data_encoded[i]=label.fit_transform(data[i])"
   ]
  },
  {
   "cell_type": "code",
   "execution_count": 20,
   "metadata": {},
   "outputs": [
    {
     "data": {
      "text/html": [
       "<div>\n",
       "<style scoped>\n",
       "    .dataframe tbody tr th:only-of-type {\n",
       "        vertical-align: middle;\n",
       "    }\n",
       "\n",
       "    .dataframe tbody tr th {\n",
       "        vertical-align: top;\n",
       "    }\n",
       "\n",
       "    .dataframe thead th {\n",
       "        text-align: right;\n",
       "    }\n",
       "</style>\n",
       "<table border=\"1\" class=\"dataframe\">\n",
       "  <thead>\n",
       "    <tr style=\"text-align: right;\">\n",
       "      <th></th>\n",
       "      <th>gender</th>\n",
       "      <th>year</th>\n",
       "      <th>has_paid</th>\n",
       "      <th>ag_cat</th>\n",
       "      <th>근로yn</th>\n",
       "      <th>사업yn</th>\n",
       "      <th>기타yn</th>\n",
       "      <th>소득notnull여부</th>\n",
       "    </tr>\n",
       "  </thead>\n",
       "  <tbody>\n",
       "    <tr>\n",
       "      <td>0</td>\n",
       "      <td>0</td>\n",
       "      <td>4</td>\n",
       "      <td>0</td>\n",
       "      <td>3</td>\n",
       "      <td>1</td>\n",
       "      <td>1</td>\n",
       "      <td>0</td>\n",
       "      <td>2</td>\n",
       "    </tr>\n",
       "    <tr>\n",
       "      <td>1</td>\n",
       "      <td>1</td>\n",
       "      <td>3</td>\n",
       "      <td>1</td>\n",
       "      <td>4</td>\n",
       "      <td>1</td>\n",
       "      <td>0</td>\n",
       "      <td>1</td>\n",
       "      <td>2</td>\n",
       "    </tr>\n",
       "    <tr>\n",
       "      <td>2</td>\n",
       "      <td>0</td>\n",
       "      <td>2</td>\n",
       "      <td>0</td>\n",
       "      <td>3</td>\n",
       "      <td>0</td>\n",
       "      <td>1</td>\n",
       "      <td>0</td>\n",
       "      <td>1</td>\n",
       "    </tr>\n",
       "    <tr>\n",
       "      <td>3</td>\n",
       "      <td>1</td>\n",
       "      <td>4</td>\n",
       "      <td>0</td>\n",
       "      <td>3</td>\n",
       "      <td>0</td>\n",
       "      <td>1</td>\n",
       "      <td>0</td>\n",
       "      <td>1</td>\n",
       "    </tr>\n",
       "    <tr>\n",
       "      <td>4</td>\n",
       "      <td>0</td>\n",
       "      <td>1</td>\n",
       "      <td>1</td>\n",
       "      <td>2</td>\n",
       "      <td>1</td>\n",
       "      <td>1</td>\n",
       "      <td>0</td>\n",
       "      <td>2</td>\n",
       "    </tr>\n",
       "  </tbody>\n",
       "</table>\n",
       "</div>"
      ],
      "text/plain": [
       "   gender  year  has_paid  ag_cat  근로yn  사업yn  기타yn  소득notnull여부\n",
       "0       0     4         0       3     1     1     0            2\n",
       "1       1     3         1       4     1     0     1            2\n",
       "2       0     2         0       3     0     1     0            1\n",
       "3       1     4         0       3     0     1     0            1\n",
       "4       0     1         1       2     1     1     0            2"
      ]
     },
     "execution_count": 20,
     "metadata": {},
     "output_type": "execute_result"
    }
   ],
   "source": [
    "data_encoded.head()"
   ]
  },
  {
   "cell_type": "code",
   "execution_count": 21,
   "metadata": {},
   "outputs": [],
   "source": [
    "from scipy.stats import chi2_contingency\n",
    "import numpy as np\n",
    "\n",
    "\n",
    "def cramers_V(var1,var2) :\n",
    "  crosstab =np.array(pd.crosstab(var1,var2, rownames=None, colnames=None)) # Cross table building\n",
    "  stat = chi2_contingency(crosstab)[0] # Keeping of the test statistic of the Chi2 test\n",
    "  obs = np.sum(crosstab) # Number of observations\n",
    "  mini = min(crosstab.shape)-1 # Take the minimum value between the columns and the rows of the cross table\n",
    "  return (stat/(obs*mini))"
   ]
  },
  {
   "cell_type": "code",
   "execution_count": 22,
   "metadata": {},
   "outputs": [
    {
     "data": {
      "text/html": [
       "<div>\n",
       "<style scoped>\n",
       "    .dataframe tbody tr th:only-of-type {\n",
       "        vertical-align: middle;\n",
       "    }\n",
       "\n",
       "    .dataframe tbody tr th {\n",
       "        vertical-align: top;\n",
       "    }\n",
       "\n",
       "    .dataframe thead th {\n",
       "        text-align: right;\n",
       "    }\n",
       "</style>\n",
       "<table border=\"1\" class=\"dataframe\">\n",
       "  <thead>\n",
       "    <tr style=\"text-align: right;\">\n",
       "      <th></th>\n",
       "      <th>gender</th>\n",
       "      <th>year</th>\n",
       "      <th>has_paid</th>\n",
       "      <th>ag_cat</th>\n",
       "      <th>근로yn</th>\n",
       "      <th>사업yn</th>\n",
       "      <th>기타yn</th>\n",
       "      <th>소득notnull여부</th>\n",
       "    </tr>\n",
       "  </thead>\n",
       "  <tbody>\n",
       "    <tr>\n",
       "      <td>gender</td>\n",
       "      <td>1.00</td>\n",
       "      <td>0.00</td>\n",
       "      <td>0.00</td>\n",
       "      <td>0.02</td>\n",
       "      <td>0.00</td>\n",
       "      <td>0.00</td>\n",
       "      <td>0.00</td>\n",
       "      <td>0.00</td>\n",
       "    </tr>\n",
       "    <tr>\n",
       "      <td>year</td>\n",
       "      <td>0.00</td>\n",
       "      <td>1.00</td>\n",
       "      <td>0.04</td>\n",
       "      <td>0.01</td>\n",
       "      <td>0.03</td>\n",
       "      <td>0.02</td>\n",
       "      <td>0.01</td>\n",
       "      <td>0.03</td>\n",
       "    </tr>\n",
       "    <tr>\n",
       "      <td>has_paid</td>\n",
       "      <td>0.00</td>\n",
       "      <td>0.04</td>\n",
       "      <td>1.00</td>\n",
       "      <td>0.00</td>\n",
       "      <td>0.01</td>\n",
       "      <td>0.06</td>\n",
       "      <td>0.00</td>\n",
       "      <td>0.10</td>\n",
       "    </tr>\n",
       "    <tr>\n",
       "      <td>ag_cat</td>\n",
       "      <td>0.02</td>\n",
       "      <td>0.01</td>\n",
       "      <td>0.00</td>\n",
       "      <td>1.00</td>\n",
       "      <td>0.04</td>\n",
       "      <td>0.01</td>\n",
       "      <td>0.01</td>\n",
       "      <td>0.02</td>\n",
       "    </tr>\n",
       "    <tr>\n",
       "      <td>근로yn</td>\n",
       "      <td>0.00</td>\n",
       "      <td>0.03</td>\n",
       "      <td>0.01</td>\n",
       "      <td>0.04</td>\n",
       "      <td>1.00</td>\n",
       "      <td>0.01</td>\n",
       "      <td>0.02</td>\n",
       "      <td>0.76</td>\n",
       "    </tr>\n",
       "    <tr>\n",
       "      <td>사업yn</td>\n",
       "      <td>0.00</td>\n",
       "      <td>0.02</td>\n",
       "      <td>0.06</td>\n",
       "      <td>0.01</td>\n",
       "      <td>0.01</td>\n",
       "      <td>1.00</td>\n",
       "      <td>0.15</td>\n",
       "      <td>0.37</td>\n",
       "    </tr>\n",
       "    <tr>\n",
       "      <td>기타yn</td>\n",
       "      <td>0.00</td>\n",
       "      <td>0.01</td>\n",
       "      <td>0.00</td>\n",
       "      <td>0.01</td>\n",
       "      <td>0.02</td>\n",
       "      <td>0.15</td>\n",
       "      <td>1.00</td>\n",
       "      <td>0.26</td>\n",
       "    </tr>\n",
       "    <tr>\n",
       "      <td>소득notnull여부</td>\n",
       "      <td>0.00</td>\n",
       "      <td>0.03</td>\n",
       "      <td>0.10</td>\n",
       "      <td>0.02</td>\n",
       "      <td>0.76</td>\n",
       "      <td>0.37</td>\n",
       "      <td>0.26</td>\n",
       "      <td>1.00</td>\n",
       "    </tr>\n",
       "  </tbody>\n",
       "</table>\n",
       "</div>"
      ],
      "text/plain": [
       "             gender  year  has_paid  ag_cat  근로yn  사업yn  기타yn  소득notnull여부\n",
       "gender         1.00  0.00      0.00    0.02  0.00  0.00  0.00         0.00\n",
       "year           0.00  1.00      0.04    0.01  0.03  0.02  0.01         0.03\n",
       "has_paid       0.00  0.04      1.00    0.00  0.01  0.06  0.00         0.10\n",
       "ag_cat         0.02  0.01      0.00    1.00  0.04  0.01  0.01         0.02\n",
       "근로yn           0.00  0.03      0.01    0.04  1.00  0.01  0.02         0.76\n",
       "사업yn           0.00  0.02      0.06    0.01  0.01  1.00  0.15         0.37\n",
       "기타yn           0.00  0.01      0.00    0.01  0.02  0.15  1.00         0.26\n",
       "소득notnull여부    0.00  0.03      0.10    0.02  0.76  0.37  0.26         1.00"
      ]
     },
     "execution_count": 22,
     "metadata": {},
     "output_type": "execute_result"
    }
   ],
   "source": [
    "rows= []\n",
    "\n",
    "for var1 in data_encoded:\n",
    "  col = []\n",
    "  for var2 in data_encoded :\n",
    "    cramers =cramers_V(data_encoded[var1], data_encoded[var2]) # Cramer's V test\n",
    "    col.append(round(cramers,2)) # Keeping of the rounded value of the Cramer's V  \n",
    "  rows.append(col)\n",
    "  \n",
    "cramers_results = np.array(rows)\n",
    "df1 = pd.DataFrame(cramers_results, columns = data_encoded.columns, index =data_encoded.columns)\n",
    "\n",
    "\n",
    "\n",
    "df1"
   ]
  },
  {
   "cell_type": "code",
   "execution_count": 23,
   "metadata": {},
   "outputs": [
    {
     "data": {
      "text/plain": [
       "Text(0.5, 1, 'Feature Correlation')"
      ]
     },
     "execution_count": 23,
     "metadata": {},
     "output_type": "execute_result"
    },
    {
     "data": {
      "image/png": "[encoded data removed]",
      "text/plain": [
       "<Figure size 1080x1080 with 2 Axes>"
      ]
     },
     "metadata": {
      "needs_background": "light"
     },
     "output_type": "display_data"
    }
   ],
   "source": [
    "plt.rcParams['font.family'] = 'Malgun Gothic'\n",
    "plt.figure(figsize=(15, 15));\n",
    "sns.heatmap(df1,\n",
    "            vmax=0.8,\n",
    "            linewidths=0.01,\n",
    "            square=True,\n",
    "            annot=True,\n",
    "            cmap='YlGnBu');\n",
    "plt.title('Feature Correlation')"
   ]
  },
  {
   "cell_type": "markdown",
   "metadata": {},
   "source": [
    "#### 통계적으로 변수간의 선형 상관관계는 없는 것으로 판단된다."
   ]
  },
  {
   "cell_type": "markdown",
   "metadata": {},
   "source": [
    "***"
   ]
  },
  {
   "cell_type": "markdown",
   "metadata": {},
   "source": [
    "## Ⅱ. 고객의 결제여부에 영향을 미치는 요인 분석"
   ]
  },
  {
   "cell_type": "markdown",
   "metadata": {},
   "source": [
    "### 1. 머신러닝 분류 모델을 통해 지불여부에 대해 데이터를 학습시키고 feature importance를 출력한 후 분석을 진행\n",
    "#### 1) XGB분류모델을 통해 지불여부를 target value로 설정하고, 나머지 변수를 학습"
   ]
  },
  {
   "cell_type": "code",
   "execution_count": 24,
   "metadata": {},
   "outputs": [],
   "source": [
    "from xgboost import XGBClassifier\n",
    "from xgboost import plot_importance\n",
    "from sklearn.preprocessing import MinMaxScaler\n",
    "scaler=MinMaxScaler()"
   ]
  },
  {
   "cell_type": "code",
   "execution_count": 25,
   "metadata": {},
   "outputs": [
    {
     "data": {
      "text/html": [
       "<div>\n",
       "<style scoped>\n",
       "    .dataframe tbody tr th:only-of-type {\n",
       "        vertical-align: middle;\n",
       "    }\n",
       "\n",
       "    .dataframe tbody tr th {\n",
       "        vertical-align: top;\n",
       "    }\n",
       "\n",
       "    .dataframe thead th {\n",
       "        text-align: right;\n",
       "    }\n",
       "</style>\n",
       "<table border=\"1\" class=\"dataframe\">\n",
       "  <thead>\n",
       "    <tr style=\"text-align: right;\">\n",
       "      <th></th>\n",
       "      <th>year</th>\n",
       "      <th>refund</th>\n",
       "      <th>fee</th>\n",
       "      <th>income_근로</th>\n",
       "      <th>income_사업</th>\n",
       "      <th>income_기타</th>\n",
       "      <th>gain</th>\n",
       "      <th>age</th>\n",
       "      <th>gender_F</th>\n",
       "      <th>gender_M</th>\n",
       "    </tr>\n",
       "  </thead>\n",
       "  <tbody>\n",
       "    <tr>\n",
       "      <td>0</td>\n",
       "      <td>0.8</td>\n",
       "      <td>0.517198</td>\n",
       "      <td>0.000000</td>\n",
       "      <td>0.054850</td>\n",
       "      <td>0.001528</td>\n",
       "      <td>0.000000</td>\n",
       "      <td>0.527427</td>\n",
       "      <td>0.181818</td>\n",
       "      <td>1</td>\n",
       "      <td>0</td>\n",
       "    </tr>\n",
       "    <tr>\n",
       "      <td>1</td>\n",
       "      <td>0.6</td>\n",
       "      <td>0.523139</td>\n",
       "      <td>0.004240</td>\n",
       "      <td>0.099224</td>\n",
       "      <td>0.000000</td>\n",
       "      <td>0.028897</td>\n",
       "      <td>0.533400</td>\n",
       "      <td>0.287879</td>\n",
       "      <td>0</td>\n",
       "      <td>1</td>\n",
       "    </tr>\n",
       "    <tr>\n",
       "      <td>2</td>\n",
       "      <td>0.4</td>\n",
       "      <td>0.534959</td>\n",
       "      <td>0.036204</td>\n",
       "      <td>0.000000</td>\n",
       "      <td>0.036585</td>\n",
       "      <td>0.000000</td>\n",
       "      <td>0.544823</td>\n",
       "      <td>0.196970</td>\n",
       "      <td>1</td>\n",
       "      <td>0</td>\n",
       "    </tr>\n",
       "    <tr>\n",
       "      <td>3</td>\n",
       "      <td>0.8</td>\n",
       "      <td>0.542527</td>\n",
       "      <td>0.051533</td>\n",
       "      <td>0.000000</td>\n",
       "      <td>0.061877</td>\n",
       "      <td>0.000000</td>\n",
       "      <td>0.552237</td>\n",
       "      <td>0.181818</td>\n",
       "      <td>0</td>\n",
       "      <td>1</td>\n",
       "    </tr>\n",
       "    <tr>\n",
       "      <td>4</td>\n",
       "      <td>0.2</td>\n",
       "      <td>0.524015</td>\n",
       "      <td>0.012720</td>\n",
       "      <td>0.000000</td>\n",
       "      <td>0.017253</td>\n",
       "      <td>0.000000</td>\n",
       "      <td>0.534126</td>\n",
       "      <td>0.166667</td>\n",
       "      <td>1</td>\n",
       "      <td>0</td>\n",
       "    </tr>\n",
       "    <tr>\n",
       "      <td>...</td>\n",
       "      <td>...</td>\n",
       "      <td>...</td>\n",
       "      <td>...</td>\n",
       "      <td>...</td>\n",
       "      <td>...</td>\n",
       "      <td>...</td>\n",
       "      <td>...</td>\n",
       "      <td>...</td>\n",
       "      <td>...</td>\n",
       "      <td>...</td>\n",
       "    </tr>\n",
       "    <tr>\n",
       "      <td>99995</td>\n",
       "      <td>0.8</td>\n",
       "      <td>0.535710</td>\n",
       "      <td>0.037508</td>\n",
       "      <td>0.000000</td>\n",
       "      <td>0.000000</td>\n",
       "      <td>0.010826</td>\n",
       "      <td>0.545562</td>\n",
       "      <td>0.181818</td>\n",
       "      <td>1</td>\n",
       "      <td>0</td>\n",
       "    </tr>\n",
       "    <tr>\n",
       "      <td>99996</td>\n",
       "      <td>0.8</td>\n",
       "      <td>0.521701</td>\n",
       "      <td>0.002935</td>\n",
       "      <td>0.000000</td>\n",
       "      <td>0.011594</td>\n",
       "      <td>0.000000</td>\n",
       "      <td>0.531959</td>\n",
       "      <td>0.712121</td>\n",
       "      <td>1</td>\n",
       "      <td>0</td>\n",
       "    </tr>\n",
       "    <tr>\n",
       "      <td>99997</td>\n",
       "      <td>1.0</td>\n",
       "      <td>0.517448</td>\n",
       "      <td>0.000000</td>\n",
       "      <td>0.043453</td>\n",
       "      <td>0.001352</td>\n",
       "      <td>0.000000</td>\n",
       "      <td>0.527682</td>\n",
       "      <td>0.136364</td>\n",
       "      <td>0</td>\n",
       "      <td>1</td>\n",
       "    </tr>\n",
       "    <tr>\n",
       "      <td>99998</td>\n",
       "      <td>0.8</td>\n",
       "      <td>0.519012</td>\n",
       "      <td>0.000000</td>\n",
       "      <td>0.000000</td>\n",
       "      <td>0.005108</td>\n",
       "      <td>0.000000</td>\n",
       "      <td>0.529275</td>\n",
       "      <td>0.136364</td>\n",
       "      <td>0</td>\n",
       "      <td>1</td>\n",
       "    </tr>\n",
       "    <tr>\n",
       "      <td>99999</td>\n",
       "      <td>0.8</td>\n",
       "      <td>0.519012</td>\n",
       "      <td>0.000000</td>\n",
       "      <td>0.040278</td>\n",
       "      <td>0.005133</td>\n",
       "      <td>0.000000</td>\n",
       "      <td>0.529275</td>\n",
       "      <td>0.121212</td>\n",
       "      <td>1</td>\n",
       "      <td>0</td>\n",
       "    </tr>\n",
       "  </tbody>\n",
       "</table>\n",
       "<p>99978 rows × 10 columns</p>\n",
       "</div>"
      ],
      "text/plain": [
       "       year    refund       fee  income_근로  income_사업  income_기타      gain  \\\n",
       "0       0.8  0.517198  0.000000   0.054850   0.001528   0.000000  0.527427   \n",
       "1       0.6  0.523139  0.004240   0.099224   0.000000   0.028897  0.533400   \n",
       "2       0.4  0.534959  0.036204   0.000000   0.036585   0.000000  0.544823   \n",
       "3       0.8  0.542527  0.051533   0.000000   0.061877   0.000000  0.552237   \n",
       "4       0.2  0.524015  0.012720   0.000000   0.017253   0.000000  0.534126   \n",
       "...     ...       ...       ...        ...        ...        ...       ...   \n",
       "99995   0.8  0.535710  0.037508   0.000000   0.000000   0.010826  0.545562   \n",
       "99996   0.8  0.521701  0.002935   0.000000   0.011594   0.000000  0.531959   \n",
       "99997   1.0  0.517448  0.000000   0.043453   0.001352   0.000000  0.527682   \n",
       "99998   0.8  0.519012  0.000000   0.000000   0.005108   0.000000  0.529275   \n",
       "99999   0.8  0.519012  0.000000   0.040278   0.005133   0.000000  0.529275   \n",
       "\n",
       "            age  gender_F  gender_M  \n",
       "0      0.181818         1         0  \n",
       "1      0.287879         0         1  \n",
       "2      0.196970         1         0  \n",
       "3      0.181818         0         1  \n",
       "4      0.166667         1         0  \n",
       "...         ...       ...       ...  \n",
       "99995  0.181818         1         0  \n",
       "99996  0.712121         1         0  \n",
       "99997  0.136364         0         1  \n",
       "99998  0.136364         0         1  \n",
       "99999  0.121212         1         0  \n",
       "\n",
       "[99978 rows x 10 columns]"
      ]
     },
     "execution_count": 25,
     "metadata": {},
     "output_type": "execute_result"
    }
   ],
   "source": [
    "X=df.reindex(['gender','year', 'refund', 'fee','income_근로','income_사업', 'income_기타','gain','age'],axis=1)\n",
    "X=X.fillna(0)\n",
    "y=df.has_paid\n",
    "X=pd.get_dummies(X)\n",
    "X.iloc[:,:8]=scaler.fit_transform(X.iloc[:,:8])\n",
    "X"
   ]
  },
  {
   "cell_type": "code",
   "execution_count": 26,
   "metadata": {},
   "outputs": [
    {
     "data": {
      "text/plain": [
       "0        0.0\n",
       "1        1.0\n",
       "2        0.0\n",
       "3        0.0\n",
       "4        1.0\n",
       "        ... \n",
       "99995    1.0\n",
       "99996    1.0\n",
       "99997    0.0\n",
       "99998    1.0\n",
       "99999    1.0\n",
       "Name: has_paid, Length: 99978, dtype: float64"
      ]
     },
     "execution_count": 26,
     "metadata": {},
     "output_type": "execute_result"
    }
   ],
   "source": [
    "y"
   ]
  },
  {
   "cell_type": "code",
   "execution_count": 27,
   "metadata": {},
   "outputs": [
    {
     "name": "stdout",
     "output_type": "stream",
     "text": [
      "[09:28:49] WARNING: C:/Users/Administrator/workspace/xgboost-win64_release_1.4.0/src/learner.cc:1095: Starting in XGBoost 1.3.0, the default evaluation metric used with the objective 'binary:logistic' was changed from 'error' to 'logloss'. Explicitly set eval_metric if you'd like to restore the old behavior.\n"
     ]
    },
    {
     "data": {
      "text/plain": [
       "XGBClassifier(base_score=0.5, booster='gbtree', colsample_bylevel=1,\n",
       "              colsample_bynode=1, colsample_bytree=1, gamma=0, gpu_id=-1,\n",
       "              importance_type='gain', interaction_constraints='',\n",
       "              learning_rate=0.3, max_delta_step=0, max_depth=6,\n",
       "              min_child_weight=1, missing=nan, monotone_constraints='()',\n",
       "              n_estimators=100, n_jobs=8, num_parallel_tree=1, random_state=42,\n",
       "              reg_alpha=0, reg_lambda=1, scale_pos_weight=1, subsample=1,\n",
       "              tree_method='exact', use_label_encoder=False,\n",
       "              validate_parameters=1, verbosity=None)"
      ]
     },
     "execution_count": 27,
     "metadata": {},
     "output_type": "execute_result"
    }
   ],
   "source": [
    "xgb_clf=XGBClassifier(n_estimators=100,random_state=42,learning_rate=0.3,use_label_encoder=False)\n",
    "xgb_clf.fit(X,y)"
   ]
  },
  {
   "cell_type": "markdown",
   "metadata": {},
   "source": [
    "#### 2) 변수중요도 파악"
   ]
  },
  {
   "cell_type": "code",
   "execution_count": 28,
   "metadata": {},
   "outputs": [
    {
     "data": {
      "text/plain": [
       "<matplotlib.axes._subplots.AxesSubplot at 0x2434246c288>"
      ]
     },
     "execution_count": 28,
     "metadata": {},
     "output_type": "execute_result"
    },
    {
     "data": {
      "image/png": "[encoded data removed]",
      "text/plain": [
       "<Figure size 432x288 with 1 Axes>"
      ]
     },
     "metadata": {
      "needs_background": "light"
     },
     "output_type": "display_data"
    }
   ],
   "source": [
    "fig, ax = plt.subplots()\n",
    "plot_importance(xgb_clf,ax=ax)"
   ]
  },
  {
   "cell_type": "markdown",
   "metadata": {},
   "source": [
    "- 피어슨상관계수 히트맵에서 결제금액과 (사업소득 기타소득)이 상관관계가 있었는데, 여기서도 feature importance기준으로 상위에 속한다.\n",
    "- 제일 높은 변수중요도를 가진 변수는 사업소득이고,두번쨰가 나이,3번째가 근로소득, 네번째가 환급액,5번째가 기타 소득에 해당한다.  \n",
    "    => <U>이는 삼쩜삼 서비스를 이용해서 결제하는 주요 고객이 프리랜서일 수 있다는 의미로 해석할 수 있다.</U>\n",
    "- 변수에 각 소득원의 유무(예: 근로yn)를 넣고 학습시켰을 때 소득원의 유무는 변수중요도가 높지 않았다. "
   ]
  },
  {
   "cell_type": "markdown",
   "metadata": {},
   "source": [
    "### 2. income 사업 변수 및 소득 데이터 분석\n",
    "    - 편의를 위해 두번째로 변수중요도가 높은 나이대 그룹 데이터로 나이대별 사업소득의 평균을 시각화한다.\n",
    "    - 그래프에서 보는 것처럼 결제고객의 사업소득 금액대 평균이 미결제고객의 금액대 보다 모든 연령그룹에서 훨씬 낮은 특징이 있다.\n",
    "    - 다만, 최빈값을 기준으로 보면 다른 인사이트를 얻을 수 있다.  \n",
    "    - 20세 이전과 26세에서 29세그룹, 34세부터 고연령층까지 사업소득의 최빈값이 구매고객 쪽이 더 높다.\n",
    "    - 이를 사용하면 연령별로 income 소득의 최빈값을 기준으로하여 결제율을 상승시킬 수 있다."
   ]
  },
  {
   "cell_type": "markdown",
   "metadata": {},
   "source": [
    "#### 1) 연령별 결제여부별 각 소득 파악"
   ]
  },
  {
   "cell_type": "markdown",
   "metadata": {},
   "source": [
    "#### (1) 사업소득"
   ]
  },
  {
   "cell_type": "code",
   "execution_count": 29,
   "metadata": {},
   "outputs": [
    {
     "data": {
      "text/plain": [
       "<matplotlib.legend.Legend at 0x243424c8108>"
      ]
     },
     "execution_count": 29,
     "metadata": {},
     "output_type": "execute_result"
    },
    {
     "data": {
      "image/png": "[encoded data removed]",
      "text/plain": [
       "<Figure size 432x288 with 1 Axes>"
      ]
     },
     "metadata": {
      "needs_background": "light"
     },
     "output_type": "display_data"
    }
   ],
   "source": [
    "ag_p0=df.loc[df.income_사업.notnull(),:].query(\"has_paid==0\").groupby('ag_cat')['income_사업'].median()\n",
    "ag_p0.name='미결제고객'\n",
    "ag_p0.plot()\n",
    "ag_p1=df.loc[df.income_사업.notnull(),:].query(\"has_paid==1\").groupby('ag_cat')['income_사업'].median()\n",
    "ag_p1.name='결제고객'\n",
    "ag_p1.plot()\n",
    "plt.legend()"
   ]
  },
  {
   "cell_type": "markdown",
   "metadata": {},
   "source": [
    "- 최빈값"
   ]
  },
  {
   "cell_type": "code",
   "execution_count": 30,
   "metadata": {},
   "outputs": [
    {
     "data": {
      "text/plain": [
       "<matplotlib.legend.Legend at 0x2434255e788>"
      ]
     },
     "execution_count": 30,
     "metadata": {},
     "output_type": "execute_result"
    },
    {
     "data": {
      "image/png": "[encoded data removed]",
      "text/plain": [
       "<Figure size 432x288 with 1 Axes>"
      ]
     },
     "metadata": {
      "needs_background": "light"
     },
     "output_type": "display_data"
    }
   ],
   "source": [
    "f1= lambda x: x.mode().min()\n",
    "ag_p0=df.loc[df.income_사업.notnull(),:].query(\"has_paid==0\").groupby('ag_cat')['income_사업'].agg(f1)\n",
    "ag_p0.name='미결제고객'\n",
    "ag_p0.plot()\n",
    "ag_p1=df.loc[df.income_사업.notnull(),:].query(\"has_paid==1\").groupby('ag_cat')['income_사업'].agg(f1)\n",
    "ag_p1.name='결제고객'\n",
    "ag_p1.plot()\n",
    "plt.legend()"
   ]
  },
  {
   "cell_type": "markdown",
   "metadata": {},
   "source": [
    "- 연령별 사업소득의 최빈값과 결제율 상승"
   ]
  },
  {
   "cell_type": "code",
   "execution_count": 31,
   "metadata": {},
   "outputs": [
    {
     "data": {
      "text/plain": [
       "ag_cat\n",
       "-1, 21     170000.0\n",
       "21, 24      43000.0\n",
       "24, 26      43000.0\n",
       "26, 29     128000.0\n",
       "29, 34      43000.0\n",
       "34, 37     425000.0\n",
       "37, 48     128000.0\n",
       "48, 100     29000.0\n",
       "Name: 결제고객, dtype: float64"
      ]
     },
     "execution_count": 31,
     "metadata": {},
     "output_type": "execute_result"
    }
   ],
   "source": [
    "# 연령별 최빈값\n",
    "ag_p1"
   ]
  },
  {
   "cell_type": "code",
   "execution_count": 32,
   "metadata": {},
   "outputs": [
    {
     "data": {
      "text/html": [
       "<div>\n",
       "<style scoped>\n",
       "    .dataframe tbody tr th:only-of-type {\n",
       "        vertical-align: middle;\n",
       "    }\n",
       "\n",
       "    .dataframe tbody tr th {\n",
       "        vertical-align: top;\n",
       "    }\n",
       "\n",
       "    .dataframe thead th {\n",
       "        text-align: right;\n",
       "    }\n",
       "</style>\n",
       "<table border=\"1\" class=\"dataframe\">\n",
       "  <thead>\n",
       "    <tr style=\"text-align: right;\">\n",
       "      <th></th>\n",
       "      <th>cvr</th>\n",
       "    </tr>\n",
       "    <tr>\n",
       "      <th>age_bin</th>\n",
       "      <th></th>\n",
       "    </tr>\n",
       "  </thead>\n",
       "  <tbody>\n",
       "    <tr>\n",
       "      <td>-1, 21</td>\n",
       "      <td>0.663146</td>\n",
       "    </tr>\n",
       "    <tr>\n",
       "      <td>21, 24</td>\n",
       "      <td>0.653823</td>\n",
       "    </tr>\n",
       "    <tr>\n",
       "      <td>26, 29</td>\n",
       "      <td>0.653374</td>\n",
       "    </tr>\n",
       "    <tr>\n",
       "      <td>24, 26</td>\n",
       "      <td>0.652258</td>\n",
       "    </tr>\n",
       "    <tr>\n",
       "      <td>29, 34</td>\n",
       "      <td>0.638193</td>\n",
       "    </tr>\n",
       "    <tr>\n",
       "      <td>37, 48</td>\n",
       "      <td>0.625418</td>\n",
       "    </tr>\n",
       "    <tr>\n",
       "      <td>34, 37</td>\n",
       "      <td>0.621988</td>\n",
       "    </tr>\n",
       "    <tr>\n",
       "      <td>48, 100</td>\n",
       "      <td>0.616695</td>\n",
       "    </tr>\n",
       "  </tbody>\n",
       "</table>\n",
       "</div>"
      ],
      "text/plain": [
       "              cvr\n",
       "age_bin          \n",
       "-1, 21   0.663146\n",
       "21, 24   0.653823\n",
       "26, 29   0.653374\n",
       "24, 26   0.652258\n",
       "29, 34   0.638193\n",
       "37, 48   0.625418\n",
       "34, 37   0.621988\n",
       "48, 100  0.616695"
      ]
     },
     "execution_count": 32,
     "metadata": {},
     "output_type": "execute_result"
    }
   ],
   "source": [
    "# 나이대별 결제율\n",
    "l1=[]\n",
    "l2=[]\n",
    "for i in df.ag_cat.unique():\n",
    "    str_expr=\"ag_cat == @i\"\n",
    "    str_expr1=\"ag_cat == @i and has_paid ==1\"\n",
    "    l1.append(df.query(str_expr1).shape[0]/df.query(str_expr).shape[0])\n",
    "    l2.append(i)\n",
    "    \n",
    "age_cvr=pd.DataFrame([l2,l1]).T\n",
    "age_cvr.columns=['age_bin','cvr']\n",
    "age_cvr=age_cvr.set_index('age_bin').sort_values('cvr',ascending=False)\n",
    "age_cvr"
   ]
  },
  {
   "cell_type": "code",
   "execution_count": 33,
   "metadata": {},
   "outputs": [
    {
     "data": {
      "text/html": [
       "<div>\n",
       "<style scoped>\n",
       "    .dataframe tbody tr th:only-of-type {\n",
       "        vertical-align: middle;\n",
       "    }\n",
       "\n",
       "    .dataframe tbody tr th {\n",
       "        vertical-align: top;\n",
       "    }\n",
       "\n",
       "    .dataframe thead th {\n",
       "        text-align: right;\n",
       "    }\n",
       "</style>\n",
       "<table border=\"1\" class=\"dataframe\">\n",
       "  <thead>\n",
       "    <tr style=\"text-align: right;\">\n",
       "      <th></th>\n",
       "      <th>cvr</th>\n",
       "    </tr>\n",
       "    <tr>\n",
       "      <th>age_bin</th>\n",
       "      <th></th>\n",
       "    </tr>\n",
       "  </thead>\n",
       "  <tbody>\n",
       "    <tr>\n",
       "      <td>26, 29</td>\n",
       "      <td>0.723167</td>\n",
       "    </tr>\n",
       "    <tr>\n",
       "      <td>24, 26</td>\n",
       "      <td>0.717031</td>\n",
       "    </tr>\n",
       "    <tr>\n",
       "      <td>29, 34</td>\n",
       "      <td>0.716952</td>\n",
       "    </tr>\n",
       "    <tr>\n",
       "      <td>34, 37</td>\n",
       "      <td>0.715643</td>\n",
       "    </tr>\n",
       "    <tr>\n",
       "      <td>21, 24</td>\n",
       "      <td>0.702346</td>\n",
       "    </tr>\n",
       "    <tr>\n",
       "      <td>37, 48</td>\n",
       "      <td>0.699095</td>\n",
       "    </tr>\n",
       "    <tr>\n",
       "      <td>48, 100</td>\n",
       "      <td>0.689709</td>\n",
       "    </tr>\n",
       "    <tr>\n",
       "      <td>-1, 21</td>\n",
       "      <td>0.677901</td>\n",
       "    </tr>\n",
       "  </tbody>\n",
       "</table>\n",
       "</div>"
      ],
      "text/plain": [
       "              cvr\n",
       "age_bin          \n",
       "26, 29   0.723167\n",
       "24, 26   0.717031\n",
       "29, 34   0.716952\n",
       "34, 37   0.715643\n",
       "21, 24   0.702346\n",
       "37, 48   0.699095\n",
       "48, 100  0.689709\n",
       "-1, 21   0.677901"
      ]
     },
     "execution_count": 33,
     "metadata": {},
     "output_type": "execute_result"
    }
   ],
   "source": [
    "# 사업 소득 변수에 최빈값 이상인 데이터의 나이대별 결제율\n",
    "l1=[]\n",
    "l2=[]\n",
    "for i in np.arange(0,ag_p1.shape[0]):\n",
    "        l1.append(ag_p1.index[i])\n",
    "        l2.append(df.query(\"income_사업>= @i and ag_cat==@ag_p1.index[@i]\").has_paid.value_counts()[1]/df.query(\"income_사업>= @i and ag_cat==@ag_p1.index[@i]\").shape[0])\n",
    "\n",
    "age_mode_cvr=pd.DataFrame([l1,l2]).T\n",
    "age_mode_cvr.columns=['age_bin','cvr']    \n",
    "age_buis_cvr=age_mode_cvr.set_index('age_bin').sort_values('cvr',ascending=False)\n",
    "age_buis_cvr"
   ]
  },
  {
   "cell_type": "code",
   "execution_count": 34,
   "metadata": {},
   "outputs": [
    {
     "data": {
      "text/plain": [
       "cvr    0.064618\n",
       "dtype: float64"
      ]
     },
     "execution_count": 34,
     "metadata": {},
     "output_type": "execute_result"
    }
   ],
   "source": [
    "(age_buis_cvr-age_cvr).sort_values(by='cvr',ascending=False).mean()"
   ]
  },
  {
   "cell_type": "markdown",
   "metadata": {},
   "source": [
    "- 연령별 사업소득 최빈값으로 기준을 설정해 결제율이 6% 증가했다.\n",
    "- <U> xgboost 모델의 feature selection에서 나타낸 것처럼, income_사업 소득의 변화로 구매에 영향을 미칠 수 있음을 확인했다.</U>"
   ]
  },
  {
   "cell_type": "markdown",
   "metadata": {},
   "source": [
    "#### (2) 기타소득"
   ]
  },
  {
   "cell_type": "code",
   "execution_count": 35,
   "metadata": {},
   "outputs": [
    {
     "data": {
      "text/plain": [
       "<matplotlib.legend.Legend at 0x24343bad848>"
      ]
     },
     "execution_count": 35,
     "metadata": {},
     "output_type": "execute_result"
    },
    {
     "data": {
      "image/png": "[encoded data removed]",
      "text/plain": [
       "<Figure size 432x288 with 1 Axes>"
      ]
     },
     "metadata": {
      "needs_background": "light"
     },
     "output_type": "display_data"
    }
   ],
   "source": [
    "f1= lambda x: x.mode()[0]\n",
    "ag_p0=df.loc[df.income_기타.notnull(),:].query(\"has_paid==0\").groupby('ag_cat')['income_기타'].agg(f1)\n",
    "ag_p0.name='미결제고객'\n",
    "ag_p0.plot()\n",
    "ag_p1=df.loc[df.income_기타.notnull(),:].query(\"has_paid==1\").groupby('ag_cat')['income_기타'].agg(f1)\n",
    "ag_p1.name='결제고객'\n",
    "ag_p1.plot()\n",
    "plt.legend()"
   ]
  },
  {
   "cell_type": "code",
   "execution_count": 36,
   "metadata": {},
   "outputs": [
    {
     "data": {
      "text/html": [
       "<div>\n",
       "<style scoped>\n",
       "    .dataframe tbody tr th:only-of-type {\n",
       "        vertical-align: middle;\n",
       "    }\n",
       "\n",
       "    .dataframe tbody tr th {\n",
       "        vertical-align: top;\n",
       "    }\n",
       "\n",
       "    .dataframe thead th {\n",
       "        text-align: right;\n",
       "    }\n",
       "</style>\n",
       "<table border=\"1\" class=\"dataframe\">\n",
       "  <thead>\n",
       "    <tr style=\"text-align: right;\">\n",
       "      <th></th>\n",
       "      <th>cvr</th>\n",
       "    </tr>\n",
       "    <tr>\n",
       "      <th>age_bin</th>\n",
       "      <th></th>\n",
       "    </tr>\n",
       "  </thead>\n",
       "  <tbody>\n",
       "    <tr>\n",
       "      <td>37, 48</td>\n",
       "      <td>0.70623</td>\n",
       "    </tr>\n",
       "    <tr>\n",
       "      <td>-1, 21</td>\n",
       "      <td>0.682372</td>\n",
       "    </tr>\n",
       "    <tr>\n",
       "      <td>34, 37</td>\n",
       "      <td>0.671652</td>\n",
       "    </tr>\n",
       "    <tr>\n",
       "      <td>26, 29</td>\n",
       "      <td>0.667482</td>\n",
       "    </tr>\n",
       "    <tr>\n",
       "      <td>21, 24</td>\n",
       "      <td>0.648891</td>\n",
       "    </tr>\n",
       "    <tr>\n",
       "      <td>24, 26</td>\n",
       "      <td>0.648455</td>\n",
       "    </tr>\n",
       "    <tr>\n",
       "      <td>29, 34</td>\n",
       "      <td>0.646533</td>\n",
       "    </tr>\n",
       "    <tr>\n",
       "      <td>48, 100</td>\n",
       "      <td>0.641509</td>\n",
       "    </tr>\n",
       "  </tbody>\n",
       "</table>\n",
       "</div>"
      ],
      "text/plain": [
       "              cvr\n",
       "age_bin          \n",
       "37, 48    0.70623\n",
       "-1, 21   0.682372\n",
       "34, 37   0.671652\n",
       "26, 29   0.667482\n",
       "21, 24   0.648891\n",
       "24, 26   0.648455\n",
       "29, 34   0.646533\n",
       "48, 100  0.641509"
      ]
     },
     "execution_count": 36,
     "metadata": {},
     "output_type": "execute_result"
    }
   ],
   "source": [
    "# 기타 소득 변수에 최빈값 이상인 데이터의 나이대별 결제율\n",
    "l1=[]\n",
    "l2=[]\n",
    "for i in np.arange(0,ag_p1.shape[0]):\n",
    "        l1.append(ag_p1.index[i])\n",
    "        l2.append(df.query(\"income_기타>= @i and ag_cat==@ag_p1.index[@i]\").has_paid.value_counts()[1]/df.query(\"income_기타>= @i and ag_cat==@ag_p1.index[@i]\").shape[0])\n",
    "\n",
    "age_mode_cvr=pd.DataFrame([l1,l2]).T\n",
    "age_mode_cvr.columns=['age_bin','cvr']    \n",
    "age_etc_cvr=age_mode_cvr.set_index('age_bin').sort_values('cvr',ascending=False)\n",
    "age_etc_cvr"
   ]
  },
  {
   "cell_type": "code",
   "execution_count": 37,
   "metadata": {},
   "outputs": [
    {
     "data": {
      "text/plain": [
       "cvr    0.023529\n",
       "dtype: float64"
      ]
     },
     "execution_count": 37,
     "metadata": {},
     "output_type": "execute_result"
    }
   ],
   "source": [
    "(age_etc_cvr-age_cvr).sort_values(by='cvr',ascending=False).mean()"
   ]
  },
  {
   "cell_type": "markdown",
   "metadata": {},
   "source": [
    "- <U>나이별 최빈값이 결제고객이 높으므로 이를 기준으로한 데이터의 결제율은 전체보다 사업소득은 6.5%, 기타 소득은 2.35%의 향상이 있다.</U>"
   ]
  },
  {
   "cell_type": "markdown",
   "metadata": {},
   "source": [
    "- 다만, 근로소득의 경우에는 최빈값으로 하면 전 연령대에 걸쳐 0이 최빈값이며 결제고객이 미결제고객보다 소득 수치가 낮다."
   ]
  },
  {
   "cell_type": "markdown",
   "metadata": {},
   "source": [
    "#### (3) 근로소득"
   ]
  },
  {
   "cell_type": "code",
   "execution_count": 38,
   "metadata": {},
   "outputs": [
    {
     "data": {
      "text/plain": [
       "<matplotlib.legend.Legend at 0x24343c30c88>"
      ]
     },
     "execution_count": 38,
     "metadata": {},
     "output_type": "execute_result"
    },
    {
     "data": {
      "image/png": "[encoded data removed]",
      "text/plain": [
       "<Figure size 432x288 with 1 Axes>"
      ]
     },
     "metadata": {
      "needs_background": "light"
     },
     "output_type": "display_data"
    }
   ],
   "source": [
    "ag_p0=df.loc[df.income_근로.notnull(),:].query(\"has_paid==0\").groupby('ag_cat')['income_근로'].agg(f1)\n",
    "ag_p0.name='미결제고객'\n",
    "ag_p0.plot()\n",
    "ag_p1=df.loc[df.income_근로.notnull(),:].query(\"has_paid==1\").groupby('ag_cat')['income_근로'].agg(f1)\n",
    "ag_p1.name='결제고객'\n",
    "ag_p1.plot()\n",
    "plt.legend()"
   ]
  },
  {
   "cell_type": "markdown",
   "metadata": {},
   "source": [
    "- 평균으로 기준을 설정하면 대체로 결제여부와 상관없이 비슷하며,34세 이후부터 급격한 성장을 보인다. \n",
    "- 그러므로 연령별 평균을 기준으로 하겠다."
   ]
  },
  {
   "cell_type": "code",
   "execution_count": 39,
   "metadata": {},
   "outputs": [
    {
     "data": {
      "text/plain": [
       "<matplotlib.legend.Legend at 0x24343c8b888>"
      ]
     },
     "execution_count": 39,
     "metadata": {},
     "output_type": "execute_result"
    },
    {
     "data": {
      "image/png": "[encoded data removed]",
      "text/plain": [
       "<Figure size 432x288 with 1 Axes>"
      ]
     },
     "metadata": {
      "needs_background": "light"
     },
     "output_type": "display_data"
    }
   ],
   "source": [
    "ag_p0=df.loc[df.income_근로.notnull(),:].query(\"has_paid==0\").groupby('ag_cat')['income_근로'].mean()\n",
    "ag_p0.name='미결제고객'\n",
    "ag_p0.plot()\n",
    "ag_p1=df.loc[df.income_근로.notnull(),:].query(\"has_paid==1\").groupby('ag_cat')['income_근로'].mean()\n",
    "ag_p1.name='결제고객'\n",
    "ag_p1.plot()\n",
    "plt.legend()"
   ]
  },
  {
   "cell_type": "code",
   "execution_count": 40,
   "metadata": {},
   "outputs": [
    {
     "data": {
      "text/html": [
       "<div>\n",
       "<style scoped>\n",
       "    .dataframe tbody tr th:only-of-type {\n",
       "        vertical-align: middle;\n",
       "    }\n",
       "\n",
       "    .dataframe tbody tr th {\n",
       "        vertical-align: top;\n",
       "    }\n",
       "\n",
       "    .dataframe thead th {\n",
       "        text-align: right;\n",
       "    }\n",
       "</style>\n",
       "<table border=\"1\" class=\"dataframe\">\n",
       "  <thead>\n",
       "    <tr style=\"text-align: right;\">\n",
       "      <th></th>\n",
       "      <th>cvr</th>\n",
       "    </tr>\n",
       "    <tr>\n",
       "      <th>age_bin</th>\n",
       "      <th></th>\n",
       "    </tr>\n",
       "  </thead>\n",
       "  <tbody>\n",
       "    <tr>\n",
       "      <td>37, 48</td>\n",
       "      <td>0.708914</td>\n",
       "    </tr>\n",
       "    <tr>\n",
       "      <td>26, 29</td>\n",
       "      <td>0.705387</td>\n",
       "    </tr>\n",
       "    <tr>\n",
       "      <td>24, 26</td>\n",
       "      <td>0.703427</td>\n",
       "    </tr>\n",
       "    <tr>\n",
       "      <td>34, 37</td>\n",
       "      <td>0.698121</td>\n",
       "    </tr>\n",
       "    <tr>\n",
       "      <td>48, 100</td>\n",
       "      <td>0.697551</td>\n",
       "    </tr>\n",
       "    <tr>\n",
       "      <td>29, 34</td>\n",
       "      <td>0.69557</td>\n",
       "    </tr>\n",
       "    <tr>\n",
       "      <td>21, 24</td>\n",
       "      <td>0.692552</td>\n",
       "    </tr>\n",
       "    <tr>\n",
       "      <td>-1, 21</td>\n",
       "      <td>0.671355</td>\n",
       "    </tr>\n",
       "  </tbody>\n",
       "</table>\n",
       "</div>"
      ],
      "text/plain": [
       "              cvr\n",
       "age_bin          \n",
       "37, 48   0.708914\n",
       "26, 29   0.705387\n",
       "24, 26   0.703427\n",
       "34, 37   0.698121\n",
       "48, 100  0.697551\n",
       "29, 34    0.69557\n",
       "21, 24   0.692552\n",
       "-1, 21   0.671355"
      ]
     },
     "execution_count": 40,
     "metadata": {},
     "output_type": "execute_result"
    }
   ],
   "source": [
    "# 기타 소득 변수에 최빈값 이상인 데이터의 나이대별 결제율\n",
    "l1=[]\n",
    "l2=[]\n",
    "for i in np.arange(0,ag_p1.shape[0]):\n",
    "        l1.append(ag_p1.index[i])\n",
    "        l2.append(df.query(\"income_근로>= @i and ag_cat==@ag_p1.index[@i]\").has_paid.value_counts()[1]/df.query(\"income_근로>= @i and ag_cat==@ag_p1.index[@i]\").shape[0])\n",
    "\n",
    "age_mode_cvr=pd.DataFrame([l1,l2]).T\n",
    "age_mode_cvr.columns=['age_bin','cvr']    \n",
    "age_lab_cvr=age_mode_cvr.set_index('age_bin').sort_values('cvr',ascending=False)\n",
    "age_lab_cvr"
   ]
  },
  {
   "cell_type": "markdown",
   "metadata": {},
   "source": [
    "- 그래프에서 보는 것처럼 20세 이하에는 거의 기준 설정전과 차이가 없다.\n",
    "- 그러나, 34세 이후 기울기가 급격히 증가하는 것처럼, 결제율의 개선도 눈에 띄게 증가한다.\n",
    "- 결제율의 개선수치의 평균도 xgboost의 featureimportance에서 3등인 것처럼, 사업소득보단 적지만 기타소득보다는 높다."
   ]
  },
  {
   "cell_type": "code",
   "execution_count": 41,
   "metadata": {},
   "outputs": [
    {
     "data": {
      "text/plain": [
       "cvr    0.055998\n",
       "dtype: float64"
      ]
     },
     "execution_count": 41,
     "metadata": {},
     "output_type": "execute_result"
    }
   ],
   "source": [
    "(age_lab_cvr-age_cvr).sort_values(by='cvr',ascending=False).mean()"
   ]
  },
  {
   "cell_type": "code",
   "execution_count": 42,
   "metadata": {},
   "outputs": [
    {
     "data": {
      "text/html": [
       "<div>\n",
       "<style scoped>\n",
       "    .dataframe tbody tr th:only-of-type {\n",
       "        vertical-align: middle;\n",
       "    }\n",
       "\n",
       "    .dataframe tbody tr th {\n",
       "        vertical-align: top;\n",
       "    }\n",
       "\n",
       "    .dataframe thead th {\n",
       "        text-align: right;\n",
       "    }\n",
       "</style>\n",
       "<table border=\"1\" class=\"dataframe\">\n",
       "  <thead>\n",
       "    <tr style=\"text-align: right;\">\n",
       "      <th></th>\n",
       "      <th>cvr</th>\n",
       "    </tr>\n",
       "    <tr>\n",
       "      <th>age_bin</th>\n",
       "      <th></th>\n",
       "    </tr>\n",
       "  </thead>\n",
       "  <tbody>\n",
       "    <tr>\n",
       "      <td>37, 48</td>\n",
       "      <td>0.0834956</td>\n",
       "    </tr>\n",
       "    <tr>\n",
       "      <td>48, 100</td>\n",
       "      <td>0.0808562</td>\n",
       "    </tr>\n",
       "    <tr>\n",
       "      <td>34, 37</td>\n",
       "      <td>0.0761331</td>\n",
       "    </tr>\n",
       "    <tr>\n",
       "      <td>29, 34</td>\n",
       "      <td>0.0573772</td>\n",
       "    </tr>\n",
       "    <tr>\n",
       "      <td>26, 29</td>\n",
       "      <td>0.0520129</td>\n",
       "    </tr>\n",
       "    <tr>\n",
       "      <td>24, 26</td>\n",
       "      <td>0.0511684</td>\n",
       "    </tr>\n",
       "    <tr>\n",
       "      <td>21, 24</td>\n",
       "      <td>0.0387291</td>\n",
       "    </tr>\n",
       "    <tr>\n",
       "      <td>-1, 21</td>\n",
       "      <td>0.00820915</td>\n",
       "    </tr>\n",
       "  </tbody>\n",
       "</table>\n",
       "</div>"
      ],
      "text/plain": [
       "                cvr\n",
       "age_bin            \n",
       "37, 48    0.0834956\n",
       "48, 100   0.0808562\n",
       "34, 37    0.0761331\n",
       "29, 34    0.0573772\n",
       "26, 29    0.0520129\n",
       "24, 26    0.0511684\n",
       "21, 24    0.0387291\n",
       "-1, 21   0.00820915"
      ]
     },
     "execution_count": 42,
     "metadata": {},
     "output_type": "execute_result"
    }
   ],
   "source": [
    "(age_lab_cvr-age_cvr).sort_values(by='cvr',ascending=False)"
   ]
  },
  {
   "cell_type": "markdown",
   "metadata": {},
   "source": [
    "### 3. AGE 변수 분석 "
   ]
  },
  {
   "cell_type": "markdown",
   "metadata": {},
   "source": [
    "#### 1) 통계적 방법으로 독립성 검정을 통해 나이 카테고리변수와 결제여부컬럼의 독립성을 확인한다."
   ]
  },
  {
   "cell_type": "markdown",
   "metadata": {},
   "source": [
    "- 독립성 검정은  두 factor 변수사이에 '귀무가설 : 독립이다. / 대립가설 : 독립이 아니다.' 를 의미한다.\n",
    "- 카이제곱검정을 통한 P_value가 0.05보다 작으면 귀무가설은 기각되고 대립가설이 채택된다.  \n",
    "- 주어진 데이터에서 나이카테고리와 지불여부에 대한 독립성검정시 pvalue가 0.05보다 작아 대립가설이 채택되고 서로 관련이 있다고 볼 수 있다."
   ]
  },
  {
   "cell_type": "code",
   "execution_count": 43,
   "metadata": {},
   "outputs": [
    {
     "data": {
      "text/plain": [
       "(2.5428346424485214e-12, True)"
      ]
     },
     "execution_count": 43,
     "metadata": {},
     "output_type": "execute_result"
    }
   ],
   "source": [
    "from scipy.stats import chi2_contingency\n",
    "df_age=pd.crosstab(df.ag_cat,df.has_paid)\n",
    "p_value=chi2_contingency(df_age)[1]\n",
    "(p_value,p_value<0.05)"
   ]
  },
  {
   "cell_type": "code",
   "execution_count": 44,
   "metadata": {},
   "outputs": [
    {
     "data": {
      "text/plain": [
       "ag_cat\n",
       "21, 24     14050.0\n",
       "26, 29     13992.0\n",
       "24, 26     11770.0\n",
       "29, 34      9705.0\n",
       "37, 48      4862.0\n",
       "-1, 21      4835.0\n",
       "34, 37      2891.0\n",
       "48, 100     2534.0\n",
       "Name: has_paid, dtype: float64"
      ]
     },
     "execution_count": 44,
     "metadata": {},
     "output_type": "execute_result"
    }
   ],
   "source": [
    "# 나이대별 결제 데이터 합의 규모를 보기 위한 것이다.\n",
    "a=df.groupby('ag_cat')['has_paid'].sum().sort_values(ascending=False)\n",
    "a"
   ]
  },
  {
   "cell_type": "markdown",
   "metadata": {},
   "source": [
    "- 21-24세, 26-29세가 가장 결제 규모가 높고 34세까지는 높은 편에 속한다.\n",
    "- age_cvr은 위에서 만든 나이별 전체 데이터의 결제율데이터이다.\n",
    "- 20세 이하의 데이터가 1등이기 때문에, 결제 규모의 순위와는 차이가 있다고 볼 수 있다.\n",
    "- 하지만, 34세 이상의 나이가 하위권이고 그 이전의 나이대는 상위권인것처럼 전체적인 추세는 비슷하다.\n",
    "- <U>결국 34세 이하의 연령에 해당하는지의 여부가 결제여부에 영향을 미치는 것으로 볼 수 있다.</U>"
   ]
  },
  {
   "cell_type": "code",
   "execution_count": 45,
   "metadata": {},
   "outputs": [
    {
     "data": {
      "text/plain": [
       "<matplotlib.axes._subplots.AxesSubplot at 0x24343cf9d88>"
      ]
     },
     "execution_count": 45,
     "metadata": {},
     "output_type": "execute_result"
    },
    {
     "data": {
      "image/png": "[encoded data removed]",
      "text/plain": [
       "<Figure size 432x288 with 1 Axes>"
      ]
     },
     "metadata": {
      "needs_background": "light"
     },
     "output_type": "display_data"
    }
   ],
   "source": [
    "sns.barplot(x=a.index,y=a)"
   ]
  },
  {
   "cell_type": "code",
   "execution_count": 46,
   "metadata": {},
   "outputs": [
    {
     "data": {
      "text/plain": [
       "<matplotlib.axes._subplots.AxesSubplot at 0x24343dc1248>"
      ]
     },
     "execution_count": 46,
     "metadata": {},
     "output_type": "execute_result"
    },
    {
     "data": {
      "image/png": "[encoded data removed]",
      "text/plain": [
       "<Figure size 432x288 with 1 Axes>"
      ]
     },
     "metadata": {
      "needs_background": "light"
     },
     "output_type": "display_data"
    }
   ],
   "source": [
    "sns.barplot(x=age_cvr.index,y=age_cvr.cvr)"
   ]
  },
  {
   "cell_type": "markdown",
   "metadata": {},
   "source": [
    "### 4. refund 변수 와 year 변수 분석 \n",
    "#### 1) 히스토그램과 value_counts를 통한 refund 변수 분석\n",
    "    - 결제여부에 따라 환불액의 종류는 미결제 데이터가 1745개 결제데이터가 1521개로 차이가 있다.\n",
    "    - 그리고 상위빈도 환불액의 경우, 크기차이가 있어 빈도수와 환불액을 곱한 수치의 합을 비교하겠다.\n",
    "    - 이렇게 하면 높은 환불액에 빈도수가 높을 경우 더 높은 수치를 얻을 수 있다. "
   ]
  },
  {
   "cell_type": "code",
   "execution_count": 47,
   "metadata": {},
   "outputs": [
    {
     "data": {
      "text/plain": [
       "(array([1.0000e+00, 0.0000e+00, 1.0000e+00, 0.0000e+00, 0.0000e+00,\n",
       "        0.0000e+00, 1.0000e+00, 2.0000e+00, 1.0000e+00, 2.0802e+04,\n",
       "        7.4880e+03, 3.1470e+03, 2.1250e+03, 9.4100e+02, 3.2900e+02,\n",
       "        1.6400e+02, 9.4000e+01, 4.8000e+01, 4.3000e+01, 3.6000e+01,\n",
       "        2.9000e+01, 1.7000e+01, 1.4000e+01, 1.2000e+01, 6.0000e+00,\n",
       "        1.1000e+01, 3.0000e+00, 4.0000e+00, 4.0000e+00, 2.0000e+00,\n",
       "        3.0000e+00, 5.0000e+00, 1.0000e+00, 2.0000e+00, 1.0000e+00,\n",
       "        0.0000e+00, 1.0000e+00, 0.0000e+00, 0.0000e+00, 1.0000e+00]),\n",
       " array([-2328000., -2079600., -1831200., -1582800., -1334400., -1086000.,\n",
       "         -837600.,  -589200.,  -340800.,   -92400.,   156000.,   404400.,\n",
       "          652800.,   901200.,  1149600.,  1398000.,  1646400.,  1894800.,\n",
       "         2143200.,  2391600.,  2640000.,  2888400.,  3136800.,  3385200.,\n",
       "         3633600.,  3882000.,  4130400.,  4378800.,  4627200.,  4875600.,\n",
       "         5124000.,  5372400.,  5620800.,  5869200.,  6117600.,  6366000.,\n",
       "         6614400.,  6862800.,  7111200.,  7359600.,  7608000.]),\n",
       " <a list of 40 Patch objects>)"
      ]
     },
     "execution_count": 47,
     "metadata": {},
     "output_type": "execute_result"
    },
    {
     "data": {
      "image/png": "[encoded data removed]",
      "text/plain": [
       "<Figure size 432x288 with 1 Axes>"
      ]
     },
     "metadata": {
      "needs_background": "light"
     },
     "output_type": "display_data"
    }
   ],
   "source": [
    "plt.hist(df.query(\"has_paid==0\")['refund'],bins=40)"
   ]
  },
  {
   "cell_type": "code",
   "execution_count": 48,
   "metadata": {},
   "outputs": [
    {
     "data": {
      "text/plain": [
       "(array([1.0000e+00, 0.0000e+00, 0.0000e+00, 0.0000e+00, 0.0000e+00,\n",
       "        0.0000e+00, 0.0000e+00, 0.0000e+00, 0.0000e+00, 0.0000e+00,\n",
       "        0.0000e+00, 0.0000e+00, 0.0000e+00, 0.0000e+00, 0.0000e+00,\n",
       "        0.0000e+00, 0.0000e+00, 0.0000e+00, 1.0000e+00, 1.0000e+00,\n",
       "        3.7938e+04, 2.0299e+04, 5.1970e+03, 9.0000e+02, 1.7300e+02,\n",
       "        7.2000e+01, 2.6000e+01, 1.0000e+01, 7.0000e+00, 4.0000e+00,\n",
       "        0.0000e+00, 2.0000e+00, 3.0000e+00, 2.0000e+00, 1.0000e+00,\n",
       "        0.0000e+00, 1.0000e+00, 0.0000e+00, 0.0000e+00, 1.0000e+00]),\n",
       " array([-8265000., -7865250., -7465500., -7065750., -6666000., -6266250.,\n",
       "        -5866500., -5466750., -5067000., -4667250., -4267500., -3867750.,\n",
       "        -3468000., -3068250., -2668500., -2268750., -1869000., -1469250.,\n",
       "        -1069500.,  -669750.,  -270000.,   129750.,   529500.,   929250.,\n",
       "         1329000.,  1728750.,  2128500.,  2528250.,  2928000.,  3327750.,\n",
       "         3727500.,  4127250.,  4527000.,  4926750.,  5326500.,  5726250.,\n",
       "         6126000.,  6525750.,  6925500.,  7325250.,  7725000.]),\n",
       " <a list of 40 Patch objects>)"
      ]
     },
     "execution_count": 48,
     "metadata": {},
     "output_type": "execute_result"
    },
    {
     "data": {
      "image/png": "[encoded data removed]",
      "text/plain": [
       "<Figure size 432x288 with 1 Axes>"
      ]
     },
     "metadata": {
      "needs_background": "light"
     },
     "output_type": "display_data"
    }
   ],
   "source": [
    "plt.hist(df.query(\"has_paid==1\")['refund'],bins=40)\n"
   ]
  },
  {
   "cell_type": "code",
   "execution_count": 49,
   "metadata": {},
   "outputs": [
    {
     "data": {
      "text/plain": [
       "count    3.533900e+04\n",
       "mean     2.471944e+05\n",
       "std      3.796082e+05\n",
       "min     -2.328000e+06\n",
       "25%      2.800000e+04\n",
       "50%      1.100000e+05\n",
       "75%      3.030000e+05\n",
       "max      7.608000e+06\n",
       "Name: refund, dtype: float64"
      ]
     },
     "execution_count": 49,
     "metadata": {},
     "output_type": "execute_result"
    }
   ],
   "source": [
    "df.query(\"has_paid==0\")['refund'].describe()"
   ]
  },
  {
   "cell_type": "code",
   "execution_count": 50,
   "metadata": {},
   "outputs": [
    {
     "data": {
      "text/plain": [
       "5000.0       995\n",
       "4000.0       895\n",
       "7000.0       672\n",
       "6000.0       544\n",
       "8000.0       463\n",
       "            ... \n",
       "1314000.0      1\n",
       "2346000.0      1\n",
       "2028000.0      1\n",
       "1241000.0      1\n",
       "1366000.0      1\n",
       "Name: refund, Length: 1745, dtype: int64"
      ]
     },
     "execution_count": 50,
     "metadata": {},
     "output_type": "execute_result"
    }
   ],
   "source": [
    "df.query(\"has_paid==0\")['refund'].value_counts()"
   ]
  },
  {
   "cell_type": "code",
   "execution_count": 51,
   "metadata": {},
   "outputs": [
    {
     "data": {
      "text/plain": [
       "5000.0       0.009952\n",
       "4000.0       0.008952\n",
       "7000.0       0.006721\n",
       "6000.0       0.005441\n",
       "8000.0       0.004631\n",
       "               ...   \n",
       "1314000.0    0.000010\n",
       "2346000.0    0.000010\n",
       "2028000.0    0.000010\n",
       "1241000.0    0.000010\n",
       "1366000.0    0.000010\n",
       "Name: refund, Length: 1745, dtype: float64"
      ]
     },
     "execution_count": 51,
     "metadata": {},
     "output_type": "execute_result"
    }
   ],
   "source": [
    "df.query(\"has_paid==0\")['refund'].value_counts()/df.shape[0]"
   ]
  },
  {
   "cell_type": "code",
   "execution_count": 52,
   "metadata": {},
   "outputs": [],
   "source": [
    "df_r0=df.query(\"has_paid==0\")['refund'].value_counts()\n",
    "df_r0=df_r0.reset_index()\n",
    "df_r00=(df_r0[['index']].transpose()*df_r0.refund).T"
   ]
  },
  {
   "cell_type": "code",
   "execution_count": 53,
   "metadata": {},
   "outputs": [],
   "source": [
    "df_r1=df.query(\"has_paid==1\")['refund'].value_counts()\n",
    "df_r1=df_r1.reset_index()\n",
    "df_r11=(df_r1[['index']].transpose()*df_r1.refund).T"
   ]
  },
  {
   "cell_type": "code",
   "execution_count": 54,
   "metadata": {},
   "outputs": [
    {
     "data": {
      "text/plain": [
       "index    True\n",
       "dtype: bool"
      ]
     },
     "execution_count": 54,
     "metadata": {},
     "output_type": "execute_result"
    }
   ],
   "source": [
    "df_r11.sum()>df_r00.sum()"
   ]
  },
  {
   "cell_type": "markdown",
   "metadata": {},
   "source": [
    "- <U>refund*빈도수 데이터가 결제한 데이터의 경우가 미결제 데이터보다 높다.  \n",
    "- 이로 인해 환불금액이 결제여부와 연관성이 있다고 할 수 있다.</U>"
   ]
  },
  {
   "cell_type": "markdown",
   "metadata": {},
   "source": [
    "#### 2) year변수분석"
   ]
  },
  {
   "cell_type": "markdown",
   "metadata": {},
   "source": [
    "- 19년도 까지는 연도가 지나면서 결제 여부가 증가했다. \n",
    "- 다만, 19년부터 20년사이에 결제데이터의 수가 감소하고 예상환불액은 오히려 미결제자 측에서 급격히 증가하는 등 추세가 최근에 변하였다.\n",
    "- 그러므로, year 변수는 지불여부에 연관성이 없다고 볼 수 있다."
   ]
  },
  {
   "cell_type": "code",
   "execution_count": 55,
   "metadata": {},
   "outputs": [
    {
     "data": {
      "text/plain": [
       "year  has_paid\n",
       "2015  1.0          2831\n",
       "      0.0          1149\n",
       "2016  1.0          9697\n",
       "      0.0          4213\n",
       "2017  1.0         12203\n",
       "      0.0          5289\n",
       "2018  1.0         13887\n",
       "      0.0          6091\n",
       "2019  1.0         14481\n",
       "      0.0          6355\n",
       "2020  0.0         12242\n",
       "      1.0         11540\n",
       "Name: has_paid, dtype: int64"
      ]
     },
     "execution_count": 55,
     "metadata": {},
     "output_type": "execute_result"
    }
   ],
   "source": [
    "df_y_hp=df.groupby('year')['has_paid'].value_counts()\n",
    "df_y_hp"
   ]
  },
  {
   "cell_type": "code",
   "execution_count": 56,
   "metadata": {},
   "outputs": [
    {
     "data": {
      "text/plain": [
       "<matplotlib.legend.Legend at 0x24344698888>"
      ]
     },
     "execution_count": 56,
     "metadata": {},
     "output_type": "execute_result"
    },
    {
     "data": {
      "image/png": "[encoded data removed]",
      "text/plain": [
       "<Figure size 432x288 with 1 Axes>"
      ]
     },
     "metadata": {
      "needs_background": "light"
     },
     "output_type": "display_data"
    }
   ],
   "source": [
    "df_y_hp.name='count'\n",
    "df_y_hp=df_y_hp.reset_index()\n",
    "df_y_hp1=df_y_hp.query(\"has_paid==1\")\n",
    "df_y_hp0=df_y_hp.query(\"has_paid==0\")\n",
    "plt.plot(df_y_hp1.year,df_y_hp1['count'],label='결제데이터')\n",
    "plt.plot(df_y_hp0.year,df_y_hp0['count'],label='미결제데이터')\n",
    "plt.legend()"
   ]
  },
  {
   "cell_type": "code",
   "execution_count": 57,
   "metadata": {},
   "outputs": [
    {
     "data": {
      "text/plain": [
       "<matplotlib.legend.Legend at 0x24345717688>"
      ]
     },
     "execution_count": 57,
     "metadata": {},
     "output_type": "execute_result"
    },
    {
     "data": {
      "image/png": "[encoded data removed]",
      "text/plain": [
       "<Figure size 432x288 with 1 Axes>"
      ]
     },
     "metadata": {
      "needs_background": "light"
     },
     "output_type": "display_data"
    }
   ],
   "source": [
    "plt.plot(df.query(\"has_paid==1\").groupby('year')['refund'].sum().index,df.query(\"has_paid==1\").groupby('year')['refund'].sum(),label='결제데이터')\n",
    "plt.plot(df.query(\"has_paid==0\").groupby('year')['refund'].sum().index,df.query(\"has_paid==0\").groupby('year')['refund'].sum(),label='미결제데이터')\n",
    "plt.legend()"
   ]
  }
 ],
 "metadata": {
  "kernelspec": {
   "display_name": "Python 3",
   "language": "python",
   "name": "python3"
  },
  "language_info": {
   "codemirror_mode": {
    "name": "ipython",
    "version": 3
   },
   "file_extension": ".py",
   "mimetype": "text/x-python",
   "name": "python",
   "nbconvert_exporter": "python",
   "pygments_lexer": "ipython3",
   "version": "3.7.4"
  }
 },
 "nbformat": 4,
 "nbformat_minor": 2
}
