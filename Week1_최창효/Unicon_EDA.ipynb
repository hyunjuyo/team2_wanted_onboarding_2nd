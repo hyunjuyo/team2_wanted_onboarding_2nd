{
 "cells": [
  {
   "cell_type": "markdown",
   "metadata": {},
   "source": [
    "# 국민연금 데이터를 통해 유니콘 기업 찾기"
   ]
  },
  {
   "cell_type": "markdown",
   "metadata": {},
   "source": [
    "## 1. 유니콘 기업이란? \n",
    "### 기업 가치가 10억 달러(=1조 원) 이상이고 창업한 지 10년 이하인 비상장 스타트업 기업\n",
    "    1. 데이터에 창업일이 없어 '창업한 지 10년 이하' 조건은 고려하지 않기로 함\n",
    "    2. 유니콘 기업을 찾는 일 == 주어진 데이터를 통해 기업 가치를 측정하는 일\n",
    "    3. 조건을 만족하는 기업이 없을 경우 성장성을 바탕으로 유니콘 기업을 예상해볼 계획"
   ]
  },
  {
   "cell_type": "markdown",
   "metadata": {},
   "source": [
    "## 2. 국민연금 데이터와 기업 규모의 상관관계\n",
    "국민연금이 기업가치를 얼마나 대변하는가?\n",
    "\n",
    "국민연금 -> 급여를 예측할 수 있음 -> 급여를 통해서 기업가치를 갈음할 수 있는가?\n",
    "\n",
    "기업가치 산정방법?\n",
    "\n"
   ]
  },
  {
   "cell_type": "markdown",
   "metadata": {},
   "source": [
    "## 3. EDA"
   ]
  },
  {
   "cell_type": "code",
   "execution_count": 1,
   "metadata": {},
   "outputs": [],
   "source": [
    "#데이터 불러오기\n",
    "import pandas as pd\n",
    "import numpy as np\n",
    "data = pd.read_csv('company_nps_data.csv',encoding='cp949')"
   ]
  },
  {
   "cell_type": "code",
   "execution_count": 16,
   "metadata": {},
   "outputs": [
    {
     "data": {
      "text/plain": [
       "Index(['회사ID', '연매출액', '년도', '월', '월별_연금보험료', '월별_직원수'], dtype='object')"
      ]
     },
     "execution_count": 16,
     "metadata": {},
     "output_type": "execute_result"
    }
   ],
   "source": [
    "#변수명 확인\n",
    "data.columns"
   ]
  },
  {
   "cell_type": "markdown",
   "metadata": {},
   "source": [
    "* 우리는 '연매출액','월별_연금보험료','월별_직원수'를 통해 기업가치를 측정해야 한다"
   ]
  },
  {
   "cell_type": "markdown",
   "metadata": {},
   "source": [
    "### 1. 회사ID를 기준으로 데이터 묶기, 년월을 기준으로 Sorting"
   ]
  },
  {
   "cell_type": "code",
   "execution_count": 173,
   "metadata": {},
   "outputs": [],
   "source": [
    "#회사ID를 기준으로 묶기\n",
    "dct = {}\n",
    "for i in data.groupby('회사ID'):\n",
    "    dct[i[0]] = i[1].sort_values(['년도', '월']) #데이터를 시간순서대로 활용할려면 dct에 저장되는 데이터를 index순서대로 활용하면 됨"
   ]
  },
  {
   "cell_type": "code",
   "execution_count": 174,
   "metadata": {},
   "outputs": [],
   "source": [
    "#회사ID별 평균값 도출\n",
    "dct_mean = {}\n",
    "for i in dct.keys():\n",
    "    dct_mean[i] = dct[i].mean()"
   ]
  },
  {
   "cell_type": "code",
   "execution_count": 175,
   "metadata": {},
   "outputs": [
    {
     "data": {
      "text/html": [
       "<div>\n",
       "<style scoped>\n",
       "    .dataframe tbody tr th:only-of-type {\n",
       "        vertical-align: middle;\n",
       "    }\n",
       "\n",
       "    .dataframe tbody tr th {\n",
       "        vertical-align: top;\n",
       "    }\n",
       "\n",
       "    .dataframe thead th {\n",
       "        text-align: right;\n",
       "    }\n",
       "</style>\n",
       "<table border=\"1\" class=\"dataframe\">\n",
       "  <thead>\n",
       "    <tr style=\"text-align: right;\">\n",
       "      <th></th>\n",
       "      <th>회사ID</th>\n",
       "      <th>연매출액</th>\n",
       "      <th>년도</th>\n",
       "      <th>월</th>\n",
       "      <th>월별_연금보험료</th>\n",
       "      <th>월별_직원수</th>\n",
       "      <th>1인당 매출액</th>\n",
       "      <th>1인당 연금보험료</th>\n",
       "      <th>점수</th>\n",
       "    </tr>\n",
       "  </thead>\n",
       "  <tbody>\n",
       "    <tr>\n",
       "      <th>63</th>\n",
       "      <td>63.0</td>\n",
       "      <td>1.132878e+10</td>\n",
       "      <td>2018.0</td>\n",
       "      <td>6.5</td>\n",
       "      <td>4.101282e+08</td>\n",
       "      <td>1007.166667</td>\n",
       "      <td>0.244937</td>\n",
       "      <td>0.840030</td>\n",
       "      <td>1.084967</td>\n",
       "    </tr>\n",
       "    <tr>\n",
       "      <th>95</th>\n",
       "      <td>95.0</td>\n",
       "      <td>6.569474e+08</td>\n",
       "      <td>2018.0</td>\n",
       "      <td>6.5</td>\n",
       "      <td>2.148378e+08</td>\n",
       "      <td>541.000000</td>\n",
       "      <td>0.053306</td>\n",
       "      <td>0.817888</td>\n",
       "      <td>0.871194</td>\n",
       "    </tr>\n",
       "    <tr>\n",
       "      <th>102</th>\n",
       "      <td>102.0</td>\n",
       "      <td>7.426589e+08</td>\n",
       "      <td>2018.0</td>\n",
       "      <td>8.5</td>\n",
       "      <td>1.737695e+08</td>\n",
       "      <td>752.125000</td>\n",
       "      <td>0.048982</td>\n",
       "      <td>0.451845</td>\n",
       "      <td>0.500827</td>\n",
       "    </tr>\n",
       "    <tr>\n",
       "      <th>295</th>\n",
       "      <td>295.0</td>\n",
       "      <td>8.377670e+07</td>\n",
       "      <td>2018.0</td>\n",
       "      <td>8.5</td>\n",
       "      <td>7.731204e+07</td>\n",
       "      <td>259.500000</td>\n",
       "      <td>0.036326</td>\n",
       "      <td>0.599640</td>\n",
       "      <td>0.635966</td>\n",
       "    </tr>\n",
       "    <tr>\n",
       "      <th>414</th>\n",
       "      <td>414.0</td>\n",
       "      <td>1.973277e+07</td>\n",
       "      <td>2018.0</td>\n",
       "      <td>6.5</td>\n",
       "      <td>7.759019e+07</td>\n",
       "      <td>247.583333</td>\n",
       "      <td>0.031629</td>\n",
       "      <td>0.633169</td>\n",
       "      <td>0.664798</td>\n",
       "    </tr>\n",
       "  </tbody>\n",
       "</table>\n",
       "</div>"
      ],
      "text/plain": [
       "      회사ID          연매출액      년도    월      월별_연금보험료       월별_직원수   1인당 매출액  \\\n",
       "63    63.0  1.132878e+10  2018.0  6.5  4.101282e+08  1007.166667  0.244937   \n",
       "95    95.0  6.569474e+08  2018.0  6.5  2.148378e+08   541.000000  0.053306   \n",
       "102  102.0  7.426589e+08  2018.0  8.5  1.737695e+08   752.125000  0.048982   \n",
       "295  295.0  8.377670e+07  2018.0  8.5  7.731204e+07   259.500000  0.036326   \n",
       "414  414.0  1.973277e+07  2018.0  6.5  7.759019e+07   247.583333  0.031629   \n",
       "\n",
       "     1인당 연금보험료        점수  \n",
       "63    0.840030  1.084967  \n",
       "95    0.817888  0.871194  \n",
       "102   0.451845  0.500827  \n",
       "295   0.599640  0.635966  \n",
       "414   0.633169  0.664798  "
      ]
     },
     "execution_count": 175,
     "metadata": {},
     "output_type": "execute_result"
    }
   ],
   "source": [
    "dct_mean_df = pd.DataFrame(dct_mean).T #dict를 dataframe으로 전환\n",
    "dct_mean_df.head()"
   ]
  },
  {
   "cell_type": "markdown",
   "metadata": {},
   "source": [
    "### 2. Scatter Plot"
   ]
  },
  {
   "cell_type": "code",
   "execution_count": 5,
   "metadata": {},
   "outputs": [],
   "source": [
    "import seaborn as sns\n",
    "import matplotlib.pyplot as plt\n",
    "plt.rcParams['font.family'] = 'Malgun Gothic'  # (Windows 용) 한글 출력을 위한 글꼴 설정"
   ]
  },
  {
   "cell_type": "code",
   "execution_count": 6,
   "metadata": {},
   "outputs": [
    {
     "data": {
      "text/plain": [
       "<matplotlib.axes._subplots.AxesSubplot at 0x26a5f1f3dc0>"
      ]
     },
     "execution_count": 6,
     "metadata": {},
     "output_type": "execute_result"
    },
    {
     "data": {
      "image/png": "[encoded data removed]",
      "text/plain": [
       "<Figure size 432x288 with 2 Axes>"
      ]
     },
     "metadata": {
      "needs_background": "light"
     },
     "output_type": "display_data"
    }
   ],
   "source": [
    "fig, ax =plt.subplots(1,2)\n",
    "sns.scatterplot(data=data, x=\"월별_직원수\", y=\"연매출액\",ax=ax[0])\n",
    "sns.scatterplot(data=dct_mean_df, x=\"월별_직원수\", y=\"연매출액\",ax=ax[1])"
   ]
  },
  {
   "cell_type": "code",
   "execution_count": 8,
   "metadata": {},
   "outputs": [
    {
     "data": {
      "text/plain": [
       "<matplotlib.axes._subplots.AxesSubplot at 0x26a5f31da90>"
      ]
     },
     "execution_count": 8,
     "metadata": {},
     "output_type": "execute_result"
    },
    {
     "data": {
      "image/png": "[encoded data removed]",
      "text/plain": [
       "<Figure size 432x288 with 2 Axes>"
      ]
     },
     "metadata": {
      "needs_background": "light"
     },
     "output_type": "display_data"
    }
   ],
   "source": [
    "fig, ax =plt.subplots(1,2)\n",
    "sns.scatterplot(data=data, x=\"월별_연금보험료\", y=\"연매출액\",ax=ax[0])\n",
    "sns.scatterplot(data=dct_mean_df, x=\"월별_연금보험료\", y=\"연매출액\",ax=ax[1])"
   ]
  },
  {
   "cell_type": "code",
   "execution_count": 9,
   "metadata": {},
   "outputs": [
    {
     "data": {
      "text/plain": [
       "<matplotlib.axes._subplots.AxesSubplot at 0x26a5f3bc5b0>"
      ]
     },
     "execution_count": 9,
     "metadata": {},
     "output_type": "execute_result"
    },
    {
     "data": {
      "image/png": "[encoded data removed]",
      "text/plain": [
       "<Figure size 432x288 with 2 Axes>"
      ]
     },
     "metadata": {
      "needs_background": "light"
     },
     "output_type": "display_data"
    }
   ],
   "source": [
    "fig, ax =plt.subplots(1,2)\n",
    "sns.scatterplot(data=data, x=\"월별_직원수\", y=\"월별_연금보험료\",ax=ax[0])\n",
    "sns.scatterplot(data=dct_mean_df, x=\"월별_직원수\", y=\"월별_연금보험료\",ax=ax[1])"
   ]
  },
  {
   "cell_type": "markdown",
   "metadata": {},
   "source": [
    "* 직원수와 연금보험료는 뚜렷한 선형관계를 보임"
   ]
  },
  {
   "cell_type": "markdown",
   "metadata": {},
   "source": [
    "### 추가변수 만들어보기"
   ]
  },
  {
   "cell_type": "code",
   "execution_count": 18,
   "metadata": {},
   "outputs": [],
   "source": [
    "data['1인당 매출액'] = data['연매출액'] / data['월별_직원수'] \n",
    "data['1인당 연금보험료'] = data['월별_연금보험료'] / data['월별_직원수']\n",
    "data['매출액 대비 연금보험료'] = data['월별_연금보험료'] / data['연매출액']"
   ]
  },
  {
   "cell_type": "code",
   "execution_count": 11,
   "metadata": {},
   "outputs": [],
   "source": [
    "data[np.isinf(data)] = 0 #0으로 나눠서 발생하는 무한값 제거"
   ]
  },
  {
   "cell_type": "markdown",
   "metadata": {},
   "source": [
    "#### 1인당 매출액 그래프"
   ]
  },
  {
   "cell_type": "code",
   "execution_count": 12,
   "metadata": {},
   "outputs": [
    {
     "data": {
      "text/plain": [
       "[<matplotlib.lines.Line2D at 0x26a5f55a430>]"
      ]
     },
     "execution_count": 12,
     "metadata": {},
     "output_type": "execute_result"
    },
    {
     "data": {
      "image/png": "[encoded data removed]",
      "text/plain": [
       "<Figure size 432x288 with 1 Axes>"
      ]
     },
     "metadata": {
      "needs_background": "light"
     },
     "output_type": "display_data"
    }
   ],
   "source": [
    "plt.plot(data['1인당 매출액'])"
   ]
  },
  {
   "cell_type": "code",
   "execution_count": 13,
   "metadata": {},
   "outputs": [
    {
     "data": {
      "text/html": [
       "<div>\n",
       "<style scoped>\n",
       "    .dataframe tbody tr th:only-of-type {\n",
       "        vertical-align: middle;\n",
       "    }\n",
       "\n",
       "    .dataframe tbody tr th {\n",
       "        vertical-align: top;\n",
       "    }\n",
       "\n",
       "    .dataframe thead th {\n",
       "        text-align: right;\n",
       "    }\n",
       "</style>\n",
       "<table border=\"1\" class=\"dataframe\">\n",
       "  <thead>\n",
       "    <tr style=\"text-align: right;\">\n",
       "      <th></th>\n",
       "      <th>회사ID</th>\n",
       "      <th>연매출액</th>\n",
       "      <th>년도</th>\n",
       "      <th>월</th>\n",
       "      <th>월별_연금보험료</th>\n",
       "      <th>월별_직원수</th>\n",
       "      <th>1인당 매출액</th>\n",
       "      <th>1인당 연금보험료</th>\n",
       "      <th>매출액 대비 연금보험료</th>\n",
       "    </tr>\n",
       "  </thead>\n",
       "  <tbody>\n",
       "    <tr>\n",
       "      <th>51998</th>\n",
       "      <td>297874</td>\n",
       "      <td>1501348760</td>\n",
       "      <td>2017</td>\n",
       "      <td>4</td>\n",
       "      <td>8294540</td>\n",
       "      <td>37</td>\n",
       "      <td>4.057699e+07</td>\n",
       "      <td>224176.756757</td>\n",
       "      <td>0.005525</td>\n",
       "    </tr>\n",
       "    <tr>\n",
       "      <th>69287</th>\n",
       "      <td>433492</td>\n",
       "      <td>152354246</td>\n",
       "      <td>2016</td>\n",
       "      <td>11</td>\n",
       "      <td>681380</td>\n",
       "      <td>3</td>\n",
       "      <td>5.078475e+07</td>\n",
       "      <td>227126.666667</td>\n",
       "      <td>0.004472</td>\n",
       "    </tr>\n",
       "  </tbody>\n",
       "</table>\n",
       "</div>"
      ],
      "text/plain": [
       "         회사ID        연매출액    년도   월  월별_연금보험료  월별_직원수       1인당 매출액  \\\n",
       "51998  297874  1501348760  2017   4   8294540      37  4.057699e+07   \n",
       "69287  433492   152354246  2016  11    681380       3  5.078475e+07   \n",
       "\n",
       "           1인당 연금보험료  매출액 대비 연금보험료  \n",
       "51998  224176.756757      0.005525  \n",
       "69287  227126.666667      0.004472  "
      ]
     },
     "execution_count": 13,
     "metadata": {},
     "output_type": "execute_result"
    }
   ],
   "source": [
    "data[data['1인당 매출액']>40000000].drop_duplicates(subset = '회사ID',keep='last') #중복제거"
   ]
  },
  {
   "cell_type": "markdown",
   "metadata": {},
   "source": [
    "#### 1인당 연금보험료 그래프"
   ]
  },
  {
   "cell_type": "code",
   "execution_count": 14,
   "metadata": {},
   "outputs": [
    {
     "data": {
      "text/plain": [
       "[<matplotlib.lines.Line2D at 0x26a5f5b0cd0>]"
      ]
     },
     "execution_count": 14,
     "metadata": {},
     "output_type": "execute_result"
    },
    {
     "data": {
      "image/png": "[encoded data removed]",
      "text/plain": [
       "<Figure size 432x288 with 1 Axes>"
      ]
     },
     "metadata": {
      "needs_background": "light"
     },
     "output_type": "display_data"
    }
   ],
   "source": [
    "plt.plot(data['1인당 연금보험료'])"
   ]
  },
  {
   "cell_type": "code",
   "execution_count": 15,
   "metadata": {},
   "outputs": [
    {
     "data": {
      "text/html": [
       "<div>\n",
       "<style scoped>\n",
       "    .dataframe tbody tr th:only-of-type {\n",
       "        vertical-align: middle;\n",
       "    }\n",
       "\n",
       "    .dataframe tbody tr th {\n",
       "        vertical-align: top;\n",
       "    }\n",
       "\n",
       "    .dataframe thead th {\n",
       "        text-align: right;\n",
       "    }\n",
       "</style>\n",
       "<table border=\"1\" class=\"dataframe\">\n",
       "  <thead>\n",
       "    <tr style=\"text-align: right;\">\n",
       "      <th></th>\n",
       "      <th>회사ID</th>\n",
       "      <th>연매출액</th>\n",
       "      <th>년도</th>\n",
       "      <th>월</th>\n",
       "      <th>월별_연금보험료</th>\n",
       "      <th>월별_직원수</th>\n",
       "      <th>1인당 매출액</th>\n",
       "      <th>1인당 연금보험료</th>\n",
       "      <th>매출액 대비 연금보험료</th>\n",
       "    </tr>\n",
       "  </thead>\n",
       "  <tbody>\n",
       "    <tr>\n",
       "      <th>785</th>\n",
       "      <td>228293</td>\n",
       "      <td>9153391</td>\n",
       "      <td>2016</td>\n",
       "      <td>8</td>\n",
       "      <td>7677140</td>\n",
       "      <td>16</td>\n",
       "      <td>572086.937500</td>\n",
       "      <td>479821.25</td>\n",
       "      <td>0.838721</td>\n",
       "    </tr>\n",
       "    <tr>\n",
       "      <th>72163</th>\n",
       "      <td>3312354</td>\n",
       "      <td>1451563</td>\n",
       "      <td>2019</td>\n",
       "      <td>12</td>\n",
       "      <td>1312200</td>\n",
       "      <td>3</td>\n",
       "      <td>483854.333333</td>\n",
       "      <td>437400.00</td>\n",
       "      <td>0.903991</td>\n",
       "    </tr>\n",
       "  </tbody>\n",
       "</table>\n",
       "</div>"
      ],
      "text/plain": [
       "          회사ID     연매출액    년도   월  월별_연금보험료  월별_직원수        1인당 매출액  1인당 연금보험료  \\\n",
       "785     228293  9153391  2016   8   7677140      16  572086.937500  479821.25   \n",
       "72163  3312354  1451563  2019  12   1312200       3  483854.333333  437400.00   \n",
       "\n",
       "       매출액 대비 연금보험료  \n",
       "785        0.838721  \n",
       "72163      0.903991  "
      ]
     },
     "execution_count": 15,
     "metadata": {},
     "output_type": "execute_result"
    }
   ],
   "source": [
    "data[data['1인당 연금보험료']>430000].drop_duplicates(subset = '회사ID',keep='last') #중복제거"
   ]
  },
  {
   "cell_type": "markdown",
   "metadata": {},
   "source": [
    "#### 매출액 대비 연금보험료 그래프"
   ]
  },
  {
   "cell_type": "code",
   "execution_count": 20,
   "metadata": {},
   "outputs": [
    {
     "data": {
      "text/plain": [
       "[<matplotlib.lines.Line2D at 0x26a618a9e80>]"
      ]
     },
     "execution_count": 20,
     "metadata": {},
     "output_type": "execute_result"
    },
    {
     "data": {
      "image/png": "[encoded data removed]",
      "text/plain": [
       "<Figure size 432x288 with 1 Axes>"
      ]
     },
     "metadata": {
      "needs_background": "light"
     },
     "output_type": "display_data"
    }
   ],
   "source": [
    "plt.plot(data['매출액 대비 연금보험료'])"
   ]
  },
  {
   "cell_type": "code",
   "execution_count": 21,
   "metadata": {},
   "outputs": [
    {
     "data": {
      "text/html": [
       "<div>\n",
       "<style scoped>\n",
       "    .dataframe tbody tr th:only-of-type {\n",
       "        vertical-align: middle;\n",
       "    }\n",
       "\n",
       "    .dataframe tbody tr th {\n",
       "        vertical-align: top;\n",
       "    }\n",
       "\n",
       "    .dataframe thead th {\n",
       "        text-align: right;\n",
       "    }\n",
       "</style>\n",
       "<table border=\"1\" class=\"dataframe\">\n",
       "  <thead>\n",
       "    <tr style=\"text-align: right;\">\n",
       "      <th></th>\n",
       "      <th>회사ID</th>\n",
       "      <th>연매출액</th>\n",
       "      <th>년도</th>\n",
       "      <th>월</th>\n",
       "      <th>월별_연금보험료</th>\n",
       "      <th>월별_직원수</th>\n",
       "      <th>1인당 매출액</th>\n",
       "      <th>1인당 연금보험료</th>\n",
       "      <th>매출액 대비 연금보험료</th>\n",
       "    </tr>\n",
       "  </thead>\n",
       "  <tbody>\n",
       "    <tr>\n",
       "      <th>56431</th>\n",
       "      <td>570867</td>\n",
       "      <td>1500</td>\n",
       "      <td>2019</td>\n",
       "      <td>2</td>\n",
       "      <td>1931400</td>\n",
       "      <td>9</td>\n",
       "      <td>166.666667</td>\n",
       "      <td>214600.0</td>\n",
       "      <td>1287.60000</td>\n",
       "    </tr>\n",
       "    <tr>\n",
       "      <th>89748</th>\n",
       "      <td>81619</td>\n",
       "      <td>507</td>\n",
       "      <td>2018</td>\n",
       "      <td>10</td>\n",
       "      <td>1468800</td>\n",
       "      <td>4</td>\n",
       "      <td>126.750000</td>\n",
       "      <td>367200.0</td>\n",
       "      <td>2897.04142</td>\n",
       "    </tr>\n",
       "    <tr>\n",
       "      <th>94322</th>\n",
       "      <td>566173</td>\n",
       "      <td>300</td>\n",
       "      <td>2018</td>\n",
       "      <td>11</td>\n",
       "      <td>1125000</td>\n",
       "      <td>4</td>\n",
       "      <td>75.000000</td>\n",
       "      <td>281250.0</td>\n",
       "      <td>3750.00000</td>\n",
       "    </tr>\n",
       "  </tbody>\n",
       "</table>\n",
       "</div>"
      ],
      "text/plain": [
       "         회사ID  연매출액    년도   월  월별_연금보험료  월별_직원수     1인당 매출액  1인당 연금보험료  \\\n",
       "56431  570867  1500  2019   2   1931400       9  166.666667   214600.0   \n",
       "89748   81619   507  2018  10   1468800       4  126.750000   367200.0   \n",
       "94322  566173   300  2018  11   1125000       4   75.000000   281250.0   \n",
       "\n",
       "       매출액 대비 연금보험료  \n",
       "56431    1287.60000  \n",
       "89748    2897.04142  \n",
       "94322    3750.00000  "
      ]
     },
     "execution_count": 21,
     "metadata": {},
     "output_type": "execute_result"
    }
   ],
   "source": [
    "data[data['매출액 대비 연금보험료']>1000].drop_duplicates(subset = '회사ID',keep='last') #중복제거"
   ]
  },
  {
   "cell_type": "markdown",
   "metadata": {},
   "source": [
    "* 연매출액이 1500원인데 연금보험료를 1931400을 낸다?"
   ]
  },
  {
   "cell_type": "markdown",
   "metadata": {},
   "source": [
    "## 4. 외부데이터 활용"
   ]
  },
  {
   "cell_type": "markdown",
   "metadata": {},
   "source": [
    "현재 유니콘 기업의 매출액, 연금보험료, 직원수를 활용한 선형회귀분석 실행\n",
    "\n",
    "데이터의 신뢰도가 높지 않으며 연금보험료 =  평균연봉 * 직원수*9%로 추정"
   ]
  },
  {
   "cell_type": "code",
   "execution_count": 55,
   "metadata": {},
   "outputs": [],
   "source": [
    "unicon = pd.read_csv('unicon.csv',encoding='cp949')\n",
    "unicon = unicon.dropna()"
   ]
  },
  {
   "cell_type": "code",
   "execution_count": 89,
   "metadata": {},
   "outputs": [
    {
     "data": {
      "text/plain": [
       "<matplotlib.axes._subplots.AxesSubplot at 0x26a68fc8820>"
      ]
     },
     "execution_count": 89,
     "metadata": {},
     "output_type": "execute_result"
    },
    {
     "data": {
      "image/png": "[encoded data removed]",
      "text/plain": [
       "<Figure size 432x288 with 1 Axes>"
      ]
     },
     "metadata": {
      "needs_background": "light"
     },
     "output_type": "display_data"
    }
   ],
   "source": [
    "sns.scatterplot(data=data, x=\"월별_직원수\", y=\"연매출액\")\n",
    "sns.scatterplot(data=unicon, x=\"월별_직원수\", y=\"연매출액\")"
   ]
  },
  {
   "cell_type": "code",
   "execution_count": 90,
   "metadata": {},
   "outputs": [
    {
     "data": {
      "text/plain": [
       "<matplotlib.axes._subplots.AxesSubplot at 0x26a68946be0>"
      ]
     },
     "execution_count": 90,
     "metadata": {},
     "output_type": "execute_result"
    },
    {
     "data": {
      "image/png": "[encoded data removed]",
      "text/plain": [
       "<Figure size 432x288 with 1 Axes>"
      ]
     },
     "metadata": {
      "needs_background": "light"
     },
     "output_type": "display_data"
    }
   ],
   "source": [
    "sns.scatterplot(data=data, x=\"월별_연금보험료\", y=\"연매출액\")\n",
    "sns.scatterplot(data=unicon, x=\"월별_연금보험료\", y=\"연매출액\")"
   ]
  },
  {
   "cell_type": "code",
   "execution_count": 91,
   "metadata": {
    "scrolled": true
   },
   "outputs": [
    {
     "data": {
      "text/plain": [
       "<matplotlib.axes._subplots.AxesSubplot at 0x26a68b39940>"
      ]
     },
     "execution_count": 91,
     "metadata": {},
     "output_type": "execute_result"
    },
    {
     "data": {
      "image/png": "[encoded data removed]",
      "text/plain": [
       "<Figure size 432x288 with 1 Axes>"
      ]
     },
     "metadata": {
      "needs_background": "light"
     },
     "output_type": "display_data"
    }
   ],
   "source": [
    "sns.scatterplot(data=data, x=\"월별_직원수\", y=\"월별_연금보험료\")\n",
    "sns.scatterplot(data=unicon, x=\"월별_직원수\", y=\"월별_연금보험료\")"
   ]
  },
  {
   "cell_type": "code",
   "execution_count": 71,
   "metadata": {},
   "outputs": [
    {
     "data": {
      "text/plain": [
       "LinearRegression()"
      ]
     },
     "execution_count": 71,
     "metadata": {},
     "output_type": "execute_result"
    }
   ],
   "source": [
    "from sklearn.linear_model import LinearRegression\n",
    "line= LinearRegression()\n",
    "line.fit(unicon.drop(['기업가치','기업','평균예상연봉'],axis=1), unicon['기업가치'])"
   ]
  },
  {
   "cell_type": "code",
   "execution_count": 72,
   "metadata": {},
   "outputs": [],
   "source": [
    "y_predicted = line.predict(data[['연매출액','월별_연금보험료','월별_직원수']])"
   ]
  },
  {
   "cell_type": "code",
   "execution_count": 73,
   "metadata": {},
   "outputs": [
    {
     "data": {
      "text/plain": [
       "array([-4.59860121e+17, -4.86206199e+16, -4.03029527e+16, ...,\n",
       "       -2.02507701e+16, -4.51325659e+16, -1.50589359e+16])"
      ]
     },
     "execution_count": 73,
     "metadata": {},
     "output_type": "execute_result"
    }
   ],
   "source": [
    "y_predicted"
   ]
  },
  {
   "cell_type": "code",
   "execution_count": 74,
   "metadata": {},
   "outputs": [],
   "source": [
    "data['예상_기업가치'] = y_predicted"
   ]
  },
  {
   "cell_type": "code",
   "execution_count": 80,
   "metadata": {},
   "outputs": [
    {
     "data": {
      "text/plain": [
       "54026    4.710263e+12\n",
       "33869    4.710263e+12\n",
       "82809    4.710263e+12\n",
       "4450     4.710263e+12\n",
       "20070    4.710263e+12\n",
       "6162     4.710262e+12\n",
       "12176    4.710262e+12\n",
       "39671    4.710261e+12\n",
       "64139    4.710259e+12\n",
       "7251     4.710255e+12\n",
       "93481    4.710255e+12\n",
       "49592    4.710255e+12\n",
       "69239    4.710204e+12\n",
       "6279    -4.639149e+15\n",
       "98775   -5.382166e+15\n",
       "Name: 예상_기업가치, dtype: float64"
      ]
     },
     "execution_count": 80,
     "metadata": {},
     "output_type": "execute_result"
    }
   ],
   "source": [
    "data['예상_기업가치'].nlargest(15)"
   ]
  },
  {
   "cell_type": "markdown",
   "metadata": {},
   "source": [
    "### 결론\n",
    "* 외부데이터가 많지 않아 분석이 유의미하지 않음\n",
    "* 외부데이터를 활용할려면 코스피기업의 데이터를 활용하는 게 더 합리적이라고 판단됨"
   ]
  },
  {
   "cell_type": "markdown",
   "metadata": {},
   "source": [
    "## 5. 가설 설정"
   ]
  },
  {
   "cell_type": "markdown",
   "metadata": {},
   "source": [
    "##### 유니콘 기업은 '효율적인' 기업일 것이다\n",
    "* 적은 직원으로 높은 매출액을 내는 기업이 유니콘일 가능성이 크다\n",
    "\n",
    "##### 유니콘 기업은 '인적자원'을 중시하는 기업일 것이다\n",
    "* 1인당 연금보험료를 높게 측정하고 있는 기업이 유니콘일 가능성이 크다"
   ]
  },
  {
   "cell_type": "markdown",
   "metadata": {},
   "source": [
    "### '1인당_매출액' 과 '1인당_연금보험료'를 활용한 점수계산"
   ]
  },
  {
   "cell_type": "markdown",
   "metadata": {},
   "source": [
    "##### Case1. 두 변수 각각의 ranking을 합산\n",
    "* 1인당 매출액 순위 + 1인당 연금보험료 순위 = 점수"
   ]
  },
  {
   "cell_type": "code",
   "execution_count": 276,
   "metadata": {},
   "outputs": [],
   "source": [
    "data = pd.read_csv('company_nps_data.csv',encoding='cp949')"
   ]
  },
  {
   "cell_type": "code",
   "execution_count": 277,
   "metadata": {},
   "outputs": [],
   "source": [
    "data['1인당 매출액'] = data['연매출액'] / data['월별_직원수'] \n",
    "data['1인당 연금보험료'] = data['월별_연금보험료'] / data['월별_직원수']\n",
    "data[np.isinf(data)] = 0 #0으로 나눠서 발생하는 무한값 제거"
   ]
  },
  {
   "cell_type": "code",
   "execution_count": 278,
   "metadata": {},
   "outputs": [],
   "source": [
    "import scipy.stats as ss"
   ]
  },
  {
   "cell_type": "code",
   "execution_count": 279,
   "metadata": {},
   "outputs": [],
   "source": [
    "data = pd.read_csv('company_nps_data.csv',encoding='cp949')\n",
    "data['1인당 매출액'] = data['연매출액'] / data['월별_직원수'] \n",
    "data['1인당 연금보험료'] = data['월별_연금보험료'] / data['월별_직원수']\n",
    "data[np.isinf(data)] = 0 #0으로 나눠서 발생하는 무한값 제거\n"
   ]
  },
  {
   "cell_type": "code",
   "execution_count": 280,
   "metadata": {},
   "outputs": [],
   "source": [
    "def binding(data):\n",
    "     #회사ID를 기준으로 묶기\n",
    "    dct = {}\n",
    "    for i in data.groupby('회사ID'):\n",
    "        dct[i[0]] = i[1].sort_values(['년도', '월']) #데이터를 시간순서대로 활용할려면 dct에 저장되는 데이터를 index순서대로 활용하면 됨\n",
    "    #회사ID별 평균값 도출\n",
    "    dct_mean = {}\n",
    "    for i in dct.keys():\n",
    "        dct_mean[i] = dct[i].mean()\n",
    "    dct_mean_df = pd.DataFrame(dct_mean).T #dict를 dataframe으로 전환   \n",
    "    return dct_mean_df"
   ]
  },
  {
   "cell_type": "code",
   "execution_count": 281,
   "metadata": {},
   "outputs": [],
   "source": [
    "dct_mean_df = binding(data)"
   ]
  },
  {
   "cell_type": "code",
   "execution_count": 298,
   "metadata": {},
   "outputs": [],
   "source": [
    "dct_mean_df['1인당 매출액 순위'] = ss.rankdata(dct_mean_df['1인당 매출액'])\n",
    "dct_mean_df['1인당 연금보험료 순위'] = ss.rankdata(dct_mean_df['1인당 연금보험료'])\n",
    "dct_mean_df['점수'] = dct_mean_df['1인당 매출액 순위'] + dct_mean_df['1인당 연금보험료 순위']"
   ]
  },
  {
   "cell_type": "code",
   "execution_count": 309,
   "metadata": {},
   "outputs": [
    {
     "data": {
      "text/html": [
       "<div>\n",
       "<style scoped>\n",
       "    .dataframe tbody tr th:only-of-type {\n",
       "        vertical-align: middle;\n",
       "    }\n",
       "\n",
       "    .dataframe tbody tr th {\n",
       "        vertical-align: top;\n",
       "    }\n",
       "\n",
       "    .dataframe thead th {\n",
       "        text-align: right;\n",
       "    }\n",
       "</style>\n",
       "<table border=\"1\" class=\"dataframe\">\n",
       "  <thead>\n",
       "    <tr style=\"text-align: right;\">\n",
       "      <th></th>\n",
       "      <th>회사ID</th>\n",
       "      <th>연매출액</th>\n",
       "      <th>년도</th>\n",
       "      <th>월</th>\n",
       "      <th>월별_연금보험료</th>\n",
       "      <th>월별_직원수</th>\n",
       "      <th>1인당 매출액</th>\n",
       "      <th>1인당 연금보험료</th>\n",
       "      <th>1인당 매출액 순위</th>\n",
       "      <th>1인당 연금보험료 순위</th>\n",
       "      <th>점수</th>\n",
       "    </tr>\n",
       "  </thead>\n",
       "  <tbody>\n",
       "    <tr>\n",
       "      <th>63</th>\n",
       "      <td>63.0</td>\n",
       "      <td>1.132878e+10</td>\n",
       "      <td>2018.000000</td>\n",
       "      <td>6.500000</td>\n",
       "      <td>4.101282e+08</td>\n",
       "      <td>1007.166667</td>\n",
       "      <td>1.124874e+07</td>\n",
       "      <td>407239.467496</td>\n",
       "      <td>4988.0</td>\n",
       "      <td>4995.0</td>\n",
       "      <td>9983.0</td>\n",
       "    </tr>\n",
       "    <tr>\n",
       "      <th>60154</th>\n",
       "      <td>60154.0</td>\n",
       "      <td>5.080587e+07</td>\n",
       "      <td>2018.000000</td>\n",
       "      <td>8.000000</td>\n",
       "      <td>2.477320e+06</td>\n",
       "      <td>6.333333</td>\n",
       "      <td>8.171949e+06</td>\n",
       "      <td>390976.190476</td>\n",
       "      <td>4977.0</td>\n",
       "      <td>4991.0</td>\n",
       "      <td>9968.0</td>\n",
       "    </tr>\n",
       "    <tr>\n",
       "      <th>294649</th>\n",
       "      <td>294649.0</td>\n",
       "      <td>3.836737e+09</td>\n",
       "      <td>2016.894737</td>\n",
       "      <td>6.763158</td>\n",
       "      <td>1.029398e+08</td>\n",
       "      <td>270.473684</td>\n",
       "      <td>1.418880e+07</td>\n",
       "      <td>380563.578053</td>\n",
       "      <td>4990.0</td>\n",
       "      <td>4976.0</td>\n",
       "      <td>9966.0</td>\n",
       "    </tr>\n",
       "    <tr>\n",
       "      <th>293402</th>\n",
       "      <td>293402.0</td>\n",
       "      <td>3.413610e+07</td>\n",
       "      <td>2018.000000</td>\n",
       "      <td>6.500000</td>\n",
       "      <td>1.501150e+06</td>\n",
       "      <td>4.000000</td>\n",
       "      <td>9.102960e+06</td>\n",
       "      <td>381050.000000</td>\n",
       "      <td>4983.0</td>\n",
       "      <td>4978.0</td>\n",
       "      <td>9961.0</td>\n",
       "    </tr>\n",
       "    <tr>\n",
       "      <th>5452</th>\n",
       "      <td>5452.0</td>\n",
       "      <td>2.523765e+08</td>\n",
       "      <td>2018.000000</td>\n",
       "      <td>7.500000</td>\n",
       "      <td>1.534591e+07</td>\n",
       "      <td>39.700000</td>\n",
       "      <td>6.358736e+06</td>\n",
       "      <td>386545.948530</td>\n",
       "      <td>4972.0</td>\n",
       "      <td>4987.0</td>\n",
       "      <td>9959.0</td>\n",
       "    </tr>\n",
       "    <tr>\n",
       "      <th>64324</th>\n",
       "      <td>64324.0</td>\n",
       "      <td>5.540396e+07</td>\n",
       "      <td>2018.000000</td>\n",
       "      <td>8.500000</td>\n",
       "      <td>1.872410e+06</td>\n",
       "      <td>5.000000</td>\n",
       "      <td>1.108079e+07</td>\n",
       "      <td>374482.000000</td>\n",
       "      <td>4985.0</td>\n",
       "      <td>4963.0</td>\n",
       "      <td>9948.0</td>\n",
       "    </tr>\n",
       "    <tr>\n",
       "      <th>40860</th>\n",
       "      <td>40860.0</td>\n",
       "      <td>1.709144e+08</td>\n",
       "      <td>2018.000000</td>\n",
       "      <td>6.500000</td>\n",
       "      <td>2.570220e+06</td>\n",
       "      <td>7.000000</td>\n",
       "      <td>2.441635e+07</td>\n",
       "      <td>367174.285714</td>\n",
       "      <td>4997.0</td>\n",
       "      <td>4944.0</td>\n",
       "      <td>9941.0</td>\n",
       "    </tr>\n",
       "    <tr>\n",
       "      <th>381180</th>\n",
       "      <td>381180.0</td>\n",
       "      <td>1.459657e+09</td>\n",
       "      <td>2016.894737</td>\n",
       "      <td>6.763158</td>\n",
       "      <td>6.377902e+07</td>\n",
       "      <td>170.605263</td>\n",
       "      <td>8.575456e+06</td>\n",
       "      <td>374044.555746</td>\n",
       "      <td>4979.0</td>\n",
       "      <td>4962.0</td>\n",
       "      <td>9941.0</td>\n",
       "    </tr>\n",
       "    <tr>\n",
       "      <th>126831</th>\n",
       "      <td>126831.0</td>\n",
       "      <td>2.019423e+09</td>\n",
       "      <td>2016.894737</td>\n",
       "      <td>6.763158</td>\n",
       "      <td>2.276844e+08</td>\n",
       "      <td>584.078947</td>\n",
       "      <td>3.457156e+06</td>\n",
       "      <td>389804.704049</td>\n",
       "      <td>4916.0</td>\n",
       "      <td>4990.0</td>\n",
       "      <td>9906.0</td>\n",
       "    </tr>\n",
       "    <tr>\n",
       "      <th>419998</th>\n",
       "      <td>419998.0</td>\n",
       "      <td>3.538393e+09</td>\n",
       "      <td>2017.000000</td>\n",
       "      <td>6.500000</td>\n",
       "      <td>3.026178e+08</td>\n",
       "      <td>812.444444</td>\n",
       "      <td>4.355804e+06</td>\n",
       "      <td>372419.518004</td>\n",
       "      <td>4943.0</td>\n",
       "      <td>4959.0</td>\n",
       "      <td>9902.0</td>\n",
       "    </tr>\n",
       "  </tbody>\n",
       "</table>\n",
       "</div>"
      ],
      "text/plain": [
       "            회사ID          연매출액           년도         월      월별_연금보험료  \\\n",
       "63          63.0  1.132878e+10  2018.000000  6.500000  4.101282e+08   \n",
       "60154    60154.0  5.080587e+07  2018.000000  8.000000  2.477320e+06   \n",
       "294649  294649.0  3.836737e+09  2016.894737  6.763158  1.029398e+08   \n",
       "293402  293402.0  3.413610e+07  2018.000000  6.500000  1.501150e+06   \n",
       "5452      5452.0  2.523765e+08  2018.000000  7.500000  1.534591e+07   \n",
       "64324    64324.0  5.540396e+07  2018.000000  8.500000  1.872410e+06   \n",
       "40860    40860.0  1.709144e+08  2018.000000  6.500000  2.570220e+06   \n",
       "381180  381180.0  1.459657e+09  2016.894737  6.763158  6.377902e+07   \n",
       "126831  126831.0  2.019423e+09  2016.894737  6.763158  2.276844e+08   \n",
       "419998  419998.0  3.538393e+09  2017.000000  6.500000  3.026178e+08   \n",
       "\n",
       "             월별_직원수       1인당 매출액      1인당 연금보험료  1인당 매출액 순위  1인당 연금보험료 순위  \\\n",
       "63      1007.166667  1.124874e+07  407239.467496      4988.0        4995.0   \n",
       "60154      6.333333  8.171949e+06  390976.190476      4977.0        4991.0   \n",
       "294649   270.473684  1.418880e+07  380563.578053      4990.0        4976.0   \n",
       "293402     4.000000  9.102960e+06  381050.000000      4983.0        4978.0   \n",
       "5452      39.700000  6.358736e+06  386545.948530      4972.0        4987.0   \n",
       "64324      5.000000  1.108079e+07  374482.000000      4985.0        4963.0   \n",
       "40860      7.000000  2.441635e+07  367174.285714      4997.0        4944.0   \n",
       "381180   170.605263  8.575456e+06  374044.555746      4979.0        4962.0   \n",
       "126831   584.078947  3.457156e+06  389804.704049      4916.0        4990.0   \n",
       "419998   812.444444  4.355804e+06  372419.518004      4943.0        4959.0   \n",
       "\n",
       "            점수  \n",
       "63      9983.0  \n",
       "60154   9968.0  \n",
       "294649  9966.0  \n",
       "293402  9961.0  \n",
       "5452    9959.0  \n",
       "64324   9948.0  \n",
       "40860   9941.0  \n",
       "381180  9941.0  \n",
       "126831  9906.0  \n",
       "419998  9902.0  "
      ]
     },
     "execution_count": 309,
     "metadata": {},
     "output_type": "execute_result"
    }
   ],
   "source": [
    "dct_mean_df.sort_values(by=['점수'],ascending = False).head(10)"
   ]
  },
  {
   "cell_type": "markdown",
   "metadata": {},
   "source": [
    "##### Case2. 두 변수를 0-1사이의 값으로 스케일링 한 뒤 단순합산\n",
    "* scaled_1인당 매출액 + scaled_1인당 연금보험료 = 점수"
   ]
  },
  {
   "cell_type": "code",
   "execution_count": 284,
   "metadata": {},
   "outputs": [],
   "source": [
    "from sklearn.preprocessing import MinMaxScaler"
   ]
  },
  {
   "cell_type": "code",
   "execution_count": 285,
   "metadata": {},
   "outputs": [],
   "source": [
    "min_max_scaler = MinMaxScaler()\n",
    "fitted = min_max_scaler.fit(data[['1인당 매출액','1인당 연금보험료']])\n",
    "data[['1인당 매출액','1인당 연금보험료']] = min_max_scaler.transform(data[['1인당 매출액','1인당 연금보험료']])\n",
    "data['점수'] = data['1인당 매출액'] + data['1인당 연금보험료']"
   ]
  },
  {
   "cell_type": "code",
   "execution_count": 286,
   "metadata": {},
   "outputs": [],
   "source": [
    "dct_mean_df2 = binding(data)"
   ]
  },
  {
   "cell_type": "code",
   "execution_count": 307,
   "metadata": {
    "scrolled": true
   },
   "outputs": [
    {
     "data": {
      "text/html": [
       "<div>\n",
       "<style scoped>\n",
       "    .dataframe tbody tr th:only-of-type {\n",
       "        vertical-align: middle;\n",
       "    }\n",
       "\n",
       "    .dataframe tbody tr th {\n",
       "        vertical-align: top;\n",
       "    }\n",
       "\n",
       "    .dataframe thead th {\n",
       "        text-align: right;\n",
       "    }\n",
       "</style>\n",
       "<table border=\"1\" class=\"dataframe\">\n",
       "  <thead>\n",
       "    <tr style=\"text-align: right;\">\n",
       "      <th></th>\n",
       "      <th>회사ID</th>\n",
       "      <th>연매출액</th>\n",
       "      <th>년도</th>\n",
       "      <th>월</th>\n",
       "      <th>월별_연금보험료</th>\n",
       "      <th>월별_직원수</th>\n",
       "      <th>1인당 매출액</th>\n",
       "      <th>1인당 연금보험료</th>\n",
       "      <th>점수</th>\n",
       "    </tr>\n",
       "  </thead>\n",
       "  <tbody>\n",
       "    <tr>\n",
       "      <th>40860</th>\n",
       "      <td>40860.0</td>\n",
       "      <td>1.709144e+08</td>\n",
       "      <td>2018.000000</td>\n",
       "      <td>6.500000</td>\n",
       "      <td>2.570220e+06</td>\n",
       "      <td>7.000000</td>\n",
       "      <td>0.496413</td>\n",
       "      <td>0.751726</td>\n",
       "      <td>1.248140</td>\n",
       "    </tr>\n",
       "    <tr>\n",
       "      <th>146654</th>\n",
       "      <td>146654.0</td>\n",
       "      <td>6.397783e+08</td>\n",
       "      <td>2016.894737</td>\n",
       "      <td>6.763158</td>\n",
       "      <td>8.863051e+06</td>\n",
       "      <td>26.552632</td>\n",
       "      <td>0.491542</td>\n",
       "      <td>0.679348</td>\n",
       "      <td>1.170890</td>\n",
       "    </tr>\n",
       "    <tr>\n",
       "      <th>63</th>\n",
       "      <td>63.0</td>\n",
       "      <td>1.132878e+10</td>\n",
       "      <td>2018.000000</td>\n",
       "      <td>6.500000</td>\n",
       "      <td>4.101282e+08</td>\n",
       "      <td>1007.166667</td>\n",
       "      <td>0.244937</td>\n",
       "      <td>0.840030</td>\n",
       "      <td>1.084967</td>\n",
       "    </tr>\n",
       "    <tr>\n",
       "      <th>294649</th>\n",
       "      <td>294649.0</td>\n",
       "      <td>3.836737e+09</td>\n",
       "      <td>2016.894737</td>\n",
       "      <td>6.763158</td>\n",
       "      <td>1.029398e+08</td>\n",
       "      <td>270.473684</td>\n",
       "      <td>0.301086</td>\n",
       "      <td>0.781236</td>\n",
       "      <td>1.082323</td>\n",
       "    </tr>\n",
       "    <tr>\n",
       "      <th>567650</th>\n",
       "      <td>567650.0</td>\n",
       "      <td>1.136639e+08</td>\n",
       "      <td>2018.000000</td>\n",
       "      <td>8.000000</td>\n",
       "      <td>5.035667e+05</td>\n",
       "      <td>3.000000</td>\n",
       "      <td>0.753696</td>\n",
       "      <td>0.312429</td>\n",
       "      <td>1.066124</td>\n",
       "    </tr>\n",
       "    <tr>\n",
       "      <th>297874</th>\n",
       "      <td>297874.0</td>\n",
       "      <td>1.162102e+09</td>\n",
       "      <td>2016.894737</td>\n",
       "      <td>6.763158</td>\n",
       "      <td>8.311988e+06</td>\n",
       "      <td>37.500000</td>\n",
       "      <td>0.621420</td>\n",
       "      <td>0.428617</td>\n",
       "      <td>1.050037</td>\n",
       "    </tr>\n",
       "    <tr>\n",
       "      <th>433492</th>\n",
       "      <td>433492.0</td>\n",
       "      <td>9.753366e+07</td>\n",
       "      <td>2016.384615</td>\n",
       "      <td>6.884615</td>\n",
       "      <td>1.021949e+06</td>\n",
       "      <td>4.076923</td>\n",
       "      <td>0.542416</td>\n",
       "      <td>0.481355</td>\n",
       "      <td>1.023771</td>\n",
       "    </tr>\n",
       "    <tr>\n",
       "      <th>64324</th>\n",
       "      <td>64324.0</td>\n",
       "      <td>5.540396e+07</td>\n",
       "      <td>2018.000000</td>\n",
       "      <td>8.500000</td>\n",
       "      <td>1.872410e+06</td>\n",
       "      <td>5.000000</td>\n",
       "      <td>0.241729</td>\n",
       "      <td>0.767833</td>\n",
       "      <td>1.009562</td>\n",
       "    </tr>\n",
       "    <tr>\n",
       "      <th>60154</th>\n",
       "      <td>60154.0</td>\n",
       "      <td>5.080587e+07</td>\n",
       "      <td>2018.000000</td>\n",
       "      <td>8.000000</td>\n",
       "      <td>2.477320e+06</td>\n",
       "      <td>6.333333</td>\n",
       "      <td>0.186176</td>\n",
       "      <td>0.804186</td>\n",
       "      <td>0.990362</td>\n",
       "    </tr>\n",
       "    <tr>\n",
       "      <th>293402</th>\n",
       "      <td>293402.0</td>\n",
       "      <td>3.413610e+07</td>\n",
       "      <td>2018.000000</td>\n",
       "      <td>6.500000</td>\n",
       "      <td>1.501150e+06</td>\n",
       "      <td>4.000000</td>\n",
       "      <td>0.203956</td>\n",
       "      <td>0.782309</td>\n",
       "      <td>0.986265</td>\n",
       "    </tr>\n",
       "  </tbody>\n",
       "</table>\n",
       "</div>"
      ],
      "text/plain": [
       "            회사ID          연매출액           년도         월      월별_연금보험료  \\\n",
       "40860    40860.0  1.709144e+08  2018.000000  6.500000  2.570220e+06   \n",
       "146654  146654.0  6.397783e+08  2016.894737  6.763158  8.863051e+06   \n",
       "63          63.0  1.132878e+10  2018.000000  6.500000  4.101282e+08   \n",
       "294649  294649.0  3.836737e+09  2016.894737  6.763158  1.029398e+08   \n",
       "567650  567650.0  1.136639e+08  2018.000000  8.000000  5.035667e+05   \n",
       "297874  297874.0  1.162102e+09  2016.894737  6.763158  8.311988e+06   \n",
       "433492  433492.0  9.753366e+07  2016.384615  6.884615  1.021949e+06   \n",
       "64324    64324.0  5.540396e+07  2018.000000  8.500000  1.872410e+06   \n",
       "60154    60154.0  5.080587e+07  2018.000000  8.000000  2.477320e+06   \n",
       "293402  293402.0  3.413610e+07  2018.000000  6.500000  1.501150e+06   \n",
       "\n",
       "             월별_직원수   1인당 매출액  1인당 연금보험료        점수  \n",
       "40860      7.000000  0.496413   0.751726  1.248140  \n",
       "146654    26.552632  0.491542   0.679348  1.170890  \n",
       "63      1007.166667  0.244937   0.840030  1.084967  \n",
       "294649   270.473684  0.301086   0.781236  1.082323  \n",
       "567650     3.000000  0.753696   0.312429  1.066124  \n",
       "297874    37.500000  0.621420   0.428617  1.050037  \n",
       "433492     4.076923  0.542416   0.481355  1.023771  \n",
       "64324      5.000000  0.241729   0.767833  1.009562  \n",
       "60154      6.333333  0.186176   0.804186  0.990362  \n",
       "293402     4.000000  0.203956   0.782309  0.986265  "
      ]
     },
     "execution_count": 307,
     "metadata": {},
     "output_type": "execute_result"
    }
   ],
   "source": [
    "dct_mean_df2.sort_values(by=['점수'],ascending = False).head(10)"
   ]
  },
  {
   "cell_type": "markdown",
   "metadata": {},
   "source": [
    "##### 두 케이스에 공통으로 상위권을 차지한 5개 기업 추출"
   ]
  },
  {
   "cell_type": "code",
   "execution_count": 330,
   "metadata": {
    "scrolled": true
   },
   "outputs": [
    {
     "name": "stdout",
     "output_type": "stream",
     "text": [
      "[64324, 294649, 60154, 40860, 63]이 유니콘 기업입니다\n"
     ]
    }
   ],
   "source": [
    "a1 = dct_mean_df.sort_values(by=['점수'],ascending = False).head(9).index\n",
    "a2 = dct_mean_df2.sort_values(by=['점수'],ascending = False).head(9).index\n",
    "unicon_company = list(set(a1).intersection(a2))\n",
    "print(str(unicon_company)+\"이 유니콘 기업입니다\")"
   ]
  },
  {
   "cell_type": "code",
   "execution_count": null,
   "metadata": {},
   "outputs": [],
   "source": []
  }
 ],
 "metadata": {
  "kernelspec": {
   "display_name": "Python 3",
   "language": "python",
   "name": "python3"
  },
  "language_info": {
   "codemirror_mode": {
    "name": "ipython",
    "version": 3
   },
   "file_extension": ".py",
   "mimetype": "text/x-python",
   "name": "python",
   "nbconvert_exporter": "python",
   "pygments_lexer": "ipython3",
   "version": "3.8.3"
  }
 },
 "nbformat": 4,
 "nbformat_minor": 4
}
