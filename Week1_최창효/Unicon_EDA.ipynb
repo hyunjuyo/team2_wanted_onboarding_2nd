{
 "cells": [
  {
   "cell_type": "markdown",
   "metadata": {},
   "source": [
    "# 국민연금 데이터를 통해 유니콘 기업 찾기"
   ]
  },
  {
   "cell_type": "markdown",
   "metadata": {},
   "source": [
    "## 1. 유니콘 기업이란? \n",
    "### 기업 가치가 10억 달러(=1조 원) 이상이고 창업한 지 10년 이하인 비상장 스타트업 기업\n",
    "    1. 데이터에 창업일이 없어 '창업한 지 10년 이하' 조건은 고려하지 않기로 함\n",
    "    2. 유니콘 기업을 찾는 일 == 주어진 데이터를 통해 기업 가치를 측정하는 일\n",
    "    3. 조건을 만족하는 기업이 없을 경우 성장성을 바탕으로 유니콘 기업을 예상해볼 계획"
   ]
  },
  {
   "cell_type": "markdown",
   "metadata": {},
   "source": [
    "## 2. 국민연금 데이터와 기업 규모의 상관관계\n",
    "국민연금이 기업가치를 얼마나 대변하는가?\n",
    "\n",
    "국민연금 -> 급여를 예측할 수 있음 -> 급여를 통해서 기업가치를 갈음할 수 있는가?\n",
    "\n",
    "기업가치 산정방법?\n",
    "\n"
   ]
  },
  {
   "cell_type": "markdown",
   "metadata": {},
   "source": [
    "## 3. EDA"
   ]
  },
  {
   "cell_type": "code",
   "execution_count": 158,
   "metadata": {},
   "outputs": [],
   "source": [
    "#데이터 불러오기\n",
    "import pandas as pd\n",
    "import numpy as np\n",
    "data = pd.read_csv('company_nps_data.csv',encoding='cp949')"
   ]
  },
  {
   "cell_type": "code",
   "execution_count": 16,
   "metadata": {},
   "outputs": [
    {
     "data": {
      "text/plain": [
       "Index(['회사ID', '연매출액', '년도', '월', '월별_연금보험료', '월별_직원수'], dtype='object')"
      ]
     },
     "execution_count": 16,
     "metadata": {},
     "output_type": "execute_result"
    }
   ],
   "source": [
    "#변수명 확인\n",
    "data.columns"
   ]
  },
  {
   "cell_type": "markdown",
   "metadata": {},
   "source": [
    "* 우리는 '연매출액','월별_연금보험료','월별_직원수'를 통해 기업가치를 측정해야 한다"
   ]
  },
  {
   "cell_type": "markdown",
   "metadata": {},
   "source": [
    "### 1. 회사ID를 기준으로 데이터 묶기, 년월을 기준으로 Sorting"
   ]
  },
  {
   "cell_type": "code",
   "execution_count": 83,
   "metadata": {},
   "outputs": [],
   "source": [
    "#회사ID를 기준으로 묶기\n",
    "dct = {}\n",
    "for i in data.groupby('회사ID'):\n",
    "    dct[i[0]] = i[1].sort_values(['년도', '월']) #데이터를 시간순서대로 활용할려면 dct에 저장되는 데이터를 index순서대로 활용하면 됨"
   ]
  },
  {
   "cell_type": "code",
   "execution_count": 103,
   "metadata": {},
   "outputs": [],
   "source": [
    "#회사ID별 평균값 도출\n",
    "dct_mean = {}\n",
    "for i in dct.keys():\n",
    "    dct_mean[i] = dct[i].mean()"
   ]
  },
  {
   "cell_type": "code",
   "execution_count": 126,
   "metadata": {},
   "outputs": [
    {
     "data": {
      "text/html": [
       "<div>\n",
       "<style scoped>\n",
       "    .dataframe tbody tr th:only-of-type {\n",
       "        vertical-align: middle;\n",
       "    }\n",
       "\n",
       "    .dataframe tbody tr th {\n",
       "        vertical-align: top;\n",
       "    }\n",
       "\n",
       "    .dataframe thead th {\n",
       "        text-align: right;\n",
       "    }\n",
       "</style>\n",
       "<table border=\"1\" class=\"dataframe\">\n",
       "  <thead>\n",
       "    <tr style=\"text-align: right;\">\n",
       "      <th></th>\n",
       "      <th>회사ID</th>\n",
       "      <th>연매출액</th>\n",
       "      <th>년도</th>\n",
       "      <th>월</th>\n",
       "      <th>월별_연금보험료</th>\n",
       "      <th>월별_직원수</th>\n",
       "    </tr>\n",
       "  </thead>\n",
       "  <tbody>\n",
       "    <tr>\n",
       "      <th>63</th>\n",
       "      <td>63.0</td>\n",
       "      <td>1.132878e+10</td>\n",
       "      <td>2018.0</td>\n",
       "      <td>6.5</td>\n",
       "      <td>4.101282e+08</td>\n",
       "      <td>1007.166667</td>\n",
       "    </tr>\n",
       "    <tr>\n",
       "      <th>95</th>\n",
       "      <td>95.0</td>\n",
       "      <td>6.569474e+08</td>\n",
       "      <td>2018.0</td>\n",
       "      <td>6.5</td>\n",
       "      <td>2.148378e+08</td>\n",
       "      <td>541.000000</td>\n",
       "    </tr>\n",
       "    <tr>\n",
       "      <th>102</th>\n",
       "      <td>102.0</td>\n",
       "      <td>7.426589e+08</td>\n",
       "      <td>2018.0</td>\n",
       "      <td>8.5</td>\n",
       "      <td>1.737695e+08</td>\n",
       "      <td>752.125000</td>\n",
       "    </tr>\n",
       "    <tr>\n",
       "      <th>295</th>\n",
       "      <td>295.0</td>\n",
       "      <td>8.377670e+07</td>\n",
       "      <td>2018.0</td>\n",
       "      <td>8.5</td>\n",
       "      <td>7.731204e+07</td>\n",
       "      <td>259.500000</td>\n",
       "    </tr>\n",
       "    <tr>\n",
       "      <th>414</th>\n",
       "      <td>414.0</td>\n",
       "      <td>1.973277e+07</td>\n",
       "      <td>2018.0</td>\n",
       "      <td>6.5</td>\n",
       "      <td>7.759019e+07</td>\n",
       "      <td>247.583333</td>\n",
       "    </tr>\n",
       "  </tbody>\n",
       "</table>\n",
       "</div>"
      ],
      "text/plain": [
       "      회사ID          연매출액      년도    월      월별_연금보험료       월별_직원수\n",
       "63    63.0  1.132878e+10  2018.0  6.5  4.101282e+08  1007.166667\n",
       "95    95.0  6.569474e+08  2018.0  6.5  2.148378e+08   541.000000\n",
       "102  102.0  7.426589e+08  2018.0  8.5  1.737695e+08   752.125000\n",
       "295  295.0  8.377670e+07  2018.0  8.5  7.731204e+07   259.500000\n",
       "414  414.0  1.973277e+07  2018.0  6.5  7.759019e+07   247.583333"
      ]
     },
     "execution_count": 126,
     "metadata": {},
     "output_type": "execute_result"
    }
   ],
   "source": [
    "dct_mean_df = pd.DataFrame(dct_mean).T #dict를 dataframe으로 전환\n",
    "dct_mean_df.head()"
   ]
  },
  {
   "cell_type": "markdown",
   "metadata": {},
   "source": [
    "### 2. Scatter Plot"
   ]
  },
  {
   "cell_type": "code",
   "execution_count": 22,
   "metadata": {},
   "outputs": [],
   "source": [
    "import seaborn as sns\n",
    "import matplotlib.pyplot as plt\n",
    "plt.rcParams['font.family'] = 'Malgun Gothic'  # (Windows 용) 한글 출력을 위한 글꼴 설정"
   ]
  },
  {
   "cell_type": "code",
   "execution_count": 123,
   "metadata": {},
   "outputs": [
    {
     "data": {
      "text/plain": [
       "<matplotlib.axes._subplots.AxesSubplot at 0x20a02fbcb50>"
      ]
     },
     "execution_count": 123,
     "metadata": {},
     "output_type": "execute_result"
    },
    {
     "data": {
      "image/png": "[encoded data removed]",
      "text/plain": [
       "<Figure size 432x288 with 2 Axes>"
      ]
     },
     "metadata": {
      "needs_background": "light"
     },
     "output_type": "display_data"
    }
   ],
   "source": [
    "fig, ax =plt.subplots(1,2)\n",
    "sns.scatterplot(data=data, x=\"월별_직원수\", y=\"연매출액\",ax=ax[0])\n",
    "sns.scatterplot(data=dct_mean_df, x=\"월별_직원수\", y=\"연매출액\",ax=ax[1])"
   ]
  },
  {
   "cell_type": "code",
   "execution_count": 125,
   "metadata": {},
   "outputs": [
    {
     "data": {
      "text/plain": [
       "<matplotlib.axes._subplots.AxesSubplot at 0x20a0522e490>"
      ]
     },
     "execution_count": 125,
     "metadata": {},
     "output_type": "execute_result"
    },
    {
     "data": {
      "image/png": "[encoded data removed]",
      "text/plain": [
       "<Figure size 432x288 with 2 Axes>"
      ]
     },
     "metadata": {
      "needs_background": "light"
     },
     "output_type": "display_data"
    }
   ],
   "source": [
    "fig, ax =plt.subplots(1,2)\n",
    "sns.scatterplot(data=data, x=\"월별_연금보험료\", y=\"연매출액\",ax=ax[0])\n",
    "sns.scatterplot(data=dct_mean_df, x=\"월별_연금보험료\", y=\"연매출액\",ax=ax[1])"
   ]
  },
  {
   "cell_type": "code",
   "execution_count": 124,
   "metadata": {},
   "outputs": [
    {
     "data": {
      "text/plain": [
       "<matplotlib.axes._subplots.AxesSubplot at 0x20a0304d700>"
      ]
     },
     "execution_count": 124,
     "metadata": {},
     "output_type": "execute_result"
    },
    {
     "data": {
      "image/png": "[encoded data removed]",
      "text/plain": [
       "<Figure size 432x288 with 2 Axes>"
      ]
     },
     "metadata": {
      "needs_background": "light"
     },
     "output_type": "display_data"
    }
   ],
   "source": [
    "fig, ax =plt.subplots(1,2)\n",
    "sns.scatterplot(data=data, x=\"월별_직원수\", y=\"월별_연금보험료\",ax=ax[0])\n",
    "sns.scatterplot(data=dct_mean_df, x=\"월별_직원수\", y=\"월별_연금보험료\",ax=ax[1])"
   ]
  },
  {
   "cell_type": "markdown",
   "metadata": {},
   "source": [
    "* 직원수와 연금보험료는 뚜렷한 선형관계를 보임"
   ]
  },
  {
   "cell_type": "markdown",
   "metadata": {},
   "source": [
    "### 추가변수 만들어보기"
   ]
  },
  {
   "cell_type": "code",
   "execution_count": 181,
   "metadata": {},
   "outputs": [],
   "source": [
    "data['1인당 매출액'] = data['연매출액'] / data['월별_직원수'] \n",
    "data['1인당 연금보험료'] = data['월별_연금보험료'] / data['월별_직원수']\n",
    "data['매출액 대비 연금보험료'] = data['월별_연금보험료'] / data['연매출액']"
   ]
  },
  {
   "cell_type": "code",
   "execution_count": 182,
   "metadata": {},
   "outputs": [],
   "source": [
    "data[np.isinf(data)] = 0 #0으로 나눠서 발생하는 무한값 제거"
   ]
  },
  {
   "cell_type": "markdown",
   "metadata": {},
   "source": [
    "#### 1인당 매출액 그래프"
   ]
  },
  {
   "cell_type": "code",
   "execution_count": 166,
   "metadata": {},
   "outputs": [
    {
     "data": {
      "text/plain": [
       "[<matplotlib.lines.Line2D at 0x20a02f64340>]"
      ]
     },
     "execution_count": 166,
     "metadata": {},
     "output_type": "execute_result"
    },
    {
     "data": {
      "image/png": "[encoded data removed]",
      "text/plain": [
       "<Figure size 432x288 with 1 Axes>"
      ]
     },
     "metadata": {
      "needs_background": "light"
     },
     "output_type": "display_data"
    }
   ],
   "source": [
    "plt.plot(data['1인당 매출액'])"
   ]
  },
  {
   "cell_type": "code",
   "execution_count": 173,
   "metadata": {},
   "outputs": [
    {
     "data": {
      "text/html": [
       "<div>\n",
       "<style scoped>\n",
       "    .dataframe tbody tr th:only-of-type {\n",
       "        vertical-align: middle;\n",
       "    }\n",
       "\n",
       "    .dataframe tbody tr th {\n",
       "        vertical-align: top;\n",
       "    }\n",
       "\n",
       "    .dataframe thead th {\n",
       "        text-align: right;\n",
       "    }\n",
       "</style>\n",
       "<table border=\"1\" class=\"dataframe\">\n",
       "  <thead>\n",
       "    <tr style=\"text-align: right;\">\n",
       "      <th></th>\n",
       "      <th>회사ID</th>\n",
       "      <th>연매출액</th>\n",
       "      <th>년도</th>\n",
       "      <th>월</th>\n",
       "      <th>월별_연금보험료</th>\n",
       "      <th>월별_직원수</th>\n",
       "      <th>1인당 매출액</th>\n",
       "      <th>1인당 연금보혐료</th>\n",
       "      <th>매출액 대비 연금보혐료</th>\n",
       "    </tr>\n",
       "  </thead>\n",
       "  <tbody>\n",
       "    <tr>\n",
       "      <th>51998</th>\n",
       "      <td>297874</td>\n",
       "      <td>1501348760</td>\n",
       "      <td>2017</td>\n",
       "      <td>4</td>\n",
       "      <td>8294540</td>\n",
       "      <td>37</td>\n",
       "      <td>4.057699e+07</td>\n",
       "      <td>224176.756757</td>\n",
       "      <td>0.005525</td>\n",
       "    </tr>\n",
       "    <tr>\n",
       "      <th>69287</th>\n",
       "      <td>433492</td>\n",
       "      <td>152354246</td>\n",
       "      <td>2016</td>\n",
       "      <td>11</td>\n",
       "      <td>681380</td>\n",
       "      <td>3</td>\n",
       "      <td>5.078475e+07</td>\n",
       "      <td>227126.666667</td>\n",
       "      <td>0.004472</td>\n",
       "    </tr>\n",
       "  </tbody>\n",
       "</table>\n",
       "</div>"
      ],
      "text/plain": [
       "         회사ID        연매출액    년도   월  월별_연금보험료  월별_직원수       1인당 매출액  \\\n",
       "51998  297874  1501348760  2017   4   8294540      37  4.057699e+07   \n",
       "69287  433492   152354246  2016  11    681380       3  5.078475e+07   \n",
       "\n",
       "           1인당 연금보혐료  매출액 대비 연금보혐료  \n",
       "51998  224176.756757      0.005525  \n",
       "69287  227126.666667      0.004472  "
      ]
     },
     "execution_count": 173,
     "metadata": {},
     "output_type": "execute_result"
    }
   ],
   "source": [
    "data[data['1인당 매출액']>40000000].drop_duplicates(subset = '회사ID',keep='last') #중복제거"
   ]
  },
  {
   "cell_type": "markdown",
   "metadata": {},
   "source": [
    "#### 1인당 연금보험료 그래프"
   ]
  },
  {
   "cell_type": "code",
   "execution_count": 183,
   "metadata": {},
   "outputs": [
    {
     "data": {
      "text/plain": [
       "[<matplotlib.lines.Line2D at 0x20a02d622b0>]"
      ]
     },
     "execution_count": 183,
     "metadata": {},
     "output_type": "execute_result"
    },
    {
     "data": {
      "image/png": "[encoded data removed]",
      "text/plain": [
       "<Figure size 432x288 with 1 Axes>"
      ]
     },
     "metadata": {
      "needs_background": "light"
     },
     "output_type": "display_data"
    }
   ],
   "source": [
    "plt.plot(data['1인당 연금보험료'])"
   ]
  },
  {
   "cell_type": "code",
   "execution_count": 178,
   "metadata": {},
   "outputs": [
    {
     "data": {
      "text/html": [
       "<div>\n",
       "<style scoped>\n",
       "    .dataframe tbody tr th:only-of-type {\n",
       "        vertical-align: middle;\n",
       "    }\n",
       "\n",
       "    .dataframe tbody tr th {\n",
       "        vertical-align: top;\n",
       "    }\n",
       "\n",
       "    .dataframe thead th {\n",
       "        text-align: right;\n",
       "    }\n",
       "</style>\n",
       "<table border=\"1\" class=\"dataframe\">\n",
       "  <thead>\n",
       "    <tr style=\"text-align: right;\">\n",
       "      <th></th>\n",
       "      <th>회사ID</th>\n",
       "      <th>연매출액</th>\n",
       "      <th>년도</th>\n",
       "      <th>월</th>\n",
       "      <th>월별_연금보험료</th>\n",
       "      <th>월별_직원수</th>\n",
       "      <th>1인당 매출액</th>\n",
       "      <th>1인당 연금보혐료</th>\n",
       "      <th>매출액 대비 연금보혐료</th>\n",
       "    </tr>\n",
       "  </thead>\n",
       "  <tbody>\n",
       "    <tr>\n",
       "      <th>785</th>\n",
       "      <td>228293</td>\n",
       "      <td>9153391</td>\n",
       "      <td>2016</td>\n",
       "      <td>8</td>\n",
       "      <td>7677140</td>\n",
       "      <td>16</td>\n",
       "      <td>572086.937500</td>\n",
       "      <td>479821.25</td>\n",
       "      <td>0.838721</td>\n",
       "    </tr>\n",
       "    <tr>\n",
       "      <th>72163</th>\n",
       "      <td>3312354</td>\n",
       "      <td>1451563</td>\n",
       "      <td>2019</td>\n",
       "      <td>12</td>\n",
       "      <td>1312200</td>\n",
       "      <td>3</td>\n",
       "      <td>483854.333333</td>\n",
       "      <td>437400.00</td>\n",
       "      <td>0.903991</td>\n",
       "    </tr>\n",
       "  </tbody>\n",
       "</table>\n",
       "</div>"
      ],
      "text/plain": [
       "          회사ID     연매출액    년도   월  월별_연금보험료  월별_직원수        1인당 매출액  1인당 연금보혐료  \\\n",
       "785     228293  9153391  2016   8   7677140      16  572086.937500  479821.25   \n",
       "72163  3312354  1451563  2019  12   1312200       3  483854.333333  437400.00   \n",
       "\n",
       "       매출액 대비 연금보혐료  \n",
       "785        0.838721  \n",
       "72163      0.903991  "
      ]
     },
     "execution_count": 178,
     "metadata": {},
     "output_type": "execute_result"
    }
   ],
   "source": [
    "data[data['1인당 연금보험료']>430000].drop_duplicates(subset = '회사ID',keep='last') #중복제거"
   ]
  },
  {
   "cell_type": "markdown",
   "metadata": {},
   "source": [
    "#### 매출액 대비 연금보험료 그래프"
   ]
  },
  {
   "cell_type": "code",
   "execution_count": 184,
   "metadata": {},
   "outputs": [
    {
     "data": {
      "text/plain": [
       "[<matplotlib.lines.Line2D at 0x20a02e97400>]"
      ]
     },
     "execution_count": 184,
     "metadata": {},
     "output_type": "execute_result"
    },
    {
     "data": {
      "image/png": "[encoded data removed]",
      "text/plain": [
       "<Figure size 432x288 with 1 Axes>"
      ]
     },
     "metadata": {
      "needs_background": "light"
     },
     "output_type": "display_data"
    }
   ],
   "source": [
    "plt.plot(data['매출액 대비 연금보혐료'])"
   ]
  },
  {
   "cell_type": "code",
   "execution_count": 190,
   "metadata": {},
   "outputs": [
    {
     "data": {
      "text/html": [
       "<div>\n",
       "<style scoped>\n",
       "    .dataframe tbody tr th:only-of-type {\n",
       "        vertical-align: middle;\n",
       "    }\n",
       "\n",
       "    .dataframe tbody tr th {\n",
       "        vertical-align: top;\n",
       "    }\n",
       "\n",
       "    .dataframe thead th {\n",
       "        text-align: right;\n",
       "    }\n",
       "</style>\n",
       "<table border=\"1\" class=\"dataframe\">\n",
       "  <thead>\n",
       "    <tr style=\"text-align: right;\">\n",
       "      <th></th>\n",
       "      <th>회사ID</th>\n",
       "      <th>연매출액</th>\n",
       "      <th>년도</th>\n",
       "      <th>월</th>\n",
       "      <th>월별_연금보험료</th>\n",
       "      <th>월별_직원수</th>\n",
       "      <th>1인당 매출액</th>\n",
       "      <th>1인당 연금보혐료</th>\n",
       "      <th>매출액 대비 연금보혐료</th>\n",
       "      <th>1인당 연금보험료</th>\n",
       "      <th>매출액 대비 연금보험료</th>\n",
       "    </tr>\n",
       "  </thead>\n",
       "  <tbody>\n",
       "    <tr>\n",
       "      <th>56431</th>\n",
       "      <td>570867</td>\n",
       "      <td>1500</td>\n",
       "      <td>2019</td>\n",
       "      <td>2</td>\n",
       "      <td>1931400</td>\n",
       "      <td>9</td>\n",
       "      <td>166.666667</td>\n",
       "      <td>214600.0</td>\n",
       "      <td>1287.60000</td>\n",
       "      <td>214600.0</td>\n",
       "      <td>1287.60000</td>\n",
       "    </tr>\n",
       "    <tr>\n",
       "      <th>89748</th>\n",
       "      <td>81619</td>\n",
       "      <td>507</td>\n",
       "      <td>2018</td>\n",
       "      <td>10</td>\n",
       "      <td>1468800</td>\n",
       "      <td>4</td>\n",
       "      <td>126.750000</td>\n",
       "      <td>367200.0</td>\n",
       "      <td>2897.04142</td>\n",
       "      <td>367200.0</td>\n",
       "      <td>2897.04142</td>\n",
       "    </tr>\n",
       "    <tr>\n",
       "      <th>94322</th>\n",
       "      <td>566173</td>\n",
       "      <td>300</td>\n",
       "      <td>2018</td>\n",
       "      <td>11</td>\n",
       "      <td>1125000</td>\n",
       "      <td>4</td>\n",
       "      <td>75.000000</td>\n",
       "      <td>281250.0</td>\n",
       "      <td>3750.00000</td>\n",
       "      <td>281250.0</td>\n",
       "      <td>3750.00000</td>\n",
       "    </tr>\n",
       "  </tbody>\n",
       "</table>\n",
       "</div>"
      ],
      "text/plain": [
       "         회사ID  연매출액    년도   월  월별_연금보험료  월별_직원수     1인당 매출액  1인당 연금보혐료  \\\n",
       "56431  570867  1500  2019   2   1931400       9  166.666667   214600.0   \n",
       "89748   81619   507  2018  10   1468800       4  126.750000   367200.0   \n",
       "94322  566173   300  2018  11   1125000       4   75.000000   281250.0   \n",
       "\n",
       "       매출액 대비 연금보혐료  1인당 연금보험료  매출액 대비 연금보험료  \n",
       "56431    1287.60000   214600.0    1287.60000  \n",
       "89748    2897.04142   367200.0    2897.04142  \n",
       "94322    3750.00000   281250.0    3750.00000  "
      ]
     },
     "execution_count": 190,
     "metadata": {},
     "output_type": "execute_result"
    }
   ],
   "source": [
    "data[data['매출액 대비 연금보혐료']>1000].drop_duplicates(subset = '회사ID',keep='last') #중복제거"
   ]
  },
  {
   "cell_type": "markdown",
   "metadata": {},
   "source": [
    "* 연매출액이 1500원인데 연금보험료를 1931400을 낸다?"
   ]
  },
  {
   "cell_type": "markdown",
   "metadata": {},
   "source": [
    "## 4. 외부데이터 활용"
   ]
  },
  {
   "cell_type": "markdown",
   "metadata": {},
   "source": [
    "상장기업의 기업가치(PER), 매출액, 연금보험료, 직원수를 활용해 선형회귀 분석을 진행해볼 예정\n",
    "\n",
    "\n",
    "상장기업 기준 매출액, 연금보험료, 직원수 데이터, PER데이터를 각각 CSV로 구한 후 머지할 계획"
   ]
  },
  {
   "cell_type": "code",
   "execution_count": null,
   "metadata": {},
   "outputs": [],
   "source": []
  },
  {
   "cell_type": "code",
   "execution_count": null,
   "metadata": {},
   "outputs": [],
   "source": []
  },
  {
   "cell_type": "code",
   "execution_count": null,
   "metadata": {},
   "outputs": [],
   "source": []
  }
 ],
 "metadata": {
  "kernelspec": {
   "display_name": "Python 3",
   "language": "python",
   "name": "python3"
  },
  "language_info": {
   "codemirror_mode": {
    "name": "ipython",
    "version": 3
   },
   "file_extension": ".py",
   "mimetype": "text/x-python",
   "name": "python",
   "nbconvert_exporter": "python",
   "pygments_lexer": "ipython3",
   "version": "3.8.3"
  }
 },
 "nbformat": 4,
 "nbformat_minor": 4
}
