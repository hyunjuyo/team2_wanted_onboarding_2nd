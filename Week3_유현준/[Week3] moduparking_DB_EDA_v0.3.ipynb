{
 "cells": [
  {
   "cell_type": "code",
   "execution_count": null,
   "id": "f0e60888",
   "metadata": {},
   "outputs": [],
   "source": []
  },
  {
   "cell_type": "code",
   "execution_count": null,
   "id": "24ee29d5",
   "metadata": {},
   "outputs": [],
   "source": []
  },
  {
   "cell_type": "markdown",
   "id": "84a208c0",
   "metadata": {},
   "source": [
    "# Data 형태 파악 및 Feature별 검토"
   ]
  },
  {
   "cell_type": "markdown",
   "id": "775070da",
   "metadata": {},
   "source": [
    "## Data 형태 파악"
   ]
  },
  {
   "cell_type": "code",
   "execution_count": 88,
   "id": "f8fb0e7f",
   "metadata": {},
   "outputs": [],
   "source": [
    "import pandas as pd\n",
    "import numpy as np\n",
    "import matplotlib.pyplot as plt\n",
    "import seaborn as sns\n",
    "from sklearn.ensemble import RandomForestRegressor\n",
    "from sklearn.model_selection import train_test_split\n",
    "from sklearn.metrics import mean_squared_error\n",
    "from sklearn.metrics import mean_absolute_error"
   ]
  },
  {
   "cell_type": "code",
   "execution_count": 89,
   "id": "f998ad0b",
   "metadata": {},
   "outputs": [],
   "source": [
    "# seaborn 관련 셋팅\n",
    "sns.set_style(\"darkgrid\")\n",
    "sns.set_palette(\"bright\")"
   ]
  },
  {
   "cell_type": "code",
   "execution_count": 90,
   "id": "a9f38e37",
   "metadata": {},
   "outputs": [
    {
     "data": {
      "text/html": [
       "<div>\n",
       "<style scoped>\n",
       "    .dataframe tbody tr th:only-of-type {\n",
       "        vertical-align: middle;\n",
       "    }\n",
       "\n",
       "    .dataframe tbody tr th {\n",
       "        vertical-align: top;\n",
       "    }\n",
       "\n",
       "    .dataframe thead th {\n",
       "        text-align: right;\n",
       "    }\n",
       "</style>\n",
       "<table border=\"1\" class=\"dataframe\">\n",
       "  <thead>\n",
       "    <tr style=\"text-align: right;\">\n",
       "      <th></th>\n",
       "      <th>USER_ID</th>\n",
       "      <th>JOIN_DATE</th>\n",
       "      <th>D_TYPE</th>\n",
       "      <th>STORE_ID</th>\n",
       "      <th>GOODS_TYPE</th>\n",
       "      <th>DATE</th>\n",
       "      <th>COUNT</th>\n",
       "      <th>AD1</th>\n",
       "    </tr>\n",
       "  </thead>\n",
       "  <tbody>\n",
       "    <tr>\n",
       "      <th>0</th>\n",
       "      <td>2858</td>\n",
       "      <td>2014-01-07</td>\n",
       "      <td>AA</td>\n",
       "      <td>1892</td>\n",
       "      <td>A</td>\n",
       "      <td>2020-01-01</td>\n",
       "      <td>1</td>\n",
       "      <td>GN</td>\n",
       "    </tr>\n",
       "    <tr>\n",
       "      <th>1</th>\n",
       "      <td>5647</td>\n",
       "      <td>2014-02-14</td>\n",
       "      <td>BB</td>\n",
       "      <td>182009</td>\n",
       "      <td>A</td>\n",
       "      <td>2020-01-01</td>\n",
       "      <td>1</td>\n",
       "      <td>J</td>\n",
       "    </tr>\n",
       "    <tr>\n",
       "      <th>2</th>\n",
       "      <td>33314</td>\n",
       "      <td>2014-11-20</td>\n",
       "      <td>BB</td>\n",
       "      <td>82431</td>\n",
       "      <td>A</td>\n",
       "      <td>2020-01-01</td>\n",
       "      <td>1</td>\n",
       "      <td>SC</td>\n",
       "    </tr>\n",
       "    <tr>\n",
       "      <th>3</th>\n",
       "      <td>37001</td>\n",
       "      <td>2014-12-04</td>\n",
       "      <td>BB</td>\n",
       "      <td>725</td>\n",
       "      <td>C</td>\n",
       "      <td>2020-01-01</td>\n",
       "      <td>1</td>\n",
       "      <td>MP</td>\n",
       "    </tr>\n",
       "    <tr>\n",
       "      <th>4</th>\n",
       "      <td>37819</td>\n",
       "      <td>2014-12-07</td>\n",
       "      <td>AA</td>\n",
       "      <td>220691</td>\n",
       "      <td>C</td>\n",
       "      <td>2020-01-01</td>\n",
       "      <td>1</td>\n",
       "      <td>JRR</td>\n",
       "    </tr>\n",
       "    <tr>\n",
       "      <th>...</th>\n",
       "      <td>...</td>\n",
       "      <td>...</td>\n",
       "      <td>...</td>\n",
       "      <td>...</td>\n",
       "      <td>...</td>\n",
       "      <td>...</td>\n",
       "      <td>...</td>\n",
       "      <td>...</td>\n",
       "    </tr>\n",
       "    <tr>\n",
       "      <th>879266</th>\n",
       "      <td>1830551</td>\n",
       "      <td>2020-12-31</td>\n",
       "      <td>BB</td>\n",
       "      <td>219886</td>\n",
       "      <td>B</td>\n",
       "      <td>2020-12-31</td>\n",
       "      <td>1</td>\n",
       "      <td>GN</td>\n",
       "    </tr>\n",
       "    <tr>\n",
       "      <th>879267</th>\n",
       "      <td>1830570</td>\n",
       "      <td>2020-12-31</td>\n",
       "      <td>BB</td>\n",
       "      <td>82433</td>\n",
       "      <td>B</td>\n",
       "      <td>2020-12-31</td>\n",
       "      <td>1</td>\n",
       "      <td>CY</td>\n",
       "    </tr>\n",
       "    <tr>\n",
       "      <th>879268</th>\n",
       "      <td>1830580</td>\n",
       "      <td>2020-12-31</td>\n",
       "      <td>AA</td>\n",
       "      <td>92020</td>\n",
       "      <td>B</td>\n",
       "      <td>2020-12-31</td>\n",
       "      <td>1</td>\n",
       "      <td>JRR</td>\n",
       "    </tr>\n",
       "    <tr>\n",
       "      <th>879269</th>\n",
       "      <td>1830589</td>\n",
       "      <td>2020-12-31</td>\n",
       "      <td>BB</td>\n",
       "      <td>92437</td>\n",
       "      <td>B</td>\n",
       "      <td>2020-12-31</td>\n",
       "      <td>1</td>\n",
       "      <td>J</td>\n",
       "    </tr>\n",
       "    <tr>\n",
       "      <th>879270</th>\n",
       "      <td>1830598</td>\n",
       "      <td>2020-12-31</td>\n",
       "      <td>AA</td>\n",
       "      <td>220959</td>\n",
       "      <td>B</td>\n",
       "      <td>2020-12-31</td>\n",
       "      <td>1</td>\n",
       "      <td>SC</td>\n",
       "    </tr>\n",
       "  </tbody>\n",
       "</table>\n",
       "<p>879271 rows × 8 columns</p>\n",
       "</div>"
      ],
      "text/plain": [
       "        USER_ID   JOIN_DATE D_TYPE  STORE_ID GOODS_TYPE        DATE  COUNT  \\\n",
       "0          2858  2014-01-07     AA      1892          A  2020-01-01      1   \n",
       "1          5647  2014-02-14     BB    182009          A  2020-01-01      1   \n",
       "2         33314  2014-11-20     BB     82431          A  2020-01-01      1   \n",
       "3         37001  2014-12-04     BB       725          C  2020-01-01      1   \n",
       "4         37819  2014-12-07     AA    220691          C  2020-01-01      1   \n",
       "...         ...         ...    ...       ...        ...         ...    ...   \n",
       "879266  1830551  2020-12-31     BB    219886          B  2020-12-31      1   \n",
       "879267  1830570  2020-12-31     BB     82433          B  2020-12-31      1   \n",
       "879268  1830580  2020-12-31     AA     92020          B  2020-12-31      1   \n",
       "879269  1830589  2020-12-31     BB     92437          B  2020-12-31      1   \n",
       "879270  1830598  2020-12-31     AA    220959          B  2020-12-31      1   \n",
       "\n",
       "        AD1  \n",
       "0        GN  \n",
       "1         J  \n",
       "2        SC  \n",
       "3        MP  \n",
       "4       JRR  \n",
       "...     ...  \n",
       "879266   GN  \n",
       "879267   CY  \n",
       "879268  JRR  \n",
       "879269    J  \n",
       "879270   SC  \n",
       "\n",
       "[879271 rows x 8 columns]"
      ]
     },
     "execution_count": 90,
     "metadata": {},
     "output_type": "execute_result"
    }
   ],
   "source": [
    "df = pd.read_csv(\"./data/실전db.csv\")\n",
    "df"
   ]
  },
  {
   "cell_type": "code",
   "execution_count": 91,
   "id": "cd876fd5",
   "metadata": {},
   "outputs": [],
   "source": [
    "# 서울시 기상데이터 불러오기\n",
    "#weather_df = pd.read_csv(\"./data/서울시_기상데이터.csv\", encoding=\"cp949\")  # 한글 관련 인코딩 설정\n",
    "#weather_df"
   ]
  },
  {
   "cell_type": "code",
   "execution_count": 92,
   "id": "3607cb99",
   "metadata": {},
   "outputs": [],
   "source": [
    "# 연월일 Column 추가 및 datetime 형태로 날짜 정보 저장\n",
    "#weather_df[\"연월일\"] = pd.to_datetime(weather_df[\"일시\"].str[:10])\n",
    "#weather_df"
   ]
  },
  {
   "cell_type": "code",
   "execution_count": 93,
   "id": "6e374737",
   "metadata": {},
   "outputs": [],
   "source": [
    "#traffic_df = pd.read_excel(\"./data/2020교통량통합.xlsx\", engine=\"openpyxl\")\n",
    "#traffic_df"
   ]
  },
  {
   "cell_type": "code",
   "execution_count": 94,
   "id": "71ccc306",
   "metadata": {},
   "outputs": [
    {
     "name": "stdout",
     "output_type": "stream",
     "text": [
      "<class 'pandas.core.frame.DataFrame'>\n",
      "RangeIndex: 879271 entries, 0 to 879270\n",
      "Data columns (total 8 columns):\n",
      " #   Column      Non-Null Count   Dtype \n",
      "---  ------      --------------   ----- \n",
      " 0   USER_ID     879271 non-null  int64 \n",
      " 1   JOIN_DATE   879271 non-null  object\n",
      " 2   D_TYPE      879271 non-null  object\n",
      " 3   STORE_ID    879271 non-null  int64 \n",
      " 4   GOODS_TYPE  879271 non-null  object\n",
      " 5   DATE        879271 non-null  object\n",
      " 6   COUNT       879271 non-null  int64 \n",
      " 7   AD1         879271 non-null  object\n",
      "dtypes: int64(3), object(5)\n",
      "memory usage: 53.7+ MB\n"
     ]
    }
   ],
   "source": [
    "df.info()"
   ]
  },
  {
   "cell_type": "markdown",
   "id": "a60ce285",
   "metadata": {},
   "source": [
    "> => 날짜 정보의 datatype이 object로 되어 있으므로, datetime으로 변환해주고자 함"
   ]
  },
  {
   "cell_type": "markdown",
   "id": "c3b523fb",
   "metadata": {},
   "source": [
    "### 날짜 정보 datatype 변환 후 데이터프레임 저장 => \"df_v1\""
   ]
  },
  {
   "cell_type": "code",
   "execution_count": 95,
   "id": "c9267090",
   "metadata": {},
   "outputs": [
    {
     "name": "stdout",
     "output_type": "stream",
     "text": [
      "<class 'pandas.core.frame.DataFrame'>\n",
      "RangeIndex: 879271 entries, 0 to 879270\n",
      "Data columns (total 8 columns):\n",
      " #   Column      Non-Null Count   Dtype         \n",
      "---  ------      --------------   -----         \n",
      " 0   USER_ID     879271 non-null  int64         \n",
      " 1   JOIN_DATE   879271 non-null  datetime64[ns]\n",
      " 2   D_TYPE      879271 non-null  object        \n",
      " 3   STORE_ID    879271 non-null  int64         \n",
      " 4   GOODS_TYPE  879271 non-null  object        \n",
      " 5   DATE        879271 non-null  datetime64[ns]\n",
      " 6   COUNT       879271 non-null  int64         \n",
      " 7   AD1         879271 non-null  object        \n",
      "dtypes: datetime64[ns](2), int64(3), object(3)\n",
      "memory usage: 53.7+ MB\n"
     ]
    }
   ],
   "source": [
    "df_v1 = df.copy()\n",
    "df_v1[\"JOIN_DATE\"] = pd.to_datetime(df_v1[\"JOIN_DATE\"])\n",
    "df_v1[\"DATE\"] = pd.to_datetime(df_v1[\"DATE\"])\n",
    "df_v1.info()  # 변환 후 datatype 확인"
   ]
  },
  {
   "cell_type": "markdown",
   "id": "83ab5b3b",
   "metadata": {},
   "source": [
    "## Feature별 검토"
   ]
  },
  {
   "cell_type": "markdown",
   "id": "1b3d5783",
   "metadata": {},
   "source": [
    "### 1) USER_ID"
   ]
  },
  {
   "cell_type": "code",
   "execution_count": 96,
   "id": "3c8aa798",
   "metadata": {},
   "outputs": [
    {
     "data": {
      "text/plain": [
       "165425"
      ]
     },
     "execution_count": 96,
     "metadata": {},
     "output_type": "execute_result"
    }
   ],
   "source": [
    "# 고유한 유저ID 개수 파악 => 165,425개 ID 확인\n",
    "len(df_v1[\"USER_ID\"].unique())"
   ]
  },
  {
   "cell_type": "code",
   "execution_count": 97,
   "id": "0e62c2a0",
   "metadata": {},
   "outputs": [
    {
     "data": {
      "text/plain": [
       "array([  2858,   5647,  33314,  37001,  37819,  45633,  61985,  66488,\n",
       "        71927,  73825,  74429,  80936,  83850,  84907,  88589, 107953,\n",
       "       118732, 125584, 137264, 137602, 138118, 139833, 151196, 156442,\n",
       "       165827, 175466, 176463, 195008, 199009, 256852, 269477, 275578,\n",
       "       276164, 279001, 279687, 285903, 293079, 293127, 302513, 303039,\n",
       "       306181, 309788, 315468, 316603, 316715, 320272, 324808, 343607,\n",
       "       346927, 348613], dtype=int64)"
      ]
     },
     "execution_count": 97,
     "metadata": {},
     "output_type": "execute_result"
    }
   ],
   "source": [
    "df_v1[\"USER_ID\"].unique()[:50]  # 앞쪽 50개 현황 확인"
   ]
  },
  {
   "cell_type": "code",
   "execution_count": 98,
   "id": "92254115",
   "metadata": {},
   "outputs": [
    {
     "data": {
      "text/plain": [
       "array([1829906, 1829909, 1829914, 1829917, 1829934, 1829935, 1829940,\n",
       "       1829950, 1829956, 1829959, 1829962, 1829980, 1829984, 1830011,\n",
       "       1830017, 1830033, 1830105, 1830109, 1830116, 1830122, 1830129,\n",
       "       1830151, 1830174, 1830229, 1830238, 1830258, 1830269, 1830280,\n",
       "       1830291, 1830303, 1830312, 1830317, 1830364, 1830365, 1830367,\n",
       "       1830380, 1830390, 1830405, 1830442, 1830449, 1830468, 1830477,\n",
       "       1830491, 1830534, 1830544, 1830551, 1830570, 1830580, 1830589,\n",
       "       1830598], dtype=int64)"
      ]
     },
     "execution_count": 98,
     "metadata": {},
     "output_type": "execute_result"
    }
   ],
   "source": [
    "df_v1[\"USER_ID\"].unique()[-50:]  # 뒤쪽 50개 현황 확인"
   ]
  },
  {
   "cell_type": "markdown",
   "id": "205ee63b",
   "metadata": {},
   "source": [
    "### 2) JOIN_DATE(가입일)"
   ]
  },
  {
   "cell_type": "markdown",
   "id": "a4d1d62f",
   "metadata": {},
   "source": [
    "#### 연도 기준 확인"
   ]
  },
  {
   "cell_type": "code",
   "execution_count": 99,
   "id": "99d3ace3",
   "metadata": {},
   "outputs": [
    {
     "data": {
      "text/plain": [
       "array([1970, 2013, 2014, 2015, 2016, 2017, 2018, 2019, 2020], dtype=int64)"
      ]
     },
     "execution_count": 99,
     "metadata": {},
     "output_type": "execute_result"
    }
   ],
   "source": [
    "# 가입일 연도 기준, 기간 확인\n",
    "np.sort(df_v1[\"JOIN_DATE\"].dt.year.unique())"
   ]
  },
  {
   "cell_type": "markdown",
   "id": "f7182a4a",
   "metadata": {},
   "source": [
    "> => 2013년 ~ 2020년의 기간이 확인되는 가운데, 동떨어져 보이는 1970년 data가 존재함 확인"
   ]
  },
  {
   "cell_type": "code",
   "execution_count": 100,
   "id": "73958a43",
   "metadata": {},
   "outputs": [
    {
     "data": {
      "text/html": [
       "<div>\n",
       "<style scoped>\n",
       "    .dataframe tbody tr th:only-of-type {\n",
       "        vertical-align: middle;\n",
       "    }\n",
       "\n",
       "    .dataframe tbody tr th {\n",
       "        vertical-align: top;\n",
       "    }\n",
       "\n",
       "    .dataframe thead th {\n",
       "        text-align: right;\n",
       "    }\n",
       "</style>\n",
       "<table border=\"1\" class=\"dataframe\">\n",
       "  <thead>\n",
       "    <tr style=\"text-align: right;\">\n",
       "      <th></th>\n",
       "      <th>USER_ID</th>\n",
       "      <th>JOIN_DATE</th>\n",
       "      <th>D_TYPE</th>\n",
       "      <th>STORE_ID</th>\n",
       "      <th>GOODS_TYPE</th>\n",
       "      <th>DATE</th>\n",
       "      <th>COUNT</th>\n",
       "      <th>AD1</th>\n",
       "    </tr>\n",
       "  </thead>\n",
       "  <tbody>\n",
       "    <tr>\n",
       "      <th>437</th>\n",
       "      <td>1081430</td>\n",
       "      <td>1970-01-01</td>\n",
       "      <td>CC</td>\n",
       "      <td>90070</td>\n",
       "      <td>A</td>\n",
       "      <td>2020-01-01</td>\n",
       "      <td>1</td>\n",
       "      <td>GD</td>\n",
       "    </tr>\n",
       "    <tr>\n",
       "      <th>2196</th>\n",
       "      <td>1410151</td>\n",
       "      <td>1970-01-01</td>\n",
       "      <td>CC</td>\n",
       "      <td>92437</td>\n",
       "      <td>B</td>\n",
       "      <td>2020-01-02</td>\n",
       "      <td>1</td>\n",
       "      <td>J</td>\n",
       "    </tr>\n",
       "    <tr>\n",
       "      <th>2204</th>\n",
       "      <td>1415023</td>\n",
       "      <td>1970-01-01</td>\n",
       "      <td>CC</td>\n",
       "      <td>131081</td>\n",
       "      <td>A</td>\n",
       "      <td>2020-01-02</td>\n",
       "      <td>1</td>\n",
       "      <td>YO</td>\n",
       "    </tr>\n",
       "    <tr>\n",
       "      <th>2434</th>\n",
       "      <td>125582</td>\n",
       "      <td>1970-01-01</td>\n",
       "      <td>CC</td>\n",
       "      <td>91885</td>\n",
       "      <td>A</td>\n",
       "      <td>2020-01-03</td>\n",
       "      <td>1</td>\n",
       "      <td>YD</td>\n",
       "    </tr>\n",
       "    <tr>\n",
       "      <th>2645</th>\n",
       "      <td>602188</td>\n",
       "      <td>1970-01-01</td>\n",
       "      <td>CC</td>\n",
       "      <td>2334</td>\n",
       "      <td>B</td>\n",
       "      <td>2020-01-03</td>\n",
       "      <td>1</td>\n",
       "      <td>MP</td>\n",
       "    </tr>\n",
       "    <tr>\n",
       "      <th>...</th>\n",
       "      <td>...</td>\n",
       "      <td>...</td>\n",
       "      <td>...</td>\n",
       "      <td>...</td>\n",
       "      <td>...</td>\n",
       "      <td>...</td>\n",
       "      <td>...</td>\n",
       "      <td>...</td>\n",
       "    </tr>\n",
       "    <tr>\n",
       "      <th>866536</th>\n",
       "      <td>1723400</td>\n",
       "      <td>1970-01-01</td>\n",
       "      <td>CC</td>\n",
       "      <td>190188</td>\n",
       "      <td>A</td>\n",
       "      <td>2020-12-26</td>\n",
       "      <td>1</td>\n",
       "      <td>JR</td>\n",
       "    </tr>\n",
       "    <tr>\n",
       "      <th>867913</th>\n",
       "      <td>1723400</td>\n",
       "      <td>1970-01-01</td>\n",
       "      <td>CC</td>\n",
       "      <td>190188</td>\n",
       "      <td>A</td>\n",
       "      <td>2020-12-27</td>\n",
       "      <td>1</td>\n",
       "      <td>JR</td>\n",
       "    </tr>\n",
       "    <tr>\n",
       "      <th>868210</th>\n",
       "      <td>1825656</td>\n",
       "      <td>1970-01-01</td>\n",
       "      <td>CC</td>\n",
       "      <td>219936</td>\n",
       "      <td>A</td>\n",
       "      <td>2020-12-27</td>\n",
       "      <td>1</td>\n",
       "      <td>YD</td>\n",
       "    </tr>\n",
       "    <tr>\n",
       "      <th>873707</th>\n",
       "      <td>1828010</td>\n",
       "      <td>1970-01-01</td>\n",
       "      <td>CC</td>\n",
       "      <td>220635</td>\n",
       "      <td>C</td>\n",
       "      <td>2020-12-29</td>\n",
       "      <td>1</td>\n",
       "      <td>GN</td>\n",
       "    </tr>\n",
       "    <tr>\n",
       "      <th>879171</th>\n",
       "      <td>1829458</td>\n",
       "      <td>1970-01-01</td>\n",
       "      <td>CC</td>\n",
       "      <td>137452</td>\n",
       "      <td>A</td>\n",
       "      <td>2020-12-31</td>\n",
       "      <td>1</td>\n",
       "      <td>CY</td>\n",
       "    </tr>\n",
       "  </tbody>\n",
       "</table>\n",
       "<p>1093 rows × 8 columns</p>\n",
       "</div>"
      ],
      "text/plain": [
       "        USER_ID  JOIN_DATE D_TYPE  STORE_ID GOODS_TYPE       DATE  COUNT AD1\n",
       "437     1081430 1970-01-01     CC     90070          A 2020-01-01      1  GD\n",
       "2196    1410151 1970-01-01     CC     92437          B 2020-01-02      1   J\n",
       "2204    1415023 1970-01-01     CC    131081          A 2020-01-02      1  YO\n",
       "2434     125582 1970-01-01     CC     91885          A 2020-01-03      1  YD\n",
       "2645     602188 1970-01-01     CC      2334          B 2020-01-03      1  MP\n",
       "...         ...        ...    ...       ...        ...        ...    ...  ..\n",
       "866536  1723400 1970-01-01     CC    190188          A 2020-12-26      1  JR\n",
       "867913  1723400 1970-01-01     CC    190188          A 2020-12-27      1  JR\n",
       "868210  1825656 1970-01-01     CC    219936          A 2020-12-27      1  YD\n",
       "873707  1828010 1970-01-01     CC    220635          C 2020-12-29      1  GN\n",
       "879171  1829458 1970-01-01     CC    137452          A 2020-12-31      1  CY\n",
       "\n",
       "[1093 rows x 8 columns]"
      ]
     },
     "execution_count": 100,
     "metadata": {},
     "output_type": "execute_result"
    }
   ],
   "source": [
    "# 1970년 data 내역 확인 => 총 1093건 존재함\n",
    "df_v1.query(\"JOIN_DATE <= '1970-12-31'\")"
   ]
  },
  {
   "cell_type": "code",
   "execution_count": 101,
   "id": "163938e6",
   "metadata": {},
   "outputs": [
    {
     "data": {
      "text/plain": [
       "array(['1970-01-01T00:00:00.000000000'], dtype='datetime64[ns]')"
      ]
     },
     "execution_count": 101,
     "metadata": {},
     "output_type": "execute_result"
    }
   ],
   "source": [
    "# 1970년에 해당하는 1093건의 날짜 data 고유한 값 리스트 확인 => 모든 data가 \"1970년 1월 1일\"로 입력되어 있는 것을 확인\n",
    "df_v1.query(\"JOIN_DATE <= '1970-12-31'\")[\"JOIN_DATE\"].unique()"
   ]
  },
  {
   "cell_type": "markdown",
   "id": "0c85cc68",
   "metadata": {},
   "source": [
    "> => 아마도, 유저의 가입일 정보가 없는 data에 대해 일괄적으로 \"1970-01-01\"이 입력된 것으로 추정됨"
   ]
  },
  {
   "cell_type": "code",
   "execution_count": 102,
   "id": "81ec74ed",
   "metadata": {},
   "outputs": [
    {
     "data": {
      "text/plain": [
       "264"
      ]
     },
     "execution_count": 102,
     "metadata": {},
     "output_type": "execute_result"
    }
   ],
   "source": [
    "# 해당되는 USER_ID 개수 확인 => 총 264개 확인\n",
    "len(df_v1.query(\"JOIN_DATE <= '1970-12-31'\")[\"USER_ID\"].unique())"
   ]
  },
  {
   "cell_type": "code",
   "execution_count": 103,
   "id": "b41a3330",
   "metadata": {},
   "outputs": [
    {
     "name": "stdout",
     "output_type": "stream",
     "text": [
      "총 165425개의 'USER_ID' 중, 'JOIN_DATE'값이 1개가 아닌 'USER_ID' 개수 => 0개\n"
     ]
    }
   ],
   "source": [
    "# 점검을 위해 모든 USER_ID에 대해 JOIN_DATE가 각각 1개씩만 존재하는지 확인함 => 모두 1개씩만 존재함 확인 완료\n",
    "\n",
    "total = 0\n",
    "count = 0\n",
    "for k, v in df_v1.groupby(\"USER_ID\")[\"JOIN_DATE\"]:\n",
    "    total += 1\n",
    "    if len(set(v.values)) != 1:\n",
    "        print(k, len(set(v.values)))\n",
    "        count += 1\n",
    "\n",
    "print(f\"총 {total}개의 'USER_ID' 중, 'JOIN_DATE'값이 1개가 아닌 'USER_ID' 개수 => {count}개\")"
   ]
  },
  {
   "cell_type": "markdown",
   "id": "99fbee4a",
   "metadata": {},
   "source": [
    "#### 월 기준 확인"
   ]
  },
  {
   "cell_type": "code",
   "execution_count": 104,
   "id": "93c419a7",
   "metadata": {},
   "outputs": [
    {
     "name": "stdout",
     "output_type": "stream",
     "text": [
      "1970 [1]\n",
      "2013 [12]\n",
      "2014 [ 1  2  3  4  5  6  7  8  9 10 11 12]\n",
      "2015 [ 1  2  3  4  5  6  7  8  9 10 11 12]\n",
      "2016 [ 1  2  3  4  5  6  7  8  9 10 11 12]\n",
      "2017 [ 1  2  3  4  5  6  7  8  9 10 11 12]\n",
      "2018 [ 1  2  3  4  5  6  7  8  9 10 11 12]\n",
      "2019 [ 1  2  3  4  5  6  7  8  9 10 11 12]\n",
      "2020 [ 1  2  3  4  5  6  7  8  9 10 11 12]\n"
     ]
    }
   ],
   "source": [
    "# 가입일 연도별 존재하는 월 정보 확인\n",
    "for year_v in np.sort(df_v1[\"JOIN_DATE\"].dt.year.unique()):\n",
    "    temp_df = df_v1[df_v1[\"JOIN_DATE\"].dt.year == year_v]\n",
    "    month_list = np.sort(temp_df[\"JOIN_DATE\"].dt.month.unique())\n",
    "    print(year_v, month_list)"
   ]
  },
  {
   "cell_type": "markdown",
   "id": "c9e56862",
   "metadata": {},
   "source": [
    "> => 1970년을 제외하면, 2013년 12월을 시작으로 2020년 12월까지 매월 data가 존재하는 것을 확인함\n",
    "\n",
    "> => 참조로 모두의주차장 서비스 관련 정보 검색 결과, 해당 서비스 론칭시점이 2013년 12월인 것을 확인함"
   ]
  },
  {
   "cell_type": "markdown",
   "id": "ccb5e99e",
   "metadata": {},
   "source": [
    "#### 가입연도별 분포 시각화"
   ]
  },
  {
   "cell_type": "code",
   "execution_count": 105,
   "id": "a33f70ce",
   "metadata": {},
   "outputs": [
    {
     "data": {
      "text/html": [
       "<div>\n",
       "<style scoped>\n",
       "    .dataframe tbody tr th:only-of-type {\n",
       "        vertical-align: middle;\n",
       "    }\n",
       "\n",
       "    .dataframe tbody tr th {\n",
       "        vertical-align: top;\n",
       "    }\n",
       "\n",
       "    .dataframe thead th {\n",
       "        text-align: right;\n",
       "    }\n",
       "</style>\n",
       "<table border=\"1\" class=\"dataframe\">\n",
       "  <thead>\n",
       "    <tr style=\"text-align: right;\">\n",
       "      <th></th>\n",
       "      <th>USER_ID</th>\n",
       "      <th>JOIN_DATE</th>\n",
       "      <th>D_TYPE</th>\n",
       "      <th>STORE_ID</th>\n",
       "      <th>GOODS_TYPE</th>\n",
       "      <th>DATE</th>\n",
       "      <th>COUNT</th>\n",
       "      <th>AD1</th>\n",
       "      <th>JOIN_YEAR</th>\n",
       "    </tr>\n",
       "  </thead>\n",
       "  <tbody>\n",
       "    <tr>\n",
       "      <th>0</th>\n",
       "      <td>2858</td>\n",
       "      <td>2014-01-07</td>\n",
       "      <td>AA</td>\n",
       "      <td>1892</td>\n",
       "      <td>A</td>\n",
       "      <td>2020-01-01</td>\n",
       "      <td>1</td>\n",
       "      <td>GN</td>\n",
       "      <td>2014</td>\n",
       "    </tr>\n",
       "    <tr>\n",
       "      <th>1</th>\n",
       "      <td>5647</td>\n",
       "      <td>2014-02-14</td>\n",
       "      <td>BB</td>\n",
       "      <td>182009</td>\n",
       "      <td>A</td>\n",
       "      <td>2020-01-01</td>\n",
       "      <td>1</td>\n",
       "      <td>J</td>\n",
       "      <td>2014</td>\n",
       "    </tr>\n",
       "    <tr>\n",
       "      <th>2</th>\n",
       "      <td>33314</td>\n",
       "      <td>2014-11-20</td>\n",
       "      <td>BB</td>\n",
       "      <td>82431</td>\n",
       "      <td>A</td>\n",
       "      <td>2020-01-01</td>\n",
       "      <td>1</td>\n",
       "      <td>SC</td>\n",
       "      <td>2014</td>\n",
       "    </tr>\n",
       "    <tr>\n",
       "      <th>3</th>\n",
       "      <td>37001</td>\n",
       "      <td>2014-12-04</td>\n",
       "      <td>BB</td>\n",
       "      <td>725</td>\n",
       "      <td>C</td>\n",
       "      <td>2020-01-01</td>\n",
       "      <td>1</td>\n",
       "      <td>MP</td>\n",
       "      <td>2014</td>\n",
       "    </tr>\n",
       "    <tr>\n",
       "      <th>4</th>\n",
       "      <td>37819</td>\n",
       "      <td>2014-12-07</td>\n",
       "      <td>AA</td>\n",
       "      <td>220691</td>\n",
       "      <td>C</td>\n",
       "      <td>2020-01-01</td>\n",
       "      <td>1</td>\n",
       "      <td>JRR</td>\n",
       "      <td>2014</td>\n",
       "    </tr>\n",
       "    <tr>\n",
       "      <th>...</th>\n",
       "      <td>...</td>\n",
       "      <td>...</td>\n",
       "      <td>...</td>\n",
       "      <td>...</td>\n",
       "      <td>...</td>\n",
       "      <td>...</td>\n",
       "      <td>...</td>\n",
       "      <td>...</td>\n",
       "      <td>...</td>\n",
       "    </tr>\n",
       "    <tr>\n",
       "      <th>879266</th>\n",
       "      <td>1830551</td>\n",
       "      <td>2020-12-31</td>\n",
       "      <td>BB</td>\n",
       "      <td>219886</td>\n",
       "      <td>B</td>\n",
       "      <td>2020-12-31</td>\n",
       "      <td>1</td>\n",
       "      <td>GN</td>\n",
       "      <td>2020</td>\n",
       "    </tr>\n",
       "    <tr>\n",
       "      <th>879267</th>\n",
       "      <td>1830570</td>\n",
       "      <td>2020-12-31</td>\n",
       "      <td>BB</td>\n",
       "      <td>82433</td>\n",
       "      <td>B</td>\n",
       "      <td>2020-12-31</td>\n",
       "      <td>1</td>\n",
       "      <td>CY</td>\n",
       "      <td>2020</td>\n",
       "    </tr>\n",
       "    <tr>\n",
       "      <th>879268</th>\n",
       "      <td>1830580</td>\n",
       "      <td>2020-12-31</td>\n",
       "      <td>AA</td>\n",
       "      <td>92020</td>\n",
       "      <td>B</td>\n",
       "      <td>2020-12-31</td>\n",
       "      <td>1</td>\n",
       "      <td>JRR</td>\n",
       "      <td>2020</td>\n",
       "    </tr>\n",
       "    <tr>\n",
       "      <th>879269</th>\n",
       "      <td>1830589</td>\n",
       "      <td>2020-12-31</td>\n",
       "      <td>BB</td>\n",
       "      <td>92437</td>\n",
       "      <td>B</td>\n",
       "      <td>2020-12-31</td>\n",
       "      <td>1</td>\n",
       "      <td>J</td>\n",
       "      <td>2020</td>\n",
       "    </tr>\n",
       "    <tr>\n",
       "      <th>879270</th>\n",
       "      <td>1830598</td>\n",
       "      <td>2020-12-31</td>\n",
       "      <td>AA</td>\n",
       "      <td>220959</td>\n",
       "      <td>B</td>\n",
       "      <td>2020-12-31</td>\n",
       "      <td>1</td>\n",
       "      <td>SC</td>\n",
       "      <td>2020</td>\n",
       "    </tr>\n",
       "  </tbody>\n",
       "</table>\n",
       "<p>879271 rows × 9 columns</p>\n",
       "</div>"
      ],
      "text/plain": [
       "        USER_ID  JOIN_DATE D_TYPE  STORE_ID GOODS_TYPE       DATE  COUNT  AD1  \\\n",
       "0          2858 2014-01-07     AA      1892          A 2020-01-01      1   GN   \n",
       "1          5647 2014-02-14     BB    182009          A 2020-01-01      1    J   \n",
       "2         33314 2014-11-20     BB     82431          A 2020-01-01      1   SC   \n",
       "3         37001 2014-12-04     BB       725          C 2020-01-01      1   MP   \n",
       "4         37819 2014-12-07     AA    220691          C 2020-01-01      1  JRR   \n",
       "...         ...        ...    ...       ...        ...        ...    ...  ...   \n",
       "879266  1830551 2020-12-31     BB    219886          B 2020-12-31      1   GN   \n",
       "879267  1830570 2020-12-31     BB     82433          B 2020-12-31      1   CY   \n",
       "879268  1830580 2020-12-31     AA     92020          B 2020-12-31      1  JRR   \n",
       "879269  1830589 2020-12-31     BB     92437          B 2020-12-31      1    J   \n",
       "879270  1830598 2020-12-31     AA    220959          B 2020-12-31      1   SC   \n",
       "\n",
       "        JOIN_YEAR  \n",
       "0            2014  \n",
       "1            2014  \n",
       "2            2014  \n",
       "3            2014  \n",
       "4            2014  \n",
       "...           ...  \n",
       "879266       2020  \n",
       "879267       2020  \n",
       "879268       2020  \n",
       "879269       2020  \n",
       "879270       2020  \n",
       "\n",
       "[879271 rows x 9 columns]"
      ]
     },
     "execution_count": 105,
     "metadata": {},
     "output_type": "execute_result"
    }
   ],
   "source": [
    "# 가입일 연도 Column 별도 생성 => \"df_v1_1\"\n",
    "df_v1_1 = df_v1.copy()\n",
    "df_v1_1[\"JOIN_YEAR\"] = df_v1_1[\"JOIN_DATE\"].dt.year\n",
    "df_v1_1"
   ]
  },
  {
   "cell_type": "code",
   "execution_count": 106,
   "id": "6d6f7c43",
   "metadata": {},
   "outputs": [
    {
     "data": {
      "text/plain": [
       "<AxesSubplot:xlabel='JOIN_YEAR', ylabel='count'>"
      ]
     },
     "execution_count": 106,
     "metadata": {},
     "output_type": "execute_result"
    },
    {
     "data": {
      "image/png": "[encoded data removed]",
      "text/plain": [
       "<Figure size 432x288 with 1 Axes>"
      ]
     },
     "metadata": {},
     "output_type": "display_data"
    }
   ],
   "source": [
    "# 가입연도 기준 이용건수 분포 시각화\n",
    "sns.countplot(data=df_v1_1, x=\"JOIN_YEAR\")"
   ]
  },
  {
   "cell_type": "markdown",
   "id": "151053f9",
   "metadata": {},
   "source": [
    "> => 최근에 가입한 이용자일수록 2020년 연간 이용건수도 많음을 확인함"
   ]
  },
  {
   "cell_type": "code",
   "execution_count": 107,
   "id": "190643b3",
   "metadata": {},
   "outputs": [
    {
     "name": "stdout",
     "output_type": "stream",
     "text": [
      "[264, 9, 549, 2679, 5796, 13500, 22936, 42124, 77568] => 총 165425명\n"
     ]
    },
    {
     "data": {
      "image/png": "[encoded data removed]",
      "text/plain": [
       "<Figure size 432x288 with 1 Axes>"
      ]
     },
     "metadata": {},
     "output_type": "display_data"
    }
   ],
   "source": [
    "# 참조로, 연도별 신규 가입한 이용자수 현황도 추가 확인\n",
    "join_count = df_v1_1.groupby(\"JOIN_YEAR\")[\"USER_ID\"].unique()\n",
    "x = join_count.index\n",
    "y = []\n",
    "\n",
    "for v in join_count:\n",
    "    y.append(len(v))\n",
    "\n",
    "sns.barplot(x=x, y=y)\n",
    "print(y, f\"=> 총 {np.sum(y)}명\")"
   ]
  },
  {
   "cell_type": "markdown",
   "id": "253b127a",
   "metadata": {},
   "source": [
    "> => 연도별로 신규 가입한 이용자수 또한 지속적으로 상승하는 추세인 것을 확인함(2020년 신규 가입자수 : 77,568명)"
   ]
  },
  {
   "cell_type": "markdown",
   "id": "ca80e388",
   "metadata": {},
   "source": [
    "### 3) D_TYPE"
   ]
  },
  {
   "cell_type": "code",
   "execution_count": 108,
   "id": "651bc4b1",
   "metadata": {},
   "outputs": [
    {
     "data": {
      "text/plain": [
       "array(['AA', 'BB', 'CC'], dtype=object)"
      ]
     },
     "execution_count": 108,
     "metadata": {},
     "output_type": "execute_result"
    }
   ],
   "source": [
    "# 고유한 값 확인 => 3가지 타입 존재함 확인\n",
    "df_v1_1[\"D_TYPE\"].unique()"
   ]
  },
  {
   "cell_type": "code",
   "execution_count": 109,
   "id": "68d4756b",
   "metadata": {},
   "outputs": [
    {
     "data": {
      "text/plain": [
       "<AxesSubplot:xlabel='D_TYPE', ylabel='count'>"
      ]
     },
     "execution_count": 109,
     "metadata": {},
     "output_type": "execute_result"
    },
    {
     "data": {
      "image/png": "[encoded data removed]",
      "text/plain": [
       "<Figure size 432x288 with 1 Axes>"
      ]
     },
     "metadata": {},
     "output_type": "display_data"
    }
   ],
   "source": [
    "sns.countplot(data=df_v1_1, x=\"D_TYPE\")"
   ]
  },
  {
   "cell_type": "code",
   "execution_count": 110,
   "id": "3ba71ddc",
   "metadata": {},
   "outputs": [
    {
     "data": {
      "text/plain": [
       "AA    493166\n",
       "BB    384541\n",
       "CC      1564\n",
       "Name: D_TYPE, dtype: int64"
      ]
     },
     "execution_count": 110,
     "metadata": {},
     "output_type": "execute_result"
    }
   ],
   "source": [
    "df_v1_1[\"D_TYPE\"].value_counts()"
   ]
  },
  {
   "cell_type": "markdown",
   "id": "f8f9fe7f",
   "metadata": {},
   "source": [
    "> => \"AA\"와 \"BB\" 건이 대부분이며, \"CC\" 건은 전체 대비 매우 적은 규모인 것을 확인함"
   ]
  },
  {
   "cell_type": "code",
   "execution_count": 111,
   "id": "9111184a",
   "metadata": {},
   "outputs": [
    {
     "name": "stdout",
     "output_type": "stream",
     "text": [
      "'D_TYPE'이 1개가 아닌 'USER_ID'의 개수 => 총 0개 확인 완료!\n"
     ]
    }
   ],
   "source": [
    "# \"USER_ID\"별로 \"D_TYPE\"의 개수 체크해보기 => 두 Feature간 1대1로 매핑되어 있음을 확인\n",
    "count_dtype = 0\n",
    "for v in df_v1_1.groupby(\"USER_ID\"):\n",
    "    id_v, info_v = v\n",
    "    v1 = info_v[\"D_TYPE\"]\n",
    "    if len(v1.unique()) != 1:\n",
    "        print(f\"{id_v} => {v1.unique()}\")\n",
    "        count_dtype += 1\n",
    "\n",
    "print(f\"'D_TYPE'이 1개가 아닌 'USER_ID'의 개수 => 총 {count_dtype}개 확인 완료!\")"
   ]
  },
  {
   "cell_type": "markdown",
   "id": "49496c4a",
   "metadata": {},
   "source": [
    "> => \"AA\", \"BB\", \"CC\"가 어떤 의미인지는 명확하지 않으나, 특정 기준으로 USER들을 분류해놓은 USER그룹이라는 점 판단 가능"
   ]
  },
  {
   "cell_type": "markdown",
   "id": "7cecd535",
   "metadata": {},
   "source": [
    "### 4) STORE_ID"
   ]
  },
  {
   "cell_type": "code",
   "execution_count": 112,
   "id": "0249eb14",
   "metadata": {},
   "outputs": [
    {
     "data": {
      "text/plain": [
       "1061"
      ]
     },
     "execution_count": 112,
     "metadata": {},
     "output_type": "execute_result"
    }
   ],
   "source": [
    "# 고유한 STORE_ID 개수 확인 => 총 1061개 존재함 확인\n",
    "len(df_v1_1[\"STORE_ID\"].unique())"
   ]
  },
  {
   "cell_type": "markdown",
   "id": "11f5e190",
   "metadata": {},
   "source": [
    "### 5) GOODS_TYPE"
   ]
  },
  {
   "cell_type": "code",
   "execution_count": 113,
   "id": "2f1754aa",
   "metadata": {},
   "outputs": [
    {
     "data": {
      "text/plain": [
       "array(['A', 'B', 'C', 'D'], dtype=object)"
      ]
     },
     "execution_count": 113,
     "metadata": {},
     "output_type": "execute_result"
    }
   ],
   "source": [
    "# GOODS_TYPE 내역 확인 => A, B, C, D 총 4개의 타입이 존재함 확인\n",
    "np.sort(df_v1_1[\"GOODS_TYPE\"].unique())"
   ]
  },
  {
   "cell_type": "code",
   "execution_count": 114,
   "id": "82acb43e",
   "metadata": {},
   "outputs": [
    {
     "data": {
      "text/plain": [
       "<AxesSubplot:xlabel='GOODS_TYPE', ylabel='count'>"
      ]
     },
     "execution_count": 114,
     "metadata": {},
     "output_type": "execute_result"
    },
    {
     "data": {
      "image/png": "[encoded data removed]",
      "text/plain": [
       "<Figure size 432x288 with 1 Axes>"
      ]
     },
     "metadata": {},
     "output_type": "display_data"
    }
   ],
   "source": [
    "sns.countplot(data=df_v1_1, x=\"GOODS_TYPE\")"
   ]
  },
  {
   "cell_type": "code",
   "execution_count": 115,
   "id": "9e9996ee",
   "metadata": {},
   "outputs": [
    {
     "data": {
      "text/plain": [
       "A    609790\n",
       "C    131163\n",
       "B    118541\n",
       "D     19777\n",
       "Name: GOODS_TYPE, dtype: int64"
      ]
     },
     "execution_count": 115,
     "metadata": {},
     "output_type": "execute_result"
    }
   ],
   "source": [
    "df_v1_1[\"GOODS_TYPE\"].value_counts()"
   ]
  },
  {
   "cell_type": "markdown",
   "id": "c9844c16",
   "metadata": {},
   "source": [
    "> => A가 가장 큰 비중을 차지하며, C와 B는 상대적으로 비슷한 수준이고 D가 가장 적은 비중을 차지함 확인"
   ]
  },
  {
   "cell_type": "markdown",
   "id": "affd5c8b",
   "metadata": {},
   "source": [
    "### 6) DATE(결제일)"
   ]
  },
  {
   "cell_type": "code",
   "execution_count": 116,
   "id": "e2f0f2f3",
   "metadata": {},
   "outputs": [
    {
     "data": {
      "text/plain": [
       "Timestamp('2020-01-01 00:00:00')"
      ]
     },
     "execution_count": 116,
     "metadata": {},
     "output_type": "execute_result"
    }
   ],
   "source": [
    "# 날짜 최소값 확인\n",
    "df_v1_1[\"DATE\"].min()"
   ]
  },
  {
   "cell_type": "code",
   "execution_count": 117,
   "id": "83e9ddec",
   "metadata": {},
   "outputs": [
    {
     "data": {
      "text/plain": [
       "Timestamp('2020-12-31 00:00:00')"
      ]
     },
     "execution_count": 117,
     "metadata": {},
     "output_type": "execute_result"
    }
   ],
   "source": [
    "# 날짜 최대값 확인\n",
    "df_v1_1[\"DATE\"].max()"
   ]
  },
  {
   "cell_type": "markdown",
   "id": "49668814",
   "metadata": {},
   "source": [
    "> => 2020년 1월 1일 ~ 2020년 12월 31일 결제된 data 내역임을 확인함"
   ]
  },
  {
   "cell_type": "markdown",
   "id": "3a90bc09",
   "metadata": {},
   "source": [
    "#### 결제월별 분포 시각화"
   ]
  },
  {
   "cell_type": "code",
   "execution_count": 118,
   "id": "a8f31db5",
   "metadata": {},
   "outputs": [
    {
     "data": {
      "text/html": [
       "<div>\n",
       "<style scoped>\n",
       "    .dataframe tbody tr th:only-of-type {\n",
       "        vertical-align: middle;\n",
       "    }\n",
       "\n",
       "    .dataframe tbody tr th {\n",
       "        vertical-align: top;\n",
       "    }\n",
       "\n",
       "    .dataframe thead th {\n",
       "        text-align: right;\n",
       "    }\n",
       "</style>\n",
       "<table border=\"1\" class=\"dataframe\">\n",
       "  <thead>\n",
       "    <tr style=\"text-align: right;\">\n",
       "      <th></th>\n",
       "      <th>USER_ID</th>\n",
       "      <th>JOIN_DATE</th>\n",
       "      <th>D_TYPE</th>\n",
       "      <th>STORE_ID</th>\n",
       "      <th>GOODS_TYPE</th>\n",
       "      <th>DATE</th>\n",
       "      <th>COUNT</th>\n",
       "      <th>AD1</th>\n",
       "      <th>JOIN_YEAR</th>\n",
       "      <th>DATE_YM</th>\n",
       "    </tr>\n",
       "  </thead>\n",
       "  <tbody>\n",
       "    <tr>\n",
       "      <th>0</th>\n",
       "      <td>2858</td>\n",
       "      <td>2014-01-07</td>\n",
       "      <td>AA</td>\n",
       "      <td>1892</td>\n",
       "      <td>A</td>\n",
       "      <td>2020-01-01</td>\n",
       "      <td>1</td>\n",
       "      <td>GN</td>\n",
       "      <td>2014</td>\n",
       "      <td>202001</td>\n",
       "    </tr>\n",
       "    <tr>\n",
       "      <th>1</th>\n",
       "      <td>5647</td>\n",
       "      <td>2014-02-14</td>\n",
       "      <td>BB</td>\n",
       "      <td>182009</td>\n",
       "      <td>A</td>\n",
       "      <td>2020-01-01</td>\n",
       "      <td>1</td>\n",
       "      <td>J</td>\n",
       "      <td>2014</td>\n",
       "      <td>202001</td>\n",
       "    </tr>\n",
       "    <tr>\n",
       "      <th>2</th>\n",
       "      <td>33314</td>\n",
       "      <td>2014-11-20</td>\n",
       "      <td>BB</td>\n",
       "      <td>82431</td>\n",
       "      <td>A</td>\n",
       "      <td>2020-01-01</td>\n",
       "      <td>1</td>\n",
       "      <td>SC</td>\n",
       "      <td>2014</td>\n",
       "      <td>202001</td>\n",
       "    </tr>\n",
       "    <tr>\n",
       "      <th>3</th>\n",
       "      <td>37001</td>\n",
       "      <td>2014-12-04</td>\n",
       "      <td>BB</td>\n",
       "      <td>725</td>\n",
       "      <td>C</td>\n",
       "      <td>2020-01-01</td>\n",
       "      <td>1</td>\n",
       "      <td>MP</td>\n",
       "      <td>2014</td>\n",
       "      <td>202001</td>\n",
       "    </tr>\n",
       "    <tr>\n",
       "      <th>4</th>\n",
       "      <td>37819</td>\n",
       "      <td>2014-12-07</td>\n",
       "      <td>AA</td>\n",
       "      <td>220691</td>\n",
       "      <td>C</td>\n",
       "      <td>2020-01-01</td>\n",
       "      <td>1</td>\n",
       "      <td>JRR</td>\n",
       "      <td>2014</td>\n",
       "      <td>202001</td>\n",
       "    </tr>\n",
       "    <tr>\n",
       "      <th>...</th>\n",
       "      <td>...</td>\n",
       "      <td>...</td>\n",
       "      <td>...</td>\n",
       "      <td>...</td>\n",
       "      <td>...</td>\n",
       "      <td>...</td>\n",
       "      <td>...</td>\n",
       "      <td>...</td>\n",
       "      <td>...</td>\n",
       "      <td>...</td>\n",
       "    </tr>\n",
       "    <tr>\n",
       "      <th>879266</th>\n",
       "      <td>1830551</td>\n",
       "      <td>2020-12-31</td>\n",
       "      <td>BB</td>\n",
       "      <td>219886</td>\n",
       "      <td>B</td>\n",
       "      <td>2020-12-31</td>\n",
       "      <td>1</td>\n",
       "      <td>GN</td>\n",
       "      <td>2020</td>\n",
       "      <td>202012</td>\n",
       "    </tr>\n",
       "    <tr>\n",
       "      <th>879267</th>\n",
       "      <td>1830570</td>\n",
       "      <td>2020-12-31</td>\n",
       "      <td>BB</td>\n",
       "      <td>82433</td>\n",
       "      <td>B</td>\n",
       "      <td>2020-12-31</td>\n",
       "      <td>1</td>\n",
       "      <td>CY</td>\n",
       "      <td>2020</td>\n",
       "      <td>202012</td>\n",
       "    </tr>\n",
       "    <tr>\n",
       "      <th>879268</th>\n",
       "      <td>1830580</td>\n",
       "      <td>2020-12-31</td>\n",
       "      <td>AA</td>\n",
       "      <td>92020</td>\n",
       "      <td>B</td>\n",
       "      <td>2020-12-31</td>\n",
       "      <td>1</td>\n",
       "      <td>JRR</td>\n",
       "      <td>2020</td>\n",
       "      <td>202012</td>\n",
       "    </tr>\n",
       "    <tr>\n",
       "      <th>879269</th>\n",
       "      <td>1830589</td>\n",
       "      <td>2020-12-31</td>\n",
       "      <td>BB</td>\n",
       "      <td>92437</td>\n",
       "      <td>B</td>\n",
       "      <td>2020-12-31</td>\n",
       "      <td>1</td>\n",
       "      <td>J</td>\n",
       "      <td>2020</td>\n",
       "      <td>202012</td>\n",
       "    </tr>\n",
       "    <tr>\n",
       "      <th>879270</th>\n",
       "      <td>1830598</td>\n",
       "      <td>2020-12-31</td>\n",
       "      <td>AA</td>\n",
       "      <td>220959</td>\n",
       "      <td>B</td>\n",
       "      <td>2020-12-31</td>\n",
       "      <td>1</td>\n",
       "      <td>SC</td>\n",
       "      <td>2020</td>\n",
       "      <td>202012</td>\n",
       "    </tr>\n",
       "  </tbody>\n",
       "</table>\n",
       "<p>879271 rows × 10 columns</p>\n",
       "</div>"
      ],
      "text/plain": [
       "        USER_ID  JOIN_DATE D_TYPE  STORE_ID GOODS_TYPE       DATE  COUNT  AD1  \\\n",
       "0          2858 2014-01-07     AA      1892          A 2020-01-01      1   GN   \n",
       "1          5647 2014-02-14     BB    182009          A 2020-01-01      1    J   \n",
       "2         33314 2014-11-20     BB     82431          A 2020-01-01      1   SC   \n",
       "3         37001 2014-12-04     BB       725          C 2020-01-01      1   MP   \n",
       "4         37819 2014-12-07     AA    220691          C 2020-01-01      1  JRR   \n",
       "...         ...        ...    ...       ...        ...        ...    ...  ...   \n",
       "879266  1830551 2020-12-31     BB    219886          B 2020-12-31      1   GN   \n",
       "879267  1830570 2020-12-31     BB     82433          B 2020-12-31      1   CY   \n",
       "879268  1830580 2020-12-31     AA     92020          B 2020-12-31      1  JRR   \n",
       "879269  1830589 2020-12-31     BB     92437          B 2020-12-31      1    J   \n",
       "879270  1830598 2020-12-31     AA    220959          B 2020-12-31      1   SC   \n",
       "\n",
       "        JOIN_YEAR DATE_YM  \n",
       "0            2014  202001  \n",
       "1            2014  202001  \n",
       "2            2014  202001  \n",
       "3            2014  202001  \n",
       "4            2014  202001  \n",
       "...           ...     ...  \n",
       "879266       2020  202012  \n",
       "879267       2020  202012  \n",
       "879268       2020  202012  \n",
       "879269       2020  202012  \n",
       "879270       2020  202012  \n",
       "\n",
       "[879271 rows x 10 columns]"
      ]
     },
     "execution_count": 118,
     "metadata": {},
     "output_type": "execute_result"
    }
   ],
   "source": [
    "# 결제월 정보 Column 추가한 데이터프레임 생성 => \"df_v1_2\"\n",
    "df_v1_2 = df_v1_1.copy()\n",
    "df_v1_2[\"DATE_YM\"] = df_v1_2[\"DATE\"].dt.strftime(\"%Y%m\")\n",
    "#df_v1_2[\"DATE_YM\"] = df_v1_2[\"DATE_YM\"].astype(int)\n",
    "df_v1_2  # 결제월(\"DATE_YM\") 입력된 결과 확인"
   ]
  },
  {
   "cell_type": "code",
   "execution_count": 119,
   "id": "8ab9fcef",
   "metadata": {},
   "outputs": [
    {
     "data": {
      "text/plain": [
       "<AxesSubplot:xlabel='DATE_YM', ylabel='count'>"
      ]
     },
     "execution_count": 119,
     "metadata": {},
     "output_type": "execute_result"
    },
    {
     "data": {
      "image/png": "[encoded data removed]",
      "text/plain": [
       "<Figure size 720x360 with 1 Axes>"
      ]
     },
     "metadata": {},
     "output_type": "display_data"
    }
   ],
   "source": [
    "# 2020년 월별 결제건수 분포 추이 확인 => 대체적으로 하반기로 갈수록 증가하는 경향 확인\n",
    "plt.figure(figsize=(10,5))\n",
    "sns.countplot(data=df_v1_2, x=\"DATE_YM\")"
   ]
  },
  {
   "cell_type": "markdown",
   "id": "87c6d9a0",
   "metadata": {},
   "source": [
    "### 7) COUNT(결제건수)"
   ]
  },
  {
   "cell_type": "code",
   "execution_count": 120,
   "id": "5df644a5",
   "metadata": {},
   "outputs": [
    {
     "data": {
      "text/plain": [
       "array([ 1,  2,  3,  4,  5,  6,  7,  8,  9, 10, 11, 12, 13, 14, 15, 16, 17,\n",
       "       18, 19, 20, 21, 22, 23, 24, 25, 26, 27, 28, 29, 30, 31, 32, 33, 34,\n",
       "       35, 36, 37, 38, 39, 40, 41, 42, 43, 44, 45, 46, 47, 48, 49, 50, 51,\n",
       "       53, 55, 58, 59, 61], dtype=int64)"
      ]
     },
     "execution_count": 120,
     "metadata": {},
     "output_type": "execute_result"
    }
   ],
   "source": [
    "# 결제건수 현황 확인 => 다양한 유형의 결제건수 존재함 확인\n",
    "np.sort(df_v1_2[\"COUNT\"].unique())"
   ]
  },
  {
   "cell_type": "code",
   "execution_count": 121,
   "id": "b4f10954",
   "metadata": {},
   "outputs": [
    {
     "data": {
      "text/plain": [
       "<AxesSubplot:xlabel='COUNT', ylabel='count'>"
      ]
     },
     "execution_count": 121,
     "metadata": {},
     "output_type": "execute_result"
    },
    {
     "data": {
      "image/png": "[encoded data removed]",
      "text/plain": [
       "<Figure size 1080x360 with 1 Axes>"
      ]
     },
     "metadata": {},
     "output_type": "display_data"
    }
   ],
   "source": [
    "# 결제건수별 분포 시각화\n",
    "plt.figure(figsize=(15,5))\n",
    "sns.countplot(data=df_v1_2, x=\"COUNT\")"
   ]
  },
  {
   "cell_type": "code",
   "execution_count": 122,
   "id": "e1004167",
   "metadata": {},
   "outputs": [
    {
     "data": {
      "text/plain": [
       "1     863775\n",
       "2      13519\n",
       "3       1061\n",
       "4        271\n",
       "5        136\n",
       "6         66\n",
       "7         45\n",
       "9         25\n",
       "12        21\n",
       "16        21\n",
       "8         20\n",
       "13        19\n",
       "14        19\n",
       "15        19\n",
       "28        17\n",
       "10        16\n",
       "11        15\n",
       "23        15\n",
       "17        15\n",
       "21        14\n",
       "25        14\n",
       "18        14\n",
       "19        13\n",
       "26         9\n",
       "22         9\n",
       "32         9\n",
       "34         7\n",
       "27         7\n",
       "24         7\n",
       "31         7\n",
       "30         7\n",
       "29         6\n",
       "20         6\n",
       "36         5\n",
       "40         4\n",
       "46         3\n",
       "37         3\n",
       "38         3\n",
       "39         3\n",
       "49         3\n",
       "35         3\n",
       "43         2\n",
       "47         2\n",
       "42         2\n",
       "50         2\n",
       "33         2\n",
       "59         1\n",
       "41         1\n",
       "53         1\n",
       "58         1\n",
       "45         1\n",
       "61         1\n",
       "55         1\n",
       "48         1\n",
       "51         1\n",
       "44         1\n",
       "Name: COUNT, dtype: int64"
      ]
     },
     "execution_count": 122,
     "metadata": {},
     "output_type": "execute_result"
    }
   ],
   "source": [
    "df_v1_2[\"COUNT\"].value_counts()"
   ]
  },
  {
   "cell_type": "markdown",
   "id": "2b7b2b0e",
   "metadata": {},
   "source": [
    "> => 결제건수가 1건인 유형이 절대적으로 많긴 하지만, 다양한 유형의 결제건수가 함께 존재함을 확인함"
   ]
  },
  {
   "cell_type": "markdown",
   "id": "ae051a0c",
   "metadata": {},
   "source": [
    "### 8) AD1(점포 주소)"
   ]
  },
  {
   "cell_type": "code",
   "execution_count": 123,
   "id": "3e3e21ff",
   "metadata": {},
   "outputs": [
    {
     "data": {
      "text/plain": [
       "array(['GN', 'J', 'SC', 'MP', 'JRR', 'YD', 'GJ', 'YO', 'GSN', 'GBC', 'BF',\n",
       "       'DJ', '0', 'CD', 'NO', 'CY', 'YC', 'SD', 'GD', 'GSW', 'DM', 'R',\n",
       "       'GB', 'GS', 'GHN', 'SB', 'IND', 'P', 'GW', 'JR', 'GEJ', 'GGY',\n",
       "       'GKP', 'CAS', 'SG', 'BJG', 'BHW', 'GAY', 'GYI', 'CCA', 'PJP',\n",
       "       'GGC', 'IYS', 'DB', 'GGM', 'GAS', 'WOID', 'DIV', 'AOI', 'COI',\n",
       "       'GPJ', 'SOI', 'ABP', 'DOI', 'WF', 'BI', 'ZP', 'EP', 'Q', 'BO',\n",
       "       'ZE', 'RRR', 'QGI', 'DSO', 'SOD', 'BOI', 'WT', 'BP', 'SP', 'CN',\n",
       "       'SJV', 'SDU', 'QH', 'BUD', 'CU', 'VU', 'WAE', 'NW', 'DY', 'WH',\n",
       "       'GR', 'X', 'CVB', 'ADS', 'VO'], dtype=object)"
      ]
     },
     "execution_count": 123,
     "metadata": {},
     "output_type": "execute_result"
    }
   ],
   "source": [
    "# 고유한 값 확인 => 다양한 주소값 유형이 존재함 확인\n",
    "df_v1_2[\"AD1\"].unique()"
   ]
  },
  {
   "cell_type": "code",
   "execution_count": 124,
   "id": "ed4190e0",
   "metadata": {},
   "outputs": [
    {
     "data": {
      "text/plain": [
       "<AxesSubplot:xlabel='AD1', ylabel='count'>"
      ]
     },
     "execution_count": 124,
     "metadata": {},
     "output_type": "execute_result"
    },
    {
     "data": {
      "image/png": "[encoded data removed]",
      "text/plain": [
       "<Figure size 1080x360 with 1 Axes>"
      ]
     },
     "metadata": {},
     "output_type": "display_data"
    }
   ],
   "source": [
    "plt.figure(figsize=(15,5))\n",
    "sns.countplot(data=df_v1_2, x=\"AD1\")"
   ]
  },
  {
   "cell_type": "markdown",
   "id": "54a2c31c",
   "metadata": {},
   "source": [
    "> => 각각의 주소값이 나타내는 의미는 명확하지 않으나, 특정 주소값(10개 내외)에 많은 data가 몰려있는 것이 확인됨 => 특정 지역 STORE에 대한 이용량이 많은 것으로 추정"
   ]
  },
  {
   "cell_type": "code",
   "execution_count": 125,
   "id": "7a8ce1bf",
   "metadata": {},
   "outputs": [
    {
     "name": "stdout",
     "output_type": "stream",
     "text": [
      "'AD1'이 1개가 아닌 'STORE_ID'의 개수 => 총 0개 확인 완료!\n"
     ]
    }
   ],
   "source": [
    "# 점검 차원에서 \"STORE_ID\"별로 \"AD1\"의 개수 체크 => 1대1로 매핑되어 있음을 확인\n",
    "count_ad1 = 0\n",
    "for v in df_v1_2.groupby(\"STORE_ID\"):\n",
    "    id_v, info_v = v\n",
    "    v1 = info_v[\"AD1\"]\n",
    "    if len(v1.unique()) != 1:\n",
    "        print(f\"{id_v} => {v1.unique()}\")\n",
    "        count_ad1 += 1\n",
    "\n",
    "print(f\"'AD1'이 1개가 아닌 'STORE_ID'의 개수 => 총 {count_dtype}개 확인 완료!\")"
   ]
  },
  {
   "cell_type": "markdown",
   "id": "ace94afb",
   "metadata": {},
   "source": [
    "> => 예외사항 없이, 각 \"STORE_ID\"별로 1개씩의 주소값을 갖고 있음 확인함"
   ]
  },
  {
   "cell_type": "markdown",
   "id": "b6e7325c",
   "metadata": {},
   "source": [
    "# 예측 모델에 활용할 주요 Feature 선별을 위한 분석작업"
   ]
  },
  {
   "cell_type": "markdown",
   "id": "27a55cc9",
   "metadata": {},
   "source": [
    "## 요일 및 날짜에 따른 이용량 변화 분석"
   ]
  },
  {
   "cell_type": "markdown",
   "id": "7187c236",
   "metadata": {},
   "source": [
    "### 전체 data 기준, 요일별 이용량 추이 분석"
   ]
  },
  {
   "cell_type": "markdown",
   "id": "081ed20a",
   "metadata": {},
   "source": [
    "#### 요일 정보 Column 추가한 데이터프레임 생성 => \"df_v2\""
   ]
  },
  {
   "cell_type": "code",
   "execution_count": 126,
   "id": "b0277f84",
   "metadata": {},
   "outputs": [
    {
     "data": {
      "text/html": [
       "<div>\n",
       "<style scoped>\n",
       "    .dataframe tbody tr th:only-of-type {\n",
       "        vertical-align: middle;\n",
       "    }\n",
       "\n",
       "    .dataframe tbody tr th {\n",
       "        vertical-align: top;\n",
       "    }\n",
       "\n",
       "    .dataframe thead th {\n",
       "        text-align: right;\n",
       "    }\n",
       "</style>\n",
       "<table border=\"1\" class=\"dataframe\">\n",
       "  <thead>\n",
       "    <tr style=\"text-align: right;\">\n",
       "      <th></th>\n",
       "      <th>USER_ID</th>\n",
       "      <th>JOIN_DATE</th>\n",
       "      <th>D_TYPE</th>\n",
       "      <th>STORE_ID</th>\n",
       "      <th>GOODS_TYPE</th>\n",
       "      <th>DATE</th>\n",
       "      <th>COUNT</th>\n",
       "      <th>AD1</th>\n",
       "      <th>JOIN_YEAR</th>\n",
       "      <th>DATE_YM</th>\n",
       "      <th>DATE_WDAY</th>\n",
       "    </tr>\n",
       "  </thead>\n",
       "  <tbody>\n",
       "    <tr>\n",
       "      <th>0</th>\n",
       "      <td>2858</td>\n",
       "      <td>2014-01-07</td>\n",
       "      <td>AA</td>\n",
       "      <td>1892</td>\n",
       "      <td>A</td>\n",
       "      <td>2020-01-01</td>\n",
       "      <td>1</td>\n",
       "      <td>GN</td>\n",
       "      <td>2014</td>\n",
       "      <td>202001</td>\n",
       "      <td>Wed</td>\n",
       "    </tr>\n",
       "    <tr>\n",
       "      <th>1</th>\n",
       "      <td>5647</td>\n",
       "      <td>2014-02-14</td>\n",
       "      <td>BB</td>\n",
       "      <td>182009</td>\n",
       "      <td>A</td>\n",
       "      <td>2020-01-01</td>\n",
       "      <td>1</td>\n",
       "      <td>J</td>\n",
       "      <td>2014</td>\n",
       "      <td>202001</td>\n",
       "      <td>Wed</td>\n",
       "    </tr>\n",
       "    <tr>\n",
       "      <th>2</th>\n",
       "      <td>33314</td>\n",
       "      <td>2014-11-20</td>\n",
       "      <td>BB</td>\n",
       "      <td>82431</td>\n",
       "      <td>A</td>\n",
       "      <td>2020-01-01</td>\n",
       "      <td>1</td>\n",
       "      <td>SC</td>\n",
       "      <td>2014</td>\n",
       "      <td>202001</td>\n",
       "      <td>Wed</td>\n",
       "    </tr>\n",
       "    <tr>\n",
       "      <th>3</th>\n",
       "      <td>37001</td>\n",
       "      <td>2014-12-04</td>\n",
       "      <td>BB</td>\n",
       "      <td>725</td>\n",
       "      <td>C</td>\n",
       "      <td>2020-01-01</td>\n",
       "      <td>1</td>\n",
       "      <td>MP</td>\n",
       "      <td>2014</td>\n",
       "      <td>202001</td>\n",
       "      <td>Wed</td>\n",
       "    </tr>\n",
       "    <tr>\n",
       "      <th>4</th>\n",
       "      <td>37819</td>\n",
       "      <td>2014-12-07</td>\n",
       "      <td>AA</td>\n",
       "      <td>220691</td>\n",
       "      <td>C</td>\n",
       "      <td>2020-01-01</td>\n",
       "      <td>1</td>\n",
       "      <td>JRR</td>\n",
       "      <td>2014</td>\n",
       "      <td>202001</td>\n",
       "      <td>Wed</td>\n",
       "    </tr>\n",
       "    <tr>\n",
       "      <th>...</th>\n",
       "      <td>...</td>\n",
       "      <td>...</td>\n",
       "      <td>...</td>\n",
       "      <td>...</td>\n",
       "      <td>...</td>\n",
       "      <td>...</td>\n",
       "      <td>...</td>\n",
       "      <td>...</td>\n",
       "      <td>...</td>\n",
       "      <td>...</td>\n",
       "      <td>...</td>\n",
       "    </tr>\n",
       "    <tr>\n",
       "      <th>879266</th>\n",
       "      <td>1830551</td>\n",
       "      <td>2020-12-31</td>\n",
       "      <td>BB</td>\n",
       "      <td>219886</td>\n",
       "      <td>B</td>\n",
       "      <td>2020-12-31</td>\n",
       "      <td>1</td>\n",
       "      <td>GN</td>\n",
       "      <td>2020</td>\n",
       "      <td>202012</td>\n",
       "      <td>Thu</td>\n",
       "    </tr>\n",
       "    <tr>\n",
       "      <th>879267</th>\n",
       "      <td>1830570</td>\n",
       "      <td>2020-12-31</td>\n",
       "      <td>BB</td>\n",
       "      <td>82433</td>\n",
       "      <td>B</td>\n",
       "      <td>2020-12-31</td>\n",
       "      <td>1</td>\n",
       "      <td>CY</td>\n",
       "      <td>2020</td>\n",
       "      <td>202012</td>\n",
       "      <td>Thu</td>\n",
       "    </tr>\n",
       "    <tr>\n",
       "      <th>879268</th>\n",
       "      <td>1830580</td>\n",
       "      <td>2020-12-31</td>\n",
       "      <td>AA</td>\n",
       "      <td>92020</td>\n",
       "      <td>B</td>\n",
       "      <td>2020-12-31</td>\n",
       "      <td>1</td>\n",
       "      <td>JRR</td>\n",
       "      <td>2020</td>\n",
       "      <td>202012</td>\n",
       "      <td>Thu</td>\n",
       "    </tr>\n",
       "    <tr>\n",
       "      <th>879269</th>\n",
       "      <td>1830589</td>\n",
       "      <td>2020-12-31</td>\n",
       "      <td>BB</td>\n",
       "      <td>92437</td>\n",
       "      <td>B</td>\n",
       "      <td>2020-12-31</td>\n",
       "      <td>1</td>\n",
       "      <td>J</td>\n",
       "      <td>2020</td>\n",
       "      <td>202012</td>\n",
       "      <td>Thu</td>\n",
       "    </tr>\n",
       "    <tr>\n",
       "      <th>879270</th>\n",
       "      <td>1830598</td>\n",
       "      <td>2020-12-31</td>\n",
       "      <td>AA</td>\n",
       "      <td>220959</td>\n",
       "      <td>B</td>\n",
       "      <td>2020-12-31</td>\n",
       "      <td>1</td>\n",
       "      <td>SC</td>\n",
       "      <td>2020</td>\n",
       "      <td>202012</td>\n",
       "      <td>Thu</td>\n",
       "    </tr>\n",
       "  </tbody>\n",
       "</table>\n",
       "<p>879271 rows × 11 columns</p>\n",
       "</div>"
      ],
      "text/plain": [
       "        USER_ID  JOIN_DATE D_TYPE  STORE_ID GOODS_TYPE       DATE  COUNT  AD1  \\\n",
       "0          2858 2014-01-07     AA      1892          A 2020-01-01      1   GN   \n",
       "1          5647 2014-02-14     BB    182009          A 2020-01-01      1    J   \n",
       "2         33314 2014-11-20     BB     82431          A 2020-01-01      1   SC   \n",
       "3         37001 2014-12-04     BB       725          C 2020-01-01      1   MP   \n",
       "4         37819 2014-12-07     AA    220691          C 2020-01-01      1  JRR   \n",
       "...         ...        ...    ...       ...        ...        ...    ...  ...   \n",
       "879266  1830551 2020-12-31     BB    219886          B 2020-12-31      1   GN   \n",
       "879267  1830570 2020-12-31     BB     82433          B 2020-12-31      1   CY   \n",
       "879268  1830580 2020-12-31     AA     92020          B 2020-12-31      1  JRR   \n",
       "879269  1830589 2020-12-31     BB     92437          B 2020-12-31      1    J   \n",
       "879270  1830598 2020-12-31     AA    220959          B 2020-12-31      1   SC   \n",
       "\n",
       "        JOIN_YEAR DATE_YM DATE_WDAY  \n",
       "0            2014  202001       Wed  \n",
       "1            2014  202001       Wed  \n",
       "2            2014  202001       Wed  \n",
       "3            2014  202001       Wed  \n",
       "4            2014  202001       Wed  \n",
       "...           ...     ...       ...  \n",
       "879266       2020  202012       Thu  \n",
       "879267       2020  202012       Thu  \n",
       "879268       2020  202012       Thu  \n",
       "879269       2020  202012       Thu  \n",
       "879270       2020  202012       Thu  \n",
       "\n",
       "[879271 rows x 11 columns]"
      ]
     },
     "execution_count": 126,
     "metadata": {},
     "output_type": "execute_result"
    }
   ],
   "source": [
    "# \"DATE(결제일)\" 기준 요일 정보 추출 후 \"DATE_WDAY\" Column에 해당 정보 저장\n",
    "df_v2 = df_v1_2.copy()\n",
    "df_v2[\"DATE_WDAY\"] = df_v2[\"DATE\"].dt.strftime(\"%a\")\n",
    "df_v2  # 결과 확인"
   ]
  },
  {
   "cell_type": "code",
   "execution_count": 127,
   "id": "2908d673",
   "metadata": {},
   "outputs": [
    {
     "data": {
      "text/plain": [
       "<AxesSubplot:xlabel='DATE_WDAY', ylabel='count'>"
      ]
     },
     "execution_count": 127,
     "metadata": {},
     "output_type": "execute_result"
    },
    {
     "data": {
      "image/png": "[encoded data removed]",
      "text/plain": [
       "<Figure size 432x288 with 1 Axes>"
      ]
     },
     "metadata": {},
     "output_type": "display_data"
    }
   ],
   "source": [
    "# 요일별 data건수 분포 시각화\n",
    "sns.countplot(data=df_v2, x=\"DATE_WDAY\", order=[\"Mon\", \"Tue\", \"Wed\", \"Thu\", \"Fri\", \"Sat\", \"Sun\"])  # 요일 순서 지정"
   ]
  },
  {
   "cell_type": "markdown",
   "id": "2eef5d59",
   "metadata": {},
   "source": [
    "> => 월요일부터 금요일까지는 점차 이용량이 증가하는 추세이며, 토요일에 소폭 감소 후 일요일에는 현저히 적은 이용량을 나타냄"
   ]
  },
  {
   "cell_type": "markdown",
   "id": "0814ecff",
   "metadata": {},
   "source": [
    "### 특정 Feature 기준 분류 후, 요일별 이용량 추이 분석 => \"D_TYPE\" 기준 분류"
   ]
  },
  {
   "cell_type": "code",
   "execution_count": 128,
   "id": "4ea1c11a",
   "metadata": {},
   "outputs": [
    {
     "data": {
      "text/plain": [
       "<AxesSubplot:xlabel='DATE_WDAY', ylabel='count'>"
      ]
     },
     "execution_count": 128,
     "metadata": {},
     "output_type": "execute_result"
    },
    {
     "data": {
      "image/png": "[encoded data removed]",
      "text/plain": [
       "<Figure size 720x504 with 1 Axes>"
      ]
     },
     "metadata": {},
     "output_type": "display_data"
    }
   ],
   "source": [
    "plt.figure(figsize=(10,7))\n",
    "sns.countplot(data=df_v2, x=\"DATE_WDAY\", order=[\"Mon\", \"Tue\", \"Wed\", \"Thu\", \"Fri\", \"Sat\", \"Sun\"],\n",
    "              hue=\"D_TYPE\", hue_order=[\"AA\", \"BB\", \"CC\"])"
   ]
  },
  {
   "cell_type": "markdown",
   "id": "c67bd4f8",
   "metadata": {},
   "source": [
    "> => 대다수의 비중을 차지하고 있는 A와 B를 기준으로 비교했을 때, 두 그룹간 의미있는 차이는 관찰되지 않음"
   ]
  },
  {
   "cell_type": "markdown",
   "id": "d1be0a8e",
   "metadata": {},
   "source": [
    "### 특정 Feature 기준 분류 후, 요일별 이용량 추이 분석 => \"GOODS_TYPE\" 기준 분류"
   ]
  },
  {
   "cell_type": "code",
   "execution_count": 129,
   "id": "c1847804",
   "metadata": {},
   "outputs": [
    {
     "data": {
      "text/plain": [
       "<AxesSubplot:xlabel='DATE_WDAY', ylabel='count'>"
      ]
     },
     "execution_count": 129,
     "metadata": {},
     "output_type": "execute_result"
    },
    {
     "data": {
      "image/png": "[encoded data removed]",
      "text/plain": [
       "<Figure size 720x504 with 1 Axes>"
      ]
     },
     "metadata": {},
     "output_type": "display_data"
    }
   ],
   "source": [
    "plt.figure(figsize=(10,7))\n",
    "sns.countplot(data=df_v2, x=\"DATE_WDAY\", order=[\"Mon\", \"Tue\", \"Wed\", \"Thu\", \"Fri\", \"Sat\", \"Sun\"],\n",
    "              hue=\"GOODS_TYPE\", hue_order=[\"A\", \"B\", \"C\", \"D\"])"
   ]
  },
  {
   "cell_type": "markdown",
   "id": "7c413f8e",
   "metadata": {},
   "source": [
    "> => 금요일과 토요일을 중심으로 A와 B TYPE간 서로 다른 이용행태가 나타남을 확인함\n",
    "\n",
    "> => A TYPE의 경우, 금요일에는 이용량이 소폭 감소하고 토요일에 이용량이 상당히 증가하는 추세를 보임<br/> => 반면 B TYPE의 경우, 금요일까지 꾸준히 이용량이 상승한 후 토요일에 큰 폭으로 감소하는 추세를 보임"
   ]
  },
  {
   "cell_type": "markdown",
   "id": "3367e22b",
   "metadata": {},
   "source": [
    "### 특정 Feature 기준 분류 후, 요일별 이용량 추이 분석 => 이용월 기준 분류"
   ]
  },
  {
   "cell_type": "markdown",
   "id": "aef6619c",
   "metadata": {},
   "source": [
    "#### \"DATE_M\" Column 추가한 데이터프레임 생성 => \"df_v2_1\""
   ]
  },
  {
   "cell_type": "code",
   "execution_count": 130,
   "id": "568e53f3",
   "metadata": {},
   "outputs": [
    {
     "data": {
      "text/html": [
       "<div>\n",
       "<style scoped>\n",
       "    .dataframe tbody tr th:only-of-type {\n",
       "        vertical-align: middle;\n",
       "    }\n",
       "\n",
       "    .dataframe tbody tr th {\n",
       "        vertical-align: top;\n",
       "    }\n",
       "\n",
       "    .dataframe thead th {\n",
       "        text-align: right;\n",
       "    }\n",
       "</style>\n",
       "<table border=\"1\" class=\"dataframe\">\n",
       "  <thead>\n",
       "    <tr style=\"text-align: right;\">\n",
       "      <th></th>\n",
       "      <th>USER_ID</th>\n",
       "      <th>JOIN_DATE</th>\n",
       "      <th>D_TYPE</th>\n",
       "      <th>STORE_ID</th>\n",
       "      <th>GOODS_TYPE</th>\n",
       "      <th>DATE</th>\n",
       "      <th>COUNT</th>\n",
       "      <th>AD1</th>\n",
       "      <th>JOIN_YEAR</th>\n",
       "      <th>DATE_YM</th>\n",
       "      <th>DATE_WDAY</th>\n",
       "      <th>DATE_M</th>\n",
       "      <th>DATE_D</th>\n",
       "    </tr>\n",
       "  </thead>\n",
       "  <tbody>\n",
       "    <tr>\n",
       "      <th>0</th>\n",
       "      <td>2858</td>\n",
       "      <td>2014-01-07</td>\n",
       "      <td>AA</td>\n",
       "      <td>1892</td>\n",
       "      <td>A</td>\n",
       "      <td>2020-01-01</td>\n",
       "      <td>1</td>\n",
       "      <td>GN</td>\n",
       "      <td>2014</td>\n",
       "      <td>202001</td>\n",
       "      <td>Wed</td>\n",
       "      <td>1</td>\n",
       "      <td>1</td>\n",
       "    </tr>\n",
       "    <tr>\n",
       "      <th>1</th>\n",
       "      <td>5647</td>\n",
       "      <td>2014-02-14</td>\n",
       "      <td>BB</td>\n",
       "      <td>182009</td>\n",
       "      <td>A</td>\n",
       "      <td>2020-01-01</td>\n",
       "      <td>1</td>\n",
       "      <td>J</td>\n",
       "      <td>2014</td>\n",
       "      <td>202001</td>\n",
       "      <td>Wed</td>\n",
       "      <td>1</td>\n",
       "      <td>1</td>\n",
       "    </tr>\n",
       "    <tr>\n",
       "      <th>2</th>\n",
       "      <td>33314</td>\n",
       "      <td>2014-11-20</td>\n",
       "      <td>BB</td>\n",
       "      <td>82431</td>\n",
       "      <td>A</td>\n",
       "      <td>2020-01-01</td>\n",
       "      <td>1</td>\n",
       "      <td>SC</td>\n",
       "      <td>2014</td>\n",
       "      <td>202001</td>\n",
       "      <td>Wed</td>\n",
       "      <td>1</td>\n",
       "      <td>1</td>\n",
       "    </tr>\n",
       "    <tr>\n",
       "      <th>3</th>\n",
       "      <td>37001</td>\n",
       "      <td>2014-12-04</td>\n",
       "      <td>BB</td>\n",
       "      <td>725</td>\n",
       "      <td>C</td>\n",
       "      <td>2020-01-01</td>\n",
       "      <td>1</td>\n",
       "      <td>MP</td>\n",
       "      <td>2014</td>\n",
       "      <td>202001</td>\n",
       "      <td>Wed</td>\n",
       "      <td>1</td>\n",
       "      <td>1</td>\n",
       "    </tr>\n",
       "    <tr>\n",
       "      <th>4</th>\n",
       "      <td>37819</td>\n",
       "      <td>2014-12-07</td>\n",
       "      <td>AA</td>\n",
       "      <td>220691</td>\n",
       "      <td>C</td>\n",
       "      <td>2020-01-01</td>\n",
       "      <td>1</td>\n",
       "      <td>JRR</td>\n",
       "      <td>2014</td>\n",
       "      <td>202001</td>\n",
       "      <td>Wed</td>\n",
       "      <td>1</td>\n",
       "      <td>1</td>\n",
       "    </tr>\n",
       "    <tr>\n",
       "      <th>...</th>\n",
       "      <td>...</td>\n",
       "      <td>...</td>\n",
       "      <td>...</td>\n",
       "      <td>...</td>\n",
       "      <td>...</td>\n",
       "      <td>...</td>\n",
       "      <td>...</td>\n",
       "      <td>...</td>\n",
       "      <td>...</td>\n",
       "      <td>...</td>\n",
       "      <td>...</td>\n",
       "      <td>...</td>\n",
       "      <td>...</td>\n",
       "    </tr>\n",
       "    <tr>\n",
       "      <th>879266</th>\n",
       "      <td>1830551</td>\n",
       "      <td>2020-12-31</td>\n",
       "      <td>BB</td>\n",
       "      <td>219886</td>\n",
       "      <td>B</td>\n",
       "      <td>2020-12-31</td>\n",
       "      <td>1</td>\n",
       "      <td>GN</td>\n",
       "      <td>2020</td>\n",
       "      <td>202012</td>\n",
       "      <td>Thu</td>\n",
       "      <td>12</td>\n",
       "      <td>31</td>\n",
       "    </tr>\n",
       "    <tr>\n",
       "      <th>879267</th>\n",
       "      <td>1830570</td>\n",
       "      <td>2020-12-31</td>\n",
       "      <td>BB</td>\n",
       "      <td>82433</td>\n",
       "      <td>B</td>\n",
       "      <td>2020-12-31</td>\n",
       "      <td>1</td>\n",
       "      <td>CY</td>\n",
       "      <td>2020</td>\n",
       "      <td>202012</td>\n",
       "      <td>Thu</td>\n",
       "      <td>12</td>\n",
       "      <td>31</td>\n",
       "    </tr>\n",
       "    <tr>\n",
       "      <th>879268</th>\n",
       "      <td>1830580</td>\n",
       "      <td>2020-12-31</td>\n",
       "      <td>AA</td>\n",
       "      <td>92020</td>\n",
       "      <td>B</td>\n",
       "      <td>2020-12-31</td>\n",
       "      <td>1</td>\n",
       "      <td>JRR</td>\n",
       "      <td>2020</td>\n",
       "      <td>202012</td>\n",
       "      <td>Thu</td>\n",
       "      <td>12</td>\n",
       "      <td>31</td>\n",
       "    </tr>\n",
       "    <tr>\n",
       "      <th>879269</th>\n",
       "      <td>1830589</td>\n",
       "      <td>2020-12-31</td>\n",
       "      <td>BB</td>\n",
       "      <td>92437</td>\n",
       "      <td>B</td>\n",
       "      <td>2020-12-31</td>\n",
       "      <td>1</td>\n",
       "      <td>J</td>\n",
       "      <td>2020</td>\n",
       "      <td>202012</td>\n",
       "      <td>Thu</td>\n",
       "      <td>12</td>\n",
       "      <td>31</td>\n",
       "    </tr>\n",
       "    <tr>\n",
       "      <th>879270</th>\n",
       "      <td>1830598</td>\n",
       "      <td>2020-12-31</td>\n",
       "      <td>AA</td>\n",
       "      <td>220959</td>\n",
       "      <td>B</td>\n",
       "      <td>2020-12-31</td>\n",
       "      <td>1</td>\n",
       "      <td>SC</td>\n",
       "      <td>2020</td>\n",
       "      <td>202012</td>\n",
       "      <td>Thu</td>\n",
       "      <td>12</td>\n",
       "      <td>31</td>\n",
       "    </tr>\n",
       "  </tbody>\n",
       "</table>\n",
       "<p>879271 rows × 13 columns</p>\n",
       "</div>"
      ],
      "text/plain": [
       "        USER_ID  JOIN_DATE D_TYPE  STORE_ID GOODS_TYPE       DATE  COUNT  AD1  \\\n",
       "0          2858 2014-01-07     AA      1892          A 2020-01-01      1   GN   \n",
       "1          5647 2014-02-14     BB    182009          A 2020-01-01      1    J   \n",
       "2         33314 2014-11-20     BB     82431          A 2020-01-01      1   SC   \n",
       "3         37001 2014-12-04     BB       725          C 2020-01-01      1   MP   \n",
       "4         37819 2014-12-07     AA    220691          C 2020-01-01      1  JRR   \n",
       "...         ...        ...    ...       ...        ...        ...    ...  ...   \n",
       "879266  1830551 2020-12-31     BB    219886          B 2020-12-31      1   GN   \n",
       "879267  1830570 2020-12-31     BB     82433          B 2020-12-31      1   CY   \n",
       "879268  1830580 2020-12-31     AA     92020          B 2020-12-31      1  JRR   \n",
       "879269  1830589 2020-12-31     BB     92437          B 2020-12-31      1    J   \n",
       "879270  1830598 2020-12-31     AA    220959          B 2020-12-31      1   SC   \n",
       "\n",
       "        JOIN_YEAR DATE_YM DATE_WDAY  DATE_M  DATE_D  \n",
       "0            2014  202001       Wed       1       1  \n",
       "1            2014  202001       Wed       1       1  \n",
       "2            2014  202001       Wed       1       1  \n",
       "3            2014  202001       Wed       1       1  \n",
       "4            2014  202001       Wed       1       1  \n",
       "...           ...     ...       ...     ...     ...  \n",
       "879266       2020  202012       Thu      12      31  \n",
       "879267       2020  202012       Thu      12      31  \n",
       "879268       2020  202012       Thu      12      31  \n",
       "879269       2020  202012       Thu      12      31  \n",
       "879270       2020  202012       Thu      12      31  \n",
       "\n",
       "[879271 rows x 13 columns]"
      ]
     },
     "execution_count": 130,
     "metadata": {},
     "output_type": "execute_result"
    }
   ],
   "source": [
    "df_v2_1 = df_v2.copy()\n",
    "df_v2_1[\"DATE_M\"] = df_v2[\"DATE\"].dt.strftime(\"%m\").astype(int)  # \"DATE_M\"(이용월) 정보 추가\n",
    "df_v2_1[\"DATE_D\"] = df_v2[\"DATE\"].dt.strftime(\"%d\").astype(int)  # \"DATE_D\"(이용일) 정보도 함께 추가\n",
    "df_v2_1"
   ]
  },
  {
   "cell_type": "markdown",
   "id": "51882085",
   "metadata": {},
   "source": [
    "#### 각 월별로 요일에 따른 이용량 변화 시각화"
   ]
  },
  {
   "cell_type": "code",
   "execution_count": 131,
   "id": "4254781a",
   "metadata": {},
   "outputs": [
    {
     "data": {
      "text/plain": [
       "<seaborn.axisgrid.FacetGrid at 0x1e3063f38e0>"
      ]
     },
     "execution_count": 131,
     "metadata": {},
     "output_type": "execute_result"
    },
    {
     "data": {
      "image/png": "[encoded data removed]",
      "text/plain": [
       "<Figure size 864x648 with 12 Axes>"
      ]
     },
     "metadata": {},
     "output_type": "display_data"
    }
   ],
   "source": [
    "g = sns.FacetGrid(df_v2_1, col=\"DATE_M\", col_wrap=4)  # 한 줄에 4개씩 출력하도록 설정\n",
    "g.map(sns.countplot, \"DATE_WDAY\", order=[\"Mon\", \"Tue\", \"Wed\", \"Thu\", \"Fri\", \"Sat\", \"Sun\"], color=\"coral\")  # 코랄색 적용"
   ]
  },
  {
   "cell_type": "markdown",
   "id": "466a3fc3",
   "metadata": {},
   "source": [
    "> => 월별로 이용행태가 서로 다르게 나타난다는 것을 확인 가능\n",
    "\n",
    "> => 주요 특징을 전체적으로 살펴보자면,<br/> 토요일 이용량이 유독 많은 달(2월, 5월, 10월)이 있는가 하면, 주 초반(월, 화) 이용량이 많은 달(3월, 6월, 9월)도 확인됨<br/> 또한, 금요일 이용량이 유독 많은 달(1월, 7월)이 있는 반면, 평일 중 금요일 이용량이 유독 적은 달(12월)도 존재함"
   ]
  },
  {
   "cell_type": "markdown",
   "id": "df7c7490",
   "metadata": {},
   "source": [
    "### 특정 Feature 기준 분류 후, 요일별 이용량 추이 분석 => 월별/\"GOODS_TYPE\"별 기준 복합 적용"
   ]
  },
  {
   "cell_type": "code",
   "execution_count": 132,
   "id": "12817499",
   "metadata": {},
   "outputs": [
    {
     "data": {
      "text/plain": [
       "<seaborn.axisgrid.FacetGrid at 0x1e30ccc2af0>"
      ]
     },
     "execution_count": 132,
     "metadata": {},
     "output_type": "execute_result"
    },
    {
     "data": {
      "image/png": "[encoded data removed]",
      "text/plain": [
       "<Figure size 911.6x648 with 12 Axes>"
      ]
     },
     "metadata": {},
     "output_type": "display_data"
    }
   ],
   "source": [
    "g = sns.FacetGrid(df_v2_1, col=\"DATE_M\", col_wrap=4)  # 한 줄에 4개씩 출력하도록 설정\n",
    "\n",
    "# 월별 전체 추이 그래프 겹쳐 그리기 => 참조용\n",
    "g.map(sns.countplot, \"DATE_WDAY\", order=[\"Mon\", \"Tue\", \"Wed\", \"Thu\", \"Fri\", \"Sat\", \"Sun\"],\n",
    "      alpha=0.2, color=\"coral\")  # 투명도 및 색상 적용\n",
    "\n",
    "# \"GOODS_TYPE\"별로 구분한 그래프 그리기\n",
    "g.map(sns.countplot, \"DATE_WDAY\", order=[\"Mon\", \"Tue\", \"Wed\", \"Thu\", \"Fri\", \"Sat\", \"Sun\"],\n",
    "      hue=df_v2_1[\"GOODS_TYPE\"], hue_order=[\"A\", \"B\", \"C\", \"D\"], palette=\"bright\")\n",
    "\n",
    "g.add_legend()"
   ]
  },
  {
   "cell_type": "markdown",
   "id": "c663b594",
   "metadata": {},
   "source": [
    "> => 전체적으로 비중이 가장 큰 A가 갖는 특징이 월별 특징과 비슷하게 나타나는 가운데, 1월/7월/11월의 금요일 이용량에 대해서는 A보다 B의 영향력이 상대적으로 더 큰 경향이 나타남"
   ]
  },
  {
   "cell_type": "markdown",
   "id": "59165291",
   "metadata": {},
   "source": [
    "### 날짜(day)별 이용량 추이 분석"
   ]
  },
  {
   "cell_type": "code",
   "execution_count": 133,
   "id": "686e37aa",
   "metadata": {},
   "outputs": [
    {
     "data": {
      "text/plain": [
       "<AxesSubplot:xlabel='DATE_D', ylabel='count'>"
      ]
     },
     "execution_count": 133,
     "metadata": {},
     "output_type": "execute_result"
    },
    {
     "data": {
      "image/png": "[encoded data removed]",
      "text/plain": [
       "<Figure size 720x504 with 1 Axes>"
      ]
     },
     "metadata": {},
     "output_type": "display_data"
    }
   ],
   "source": [
    "# 날짜(day)별 data건수 분포 시각화\n",
    "plt.figure(figsize=(10,7))\n",
    "sns.countplot(data=df_v2_1, x=\"DATE_D\")"
   ]
  },
  {
   "cell_type": "markdown",
   "id": "050cac69",
   "metadata": {},
   "source": [
    "> => 3~4일 단위의 패턴이 부분적으로 관찰되며, 대체적으로 후반부로 갈수록 이용량이 소폭 증가하는 경향을 보임\n",
    "\n",
    "> => 31일이 유독 적은 이유는 월별로 31일이 없는 달도 있기 때문인 것으로 판단됨"
   ]
  },
  {
   "cell_type": "markdown",
   "id": "d9dc5d07",
   "metadata": {},
   "source": [
    "## 요일 및 날짜에 따른 이용량 변화 분석 결과\n",
    "* 요일에 따른 이용량 변화는 물론이고, 월별, 날짜별, \"GOODS_TYPE\"별로도 이용량이 서로 다른 특성을 보임을 확인함\n",
    "* 다만, 현재 주어진 예측모델 적용 기준상 Traing 데이터(1\\~9월 기준)와 Test 데이터(10\\~12월 기준)의 기준월이 상이하므로, 예측모델 적용 시 \"월\" Feature는 제외시키기로 함"
   ]
  },
  {
   "cell_type": "code",
   "execution_count": null,
   "id": "a309d435",
   "metadata": {},
   "outputs": [],
   "source": []
  },
  {
   "cell_type": "markdown",
   "id": "76e2c908",
   "metadata": {},
   "source": [
    "# 예측 모델에 활용할 주요 Feature 선별 및 유저별 이용건수 예측(1차)\n",
    "\n",
    "* 기존 Feature별 적용여부 판단(지금까지 분석한 내용 기준)\n",
    "  - \"JOIN_DATE\" => 유저별 1개씩 존재하는 가입일 정보로 \"USER_ID\" 대비 추가 변별력 없음(적용 보류)\n",
    "  - \"D_TYPE\" => 유저별 1개씩 존재하는 값으로 \"USER_ID\" 대비 추가 변별력 없음(적용 보류)\n",
    "  - **\"STORE_ID\"** => 유저가 이용한 점포의 고유 id로 변별력 있음(적용)\n",
    "  - **\"GOODS_TYPE\"** => 각 TYPE별로 이용행태가 다르게 나타나므로 변별력 있음(적용)\n",
    "  - \"DATE\" => 날짜별로 이용행태 다르게 나타나므로 변별력 있음(적용) / 단, 연도 및 월을 제외한 이용일(**\"DATE_D\"**) 기준으로 적용\n",
    "  - \"AD1\" => 점포id별로 1개씩 존재하는 주소값으로 \"STORE_ID\" 대비 추가 변별력 없음(적용 보류)<br/>\n",
    "<br/>\n",
    "* 추가 적용 Feature\n",
    "  - **\"DATE_WDAY\"** => \"DATE\"에서 추출한 요일 정보로 요일별 특성 반영\n",
    "  \n",
    "### &nbsp;&nbsp; => \"DATE_WDAY\", \"DATE_D\", \"GOODS_TYPE\", \"STORE_ID\" 기준 예측모델 적용\n",
    "\n",
    "<br/>\n",
    "\n",
    "* 예측 모델 적용 관련 조건 및 가이드\n",
    "  - 초기 랜덤 시드 설정 => np.random.seed(42)\n",
    "  - 데이터 구성 가이드<br/>\n",
    "    o Training Data => 2020.01.01 ~ 2020.09.30<br/>\n",
    "    o Test Data => 2020.10.01 ~ 2020.12.31"
   ]
  },
  {
   "cell_type": "code",
   "execution_count": 134,
   "id": "28856485",
   "metadata": {},
   "outputs": [],
   "source": [
    "np.random.seed(42)  # 랜덤 시드값 설정"
   ]
  },
  {
   "cell_type": "code",
   "execution_count": 135,
   "id": "8ed72e22",
   "metadata": {},
   "outputs": [],
   "source": [
    "# 위 가이드 기준 Training, Test 데이터 분류\n",
    "training_v1 = df_v2_1.query(\"DATE >= '2020-01-01' and DATE <= '2020-09-30'\")\n",
    "test_v1 = df_v2_1.query(\"DATE >= '2020-10-01' and DATE <= '2020-12-31'\")"
   ]
  },
  {
   "cell_type": "code",
   "execution_count": 136,
   "id": "0d987143",
   "metadata": {},
   "outputs": [
    {
     "name": "stderr",
     "output_type": "stream",
     "text": [
      "c:\\users\\hj\\.conda\\envs\\pydata\\lib\\site-packages\\pandas\\core\\generic.py:6610: SettingWithCopyWarning: \n",
      "A value is trying to be set on a copy of a slice from a DataFrame\n",
      "\n",
      "See the caveats in the documentation: https://pandas.pydata.org/pandas-docs/stable/user_guide/indexing.html#returning-a-view-versus-a-copy\n",
      "  return self._update_inplace(result)\n"
     ]
    }
   ],
   "source": [
    "# 요일 정보를 숫자로 변경\n",
    "training_v1[\"DATE_WDAY\"].replace({\"Mon\":1, \"Tue\":2, \"Wed\":3, \"Thu\":4, \"Fri\":5, \"Sat\":6, \"Sun\":7}, inplace=True)\n",
    "test_v1[\"DATE_WDAY\"].replace({\"Mon\":1, \"Tue\":2, \"Wed\":3, \"Thu\":4, \"Fri\":5, \"Sat\":6, \"Sun\":7}, inplace=True)\n",
    "\n",
    "# GOODS_TYPE 정보를 숫자로 변경\n",
    "training_v1[\"GOODS_TYPE\"].replace({\"A\":1, \"B\":2, \"C\":3, \"D\":4}, inplace=True)\n",
    "test_v1[\"GOODS_TYPE\"].replace({\"A\":1, \"B\":2, \"C\":3, \"D\":4}, inplace=True)"
   ]
  },
  {
   "cell_type": "code",
   "execution_count": 137,
   "id": "83558557",
   "metadata": {},
   "outputs": [],
   "source": [
    "# Training, Test 데이터 준비\n",
    "x_train = training_v1[[\"USER_ID\",\n",
    "                       \"DATE_WDAY\", \"DATE_D\", \"GOODS_TYPE\", \"STORE_ID\"]]  # USER_ID 외에 요일, 일, GOODS_TYPE, STORE_ID 적용\n",
    "x_test = test_v1[[\"USER_ID\",\n",
    "                  \"DATE_WDAY\", \"DATE_D\", \"GOODS_TYPE\", \"STORE_ID\"]]  # USER_ID 외에 요일, 일, GOODS_TYPE, STORE_ID 적용\n",
    "y_train = training_v1[[\"COUNT\"]]\n",
    "y_test = test_v1[[\"COUNT\"]]"
   ]
  },
  {
   "cell_type": "code",
   "execution_count": 138,
   "id": "12b4e91c",
   "metadata": {},
   "outputs": [
    {
     "data": {
      "text/html": [
       "<div>\n",
       "<style scoped>\n",
       "    .dataframe tbody tr th:only-of-type {\n",
       "        vertical-align: middle;\n",
       "    }\n",
       "\n",
       "    .dataframe tbody tr th {\n",
       "        vertical-align: top;\n",
       "    }\n",
       "\n",
       "    .dataframe thead th {\n",
       "        text-align: right;\n",
       "    }\n",
       "</style>\n",
       "<table border=\"1\" class=\"dataframe\">\n",
       "  <thead>\n",
       "    <tr style=\"text-align: right;\">\n",
       "      <th></th>\n",
       "      <th>USER_ID</th>\n",
       "      <th>DATE_WDAY</th>\n",
       "      <th>DATE_D</th>\n",
       "      <th>GOODS_TYPE</th>\n",
       "      <th>STORE_ID</th>\n",
       "    </tr>\n",
       "  </thead>\n",
       "  <tbody>\n",
       "    <tr>\n",
       "      <th>0</th>\n",
       "      <td>2858</td>\n",
       "      <td>3</td>\n",
       "      <td>1</td>\n",
       "      <td>1</td>\n",
       "      <td>1892</td>\n",
       "    </tr>\n",
       "    <tr>\n",
       "      <th>1</th>\n",
       "      <td>5647</td>\n",
       "      <td>3</td>\n",
       "      <td>1</td>\n",
       "      <td>1</td>\n",
       "      <td>182009</td>\n",
       "    </tr>\n",
       "    <tr>\n",
       "      <th>2</th>\n",
       "      <td>33314</td>\n",
       "      <td>3</td>\n",
       "      <td>1</td>\n",
       "      <td>1</td>\n",
       "      <td>82431</td>\n",
       "    </tr>\n",
       "    <tr>\n",
       "      <th>3</th>\n",
       "      <td>37001</td>\n",
       "      <td>3</td>\n",
       "      <td>1</td>\n",
       "      <td>3</td>\n",
       "      <td>725</td>\n",
       "    </tr>\n",
       "    <tr>\n",
       "      <th>4</th>\n",
       "      <td>37819</td>\n",
       "      <td>3</td>\n",
       "      <td>1</td>\n",
       "      <td>3</td>\n",
       "      <td>220691</td>\n",
       "    </tr>\n",
       "    <tr>\n",
       "      <th>...</th>\n",
       "      <td>...</td>\n",
       "      <td>...</td>\n",
       "      <td>...</td>\n",
       "      <td>...</td>\n",
       "      <td>...</td>\n",
       "    </tr>\n",
       "    <tr>\n",
       "      <th>623574</th>\n",
       "      <td>1709914</td>\n",
       "      <td>3</td>\n",
       "      <td>30</td>\n",
       "      <td>2</td>\n",
       "      <td>221022</td>\n",
       "    </tr>\n",
       "    <tr>\n",
       "      <th>623575</th>\n",
       "      <td>1709935</td>\n",
       "      <td>3</td>\n",
       "      <td>30</td>\n",
       "      <td>2</td>\n",
       "      <td>725</td>\n",
       "    </tr>\n",
       "    <tr>\n",
       "      <th>623576</th>\n",
       "      <td>1709942</td>\n",
       "      <td>3</td>\n",
       "      <td>30</td>\n",
       "      <td>2</td>\n",
       "      <td>223058</td>\n",
       "    </tr>\n",
       "    <tr>\n",
       "      <th>623577</th>\n",
       "      <td>1709950</td>\n",
       "      <td>3</td>\n",
       "      <td>30</td>\n",
       "      <td>1</td>\n",
       "      <td>182320</td>\n",
       "    </tr>\n",
       "    <tr>\n",
       "      <th>623578</th>\n",
       "      <td>1709952</td>\n",
       "      <td>3</td>\n",
       "      <td>30</td>\n",
       "      <td>1</td>\n",
       "      <td>105033</td>\n",
       "    </tr>\n",
       "  </tbody>\n",
       "</table>\n",
       "<p>623579 rows × 5 columns</p>\n",
       "</div>"
      ],
      "text/plain": [
       "        USER_ID  DATE_WDAY  DATE_D  GOODS_TYPE  STORE_ID\n",
       "0          2858          3       1           1      1892\n",
       "1          5647          3       1           1    182009\n",
       "2         33314          3       1           1     82431\n",
       "3         37001          3       1           3       725\n",
       "4         37819          3       1           3    220691\n",
       "...         ...        ...     ...         ...       ...\n",
       "623574  1709914          3      30           2    221022\n",
       "623575  1709935          3      30           2       725\n",
       "623576  1709942          3      30           2    223058\n",
       "623577  1709950          3      30           1    182320\n",
       "623578  1709952          3      30           1    105033\n",
       "\n",
       "[623579 rows x 5 columns]"
      ]
     },
     "execution_count": 138,
     "metadata": {},
     "output_type": "execute_result"
    }
   ],
   "source": [
    "# x_train 데이터프레임 형태 확인\n",
    "x_train"
   ]
  },
  {
   "cell_type": "code",
   "execution_count": 139,
   "id": "9ec956b1",
   "metadata": {},
   "outputs": [
    {
     "name": "stderr",
     "output_type": "stream",
     "text": [
      "C:\\Users\\HJ\\AppData\\Local\\Temp/ipykernel_23104/1814876568.py:5: DataConversionWarning: A column-vector y was passed when a 1d array was expected. Please change the shape of y to (n_samples,), for example using ravel().\n",
      "  RF.fit(x_train, y_train)\n"
     ]
    }
   ],
   "source": [
    "# 랜덤포레스트 모델 선언\n",
    "RF = RandomForestRegressor()\n",
    "\n",
    "# 랜덤포레스트 모델 학습\n",
    "RF.fit(x_train, y_train)\n",
    "\n",
    "# Test 데이터에 대한 예측 수행\n",
    "predicted = RF.predict(x_test)\n",
    "\n",
    "# MSE 및 MAE 측정\n",
    "MSE = mean_squared_error(y_test, predicted)\n",
    "MAE = mean_absolute_error(y_test, predicted)"
   ]
  },
  {
   "cell_type": "code",
   "execution_count": 140,
   "id": "0058c9d6",
   "metadata": {},
   "outputs": [
    {
     "name": "stdout",
     "output_type": "stream",
     "text": [
      "MSE : 0.17597800931571767\n",
      "MAE : 0.09133915888759021\n"
     ]
    }
   ],
   "source": [
    "print(f\"MSE : {MSE}\\nMAE : {MAE}\")"
   ]
  },
  {
   "cell_type": "markdown",
   "id": "ba5288de",
   "metadata": {},
   "source": [
    "> => 유저별 이용건수 예측(1차) 결과, MSE는 0.17443 ~ 0.17598 수준, MAE는 0.08876 ~ 0.09134 수준으로 측정됨 확인"
   ]
  },
  {
   "cell_type": "code",
   "execution_count": null,
   "id": "0add8b53",
   "metadata": {},
   "outputs": [],
   "source": []
  },
  {
   "cell_type": "markdown",
   "id": "ba089860",
   "metadata": {},
   "source": [
    "# [비교용] 유저별 이용건수 예측(1-1차)\n",
    "* 예측 모델 적용 관련 조건 및 가이드(1차와 동일)\n",
    "  - 초기 랜덤 시드 설정 => np.random.seed(42)\n",
    "  - 데이터 구성 기준<br/>\n",
    "    o Training Data => 2020.01.01 ~ 2020.09.30<br/>\n",
    "    o Test Data => 2020.10.01 ~ 2020.12.31<br/>\n",
    "<br/>\n",
    "* 1차에서 적용 보류한 Feature 2개 추가\n",
    "  - \"JOIN_YEAR\" => \"JOIN_DATE\"에서 추출한 유저의 가입연도 정보\n",
    "  - \"D_TYPE\" => 유저별로 1개씩 존재하는 특정값(AA, BB, CC)"
   ]
  },
  {
   "cell_type": "code",
   "execution_count": 141,
   "id": "b6187115",
   "metadata": {},
   "outputs": [],
   "source": [
    "np.random.seed(42)  # 랜덤 시드값 설정"
   ]
  },
  {
   "cell_type": "code",
   "execution_count": 142,
   "id": "b9dfde3b",
   "metadata": {},
   "outputs": [],
   "source": [
    "# 위 가이드 기준 Training, Test 데이터 분류\n",
    "training_v1_1 = df_v2_1.query(\"DATE >= '2020-01-01' and DATE <= '2020-09-30'\")\n",
    "test_v1_1 = df_v2_1.query(\"DATE >= '2020-10-01' and DATE <= '2020-12-31'\")"
   ]
  },
  {
   "cell_type": "code",
   "execution_count": 143,
   "id": "19f4c2ed",
   "metadata": {},
   "outputs": [
    {
     "name": "stderr",
     "output_type": "stream",
     "text": [
      "c:\\users\\hj\\.conda\\envs\\pydata\\lib\\site-packages\\pandas\\core\\generic.py:6610: SettingWithCopyWarning: \n",
      "A value is trying to be set on a copy of a slice from a DataFrame\n",
      "\n",
      "See the caveats in the documentation: https://pandas.pydata.org/pandas-docs/stable/user_guide/indexing.html#returning-a-view-versus-a-copy\n",
      "  return self._update_inplace(result)\n"
     ]
    }
   ],
   "source": [
    "# 요일 정보를 숫자로 변경\n",
    "training_v1_1[\"DATE_WDAY\"].replace({\"Mon\":1, \"Tue\":2, \"Wed\":3, \"Thu\":4, \"Fri\":5, \"Sat\":6, \"Sun\":7}, inplace=True)\n",
    "test_v1_1[\"DATE_WDAY\"].replace({\"Mon\":1, \"Tue\":2, \"Wed\":3, \"Thu\":4, \"Fri\":5, \"Sat\":6, \"Sun\":7}, inplace=True)\n",
    "\n",
    "# GOODS_TYPE 정보를 숫자로 변경\n",
    "training_v1_1[\"GOODS_TYPE\"].replace({\"A\":1, \"B\":2, \"C\":3, \"D\":4}, inplace=True)\n",
    "test_v1_1[\"GOODS_TYPE\"].replace({\"A\":1, \"B\":2, \"C\":3, \"D\":4}, inplace=True)\n",
    "\n",
    "# D_TYPE 정보를 숫자로 변경\n",
    "training_v1_1[\"D_TYPE\"].replace({\"AA\":1, \"BB\":2, \"CC\":3}, inplace=True)\n",
    "test_v1_1[\"D_TYPE\"].replace({\"AA\":1, \"BB\":2, \"CC\":3}, inplace=True)"
   ]
  },
  {
   "cell_type": "code",
   "execution_count": 144,
   "id": "0d99f828",
   "metadata": {},
   "outputs": [],
   "source": [
    "# Training, Test 데이터 준비\n",
    "x_train = training_v1_1[[\"USER_ID\", \"DATE_WDAY\", \"DATE_D\", \"GOODS_TYPE\", \"STORE_ID\",\n",
    "                      \"JOIN_YEAR\", \"D_TYPE\"]]  # 1차에서 적용한 Feature 외에 가입연도, D_TYPE 추가 적용\n",
    "x_test = test_v1_1[[\"USER_ID\", \"DATE_WDAY\", \"DATE_D\", \"GOODS_TYPE\", \"STORE_ID\",\n",
    "                      \"JOIN_YEAR\", \"D_TYPE\"]]  # 1차에서 적용한 Feature 외에 가입연도, D_TYPE 추가 적용\n",
    "y_train = training_v1_1[[\"COUNT\"]]\n",
    "y_test = test_v1_1[[\"COUNT\"]]"
   ]
  },
  {
   "cell_type": "code",
   "execution_count": 145,
   "id": "0b0105e3",
   "metadata": {},
   "outputs": [
    {
     "data": {
      "text/html": [
       "<div>\n",
       "<style scoped>\n",
       "    .dataframe tbody tr th:only-of-type {\n",
       "        vertical-align: middle;\n",
       "    }\n",
       "\n",
       "    .dataframe tbody tr th {\n",
       "        vertical-align: top;\n",
       "    }\n",
       "\n",
       "    .dataframe thead th {\n",
       "        text-align: right;\n",
       "    }\n",
       "</style>\n",
       "<table border=\"1\" class=\"dataframe\">\n",
       "  <thead>\n",
       "    <tr style=\"text-align: right;\">\n",
       "      <th></th>\n",
       "      <th>USER_ID</th>\n",
       "      <th>DATE_WDAY</th>\n",
       "      <th>DATE_D</th>\n",
       "      <th>GOODS_TYPE</th>\n",
       "      <th>STORE_ID</th>\n",
       "      <th>JOIN_YEAR</th>\n",
       "      <th>D_TYPE</th>\n",
       "    </tr>\n",
       "  </thead>\n",
       "  <tbody>\n",
       "    <tr>\n",
       "      <th>0</th>\n",
       "      <td>2858</td>\n",
       "      <td>3</td>\n",
       "      <td>1</td>\n",
       "      <td>1</td>\n",
       "      <td>1892</td>\n",
       "      <td>2014</td>\n",
       "      <td>1</td>\n",
       "    </tr>\n",
       "    <tr>\n",
       "      <th>1</th>\n",
       "      <td>5647</td>\n",
       "      <td>3</td>\n",
       "      <td>1</td>\n",
       "      <td>1</td>\n",
       "      <td>182009</td>\n",
       "      <td>2014</td>\n",
       "      <td>2</td>\n",
       "    </tr>\n",
       "    <tr>\n",
       "      <th>2</th>\n",
       "      <td>33314</td>\n",
       "      <td>3</td>\n",
       "      <td>1</td>\n",
       "      <td>1</td>\n",
       "      <td>82431</td>\n",
       "      <td>2014</td>\n",
       "      <td>2</td>\n",
       "    </tr>\n",
       "    <tr>\n",
       "      <th>3</th>\n",
       "      <td>37001</td>\n",
       "      <td>3</td>\n",
       "      <td>1</td>\n",
       "      <td>3</td>\n",
       "      <td>725</td>\n",
       "      <td>2014</td>\n",
       "      <td>2</td>\n",
       "    </tr>\n",
       "    <tr>\n",
       "      <th>4</th>\n",
       "      <td>37819</td>\n",
       "      <td>3</td>\n",
       "      <td>1</td>\n",
       "      <td>3</td>\n",
       "      <td>220691</td>\n",
       "      <td>2014</td>\n",
       "      <td>1</td>\n",
       "    </tr>\n",
       "    <tr>\n",
       "      <th>...</th>\n",
       "      <td>...</td>\n",
       "      <td>...</td>\n",
       "      <td>...</td>\n",
       "      <td>...</td>\n",
       "      <td>...</td>\n",
       "      <td>...</td>\n",
       "      <td>...</td>\n",
       "    </tr>\n",
       "    <tr>\n",
       "      <th>623574</th>\n",
       "      <td>1709914</td>\n",
       "      <td>3</td>\n",
       "      <td>30</td>\n",
       "      <td>2</td>\n",
       "      <td>221022</td>\n",
       "      <td>2020</td>\n",
       "      <td>2</td>\n",
       "    </tr>\n",
       "    <tr>\n",
       "      <th>623575</th>\n",
       "      <td>1709935</td>\n",
       "      <td>3</td>\n",
       "      <td>30</td>\n",
       "      <td>2</td>\n",
       "      <td>725</td>\n",
       "      <td>2020</td>\n",
       "      <td>1</td>\n",
       "    </tr>\n",
       "    <tr>\n",
       "      <th>623576</th>\n",
       "      <td>1709942</td>\n",
       "      <td>3</td>\n",
       "      <td>30</td>\n",
       "      <td>2</td>\n",
       "      <td>223058</td>\n",
       "      <td>2020</td>\n",
       "      <td>1</td>\n",
       "    </tr>\n",
       "    <tr>\n",
       "      <th>623577</th>\n",
       "      <td>1709950</td>\n",
       "      <td>3</td>\n",
       "      <td>30</td>\n",
       "      <td>1</td>\n",
       "      <td>182320</td>\n",
       "      <td>2020</td>\n",
       "      <td>2</td>\n",
       "    </tr>\n",
       "    <tr>\n",
       "      <th>623578</th>\n",
       "      <td>1709952</td>\n",
       "      <td>3</td>\n",
       "      <td>30</td>\n",
       "      <td>1</td>\n",
       "      <td>105033</td>\n",
       "      <td>2020</td>\n",
       "      <td>1</td>\n",
       "    </tr>\n",
       "  </tbody>\n",
       "</table>\n",
       "<p>623579 rows × 7 columns</p>\n",
       "</div>"
      ],
      "text/plain": [
       "        USER_ID  DATE_WDAY  DATE_D  GOODS_TYPE  STORE_ID  JOIN_YEAR  D_TYPE\n",
       "0          2858          3       1           1      1892       2014       1\n",
       "1          5647          3       1           1    182009       2014       2\n",
       "2         33314          3       1           1     82431       2014       2\n",
       "3         37001          3       1           3       725       2014       2\n",
       "4         37819          3       1           3    220691       2014       1\n",
       "...         ...        ...     ...         ...       ...        ...     ...\n",
       "623574  1709914          3      30           2    221022       2020       2\n",
       "623575  1709935          3      30           2       725       2020       1\n",
       "623576  1709942          3      30           2    223058       2020       1\n",
       "623577  1709950          3      30           1    182320       2020       2\n",
       "623578  1709952          3      30           1    105033       2020       1\n",
       "\n",
       "[623579 rows x 7 columns]"
      ]
     },
     "execution_count": 145,
     "metadata": {},
     "output_type": "execute_result"
    }
   ],
   "source": [
    "# x_train 데이터프레임 형태 확인\n",
    "x_train"
   ]
  },
  {
   "cell_type": "code",
   "execution_count": 146,
   "id": "58f32e1c",
   "metadata": {},
   "outputs": [
    {
     "name": "stderr",
     "output_type": "stream",
     "text": [
      "C:\\Users\\HJ\\AppData\\Local\\Temp/ipykernel_23104/1814876568.py:5: DataConversionWarning: A column-vector y was passed when a 1d array was expected. Please change the shape of y to (n_samples,), for example using ravel().\n",
      "  RF.fit(x_train, y_train)\n"
     ]
    }
   ],
   "source": [
    "# 랜덤포레스트 모델 선언\n",
    "RF = RandomForestRegressor()\n",
    "\n",
    "# 랜덤포레스트 모델 학습\n",
    "RF.fit(x_train, y_train)\n",
    "\n",
    "# Test 데이터에 대한 예측 수행\n",
    "predicted = RF.predict(x_test)\n",
    "\n",
    "# MSE 및 MAE 측정\n",
    "MSE = mean_squared_error(y_test, predicted)\n",
    "MAE = mean_absolute_error(y_test, predicted)"
   ]
  },
  {
   "cell_type": "code",
   "execution_count": 147,
   "id": "63722a02",
   "metadata": {},
   "outputs": [
    {
     "name": "stdout",
     "output_type": "stream",
     "text": [
      "MSE : 0.17686155736562714\n",
      "MAE : 0.09292702490955762\n"
     ]
    }
   ],
   "source": [
    "print(f\"MSE : {MSE}\\nMAE : {MAE}\")"
   ]
  },
  {
   "cell_type": "markdown",
   "id": "7808fc1d",
   "metadata": {},
   "source": [
    "> => [비교용] 유저별 이용건수 예측(1-1차) 결과, MSE는 0.17592 ~ 0.17686 수준, MAE는 0.09293 ~ 0.09295 수준으로 측정됨 확인\n",
    "\n",
    "> => MSE 및 MAE 수치 기준으로 봤을 때, 1차 결과 대비 오히려 성능이 다소 저하된 것으로 나타남"
   ]
  },
  {
   "cell_type": "code",
   "execution_count": null,
   "id": "18f6c4ff",
   "metadata": {},
   "outputs": [],
   "source": []
  },
  {
   "cell_type": "markdown",
   "id": "d40cd1bb",
   "metadata": {},
   "source": [
    "# 외부데이터 활용 검토\n",
    "* 외부데이터 1) 교통량 데이터\n",
    "\n",
    "* 외부데이터 2) 기상 데이터"
   ]
  },
  {
   "cell_type": "code",
   "execution_count": 148,
   "id": "d7560df2",
   "metadata": {},
   "outputs": [
    {
     "data": {
      "text/html": [
       "<div>\n",
       "<style scoped>\n",
       "    .dataframe tbody tr th:only-of-type {\n",
       "        vertical-align: middle;\n",
       "    }\n",
       "\n",
       "    .dataframe tbody tr th {\n",
       "        vertical-align: top;\n",
       "    }\n",
       "\n",
       "    .dataframe thead th {\n",
       "        text-align: right;\n",
       "    }\n",
       "</style>\n",
       "<table border=\"1\" class=\"dataframe\">\n",
       "  <thead>\n",
       "    <tr style=\"text-align: right;\">\n",
       "      <th></th>\n",
       "      <th>DATE</th>\n",
       "      <th>지점명</th>\n",
       "      <th>지점번호</th>\n",
       "      <th>방향</th>\n",
       "      <th>구분</th>\n",
       "      <th>0시</th>\n",
       "      <th>1시</th>\n",
       "      <th>2시</th>\n",
       "      <th>3시</th>\n",
       "      <th>4시</th>\n",
       "      <th>...</th>\n",
       "      <th>14시</th>\n",
       "      <th>15시</th>\n",
       "      <th>16시</th>\n",
       "      <th>17시</th>\n",
       "      <th>18시</th>\n",
       "      <th>19시</th>\n",
       "      <th>20시</th>\n",
       "      <th>21시</th>\n",
       "      <th>22시</th>\n",
       "      <th>23시</th>\n",
       "    </tr>\n",
       "  </thead>\n",
       "  <tbody>\n",
       "    <tr>\n",
       "      <th>0</th>\n",
       "      <td>2020-01-01</td>\n",
       "      <td>성산로(금화터널)</td>\n",
       "      <td>A-01</td>\n",
       "      <td>유입</td>\n",
       "      <td>봉원고가차도-&gt;독립문역</td>\n",
       "      <td>712.0</td>\n",
       "      <td>645.0</td>\n",
       "      <td>437.0</td>\n",
       "      <td>309.0</td>\n",
       "      <td>290.0</td>\n",
       "      <td>...</td>\n",
       "      <td>1472.0</td>\n",
       "      <td>1416.0</td>\n",
       "      <td>1483.0</td>\n",
       "      <td>1329.0</td>\n",
       "      <td>1157.0</td>\n",
       "      <td>1014.0</td>\n",
       "      <td>954.0</td>\n",
       "      <td>849.0</td>\n",
       "      <td>780.0</td>\n",
       "      <td>480.0</td>\n",
       "    </tr>\n",
       "    <tr>\n",
       "      <th>1</th>\n",
       "      <td>2020-01-02</td>\n",
       "      <td>성산로(금화터널)</td>\n",
       "      <td>A-01</td>\n",
       "      <td>유입</td>\n",
       "      <td>봉원고가차도-&gt;독립문역</td>\n",
       "      <td>315.0</td>\n",
       "      <td>222.0</td>\n",
       "      <td>186.0</td>\n",
       "      <td>165.0</td>\n",
       "      <td>266.0</td>\n",
       "      <td>...</td>\n",
       "      <td>1792.0</td>\n",
       "      <td>1897.0</td>\n",
       "      <td>1842.0</td>\n",
       "      <td>2061.0</td>\n",
       "      <td>1994.0</td>\n",
       "      <td>1443.0</td>\n",
       "      <td>1233.0</td>\n",
       "      <td>1165.0</td>\n",
       "      <td>1094.0</td>\n",
       "      <td>852.0</td>\n",
       "    </tr>\n",
       "    <tr>\n",
       "      <th>2</th>\n",
       "      <td>2020-01-03</td>\n",
       "      <td>성산로(금화터널)</td>\n",
       "      <td>A-01</td>\n",
       "      <td>유입</td>\n",
       "      <td>봉원고가차도-&gt;독립문역</td>\n",
       "      <td>632.0</td>\n",
       "      <td>457.0</td>\n",
       "      <td>295.0</td>\n",
       "      <td>236.0</td>\n",
       "      <td>279.0</td>\n",
       "      <td>...</td>\n",
       "      <td>2004.0</td>\n",
       "      <td>1929.0</td>\n",
       "      <td>2049.0</td>\n",
       "      <td>2140.0</td>\n",
       "      <td>2178.0</td>\n",
       "      <td>1654.0</td>\n",
       "      <td>1356.0</td>\n",
       "      <td>1260.0</td>\n",
       "      <td>1253.0</td>\n",
       "      <td>941.0</td>\n",
       "    </tr>\n",
       "    <tr>\n",
       "      <th>3</th>\n",
       "      <td>2020-01-04</td>\n",
       "      <td>성산로(금화터널)</td>\n",
       "      <td>A-01</td>\n",
       "      <td>유입</td>\n",
       "      <td>봉원고가차도-&gt;독립문역</td>\n",
       "      <td>740.0</td>\n",
       "      <td>518.0</td>\n",
       "      <td>388.0</td>\n",
       "      <td>331.0</td>\n",
       "      <td>330.0</td>\n",
       "      <td>...</td>\n",
       "      <td>1837.0</td>\n",
       "      <td>1788.0</td>\n",
       "      <td>1588.0</td>\n",
       "      <td>1669.0</td>\n",
       "      <td>1530.0</td>\n",
       "      <td>1222.0</td>\n",
       "      <td>1143.0</td>\n",
       "      <td>1089.0</td>\n",
       "      <td>1039.0</td>\n",
       "      <td>791.0</td>\n",
       "    </tr>\n",
       "    <tr>\n",
       "      <th>4</th>\n",
       "      <td>2020-01-05</td>\n",
       "      <td>성산로(금화터널)</td>\n",
       "      <td>A-01</td>\n",
       "      <td>유입</td>\n",
       "      <td>봉원고가차도-&gt;독립문역</td>\n",
       "      <td>533.0</td>\n",
       "      <td>424.0</td>\n",
       "      <td>297.0</td>\n",
       "      <td>230.0</td>\n",
       "      <td>209.0</td>\n",
       "      <td>...</td>\n",
       "      <td>1634.0</td>\n",
       "      <td>1673.0</td>\n",
       "      <td>1494.0</td>\n",
       "      <td>1429.0</td>\n",
       "      <td>1288.0</td>\n",
       "      <td>1035.0</td>\n",
       "      <td>987.0</td>\n",
       "      <td>884.0</td>\n",
       "      <td>803.0</td>\n",
       "      <td>564.0</td>\n",
       "    </tr>\n",
       "  </tbody>\n",
       "</table>\n",
       "<p>5 rows × 29 columns</p>\n",
       "</div>"
      ],
      "text/plain": [
       "        DATE        지점명  지점번호  방향            구분     0시     1시     2시     3시  \\\n",
       "0 2020-01-01  성산로(금화터널)  A-01  유입  봉원고가차도->독립문역  712.0  645.0  437.0  309.0   \n",
       "1 2020-01-02  성산로(금화터널)  A-01  유입  봉원고가차도->독립문역  315.0  222.0  186.0  165.0   \n",
       "2 2020-01-03  성산로(금화터널)  A-01  유입  봉원고가차도->독립문역  632.0  457.0  295.0  236.0   \n",
       "3 2020-01-04  성산로(금화터널)  A-01  유입  봉원고가차도->독립문역  740.0  518.0  388.0  331.0   \n",
       "4 2020-01-05  성산로(금화터널)  A-01  유입  봉원고가차도->독립문역  533.0  424.0  297.0  230.0   \n",
       "\n",
       "      4시  ...     14시     15시     16시     17시     18시     19시     20시     21시  \\\n",
       "0  290.0  ...  1472.0  1416.0  1483.0  1329.0  1157.0  1014.0   954.0   849.0   \n",
       "1  266.0  ...  1792.0  1897.0  1842.0  2061.0  1994.0  1443.0  1233.0  1165.0   \n",
       "2  279.0  ...  2004.0  1929.0  2049.0  2140.0  2178.0  1654.0  1356.0  1260.0   \n",
       "3  330.0  ...  1837.0  1788.0  1588.0  1669.0  1530.0  1222.0  1143.0  1089.0   \n",
       "4  209.0  ...  1634.0  1673.0  1494.0  1429.0  1288.0  1035.0   987.0   884.0   \n",
       "\n",
       "      22시    23시  \n",
       "0   780.0  480.0  \n",
       "1  1094.0  852.0  \n",
       "2  1253.0  941.0  \n",
       "3  1039.0  791.0  \n",
       "4   803.0  564.0  \n",
       "\n",
       "[5 rows x 29 columns]"
      ]
     },
     "execution_count": 148,
     "metadata": {},
     "output_type": "execute_result"
    }
   ],
   "source": [
    "traffic_df = pd.read_excel(\"./data/2020교통량통합.xlsx\", engine=\"openpyxl\")\n",
    "traffic_df.head()"
   ]
  },
  {
   "cell_type": "code",
   "execution_count": null,
   "id": "d9a22d3a",
   "metadata": {},
   "outputs": [],
   "source": []
  },
  {
   "cell_type": "code",
   "execution_count": null,
   "id": "947db24c",
   "metadata": {},
   "outputs": [],
   "source": []
  }
 ],
 "metadata": {
  "kernelspec": {
   "display_name": "Python 3 (ipykernel)",
   "language": "python",
   "name": "python3"
  },
  "language_info": {
   "codemirror_mode": {
    "name": "ipython",
    "version": 3
   },
   "file_extension": ".py",
   "mimetype": "text/x-python",
   "name": "python",
   "nbconvert_exporter": "python",
   "pygments_lexer": "ipython3",
   "version": "3.8.10"
  }
 },
 "nbformat": 4,
 "nbformat_minor": 5
}
