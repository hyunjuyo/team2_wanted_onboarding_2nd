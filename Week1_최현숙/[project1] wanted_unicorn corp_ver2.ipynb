{
 "cells": [
  {
   "cell_type": "markdown",
   "id": "982237c9",
   "metadata": {},
   "source": [
    "# 💡 Project1 : 원티드 국민연금 데이터를 활용하여 유니콘 기업 선정하기"
   ]
  },
  {
   "cell_type": "markdown",
   "id": "44f16eb9",
   "metadata": {},
   "source": [
    "## ⚡ SUMMARY\n",
    "\n",
    "> **분석 목표** : 원티드 국민연금 데이터를 활용하여 유니콘 기업 선정하기 \n",
    "\n",
    "> **분석 자료** : 기업의 국민연금 납부 데이터(2015-2019)\n",
    "\n",
    "> **분석 근거** :   \n",
    "    (1) 현재 존재하는 회사일 것(가장 최신 데이터인 2019년 12월 납부내역 데이터가 있을 것)   \n",
    "    (2) 기업이 2년 이상 유지될 것   \n",
    "    (3) 최소 직원 수가 40명 이상일 것   \n",
    "    (4) 직원 수의 증가(직원 수 평균 증감율이 0 이상일 것)   \n",
    "    (5) 연 평균 매출액 증감율 상승\n",
    "    \n",
    "> **분석 결론** : 유니콘 기업 선정(420165,294367,296819,440911,473265)"
   ]
  },
  {
   "cell_type": "markdown",
   "id": "d695ffdb",
   "metadata": {},
   "source": [
    "## ⚡ 목차"
   ]
  },
  {
   "cell_type": "markdown",
   "id": "9b27b209",
   "metadata": {},
   "source": [
    ">### 1. 프로젝트 개요\n",
    ">### 2. 유니콘 기업 정의\n",
    ">### 3. EDA 및 분석\n",
    ">### 5. 최종 유니콘 기업 선정"
   ]
  },
  {
   "cell_type": "markdown",
   "id": "8570c8b6",
   "metadata": {},
   "source": [
    "## ⚡ 1. 프로젝트 개요"
   ]
  },
  {
   "cell_type": "markdown",
   "id": "29b0bc59",
   "metadata": {},
   "source": [
    "원티드는 채용 플랫폼으로 회사와 구직자 양측에 양질의 정보를 제공하고자 기업 분석을 하려고 한다.  \n",
    "최근 크레딧잡이라는 국민연금 데이터 기반으로 기업 평균 연봉 정보를 공유하는 회사를 인수하며 국민연금 납부 내역 데이터를 확보하게 되었다. ***국민연금 데이터를 활용하여 될성부른 떡잎인 유니콘 회사를 찾아보자 !***\n",
    "\n",
    "<U>기본 데이터:</U> 원티드의 국민연금 납부 내역 기업 리스트 데이터(2015-2019)를 사용한다.   \n",
    "\n",
    "<U>가정:</U> \n",
    "- 유니콘 회사란 기업 가치가 1조 원 이상이고 창업한 지 10년 이하인 비상장 스타트업으로 정의한다.\n",
    "\n",
    "- 현 데이터는 국민연금으로부터 제공받은 15-19년도 데이터 전부이다 (데이터는 유실되지 않았다. 예를 들어, A라는 회사가 18년도까지의 납부 내역은 있지만 19년도 데이터가 없다면 이는 없어진 회사로 간주한다)"
   ]
  },
  {
   "cell_type": "markdown",
   "id": "a836a654",
   "metadata": {},
   "source": [
    "## ⚡ 2. 유니콘 기업 정의 \n",
    "\n",
    "\n",
    "### 1) 유니콘 기업의 정의 \n",
    "1) 기업 가치가 10억 달러(=1조 원) 이상이고   \n",
    "2) 창업한지 10년 이하인 비상장 스타트업  \n",
    "출저: 위키백과 https://ko.wikipedia.org/wiki/%EC%9C%A0%EB%8B%88%EC%BD%98_%EA%B8%B0%EC%97%85\n",
    "\n",
    "### 2) 유니콘 기업 사례 탐구\n",
    "\n",
    "주어진 데이터가 국민연금 데이터임을 고려할 때, 찾고자 하는 유니콘 기업도 한국 기업이므로 한국 내 유니콘 기업들의 종류와 특징을 살펴보고 향후 유니콘 기업 선발 기준으로 활용하고자 한다. \n",
    "\n",
    "<U>유니콘 기업(2021.08 기준)</U>: 옐로모바일, 엘앤피코스메틱 ,크래프톤, 비바리퍼블리카, 야놀자, 위메프, 지피클럽, 무신사, 에이프로젠, 쏘카, 컬리, 티몬, 두나무, 직방   \n",
    "\n",
    "<U>유니콘 기업들의 특징</U>   \n",
    "- 유니콘 기업의 직원 수는 최소 40명 - 1000명 미만이다.(유니콘 기업 선정 시점 기준)   \n",
    "(예. 지피클럽의 경우 2018.10월 유니콘 기업 선정 당시 직원 수 44명. 야놀자의 경우 2019.6월 유니콘 기업 선정 당시 직원 수 615명)\n",
    "\n",
    "\n",
    "- 창업 후 유니콘 기업까지 걸리는 시간은 최소 2년 이상이다.   \n",
    "(예. 옐로모바일/2년 3개월/2012.8 - 2014.11)   \n",
    "\n",
    "\n",
    "- 매출이 정체하고 있더라도 직원 수 증가하는 경향이 있다.   \n",
    "(예. 직방의 매출 증가율은 △2017년 25.3% △2018년 20% △2019년 0.2% 로 정체하고 있지만 플랫폼 개발자 인력을 2배 가까이 늘렸다)\n",
    "\n",
    "\n",
    "- 매출에 변동성이 많다.   \n",
    "매출이 급등하는 회사도 있고 반대로 매출이 감소했던 기업도 있다. \n",
    "\n",
    "\n",
    "### 3) 프로젝트에서 활용할 유니콘 기업의 조건\n",
    "\n",
    "(1) 현재 존재하는 회사일 것(가장 최신 데이터인 2019년 12월 납부내역 데이터가 있을 것)   \n",
    "\n",
    "(2) 기업이 2년 이상 유지될 것   \n",
    "\n",
    "(3) 최소 직원 수가 40명 이상일 것\n",
    "\n",
    "(4) 직원 수의 증가(직원 수 평균 증감율이 0 이상일 것)\n",
    "\n",
    "(5) 연 평균 매출액 증감율 상승  "
   ]
  },
  {
   "cell_type": "markdown",
   "id": "61872933",
   "metadata": {},
   "source": [
    "## ⚡ 3. EDA 및 분석"
   ]
  },
  {
   "cell_type": "code",
   "execution_count": 1,
   "id": "88fd0c64",
   "metadata": {},
   "outputs": [],
   "source": [
    "import pandas as pd\n",
    "import numpy as np\n",
    "import matplotlib as mpl\n",
    "import matplotlib.pyplot as plt"
   ]
  },
  {
   "cell_type": "code",
   "execution_count": 2,
   "id": "576704b4",
   "metadata": {},
   "outputs": [],
   "source": [
    "train = pd.read_csv('./data/company_nps_data.csv')"
   ]
  },
  {
   "cell_type": "markdown",
   "id": "e1821692",
   "metadata": {},
   "source": [
    "* 회사의 총 개수:  \n",
    "    - 회사ID별 중복을 제거하니 데이터 내 회사는 5000개이다.    \n",
    "    - 5000개 회사 중 유니콘 회사 찾기! "
   ]
  },
  {
   "cell_type": "code",
   "execution_count": 10,
   "id": "58052d75",
   "metadata": {},
   "outputs": [
    {
     "data": {
      "text/plain": [
       "(99801, 6)"
      ]
     },
     "execution_count": 10,
     "metadata": {},
     "output_type": "execute_result"
    }
   ],
   "source": [
    "train.shape"
   ]
  },
  {
   "cell_type": "code",
   "execution_count": 4,
   "id": "909062cc",
   "metadata": {
    "scrolled": true
   },
   "outputs": [
    {
     "data": {
      "text/plain": [
       "250472     50\n",
       "404192     50\n",
       "128174     50\n",
       "395238     50\n",
       "135668     50\n",
       "           ..\n",
       "246979      1\n",
       "105360      1\n",
       "287627      1\n",
       "573329      1\n",
       "1983879     1\n",
       "Name: 회사ID, Length: 5000, dtype: int64"
      ]
     },
     "execution_count": 4,
     "metadata": {},
     "output_type": "execute_result"
    }
   ],
   "source": [
    "train.회사ID.value_counts()"
   ]
  },
  {
   "cell_type": "markdown",
   "id": "49e24416",
   "metadata": {},
   "source": [
    "### 📈 유니콘 회사가 되기 위한 조건 1_현재 존재하는 회사일 것"
   ]
  },
  {
   "cell_type": "markdown",
   "id": "54fb5147",
   "metadata": {},
   "source": [
    "+ 가장 최신 데이터인 2019년 12월 납부내역이 있어야 한다  \n",
    "5000개 기업 중 현재 존재하는 회사는 74개."
   ]
  },
  {
   "cell_type": "code",
   "execution_count": 5,
   "id": "b62230c2",
   "metadata": {},
   "outputs": [
    {
     "data": {
      "text/plain": [
       "회사ID\n",
       "2037       1\n",
       "440559     1\n",
       "428380     1\n",
       "420165     1\n",
       "419945     1\n",
       "          ..\n",
       "237625     1\n",
       "212335     1\n",
       "205415     1\n",
       "193239     1\n",
       "5159723    1\n",
       "Length: 74, dtype: int64"
      ]
     },
     "execution_count": 5,
     "metadata": {},
     "output_type": "execute_result"
    }
   ],
   "source": [
    "train.loc[(train['년도']==2019) & (train['월']==12)].value_counts('회사ID')"
   ]
  },
  {
   "cell_type": "markdown",
   "id": "f6b3790b",
   "metadata": {},
   "source": [
    "* 분석 데이터에서 존재하는 회사 데이터만 남기기(회사 ID 74개)"
   ]
  },
  {
   "cell_type": "code",
   "execution_count": 36,
   "id": "0563dc39",
   "metadata": {},
   "outputs": [
    {
     "data": {
      "text/plain": [
       "404192     50\n",
       "130756     50\n",
       "250472     50\n",
       "395238     50\n",
       "442467     50\n",
       "           ..\n",
       "2037       12\n",
       "570867      9\n",
       "2693684     6\n",
       "3312354     5\n",
       "5159723     1\n",
       "Name: 회사ID, Length: 74, dtype: int64"
      ]
     },
     "execution_count": 36,
     "metadata": {},
     "output_type": "execute_result"
    }
   ],
   "source": [
    "train_F1 = train[train.회사ID.isin([256445,2037,343863,173916,130756,419945,130023,440911,155754,337323,270460,581504,434171,620445,135668,428380,404192,165163,332916,441424,395238,193239,155829,250472,237625,401386,8208,128174,368448,177377,264486,138077,315996,294028,258745,442798,442525,158004,205415,510449,134575,246826,338722,294367,263195,570867,280967,254479,440559,443698,2693684,442376,3312354,440884,131998,5159723,296819,192812,140370,255015,47306,473265,420165,139442,14271,305146,212335,297542,478922,303882,130261,297682,445499,442467])]\n",
    "train_F1.회사ID.value_counts()"
   ]
  },
  {
   "cell_type": "markdown",
   "id": "439ffa8f",
   "metadata": {},
   "source": [
    "* 이상값 확인:  \n",
    "    연금보험료 또는 직원수가 0인 회사가 있는지 확인  \n",
    "    현재 필터링된 데이터 내에서는 이상값 없음"
   ]
  },
  {
   "cell_type": "code",
   "execution_count": 31,
   "id": "af6bc7d3",
   "metadata": {},
   "outputs": [
    {
     "data": {
      "text/html": [
       "<div>\n",
       "<style scoped>\n",
       "    .dataframe tbody tr th:only-of-type {\n",
       "        vertical-align: middle;\n",
       "    }\n",
       "\n",
       "    .dataframe tbody tr th {\n",
       "        vertical-align: top;\n",
       "    }\n",
       "\n",
       "    .dataframe thead th {\n",
       "        text-align: right;\n",
       "    }\n",
       "</style>\n",
       "<table border=\"1\" class=\"dataframe\">\n",
       "  <thead>\n",
       "    <tr style=\"text-align: right;\">\n",
       "      <th></th>\n",
       "      <th>회사ID</th>\n",
       "      <th>연매출액</th>\n",
       "      <th>년도</th>\n",
       "      <th>월</th>\n",
       "      <th>월별_연금보험료</th>\n",
       "      <th>월별_직원수</th>\n",
       "    </tr>\n",
       "  </thead>\n",
       "  <tbody>\n",
       "  </tbody>\n",
       "</table>\n",
       "</div>"
      ],
      "text/plain": [
       "Empty DataFrame\n",
       "Columns: [회사ID, 연매출액, 년도, 월, 월별_연금보험료, 월별_직원수]\n",
       "Index: []"
      ]
     },
     "execution_count": 31,
     "metadata": {},
     "output_type": "execute_result"
    }
   ],
   "source": [
    "train_F1.loc[(train_F1['월별_연금보험료']==0) | train_F1['월별_직원수']==0]"
   ]
  },
  {
   "cell_type": "markdown",
   "id": "a3eacbb8",
   "metadata": {},
   "source": [
    "### 📈 유니콘 회사가 되기 위한 조건 2_기업이 2년 이상 유지될 것"
   ]
  },
  {
   "cell_type": "markdown",
   "id": "4d8f76fa",
   "metadata": {},
   "source": [
    "+ 2019년 12월에 존재하는 회사 중 납부내역이 2년 이상 있는 회사는 54개"
   ]
  },
  {
   "cell_type": "code",
   "execution_count": 32,
   "id": "0aae8b6c",
   "metadata": {
    "scrolled": true
   },
   "outputs": [
    {
     "data": {
      "text/plain": [
       "[404192,\n",
       " 130756,\n",
       " 250472,\n",
       " 395238,\n",
       " 442467,\n",
       " 135668,\n",
       " 237625,\n",
       " 442525,\n",
       " 138077,\n",
       " 128174,\n",
       " 296819,\n",
       " 134575,\n",
       " 14271,\n",
       " 155754,\n",
       " 192812,\n",
       " 478922,\n",
       " 165163,\n",
       " 419945,\n",
       " 303882,\n",
       " 280967,\n",
       " 305146,\n",
       " 445499,\n",
       " 428380,\n",
       " 434171,\n",
       " 297542,\n",
       " 130023,\n",
       " 297682,\n",
       " 263195,\n",
       " 177377,\n",
       " 442798,\n",
       " 473265,\n",
       " 294367,\n",
       " 205415,\n",
       " 442376,\n",
       " 440559,\n",
       " 510449,\n",
       " 420165,\n",
       " 130261,\n",
       " 173916,\n",
       " 212335,\n",
       " 140370,\n",
       " 158004,\n",
       " 155829,\n",
       " 270460,\n",
       " 440911,\n",
       " 401386,\n",
       " 256445,\n",
       " 337323,\n",
       " 193239,\n",
       " 332916,\n",
       " 131998,\n",
       " 368448,\n",
       " 139442,\n",
       " 264486]"
      ]
     },
     "execution_count": 32,
     "metadata": {},
     "output_type": "execute_result"
    }
   ],
   "source": [
    "train_F1['회사ID'].value_counts()[lambda x: x>=24].index.tolist()"
   ]
  },
  {
   "cell_type": "markdown",
   "id": "5986b61e",
   "metadata": {},
   "source": [
    "* 분석 데이터에서 존재하는 회사 데이터만 남기기(회사 ID 54개)"
   ]
  },
  {
   "cell_type": "code",
   "execution_count": 51,
   "id": "59a9aa27",
   "metadata": {
    "scrolled": true
   },
   "outputs": [
    {
     "data": {
      "text/plain": [
       "237625    50\n",
       "250472    50\n",
       "155754    50\n",
       "14271     50\n",
       "395238    50\n",
       "296819    50\n",
       "442525    50\n",
       "130756    50\n",
       "134575    50\n",
       "128174    50\n",
       "404192    50\n",
       "138077    50\n",
       "135668    50\n",
       "442467    50\n",
       "419945    48\n",
       "303882    48\n",
       "165163    48\n",
       "478922    48\n",
       "192812    48\n",
       "280967    46\n",
       "263195    38\n",
       "428380    38\n",
       "434171    38\n",
       "305146    38\n",
       "473265    38\n",
       "297542    38\n",
       "177377    38\n",
       "442798    38\n",
       "297682    38\n",
       "445499    38\n",
       "130023    38\n",
       "294367    38\n",
       "205415    36\n",
       "442376    36\n",
       "130261    36\n",
       "440559    36\n",
       "420165    36\n",
       "510449    36\n",
       "173916    33\n",
       "212335    33\n",
       "140370    32\n",
       "158004    26\n",
       "337323    24\n",
       "270460    24\n",
       "139442    24\n",
       "368448    24\n",
       "440911    24\n",
       "256445    24\n",
       "155829    24\n",
       "131998    24\n",
       "193239    24\n",
       "332916    24\n",
       "264486    24\n",
       "401386    24\n",
       "Name: 회사ID, dtype: int64"
      ]
     },
     "execution_count": 51,
     "metadata": {},
     "output_type": "execute_result"
    }
   ],
   "source": [
    "train_F2 = train_F1[train_F1.회사ID.isin([404192,130756,250472,395238,442467,135668,237625,442525,138077,128174,296819,134575,14271,155754,192812,478922,165163,419945,303882,280967,305146,445499,428380,434171,297542,130023,297682,263195,177377,442798,473265,294367,205415,442376,440559,510449,420165,130261,173916,212335,140370,158004,155829,270460,440911,401386,256445,337323,193239,332916,131998,368448,139442,264486])]\n",
    "train_F2.회사ID.value_counts()\n",
    "# train_F2.groupby(by=['회사ID'], as_index=False).count()"
   ]
  },
  {
   "cell_type": "markdown",
   "id": "72500be0",
   "metadata": {},
   "source": [
    "### 📈 유니콘 회사가 되기 위한 조건3_최소 직원 수가 40명 이상일 것    \n",
    "\n",
    "기간 중 1회 이상 직원수가 40명 이상일 것(회사 20개)"
   ]
  },
  {
   "cell_type": "code",
   "execution_count": 55,
   "id": "f7299bcb",
   "metadata": {
    "scrolled": true
   },
   "outputs": [],
   "source": [
    "# 조건3 - 5 계산은 곧 올리겠습니다 : ) \n",
    "# 제가 아직 파이썬이 익숙하지 않아서 엑셀에서 계산했어요 ㅎㅎ;; 파이썬으로 어떻게 표현해야 하는지 공부해보겠습니다 ㅠㅠ... \n",
    "# train_F2.groupby(by=['회사ID'], as_index=False).max()[lambda x: x>=40].index.tolist()"
   ]
  },
  {
   "cell_type": "markdown",
   "id": "d2b40486",
   "metadata": {},
   "source": [
    "* 분석 데이터에서 존재하는 회사 데이터만 남기기(회사 ID 20개)"
   ]
  },
  {
   "cell_type": "code",
   "execution_count": 52,
   "id": "b5dc5ef6",
   "metadata": {},
   "outputs": [
    {
     "data": {
      "text/plain": [
       "128174    50\n",
       "395238    50\n",
       "296819    50\n",
       "138077    50\n",
       "134575    50\n",
       "404192    50\n",
       "130756    50\n",
       "419945    48\n",
       "303882    48\n",
       "297682    38\n",
       "130023    38\n",
       "297542    38\n",
       "294367    38\n",
       "473265    38\n",
       "510449    36\n",
       "420165    36\n",
       "440559    36\n",
       "130261    36\n",
       "131998    24\n",
       "440911    24\n",
       "Name: 회사ID, dtype: int64"
      ]
     },
     "execution_count": 52,
     "metadata": {},
     "output_type": "execute_result"
    }
   ],
   "source": [
    "train_F3 = train_F2[train_F2.회사ID.isin([128174,130023,130261,130756,131998,134575,138077,294367,296819,297542,297682,303882,395238,404192,419945,420165,440559,440911,473265,510449])]\n",
    "train_F3.회사ID.value_counts()"
   ]
  },
  {
   "cell_type": "markdown",
   "id": "8b726ee9",
   "metadata": {},
   "source": [
    "### 📈 유니콘 회사가 되기 위한 조건4_직원 수의 증가(직원 수 평균 증감율이 0 이상일 것)  \n",
    "\n",
    "전체 기간 동안 직원 수가 증가할 것(직원 수 평균 증가율이 0 이상일 것) "
   ]
  },
  {
   "cell_type": "code",
   "execution_count": 26,
   "id": "50dec159",
   "metadata": {
    "scrolled": true
   },
   "outputs": [],
   "source": [
    "# train_F3.groupby(by=['회사ID'], as_index=False).max()[lambda x: x>=40].index.tolist()"
   ]
  },
  {
   "cell_type": "markdown",
   "id": "17c1b7cb",
   "metadata": {},
   "source": [
    "* 분석 데이터에서 존재하는 회사 데이터만 남기기(회사 ID 9개)"
   ]
  },
  {
   "cell_type": "code",
   "execution_count": 53,
   "id": "a9ca120d",
   "metadata": {},
   "outputs": [
    {
     "data": {
      "text/plain": [
       "404192    50\n",
       "296819    50\n",
       "473265    38\n",
       "297682    38\n",
       "294367    38\n",
       "440559    36\n",
       "420165    36\n",
       "510449    36\n",
       "440911    24\n",
       "Name: 회사ID, dtype: int64"
      ]
     },
     "execution_count": 53,
     "metadata": {},
     "output_type": "execute_result"
    }
   ],
   "source": [
    "train_F4 = train_F3[train_F3.회사ID.isin([294367,296819,297682,404192,420165,440559,440911,473265,510449])]\n",
    "train_F4.회사ID.value_counts()"
   ]
  },
  {
   "cell_type": "markdown",
   "id": "e69192a6",
   "metadata": {},
   "source": [
    "### 📈 유니콘 회사가 되기 위한 조건 5_연평균 매출액 증감율 상승\n",
    "\n",
    "연평균 매출액 증감율과 매출액을 고려하여 순서를 정한다"
   ]
  },
  {
   "attachments": {
    "image.png": {
     "image/png": "[encoded data removed]"
    }
   },
   "cell_type": "markdown",
   "id": "5784e5b9",
   "metadata": {},
   "source": [
    "![image.png](attachment:image.png)"
   ]
  },
  {
   "cell_type": "markdown",
   "id": "d866cf85",
   "metadata": {},
   "source": [
    "## ⚡ 5. 최종 유니콘 기업 선정"
   ]
  },
  {
   "cell_type": "markdown",
   "id": "2db11cc6",
   "metadata": {},
   "source": [
    "420165,294367,296819,440911,473265"
   ]
  }
 ],
 "metadata": {
  "kernelspec": {
   "display_name": "Python 3",
   "language": "python",
   "name": "python3"
  },
  "language_info": {
   "codemirror_mode": {
    "name": "ipython",
    "version": 3
   },
   "file_extension": ".py",
   "mimetype": "text/x-python",
   "name": "python",
   "nbconvert_exporter": "python",
   "pygments_lexer": "ipython3",
   "version": "3.8.8"
  }
 },
 "nbformat": 4,
 "nbformat_minor": 5
}
