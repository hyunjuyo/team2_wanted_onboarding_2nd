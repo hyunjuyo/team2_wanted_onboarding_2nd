{
 "cells": [
  {
   "cell_type": "markdown",
   "metadata": {},
   "source": [
    "## Ⅰ. Intro\n",
    "\n",
    "### 1. 테이블의 내용\n",
    "1. 고객이 각 귀속년도별\n",
    "1. 근로 / 사업 / 기타 소득에 대한 예상환급액과 수수료를 조회한 뒤\n",
    "1. 결제를 하거나 하지 않은 여부를 저장\n",
    "\n",
    "### 2. 컬럼 정보\n",
    "- age: 고객의 만 나이입니다. \n",
    "- gender: 고객의 성별입니다.\n",
    "- year: 소득이 발생한 연도(귀속년도)입니다.\n",
    "- refund: 예상환급액입니다.\n",
    "- fee: 수수료입니다.\n",
    "- has_paid: 수수료를 결제했는지의 여부\n",
    "- income_근로: 고객의 근로소득(월급/일용직급여)\n",
    "- income_사업: 고객의 사업소득(프리랜서 소득)\n",
    "- income_기타: 고객의 기타소득(그외 기타 소득)\n",
    "\n",
    "### 3. 질문\n",
    "\n",
    "- 고객의 결제여부에 영향을 미치는 요인들은 무엇인가요? \n",
    "- 고객의 수수료 결제금액의 합을 높히기 위해서는 어떻게 해야 할까요?\n",
    "\n",
    "### 4. 개념파악 \n",
    "- 납부세액 혹은 환급세액의 결정방법\n",
    "    소득을 3범주로 하여, 기장의무가 달라진다.  \n",
    "<https://m.blog.naver.com/PostView.naver?isHttpsRedirect=true&blogId=fobi52&logNo=221270380307>"
   ]
  },
  {
   "cell_type": "markdown",
   "metadata": {},
   "source": [
    "### 5. EDA"
   ]
  },
  {
   "cell_type": "code",
   "execution_count": 1,
   "metadata": {},
   "outputs": [],
   "source": [
    "import pandas as pd\n",
    "import numpy as np\n",
    "import seaborn as sns\n",
    "import matplotlib.pyplot as plt\n",
    "plt.rcParams['font.family'] = 'Malgun Gothic'\n",
    "plt.rcParams['axes.unicode_minus'] = False"
   ]
  },
  {
   "cell_type": "code",
   "execution_count": 2,
   "metadata": {},
   "outputs": [],
   "source": [
    "df=pd.read_csv('Jobis_3o3.csv')"
   ]
  },
  {
   "cell_type": "code",
   "execution_count": 3,
   "metadata": {},
   "outputs": [
    {
     "name": "stdout",
     "output_type": "stream",
     "text": [
      "<class 'pandas.core.frame.DataFrame'>\n",
      "RangeIndex: 100000 entries, 0 to 99999\n",
      "Data columns (total 9 columns):\n",
      "age          100000 non-null float64\n",
      "gender       100000 non-null object\n",
      "year         100000 non-null int64\n",
      "refund       100000 non-null float64\n",
      "fee          100000 non-null float64\n",
      "has_paid     100000 non-null bool\n",
      "income_근로    40791 non-null float64\n",
      "income_사업    78227 non-null float64\n",
      "income_기타    25260 non-null float64\n",
      "dtypes: bool(1), float64(6), int64(1), object(1)\n",
      "memory usage: 6.2+ MB\n"
     ]
    }
   ],
   "source": [
    "df.info()"
   ]
  },
  {
   "cell_type": "code",
   "execution_count": 4,
   "metadata": {},
   "outputs": [
    {
     "data": {
      "text/html": [
       "<div>\n",
       "<style scoped>\n",
       "    .dataframe tbody tr th:only-of-type {\n",
       "        vertical-align: middle;\n",
       "    }\n",
       "\n",
       "    .dataframe tbody tr th {\n",
       "        vertical-align: top;\n",
       "    }\n",
       "\n",
       "    .dataframe thead th {\n",
       "        text-align: right;\n",
       "    }\n",
       "</style>\n",
       "<table border=\"1\" class=\"dataframe\">\n",
       "  <thead>\n",
       "    <tr style=\"text-align: right;\">\n",
       "      <th></th>\n",
       "      <th>age</th>\n",
       "      <th>year</th>\n",
       "      <th>refund</th>\n",
       "      <th>fee</th>\n",
       "      <th>income_근로</th>\n",
       "      <th>income_사업</th>\n",
       "      <th>income_기타</th>\n",
       "    </tr>\n",
       "  </thead>\n",
       "  <tbody>\n",
       "    <tr>\n",
       "      <td>count</td>\n",
       "      <td>100000.00000</td>\n",
       "      <td>100000.000000</td>\n",
       "      <td>1.000000e+05</td>\n",
       "      <td>100000.000000</td>\n",
       "      <td>4.079100e+04</td>\n",
       "      <td>7.822700e+04</td>\n",
       "      <td>2.526000e+04</td>\n",
       "    </tr>\n",
       "    <tr>\n",
       "      <td>mean</td>\n",
       "      <td>29.00096</td>\n",
       "      <td>2018.111300</td>\n",
       "      <td>2.081422e+05</td>\n",
       "      <td>7247.641000</td>\n",
       "      <td>6.432597e+06</td>\n",
       "      <td>1.511712e+06</td>\n",
       "      <td>6.362834e+05</td>\n",
       "    </tr>\n",
       "    <tr>\n",
       "      <td>std</td>\n",
       "      <td>7.76819</td>\n",
       "      <td>1.495812</td>\n",
       "      <td>3.071744e+05</td>\n",
       "      <td>11926.896979</td>\n",
       "      <td>6.583716e+06</td>\n",
       "      <td>2.449810e+06</td>\n",
       "      <td>1.484947e+06</td>\n",
       "    </tr>\n",
       "    <tr>\n",
       "      <td>min</td>\n",
       "      <td>15.00000</td>\n",
       "      <td>2015.000000</td>\n",
       "      <td>-8.265000e+06</td>\n",
       "      <td>400.000000</td>\n",
       "      <td>0.000000e+00</td>\n",
       "      <td>0.000000e+00</td>\n",
       "      <td>0.000000e+00</td>\n",
       "    </tr>\n",
       "    <tr>\n",
       "      <td>25%</td>\n",
       "      <td>24.00000</td>\n",
       "      <td>2017.000000</td>\n",
       "      <td>3.300000e+04</td>\n",
       "      <td>400.000000</td>\n",
       "      <td>1.616000e+06</td>\n",
       "      <td>1.770000e+05</td>\n",
       "      <td>8.200000e+04</td>\n",
       "    </tr>\n",
       "    <tr>\n",
       "      <td>50%</td>\n",
       "      <td>27.00000</td>\n",
       "      <td>2018.000000</td>\n",
       "      <td>9.900000e+04</td>\n",
       "      <td>4300.000000</td>\n",
       "      <td>4.507000e+06</td>\n",
       "      <td>6.190000e+05</td>\n",
       "      <td>2.130000e+05</td>\n",
       "    </tr>\n",
       "    <tr>\n",
       "      <td>75%</td>\n",
       "      <td>31.00000</td>\n",
       "      <td>2019.000000</td>\n",
       "      <td>2.540000e+05</td>\n",
       "      <td>8500.000000</td>\n",
       "      <td>9.301000e+06</td>\n",
       "      <td>1.601000e+06</td>\n",
       "      <td>5.820000e+05</td>\n",
       "    </tr>\n",
       "    <tr>\n",
       "      <td>max</td>\n",
       "      <td>81.00000</td>\n",
       "      <td>2020.000000</td>\n",
       "      <td>7.725000e+06</td>\n",
       "      <td>307000.000000</td>\n",
       "      <td>1.823350e+08</td>\n",
       "      <td>3.993400e+07</td>\n",
       "      <td>6.281000e+07</td>\n",
       "    </tr>\n",
       "  </tbody>\n",
       "</table>\n",
       "</div>"
      ],
      "text/plain": [
       "                age           year        refund            fee     income_근로  \\\n",
       "count  100000.00000  100000.000000  1.000000e+05  100000.000000  4.079100e+04   \n",
       "mean       29.00096    2018.111300  2.081422e+05    7247.641000  6.432597e+06   \n",
       "std         7.76819       1.495812  3.071744e+05   11926.896979  6.583716e+06   \n",
       "min        15.00000    2015.000000 -8.265000e+06     400.000000  0.000000e+00   \n",
       "25%        24.00000    2017.000000  3.300000e+04     400.000000  1.616000e+06   \n",
       "50%        27.00000    2018.000000  9.900000e+04    4300.000000  4.507000e+06   \n",
       "75%        31.00000    2019.000000  2.540000e+05    8500.000000  9.301000e+06   \n",
       "max        81.00000    2020.000000  7.725000e+06  307000.000000  1.823350e+08   \n",
       "\n",
       "          income_사업     income_기타  \n",
       "count  7.822700e+04  2.526000e+04  \n",
       "mean   1.511712e+06  6.362834e+05  \n",
       "std    2.449810e+06  1.484947e+06  \n",
       "min    0.000000e+00  0.000000e+00  \n",
       "25%    1.770000e+05  8.200000e+04  \n",
       "50%    6.190000e+05  2.130000e+05  \n",
       "75%    1.601000e+06  5.820000e+05  \n",
       "max    3.993400e+07  6.281000e+07  "
      ]
     },
     "execution_count": 4,
     "metadata": {},
     "output_type": "execute_result"
    }
   ],
   "source": [
    "df.describe()"
   ]
  },
  {
   "cell_type": "markdown",
   "metadata": {},
   "source": [
    "#### 1) 지불여부를 숫자로 바꾸고 수수료를 곱한 새로운 변수(Target)를 생성한다.\n",
    "#### 2) 환급액에서 수수료를 뺀 gain이라는 변수를 생성"
   ]
  },
  {
   "cell_type": "code",
   "execution_count": 5,
   "metadata": {},
   "outputs": [],
   "source": [
    "df['has_paid']=df['has_paid'].astype('int')"
   ]
  },
  {
   "cell_type": "code",
   "execution_count": 6,
   "metadata": {},
   "outputs": [],
   "source": [
    "df['Target']=df.has_paid*df.fee"
   ]
  },
  {
   "cell_type": "markdown",
   "metadata": {},
   "source": [
    "#### 3) 환급액과 수수료를 고려한 순 환급액과 이익률 변수를 생성"
   ]
  },
  {
   "cell_type": "code",
   "execution_count": 7,
   "metadata": {},
   "outputs": [],
   "source": [
    "gain=df.refund-df.fee\n",
    "df['gain']=gain"
   ]
  },
  {
   "cell_type": "markdown",
   "metadata": {},
   "source": [
    "#### 4) 나이를 카테고리화"
   ]
  },
  {
   "cell_type": "markdown",
   "metadata": {},
   "source": [
    "- 나이를 카테고리화하는 기준으로는 사분위수를 사용한 값 범위를 활용하였다.  \n",
    "    다만, 상위 이상값들의 결제금액합이 전체 데이터의 19%에 해당해 상위 이상값은 두그룹으로 나눴다."
   ]
  },
  {
   "cell_type": "code",
   "execution_count": 8,
   "metadata": {},
   "outputs": [
    {
     "data": {
      "text/plain": [
       "<matplotlib.axes._subplots.AxesSubplot at 0x203dacd4ac8>"
      ]
     },
     "execution_count": 8,
     "metadata": {},
     "output_type": "execute_result"
    },
    {
     "data": {
      "image/png": "[encoded data removed]",
      "text/plain": [
       "<Figure size 432x288 with 1 Axes>"
      ]
     },
     "metadata": {
      "needs_background": "light"
     },
     "output_type": "display_data"
    }
   ],
   "source": [
    "df.age.hist()"
   ]
  },
  {
   "cell_type": "code",
   "execution_count": 9,
   "metadata": {},
   "outputs": [],
   "source": [
    "IQR= df.age.quantile(0.75)-df.age.quantile(0.25)\n",
    "Q3= df.age.quantile(0.25)\n",
    "Q1=df.age.quantile(0.75)"
   ]
  },
  {
   "cell_type": "code",
   "execution_count": 10,
   "metadata": {},
   "outputs": [
    {
     "data": {
      "text/plain": [
       "count    79872.000000\n",
       "mean        26.467085\n",
       "std          3.310020\n",
       "min         21.000000\n",
       "25%         24.000000\n",
       "50%         26.000000\n",
       "75%         29.000000\n",
       "max         34.000000\n",
       "Name: age, dtype: float64"
      ]
     },
     "execution_count": 10,
     "metadata": {},
     "output_type": "execute_result"
    }
   ],
   "source": [
    "df.query(\"(age > @Q1-1.5*@IQR) and (age < @Q3+1.5*@IQR)\").age.describe()"
   ]
  },
  {
   "cell_type": "code",
   "execution_count": 11,
   "metadata": {},
   "outputs": [
    {
     "data": {
      "text/plain": [
       "'19.56%'"
      ]
     },
     "execution_count": 11,
     "metadata": {},
     "output_type": "execute_result"
    }
   ],
   "source": [
    "# 상위 이상값들의 총 결제금액에서 차지하는 비중(%) \n",
    "str(round((df.query(\"age > 34\").Target.sum()/df.Target.sum())*100,2))+'%'"
   ]
  },
  {
   "cell_type": "code",
   "execution_count": 12,
   "metadata": {},
   "outputs": [
    {
     "data": {
      "text/plain": [
       "'2.45%'"
      ]
     },
     "execution_count": 12,
     "metadata": {},
     "output_type": "execute_result"
    }
   ],
   "source": [
    "# 하위\n",
    "str(round((df.query(\"age < 21\").Target.sum()/df.Target.sum())*100,2))+'%'"
   ]
  },
  {
   "cell_type": "code",
   "execution_count": 13,
   "metadata": {},
   "outputs": [
    {
     "data": {
      "text/plain": [
       "37.0"
      ]
     },
     "execution_count": 13,
     "metadata": {},
     "output_type": "execute_result"
    }
   ],
   "source": [
    "df.query(\"age > 34\").age.quantile(0.25)"
   ]
  },
  {
   "cell_type": "code",
   "execution_count": 14,
   "metadata": {},
   "outputs": [
    {
     "data": {
      "text/plain": [
       "48.0"
      ]
     },
     "execution_count": 14,
     "metadata": {},
     "output_type": "execute_result"
    }
   ],
   "source": [
    "df.query(\"age > 34\").age.quantile(0.75)"
   ]
  },
  {
   "cell_type": "code",
   "execution_count": 15,
   "metadata": {},
   "outputs": [],
   "source": [
    "# 나이 카테고리 변수 생성\n",
    "cat_1=pd.cut(df.age,bins=[-1,21,24,26,29,34,37,48,100]).astype('str').str.rstrip(']').str.lstrip('(')\n",
    "df['ag_cat']=cat_1"
   ]
  },
  {
   "cell_type": "markdown",
   "metadata": {},
   "source": [
    "- 추가로 각 소득원의 유무와 각 데이터가 소득원을 몇개가지고 있는지도 변수로 생성한다."
   ]
  },
  {
   "cell_type": "code",
   "execution_count": 16,
   "metadata": {},
   "outputs": [],
   "source": [
    "df['근로yn']=df.income_근로.notnull()\n",
    "df['사업yn']=df.income_사업.notnull()\n",
    "df['기타yn']=df.income_기타.notnull()\n",
    "df['소득notnull여부']=pd.concat([df.income_근로.notnull(),df.income_사업.notnull(),df.income_기타.notnull()],axis=1).sum(1).astype('str')"
   ]
  },
  {
   "cell_type": "markdown",
   "metadata": {},
   "source": [
    "#### 5) 성별컬럼 결측값처리"
   ]
  },
  {
   "cell_type": "code",
   "execution_count": 17,
   "metadata": {},
   "outputs": [
    {
     "data": {
      "text/plain": [
       "M    50477\n",
       "F    49501\n",
       "-       22\n",
       "Name: gender, dtype: int64"
      ]
     },
     "execution_count": 17,
     "metadata": {},
     "output_type": "execute_result"
    }
   ],
   "source": [
    "df.gender.value_counts()"
   ]
  },
  {
   "cell_type": "markdown",
   "metadata": {},
   "source": [
    "- 성별 값이 '-'인 데이터는 22건이 존재한다. 그리고 모두 소득원에 대한 정보가 없다. (위 3가지 컬럼에 집계되지 않는 소득이 있는 것으로 판단한다.) \n",
    "- 이중 실제 결제 된 데이터가 4건에 해당한다. 이는, 총 결제데이터 6만4천건 정도의 데이터규모에서 극히 일부분이며, 결제 여부를 고려하지 않는 10만건 중에 성별 결측치 데이터는 22건으로 극 소수이기 때문에 제외한다."
   ]
  },
  {
   "cell_type": "code",
   "execution_count": 18,
   "metadata": {},
   "outputs": [
    {
     "data": {
      "text/html": [
       "<div>\n",
       "<style scoped>\n",
       "    .dataframe tbody tr th:only-of-type {\n",
       "        vertical-align: middle;\n",
       "    }\n",
       "\n",
       "    .dataframe tbody tr th {\n",
       "        vertical-align: top;\n",
       "    }\n",
       "\n",
       "    .dataframe thead th {\n",
       "        text-align: right;\n",
       "    }\n",
       "</style>\n",
       "<table border=\"1\" class=\"dataframe\">\n",
       "  <thead>\n",
       "    <tr style=\"text-align: right;\">\n",
       "      <th></th>\n",
       "      <th>age</th>\n",
       "      <th>gender</th>\n",
       "      <th>year</th>\n",
       "      <th>refund</th>\n",
       "      <th>fee</th>\n",
       "      <th>has_paid</th>\n",
       "      <th>income_근로</th>\n",
       "      <th>income_사업</th>\n",
       "      <th>income_기타</th>\n",
       "      <th>Target</th>\n",
       "      <th>gain</th>\n",
       "      <th>ag_cat</th>\n",
       "      <th>근로yn</th>\n",
       "      <th>사업yn</th>\n",
       "      <th>기타yn</th>\n",
       "      <th>소득notnull여부</th>\n",
       "    </tr>\n",
       "  </thead>\n",
       "  <tbody>\n",
       "    <tr>\n",
       "      <td>2613</td>\n",
       "      <td>27.0</td>\n",
       "      <td>-</td>\n",
       "      <td>2016</td>\n",
       "      <td>559000.0</td>\n",
       "      <td>12800.0</td>\n",
       "      <td>0</td>\n",
       "      <td>NaN</td>\n",
       "      <td>NaN</td>\n",
       "      <td>NaN</td>\n",
       "      <td>0.0</td>\n",
       "      <td>546200.0</td>\n",
       "      <td>26, 29</td>\n",
       "      <td>False</td>\n",
       "      <td>False</td>\n",
       "      <td>False</td>\n",
       "      <td>0</td>\n",
       "    </tr>\n",
       "    <tr>\n",
       "      <td>4101</td>\n",
       "      <td>27.0</td>\n",
       "      <td>-</td>\n",
       "      <td>2017</td>\n",
       "      <td>209000.0</td>\n",
       "      <td>4300.0</td>\n",
       "      <td>0</td>\n",
       "      <td>NaN</td>\n",
       "      <td>NaN</td>\n",
       "      <td>NaN</td>\n",
       "      <td>0.0</td>\n",
       "      <td>204700.0</td>\n",
       "      <td>26, 29</td>\n",
       "      <td>False</td>\n",
       "      <td>False</td>\n",
       "      <td>False</td>\n",
       "      <td>0</td>\n",
       "    </tr>\n",
       "    <tr>\n",
       "      <td>9574</td>\n",
       "      <td>42.0</td>\n",
       "      <td>-</td>\n",
       "      <td>2015</td>\n",
       "      <td>175000.0</td>\n",
       "      <td>4300.0</td>\n",
       "      <td>0</td>\n",
       "      <td>NaN</td>\n",
       "      <td>NaN</td>\n",
       "      <td>NaN</td>\n",
       "      <td>0.0</td>\n",
       "      <td>170700.0</td>\n",
       "      <td>37, 48</td>\n",
       "      <td>False</td>\n",
       "      <td>False</td>\n",
       "      <td>False</td>\n",
       "      <td>0</td>\n",
       "    </tr>\n",
       "    <tr>\n",
       "      <td>20536</td>\n",
       "      <td>26.0</td>\n",
       "      <td>-</td>\n",
       "      <td>2017</td>\n",
       "      <td>845000.0</td>\n",
       "      <td>25100.0</td>\n",
       "      <td>0</td>\n",
       "      <td>NaN</td>\n",
       "      <td>NaN</td>\n",
       "      <td>NaN</td>\n",
       "      <td>0.0</td>\n",
       "      <td>819900.0</td>\n",
       "      <td>24, 26</td>\n",
       "      <td>False</td>\n",
       "      <td>False</td>\n",
       "      <td>False</td>\n",
       "      <td>0</td>\n",
       "    </tr>\n",
       "    <tr>\n",
       "      <td>28211</td>\n",
       "      <td>26.0</td>\n",
       "      <td>-</td>\n",
       "      <td>2016</td>\n",
       "      <td>650000.0</td>\n",
       "      <td>12800.0</td>\n",
       "      <td>0</td>\n",
       "      <td>NaN</td>\n",
       "      <td>NaN</td>\n",
       "      <td>NaN</td>\n",
       "      <td>0.0</td>\n",
       "      <td>637200.0</td>\n",
       "      <td>24, 26</td>\n",
       "      <td>False</td>\n",
       "      <td>False</td>\n",
       "      <td>False</td>\n",
       "      <td>0</td>\n",
       "    </tr>\n",
       "    <tr>\n",
       "      <td>36217</td>\n",
       "      <td>27.0</td>\n",
       "      <td>-</td>\n",
       "      <td>2018</td>\n",
       "      <td>124000.0</td>\n",
       "      <td>3400.0</td>\n",
       "      <td>0</td>\n",
       "      <td>NaN</td>\n",
       "      <td>NaN</td>\n",
       "      <td>NaN</td>\n",
       "      <td>0.0</td>\n",
       "      <td>120600.0</td>\n",
       "      <td>26, 29</td>\n",
       "      <td>False</td>\n",
       "      <td>False</td>\n",
       "      <td>False</td>\n",
       "      <td>0</td>\n",
       "    </tr>\n",
       "    <tr>\n",
       "      <td>37674</td>\n",
       "      <td>27.0</td>\n",
       "      <td>-</td>\n",
       "      <td>2015</td>\n",
       "      <td>252000.0</td>\n",
       "      <td>8500.0</td>\n",
       "      <td>0</td>\n",
       "      <td>NaN</td>\n",
       "      <td>NaN</td>\n",
       "      <td>NaN</td>\n",
       "      <td>0.0</td>\n",
       "      <td>243500.0</td>\n",
       "      <td>26, 29</td>\n",
       "      <td>False</td>\n",
       "      <td>False</td>\n",
       "      <td>False</td>\n",
       "      <td>0</td>\n",
       "    </tr>\n",
       "    <tr>\n",
       "      <td>38223</td>\n",
       "      <td>53.0</td>\n",
       "      <td>-</td>\n",
       "      <td>2015</td>\n",
       "      <td>6000.0</td>\n",
       "      <td>400.0</td>\n",
       "      <td>0</td>\n",
       "      <td>NaN</td>\n",
       "      <td>NaN</td>\n",
       "      <td>NaN</td>\n",
       "      <td>0.0</td>\n",
       "      <td>5600.0</td>\n",
       "      <td>48, 100</td>\n",
       "      <td>False</td>\n",
       "      <td>False</td>\n",
       "      <td>False</td>\n",
       "      <td>0</td>\n",
       "    </tr>\n",
       "    <tr>\n",
       "      <td>38441</td>\n",
       "      <td>23.0</td>\n",
       "      <td>-</td>\n",
       "      <td>2018</td>\n",
       "      <td>110000.0</td>\n",
       "      <td>3000.0</td>\n",
       "      <td>0</td>\n",
       "      <td>NaN</td>\n",
       "      <td>NaN</td>\n",
       "      <td>NaN</td>\n",
       "      <td>0.0</td>\n",
       "      <td>107000.0</td>\n",
       "      <td>21, 24</td>\n",
       "      <td>False</td>\n",
       "      <td>False</td>\n",
       "      <td>False</td>\n",
       "      <td>0</td>\n",
       "    </tr>\n",
       "    <tr>\n",
       "      <td>41454</td>\n",
       "      <td>41.0</td>\n",
       "      <td>-</td>\n",
       "      <td>2015</td>\n",
       "      <td>122000.0</td>\n",
       "      <td>4300.0</td>\n",
       "      <td>1</td>\n",
       "      <td>NaN</td>\n",
       "      <td>NaN</td>\n",
       "      <td>NaN</td>\n",
       "      <td>4300.0</td>\n",
       "      <td>117700.0</td>\n",
       "      <td>37, 48</td>\n",
       "      <td>False</td>\n",
       "      <td>False</td>\n",
       "      <td>False</td>\n",
       "      <td>0</td>\n",
       "    </tr>\n",
       "    <tr>\n",
       "      <td>46337</td>\n",
       "      <td>27.0</td>\n",
       "      <td>-</td>\n",
       "      <td>2019</td>\n",
       "      <td>676000.0</td>\n",
       "      <td>42500.0</td>\n",
       "      <td>0</td>\n",
       "      <td>NaN</td>\n",
       "      <td>NaN</td>\n",
       "      <td>NaN</td>\n",
       "      <td>0.0</td>\n",
       "      <td>633500.0</td>\n",
       "      <td>26, 29</td>\n",
       "      <td>False</td>\n",
       "      <td>False</td>\n",
       "      <td>False</td>\n",
       "      <td>0</td>\n",
       "    </tr>\n",
       "    <tr>\n",
       "      <td>47966</td>\n",
       "      <td>41.0</td>\n",
       "      <td>-</td>\n",
       "      <td>2017</td>\n",
       "      <td>35000.0</td>\n",
       "      <td>400.0</td>\n",
       "      <td>1</td>\n",
       "      <td>NaN</td>\n",
       "      <td>NaN</td>\n",
       "      <td>NaN</td>\n",
       "      <td>400.0</td>\n",
       "      <td>34600.0</td>\n",
       "      <td>37, 48</td>\n",
       "      <td>False</td>\n",
       "      <td>False</td>\n",
       "      <td>False</td>\n",
       "      <td>0</td>\n",
       "    </tr>\n",
       "    <tr>\n",
       "      <td>52346</td>\n",
       "      <td>41.0</td>\n",
       "      <td>-</td>\n",
       "      <td>2019</td>\n",
       "      <td>345000.0</td>\n",
       "      <td>8500.0</td>\n",
       "      <td>0</td>\n",
       "      <td>NaN</td>\n",
       "      <td>NaN</td>\n",
       "      <td>NaN</td>\n",
       "      <td>0.0</td>\n",
       "      <td>336500.0</td>\n",
       "      <td>37, 48</td>\n",
       "      <td>False</td>\n",
       "      <td>False</td>\n",
       "      <td>False</td>\n",
       "      <td>0</td>\n",
       "    </tr>\n",
       "    <tr>\n",
       "      <td>53924</td>\n",
       "      <td>41.0</td>\n",
       "      <td>-</td>\n",
       "      <td>2016</td>\n",
       "      <td>179000.0</td>\n",
       "      <td>4300.0</td>\n",
       "      <td>1</td>\n",
       "      <td>NaN</td>\n",
       "      <td>NaN</td>\n",
       "      <td>NaN</td>\n",
       "      <td>4300.0</td>\n",
       "      <td>174700.0</td>\n",
       "      <td>37, 48</td>\n",
       "      <td>False</td>\n",
       "      <td>False</td>\n",
       "      <td>False</td>\n",
       "      <td>0</td>\n",
       "    </tr>\n",
       "    <tr>\n",
       "      <td>57536</td>\n",
       "      <td>25.0</td>\n",
       "      <td>-</td>\n",
       "      <td>2015</td>\n",
       "      <td>126000.0</td>\n",
       "      <td>4300.0</td>\n",
       "      <td>0</td>\n",
       "      <td>NaN</td>\n",
       "      <td>NaN</td>\n",
       "      <td>NaN</td>\n",
       "      <td>0.0</td>\n",
       "      <td>121700.0</td>\n",
       "      <td>24, 26</td>\n",
       "      <td>False</td>\n",
       "      <td>False</td>\n",
       "      <td>False</td>\n",
       "      <td>0</td>\n",
       "    </tr>\n",
       "    <tr>\n",
       "      <td>60508</td>\n",
       "      <td>22.0</td>\n",
       "      <td>-</td>\n",
       "      <td>2018</td>\n",
       "      <td>33000.0</td>\n",
       "      <td>400.0</td>\n",
       "      <td>1</td>\n",
       "      <td>NaN</td>\n",
       "      <td>NaN</td>\n",
       "      <td>NaN</td>\n",
       "      <td>400.0</td>\n",
       "      <td>32600.0</td>\n",
       "      <td>21, 24</td>\n",
       "      <td>False</td>\n",
       "      <td>False</td>\n",
       "      <td>False</td>\n",
       "      <td>0</td>\n",
       "    </tr>\n",
       "    <tr>\n",
       "      <td>61782</td>\n",
       "      <td>29.0</td>\n",
       "      <td>-</td>\n",
       "      <td>2018</td>\n",
       "      <td>29000.0</td>\n",
       "      <td>400.0</td>\n",
       "      <td>0</td>\n",
       "      <td>NaN</td>\n",
       "      <td>NaN</td>\n",
       "      <td>NaN</td>\n",
       "      <td>0.0</td>\n",
       "      <td>28600.0</td>\n",
       "      <td>26, 29</td>\n",
       "      <td>False</td>\n",
       "      <td>False</td>\n",
       "      <td>False</td>\n",
       "      <td>0</td>\n",
       "    </tr>\n",
       "    <tr>\n",
       "      <td>63173</td>\n",
       "      <td>21.0</td>\n",
       "      <td>-</td>\n",
       "      <td>2019</td>\n",
       "      <td>130000.0</td>\n",
       "      <td>3800.0</td>\n",
       "      <td>0</td>\n",
       "      <td>NaN</td>\n",
       "      <td>NaN</td>\n",
       "      <td>NaN</td>\n",
       "      <td>0.0</td>\n",
       "      <td>126200.0</td>\n",
       "      <td>-1, 21</td>\n",
       "      <td>False</td>\n",
       "      <td>False</td>\n",
       "      <td>False</td>\n",
       "      <td>0</td>\n",
       "    </tr>\n",
       "    <tr>\n",
       "      <td>68844</td>\n",
       "      <td>26.0</td>\n",
       "      <td>-</td>\n",
       "      <td>2019</td>\n",
       "      <td>487000.0</td>\n",
       "      <td>12800.0</td>\n",
       "      <td>0</td>\n",
       "      <td>NaN</td>\n",
       "      <td>NaN</td>\n",
       "      <td>NaN</td>\n",
       "      <td>0.0</td>\n",
       "      <td>474200.0</td>\n",
       "      <td>24, 26</td>\n",
       "      <td>False</td>\n",
       "      <td>False</td>\n",
       "      <td>False</td>\n",
       "      <td>0</td>\n",
       "    </tr>\n",
       "    <tr>\n",
       "      <td>72826</td>\n",
       "      <td>27.0</td>\n",
       "      <td>-</td>\n",
       "      <td>2019</td>\n",
       "      <td>223000.0</td>\n",
       "      <td>6400.0</td>\n",
       "      <td>0</td>\n",
       "      <td>NaN</td>\n",
       "      <td>NaN</td>\n",
       "      <td>NaN</td>\n",
       "      <td>0.0</td>\n",
       "      <td>216600.0</td>\n",
       "      <td>26, 29</td>\n",
       "      <td>False</td>\n",
       "      <td>False</td>\n",
       "      <td>False</td>\n",
       "      <td>0</td>\n",
       "    </tr>\n",
       "    <tr>\n",
       "      <td>73571</td>\n",
       "      <td>19.0</td>\n",
       "      <td>-</td>\n",
       "      <td>2019</td>\n",
       "      <td>43000.0</td>\n",
       "      <td>400.0</td>\n",
       "      <td>0</td>\n",
       "      <td>NaN</td>\n",
       "      <td>NaN</td>\n",
       "      <td>NaN</td>\n",
       "      <td>0.0</td>\n",
       "      <td>42600.0</td>\n",
       "      <td>-1, 21</td>\n",
       "      <td>False</td>\n",
       "      <td>False</td>\n",
       "      <td>False</td>\n",
       "      <td>0</td>\n",
       "    </tr>\n",
       "    <tr>\n",
       "      <td>73655</td>\n",
       "      <td>23.0</td>\n",
       "      <td>-</td>\n",
       "      <td>2018</td>\n",
       "      <td>6000.0</td>\n",
       "      <td>400.0</td>\n",
       "      <td>0</td>\n",
       "      <td>NaN</td>\n",
       "      <td>NaN</td>\n",
       "      <td>NaN</td>\n",
       "      <td>0.0</td>\n",
       "      <td>5600.0</td>\n",
       "      <td>21, 24</td>\n",
       "      <td>False</td>\n",
       "      <td>False</td>\n",
       "      <td>False</td>\n",
       "      <td>0</td>\n",
       "    </tr>\n",
       "  </tbody>\n",
       "</table>\n",
       "</div>"
      ],
      "text/plain": [
       "        age gender  year    refund      fee  has_paid  income_근로  income_사업  \\\n",
       "2613   27.0      -  2016  559000.0  12800.0         0        NaN        NaN   \n",
       "4101   27.0      -  2017  209000.0   4300.0         0        NaN        NaN   \n",
       "9574   42.0      -  2015  175000.0   4300.0         0        NaN        NaN   \n",
       "20536  26.0      -  2017  845000.0  25100.0         0        NaN        NaN   \n",
       "28211  26.0      -  2016  650000.0  12800.0         0        NaN        NaN   \n",
       "36217  27.0      -  2018  124000.0   3400.0         0        NaN        NaN   \n",
       "37674  27.0      -  2015  252000.0   8500.0         0        NaN        NaN   \n",
       "38223  53.0      -  2015    6000.0    400.0         0        NaN        NaN   \n",
       "38441  23.0      -  2018  110000.0   3000.0         0        NaN        NaN   \n",
       "41454  41.0      -  2015  122000.0   4300.0         1        NaN        NaN   \n",
       "46337  27.0      -  2019  676000.0  42500.0         0        NaN        NaN   \n",
       "47966  41.0      -  2017   35000.0    400.0         1        NaN        NaN   \n",
       "52346  41.0      -  2019  345000.0   8500.0         0        NaN        NaN   \n",
       "53924  41.0      -  2016  179000.0   4300.0         1        NaN        NaN   \n",
       "57536  25.0      -  2015  126000.0   4300.0         0        NaN        NaN   \n",
       "60508  22.0      -  2018   33000.0    400.0         1        NaN        NaN   \n",
       "61782  29.0      -  2018   29000.0    400.0         0        NaN        NaN   \n",
       "63173  21.0      -  2019  130000.0   3800.0         0        NaN        NaN   \n",
       "68844  26.0      -  2019  487000.0  12800.0         0        NaN        NaN   \n",
       "72826  27.0      -  2019  223000.0   6400.0         0        NaN        NaN   \n",
       "73571  19.0      -  2019   43000.0    400.0         0        NaN        NaN   \n",
       "73655  23.0      -  2018    6000.0    400.0         0        NaN        NaN   \n",
       "\n",
       "       income_기타  Target      gain   ag_cat   근로yn   사업yn   기타yn 소득notnull여부  \n",
       "2613         NaN     0.0  546200.0   26, 29  False  False  False           0  \n",
       "4101         NaN     0.0  204700.0   26, 29  False  False  False           0  \n",
       "9574         NaN     0.0  170700.0   37, 48  False  False  False           0  \n",
       "20536        NaN     0.0  819900.0   24, 26  False  False  False           0  \n",
       "28211        NaN     0.0  637200.0   24, 26  False  False  False           0  \n",
       "36217        NaN     0.0  120600.0   26, 29  False  False  False           0  \n",
       "37674        NaN     0.0  243500.0   26, 29  False  False  False           0  \n",
       "38223        NaN     0.0    5600.0  48, 100  False  False  False           0  \n",
       "38441        NaN     0.0  107000.0   21, 24  False  False  False           0  \n",
       "41454        NaN  4300.0  117700.0   37, 48  False  False  False           0  \n",
       "46337        NaN     0.0  633500.0   26, 29  False  False  False           0  \n",
       "47966        NaN   400.0   34600.0   37, 48  False  False  False           0  \n",
       "52346        NaN     0.0  336500.0   37, 48  False  False  False           0  \n",
       "53924        NaN  4300.0  174700.0   37, 48  False  False  False           0  \n",
       "57536        NaN     0.0  121700.0   24, 26  False  False  False           0  \n",
       "60508        NaN   400.0   32600.0   21, 24  False  False  False           0  \n",
       "61782        NaN     0.0   28600.0   26, 29  False  False  False           0  \n",
       "63173        NaN     0.0  126200.0   -1, 21  False  False  False           0  \n",
       "68844        NaN     0.0  474200.0   24, 26  False  False  False           0  \n",
       "72826        NaN     0.0  216600.0   26, 29  False  False  False           0  \n",
       "73571        NaN     0.0   42600.0   -1, 21  False  False  False           0  \n",
       "73655        NaN     0.0    5600.0   21, 24  False  False  False           0  "
      ]
     },
     "execution_count": 18,
     "metadata": {},
     "output_type": "execute_result"
    }
   ],
   "source": [
    "df.loc[df.gender=='-',:]"
   ]
  },
  {
   "cell_type": "code",
   "execution_count": 19,
   "metadata": {},
   "outputs": [
    {
     "data": {
      "text/html": [
       "<div>\n",
       "<style scoped>\n",
       "    .dataframe tbody tr th:only-of-type {\n",
       "        vertical-align: middle;\n",
       "    }\n",
       "\n",
       "    .dataframe tbody tr th {\n",
       "        vertical-align: top;\n",
       "    }\n",
       "\n",
       "    .dataframe thead th {\n",
       "        text-align: right;\n",
       "    }\n",
       "</style>\n",
       "<table border=\"1\" class=\"dataframe\">\n",
       "  <thead>\n",
       "    <tr style=\"text-align: right;\">\n",
       "      <th></th>\n",
       "      <th>age</th>\n",
       "      <th>gender</th>\n",
       "      <th>year</th>\n",
       "      <th>refund</th>\n",
       "      <th>fee</th>\n",
       "      <th>has_paid</th>\n",
       "      <th>income_근로</th>\n",
       "      <th>income_사업</th>\n",
       "      <th>income_기타</th>\n",
       "      <th>Target</th>\n",
       "      <th>gain</th>\n",
       "      <th>ag_cat</th>\n",
       "      <th>근로yn</th>\n",
       "      <th>사업yn</th>\n",
       "      <th>기타yn</th>\n",
       "      <th>소득notnull여부</th>\n",
       "    </tr>\n",
       "  </thead>\n",
       "  <tbody>\n",
       "    <tr>\n",
       "      <td>41454</td>\n",
       "      <td>41.0</td>\n",
       "      <td>-</td>\n",
       "      <td>2015</td>\n",
       "      <td>122000.0</td>\n",
       "      <td>4300.0</td>\n",
       "      <td>1</td>\n",
       "      <td>NaN</td>\n",
       "      <td>NaN</td>\n",
       "      <td>NaN</td>\n",
       "      <td>4300.0</td>\n",
       "      <td>117700.0</td>\n",
       "      <td>37, 48</td>\n",
       "      <td>False</td>\n",
       "      <td>False</td>\n",
       "      <td>False</td>\n",
       "      <td>0</td>\n",
       "    </tr>\n",
       "    <tr>\n",
       "      <td>47966</td>\n",
       "      <td>41.0</td>\n",
       "      <td>-</td>\n",
       "      <td>2017</td>\n",
       "      <td>35000.0</td>\n",
       "      <td>400.0</td>\n",
       "      <td>1</td>\n",
       "      <td>NaN</td>\n",
       "      <td>NaN</td>\n",
       "      <td>NaN</td>\n",
       "      <td>400.0</td>\n",
       "      <td>34600.0</td>\n",
       "      <td>37, 48</td>\n",
       "      <td>False</td>\n",
       "      <td>False</td>\n",
       "      <td>False</td>\n",
       "      <td>0</td>\n",
       "    </tr>\n",
       "    <tr>\n",
       "      <td>53924</td>\n",
       "      <td>41.0</td>\n",
       "      <td>-</td>\n",
       "      <td>2016</td>\n",
       "      <td>179000.0</td>\n",
       "      <td>4300.0</td>\n",
       "      <td>1</td>\n",
       "      <td>NaN</td>\n",
       "      <td>NaN</td>\n",
       "      <td>NaN</td>\n",
       "      <td>4300.0</td>\n",
       "      <td>174700.0</td>\n",
       "      <td>37, 48</td>\n",
       "      <td>False</td>\n",
       "      <td>False</td>\n",
       "      <td>False</td>\n",
       "      <td>0</td>\n",
       "    </tr>\n",
       "    <tr>\n",
       "      <td>60508</td>\n",
       "      <td>22.0</td>\n",
       "      <td>-</td>\n",
       "      <td>2018</td>\n",
       "      <td>33000.0</td>\n",
       "      <td>400.0</td>\n",
       "      <td>1</td>\n",
       "      <td>NaN</td>\n",
       "      <td>NaN</td>\n",
       "      <td>NaN</td>\n",
       "      <td>400.0</td>\n",
       "      <td>32600.0</td>\n",
       "      <td>21, 24</td>\n",
       "      <td>False</td>\n",
       "      <td>False</td>\n",
       "      <td>False</td>\n",
       "      <td>0</td>\n",
       "    </tr>\n",
       "  </tbody>\n",
       "</table>\n",
       "</div>"
      ],
      "text/plain": [
       "        age gender  year    refund     fee  has_paid  income_근로  income_사업  \\\n",
       "41454  41.0      -  2015  122000.0  4300.0         1        NaN        NaN   \n",
       "47966  41.0      -  2017   35000.0   400.0         1        NaN        NaN   \n",
       "53924  41.0      -  2016  179000.0  4300.0         1        NaN        NaN   \n",
       "60508  22.0      -  2018   33000.0   400.0         1        NaN        NaN   \n",
       "\n",
       "       income_기타  Target      gain  ag_cat   근로yn   사업yn   기타yn 소득notnull여부  \n",
       "41454        NaN  4300.0  117700.0  37, 48  False  False  False           0  \n",
       "47966        NaN   400.0   34600.0  37, 48  False  False  False           0  \n",
       "53924        NaN  4300.0  174700.0  37, 48  False  False  False           0  \n",
       "60508        NaN   400.0   32600.0  21, 24  False  False  False           0  "
      ]
     },
     "execution_count": 19,
     "metadata": {},
     "output_type": "execute_result"
    }
   ],
   "source": [
    "df.query(\"(gender=='-') and (has_paid==1)\")"
   ]
  },
  {
   "cell_type": "code",
   "execution_count": 20,
   "metadata": {},
   "outputs": [],
   "source": [
    "df=df.loc[df.gender!='-',:]"
   ]
  },
  {
   "cell_type": "markdown",
   "metadata": {},
   "source": [
    "- 환급세액이 마이너스인 경우의 제거여부"
   ]
  },
  {
   "cell_type": "code",
   "execution_count": 21,
   "metadata": {},
   "outputs": [
    {
     "data": {
      "text/html": [
       "<div>\n",
       "<style scoped>\n",
       "    .dataframe tbody tr th:only-of-type {\n",
       "        vertical-align: middle;\n",
       "    }\n",
       "\n",
       "    .dataframe tbody tr th {\n",
       "        vertical-align: top;\n",
       "    }\n",
       "\n",
       "    .dataframe thead th {\n",
       "        text-align: right;\n",
       "    }\n",
       "</style>\n",
       "<table border=\"1\" class=\"dataframe\">\n",
       "  <thead>\n",
       "    <tr style=\"text-align: right;\">\n",
       "      <th></th>\n",
       "      <th>age</th>\n",
       "      <th>gender</th>\n",
       "      <th>year</th>\n",
       "      <th>refund</th>\n",
       "      <th>fee</th>\n",
       "      <th>has_paid</th>\n",
       "      <th>income_근로</th>\n",
       "      <th>income_사업</th>\n",
       "      <th>income_기타</th>\n",
       "      <th>Target</th>\n",
       "      <th>gain</th>\n",
       "      <th>ag_cat</th>\n",
       "      <th>근로yn</th>\n",
       "      <th>사업yn</th>\n",
       "      <th>기타yn</th>\n",
       "      <th>소득notnull여부</th>\n",
       "    </tr>\n",
       "  </thead>\n",
       "  <tbody>\n",
       "    <tr>\n",
       "      <td>10034</td>\n",
       "      <td>34.0</td>\n",
       "      <td>M</td>\n",
       "      <td>2015</td>\n",
       "      <td>-231000.0</td>\n",
       "      <td>8500.0</td>\n",
       "      <td>1</td>\n",
       "      <td>8989000.0</td>\n",
       "      <td>1714000.0</td>\n",
       "      <td>NaN</td>\n",
       "      <td>8500.0</td>\n",
       "      <td>-239500.0</td>\n",
       "      <td>29, 34</td>\n",
       "      <td>True</td>\n",
       "      <td>True</td>\n",
       "      <td>False</td>\n",
       "      <td>2</td>\n",
       "    </tr>\n",
       "    <tr>\n",
       "      <td>10624</td>\n",
       "      <td>25.0</td>\n",
       "      <td>F</td>\n",
       "      <td>2018</td>\n",
       "      <td>-7000.0</td>\n",
       "      <td>400.0</td>\n",
       "      <td>1</td>\n",
       "      <td>7508000.0</td>\n",
       "      <td>28000.0</td>\n",
       "      <td>NaN</td>\n",
       "      <td>400.0</td>\n",
       "      <td>-7400.0</td>\n",
       "      <td>24, 26</td>\n",
       "      <td>True</td>\n",
       "      <td>True</td>\n",
       "      <td>False</td>\n",
       "      <td>2</td>\n",
       "    </tr>\n",
       "    <tr>\n",
       "      <td>29515</td>\n",
       "      <td>41.0</td>\n",
       "      <td>F</td>\n",
       "      <td>2017</td>\n",
       "      <td>-10000.0</td>\n",
       "      <td>400.0</td>\n",
       "      <td>1</td>\n",
       "      <td>19718000.0</td>\n",
       "      <td>162000.0</td>\n",
       "      <td>128000.0</td>\n",
       "      <td>400.0</td>\n",
       "      <td>-10400.0</td>\n",
       "      <td>37, 48</td>\n",
       "      <td>True</td>\n",
       "      <td>True</td>\n",
       "      <td>True</td>\n",
       "      <td>3</td>\n",
       "    </tr>\n",
       "    <tr>\n",
       "      <td>54256</td>\n",
       "      <td>48.0</td>\n",
       "      <td>F</td>\n",
       "      <td>2018</td>\n",
       "      <td>-948000.0</td>\n",
       "      <td>3000.0</td>\n",
       "      <td>1</td>\n",
       "      <td>8157000.0</td>\n",
       "      <td>3975000.0</td>\n",
       "      <td>NaN</td>\n",
       "      <td>3000.0</td>\n",
       "      <td>-951000.0</td>\n",
       "      <td>37, 48</td>\n",
       "      <td>True</td>\n",
       "      <td>True</td>\n",
       "      <td>False</td>\n",
       "      <td>2</td>\n",
       "    </tr>\n",
       "    <tr>\n",
       "      <td>57756</td>\n",
       "      <td>38.0</td>\n",
       "      <td>F</td>\n",
       "      <td>2017</td>\n",
       "      <td>-107000.0</td>\n",
       "      <td>4300.0</td>\n",
       "      <td>1</td>\n",
       "      <td>16619000.0</td>\n",
       "      <td>737000.0</td>\n",
       "      <td>NaN</td>\n",
       "      <td>4300.0</td>\n",
       "      <td>-111300.0</td>\n",
       "      <td>37, 48</td>\n",
       "      <td>True</td>\n",
       "      <td>True</td>\n",
       "      <td>False</td>\n",
       "      <td>2</td>\n",
       "    </tr>\n",
       "    <tr>\n",
       "      <td>68881</td>\n",
       "      <td>33.0</td>\n",
       "      <td>M</td>\n",
       "      <td>2016</td>\n",
       "      <td>-322000.0</td>\n",
       "      <td>400.0</td>\n",
       "      <td>1</td>\n",
       "      <td>NaN</td>\n",
       "      <td>57000.0</td>\n",
       "      <td>NaN</td>\n",
       "      <td>400.0</td>\n",
       "      <td>-322400.0</td>\n",
       "      <td>29, 34</td>\n",
       "      <td>False</td>\n",
       "      <td>True</td>\n",
       "      <td>False</td>\n",
       "      <td>1</td>\n",
       "    </tr>\n",
       "    <tr>\n",
       "      <td>98352</td>\n",
       "      <td>33.0</td>\n",
       "      <td>M</td>\n",
       "      <td>2018</td>\n",
       "      <td>-8265000.0</td>\n",
       "      <td>4300.0</td>\n",
       "      <td>1</td>\n",
       "      <td>NaN</td>\n",
       "      <td>690000.0</td>\n",
       "      <td>NaN</td>\n",
       "      <td>4300.0</td>\n",
       "      <td>-8269300.0</td>\n",
       "      <td>29, 34</td>\n",
       "      <td>False</td>\n",
       "      <td>True</td>\n",
       "      <td>False</td>\n",
       "      <td>1</td>\n",
       "    </tr>\n",
       "  </tbody>\n",
       "</table>\n",
       "</div>"
      ],
      "text/plain": [
       "        age gender  year     refund     fee  has_paid   income_근로  income_사업  \\\n",
       "10034  34.0      M  2015  -231000.0  8500.0         1   8989000.0  1714000.0   \n",
       "10624  25.0      F  2018    -7000.0   400.0         1   7508000.0    28000.0   \n",
       "29515  41.0      F  2017   -10000.0   400.0         1  19718000.0   162000.0   \n",
       "54256  48.0      F  2018  -948000.0  3000.0         1   8157000.0  3975000.0   \n",
       "57756  38.0      F  2017  -107000.0  4300.0         1  16619000.0   737000.0   \n",
       "68881  33.0      M  2016  -322000.0   400.0         1         NaN    57000.0   \n",
       "98352  33.0      M  2018 -8265000.0  4300.0         1         NaN   690000.0   \n",
       "\n",
       "       income_기타  Target       gain  ag_cat   근로yn  사업yn   기타yn 소득notnull여부  \n",
       "10034        NaN  8500.0  -239500.0  29, 34   True  True  False           2  \n",
       "10624        NaN   400.0    -7400.0  24, 26   True  True  False           2  \n",
       "29515   128000.0   400.0   -10400.0  37, 48   True  True   True           3  \n",
       "54256        NaN  3000.0  -951000.0  37, 48   True  True  False           2  \n",
       "57756        NaN  4300.0  -111300.0  37, 48   True  True  False           2  \n",
       "68881        NaN   400.0  -322400.0  29, 34  False  True  False           1  \n",
       "98352        NaN  4300.0 -8269300.0  29, 34  False  True  False           1  "
      ]
     },
     "execution_count": 21,
     "metadata": {},
     "output_type": "execute_result"
    }
   ],
   "source": [
    "df.query(\"refund <0 and has_paid ==1.0\")"
   ]
  },
  {
   "cell_type": "markdown",
   "metadata": {},
   "source": [
    "- 환급세액이 마이너스인 경우는 기납부 세액이 결정세액보다 적은 경우이므로 세액의 특성상 존재하는 데이터이다.  \n",
    "- 이 데이터들은 오류 데이터로 보지 않고 삭제하지 않는다. 또한 전체 데이터에서 수수료중 빈도수가 높은 400과 4300과 8500에 해당하는 데이터   이므로 대표성이 있다고 볼 수 있다."
   ]
  },
  {
   "cell_type": "markdown",
   "metadata": {},
   "source": [
    "#### 6) 상관관계 파악"
   ]
  },
  {
   "cell_type": "code",
   "execution_count": 22,
   "metadata": {},
   "outputs": [],
   "source": [
    "corr=df.corr()"
   ]
  },
  {
   "cell_type": "code",
   "execution_count": 23,
   "metadata": {},
   "outputs": [
    {
     "data": {
      "text/plain": [
       "Text(0.5, 1, 'Feature Correlation')"
      ]
     },
     "execution_count": 23,
     "metadata": {},
     "output_type": "execute_result"
    },
    {
     "data": {
      "image/png": "[encoded data removed]",
      "text/plain": [
       "<Figure size 1080x1080 with 2 Axes>"
      ]
     },
     "metadata": {
      "needs_background": "light"
     },
     "output_type": "display_data"
    }
   ],
   "source": [
    "plt.figure(figsize=(15, 15));\n",
    "sns.heatmap(corr,\n",
    "            vmax=0.8,\n",
    "            linewidths=0.01,\n",
    "            square=True,\n",
    "            annot=True,\n",
    "            cmap='YlGnBu');\n",
    "plt.title('Feature Correlation')"
   ]
  },
  {
   "cell_type": "markdown",
   "metadata": {},
   "source": [
    "- <U>상관계수 히트맵으로는 결제여부는 약한 상관관계(0.25)가 있는 사업소득 유무를 제외하면,상관관계 있는 변수는 없는 것으로 판단된다.</U>\n",
    "- 다만, 결제금액인 Target을 보면, 상식적으로 생각하는 것처럼 사업소득, 기타소득,환급액과 수수료에 상관관계가 있다.\n",
    "- 추가로, 사업소득과 결제금액(Target)은 뚜렷한 양의 상관관계가 있으며, 기타소득과도 결제금액은 어느정도의 상관관계가 있다."
   ]
  },
  {
   "cell_type": "markdown",
   "metadata": {},
   "source": [
    "####  7) 범주형 변수간의 상관관계 파악\n",
    "#### - Cramer's V\n",
    "#####   범주형 변수간 상관관계 파악\n",
    "#####   비교 대상 범주 대상이 3개 이상\n",
    "https://www.kaggle.com/chrisbss1/cramer-s-v-correlation-matrix"
   ]
  },
  {
   "cell_type": "code",
   "execution_count": 24,
   "metadata": {},
   "outputs": [
    {
     "data": {
      "text/html": [
       "<div>\n",
       "<style scoped>\n",
       "    .dataframe tbody tr th:only-of-type {\n",
       "        vertical-align: middle;\n",
       "    }\n",
       "\n",
       "    .dataframe tbody tr th {\n",
       "        vertical-align: top;\n",
       "    }\n",
       "\n",
       "    .dataframe thead th {\n",
       "        text-align: right;\n",
       "    }\n",
       "</style>\n",
       "<table border=\"1\" class=\"dataframe\">\n",
       "  <thead>\n",
       "    <tr style=\"text-align: right;\">\n",
       "      <th></th>\n",
       "      <th>gender</th>\n",
       "      <th>year</th>\n",
       "      <th>has_paid</th>\n",
       "      <th>ag_cat</th>\n",
       "      <th>근로yn</th>\n",
       "      <th>사업yn</th>\n",
       "      <th>기타yn</th>\n",
       "      <th>소득notnull여부</th>\n",
       "    </tr>\n",
       "  </thead>\n",
       "  <tbody>\n",
       "    <tr>\n",
       "      <td>0</td>\n",
       "      <td>F</td>\n",
       "      <td>2019</td>\n",
       "      <td>0</td>\n",
       "      <td>26, 29</td>\n",
       "      <td>True</td>\n",
       "      <td>True</td>\n",
       "      <td>False</td>\n",
       "      <td>2</td>\n",
       "    </tr>\n",
       "    <tr>\n",
       "      <td>1</td>\n",
       "      <td>M</td>\n",
       "      <td>2018</td>\n",
       "      <td>1</td>\n",
       "      <td>29, 34</td>\n",
       "      <td>True</td>\n",
       "      <td>False</td>\n",
       "      <td>True</td>\n",
       "      <td>2</td>\n",
       "    </tr>\n",
       "    <tr>\n",
       "      <td>2</td>\n",
       "      <td>F</td>\n",
       "      <td>2017</td>\n",
       "      <td>0</td>\n",
       "      <td>26, 29</td>\n",
       "      <td>False</td>\n",
       "      <td>True</td>\n",
       "      <td>False</td>\n",
       "      <td>1</td>\n",
       "    </tr>\n",
       "    <tr>\n",
       "      <td>3</td>\n",
       "      <td>M</td>\n",
       "      <td>2019</td>\n",
       "      <td>0</td>\n",
       "      <td>26, 29</td>\n",
       "      <td>False</td>\n",
       "      <td>True</td>\n",
       "      <td>False</td>\n",
       "      <td>1</td>\n",
       "    </tr>\n",
       "    <tr>\n",
       "      <td>4</td>\n",
       "      <td>F</td>\n",
       "      <td>2016</td>\n",
       "      <td>1</td>\n",
       "      <td>24, 26</td>\n",
       "      <td>True</td>\n",
       "      <td>True</td>\n",
       "      <td>False</td>\n",
       "      <td>2</td>\n",
       "    </tr>\n",
       "  </tbody>\n",
       "</table>\n",
       "</div>"
      ],
      "text/plain": [
       "  gender  year  has_paid  ag_cat   근로yn   사업yn   기타yn 소득notnull여부\n",
       "0      F  2019         0  26, 29   True   True  False           2\n",
       "1      M  2018         1  29, 34   True  False   True           2\n",
       "2      F  2017         0  26, 29  False   True  False           1\n",
       "3      M  2019         0  26, 29  False   True  False           1\n",
       "4      F  2016         1  24, 26   True   True  False           2"
      ]
     },
     "execution_count": 24,
     "metadata": {},
     "output_type": "execute_result"
    }
   ],
   "source": [
    "data = df[[i for i in df.columns if i in ('gender','ag_cat','has_paid','근로yn','사업yn','기타yn','소득notnull여부','year')]]\n",
    "\n",
    "data.head()"
   ]
  },
  {
   "cell_type": "code",
   "execution_count": 25,
   "metadata": {},
   "outputs": [],
   "source": [
    "from sklearn import preprocessing\n",
    "\n",
    "label = preprocessing.LabelEncoder()\n",
    "data_encoded = pd.DataFrame() \n",
    "\n",
    "for i in data.columns :\n",
    "  data_encoded[i]=label.fit_transform(data[i])"
   ]
  },
  {
   "cell_type": "code",
   "execution_count": 26,
   "metadata": {},
   "outputs": [
    {
     "data": {
      "text/html": [
       "<div>\n",
       "<style scoped>\n",
       "    .dataframe tbody tr th:only-of-type {\n",
       "        vertical-align: middle;\n",
       "    }\n",
       "\n",
       "    .dataframe tbody tr th {\n",
       "        vertical-align: top;\n",
       "    }\n",
       "\n",
       "    .dataframe thead th {\n",
       "        text-align: right;\n",
       "    }\n",
       "</style>\n",
       "<table border=\"1\" class=\"dataframe\">\n",
       "  <thead>\n",
       "    <tr style=\"text-align: right;\">\n",
       "      <th></th>\n",
       "      <th>gender</th>\n",
       "      <th>year</th>\n",
       "      <th>has_paid</th>\n",
       "      <th>ag_cat</th>\n",
       "      <th>근로yn</th>\n",
       "      <th>사업yn</th>\n",
       "      <th>기타yn</th>\n",
       "      <th>소득notnull여부</th>\n",
       "    </tr>\n",
       "  </thead>\n",
       "  <tbody>\n",
       "    <tr>\n",
       "      <td>0</td>\n",
       "      <td>0</td>\n",
       "      <td>4</td>\n",
       "      <td>0</td>\n",
       "      <td>3</td>\n",
       "      <td>1</td>\n",
       "      <td>1</td>\n",
       "      <td>0</td>\n",
       "      <td>2</td>\n",
       "    </tr>\n",
       "    <tr>\n",
       "      <td>1</td>\n",
       "      <td>1</td>\n",
       "      <td>3</td>\n",
       "      <td>1</td>\n",
       "      <td>4</td>\n",
       "      <td>1</td>\n",
       "      <td>0</td>\n",
       "      <td>1</td>\n",
       "      <td>2</td>\n",
       "    </tr>\n",
       "    <tr>\n",
       "      <td>2</td>\n",
       "      <td>0</td>\n",
       "      <td>2</td>\n",
       "      <td>0</td>\n",
       "      <td>3</td>\n",
       "      <td>0</td>\n",
       "      <td>1</td>\n",
       "      <td>0</td>\n",
       "      <td>1</td>\n",
       "    </tr>\n",
       "    <tr>\n",
       "      <td>3</td>\n",
       "      <td>1</td>\n",
       "      <td>4</td>\n",
       "      <td>0</td>\n",
       "      <td>3</td>\n",
       "      <td>0</td>\n",
       "      <td>1</td>\n",
       "      <td>0</td>\n",
       "      <td>1</td>\n",
       "    </tr>\n",
       "    <tr>\n",
       "      <td>4</td>\n",
       "      <td>0</td>\n",
       "      <td>1</td>\n",
       "      <td>1</td>\n",
       "      <td>2</td>\n",
       "      <td>1</td>\n",
       "      <td>1</td>\n",
       "      <td>0</td>\n",
       "      <td>2</td>\n",
       "    </tr>\n",
       "  </tbody>\n",
       "</table>\n",
       "</div>"
      ],
      "text/plain": [
       "   gender  year  has_paid  ag_cat  근로yn  사업yn  기타yn  소득notnull여부\n",
       "0       0     4         0       3     1     1     0            2\n",
       "1       1     3         1       4     1     0     1            2\n",
       "2       0     2         0       3     0     1     0            1\n",
       "3       1     4         0       3     0     1     0            1\n",
       "4       0     1         1       2     1     1     0            2"
      ]
     },
     "execution_count": 26,
     "metadata": {},
     "output_type": "execute_result"
    }
   ],
   "source": [
    "data_encoded.head()"
   ]
  },
  {
   "cell_type": "code",
   "execution_count": 27,
   "metadata": {},
   "outputs": [],
   "source": [
    "from scipy.stats import chi2_contingency\n",
    "import numpy as np\n",
    "\n",
    "\n",
    "def cramers_V(var1,var2) :\n",
    "  crosstab =np.array(pd.crosstab(var1,var2, rownames=None, colnames=None)) # Cross table building\n",
    "  stat = chi2_contingency(crosstab)[0] # Keeping of the test statistic of the Chi2 test\n",
    "  obs = np.sum(crosstab) # Number of observations\n",
    "  mini = min(crosstab.shape)-1 # Take the minimum value between the columns and the rows of the cross table\n",
    "  return (stat/(obs*mini))"
   ]
  },
  {
   "cell_type": "code",
   "execution_count": 28,
   "metadata": {},
   "outputs": [
    {
     "data": {
      "text/html": [
       "<div>\n",
       "<style scoped>\n",
       "    .dataframe tbody tr th:only-of-type {\n",
       "        vertical-align: middle;\n",
       "    }\n",
       "\n",
       "    .dataframe tbody tr th {\n",
       "        vertical-align: top;\n",
       "    }\n",
       "\n",
       "    .dataframe thead th {\n",
       "        text-align: right;\n",
       "    }\n",
       "</style>\n",
       "<table border=\"1\" class=\"dataframe\">\n",
       "  <thead>\n",
       "    <tr style=\"text-align: right;\">\n",
       "      <th></th>\n",
       "      <th>gender</th>\n",
       "      <th>year</th>\n",
       "      <th>has_paid</th>\n",
       "      <th>ag_cat</th>\n",
       "      <th>근로yn</th>\n",
       "      <th>사업yn</th>\n",
       "      <th>기타yn</th>\n",
       "      <th>소득notnull여부</th>\n",
       "    </tr>\n",
       "  </thead>\n",
       "  <tbody>\n",
       "    <tr>\n",
       "      <td>gender</td>\n",
       "      <td>1.00</td>\n",
       "      <td>0.00</td>\n",
       "      <td>0.00</td>\n",
       "      <td>0.02</td>\n",
       "      <td>0.00</td>\n",
       "      <td>0.00</td>\n",
       "      <td>0.00</td>\n",
       "      <td>0.00</td>\n",
       "    </tr>\n",
       "    <tr>\n",
       "      <td>year</td>\n",
       "      <td>0.00</td>\n",
       "      <td>1.00</td>\n",
       "      <td>0.04</td>\n",
       "      <td>0.01</td>\n",
       "      <td>0.03</td>\n",
       "      <td>0.02</td>\n",
       "      <td>0.01</td>\n",
       "      <td>0.03</td>\n",
       "    </tr>\n",
       "    <tr>\n",
       "      <td>has_paid</td>\n",
       "      <td>0.00</td>\n",
       "      <td>0.04</td>\n",
       "      <td>1.00</td>\n",
       "      <td>0.00</td>\n",
       "      <td>0.01</td>\n",
       "      <td>0.06</td>\n",
       "      <td>0.00</td>\n",
       "      <td>0.10</td>\n",
       "    </tr>\n",
       "    <tr>\n",
       "      <td>ag_cat</td>\n",
       "      <td>0.02</td>\n",
       "      <td>0.01</td>\n",
       "      <td>0.00</td>\n",
       "      <td>1.00</td>\n",
       "      <td>0.04</td>\n",
       "      <td>0.01</td>\n",
       "      <td>0.01</td>\n",
       "      <td>0.02</td>\n",
       "    </tr>\n",
       "    <tr>\n",
       "      <td>근로yn</td>\n",
       "      <td>0.00</td>\n",
       "      <td>0.03</td>\n",
       "      <td>0.01</td>\n",
       "      <td>0.04</td>\n",
       "      <td>1.00</td>\n",
       "      <td>0.01</td>\n",
       "      <td>0.02</td>\n",
       "      <td>0.76</td>\n",
       "    </tr>\n",
       "    <tr>\n",
       "      <td>사업yn</td>\n",
       "      <td>0.00</td>\n",
       "      <td>0.02</td>\n",
       "      <td>0.06</td>\n",
       "      <td>0.01</td>\n",
       "      <td>0.01</td>\n",
       "      <td>1.00</td>\n",
       "      <td>0.15</td>\n",
       "      <td>0.37</td>\n",
       "    </tr>\n",
       "    <tr>\n",
       "      <td>기타yn</td>\n",
       "      <td>0.00</td>\n",
       "      <td>0.01</td>\n",
       "      <td>0.00</td>\n",
       "      <td>0.01</td>\n",
       "      <td>0.02</td>\n",
       "      <td>0.15</td>\n",
       "      <td>1.00</td>\n",
       "      <td>0.26</td>\n",
       "    </tr>\n",
       "    <tr>\n",
       "      <td>소득notnull여부</td>\n",
       "      <td>0.00</td>\n",
       "      <td>0.03</td>\n",
       "      <td>0.10</td>\n",
       "      <td>0.02</td>\n",
       "      <td>0.76</td>\n",
       "      <td>0.37</td>\n",
       "      <td>0.26</td>\n",
       "      <td>1.00</td>\n",
       "    </tr>\n",
       "  </tbody>\n",
       "</table>\n",
       "</div>"
      ],
      "text/plain": [
       "             gender  year  has_paid  ag_cat  근로yn  사업yn  기타yn  소득notnull여부\n",
       "gender         1.00  0.00      0.00    0.02  0.00  0.00  0.00         0.00\n",
       "year           0.00  1.00      0.04    0.01  0.03  0.02  0.01         0.03\n",
       "has_paid       0.00  0.04      1.00    0.00  0.01  0.06  0.00         0.10\n",
       "ag_cat         0.02  0.01      0.00    1.00  0.04  0.01  0.01         0.02\n",
       "근로yn           0.00  0.03      0.01    0.04  1.00  0.01  0.02         0.76\n",
       "사업yn           0.00  0.02      0.06    0.01  0.01  1.00  0.15         0.37\n",
       "기타yn           0.00  0.01      0.00    0.01  0.02  0.15  1.00         0.26\n",
       "소득notnull여부    0.00  0.03      0.10    0.02  0.76  0.37  0.26         1.00"
      ]
     },
     "execution_count": 28,
     "metadata": {},
     "output_type": "execute_result"
    }
   ],
   "source": [
    "rows= []\n",
    "\n",
    "for var1 in data_encoded:\n",
    "  col = []\n",
    "  for var2 in data_encoded :\n",
    "    cramers =cramers_V(data_encoded[var1], data_encoded[var2]) # Cramer's V test\n",
    "    col.append(round(cramers,2)) # Keeping of the rounded value of the Cramer's V  \n",
    "  rows.append(col)\n",
    "  \n",
    "cramers_results = np.array(rows)\n",
    "df1 = pd.DataFrame(cramers_results, columns = data_encoded.columns, index =data_encoded.columns)\n",
    "\n",
    "\n",
    "\n",
    "df1"
   ]
  },
  {
   "cell_type": "code",
   "execution_count": 29,
   "metadata": {},
   "outputs": [
    {
     "data": {
      "text/plain": [
       "Text(0.5, 1, 'Feature Correlation')"
      ]
     },
     "execution_count": 29,
     "metadata": {},
     "output_type": "execute_result"
    },
    {
     "data": {
      "image/png": "[encoded data removed]",
      "text/plain": [
       "<Figure size 1080x1080 with 2 Axes>"
      ]
     },
     "metadata": {
      "needs_background": "light"
     },
     "output_type": "display_data"
    }
   ],
   "source": [
    "plt.rcParams['font.family'] = 'Malgun Gothic'\n",
    "plt.figure(figsize=(15, 15));\n",
    "sns.heatmap(df1,\n",
    "            vmax=0.8,\n",
    "            linewidths=0.01,\n",
    "            square=True,\n",
    "            annot=True,\n",
    "            cmap='Greens');\n",
    "plt.title('Feature Correlation')"
   ]
  },
  {
   "cell_type": "markdown",
   "metadata": {},
   "source": [
    "- <U>통계적으로 범주형 변수간의 상관관계는 없는 것으로 판단된다.</U>"
   ]
  },
  {
   "cell_type": "markdown",
   "metadata": {},
   "source": [
    "***"
   ]
  },
  {
   "cell_type": "markdown",
   "metadata": {},
   "source": [
    "## Ⅱ. 고객의 결제여부에 영향을 미치는 요인 과 총결제금액 합의 개선을 위한 분석"
   ]
  },
  {
   "cell_type": "markdown",
   "metadata": {},
   "source": [
    "### 1. 머신러닝 분류 모델을 통해 지불여부에 대해 데이터를 학습시키고 feature importance를 출력한 후 분석을 진행\n",
    "#### 1) XGB분류모델을 통해 지불여부를 target value로 설정하고, 나머지 변수를 학습"
   ]
  },
  {
   "cell_type": "code",
   "execution_count": 30,
   "metadata": {},
   "outputs": [],
   "source": [
    "from xgboost import XGBClassifier\n",
    "from xgboost import plot_importance\n",
    "from sklearn.preprocessing import MinMaxScaler\n",
    "scaler=MinMaxScaler()"
   ]
  },
  {
   "cell_type": "code",
   "execution_count": 31,
   "metadata": {},
   "outputs": [
    {
     "data": {
      "text/html": [
       "<div>\n",
       "<style scoped>\n",
       "    .dataframe tbody tr th:only-of-type {\n",
       "        vertical-align: middle;\n",
       "    }\n",
       "\n",
       "    .dataframe tbody tr th {\n",
       "        vertical-align: top;\n",
       "    }\n",
       "\n",
       "    .dataframe thead th {\n",
       "        text-align: right;\n",
       "    }\n",
       "</style>\n",
       "<table border=\"1\" class=\"dataframe\">\n",
       "  <thead>\n",
       "    <tr style=\"text-align: right;\">\n",
       "      <th></th>\n",
       "      <th>year</th>\n",
       "      <th>refund</th>\n",
       "      <th>fee</th>\n",
       "      <th>income_근로</th>\n",
       "      <th>income_사업</th>\n",
       "      <th>income_기타</th>\n",
       "      <th>gain</th>\n",
       "      <th>age</th>\n",
       "      <th>gender_F</th>\n",
       "      <th>gender_M</th>\n",
       "    </tr>\n",
       "  </thead>\n",
       "  <tbody>\n",
       "    <tr>\n",
       "      <td>0</td>\n",
       "      <td>0.8</td>\n",
       "      <td>0.517198</td>\n",
       "      <td>0.000000</td>\n",
       "      <td>0.054850</td>\n",
       "      <td>0.001528</td>\n",
       "      <td>0.000000</td>\n",
       "      <td>0.527427</td>\n",
       "      <td>0.181818</td>\n",
       "      <td>1</td>\n",
       "      <td>0</td>\n",
       "    </tr>\n",
       "    <tr>\n",
       "      <td>1</td>\n",
       "      <td>0.6</td>\n",
       "      <td>0.523139</td>\n",
       "      <td>0.004240</td>\n",
       "      <td>0.099224</td>\n",
       "      <td>0.000000</td>\n",
       "      <td>0.028897</td>\n",
       "      <td>0.533400</td>\n",
       "      <td>0.287879</td>\n",
       "      <td>0</td>\n",
       "      <td>1</td>\n",
       "    </tr>\n",
       "    <tr>\n",
       "      <td>2</td>\n",
       "      <td>0.4</td>\n",
       "      <td>0.534959</td>\n",
       "      <td>0.036204</td>\n",
       "      <td>0.000000</td>\n",
       "      <td>0.036585</td>\n",
       "      <td>0.000000</td>\n",
       "      <td>0.544823</td>\n",
       "      <td>0.196970</td>\n",
       "      <td>1</td>\n",
       "      <td>0</td>\n",
       "    </tr>\n",
       "    <tr>\n",
       "      <td>3</td>\n",
       "      <td>0.8</td>\n",
       "      <td>0.542527</td>\n",
       "      <td>0.051533</td>\n",
       "      <td>0.000000</td>\n",
       "      <td>0.061877</td>\n",
       "      <td>0.000000</td>\n",
       "      <td>0.552237</td>\n",
       "      <td>0.181818</td>\n",
       "      <td>0</td>\n",
       "      <td>1</td>\n",
       "    </tr>\n",
       "    <tr>\n",
       "      <td>4</td>\n",
       "      <td>0.2</td>\n",
       "      <td>0.524015</td>\n",
       "      <td>0.012720</td>\n",
       "      <td>0.000000</td>\n",
       "      <td>0.017253</td>\n",
       "      <td>0.000000</td>\n",
       "      <td>0.534126</td>\n",
       "      <td>0.166667</td>\n",
       "      <td>1</td>\n",
       "      <td>0</td>\n",
       "    </tr>\n",
       "    <tr>\n",
       "      <td>...</td>\n",
       "      <td>...</td>\n",
       "      <td>...</td>\n",
       "      <td>...</td>\n",
       "      <td>...</td>\n",
       "      <td>...</td>\n",
       "      <td>...</td>\n",
       "      <td>...</td>\n",
       "      <td>...</td>\n",
       "      <td>...</td>\n",
       "      <td>...</td>\n",
       "    </tr>\n",
       "    <tr>\n",
       "      <td>99995</td>\n",
       "      <td>0.8</td>\n",
       "      <td>0.535710</td>\n",
       "      <td>0.037508</td>\n",
       "      <td>0.000000</td>\n",
       "      <td>0.000000</td>\n",
       "      <td>0.010826</td>\n",
       "      <td>0.545562</td>\n",
       "      <td>0.181818</td>\n",
       "      <td>1</td>\n",
       "      <td>0</td>\n",
       "    </tr>\n",
       "    <tr>\n",
       "      <td>99996</td>\n",
       "      <td>0.8</td>\n",
       "      <td>0.521701</td>\n",
       "      <td>0.002935</td>\n",
       "      <td>0.000000</td>\n",
       "      <td>0.011594</td>\n",
       "      <td>0.000000</td>\n",
       "      <td>0.531959</td>\n",
       "      <td>0.712121</td>\n",
       "      <td>1</td>\n",
       "      <td>0</td>\n",
       "    </tr>\n",
       "    <tr>\n",
       "      <td>99997</td>\n",
       "      <td>1.0</td>\n",
       "      <td>0.517448</td>\n",
       "      <td>0.000000</td>\n",
       "      <td>0.043453</td>\n",
       "      <td>0.001352</td>\n",
       "      <td>0.000000</td>\n",
       "      <td>0.527682</td>\n",
       "      <td>0.136364</td>\n",
       "      <td>0</td>\n",
       "      <td>1</td>\n",
       "    </tr>\n",
       "    <tr>\n",
       "      <td>99998</td>\n",
       "      <td>0.8</td>\n",
       "      <td>0.519012</td>\n",
       "      <td>0.000000</td>\n",
       "      <td>0.000000</td>\n",
       "      <td>0.005108</td>\n",
       "      <td>0.000000</td>\n",
       "      <td>0.529275</td>\n",
       "      <td>0.136364</td>\n",
       "      <td>0</td>\n",
       "      <td>1</td>\n",
       "    </tr>\n",
       "    <tr>\n",
       "      <td>99999</td>\n",
       "      <td>0.8</td>\n",
       "      <td>0.519012</td>\n",
       "      <td>0.000000</td>\n",
       "      <td>0.040278</td>\n",
       "      <td>0.005133</td>\n",
       "      <td>0.000000</td>\n",
       "      <td>0.529275</td>\n",
       "      <td>0.121212</td>\n",
       "      <td>1</td>\n",
       "      <td>0</td>\n",
       "    </tr>\n",
       "  </tbody>\n",
       "</table>\n",
       "<p>99978 rows × 10 columns</p>\n",
       "</div>"
      ],
      "text/plain": [
       "       year    refund       fee  income_근로  income_사업  income_기타      gain  \\\n",
       "0       0.8  0.517198  0.000000   0.054850   0.001528   0.000000  0.527427   \n",
       "1       0.6  0.523139  0.004240   0.099224   0.000000   0.028897  0.533400   \n",
       "2       0.4  0.534959  0.036204   0.000000   0.036585   0.000000  0.544823   \n",
       "3       0.8  0.542527  0.051533   0.000000   0.061877   0.000000  0.552237   \n",
       "4       0.2  0.524015  0.012720   0.000000   0.017253   0.000000  0.534126   \n",
       "...     ...       ...       ...        ...        ...        ...       ...   \n",
       "99995   0.8  0.535710  0.037508   0.000000   0.000000   0.010826  0.545562   \n",
       "99996   0.8  0.521701  0.002935   0.000000   0.011594   0.000000  0.531959   \n",
       "99997   1.0  0.517448  0.000000   0.043453   0.001352   0.000000  0.527682   \n",
       "99998   0.8  0.519012  0.000000   0.000000   0.005108   0.000000  0.529275   \n",
       "99999   0.8  0.519012  0.000000   0.040278   0.005133   0.000000  0.529275   \n",
       "\n",
       "            age  gender_F  gender_M  \n",
       "0      0.181818         1         0  \n",
       "1      0.287879         0         1  \n",
       "2      0.196970         1         0  \n",
       "3      0.181818         0         1  \n",
       "4      0.166667         1         0  \n",
       "...         ...       ...       ...  \n",
       "99995  0.181818         1         0  \n",
       "99996  0.712121         1         0  \n",
       "99997  0.136364         0         1  \n",
       "99998  0.136364         0         1  \n",
       "99999  0.121212         1         0  \n",
       "\n",
       "[99978 rows x 10 columns]"
      ]
     },
     "execution_count": 31,
     "metadata": {},
     "output_type": "execute_result"
    }
   ],
   "source": [
    "X=df.reindex(['gender','year', 'refund', 'fee','income_근로','income_사업', 'income_기타','gain','age'],axis=1)\n",
    "X=X.fillna(0)\n",
    "\n",
    "# 분류 목적 대상\n",
    "y=df.has_paid\n",
    "\n",
    "#인코딩\n",
    "X=pd.get_dummies(X)\n",
    "#스케일링\n",
    "X.iloc[:,:8]=scaler.fit_transform(X.iloc[:,:8])\n",
    "X"
   ]
  },
  {
   "cell_type": "code",
   "execution_count": 32,
   "metadata": {},
   "outputs": [
    {
     "data": {
      "text/plain": [
       "0        0\n",
       "1        1\n",
       "2        0\n",
       "3        0\n",
       "4        1\n",
       "        ..\n",
       "99995    1\n",
       "99996    1\n",
       "99997    0\n",
       "99998    1\n",
       "99999    1\n",
       "Name: has_paid, Length: 99978, dtype: int32"
      ]
     },
     "execution_count": 32,
     "metadata": {},
     "output_type": "execute_result"
    }
   ],
   "source": [
    "y"
   ]
  },
  {
   "cell_type": "code",
   "execution_count": 33,
   "metadata": {},
   "outputs": [
    {
     "name": "stdout",
     "output_type": "stream",
     "text": [
      "[16:53:07] WARNING: C:/Users/Administrator/workspace/xgboost-win64_release_1.4.0/src/learner.cc:1095: Starting in XGBoost 1.3.0, the default evaluation metric used with the objective 'binary:logistic' was changed from 'error' to 'logloss'. Explicitly set eval_metric if you'd like to restore the old behavior.\n"
     ]
    },
    {
     "data": {
      "text/plain": [
       "XGBClassifier(base_score=0.5, booster='gbtree', colsample_bylevel=1,\n",
       "              colsample_bynode=1, colsample_bytree=1, gamma=0, gpu_id=-1,\n",
       "              importance_type='gain', interaction_constraints='',\n",
       "              learning_rate=0.3, max_delta_step=0, max_depth=6,\n",
       "              min_child_weight=1, missing=nan, monotone_constraints='()',\n",
       "              n_estimators=100, n_jobs=8, num_parallel_tree=1, random_state=42,\n",
       "              reg_alpha=0, reg_lambda=1, scale_pos_weight=1, subsample=1,\n",
       "              tree_method='exact', use_label_encoder=False,\n",
       "              validate_parameters=1, verbosity=None)"
      ]
     },
     "execution_count": 33,
     "metadata": {},
     "output_type": "execute_result"
    }
   ],
   "source": [
    "xgb_clf=XGBClassifier(n_estimators=100,random_state=42,learning_rate=0.3,use_label_encoder=False)\n",
    "xgb_clf.fit(X,y)"
   ]
  },
  {
   "cell_type": "markdown",
   "metadata": {},
   "source": [
    "#### 2) 변수중요도 파악"
   ]
  },
  {
   "cell_type": "code",
   "execution_count": 34,
   "metadata": {},
   "outputs": [
    {
     "data": {
      "text/plain": [
       "<matplotlib.axes._subplots.AxesSubplot at 0x203de2fe8c8>"
      ]
     },
     "execution_count": 34,
     "metadata": {},
     "output_type": "execute_result"
    },
    {
     "data": {
      "image/png": "[encoded data removed]",
      "text/plain": [
       "<Figure size 432x288 with 1 Axes>"
      ]
     },
     "metadata": {
      "needs_background": "light"
     },
     "output_type": "display_data"
    }
   ],
   "source": [
    "fig, ax = plt.subplots()\n",
    "plot_importance(xgb_clf,ax=ax)"
   ]
  },
  {
   "cell_type": "markdown",
   "metadata": {},
   "source": [
    "- 피어슨상관계수 히트맵에서 결제금액과 (사업소득 기타소득)이 상관관계가 있었는데, 여기서도 feature importance기준으로 상위에 속한다.\n",
    "- 제일 높은 변수중요도를 가진 변수는 사업소득이고,두번쨰가 나이,3번째가 근로소득, 네번째가 환급액,5번째가 기타 소득에 해당한다.  \n",
    "    => <U>이는 삼쩜삼 서비스를 이용해서 결제하는 주요 고객이 프리랜서일 수 있다는 의미로 해석할 수 있다.</U>\n",
    "- 변수에 각 소득원의 유무(예: 근로yn)를 넣고 학습시켰을 때 소득원의 유무는 변수중요도가 높지 않았다. "
   ]
  },
  {
   "cell_type": "markdown",
   "metadata": {},
   "source": [
    "### 2. income 사업 변수 및 소득 데이터 분석\n",
    "    - 그래프에서 보는 것처럼 결제고객의 사업소득 금액대 평균이 미결제고객의 금액대 보다 모든 연령그룹에서 훨씬 낮은 특징이 있다.\n",
    "    - 다만, 최빈값을 기준으로 보면 다른 인사이트를 얻을 수 있다.  \n",
    "    - 20세 이전과 26세에서 29세그룹, 34세부터 고연령층까지 사업소득의 최빈값이 구매고객 쪽이 더 높다.\n",
    "    - 이를 사용하면 연령별로 income 소득의 최빈값을 기준으로하여 결제율을 상승시킬 수 있다."
   ]
  },
  {
   "cell_type": "markdown",
   "metadata": {},
   "source": [
    "#### 1) 연령별 결제여부별 각 소득 파악"
   ]
  },
  {
   "cell_type": "markdown",
   "metadata": {},
   "source": [
    "#### (1) 사업소득"
   ]
  },
  {
   "cell_type": "code",
   "execution_count": 35,
   "metadata": {},
   "outputs": [
    {
     "data": {
      "text/plain": [
       "<matplotlib.legend.Legend at 0x203de3d40c8>"
      ]
     },
     "execution_count": 35,
     "metadata": {},
     "output_type": "execute_result"
    },
    {
     "data": {
      "image/png": "[encoded data removed]",
      "text/plain": [
       "<Figure size 432x288 with 1 Axes>"
      ]
     },
     "metadata": {
      "needs_background": "light"
     },
     "output_type": "display_data"
    }
   ],
   "source": [
    "ag_p0=df.loc[df.income_사업.notnull(),:].query(\"has_paid==0\").groupby('ag_cat')['income_사업'].mean()\n",
    "ag_p0.name='미결제고객'\n",
    "ag_p0.plot()\n",
    "ag_p1=df.loc[df.income_사업.notnull(),:].query(\"has_paid==1\").groupby('ag_cat')['income_사업'].mean()\n",
    "ag_p1.name='결제고객'\n",
    "ag_p1.plot()\n",
    "plt.legend()"
   ]
  },
  {
   "cell_type": "code",
   "execution_count": 36,
   "metadata": {},
   "outputs": [
    {
     "data": {
      "text/plain": [
       "<matplotlib.legend.Legend at 0x203de363b48>"
      ]
     },
     "execution_count": 36,
     "metadata": {},
     "output_type": "execute_result"
    },
    {
     "data": {
      "image/png": "[encoded data removed]",
      "text/plain": [
       "<Figure size 432x288 with 1 Axes>"
      ]
     },
     "metadata": {
      "needs_background": "light"
     },
     "output_type": "display_data"
    }
   ],
   "source": [
    "f1= lambda x: x.mode()\n",
    "ag_p0=df.loc[df.income_사업.notnull(),:].query(\"has_paid==0\").groupby('ag_cat')['income_사업'].agg(f1)\n",
    "ag_p0.name='미결제고객'\n",
    "ag_p0.plot()\n",
    "ag_p1=df.loc[df.income_사업.notnull(),:].query(\"has_paid==1\").groupby('ag_cat')['income_사업'].agg(f1)\n",
    "ag_p1.name='결제고객'\n",
    "ag_p1.plot()\n",
    "plt.legend()"
   ]
  },
  {
   "cell_type": "markdown",
   "metadata": {},
   "source": [
    "- 연령별 사업소득의 결제율을 높이기위한 값 설정"
   ]
  },
  {
   "cell_type": "code",
   "execution_count": 37,
   "metadata": {},
   "outputs": [
    {
     "data": {
      "text/html": [
       "<div>\n",
       "<style scoped>\n",
       "    .dataframe tbody tr th:only-of-type {\n",
       "        vertical-align: middle;\n",
       "    }\n",
       "\n",
       "    .dataframe tbody tr th {\n",
       "        vertical-align: top;\n",
       "    }\n",
       "\n",
       "    .dataframe thead th {\n",
       "        text-align: right;\n",
       "    }\n",
       "</style>\n",
       "<table border=\"1\" class=\"dataframe\">\n",
       "  <thead>\n",
       "    <tr style=\"text-align: right;\">\n",
       "      <th></th>\n",
       "      <th>cvr</th>\n",
       "    </tr>\n",
       "    <tr>\n",
       "      <th>age_bin</th>\n",
       "      <th></th>\n",
       "    </tr>\n",
       "  </thead>\n",
       "  <tbody>\n",
       "    <tr>\n",
       "      <td>-1, 21</td>\n",
       "      <td>0.663146</td>\n",
       "    </tr>\n",
       "    <tr>\n",
       "      <td>21, 24</td>\n",
       "      <td>0.653823</td>\n",
       "    </tr>\n",
       "    <tr>\n",
       "      <td>26, 29</td>\n",
       "      <td>0.653374</td>\n",
       "    </tr>\n",
       "    <tr>\n",
       "      <td>24, 26</td>\n",
       "      <td>0.652258</td>\n",
       "    </tr>\n",
       "    <tr>\n",
       "      <td>29, 34</td>\n",
       "      <td>0.638193</td>\n",
       "    </tr>\n",
       "    <tr>\n",
       "      <td>37, 48</td>\n",
       "      <td>0.625418</td>\n",
       "    </tr>\n",
       "    <tr>\n",
       "      <td>34, 37</td>\n",
       "      <td>0.621988</td>\n",
       "    </tr>\n",
       "    <tr>\n",
       "      <td>48, 100</td>\n",
       "      <td>0.616695</td>\n",
       "    </tr>\n",
       "  </tbody>\n",
       "</table>\n",
       "</div>"
      ],
      "text/plain": [
       "              cvr\n",
       "age_bin          \n",
       "-1, 21   0.663146\n",
       "21, 24   0.653823\n",
       "26, 29   0.653374\n",
       "24, 26   0.652258\n",
       "29, 34   0.638193\n",
       "37, 48   0.625418\n",
       "34, 37   0.621988\n",
       "48, 100  0.616695"
      ]
     },
     "execution_count": 37,
     "metadata": {},
     "output_type": "execute_result"
    }
   ],
   "source": [
    "# 연령별 결제율\n",
    "l1=[]\n",
    "l2=[]\n",
    "for i in df.ag_cat.unique():\n",
    "    str_expr=\"ag_cat == @i\"\n",
    "    str_expr1=\"ag_cat == @i and has_paid ==1\"\n",
    "    l1.append(df.query(str_expr1).shape[0]/df.query(str_expr).shape[0])\n",
    "    l2.append(i)\n",
    "    \n",
    "age_cvr=pd.DataFrame([l2,l1]).T\n",
    "age_cvr.columns=['age_bin','cvr']\n",
    "age_cvr=age_cvr.set_index('age_bin').sort_values('cvr',ascending=False)\n",
    "age_cvr"
   ]
  },
  {
   "cell_type": "markdown",
   "metadata": {},
   "source": [
    "#### 사업소득 그룹화 (7개-> 6개와 null값)"
   ]
  },
  {
   "cell_type": "code",
   "execution_count": 38,
   "metadata": {},
   "outputs": [
    {
     "data": {
      "text/html": [
       "<div>\n",
       "<style scoped>\n",
       "    .dataframe tbody tr th:only-of-type {\n",
       "        vertical-align: middle;\n",
       "    }\n",
       "\n",
       "    .dataframe tbody tr th {\n",
       "        vertical-align: top;\n",
       "    }\n",
       "\n",
       "    .dataframe thead th {\n",
       "        text-align: right;\n",
       "    }\n",
       "</style>\n",
       "<table border=\"1\" class=\"dataframe\">\n",
       "  <thead>\n",
       "    <tr style=\"text-align: right;\">\n",
       "      <th></th>\n",
       "      <th>age</th>\n",
       "      <th>gender</th>\n",
       "      <th>year</th>\n",
       "      <th>refund</th>\n",
       "      <th>fee</th>\n",
       "      <th>has_paid</th>\n",
       "      <th>income_근로</th>\n",
       "      <th>income_사업</th>\n",
       "      <th>income_기타</th>\n",
       "      <th>Target</th>\n",
       "      <th>gain</th>\n",
       "      <th>ag_cat</th>\n",
       "      <th>근로yn</th>\n",
       "      <th>사업yn</th>\n",
       "      <th>기타yn</th>\n",
       "      <th>소득notnull여부</th>\n",
       "      <th>inc_comp_cat</th>\n",
       "    </tr>\n",
       "  </thead>\n",
       "  <tbody>\n",
       "    <tr>\n",
       "      <td>0</td>\n",
       "      <td>27.0</td>\n",
       "      <td>F</td>\n",
       "      <td>2019</td>\n",
       "      <td>5000.0</td>\n",
       "      <td>400.0</td>\n",
       "      <td>0</td>\n",
       "      <td>10001000.0</td>\n",
       "      <td>61000.0</td>\n",
       "      <td>NaN</td>\n",
       "      <td>0.0</td>\n",
       "      <td>4600.0</td>\n",
       "      <td>26, 29</td>\n",
       "      <td>True</td>\n",
       "      <td>True</td>\n",
       "      <td>False</td>\n",
       "      <td>2</td>\n",
       "      <td>(-1.0, 102000.0]</td>\n",
       "    </tr>\n",
       "    <tr>\n",
       "      <td>1</td>\n",
       "      <td>34.0</td>\n",
       "      <td>M</td>\n",
       "      <td>2018</td>\n",
       "      <td>100000.0</td>\n",
       "      <td>1700.0</td>\n",
       "      <td>1</td>\n",
       "      <td>18092000.0</td>\n",
       "      <td>NaN</td>\n",
       "      <td>1815000.0</td>\n",
       "      <td>1700.0</td>\n",
       "      <td>98300.0</td>\n",
       "      <td>29, 34</td>\n",
       "      <td>True</td>\n",
       "      <td>False</td>\n",
       "      <td>True</td>\n",
       "      <td>2</td>\n",
       "      <td>n</td>\n",
       "    </tr>\n",
       "    <tr>\n",
       "      <td>2</td>\n",
       "      <td>28.0</td>\n",
       "      <td>F</td>\n",
       "      <td>2017</td>\n",
       "      <td>289000.0</td>\n",
       "      <td>11500.0</td>\n",
       "      <td>0</td>\n",
       "      <td>NaN</td>\n",
       "      <td>1461000.0</td>\n",
       "      <td>NaN</td>\n",
       "      <td>0.0</td>\n",
       "      <td>277500.0</td>\n",
       "      <td>26, 29</td>\n",
       "      <td>False</td>\n",
       "      <td>True</td>\n",
       "      <td>False</td>\n",
       "      <td>1</td>\n",
       "      <td>(1233000.0, 2793000.0]</td>\n",
       "    </tr>\n",
       "    <tr>\n",
       "      <td>3</td>\n",
       "      <td>27.0</td>\n",
       "      <td>M</td>\n",
       "      <td>2019</td>\n",
       "      <td>410000.0</td>\n",
       "      <td>16200.0</td>\n",
       "      <td>0</td>\n",
       "      <td>NaN</td>\n",
       "      <td>2471000.0</td>\n",
       "      <td>NaN</td>\n",
       "      <td>0.0</td>\n",
       "      <td>393800.0</td>\n",
       "      <td>26, 29</td>\n",
       "      <td>False</td>\n",
       "      <td>True</td>\n",
       "      <td>False</td>\n",
       "      <td>1</td>\n",
       "      <td>(1233000.0, 2793000.0]</td>\n",
       "    </tr>\n",
       "    <tr>\n",
       "      <td>4</td>\n",
       "      <td>26.0</td>\n",
       "      <td>F</td>\n",
       "      <td>2016</td>\n",
       "      <td>114000.0</td>\n",
       "      <td>4300.0</td>\n",
       "      <td>1</td>\n",
       "      <td>0.0</td>\n",
       "      <td>689000.0</td>\n",
       "      <td>NaN</td>\n",
       "      <td>4300.0</td>\n",
       "      <td>109700.0</td>\n",
       "      <td>24, 26</td>\n",
       "      <td>True</td>\n",
       "      <td>True</td>\n",
       "      <td>False</td>\n",
       "      <td>2</td>\n",
       "      <td>(640000.0, 1233000.0]</td>\n",
       "    </tr>\n",
       "    <tr>\n",
       "      <td>...</td>\n",
       "      <td>...</td>\n",
       "      <td>...</td>\n",
       "      <td>...</td>\n",
       "      <td>...</td>\n",
       "      <td>...</td>\n",
       "      <td>...</td>\n",
       "      <td>...</td>\n",
       "      <td>...</td>\n",
       "      <td>...</td>\n",
       "      <td>...</td>\n",
       "      <td>...</td>\n",
       "      <td>...</td>\n",
       "      <td>...</td>\n",
       "      <td>...</td>\n",
       "      <td>...</td>\n",
       "      <td>...</td>\n",
       "      <td>...</td>\n",
       "    </tr>\n",
       "    <tr>\n",
       "      <td>99995</td>\n",
       "      <td>27.0</td>\n",
       "      <td>F</td>\n",
       "      <td>2019</td>\n",
       "      <td>301000.0</td>\n",
       "      <td>11900.0</td>\n",
       "      <td>1</td>\n",
       "      <td>NaN</td>\n",
       "      <td>NaN</td>\n",
       "      <td>680000.0</td>\n",
       "      <td>11900.0</td>\n",
       "      <td>289100.0</td>\n",
       "      <td>26, 29</td>\n",
       "      <td>False</td>\n",
       "      <td>False</td>\n",
       "      <td>True</td>\n",
       "      <td>1</td>\n",
       "      <td>n</td>\n",
       "    </tr>\n",
       "    <tr>\n",
       "      <td>99996</td>\n",
       "      <td>62.0</td>\n",
       "      <td>F</td>\n",
       "      <td>2019</td>\n",
       "      <td>77000.0</td>\n",
       "      <td>1300.0</td>\n",
       "      <td>1</td>\n",
       "      <td>NaN</td>\n",
       "      <td>463000.0</td>\n",
       "      <td>NaN</td>\n",
       "      <td>1300.0</td>\n",
       "      <td>75700.0</td>\n",
       "      <td>48, 100</td>\n",
       "      <td>False</td>\n",
       "      <td>True</td>\n",
       "      <td>False</td>\n",
       "      <td>1</td>\n",
       "      <td>(295000.0, 640000.0]</td>\n",
       "    </tr>\n",
       "    <tr>\n",
       "      <td>99997</td>\n",
       "      <td>24.0</td>\n",
       "      <td>M</td>\n",
       "      <td>2020</td>\n",
       "      <td>9000.0</td>\n",
       "      <td>400.0</td>\n",
       "      <td>0</td>\n",
       "      <td>7923000.0</td>\n",
       "      <td>54000.0</td>\n",
       "      <td>NaN</td>\n",
       "      <td>0.0</td>\n",
       "      <td>8600.0</td>\n",
       "      <td>21, 24</td>\n",
       "      <td>True</td>\n",
       "      <td>True</td>\n",
       "      <td>False</td>\n",
       "      <td>2</td>\n",
       "      <td>(-1.0, 102000.0]</td>\n",
       "    </tr>\n",
       "    <tr>\n",
       "      <td>99998</td>\n",
       "      <td>24.0</td>\n",
       "      <td>M</td>\n",
       "      <td>2019</td>\n",
       "      <td>34000.0</td>\n",
       "      <td>400.0</td>\n",
       "      <td>1</td>\n",
       "      <td>NaN</td>\n",
       "      <td>204000.0</td>\n",
       "      <td>NaN</td>\n",
       "      <td>400.0</td>\n",
       "      <td>33600.0</td>\n",
       "      <td>21, 24</td>\n",
       "      <td>False</td>\n",
       "      <td>True</td>\n",
       "      <td>False</td>\n",
       "      <td>1</td>\n",
       "      <td>(102000.0, 295000.0]</td>\n",
       "    </tr>\n",
       "    <tr>\n",
       "      <td>99999</td>\n",
       "      <td>23.0</td>\n",
       "      <td>F</td>\n",
       "      <td>2019</td>\n",
       "      <td>34000.0</td>\n",
       "      <td>400.0</td>\n",
       "      <td>1</td>\n",
       "      <td>7344000.0</td>\n",
       "      <td>205000.0</td>\n",
       "      <td>NaN</td>\n",
       "      <td>400.0</td>\n",
       "      <td>33600.0</td>\n",
       "      <td>21, 24</td>\n",
       "      <td>True</td>\n",
       "      <td>True</td>\n",
       "      <td>False</td>\n",
       "      <td>2</td>\n",
       "      <td>(102000.0, 295000.0]</td>\n",
       "    </tr>\n",
       "  </tbody>\n",
       "</table>\n",
       "<p>99978 rows × 17 columns</p>\n",
       "</div>"
      ],
      "text/plain": [
       "        age gender  year    refund      fee  has_paid   income_근로  income_사업  \\\n",
       "0      27.0      F  2019    5000.0    400.0         0  10001000.0    61000.0   \n",
       "1      34.0      M  2018  100000.0   1700.0         1  18092000.0        NaN   \n",
       "2      28.0      F  2017  289000.0  11500.0         0         NaN  1461000.0   \n",
       "3      27.0      M  2019  410000.0  16200.0         0         NaN  2471000.0   \n",
       "4      26.0      F  2016  114000.0   4300.0         1         0.0   689000.0   \n",
       "...     ...    ...   ...       ...      ...       ...         ...        ...   \n",
       "99995  27.0      F  2019  301000.0  11900.0         1         NaN        NaN   \n",
       "99996  62.0      F  2019   77000.0   1300.0         1         NaN   463000.0   \n",
       "99997  24.0      M  2020    9000.0    400.0         0   7923000.0    54000.0   \n",
       "99998  24.0      M  2019   34000.0    400.0         1         NaN   204000.0   \n",
       "99999  23.0      F  2019   34000.0    400.0         1   7344000.0   205000.0   \n",
       "\n",
       "       income_기타   Target      gain   ag_cat   근로yn   사업yn   기타yn 소득notnull여부  \\\n",
       "0            NaN      0.0    4600.0   26, 29   True   True  False           2   \n",
       "1      1815000.0   1700.0   98300.0   29, 34   True  False   True           2   \n",
       "2            NaN      0.0  277500.0   26, 29  False   True  False           1   \n",
       "3            NaN      0.0  393800.0   26, 29  False   True  False           1   \n",
       "4            NaN   4300.0  109700.0   24, 26   True   True  False           2   \n",
       "...          ...      ...       ...      ...    ...    ...    ...         ...   \n",
       "99995   680000.0  11900.0  289100.0   26, 29  False  False   True           1   \n",
       "99996        NaN   1300.0   75700.0  48, 100  False   True  False           1   \n",
       "99997        NaN      0.0    8600.0   21, 24   True   True  False           2   \n",
       "99998        NaN    400.0   33600.0   21, 24  False   True  False           1   \n",
       "99999        NaN    400.0   33600.0   21, 24   True   True  False           2   \n",
       "\n",
       "                 inc_comp_cat  \n",
       "0            (-1.0, 102000.0]  \n",
       "1                           n  \n",
       "2      (1233000.0, 2793000.0]  \n",
       "3      (1233000.0, 2793000.0]  \n",
       "4       (640000.0, 1233000.0]  \n",
       "...                       ...  \n",
       "99995                       n  \n",
       "99996    (295000.0, 640000.0]  \n",
       "99997        (-1.0, 102000.0]  \n",
       "99998    (102000.0, 295000.0]  \n",
       "99999    (102000.0, 295000.0]  \n",
       "\n",
       "[99978 rows x 17 columns]"
      ]
     },
     "execution_count": 38,
     "metadata": {},
     "output_type": "execute_result"
    }
   ],
   "source": [
    "inc_comp_cat=pd.cut(df.income_사업,bins=[-1,df.income_사업.quantile(0.17),df.income_사업.quantile(0.17*2),\n",
    "                     df.income_사업.quantile(0.17*3),df.income_사업.quantile(0.17*4),df.income_사업.quantile(0.17*5),df.income_사업.max()])\n",
    "      #l,abels=['a','b','c','d','e','f'])\n",
    "df['inc_comp_cat']=inc_comp_cat\n",
    "df['inc_comp_cat']=df['inc_comp_cat'].astype('str')\n",
    "df['inc_comp_cat']=df['inc_comp_cat'].replace('nan','n')\n",
    "df"
   ]
  },
  {
   "cell_type": "markdown",
   "metadata": {},
   "source": [
    "<br></br>\n",
    "#### 사업소득 그룹별 결제율을 측정 (3번째로 낮은 수치의 사업소득그룹이 결제율은 높음)"
   ]
  },
  {
   "cell_type": "code",
   "execution_count": 39,
   "metadata": {},
   "outputs": [
    {
     "data": {
      "text/plain": [
       "inc_comp_cat\n",
       "(295000.0, 640000.0]       0.781172\n",
       "(102000.0, 295000.0]       0.763988\n",
       "(640000.0, 1233000.0]      0.746281\n",
       "(1233000.0, 2793000.0]     0.704518\n",
       "(-1.0, 102000.0]           0.642573\n",
       "(2793000.0, 39934000.0]    0.605438\n",
       "n                          0.420716\n",
       "Name: 1, dtype: float64"
      ]
     },
     "execution_count": 39,
     "metadata": {},
     "output_type": "execute_result"
    }
   ],
   "source": [
    "f1= lambda x : x/x.sum()\n",
    "df.groupby(['inc_comp_cat','has_paid'])['refund'].count().unstack().apply(f1,axis=1).iloc[:,1].sort_values(ascending=False)"
   ]
  },
  {
   "cell_type": "markdown",
   "metadata": {},
   "source": [
    "#### 나이대별 결제율은 60%대 이므로, 70%대의 전환율을 가진 사업소득그룹중 최솟값을 기준으로 필터링 후 나이대별 결제율 측정"
   ]
  },
  {
   "cell_type": "code",
   "execution_count": 40,
   "metadata": {},
   "outputs": [
    {
     "data": {
      "text/html": [
       "<div>\n",
       "<style scoped>\n",
       "    .dataframe tbody tr th:only-of-type {\n",
       "        vertical-align: middle;\n",
       "    }\n",
       "\n",
       "    .dataframe tbody tr th {\n",
       "        vertical-align: top;\n",
       "    }\n",
       "\n",
       "    .dataframe thead th {\n",
       "        text-align: right;\n",
       "    }\n",
       "</style>\n",
       "<table border=\"1\" class=\"dataframe\">\n",
       "  <thead>\n",
       "    <tr style=\"text-align: right;\">\n",
       "      <th></th>\n",
       "      <th>cvr</th>\n",
       "      <th>age_cvr</th>\n",
       "    </tr>\n",
       "    <tr>\n",
       "      <th>age_bin</th>\n",
       "      <th></th>\n",
       "      <th></th>\n",
       "    </tr>\n",
       "  </thead>\n",
       "  <tbody>\n",
       "    <tr>\n",
       "      <td>26, 29</td>\n",
       "      <td>0.738617</td>\n",
       "      <td>0.653374</td>\n",
       "    </tr>\n",
       "    <tr>\n",
       "      <td>34, 37</td>\n",
       "      <td>0.731175</td>\n",
       "      <td>0.621988</td>\n",
       "    </tr>\n",
       "    <tr>\n",
       "      <td>29, 34</td>\n",
       "      <td>0.727812</td>\n",
       "      <td>0.638193</td>\n",
       "    </tr>\n",
       "    <tr>\n",
       "      <td>24, 26</td>\n",
       "      <td>0.727063</td>\n",
       "      <td>0.652258</td>\n",
       "    </tr>\n",
       "    <tr>\n",
       "      <td>21, 24</td>\n",
       "      <td>0.716702</td>\n",
       "      <td>0.653823</td>\n",
       "    </tr>\n",
       "    <tr>\n",
       "      <td>37, 48</td>\n",
       "      <td>0.710381</td>\n",
       "      <td>0.625418</td>\n",
       "    </tr>\n",
       "    <tr>\n",
       "      <td>-1, 21</td>\n",
       "      <td>0.702544</td>\n",
       "      <td>0.663146</td>\n",
       "    </tr>\n",
       "    <tr>\n",
       "      <td>48, 100</td>\n",
       "      <td>0.697194</td>\n",
       "      <td>0.616695</td>\n",
       "    </tr>\n",
       "  </tbody>\n",
       "</table>\n",
       "</div>"
      ],
      "text/plain": [
       "              cvr   age_cvr\n",
       "age_bin                    \n",
       "26, 29   0.738617  0.653374\n",
       "34, 37   0.731175  0.621988\n",
       "29, 34   0.727812  0.638193\n",
       "24, 26   0.727063  0.652258\n",
       "21, 24   0.716702  0.653823\n",
       "37, 48   0.710381  0.625418\n",
       "-1, 21   0.702544  0.663146\n",
       "48, 100  0.697194  0.616695"
      ]
     },
     "execution_count": 40,
     "metadata": {},
     "output_type": "execute_result"
    }
   ],
   "source": [
    "# 사업 소득 변수에 결제율 70%대의 최소값 이상인 데이터를 넣은 나이대별 결제율 비교\n",
    "l1=[]\n",
    "l2=[]\n",
    "for i in np.arange(0,ag_p1.shape[0]):\n",
    "        l1.append(ag_p1.index[i])\n",
    "        l2.append(df.query(\"income_사업>= 102000.0 and ag_cat==@ag_p1.index[@i]\").has_paid.value_counts()[1]/df.query(\"income_사업>= 102000.0 and ag_cat==@ag_p1.index[@i]\").shape[0])\n",
    "\n",
    "age_mode_cvr=pd.DataFrame([l1,l2]).T\n",
    "age_mode_cvr.columns=['age_bin','cvr']    \n",
    "age_buis_cvr=age_mode_cvr.set_index('age_bin').sort_values('cvr',ascending=False)\n",
    "age_buis_cvr['age_cvr']=age_cvr\n",
    "age_buis_cvr"
   ]
  },
  {
   "cell_type": "code",
   "execution_count": 41,
   "metadata": {},
   "outputs": [
    {
     "data": {
      "text/plain": [
       "age_cvr         NaN\n",
       "cvr        0.078324\n",
       "dtype: float64"
      ]
     },
     "execution_count": 41,
     "metadata": {},
     "output_type": "execute_result"
    }
   ],
   "source": [
    "(age_buis_cvr-age_cvr).sort_values(by='cvr',ascending=False).mean()"
   ]
  },
  {
   "cell_type": "markdown",
   "metadata": {},
   "source": [
    "- <U> xgboost 모델의 feature selection에서 높은 중요도를 보인 income_사업 소득의 필터링으로 결제여부에 영향을 미칠 수 있음을 확인했다.</U>"
   ]
  },
  {
   "cell_type": "markdown",
   "metadata": {},
   "source": [
    "#### (2) 기타소득\n",
    "    - 기타소득 그룹화"
   ]
  },
  {
   "cell_type": "code",
   "execution_count": 42,
   "metadata": {},
   "outputs": [],
   "source": [
    "inc_etc_cat=pd.cut(df.income_기타,bins=[-1,df.income_기타.quantile(0.17),df.income_기타.quantile(0.17*2),\n",
    "                     df.income_기타.quantile(0.17*3),df.income_기타.quantile(0.17*4),df.income_기타.quantile(0.17*5),df.income_기타.max()])\n",
    "      #l,abels=['a','b','c','d','e','f'])\n",
    "df['inc_etc_cat']=inc_etc_cat\n",
    "df['inc_etc_cat']=df['inc_etc_cat'].astype('str')\n",
    "df['inc_etc_cat']=df['inc_etc_cat'].replace('nan','n')"
   ]
  },
  {
   "cell_type": "code",
   "execution_count": 43,
   "metadata": {},
   "outputs": [
    {
     "data": {
      "text/plain": [
       "<matplotlib.legend.Legend at 0x203e0a74148>"
      ]
     },
     "execution_count": 43,
     "metadata": {},
     "output_type": "execute_result"
    },
    {
     "data": {
      "image/png": "[encoded data removed]",
      "text/plain": [
       "<Figure size 432x288 with 1 Axes>"
      ]
     },
     "metadata": {
      "needs_background": "light"
     },
     "output_type": "display_data"
    }
   ],
   "source": [
    "#기타소득 나이대별 평균\n",
    "ag_p0=df.loc[df.income_기타.notnull(),:].query(\"has_paid==0\").groupby('ag_cat')['income_기타'].mean()\n",
    "ag_p0.name='미결제고객'\n",
    "ag_p0.plot()\n",
    "ag_p1=df.loc[df.income_기타.notnull(),:].query(\"has_paid==1\").groupby('ag_cat')['income_기타'].mean()\n",
    "ag_p1.name='결제고객'\n",
    "ag_p1.plot()\n",
    "plt.legend()"
   ]
  },
  {
   "cell_type": "code",
   "execution_count": 44,
   "metadata": {},
   "outputs": [
    {
     "data": {
      "text/plain": [
       "<matplotlib.legend.Legend at 0x203e0a54408>"
      ]
     },
     "execution_count": 44,
     "metadata": {},
     "output_type": "execute_result"
    },
    {
     "data": {
      "image/png": "[encoded data removed]",
      "text/plain": [
       "<Figure size 432x288 with 1 Axes>"
      ]
     },
     "metadata": {
      "needs_background": "light"
     },
     "output_type": "display_data"
    }
   ],
   "source": [
    "#기타소득 나이대별 최빈값\n",
    "f1= lambda x: x.mode()[0]\n",
    "ag_p0=df.loc[df.income_기타.notnull(),:].query(\"has_paid==0\").groupby('ag_cat')['income_기타'].agg(f1)\n",
    "ag_p0.name='미결제고객'\n",
    "ag_p0.plot()\n",
    "ag_p1=df.loc[df.income_기타.notnull(),:].query(\"has_paid==1\").groupby('ag_cat')['income_기타'].agg(f1)\n",
    "ag_p1.name='결제고객'\n",
    "ag_p1.plot()\n",
    "plt.legend()"
   ]
  },
  {
   "cell_type": "code",
   "execution_count": 45,
   "metadata": {},
   "outputs": [
    {
     "data": {
      "text/plain": [
       "inc_etc_cat\n",
       "(51000.0, 114000.0]        0.690822\n",
       "(114000.0, 213000.0]       0.688810\n",
       "(-1.0, 51000.0]            0.686903\n",
       "(213000.0, 425000.0]       0.682455\n",
       "(425000.0, 1020000.0]      0.660925\n",
       "n                          0.641813\n",
       "(1020000.0, 62810000.0]    0.536968\n",
       "Name: 1, dtype: float64"
      ]
     },
     "execution_count": 45,
     "metadata": {},
     "output_type": "execute_result"
    }
   ],
   "source": [
    "f1= lambda x : x/x.sum()\n",
    "df.groupby(['inc_etc_cat','has_paid'])['refund'].count().unstack().apply(f1,axis=1).iloc[:,1].sort_values(ascending=False)"
   ]
  },
  {
   "cell_type": "code",
   "execution_count": 46,
   "metadata": {},
   "outputs": [
    {
     "data": {
      "text/html": [
       "<div>\n",
       "<style scoped>\n",
       "    .dataframe tbody tr th:only-of-type {\n",
       "        vertical-align: middle;\n",
       "    }\n",
       "\n",
       "    .dataframe tbody tr th {\n",
       "        vertical-align: top;\n",
       "    }\n",
       "\n",
       "    .dataframe thead th {\n",
       "        text-align: right;\n",
       "    }\n",
       "</style>\n",
       "<table border=\"1\" class=\"dataframe\">\n",
       "  <thead>\n",
       "    <tr style=\"text-align: right;\">\n",
       "      <th></th>\n",
       "      <th>cvr</th>\n",
       "      <th>age_cvr</th>\n",
       "    </tr>\n",
       "    <tr>\n",
       "      <th>age_bin</th>\n",
       "      <th></th>\n",
       "      <th></th>\n",
       "    </tr>\n",
       "  </thead>\n",
       "  <tbody>\n",
       "    <tr>\n",
       "      <td>-1, 21</td>\n",
       "      <td>0.68244</td>\n",
       "      <td>0.663146</td>\n",
       "    </tr>\n",
       "    <tr>\n",
       "      <td>21, 24</td>\n",
       "      <td>0.636502</td>\n",
       "      <td>0.653823</td>\n",
       "    </tr>\n",
       "    <tr>\n",
       "      <td>24, 26</td>\n",
       "      <td>0.638557</td>\n",
       "      <td>0.652258</td>\n",
       "    </tr>\n",
       "    <tr>\n",
       "      <td>26, 29</td>\n",
       "      <td>0.664028</td>\n",
       "      <td>0.653374</td>\n",
       "    </tr>\n",
       "    <tr>\n",
       "      <td>29, 34</td>\n",
       "      <td>0.647432</td>\n",
       "      <td>0.638193</td>\n",
       "    </tr>\n",
       "    <tr>\n",
       "      <td>34, 37</td>\n",
       "      <td>0.668863</td>\n",
       "      <td>0.621988</td>\n",
       "    </tr>\n",
       "    <tr>\n",
       "      <td>37, 48</td>\n",
       "      <td>0.702674</td>\n",
       "      <td>0.625418</td>\n",
       "    </tr>\n",
       "    <tr>\n",
       "      <td>48, 100</td>\n",
       "      <td>0.642029</td>\n",
       "      <td>0.616695</td>\n",
       "    </tr>\n",
       "  </tbody>\n",
       "</table>\n",
       "</div>"
      ],
      "text/plain": [
       "              cvr   age_cvr\n",
       "age_bin                    \n",
       "-1, 21    0.68244  0.663146\n",
       "21, 24   0.636502  0.653823\n",
       "24, 26   0.638557  0.652258\n",
       "26, 29   0.664028  0.653374\n",
       "29, 34   0.647432  0.638193\n",
       "34, 37   0.668863  0.621988\n",
       "37, 48   0.702674  0.625418\n",
       "48, 100  0.642029  0.616695"
      ]
     },
     "execution_count": 46,
     "metadata": {},
     "output_type": "execute_result"
    }
   ],
   "source": [
    "# 기타 소득 변수에 의한 필터링으로 나이대별 결제율 비교\n",
    "l1=[]\n",
    "l2=[]\n",
    "for i in np.arange(0,ag_p1.shape[0]):\n",
    "        l1.append(ag_p1.index[i])\n",
    "        l2.append(df.query(\"income_기타>= 51000 and ag_cat==@ag_p1.index[@i]\").has_paid.value_counts()[1]/df.query(\"income_기타>= 51000 and ag_cat==@ag_p1.index[@i]\").shape[0])\n",
    "\n",
    "age_mode_cvr=pd.DataFrame([l1,l2]).T\n",
    "age_mode_cvr.columns=['age_bin','cvr']    \n",
    "age_etc_cvr=age_mode_cvr.set_index('age_bin').sort_values('cvr',ascending=False)\n",
    "age_etc_cvr['age_cvr']=age_cvr\n",
    "age_etc_cvr.sort_index()"
   ]
  },
  {
   "cell_type": "markdown",
   "metadata": {},
   "source": [
    "- 기타 소득의 경우 그래프와 위치기준 기타소득범위를 고려해 17%의 값으로 필터링하면, 21- 26세까지의 결제율은 낮아지고 나머지는 높아진다.\n",
    "- <U>필터링 없는 경우와 비교하면  34세 이상의 결제율 상승에 기타소득을 최소값설정하여 필터링을 하는 것이 결제에 영향이 있다.</U> "
   ]
  },
  {
   "cell_type": "markdown",
   "metadata": {},
   "source": [
    "#### (3) 근로소득\n",
    "    - 근로소득 범주화"
   ]
  },
  {
   "cell_type": "code",
   "execution_count": 47,
   "metadata": {},
   "outputs": [],
   "source": [
    "inc_lab_cat=pd.cut(df.income_근로,bins=[-1,df.income_근로.quantile(0.17),df.income_근로.quantile(0.17*2),\n",
    "                     df.income_근로.quantile(0.17*3),df.income_근로.quantile(0.17*4),df.income_근로.quantile(0.17*5),df.income_근로.max()])\n",
    "      #l,abels=['a','b','c','d','e','f'])\n",
    "df['inc_lab_cat']=inc_lab_cat\n",
    "df['inc_lab_cat']=df['inc_lab_cat'].astype('str')\n",
    "df['inc_lab_cat']=df['inc_lab_cat'].replace('nan','n')"
   ]
  },
  {
   "cell_type": "code",
   "execution_count": 48,
   "metadata": {},
   "outputs": [
    {
     "data": {
      "text/plain": [
       "inc_lab_cat\n",
       "(4651000.0, 7742000.0]       0.712329\n",
       "(2457600.0, 4651000.0]       0.706561\n",
       "(-1.0, 993300.0]             0.702523\n",
       "(993300.0, 2457600.0]        0.700750\n",
       "(7742000.0, 12228500.0]      0.698399\n",
       "(12228500.0, 182335000.0]    0.673476\n",
       "n                            0.610016\n",
       "Name: 1, dtype: float64"
      ]
     },
     "execution_count": 48,
     "metadata": {},
     "output_type": "execute_result"
    }
   ],
   "source": [
    "f1= lambda x : x/x.sum()\n",
    "df.groupby(['inc_lab_cat','has_paid'])['refund'].count().unstack().apply(f1,axis=1).iloc[:,1].sort_values(ascending=False)"
   ]
  },
  {
   "cell_type": "code",
   "execution_count": 49,
   "metadata": {},
   "outputs": [
    {
     "data": {
      "text/html": [
       "<div>\n",
       "<style scoped>\n",
       "    .dataframe tbody tr th:only-of-type {\n",
       "        vertical-align: middle;\n",
       "    }\n",
       "\n",
       "    .dataframe tbody tr th {\n",
       "        vertical-align: top;\n",
       "    }\n",
       "\n",
       "    .dataframe thead th {\n",
       "        text-align: right;\n",
       "    }\n",
       "</style>\n",
       "<table border=\"1\" class=\"dataframe\">\n",
       "  <thead>\n",
       "    <tr style=\"text-align: right;\">\n",
       "      <th></th>\n",
       "      <th>cvr</th>\n",
       "      <th>age_cvr</th>\n",
       "    </tr>\n",
       "    <tr>\n",
       "      <th>age_bin</th>\n",
       "      <th></th>\n",
       "      <th></th>\n",
       "    </tr>\n",
       "  </thead>\n",
       "  <tbody>\n",
       "    <tr>\n",
       "      <td>-1, 21</td>\n",
       "      <td>0.674883</td>\n",
       "      <td>0.663146</td>\n",
       "    </tr>\n",
       "    <tr>\n",
       "      <td>21, 24</td>\n",
       "      <td>0.692552</td>\n",
       "      <td>0.653823</td>\n",
       "    </tr>\n",
       "    <tr>\n",
       "      <td>24, 26</td>\n",
       "      <td>0.703427</td>\n",
       "      <td>0.652258</td>\n",
       "    </tr>\n",
       "    <tr>\n",
       "      <td>26, 29</td>\n",
       "      <td>0.705387</td>\n",
       "      <td>0.653374</td>\n",
       "    </tr>\n",
       "    <tr>\n",
       "      <td>29, 34</td>\n",
       "      <td>0.69557</td>\n",
       "      <td>0.638193</td>\n",
       "    </tr>\n",
       "    <tr>\n",
       "      <td>34, 37</td>\n",
       "      <td>0.698121</td>\n",
       "      <td>0.621988</td>\n",
       "    </tr>\n",
       "    <tr>\n",
       "      <td>37, 48</td>\n",
       "      <td>0.708914</td>\n",
       "      <td>0.625418</td>\n",
       "    </tr>\n",
       "    <tr>\n",
       "      <td>48, 100</td>\n",
       "      <td>0.697551</td>\n",
       "      <td>0.616695</td>\n",
       "    </tr>\n",
       "  </tbody>\n",
       "</table>\n",
       "</div>"
      ],
      "text/plain": [
       "              cvr   age_cvr\n",
       "age_bin                    \n",
       "-1, 21   0.674883  0.663146\n",
       "21, 24   0.692552  0.653823\n",
       "24, 26   0.703427  0.652258\n",
       "26, 29   0.705387  0.653374\n",
       "29, 34    0.69557  0.638193\n",
       "34, 37   0.698121  0.621988\n",
       "37, 48   0.708914  0.625418\n",
       "48, 100  0.697551  0.616695"
      ]
     },
     "execution_count": 49,
     "metadata": {},
     "output_type": "execute_result"
    }
   ],
   "source": [
    "# 근로 소득 카테고리에서 최소값기준으로 필터링하여 결제율 비교\n",
    "l1=[]\n",
    "l2=[]\n",
    "for i in np.arange(0,ag_p1.shape[0]):\n",
    "        l1.append(ag_p1.index[i])\n",
    "        l2.append(df.query(\"income_근로>= 1 and ag_cat==@ag_p1.index[@i]\").has_paid.value_counts()[1]/df.query(\"income_근로>= 1 and ag_cat==@ag_p1.index[@i]\").shape[0])\n",
    "\n",
    "age_mode_cvr=pd.DataFrame([l1,l2]).T\n",
    "age_mode_cvr.columns=['age_bin','cvr']    \n",
    "age_lab_cvr=age_mode_cvr.set_index('age_bin').sort_values('cvr',ascending=False)\n",
    "age_lab_cvr['age_cvr']=age_cvr\n",
    "age_lab_cvr.sort_index()"
   ]
  },
  {
   "cell_type": "code",
   "execution_count": 50,
   "metadata": {},
   "outputs": [
    {
     "data": {
      "text/plain": [
       "0.05643869501667814"
      ]
     },
     "execution_count": 50,
     "metadata": {},
     "output_type": "execute_result"
    }
   ],
   "source": [
    "(age_lab_cvr['cvr']-age_lab_cvr['age_cvr']).mean()"
   ]
  },
  {
   "cell_type": "markdown",
   "metadata": {},
   "source": [
    "- 근로소득은 존재 여부의 필터링만이라도 모든 연령층에서 결제율 전환을 상승을 관찰할 수 있다.\n",
    "- 그러므로, 근로소득도 결제여부에 영향을 주는 변수라고 볼 수 있다.\n",
    "- 다만 차이값의 평균으로 보면 3가지 소득에서 전체를 동일기준으로 하면 사업 > 근로 > 기타 순으로 결제여부에 영향을 주는 것으로 추측할 수 있다."
   ]
  },
  {
   "cell_type": "markdown",
   "metadata": {},
   "source": [
    "### 3. AGE 변수 분석 "
   ]
  },
  {
   "cell_type": "markdown",
   "metadata": {},
   "source": [
    "#### 1) 통계적 방법으로 독립성 검정을 통해 카테고리화한 나이 변수와 결제여부컬럼의 독립성을 확인한다."
   ]
  },
  {
   "cell_type": "markdown",
   "metadata": {},
   "source": [
    "- 독립성 검정은  두 factor 변수사이에 '귀무가설 : 독립이다. / 대립가설 : 독립이 아니다.' 를 의미한다.\n",
    "- 카이제곱검정을 통한 P_value가 0.05보다 작으면 귀무가설은 기각되고 대립가설이 채택된다.  \n",
    "- 주어진 데이터에서 나이카테고리와 지불여부에 대한 독립성검정시 pvalue가 0.05보다 작아 대립가설이 채택되고 서로 관련이 있다고 볼 수 있다."
   ]
  },
  {
   "cell_type": "code",
   "execution_count": 51,
   "metadata": {},
   "outputs": [
    {
     "data": {
      "text/plain": [
       "(2.5428346424485214e-12, True)"
      ]
     },
     "execution_count": 51,
     "metadata": {},
     "output_type": "execute_result"
    }
   ],
   "source": [
    "from scipy.stats import chi2_contingency\n",
    "df_age=pd.crosstab(df.ag_cat,df.has_paid)\n",
    "p_value=chi2_contingency(df_age)[1]\n",
    "(p_value,p_value<0.05)"
   ]
  },
  {
   "cell_type": "markdown",
   "metadata": {},
   "source": [
    "#### 2) 데이터 그룹별 결제수 합과 결제율을 비교한다."
   ]
  },
  {
   "cell_type": "markdown",
   "metadata": {},
   "source": [
    "- 21-24세, 26-29세가 가장 결제 규모가 높고 34세까지는 높은 편에 속한다.\n",
    "- age_cvr은 위에서 만든 나이별 전체 데이터의 결제율데이터이다.\n",
    "- 결제율은 20세 이하의 데이터가 1등이기 때문에, 결제 규모의 순위와는 차이가 있다고 볼 수 있다.\n",
    "- 하지만, 결제율을 비교하면 34세 이상의 나이가 하위권이고 그 이전의 나이대는 상위권인것처럼 전체적인 추세는 규모를 비교한 것과 비슷하다.\n",
    "- <U>결국 21세 이상 34세 미만의 연령에 해당하는지의 여부가 결제여부에 영향을 미치는 것으로 볼 수 있다.</U>"
   ]
  },
  {
   "cell_type": "code",
   "execution_count": 52,
   "metadata": {},
   "outputs": [
    {
     "data": {
      "text/plain": [
       "ag_cat\n",
       "21, 24     14050\n",
       "26, 29     13992\n",
       "24, 26     11770\n",
       "29, 34      9705\n",
       "37, 48      4862\n",
       "-1, 21      4835\n",
       "34, 37      2891\n",
       "48, 100     2534\n",
       "Name: has_paid, dtype: int32"
      ]
     },
     "execution_count": 52,
     "metadata": {},
     "output_type": "execute_result"
    }
   ],
   "source": [
    "# 나이대별 결제 데이터 수의 합을 보기 위한 것이다.\n",
    "a=df.groupby('ag_cat')['has_paid'].sum().sort_values(ascending=False)\n",
    "a"
   ]
  },
  {
   "cell_type": "code",
   "execution_count": 53,
   "metadata": {},
   "outputs": [
    {
     "data": {
      "text/plain": [
       "Text(0.5, 1.0, '나이대별 결제 데이터수의 합')"
      ]
     },
     "execution_count": 53,
     "metadata": {},
     "output_type": "execute_result"
    },
    {
     "data": {
      "image/png": "[encoded data removed]",
      "text/plain": [
       "<Figure size 432x288 with 1 Axes>"
      ]
     },
     "metadata": {
      "needs_background": "light"
     },
     "output_type": "display_data"
    }
   ],
   "source": [
    "sns.barplot(x=a.index,y=a)\n",
    "plt.title('나이대별 결제 데이터수의 합')"
   ]
  },
  {
   "cell_type": "code",
   "execution_count": 54,
   "metadata": {},
   "outputs": [
    {
     "data": {
      "text/plain": [
       "(0.5, 0.8)"
      ]
     },
     "execution_count": 54,
     "metadata": {},
     "output_type": "execute_result"
    },
    {
     "data": {
      "image/png": "[encoded data removed]",
      "text/plain": [
       "<Figure size 432x288 with 1 Axes>"
      ]
     },
     "metadata": {
      "needs_background": "light"
     },
     "output_type": "display_data"
    }
   ],
   "source": [
    "sns.barplot(age_cvr.index,age_cvr.cvr)\n",
    "plt.title('나이그룹 데이터별 결제율')\n",
    "plt.ylim(0.5, 0.8)"
   ]
  },
  {
   "cell_type": "markdown",
   "metadata": {},
   "source": [
    "- 결제율과 나이대별 구매 규모를 고려한 변수 생성( 결제규모 x 결제율)\n",
    "- 변수의 값을 보면, 34세 이전에 해당하는 그룹의 값과 아닌값의 차이가 약 2배 넘게 차이난다.\n",
    "- 즉, <U>특정 연령 그룹에 해당하는지의 여부가 구매여부에 영향을 주는 것으로 파악된다.</U>"
   ]
  },
  {
   "cell_type": "code",
   "execution_count": 55,
   "metadata": {},
   "outputs": [
    {
     "data": {
      "text/html": [
       "<div>\n",
       "<style scoped>\n",
       "    .dataframe tbody tr th:only-of-type {\n",
       "        vertical-align: middle;\n",
       "    }\n",
       "\n",
       "    .dataframe tbody tr th {\n",
       "        vertical-align: top;\n",
       "    }\n",
       "\n",
       "    .dataframe thead th {\n",
       "        text-align: right;\n",
       "    }\n",
       "</style>\n",
       "<table border=\"1\" class=\"dataframe\">\n",
       "  <thead>\n",
       "    <tr style=\"text-align: right;\">\n",
       "      <th></th>\n",
       "      <th>variable</th>\n",
       "    </tr>\n",
       "    <tr>\n",
       "      <th>age_bin</th>\n",
       "      <th></th>\n",
       "    </tr>\n",
       "  </thead>\n",
       "  <tbody>\n",
       "    <tr>\n",
       "      <td>21, 24</td>\n",
       "      <td>9186.21</td>\n",
       "    </tr>\n",
       "    <tr>\n",
       "      <td>26, 29</td>\n",
       "      <td>9142.01</td>\n",
       "    </tr>\n",
       "    <tr>\n",
       "      <td>24, 26</td>\n",
       "      <td>7677.08</td>\n",
       "    </tr>\n",
       "    <tr>\n",
       "      <td>29, 34</td>\n",
       "      <td>6193.66</td>\n",
       "    </tr>\n",
       "    <tr>\n",
       "      <td>-1, 21</td>\n",
       "      <td>3206.31</td>\n",
       "    </tr>\n",
       "    <tr>\n",
       "      <td>37, 48</td>\n",
       "      <td>3040.78</td>\n",
       "    </tr>\n",
       "    <tr>\n",
       "      <td>34, 37</td>\n",
       "      <td>1798.17</td>\n",
       "    </tr>\n",
       "    <tr>\n",
       "      <td>48, 100</td>\n",
       "      <td>1562.71</td>\n",
       "    </tr>\n",
       "  </tbody>\n",
       "</table>\n",
       "</div>"
      ],
      "text/plain": [
       "        variable\n",
       "age_bin         \n",
       "21, 24   9186.21\n",
       "26, 29   9142.01\n",
       "24, 26   7677.08\n",
       "29, 34   6193.66\n",
       "-1, 21   3206.31\n",
       "37, 48   3040.78\n",
       "34, 37   1798.17\n",
       "48, 100  1562.71"
      ]
     },
     "execution_count": 55,
     "metadata": {},
     "output_type": "execute_result"
    }
   ],
   "source": [
    "a2=(age_cvr[['cvr']].sort_index().transpose()*a.sort_index()).T\n",
    "a2.columns=['variable']\n",
    "a2.sort_values(by='variable',ascending=False)"
   ]
  },
  {
   "cell_type": "code",
   "execution_count": 56,
   "metadata": {},
   "outputs": [
    {
     "data": {
      "text/plain": [
       "Text(0.5, 1.0, '나이그룹 데이터별 결제율과 결제수의 곱')"
      ]
     },
     "execution_count": 56,
     "metadata": {},
     "output_type": "execute_result"
    },
    {
     "data": {
      "image/png": "[encoded data removed]",
      "text/plain": [
       "<Figure size 432x288 with 1 Axes>"
      ]
     },
     "metadata": {
      "needs_background": "light"
     },
     "output_type": "display_data"
    }
   ],
   "source": [
    "sns.barplot(a2.index,a2['variable'])\n",
    "plt.title('나이그룹 데이터별 결제율과 결제수의 곱')"
   ]
  },
  {
   "cell_type": "markdown",
   "metadata": {},
   "source": [
    "### 4. refund 변수 분석 \n",
    "#### 1) 히스토그램을 통한 데이터 파악 및 범주화로 결제율 개선\n",
    "    - 결제여부에 따라 환불액은 미결제 데이터가 1745개 결제데이터가 1521개로 차이가 있다.\n",
    "    - 그리고 상위빈도 환불액의 경우, 크기차이가 있어 빈도수와 환불액을 곱한 수치의 합을 비교하겠다.\n",
    "    - 이렇게 하면 높은 환불액에 빈도수가 높을 경우 더 높은 수치를 얻을 수 있다. "
   ]
  },
  {
   "cell_type": "code",
   "execution_count": 57,
   "metadata": {},
   "outputs": [
    {
     "data": {
      "text/plain": [
       "<matplotlib.axes._subplots.AxesSubplot at 0x203e053e188>"
      ]
     },
     "execution_count": 57,
     "metadata": {},
     "output_type": "execute_result"
    },
    {
     "data": {
      "image/png": "[encoded data removed]",
      "text/plain": [
       "<Figure size 432x288 with 1 Axes>"
      ]
     },
     "metadata": {
      "needs_background": "light"
     },
     "output_type": "display_data"
    }
   ],
   "source": [
    "# 미결제 데이터의 환급액\n",
    "sns.distplot(df.query(\"has_paid==0\")['refund'],bins=50)"
   ]
  },
  {
   "cell_type": "code",
   "execution_count": 58,
   "metadata": {},
   "outputs": [
    {
     "data": {
      "text/plain": [
       "<matplotlib.axes._subplots.AxesSubplot at 0x203e0576688>"
      ]
     },
     "execution_count": 58,
     "metadata": {},
     "output_type": "execute_result"
    },
    {
     "data": {
      "image/png": "[encoded data removed]",
      "text/plain": [
       "<Figure size 432x288 with 1 Axes>"
      ]
     },
     "metadata": {
      "needs_background": "light"
     },
     "output_type": "display_data"
    }
   ],
   "source": [
    "# 결제데이터의 환급액\n",
    "sns.distplot(df.query(\"has_paid==1\")['refund'],bins=100)"
   ]
  },
  {
   "cell_type": "code",
   "execution_count": 59,
   "metadata": {},
   "outputs": [
    {
     "data": {
      "text/plain": [
       "98352    c\n",
       "52858    c\n",
       "55168    c\n",
       "54256    c\n",
       "94281    c\n",
       "        ..\n",
       "30513    a\n",
       "2374     a\n",
       "47635    a\n",
       "11235    a\n",
       "61745    a\n",
       "Name: ref_cat, Length: 99978, dtype: object"
      ]
     },
     "execution_count": 59,
     "metadata": {},
     "output_type": "execute_result"
    }
   ],
   "source": [
    "# 환불액을 3가지 범주 데이터로 변환\n",
    "df=df.sort_values(by='refund')\n",
    "l1=[]\n",
    "for i in range(df.shape[0]):\n",
    "    if i > df.shape[0]*0.66:\n",
    "        l1.append('a')\n",
    "    elif i > df.shape[0]*0.33:\n",
    "        l1.append('b')\n",
    "    else:\n",
    "        l1.append('c')\n",
    "\n",
    "df['ref_cat']=l1\n",
    "df['ref_cat']"
   ]
  },
  {
   "cell_type": "code",
   "execution_count": 60,
   "metadata": {},
   "outputs": [
    {
     "data": {
      "text/html": [
       "<div>\n",
       "<style scoped>\n",
       "    .dataframe tbody tr th:only-of-type {\n",
       "        vertical-align: middle;\n",
       "    }\n",
       "\n",
       "    .dataframe tbody tr th {\n",
       "        vertical-align: top;\n",
       "    }\n",
       "\n",
       "    .dataframe thead th {\n",
       "        text-align: right;\n",
       "    }\n",
       "</style>\n",
       "<table border=\"1\" class=\"dataframe\">\n",
       "  <thead>\n",
       "    <tr style=\"text-align: right;\">\n",
       "      <th>has_paid</th>\n",
       "      <th>0</th>\n",
       "      <th>1</th>\n",
       "    </tr>\n",
       "    <tr>\n",
       "      <th>ref_cat</th>\n",
       "      <th></th>\n",
       "      <th></th>\n",
       "    </tr>\n",
       "  </thead>\n",
       "  <tbody>\n",
       "    <tr>\n",
       "      <td>a</td>\n",
       "      <td>0.391592</td>\n",
       "      <td>0.608408</td>\n",
       "    </tr>\n",
       "    <tr>\n",
       "      <td>b</td>\n",
       "      <td>0.308247</td>\n",
       "      <td>0.691753</td>\n",
       "    </tr>\n",
       "    <tr>\n",
       "      <td>c</td>\n",
       "      <td>0.359410</td>\n",
       "      <td>0.640590</td>\n",
       "    </tr>\n",
       "  </tbody>\n",
       "</table>\n",
       "</div>"
      ],
      "text/plain": [
       "has_paid         0         1\n",
       "ref_cat                     \n",
       "a         0.391592  0.608408\n",
       "b         0.308247  0.691753\n",
       "c         0.359410  0.640590"
      ]
     },
     "execution_count": 60,
     "metadata": {},
     "output_type": "execute_result"
    }
   ],
   "source": [
    "f1= lambda x: x/x.sum()\n",
    "df.groupby(['ref_cat','has_paid'])['age'].count().unstack().apply(f1,axis=1)"
   ]
  },
  {
   "cell_type": "code",
   "execution_count": 61,
   "metadata": {},
   "outputs": [
    {
     "data": {
      "text/plain": [
       "(48000.0, 180000.0)"
      ]
     },
     "execution_count": 61,
     "metadata": {},
     "output_type": "execute_result"
    }
   ],
   "source": [
    "(df.iloc[round(df.shape[0]*0.33),:].refund,df.iloc[round(df.shape[0]*0.66),:].refund)"
   ]
  },
  {
   "cell_type": "markdown",
   "metadata": {},
   "source": [
    "- 연령 데이터에서 b 그룹에 해당하는 refund 값으로 필터링하여 전체 연령 그룹의 결제율 개선확인\n",
    "- <U> 즉, 환급액은 결제 여부에 영향을 미친다.</U>"
   ]
  },
  {
   "cell_type": "code",
   "execution_count": 62,
   "metadata": {},
   "outputs": [
    {
     "data": {
      "text/html": [
       "<div>\n",
       "<style scoped>\n",
       "    .dataframe tbody tr th:only-of-type {\n",
       "        vertical-align: middle;\n",
       "    }\n",
       "\n",
       "    .dataframe tbody tr th {\n",
       "        vertical-align: top;\n",
       "    }\n",
       "\n",
       "    .dataframe thead th {\n",
       "        text-align: right;\n",
       "    }\n",
       "</style>\n",
       "<table border=\"1\" class=\"dataframe\">\n",
       "  <thead>\n",
       "    <tr style=\"text-align: right;\">\n",
       "      <th></th>\n",
       "      <th>cvr</th>\n",
       "      <th>age_cvr</th>\n",
       "    </tr>\n",
       "    <tr>\n",
       "      <th>age_bin</th>\n",
       "      <th></th>\n",
       "      <th></th>\n",
       "    </tr>\n",
       "  </thead>\n",
       "  <tbody>\n",
       "    <tr>\n",
       "      <td>-1, 21</td>\n",
       "      <td>0.731395</td>\n",
       "      <td>0.663146</td>\n",
       "    </tr>\n",
       "    <tr>\n",
       "      <td>21, 24</td>\n",
       "      <td>0.703872</td>\n",
       "      <td>0.653823</td>\n",
       "    </tr>\n",
       "    <tr>\n",
       "      <td>24, 26</td>\n",
       "      <td>0.694764</td>\n",
       "      <td>0.652258</td>\n",
       "    </tr>\n",
       "    <tr>\n",
       "      <td>26, 29</td>\n",
       "      <td>0.69403</td>\n",
       "      <td>0.653374</td>\n",
       "    </tr>\n",
       "    <tr>\n",
       "      <td>29, 34</td>\n",
       "      <td>0.668028</td>\n",
       "      <td>0.638193</td>\n",
       "    </tr>\n",
       "    <tr>\n",
       "      <td>34, 37</td>\n",
       "      <td>0.650507</td>\n",
       "      <td>0.621988</td>\n",
       "    </tr>\n",
       "    <tr>\n",
       "      <td>37, 48</td>\n",
       "      <td>0.676407</td>\n",
       "      <td>0.625418</td>\n",
       "    </tr>\n",
       "    <tr>\n",
       "      <td>48, 100</td>\n",
       "      <td>0.663415</td>\n",
       "      <td>0.616695</td>\n",
       "    </tr>\n",
       "  </tbody>\n",
       "</table>\n",
       "</div>"
      ],
      "text/plain": [
       "              cvr   age_cvr\n",
       "age_bin                    \n",
       "-1, 21   0.731395  0.663146\n",
       "21, 24   0.703872  0.653823\n",
       "24, 26   0.694764  0.652258\n",
       "26, 29    0.69403  0.653374\n",
       "29, 34   0.668028  0.638193\n",
       "34, 37   0.650507  0.621988\n",
       "37, 48   0.676407  0.625418\n",
       "48, 100  0.663415  0.616695"
      ]
     },
     "execution_count": 62,
     "metadata": {},
     "output_type": "execute_result"
    }
   ],
   "source": [
    "l1=[]\n",
    "l2=[]\n",
    "for i in np.arange(0,ag_p1.shape[0]):\n",
    "        l1.append(ag_p1.index[i])\n",
    "        l2.append(df.query(\"refund >= 48000 and refund <= 180000 and ag_cat==@ag_p1.index[@i]\").has_paid.value_counts()[1]/df.query(\"refund >= 48000 and refund <= 180000 and ag_cat==@ag_p1.index[@i]\").shape[0])\n",
    "\n",
    "age_mode_cvr=pd.DataFrame([l1,l2]).T\n",
    "age_mode_cvr.columns=['age_bin','cvr']    \n",
    "age_ref_cvr=age_mode_cvr.set_index('age_bin').sort_values('cvr',ascending=False)\n",
    "age_ref_cvr['age_cvr']=age_cvr\n",
    "age_ref_cvr.sort_index()"
   ]
  },
  {
   "cell_type": "code",
   "execution_count": 63,
   "metadata": {},
   "outputs": [
    {
     "data": {
      "text/plain": [
       "0.04469038955781765"
      ]
     },
     "execution_count": 63,
     "metadata": {},
     "output_type": "execute_result"
    }
   ],
   "source": [
    "# 환급금액 필터링을 통한 결제율 향상\n",
    "(age_ref_cvr['cvr']-age_lab_cvr['age_cvr']).mean()"
   ]
  },
  {
   "cell_type": "markdown",
   "metadata": {},
   "source": [
    "### 5.  year변수분석과 결제금액 총합계 증대방안\n",
    "#### 1)  연도에 따른 변화 분석"
   ]
  },
  {
   "cell_type": "markdown",
   "metadata": {},
   "source": [
    "- 19년 이전까지는 연별 결제율이 감소하였는데, 특히 20년에 급감했다.\n",
    "- 19년도 까지는 연도가 지나면서 결제 규모(결제데이터수)가 증가했으나 20년에 급감했다. 반면, 미결제 데이터 규모는 급증했다.\n",
    "- 연도별 총 유입의 증가폭은 2019년까지 감소하다가 20년에 반등했다.\n",
    "- 20년도는 미결제 데이터의 수는 금증하고 결제 데이터는 급감하였다.\n",
    "- 19년부터 20년사이에 결제데이터의 수가 감소하고 예상환불액합계는 오히려 미결제자 측에서 급격히 증가하는 등 추세가 최근에 변하였다."
   ]
  },
  {
   "cell_type": "code",
   "execution_count": 64,
   "metadata": {
    "scrolled": true
   },
   "outputs": [
    {
     "data": {
      "text/html": [
       "<div>\n",
       "<style scoped>\n",
       "    .dataframe tbody tr th:only-of-type {\n",
       "        vertical-align: middle;\n",
       "    }\n",
       "\n",
       "    .dataframe tbody tr th {\n",
       "        vertical-align: top;\n",
       "    }\n",
       "\n",
       "    .dataframe thead th {\n",
       "        text-align: right;\n",
       "    }\n",
       "</style>\n",
       "<table border=\"1\" class=\"dataframe\">\n",
       "  <thead>\n",
       "    <tr style=\"text-align: right;\">\n",
       "      <th></th>\n",
       "      <th>cvr</th>\n",
       "    </tr>\n",
       "    <tr>\n",
       "      <th>year</th>\n",
       "      <th></th>\n",
       "    </tr>\n",
       "  </thead>\n",
       "  <tbody>\n",
       "    <tr>\n",
       "      <td>2015.0</td>\n",
       "      <td>0.711307</td>\n",
       "    </tr>\n",
       "    <tr>\n",
       "      <td>2017.0</td>\n",
       "      <td>0.697633</td>\n",
       "    </tr>\n",
       "    <tr>\n",
       "      <td>2016.0</td>\n",
       "      <td>0.697124</td>\n",
       "    </tr>\n",
       "    <tr>\n",
       "      <td>2018.0</td>\n",
       "      <td>0.695115</td>\n",
       "    </tr>\n",
       "    <tr>\n",
       "      <td>2019.0</td>\n",
       "      <td>0.694999</td>\n",
       "    </tr>\n",
       "    <tr>\n",
       "      <td>2020.0</td>\n",
       "      <td>0.485241</td>\n",
       "    </tr>\n",
       "  </tbody>\n",
       "</table>\n",
       "</div>"
      ],
      "text/plain": [
       "             cvr\n",
       "year            \n",
       "2015.0  0.711307\n",
       "2017.0  0.697633\n",
       "2016.0  0.697124\n",
       "2018.0  0.695115\n",
       "2019.0  0.694999\n",
       "2020.0  0.485241"
      ]
     },
     "execution_count": 64,
     "metadata": {},
     "output_type": "execute_result"
    }
   ],
   "source": [
    "# 년도별 결제율 출력\n",
    "l1=[]\n",
    "l2=[]\n",
    "for i in df.year.unique():\n",
    "    str_expr=\"year == @i\"\n",
    "    str_expr1=\"year == @i and has_paid ==1\"\n",
    "    l1.append(df.query(str_expr1).shape[0]/df.query(str_expr).shape[0])\n",
    "    l2.append(i)\n",
    "    \n",
    "y_cvr=pd.DataFrame([l2,l1]).T\n",
    "y_cvr.columns=['year','cvr']\n",
    "y_cvr=y_cvr.set_index('year').sort_values('cvr',ascending=False)\n",
    "y_cvr"
   ]
  },
  {
   "cell_type": "code",
   "execution_count": 65,
   "metadata": {},
   "outputs": [
    {
     "data": {
      "text/plain": [
       "<matplotlib.legend.Legend at 0x203e061ef48>"
      ]
     },
     "execution_count": 65,
     "metadata": {},
     "output_type": "execute_result"
    },
    {
     "data": {
      "image/png": "[encoded data removed]",
      "text/plain": [
       "<Figure size 432x288 with 2 Axes>"
      ]
     },
     "metadata": {
      "needs_background": "light"
     },
     "output_type": "display_data"
    }
   ],
   "source": [
    "fig, ax1 = plt.subplots()\n",
    "ax2 = ax1.twinx()\n",
    "sns.lineplot(df.groupby('year')['Target'].sum().index,df.groupby('year')['Target'].sum(),label='결제금액의합',ax=ax1,color='red')\n",
    "sns.lineplot(y_cvr.index,y_cvr['cvr'],label='결제율',ax=ax2,color='blue')\n",
    "ax1.legend(loc=\"lower right\")\n",
    "ax2.legend()"
   ]
  },
  {
   "cell_type": "markdown",
   "metadata": {},
   "source": [
    "- 결제데이터가 급격히 줄고, 미결제 데이터가 급격히 늘었으니 위 그래프 처럼 결제율이 급락하는 것은 당연하다."
   ]
  },
  {
   "cell_type": "code",
   "execution_count": 66,
   "metadata": {},
   "outputs": [
    {
     "data": {
      "text/plain": [
       "Text(0.5, 1.0, '연도별 결제여부별 데이터의 수의 합계')"
      ]
     },
     "execution_count": 66,
     "metadata": {},
     "output_type": "execute_result"
    },
    {
     "data": {
      "image/png": "[encoded data removed]",
      "text/plain": [
       "<Figure size 432x288 with 1 Axes>"
      ]
     },
     "metadata": {
      "needs_background": "light"
     },
     "output_type": "display_data"
    }
   ],
   "source": [
    "df_y_hp=df.groupby(['year','has_paid'])['age'].count()\n",
    "df_y_hp.name='count'\n",
    "df_y_hp=df_y_hp.reset_index()\n",
    "df_y_hp1=df_y_hp.query(\"has_paid==1\")\n",
    "df_y_hp0=df_y_hp.query(\"has_paid==0\")\n",
    "plt.plot(df_y_hp1.year,df_y_hp1['count'],label='결제데이터')\n",
    "plt.plot(df_y_hp0.year,df_y_hp0['count'],label='미결제데이터')\n",
    "plt.legend()\n",
    "plt.title('연도별 결제여부별 데이터의 수의 합계')"
   ]
  },
  {
   "cell_type": "code",
   "execution_count": 67,
   "metadata": {},
   "outputs": [
    {
     "data": {
      "text/plain": [
       "[<matplotlib.lines.Line2D at 0x203e050f088>]"
      ]
     },
     "execution_count": 67,
     "metadata": {},
     "output_type": "execute_result"
    },
    {
     "data": {
      "image/png": "[encoded data removed]",
      "text/plain": [
       "<Figure size 432x288 with 1 Axes>"
      ]
     },
     "metadata": {
      "needs_background": "light"
     },
     "output_type": "display_data"
    }
   ],
   "source": [
    "#연도별 총 유입의 증가폭\n",
    "plt.plot(df.groupby('year')['age'].count().index,df.groupby('year')['age'].count())"
   ]
  },
  {
   "cell_type": "code",
   "execution_count": 68,
   "metadata": {},
   "outputs": [
    {
     "data": {
      "text/plain": [
       "year\n",
       "2015         NaN\n",
       "2016    2.494975\n",
       "2017    0.257513\n",
       "2018    0.142122\n",
       "2019    0.042947\n",
       "2020    0.141390\n",
       "Name: age, dtype: float64"
      ]
     },
     "execution_count": 68,
     "metadata": {},
     "output_type": "execute_result"
    }
   ],
   "source": [
    "#연도별 총 유입의 증가율\n",
    "df.groupby('year')['age'].count().pct_change()"
   ]
  },
  {
   "cell_type": "markdown",
   "metadata": {},
   "source": [
    "- 이러한 구매고객의 감소가 고객들의 순 환급액의 감소가 아닐까 추정되어 이를 살펴보면 오히려 순환급액은 증가한다.\n",
    "- 순환급액 때문에 2020년에 결제고객과 결제율이 급감한 것은 아니다."
   ]
  },
  {
   "cell_type": "code",
   "execution_count": 69,
   "metadata": {},
   "outputs": [
    {
     "data": {
      "text/plain": [
       "Text(0.5, 1.0, '연도별 결제여부별 순 환급액의 평균')"
      ]
     },
     "execution_count": 69,
     "metadata": {},
     "output_type": "execute_result"
    },
    {
     "data": {
      "image/png": "[encoded data removed]",
      "text/plain": [
       "<Figure size 432x288 with 1 Axes>"
      ]
     },
     "metadata": {
      "needs_background": "light"
     },
     "output_type": "display_data"
    }
   ],
   "source": [
    "plt.plot(df.query(\"has_paid==1\").groupby('year')['refund'].sum().index,df.query(\"has_paid==1\").groupby('year')['gain'].mean(),label='결제데이터')\n",
    "plt.plot(df.query(\"has_paid==0\").groupby('year')['refund'].sum().index,df.query(\"has_paid==0\").groupby('year')['gain'].mean(),label='미결제데이터')\n",
    "plt.legend()\n",
    "plt.title('연도별 결제여부별 순 환급액의 평균')"
   ]
  },
  {
   "cell_type": "code",
   "execution_count": 70,
   "metadata": {},
   "outputs": [
    {
     "data": {
      "text/plain": [
       "Text(0.5, 1.0, '연도별 결제고객별 결제금액의 평균값')"
      ]
     },
     "execution_count": 70,
     "metadata": {},
     "output_type": "execute_result"
    },
    {
     "data": {
      "image/png": "[encoded data removed]",
      "text/plain": [
       "<Figure size 432x288 with 1 Axes>"
      ]
     },
     "metadata": {
      "needs_background": "light"
     },
     "output_type": "display_data"
    }
   ],
   "source": [
    "plt.plot(df.query(\"has_paid==1\").groupby('year')['Target'].sum().index,df.query(\"has_paid==1\").groupby('year')['Target'].mean(),label='결제데이터')\n",
    "plt.title('연도별 결제고객별 결제금액의 평균값')"
   ]
  },
  {
   "cell_type": "markdown",
   "metadata": {},
   "source": [
    "- 고객당 매출기여도는 20년도에 급격히 증가한다. 또한 총 고객의 연도별 결제금액의 합도 크게 증가한다.  \n",
    "( 결제율과 결제고객수는 줄었는데, 고객 당 서비스를 통해 얻는 이익과 회사에 기여하는 평균 결제액, 총 결제액은 증가하였다.)"
   ]
  },
  {
   "cell_type": "code",
   "execution_count": 71,
   "metadata": {},
   "outputs": [
    {
     "data": {
      "text/plain": [
       "Text(0.5, 1.0, '연도별 결제고객별 결제금액의 총합계')"
      ]
     },
     "execution_count": 71,
     "metadata": {},
     "output_type": "execute_result"
    },
    {
     "data": {
      "image/png": "[encoded data removed]",
      "text/plain": [
       "<Figure size 432x288 with 1 Axes>"
      ]
     },
     "metadata": {
      "needs_background": "light"
     },
     "output_type": "display_data"
    }
   ],
   "source": [
    "plt.plot(df.query(\"has_paid==1\").groupby('year')['Target'].sum().index,df.query(\"has_paid==1\").groupby('year')['Target'].sum(),label='결제데이터')\n",
    "plt.title('연도별 결제고객별 결제금액의 총합계')"
   ]
  },
  {
   "cell_type": "code",
   "execution_count": 72,
   "metadata": {},
   "outputs": [
    {
     "data": {
      "text/plain": [
       "(Int64Index([2015, 2016, 2017, 2018, 2019, 2020], dtype='int64', name='year'),\n",
       " year\n",
       " 2015         NaN\n",
       " 2016    3.123130\n",
       " 2017    0.301403\n",
       " 2018    0.162067\n",
       " 2019   -0.011429\n",
       " 2020    0.400863\n",
       " Name: Target, dtype: float64)"
      ]
     },
     "execution_count": 72,
     "metadata": {},
     "output_type": "execute_result"
    }
   ],
   "source": [
    "# 전년대비 결제금액의 총합계 증가율\n",
    "df.query(\"has_paid==1\").groupby('year')['Target'].sum().index,df.query(\"has_paid==1\").groupby('year')['Target'].sum().pct_change()"
   ]
  },
  {
   "cell_type": "markdown",
   "metadata": {},
   "source": [
    "- 미결제 데이터의 수(낮아짐)와 결제 데이터의 수(높아짐)가 20년도에 교차되고 결제율이 급락하더라도 결제 금액총합은 지속적으로 증가한다.  \n",
    "    -> <U>결제금액의 총합은 16년을 제외하면 2020년에 전년대비 증가 비율이 가장 높다.</U>  \n",
    "    -> 즉, 이전년도와 비교하여 20년도의 어떠한 변화가 있었는지를 통해 총결제금액의 증대 방안을 유추할 수 있을 것이다."
   ]
  },
  {
   "cell_type": "markdown",
   "metadata": {},
   "source": [
    "#### 년도별 사업소득 그룹별로 차지하는 비중의 변화를 살펴보겠다."
   ]
  },
  {
   "cell_type": "code",
   "execution_count": 73,
   "metadata": {},
   "outputs": [
    {
     "data": {
      "text/plain": [
       "Text(0.5, 66.5, '사업소득그룹별 분류')"
      ]
     },
     "execution_count": 73,
     "metadata": {},
     "output_type": "execute_result"
    },
    {
     "name": "stderr",
     "output_type": "stream",
     "text": [
      "C:\\Users\\sanghyun\\Anaconda3\\lib\\site-packages\\matplotlib\\backends\\backend_agg.py:211: RuntimeWarning: Glyph 49324 missing from current font.\n",
      "  font.set_text(s, 0.0, flags=flags)\n",
      "C:\\Users\\sanghyun\\Anaconda3\\lib\\site-packages\\matplotlib\\backends\\backend_agg.py:211: RuntimeWarning: Glyph 50629 missing from current font.\n",
      "  font.set_text(s, 0.0, flags=flags)\n",
      "C:\\Users\\sanghyun\\Anaconda3\\lib\\site-packages\\matplotlib\\backends\\backend_agg.py:211: RuntimeWarning: Glyph 49548 missing from current font.\n",
      "  font.set_text(s, 0.0, flags=flags)\n",
      "C:\\Users\\sanghyun\\Anaconda3\\lib\\site-packages\\matplotlib\\backends\\backend_agg.py:211: RuntimeWarning: Glyph 46301 missing from current font.\n",
      "  font.set_text(s, 0.0, flags=flags)\n",
      "C:\\Users\\sanghyun\\Anaconda3\\lib\\site-packages\\matplotlib\\backends\\backend_agg.py:211: RuntimeWarning: Glyph 44536 missing from current font.\n",
      "  font.set_text(s, 0.0, flags=flags)\n",
      "C:\\Users\\sanghyun\\Anaconda3\\lib\\site-packages\\matplotlib\\backends\\backend_agg.py:211: RuntimeWarning: Glyph 47353 missing from current font.\n",
      "  font.set_text(s, 0.0, flags=flags)\n",
      "C:\\Users\\sanghyun\\Anaconda3\\lib\\site-packages\\matplotlib\\backends\\backend_agg.py:211: RuntimeWarning: Glyph 48324 missing from current font.\n",
      "  font.set_text(s, 0.0, flags=flags)\n",
      "C:\\Users\\sanghyun\\Anaconda3\\lib\\site-packages\\matplotlib\\backends\\backend_agg.py:211: RuntimeWarning: Glyph 48516 missing from current font.\n",
      "  font.set_text(s, 0.0, flags=flags)\n",
      "C:\\Users\\sanghyun\\Anaconda3\\lib\\site-packages\\matplotlib\\backends\\backend_agg.py:211: RuntimeWarning: Glyph 47448 missing from current font.\n",
      "  font.set_text(s, 0.0, flags=flags)\n",
      "C:\\Users\\sanghyun\\Anaconda3\\lib\\site-packages\\matplotlib\\backends\\backend_agg.py:180: RuntimeWarning: Glyph 49324 missing from current font.\n",
      "  font.set_text(s, 0, flags=flags)\n",
      "C:\\Users\\sanghyun\\Anaconda3\\lib\\site-packages\\matplotlib\\backends\\backend_agg.py:180: RuntimeWarning: Glyph 50629 missing from current font.\n",
      "  font.set_text(s, 0, flags=flags)\n",
      "C:\\Users\\sanghyun\\Anaconda3\\lib\\site-packages\\matplotlib\\backends\\backend_agg.py:180: RuntimeWarning: Glyph 49548 missing from current font.\n",
      "  font.set_text(s, 0, flags=flags)\n",
      "C:\\Users\\sanghyun\\Anaconda3\\lib\\site-packages\\matplotlib\\backends\\backend_agg.py:180: RuntimeWarning: Glyph 46301 missing from current font.\n",
      "  font.set_text(s, 0, flags=flags)\n",
      "C:\\Users\\sanghyun\\Anaconda3\\lib\\site-packages\\matplotlib\\backends\\backend_agg.py:180: RuntimeWarning: Glyph 44536 missing from current font.\n",
      "  font.set_text(s, 0, flags=flags)\n",
      "C:\\Users\\sanghyun\\Anaconda3\\lib\\site-packages\\matplotlib\\backends\\backend_agg.py:180: RuntimeWarning: Glyph 47353 missing from current font.\n",
      "  font.set_text(s, 0, flags=flags)\n",
      "C:\\Users\\sanghyun\\Anaconda3\\lib\\site-packages\\matplotlib\\backends\\backend_agg.py:180: RuntimeWarning: Glyph 48324 missing from current font.\n",
      "  font.set_text(s, 0, flags=flags)\n",
      "C:\\Users\\sanghyun\\Anaconda3\\lib\\site-packages\\matplotlib\\backends\\backend_agg.py:180: RuntimeWarning: Glyph 48516 missing from current font.\n",
      "  font.set_text(s, 0, flags=flags)\n",
      "C:\\Users\\sanghyun\\Anaconda3\\lib\\site-packages\\matplotlib\\backends\\backend_agg.py:180: RuntimeWarning: Glyph 47448 missing from current font.\n",
      "  font.set_text(s, 0, flags=flags)\n"
     ]
    },
    {
     "data": {
      "image/png": "[encoded data removed]",
      "text/plain": [
       "<Figure size 864x720 with 2 Axes>"
      ]
     },
     "metadata": {},
     "output_type": "display_data"
    }
   ],
   "source": [
    "f1= lambda x: x / x.sum() \n",
    "tab=pd.crosstab(df.year,df.inc_comp_cat).apply(f1,axis=1)\n",
    "sns.set(style='darkgrid')\n",
    "plt.figure(figsize=(12,10))\n",
    "ax=sns.heatmap(tab,annot=True,fmt='.04f')\n",
    "ax.set_ylim(6,0)\n",
    "ax.set_xlabel('사업소득그룹별 분류')"
   ]
  },
  {
   "cell_type": "markdown",
   "metadata": {},
   "source": [
    "- 20년이되어, 사업소득이 없는 데이터가 23%대에서 13%대로 급감하고, 사업소득이 2,793,000 에서 39,934,000 범위인 데이터가 약 2.9배 높아졌다.\n",
    "- 그외, 사업 소득이 1233000에서 2793000까지에 속한 그룹의 데이터 비중도 증가했다."
   ]
  },
  {
   "cell_type": "markdown",
   "metadata": {},
   "source": [
    "#### 년도별 근로소득과 기타소득 그룹별로 차지하는 비중의 변화를 살펴보겠다."
   ]
  },
  {
   "cell_type": "code",
   "execution_count": 74,
   "metadata": {},
   "outputs": [
    {
     "data": {
      "text/plain": [
       "(6, 0)"
      ]
     },
     "execution_count": 74,
     "metadata": {},
     "output_type": "execute_result"
    },
    {
     "data": {
      "image/png": "[encoded data removed]",
      "text/plain": [
       "<Figure size 864x720 with 2 Axes>"
      ]
     },
     "metadata": {},
     "output_type": "display_data"
    }
   ],
   "source": [
    "tab=pd.crosstab(df.year,df.inc_lab_cat).apply(f1,axis=1)\n",
    "sns.set(style='dark')\n",
    "plt.figure(figsize=(12,10))\n",
    "ax=sns.heatmap(tab,annot=True,fmt='.04f')\n",
    "ax.set_ylim(6,0)"
   ]
  },
  {
   "cell_type": "code",
   "execution_count": 75,
   "metadata": {},
   "outputs": [
    {
     "data": {
      "text/plain": [
       "(6, 0)"
      ]
     },
     "execution_count": 75,
     "metadata": {},
     "output_type": "execute_result"
    },
    {
     "data": {
      "image/png": "[encoded data removed]",
      "text/plain": [
       "<Figure size 864x720 with 2 Axes>"
      ]
     },
     "metadata": {},
     "output_type": "display_data"
    }
   ],
   "source": [
    "tab=pd.crosstab(df.year,df.inc_etc_cat).apply(f1,axis=1)\n",
    "sns.set(style='dark')\n",
    "plt.figure(figsize=(12,10))\n",
    "ax=sns.heatmap(tab,annot=True,fmt='.04f')\n",
    "ax.set_ylim(6,0)"
   ]
  },
  {
   "cell_type": "markdown",
   "metadata": {},
   "source": [
    "- 근로소득의 경우나 기타소득의 경우에는 이에 비해 결측값 감소나 특정그룹의 비율 변화정도가 작은편이다."
   ]
  },
  {
   "cell_type": "markdown",
   "metadata": {},
   "source": [
    "#### 년도별 환급액 그룹별로 차지하는 비중의 변화를 살펴보겠다."
   ]
  },
  {
   "cell_type": "code",
   "execution_count": 76,
   "metadata": {},
   "outputs": [
    {
     "data": {
      "text/plain": [
       "(6, 0)"
      ]
     },
     "execution_count": 76,
     "metadata": {},
     "output_type": "execute_result"
    },
    {
     "data": {
      "image/png": "[encoded data removed]",
      "text/plain": [
       "<Figure size 720x576 with 2 Axes>"
      ]
     },
     "metadata": {},
     "output_type": "display_data"
    }
   ],
   "source": [
    "tab=pd.crosstab(df.year,df.ref_cat).apply(f1,axis=1)\n",
    "sns.set(style='dark')\n",
    "plt.figure(figsize=(10,8))\n",
    "ax=sns.heatmap(tab,annot=True,fmt='.04f')\n",
    "ax.set_ylim(6,0)"
   ]
  },
  {
   "cell_type": "markdown",
   "metadata": {},
   "source": [
    "- <U>2020년에는 환급액 각 그룹별 비중은 환급액이 제일 높은 그룹인 a그룹으로 편중되어 사업소득처럼 큰 변화가 있었다.</U>  \n",
    "    ('a'그룹 : 환급액 크기 기준 66% 이상 데이터, 'b'그룹 : 환급액 크기 기준 33%이상 66% 미만 데이터, 'c'그룹 : 환급액 크기 기준 33%미만데이터)  \n",
    "- 반면, 제일 저액의 그룹인 c그룹(약 11%)이 가장 많이 감소하고 중간액의 그룹은 덜 감소하였다."
   ]
  },
  {
   "cell_type": "markdown",
   "metadata": {},
   "source": [
    "#### 년도별 나이 그룹별로 차지하는 비중의 변화를 살펴보겠다."
   ]
  },
  {
   "cell_type": "code",
   "execution_count": 77,
   "metadata": {},
   "outputs": [
    {
     "data": {
      "text/plain": [
       "(6, 0)"
      ]
     },
     "execution_count": 77,
     "metadata": {},
     "output_type": "execute_result"
    },
    {
     "data": {
      "image/png": "[encoded data removed]",
      "text/plain": [
       "<Figure size 720x576 with 2 Axes>"
      ]
     },
     "metadata": {},
     "output_type": "display_data"
    }
   ],
   "source": [
    "tab=pd.crosstab(df.year,df.ag_cat).apply(f1,axis=1)\n",
    "sns.set(style='dark')\n",
    "plt.figure(figsize=(10,8))\n",
    "ax=sns.heatmap(tab,annot=True,fmt='.04f')\n",
    "ax.set_ylim(6,0)"
   ]
  },
  {
   "cell_type": "markdown",
   "metadata": {},
   "source": [
    "- 19년과 20년 사이의 나이그룹의 변화는 거의 없는것으로 보인다."
   ]
  },
  {
   "cell_type": "markdown",
   "metadata": {},
   "source": [
    "#### 소득이 2793000 - 39934000(최고액 그룹)의 범위의 그룹이 2020년에 급증하였으므로 이를 다른그룹과의 비교해보겠다."
   ]
  },
  {
   "cell_type": "markdown",
   "metadata": {},
   "source": [
    "#### 사업소득 분류별로 나이대별 차지하는 비중\n",
    "    \n",
    "    사업소득 최고액 그룹은 26세 이상의 각 나이 그룹에 해당하는 데이터의 비중이 다른 소득 그룹보다 높다는 것을 알 수 있다."
   ]
  },
  {
   "cell_type": "code",
   "execution_count": 78,
   "metadata": {},
   "outputs": [
    {
     "data": {
      "text/plain": [
       "(7, 0)"
      ]
     },
     "execution_count": 78,
     "metadata": {},
     "output_type": "execute_result"
    },
    {
     "data": {
      "image/png": "[encoded data removed]",
      "text/plain": [
       "<Figure size 720x576 with 2 Axes>"
      ]
     },
     "metadata": {},
     "output_type": "display_data"
    }
   ],
   "source": [
    "tab=pd.crosstab(df.inc_comp_cat,df.ag_cat).apply(f1,axis=1)\n",
    "sns.set(style='dark')\n",
    "plt.figure(figsize=(10,8))\n",
    "ax=sns.heatmap(tab,annot=True,fmt='.04f')\n",
    "ax.set_ylim(7,0)"
   ]
  },
  {
   "cell_type": "markdown",
   "metadata": {},
   "source": [
    "#### 사업소득 카테고리의 최고액 그룹의 성비"
   ]
  },
  {
   "cell_type": "code",
   "execution_count": 79,
   "metadata": {},
   "outputs": [
    {
     "data": {
      "text/plain": [
       "(7, 0)"
      ]
     },
     "execution_count": 79,
     "metadata": {},
     "output_type": "execute_result"
    },
    {
     "data": {
      "image/png": "[encoded data removed]",
      "text/plain": [
       "<Figure size 720x576 with 2 Axes>"
      ]
     },
     "metadata": {},
     "output_type": "display_data"
    }
   ],
   "source": [
    "tab=pd.crosstab(df.inc_comp_cat,df.gender).apply(f1,axis=1)\n",
    "sns.set(style='dark')\n",
    "plt.figure(figsize=(10,8))\n",
    "ax=sns.heatmap(tab,annot=True,fmt='.04f')\n",
    "ax.set_ylim(7,0)"
   ]
  },
  {
   "cell_type": "markdown",
   "metadata": {},
   "source": [
    "- 사업소득의 최상위 그룹의 성비차이가 가장 크고, 그 바로 밑의 사업소득 기준 상위 그룹도 성비차이가 다소 발생한다."
   ]
  },
  {
   "cell_type": "markdown",
   "metadata": {},
   "source": [
    "#### 이상의 내용을 바탕으로 결제급액의 결제금액의 총합을 증가시키기 위해 다음의 결론을 내릴 수 있다.\n",
    "    1. 2020년에 총 결제율과 결제데이터의 수는 크게 하락하였으나 결제금액의 평균값과 총합계가 급증했다.\n",
    "    2. 2020년에 사업소득이 2,793,000 에서 39,934,000 범위(최상위)에 해당하는 고객은 다른 해에 비해 약 2.9배 증가하였다.\n",
    "    3. 사업소득 최상위 그룹은 26세 이상 고객의 비율이 다른 사업소득 그룹보다 높고, 남성의 비율이 다른 사업소득 그룹보다 높다.\n",
    "    4. 위 기준(최상위 사업소득,26세 이상,남성)에 해당하는 고객이 가장 많이 쓰는 플랫폼에서 해당 그룹을 타게팅하여 마케팅할 경우  \n",
    "       결제 금액 총합계의 증대를 예상할 수 있다.(전체 데이터에서도 26세에서 29세사이가 결제금액의 합이 제일 높다.)  \n",
    "<br></br>       \n",
    " **< 주관적 아이디어>**\n",
    "        - 환급액의 2주에서 4주후에 지급된다. 그런데, 토스에서 주식을 판 돈을 단기 대출의 개념으로 소정의 이자로 바로 쓸 수 있다.\n",
    "        프리랜서들의 경우 급전이 필요한 경우가 많고, 심리학적으로 금액에 큰 차이가 없다면 대체로 사람들은 돈을 바로 받는 경우를\n",
    "        선호한다. 그러므로,  환급금을 자비스앤빌런즈에서 바로 입금하고 소정의 이자를 결제 창 전에 선택하여 수수료에 추가하는 \n",
    "        방향으로 서비스를 추가하면 총결제금액의합을 증대시키는데 도움이 될 것이다. \n",
    "        이때 수수료는 환급금액을 기준으로 고액은 몇%로 표기하는 것이 심리적 부담이 적을 것이고, 천원단위 이하의 수수료는 \n",
    "        \"2000원만 추가하시면 바로 환급금을 받으실 수 있습니다. 받으시겠습니까?\" 등으로 금액으로 표기하기 하는 것이 \n",
    "        결제유도에도 도움이 될 것으로 생각한다. 이때 금액을 설정하면서 AB테스트를 활용하여 조정할 필요가 있다.\n",
    "        \n",
    "<br></br>        \n",
    "**<자비스앤빌런즈 환급일 관련 공지사항 링크>**  \n",
    "<https://help.3o3.co.kr/hc/ko/articles/900005146883--%EC%8B%A0%EA%B3%A0%EB%A5%BC-%EC%99%84%EB%A3%8C-%ED%95%98%EC%85%A8%EB%8B%A4%EB%A9%B4-%ED%95%84%EB%8F%85-%ED%95%B4%EC%A3%BC%EC%84%B8%EC%9A%94->"
   ]
  }
 ],
 "metadata": {
  "kernelspec": {
   "display_name": "Python 3",
   "language": "python",
   "name": "python3"
  },
  "language_info": {
   "codemirror_mode": {
    "name": "ipython",
    "version": 3
   },
   "file_extension": ".py",
   "mimetype": "text/x-python",
   "name": "python",
   "nbconvert_exporter": "python",
   "pygments_lexer": "ipython3",
   "version": "3.7.4"
  }
 },
 "nbformat": 4,
 "nbformat_minor": 2
}
