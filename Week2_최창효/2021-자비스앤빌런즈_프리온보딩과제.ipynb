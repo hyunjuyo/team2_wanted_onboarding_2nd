{
 "cells": [
  {
   "cell_type": "markdown",
   "metadata": {},
   "source": [
    "# 결론\n",
    "## 고객의 결제여부에 영향을 미치는 요인은 무엇일까?\n",
    "> * 고객의 결제여부: has_paid\n",
    "> * 몇가지 종류의 소득데이터를 보유하고 있는지가 고객의 결제여부에 영향을 미친다\n",
    "    * 소득 데이터가 전부 있으면 결제를 했을 가능성이, 소득데이터가 전부 없으면 결제를 안했을 가능성이 높다\n",
    "> * <span style=\"color:red\"> 소득 데이터가 한개,두개일 경우 결제여부를 유의미하게 분류할 수 있는 방법을 찾고싶음</span>\n",
    "## 고객의 수수료 결제금액 합을 높히기 위해서는 어떻게 해야할까?\n",
    "> * 수수료 결제금액의 합: has_paid가 True인 데이터의 fee값\n",
    "> * 수수료 1만원 이상인 고객이 수수료 1만원 미만 고객보다 결제금액의 합이 약 1.7배 더 높다\n",
    "    * 수수료 결제금액이 10000원 미만인 고객과의 거래를 줄이고 10000원 이상인 고객을 중점적으로 관리하자\n",
    "> * <span style=\"color:red\">  수수료 결제금액을 누적시킨 데이터를 통해 어느구간이 가장 중요한지를 파악해보고 싶음 </span>\n"
   ]
  },
  {
   "cell_type": "markdown",
   "metadata": {},
   "source": [
    " "
   ]
  },
  {
   "cell_type": "markdown",
   "metadata": {},
   "source": [
    " "
   ]
  },
  {
   "cell_type": "markdown",
   "metadata": {},
   "source": [
    " "
   ]
  },
  {
   "cell_type": "markdown",
   "metadata": {},
   "source": [
    " "
   ]
  },
  {
   "cell_type": "markdown",
   "metadata": {},
   "source": [
    "## 테이블의 내용은 아래의 내용을 담고 있습니다.\n",
    "1. 고객이 각 귀속년도별\n",
    "1. 근로 / 사업 / 기타 소득에 대한 예상환급액과 수수료를 조회한 뒤\n",
    "1. 결제를 하거나 하지 않은 여부를 저장\n",
    "\n",
    "## 컬럼 정보는 다음과 같습니다.\n",
    "- age: 고객의 만 나이입니다. \n",
    "- gender: 고객의 성별입니다.\n",
    "- year: 소득이 발생한 연도(귀속년도)입니다.\n",
    "- refund: 예상환급액입니다.\n",
    "- fee: 수수료입니다.\n",
    "- has_paid: 수수료를 결제했는지의 여부\n",
    "- income_근로: 고객의 근로소득(월급/일용직급여)\n",
    "- income_사업: 고객의 사업소득(프리랜서 소득)\n",
    "- income_기타: 고객의 기타소득(그외 기타 소득)\n",
    "\n",
    "## 아래의 질문에 나름의 방식으로 답을 찾아주세요.\n",
    "(정답은 없습니다. 문제를 정의하고, 해답에 이르게 된 과정과 그 해석을 잘 설득/설명해 주시는 것이 중요합니다.)\n",
    "\n",
    "- 고객의 결제여부에 영향을 미치는 요인들은 무엇인가요? \n",
    "- 고객의 수수료 결제금액의 합을 높히기 위해서는 어떻게 해야 할까요?"
   ]
  },
  {
   "cell_type": "code",
   "execution_count": 2,
   "metadata": {},
   "outputs": [],
   "source": [
    "import pandas as pd\n",
    "import numpy as np\n",
    "import seaborn as sns\n",
    "import matplotlib.pyplot as plt\n",
    "plt.rcParams['font.family'] = 'Malgun Gothic'  # (Windows 용) 한글 출력을 위한 글꼴 설정\n",
    "plt.rcParams['axes.unicode_minus'] = False    # 문자 - (마이너스) 정상 출력을 위한 코드"
   ]
  },
  {
   "cell_type": "code",
   "execution_count": 3,
   "metadata": {},
   "outputs": [],
   "source": [
    "df = pd.read_csv('Jobis_3o3.csv')"
   ]
  },
  {
   "cell_type": "code",
   "execution_count": 4,
   "metadata": {},
   "outputs": [
    {
     "name": "stdout",
     "output_type": "stream",
     "text": [
      "<class 'pandas.core.frame.DataFrame'>\n",
      "RangeIndex: 100000 entries, 0 to 99999\n",
      "Data columns (total 9 columns):\n",
      " #   Column     Non-Null Count   Dtype  \n",
      "---  ------     --------------   -----  \n",
      " 0   age        100000 non-null  float64\n",
      " 1   gender     100000 non-null  object \n",
      " 2   year       100000 non-null  int64  \n",
      " 3   refund     100000 non-null  float64\n",
      " 4   fee        100000 non-null  float64\n",
      " 5   has_paid   100000 non-null  bool   \n",
      " 6   income_근로  40791 non-null   float64\n",
      " 7   income_사업  78227 non-null   float64\n",
      " 8   income_기타  25260 non-null   float64\n",
      "dtypes: bool(1), float64(6), int64(1), object(1)\n",
      "memory usage: 6.2+ MB\n"
     ]
    }
   ],
   "source": [
    "df.info()"
   ]
  },
  {
   "cell_type": "code",
   "execution_count": 5,
   "metadata": {},
   "outputs": [
    {
     "data": {
      "text/html": [
       "<div>\n",
       "<style scoped>\n",
       "    .dataframe tbody tr th:only-of-type {\n",
       "        vertical-align: middle;\n",
       "    }\n",
       "\n",
       "    .dataframe tbody tr th {\n",
       "        vertical-align: top;\n",
       "    }\n",
       "\n",
       "    .dataframe thead th {\n",
       "        text-align: right;\n",
       "    }\n",
       "</style>\n",
       "<table border=\"1\" class=\"dataframe\">\n",
       "  <thead>\n",
       "    <tr style=\"text-align: right;\">\n",
       "      <th></th>\n",
       "      <th>age</th>\n",
       "      <th>gender</th>\n",
       "      <th>year</th>\n",
       "      <th>refund</th>\n",
       "      <th>fee</th>\n",
       "      <th>has_paid</th>\n",
       "      <th>income_근로</th>\n",
       "      <th>income_사업</th>\n",
       "      <th>income_기타</th>\n",
       "    </tr>\n",
       "  </thead>\n",
       "  <tbody>\n",
       "    <tr>\n",
       "      <th>0</th>\n",
       "      <td>27.0</td>\n",
       "      <td>F</td>\n",
       "      <td>2019</td>\n",
       "      <td>5000.0</td>\n",
       "      <td>400.0</td>\n",
       "      <td>False</td>\n",
       "      <td>10001000.0</td>\n",
       "      <td>61000.0</td>\n",
       "      <td>NaN</td>\n",
       "    </tr>\n",
       "    <tr>\n",
       "      <th>1</th>\n",
       "      <td>34.0</td>\n",
       "      <td>M</td>\n",
       "      <td>2018</td>\n",
       "      <td>100000.0</td>\n",
       "      <td>1700.0</td>\n",
       "      <td>True</td>\n",
       "      <td>18092000.0</td>\n",
       "      <td>NaN</td>\n",
       "      <td>1815000.0</td>\n",
       "    </tr>\n",
       "    <tr>\n",
       "      <th>2</th>\n",
       "      <td>28.0</td>\n",
       "      <td>F</td>\n",
       "      <td>2017</td>\n",
       "      <td>289000.0</td>\n",
       "      <td>11500.0</td>\n",
       "      <td>False</td>\n",
       "      <td>NaN</td>\n",
       "      <td>1461000.0</td>\n",
       "      <td>NaN</td>\n",
       "    </tr>\n",
       "    <tr>\n",
       "      <th>3</th>\n",
       "      <td>27.0</td>\n",
       "      <td>M</td>\n",
       "      <td>2019</td>\n",
       "      <td>410000.0</td>\n",
       "      <td>16200.0</td>\n",
       "      <td>False</td>\n",
       "      <td>NaN</td>\n",
       "      <td>2471000.0</td>\n",
       "      <td>NaN</td>\n",
       "    </tr>\n",
       "    <tr>\n",
       "      <th>4</th>\n",
       "      <td>26.0</td>\n",
       "      <td>F</td>\n",
       "      <td>2016</td>\n",
       "      <td>114000.0</td>\n",
       "      <td>4300.0</td>\n",
       "      <td>True</td>\n",
       "      <td>0.0</td>\n",
       "      <td>689000.0</td>\n",
       "      <td>NaN</td>\n",
       "    </tr>\n",
       "  </tbody>\n",
       "</table>\n",
       "</div>"
      ],
      "text/plain": [
       "    age gender  year    refund      fee  has_paid   income_근로  income_사업  \\\n",
       "0  27.0      F  2019    5000.0    400.0     False  10001000.0    61000.0   \n",
       "1  34.0      M  2018  100000.0   1700.0      True  18092000.0        NaN   \n",
       "2  28.0      F  2017  289000.0  11500.0     False         NaN  1461000.0   \n",
       "3  27.0      M  2019  410000.0  16200.0     False         NaN  2471000.0   \n",
       "4  26.0      F  2016  114000.0   4300.0      True         0.0   689000.0   \n",
       "\n",
       "   income_기타  \n",
       "0        NaN  \n",
       "1  1815000.0  \n",
       "2        NaN  \n",
       "3        NaN  \n",
       "4        NaN  "
      ]
     },
     "execution_count": 5,
     "metadata": {},
     "output_type": "execute_result"
    }
   ],
   "source": [
    "df.head()"
   ]
  },
  {
   "cell_type": "code",
   "execution_count": 6,
   "metadata": {},
   "outputs": [
    {
     "data": {
      "text/html": [
       "<div>\n",
       "<style scoped>\n",
       "    .dataframe tbody tr th:only-of-type {\n",
       "        vertical-align: middle;\n",
       "    }\n",
       "\n",
       "    .dataframe tbody tr th {\n",
       "        vertical-align: top;\n",
       "    }\n",
       "\n",
       "    .dataframe thead th {\n",
       "        text-align: right;\n",
       "    }\n",
       "</style>\n",
       "<table border=\"1\" class=\"dataframe\">\n",
       "  <thead>\n",
       "    <tr style=\"text-align: right;\">\n",
       "      <th></th>\n",
       "      <th>age</th>\n",
       "      <th>year</th>\n",
       "      <th>refund</th>\n",
       "      <th>fee</th>\n",
       "      <th>has_paid</th>\n",
       "      <th>income_근로</th>\n",
       "      <th>income_사업</th>\n",
       "      <th>income_기타</th>\n",
       "    </tr>\n",
       "  </thead>\n",
       "  <tbody>\n",
       "    <tr>\n",
       "      <th>age</th>\n",
       "      <td>1.000000</td>\n",
       "      <td>-0.113500</td>\n",
       "      <td>0.078485</td>\n",
       "      <td>0.072135</td>\n",
       "      <td>-0.022918</td>\n",
       "      <td>0.341343</td>\n",
       "      <td>0.097144</td>\n",
       "      <td>0.105064</td>\n",
       "    </tr>\n",
       "    <tr>\n",
       "      <th>year</th>\n",
       "      <td>-0.113500</td>\n",
       "      <td>1.000000</td>\n",
       "      <td>0.140977</td>\n",
       "      <td>0.169537</td>\n",
       "      <td>-0.136060</td>\n",
       "      <td>0.075071</td>\n",
       "      <td>0.149177</td>\n",
       "      <td>0.035263</td>\n",
       "    </tr>\n",
       "    <tr>\n",
       "      <th>refund</th>\n",
       "      <td>0.078485</td>\n",
       "      <td>0.140977</td>\n",
       "      <td>1.000000</td>\n",
       "      <td>0.969427</td>\n",
       "      <td>-0.094061</td>\n",
       "      <td>-0.110196</td>\n",
       "      <td>0.785344</td>\n",
       "      <td>0.737711</td>\n",
       "    </tr>\n",
       "    <tr>\n",
       "      <th>fee</th>\n",
       "      <td>0.072135</td>\n",
       "      <td>0.169537</td>\n",
       "      <td>0.969427</td>\n",
       "      <td>1.000000</td>\n",
       "      <td>-0.117695</td>\n",
       "      <td>-0.112256</td>\n",
       "      <td>0.777466</td>\n",
       "      <td>0.742307</td>\n",
       "    </tr>\n",
       "    <tr>\n",
       "      <th>has_paid</th>\n",
       "      <td>-0.022918</td>\n",
       "      <td>-0.136060</td>\n",
       "      <td>-0.094061</td>\n",
       "      <td>-0.117695</td>\n",
       "      <td>1.000000</td>\n",
       "      <td>-0.014584</td>\n",
       "      <td>-0.103945</td>\n",
       "      <td>-0.108696</td>\n",
       "    </tr>\n",
       "    <tr>\n",
       "      <th>income_근로</th>\n",
       "      <td>0.341343</td>\n",
       "      <td>0.075071</td>\n",
       "      <td>-0.110196</td>\n",
       "      <td>-0.112256</td>\n",
       "      <td>-0.014584</td>\n",
       "      <td>1.000000</td>\n",
       "      <td>-0.091732</td>\n",
       "      <td>0.044542</td>\n",
       "    </tr>\n",
       "    <tr>\n",
       "      <th>income_사업</th>\n",
       "      <td>0.097144</td>\n",
       "      <td>0.149177</td>\n",
       "      <td>0.785344</td>\n",
       "      <td>0.777466</td>\n",
       "      <td>-0.103945</td>\n",
       "      <td>-0.091732</td>\n",
       "      <td>1.000000</td>\n",
       "      <td>0.067535</td>\n",
       "    </tr>\n",
       "    <tr>\n",
       "      <th>income_기타</th>\n",
       "      <td>0.105064</td>\n",
       "      <td>0.035263</td>\n",
       "      <td>0.737711</td>\n",
       "      <td>0.742307</td>\n",
       "      <td>-0.108696</td>\n",
       "      <td>0.044542</td>\n",
       "      <td>0.067535</td>\n",
       "      <td>1.000000</td>\n",
       "    </tr>\n",
       "  </tbody>\n",
       "</table>\n",
       "</div>"
      ],
      "text/plain": [
       "                age      year    refund       fee  has_paid  income_근로  \\\n",
       "age        1.000000 -0.113500  0.078485  0.072135 -0.022918   0.341343   \n",
       "year      -0.113500  1.000000  0.140977  0.169537 -0.136060   0.075071   \n",
       "refund     0.078485  0.140977  1.000000  0.969427 -0.094061  -0.110196   \n",
       "fee        0.072135  0.169537  0.969427  1.000000 -0.117695  -0.112256   \n",
       "has_paid  -0.022918 -0.136060 -0.094061 -0.117695  1.000000  -0.014584   \n",
       "income_근로  0.341343  0.075071 -0.110196 -0.112256 -0.014584   1.000000   \n",
       "income_사업  0.097144  0.149177  0.785344  0.777466 -0.103945  -0.091732   \n",
       "income_기타  0.105064  0.035263  0.737711  0.742307 -0.108696   0.044542   \n",
       "\n",
       "           income_사업  income_기타  \n",
       "age         0.097144   0.105064  \n",
       "year        0.149177   0.035263  \n",
       "refund      0.785344   0.737711  \n",
       "fee         0.777466   0.742307  \n",
       "has_paid   -0.103945  -0.108696  \n",
       "income_근로  -0.091732   0.044542  \n",
       "income_사업   1.000000   0.067535  \n",
       "income_기타   0.067535   1.000000  "
      ]
     },
     "execution_count": 6,
     "metadata": {},
     "output_type": "execute_result"
    }
   ],
   "source": [
    "df.corr()"
   ]
  },
  {
   "cell_type": "code",
   "execution_count": 31,
   "metadata": {},
   "outputs": [
    {
     "data": {
      "image/png": "[encoded data removed]",
      "text/plain": [
       "<Figure size 1080x720 with 2 Axes>"
      ]
     },
     "metadata": {},
     "output_type": "display_data"
    }
   ],
   "source": [
    "sns.set(style=\"white\")\n",
    "corr = df.corr()\n",
    "mask = np.triu(np.ones_like(corr, dtype=np.bool))\n",
    "f, ax = plt.subplots(figsize=(15, 10))\n",
    "cmap = sns.diverging_palette(220, 10, as_cmap=True)\n",
    "plt.title('Correlation Matrix', fontsize=18)\n",
    "sns.heatmap(corr, mask=mask, cmap=cmap,  center=0,\n",
    "            square=True, linewidths=.5, annot=True)\n",
    "plt.show()"
   ]
  },
  {
   "cell_type": "markdown",
   "metadata": {},
   "source": [
    "* fee와 refund는 매우높은 상관관계가 있다\n",
    "* 유독 근로소득과 refund의 상관관계가 낮은 이유는 뭘까?"
   ]
  },
  {
   "cell_type": "markdown",
   "metadata": {},
   "source": [
    "## 결제여부를 기준으로 고객을 나눠본다"
   ]
  },
  {
   "cell_type": "code",
   "execution_count": 37,
   "metadata": {},
   "outputs": [],
   "source": [
    "paid_group = df[df['has_paid'] == True] #결제그룹\n",
    "not_paid_group= df[df['has_paid'] == False] #미결제 그룹"
   ]
  },
  {
   "cell_type": "markdown",
   "metadata": {},
   "source": [
    "#### 결제비율"
   ]
  },
  {
   "cell_type": "code",
   "execution_count": 170,
   "metadata": {},
   "outputs": [
    {
     "name": "stdout",
     "output_type": "stream",
     "text": [
      "35357\n",
      "64643\n",
      "64.64%\n"
     ]
    }
   ],
   "source": [
    "print(len(not_paid_group)) #결제안한사람\n",
    "print(len(paid_group)) #결제한사람\n",
    "print('%.2f'%(len(paid_group)/len(df)*100)+'%') #결제한사람의 비율"
   ]
  },
  {
   "cell_type": "markdown",
   "metadata": {},
   "source": [
    "#### 범주형 데이터 살펴보기"
   ]
  },
  {
   "cell_type": "code",
   "execution_count": 206,
   "metadata": {
    "scrolled": true
   },
   "outputs": [
    {
     "name": "stdout",
     "output_type": "stream",
     "text": [
      "{'M', '-', 'F'}\n",
      "{False, True}\n",
      "{2016, 2017, 2018, 2019, 2020, 2015}\n"
     ]
    }
   ],
   "source": [
    "print(set(df['gender']))\n",
    "print(set(df['has_paid']))\n",
    "print(set(df['year']))"
   ]
  },
  {
   "cell_type": "markdown",
   "metadata": {},
   "source": [
    "## 성별이 -인 값은 유의미한 의미가 있을까\n",
    "* 예를들어 법인이나 단체를 의미한다?\n",
    "* 법인이나 단체라면 일반고객에 비해 fee와 refund가 높게 나오는가?"
   ]
  },
  {
   "cell_type": "code",
   "execution_count": 151,
   "metadata": {},
   "outputs": [
    {
     "data": {
      "text/html": [
       "<div>\n",
       "<style scoped>\n",
       "    .dataframe tbody tr th:only-of-type {\n",
       "        vertical-align: middle;\n",
       "    }\n",
       "\n",
       "    .dataframe tbody tr th {\n",
       "        vertical-align: top;\n",
       "    }\n",
       "\n",
       "    .dataframe thead th {\n",
       "        text-align: right;\n",
       "    }\n",
       "</style>\n",
       "<table border=\"1\" class=\"dataframe\">\n",
       "  <thead>\n",
       "    <tr style=\"text-align: right;\">\n",
       "      <th></th>\n",
       "      <th>age</th>\n",
       "      <th>gender</th>\n",
       "      <th>year</th>\n",
       "      <th>refund</th>\n",
       "      <th>fee</th>\n",
       "      <th>has_paid</th>\n",
       "      <th>income_근로</th>\n",
       "      <th>income_사업</th>\n",
       "      <th>income_기타</th>\n",
       "    </tr>\n",
       "  </thead>\n",
       "  <tbody>\n",
       "    <tr>\n",
       "      <th>2613</th>\n",
       "      <td>27.0</td>\n",
       "      <td>-</td>\n",
       "      <td>2016</td>\n",
       "      <td>559000.0</td>\n",
       "      <td>12800.0</td>\n",
       "      <td>False</td>\n",
       "      <td>NaN</td>\n",
       "      <td>NaN</td>\n",
       "      <td>NaN</td>\n",
       "    </tr>\n",
       "    <tr>\n",
       "      <th>4101</th>\n",
       "      <td>27.0</td>\n",
       "      <td>-</td>\n",
       "      <td>2017</td>\n",
       "      <td>209000.0</td>\n",
       "      <td>4300.0</td>\n",
       "      <td>False</td>\n",
       "      <td>NaN</td>\n",
       "      <td>NaN</td>\n",
       "      <td>NaN</td>\n",
       "    </tr>\n",
       "    <tr>\n",
       "      <th>9574</th>\n",
       "      <td>42.0</td>\n",
       "      <td>-</td>\n",
       "      <td>2015</td>\n",
       "      <td>175000.0</td>\n",
       "      <td>4300.0</td>\n",
       "      <td>False</td>\n",
       "      <td>NaN</td>\n",
       "      <td>NaN</td>\n",
       "      <td>NaN</td>\n",
       "    </tr>\n",
       "    <tr>\n",
       "      <th>20536</th>\n",
       "      <td>26.0</td>\n",
       "      <td>-</td>\n",
       "      <td>2017</td>\n",
       "      <td>845000.0</td>\n",
       "      <td>25100.0</td>\n",
       "      <td>False</td>\n",
       "      <td>NaN</td>\n",
       "      <td>NaN</td>\n",
       "      <td>NaN</td>\n",
       "    </tr>\n",
       "    <tr>\n",
       "      <th>28211</th>\n",
       "      <td>26.0</td>\n",
       "      <td>-</td>\n",
       "      <td>2016</td>\n",
       "      <td>650000.0</td>\n",
       "      <td>12800.0</td>\n",
       "      <td>False</td>\n",
       "      <td>NaN</td>\n",
       "      <td>NaN</td>\n",
       "      <td>NaN</td>\n",
       "    </tr>\n",
       "    <tr>\n",
       "      <th>36217</th>\n",
       "      <td>27.0</td>\n",
       "      <td>-</td>\n",
       "      <td>2018</td>\n",
       "      <td>124000.0</td>\n",
       "      <td>3400.0</td>\n",
       "      <td>False</td>\n",
       "      <td>NaN</td>\n",
       "      <td>NaN</td>\n",
       "      <td>NaN</td>\n",
       "    </tr>\n",
       "    <tr>\n",
       "      <th>37674</th>\n",
       "      <td>27.0</td>\n",
       "      <td>-</td>\n",
       "      <td>2015</td>\n",
       "      <td>252000.0</td>\n",
       "      <td>8500.0</td>\n",
       "      <td>False</td>\n",
       "      <td>NaN</td>\n",
       "      <td>NaN</td>\n",
       "      <td>NaN</td>\n",
       "    </tr>\n",
       "    <tr>\n",
       "      <th>38223</th>\n",
       "      <td>53.0</td>\n",
       "      <td>-</td>\n",
       "      <td>2015</td>\n",
       "      <td>6000.0</td>\n",
       "      <td>400.0</td>\n",
       "      <td>False</td>\n",
       "      <td>NaN</td>\n",
       "      <td>NaN</td>\n",
       "      <td>NaN</td>\n",
       "    </tr>\n",
       "    <tr>\n",
       "      <th>38441</th>\n",
       "      <td>23.0</td>\n",
       "      <td>-</td>\n",
       "      <td>2018</td>\n",
       "      <td>110000.0</td>\n",
       "      <td>3000.0</td>\n",
       "      <td>False</td>\n",
       "      <td>NaN</td>\n",
       "      <td>NaN</td>\n",
       "      <td>NaN</td>\n",
       "    </tr>\n",
       "    <tr>\n",
       "      <th>41454</th>\n",
       "      <td>41.0</td>\n",
       "      <td>-</td>\n",
       "      <td>2015</td>\n",
       "      <td>122000.0</td>\n",
       "      <td>4300.0</td>\n",
       "      <td>True</td>\n",
       "      <td>NaN</td>\n",
       "      <td>NaN</td>\n",
       "      <td>NaN</td>\n",
       "    </tr>\n",
       "    <tr>\n",
       "      <th>46337</th>\n",
       "      <td>27.0</td>\n",
       "      <td>-</td>\n",
       "      <td>2019</td>\n",
       "      <td>676000.0</td>\n",
       "      <td>42500.0</td>\n",
       "      <td>False</td>\n",
       "      <td>NaN</td>\n",
       "      <td>NaN</td>\n",
       "      <td>NaN</td>\n",
       "    </tr>\n",
       "    <tr>\n",
       "      <th>47966</th>\n",
       "      <td>41.0</td>\n",
       "      <td>-</td>\n",
       "      <td>2017</td>\n",
       "      <td>35000.0</td>\n",
       "      <td>400.0</td>\n",
       "      <td>True</td>\n",
       "      <td>NaN</td>\n",
       "      <td>NaN</td>\n",
       "      <td>NaN</td>\n",
       "    </tr>\n",
       "    <tr>\n",
       "      <th>52346</th>\n",
       "      <td>41.0</td>\n",
       "      <td>-</td>\n",
       "      <td>2019</td>\n",
       "      <td>345000.0</td>\n",
       "      <td>8500.0</td>\n",
       "      <td>False</td>\n",
       "      <td>NaN</td>\n",
       "      <td>NaN</td>\n",
       "      <td>NaN</td>\n",
       "    </tr>\n",
       "    <tr>\n",
       "      <th>53924</th>\n",
       "      <td>41.0</td>\n",
       "      <td>-</td>\n",
       "      <td>2016</td>\n",
       "      <td>179000.0</td>\n",
       "      <td>4300.0</td>\n",
       "      <td>True</td>\n",
       "      <td>NaN</td>\n",
       "      <td>NaN</td>\n",
       "      <td>NaN</td>\n",
       "    </tr>\n",
       "    <tr>\n",
       "      <th>57536</th>\n",
       "      <td>25.0</td>\n",
       "      <td>-</td>\n",
       "      <td>2015</td>\n",
       "      <td>126000.0</td>\n",
       "      <td>4300.0</td>\n",
       "      <td>False</td>\n",
       "      <td>NaN</td>\n",
       "      <td>NaN</td>\n",
       "      <td>NaN</td>\n",
       "    </tr>\n",
       "    <tr>\n",
       "      <th>60508</th>\n",
       "      <td>22.0</td>\n",
       "      <td>-</td>\n",
       "      <td>2018</td>\n",
       "      <td>33000.0</td>\n",
       "      <td>400.0</td>\n",
       "      <td>True</td>\n",
       "      <td>NaN</td>\n",
       "      <td>NaN</td>\n",
       "      <td>NaN</td>\n",
       "    </tr>\n",
       "    <tr>\n",
       "      <th>61782</th>\n",
       "      <td>29.0</td>\n",
       "      <td>-</td>\n",
       "      <td>2018</td>\n",
       "      <td>29000.0</td>\n",
       "      <td>400.0</td>\n",
       "      <td>False</td>\n",
       "      <td>NaN</td>\n",
       "      <td>NaN</td>\n",
       "      <td>NaN</td>\n",
       "    </tr>\n",
       "    <tr>\n",
       "      <th>63173</th>\n",
       "      <td>21.0</td>\n",
       "      <td>-</td>\n",
       "      <td>2019</td>\n",
       "      <td>130000.0</td>\n",
       "      <td>3800.0</td>\n",
       "      <td>False</td>\n",
       "      <td>NaN</td>\n",
       "      <td>NaN</td>\n",
       "      <td>NaN</td>\n",
       "    </tr>\n",
       "    <tr>\n",
       "      <th>68844</th>\n",
       "      <td>26.0</td>\n",
       "      <td>-</td>\n",
       "      <td>2019</td>\n",
       "      <td>487000.0</td>\n",
       "      <td>12800.0</td>\n",
       "      <td>False</td>\n",
       "      <td>NaN</td>\n",
       "      <td>NaN</td>\n",
       "      <td>NaN</td>\n",
       "    </tr>\n",
       "    <tr>\n",
       "      <th>72826</th>\n",
       "      <td>27.0</td>\n",
       "      <td>-</td>\n",
       "      <td>2019</td>\n",
       "      <td>223000.0</td>\n",
       "      <td>6400.0</td>\n",
       "      <td>False</td>\n",
       "      <td>NaN</td>\n",
       "      <td>NaN</td>\n",
       "      <td>NaN</td>\n",
       "    </tr>\n",
       "    <tr>\n",
       "      <th>73571</th>\n",
       "      <td>19.0</td>\n",
       "      <td>-</td>\n",
       "      <td>2019</td>\n",
       "      <td>43000.0</td>\n",
       "      <td>400.0</td>\n",
       "      <td>False</td>\n",
       "      <td>NaN</td>\n",
       "      <td>NaN</td>\n",
       "      <td>NaN</td>\n",
       "    </tr>\n",
       "    <tr>\n",
       "      <th>73655</th>\n",
       "      <td>23.0</td>\n",
       "      <td>-</td>\n",
       "      <td>2018</td>\n",
       "      <td>6000.0</td>\n",
       "      <td>400.0</td>\n",
       "      <td>False</td>\n",
       "      <td>NaN</td>\n",
       "      <td>NaN</td>\n",
       "      <td>NaN</td>\n",
       "    </tr>\n",
       "  </tbody>\n",
       "</table>\n",
       "</div>"
      ],
      "text/plain": [
       "        age gender  year    refund      fee  has_paid  income_근로  income_사업  \\\n",
       "2613   27.0      -  2016  559000.0  12800.0     False        NaN        NaN   \n",
       "4101   27.0      -  2017  209000.0   4300.0     False        NaN        NaN   \n",
       "9574   42.0      -  2015  175000.0   4300.0     False        NaN        NaN   \n",
       "20536  26.0      -  2017  845000.0  25100.0     False        NaN        NaN   \n",
       "28211  26.0      -  2016  650000.0  12800.0     False        NaN        NaN   \n",
       "36217  27.0      -  2018  124000.0   3400.0     False        NaN        NaN   \n",
       "37674  27.0      -  2015  252000.0   8500.0     False        NaN        NaN   \n",
       "38223  53.0      -  2015    6000.0    400.0     False        NaN        NaN   \n",
       "38441  23.0      -  2018  110000.0   3000.0     False        NaN        NaN   \n",
       "41454  41.0      -  2015  122000.0   4300.0      True        NaN        NaN   \n",
       "46337  27.0      -  2019  676000.0  42500.0     False        NaN        NaN   \n",
       "47966  41.0      -  2017   35000.0    400.0      True        NaN        NaN   \n",
       "52346  41.0      -  2019  345000.0   8500.0     False        NaN        NaN   \n",
       "53924  41.0      -  2016  179000.0   4300.0      True        NaN        NaN   \n",
       "57536  25.0      -  2015  126000.0   4300.0     False        NaN        NaN   \n",
       "60508  22.0      -  2018   33000.0    400.0      True        NaN        NaN   \n",
       "61782  29.0      -  2018   29000.0    400.0     False        NaN        NaN   \n",
       "63173  21.0      -  2019  130000.0   3800.0     False        NaN        NaN   \n",
       "68844  26.0      -  2019  487000.0  12800.0     False        NaN        NaN   \n",
       "72826  27.0      -  2019  223000.0   6400.0     False        NaN        NaN   \n",
       "73571  19.0      -  2019   43000.0    400.0     False        NaN        NaN   \n",
       "73655  23.0      -  2018    6000.0    400.0     False        NaN        NaN   \n",
       "\n",
       "       income_기타  \n",
       "2613         NaN  \n",
       "4101         NaN  \n",
       "9574         NaN  \n",
       "20536        NaN  \n",
       "28211        NaN  \n",
       "36217        NaN  \n",
       "37674        NaN  \n",
       "38223        NaN  \n",
       "38441        NaN  \n",
       "41454        NaN  \n",
       "46337        NaN  \n",
       "47966        NaN  \n",
       "52346        NaN  \n",
       "53924        NaN  \n",
       "57536        NaN  \n",
       "60508        NaN  \n",
       "61782        NaN  \n",
       "63173        NaN  \n",
       "68844        NaN  \n",
       "72826        NaN  \n",
       "73571        NaN  \n",
       "73655        NaN  "
      ]
     },
     "execution_count": 151,
     "metadata": {},
     "output_type": "execute_result"
    }
   ],
   "source": [
    "non_gender = df[df['gender']=='-']\n",
    "non_gender"
   ]
  },
  {
   "cell_type": "markdown",
   "metadata": {},
   "source": [
    "#### non_gender그룹과 df그룹의 refund,fee 평균값 비교"
   ]
  },
  {
   "cell_type": "code",
   "execution_count": 187,
   "metadata": {},
   "outputs": [
    {
     "name": "stdout",
     "output_type": "stream",
     "text": [
      "non_gender그룹의 refund평균값은: 243818.18\n",
      "df그룹의 refund평균값은: 208142.24\n",
      "\n",
      "non_gender그룹의 fee평균값은: 7431.82\n",
      "df그룹의 fee평균값은: 7247.64\n"
     ]
    }
   ],
   "source": [
    "print('non_gender그룹의 refund평균값은: '+'%.2f'%((np.mean(non_gender['refund']))))\n",
    "print('df그룹의 refund평균값은: '+'%.2f'%((np.mean(df['refund']))))\n",
    "print()\n",
    "print('non_gender그룹의 fee평균값은: '+'%.2f'%((np.mean(non_gender['fee']))))\n",
    "print('df그룹의 fee평균값은: '+'%.2f'%((np.mean(df['fee']))))"
   ]
  },
  {
   "cell_type": "markdown",
   "metadata": {},
   "source": [
    "* 유의미한 차이가 없다\n",
    "* (오히려 income_사업 데이터가 있는 row가 법인이나 단체일 가능성이 더 크다는 생각이 들었음)"
   ]
  },
  {
   "cell_type": "markdown",
   "metadata": {},
   "source": [
    "#### non_gender그룹은 has_paid가 False인 값이 많아보인다"
   ]
  },
  {
   "cell_type": "code",
   "execution_count": 172,
   "metadata": {},
   "outputs": [
    {
     "name": "stdout",
     "output_type": "stream",
     "text": [
      "18.18%\n"
     ]
    }
   ],
   "source": [
    "#non_gender그룹의 결제비율\n",
    "print('%.2f'%(len(non_gender[non_gender['has_paid']== True])/len(non_gender)*100)+'%')"
   ]
  },
  {
   "cell_type": "markdown",
   "metadata": {},
   "source": [
    "#### non_gender그룹: 근로소득,사업소득,기타소득이 전부 없다\n",
    "#### 전체 데이터에서 결제비율은 약 64% / non_gender그룹에서 결제비율은 약 18%\n",
    "* non_gender그룹의 특징인 '3소득이 모두 없다'는 것이 결제비율과 연관이 있을까?"
   ]
  },
  {
   "cell_type": "code",
   "execution_count": 191,
   "metadata": {},
   "outputs": [],
   "source": [
    "three_non = df[np.isnan(df['income_근로']) & np.isnan(df['income_사업']) & np.isnan(df['income_기타'])] #근로,사업,기타소득 전부 없는그룹"
   ]
  },
  {
   "cell_type": "markdown",
   "metadata": {},
   "source": [
    "#### three_non그룹과 df그룹의 refund,fee 평균값 비교"
   ]
  },
  {
   "cell_type": "code",
   "execution_count": 192,
   "metadata": {},
   "outputs": [
    {
     "name": "stdout",
     "output_type": "stream",
     "text": [
      "three_non그룹의 refund평균값은: 150563.38\n",
      "df그룹의 refund평균값은: 208142.24\n",
      "\n",
      "three_non그룹의 fee평균값은: 4344.02\n",
      "df그룹의 fee평균값은: 7247.64\n"
     ]
    }
   ],
   "source": [
    "print('three_non그룹의 refund평균값은: '+'%.2f'%((np.mean(three_non['refund']))))\n",
    "print('df그룹의 refund평균값은: '+'%.2f'%((np.mean(df['refund']))))\n",
    "print()\n",
    "print('three_non그룹의 fee평균값은: '+'%.2f'%((np.mean(three_non['fee']))))\n",
    "print('df그룹의 fee평균값은: '+'%.2f'%((np.mean(df['fee']))))"
   ]
  },
  {
   "cell_type": "code",
   "execution_count": 193,
   "metadata": {},
   "outputs": [
    {
     "name": "stdout",
     "output_type": "stream",
     "text": [
      "16.68%\n"
     ]
    }
   ],
   "source": [
    "#three_non그룹의 결제비율\n",
    "print('%.2f'%(len(three_non[three_non['has_paid']== True])/len(three_non)*100)+'%')"
   ]
  },
  {
   "cell_type": "markdown",
   "metadata": {},
   "source": [
    "* three_non그룹은 전체에 비해 refund와 fee가 낮다\n",
    "* income데이터가 모두 없는 그룹은 전체 그룹보다 48%정도 낮은 결제비율을 보인다"
   ]
  },
  {
   "cell_type": "markdown",
   "metadata": {},
   "source": [
    "## 세 종류의 소득 모두 없는 그룹의 고객은 결제할 가능성이 낮다는 중간결론 도출\n",
    "* 추가적으로 income데이터 중에서도 더 큰 영향을 미치는 데이터가 있는지 궁금해짐"
   ]
  },
  {
   "cell_type": "markdown",
   "metadata": {},
   "source": [
    "#### 각각의 데이터에 대해 위에서 실시한 것과 동일한 분석 진행"
   ]
  },
  {
   "cell_type": "code",
   "execution_count": 223,
   "metadata": {},
   "outputs": [],
   "source": [
    "#기타소득이 없는 그룹\n",
    "non_etc_group = df[np.isnan(df['income_기타'])]\n",
    "#사업소득이 없는 그룹\n",
    "non_business_group = df[np.isnan(df['income_사업'])]\n",
    "#근로소득이 없는 그룹\n",
    "non_working_group = df[np.isnan(df['income_근로'])]"
   ]
  },
  {
   "cell_type": "markdown",
   "metadata": {},
   "source": [
    "1.기타소득이 없는 그룹"
   ]
  },
  {
   "cell_type": "code",
   "execution_count": 224,
   "metadata": {},
   "outputs": [
    {
     "name": "stdout",
     "output_type": "stream",
     "text": [
      "non_etc_group그룹의 refund평균값은: 194571.57\n",
      "df그룹의 refund평균값은: 208142.24\n",
      "\n",
      "non_etc_group그룹의 fee평균값은: 6614.72\n",
      "df그룹의 fee평균값은: 7247.64\n",
      "\n",
      "three_yes그룹의 결제비율은: 64.17%\n"
     ]
    }
   ],
   "source": [
    "print('non_etc_group그룹의 refund평균값은: '+'%.2f'%((np.mean(non_etc_group['refund']))))\n",
    "print('df그룹의 refund평균값은: '+'%.2f'%((np.mean(df['refund']))))\n",
    "print()\n",
    "print('non_etc_group그룹의 fee평균값은: '+'%.2f'%((np.mean(non_etc_group['fee']))))\n",
    "print('df그룹의 fee평균값은: '+'%.2f'%((np.mean(df['fee']))))\n",
    "print()\n",
    "print('three_yes그룹의 결제비율은: %.2f'%(len(non_etc_group[non_etc_group['has_paid']== True])/len(non_etc_group)*100)+'%')"
   ]
  },
  {
   "cell_type": "markdown",
   "metadata": {},
   "source": [
    "2.사업소득이 없는 그룹"
   ]
  },
  {
   "cell_type": "code",
   "execution_count": 225,
   "metadata": {},
   "outputs": [
    {
     "name": "stdout",
     "output_type": "stream",
     "text": [
      "non_business_group그룹의 refund평균값은: 204605.66\n",
      "df그룹의 refund평균값은: 208142.24\n",
      "\n",
      "non_business_group그룹의 fee평균값은: 7040.34\n",
      "df그룹의 fee평균값은: 7247.64\n",
      "\n",
      "three_yes그룹의 결제비율은: 42.05%\n"
     ]
    }
   ],
   "source": [
    "print('non_business_group그룹의 refund평균값은: '+'%.2f'%((np.mean(non_business_group['refund']))))\n",
    "print('df그룹의 refund평균값은: '+'%.2f'%((np.mean(df['refund']))))\n",
    "print()\n",
    "print('non_business_group그룹의 fee평균값은: '+'%.2f'%((np.mean(non_business_group['fee']))))\n",
    "print('df그룹의 fee평균값은: '+'%.2f'%((np.mean(df['fee']))))\n",
    "print()\n",
    "print('three_yes그룹의 결제비율은: %.2f'%(len(non_business_group[non_business_group['has_paid']== True])/len(non_business_group)*100)+'%')"
   ]
  },
  {
   "cell_type": "markdown",
   "metadata": {},
   "source": [
    "3.근로소득이 없는 그룹"
   ]
  },
  {
   "cell_type": "code",
   "execution_count": 226,
   "metadata": {},
   "outputs": [
    {
     "name": "stdout",
     "output_type": "stream",
     "text": [
      "non_working_group그룹의 refund평균값은: 220279.97\n",
      "df그룹의 refund평균값은: 208142.24\n",
      "\n",
      "non_working_group그룹의 fee평균값은: 7695.61\n",
      "df그룹의 fee평균값은: 7247.64\n",
      "\n",
      "three_yes그룹의 결제비율은: 60.99%\n"
     ]
    }
   ],
   "source": [
    "print('non_working_group그룹의 refund평균값은: '+'%.2f'%((np.mean(non_working_group['refund']))))\n",
    "print('df그룹의 refund평균값은: '+'%.2f'%((np.mean(df['refund']))))\n",
    "print()\n",
    "print('non_working_group그룹의 fee평균값은: '+'%.2f'%((np.mean(non_working_group['fee']))))\n",
    "print('df그룹의 fee평균값은: '+'%.2f'%((np.mean(df['fee']))))\n",
    "print()\n",
    "print('three_yes그룹의 결제비율은: %.2f'%(len(non_working_group[non_working_group['has_paid']== True])/len(non_working_group)*100)+'%')"
   ]
  },
  {
   "cell_type": "markdown",
   "metadata": {},
   "source": [
    "* 사업소득이 없는 그룹이 가장 낮은결제율을 보이지만 기대했던것 만큼의 차이는 아님"
   ]
  },
  {
   "cell_type": "markdown",
   "metadata": {},
   "source": [
    "## 반대로 세 종류의 소득이 모두 있는 데이터는 어떨까?"
   ]
  },
  {
   "cell_type": "code",
   "execution_count": 209,
   "metadata": {},
   "outputs": [],
   "source": [
    "three_yes = df[~np.isnan(df['income_근로']) & ~np.isnan(df['income_사업']) & ~np.isnan(df['income_기타'])]"
   ]
  },
  {
   "cell_type": "code",
   "execution_count": 215,
   "metadata": {},
   "outputs": [
    {
     "name": "stdout",
     "output_type": "stream",
     "text": [
      "three_yes그룹의 refund평균값은: 237760.86\n",
      "df그룹의 refund평균값은: 208142.24\n",
      "\n",
      "three_yes그룹의 fee평균값은: 8547.78\n",
      "df그룹의 fee평균값은: 7247.64\n",
      "\n",
      "three_yes그룹의 결제비율은: 72.39%\n"
     ]
    }
   ],
   "source": [
    "print('three_yes그룹의 refund평균값은: '+'%.2f'%((np.mean(three_yes['refund']))))\n",
    "print('df그룹의 refund평균값은: '+'%.2f'%((np.mean(df['refund']))))\n",
    "print()\n",
    "print('three_yes그룹의 fee평균값은: '+'%.2f'%((np.mean(three_yes['fee']))))\n",
    "print('df그룹의 fee평균값은: '+'%.2f'%((np.mean(df['fee']))))\n",
    "print()\n",
    "print('three_yes그룹의 결제비율은: %.2f'%(len(three_yes[three_yes['has_paid']== True])/len(three_yes)*100)+'%')"
   ]
  },
  {
   "cell_type": "markdown",
   "metadata": {},
   "source": [
    "* 전체그룹보다 8%정도 높은 결제율을 보인다"
   ]
  },
  {
   "cell_type": "markdown",
   "metadata": {},
   "source": [
    "## income데이터를 몇 개 가지고있는지 나타내는 income_count변수 생성"
   ]
  },
  {
   "cell_type": "code",
   "execution_count": 286,
   "metadata": {},
   "outputs": [],
   "source": [
    "income_count_list=[]\n",
    "for i in range(len(df)):    \n",
    "    income_count_list.append(sum(~np.isnan(list(df.iloc[i][6:].values))))\n",
    "df['income_count'] = income_count_list"
   ]
  },
  {
   "cell_type": "markdown",
   "metadata": {},
   "source": [
    "#### income_count별 has_paid분포"
   ]
  },
  {
   "cell_type": "code",
   "execution_count": 5,
   "metadata": {},
   "outputs": [
    {
     "data": {
      "text/plain": [
       "<matplotlib.axes._subplots.AxesSubplot at 0x1f99fe42910>"
      ]
     },
     "execution_count": 5,
     "metadata": {},
     "output_type": "execute_result"
    },
    {
     "data": {
      "image/png": "[encoded data removed]",
      "text/plain": [
       "<Figure size 432x288 with 1 Axes>"
      ]
     },
     "metadata": {
      "needs_background": "light"
     },
     "output_type": "display_data"
    }
   ],
   "source": [
    "pd.crosstab(df['income_count'], df['has_paid']).plot(kind='bar', stacked=True)"
   ]
  },
  {
   "cell_type": "markdown",
   "metadata": {},
   "source": [
    "#  income_count가 1과2인 고객에 대해서도 has_paid 여부를 구분할 수 있는 뭔가가 있었으면 좋겠는데 잘 못만들겠음"
   ]
  },
  {
   "cell_type": "markdown",
   "metadata": {},
   "source": [
    "## 수수료 결제금액의 합"
   ]
  },
  {
   "cell_type": "code",
   "execution_count": 290,
   "metadata": {},
   "outputs": [],
   "source": [
    "df['real_fee'] = df['fee']*df['has_paid']"
   ]
  },
  {
   "cell_type": "code",
   "execution_count": 291,
   "metadata": {},
   "outputs": [
    {
     "data": {
      "text/html": [
       "<div>\n",
       "<style scoped>\n",
       "    .dataframe tbody tr th:only-of-type {\n",
       "        vertical-align: middle;\n",
       "    }\n",
       "\n",
       "    .dataframe tbody tr th {\n",
       "        vertical-align: top;\n",
       "    }\n",
       "\n",
       "    .dataframe thead th {\n",
       "        text-align: right;\n",
       "    }\n",
       "</style>\n",
       "<table border=\"1\" class=\"dataframe\">\n",
       "  <thead>\n",
       "    <tr style=\"text-align: right;\">\n",
       "      <th></th>\n",
       "      <th>age</th>\n",
       "      <th>gender</th>\n",
       "      <th>year</th>\n",
       "      <th>refund</th>\n",
       "      <th>fee</th>\n",
       "      <th>has_paid</th>\n",
       "      <th>income_근로</th>\n",
       "      <th>income_사업</th>\n",
       "      <th>income_기타</th>\n",
       "      <th>real_fee</th>\n",
       "      <th>income_count</th>\n",
       "    </tr>\n",
       "  </thead>\n",
       "  <tbody>\n",
       "    <tr>\n",
       "      <th>0</th>\n",
       "      <td>27.0</td>\n",
       "      <td>F</td>\n",
       "      <td>2019</td>\n",
       "      <td>5000.0</td>\n",
       "      <td>400.0</td>\n",
       "      <td>False</td>\n",
       "      <td>10001000.0</td>\n",
       "      <td>61000.0</td>\n",
       "      <td>NaN</td>\n",
       "      <td>0.0</td>\n",
       "      <td>3</td>\n",
       "    </tr>\n",
       "    <tr>\n",
       "      <th>1</th>\n",
       "      <td>34.0</td>\n",
       "      <td>M</td>\n",
       "      <td>2018</td>\n",
       "      <td>100000.0</td>\n",
       "      <td>1700.0</td>\n",
       "      <td>True</td>\n",
       "      <td>18092000.0</td>\n",
       "      <td>NaN</td>\n",
       "      <td>1815000.0</td>\n",
       "      <td>1700.0</td>\n",
       "      <td>3</td>\n",
       "    </tr>\n",
       "    <tr>\n",
       "      <th>2</th>\n",
       "      <td>28.0</td>\n",
       "      <td>F</td>\n",
       "      <td>2017</td>\n",
       "      <td>289000.0</td>\n",
       "      <td>11500.0</td>\n",
       "      <td>False</td>\n",
       "      <td>NaN</td>\n",
       "      <td>1461000.0</td>\n",
       "      <td>NaN</td>\n",
       "      <td>0.0</td>\n",
       "      <td>2</td>\n",
       "    </tr>\n",
       "    <tr>\n",
       "      <th>3</th>\n",
       "      <td>27.0</td>\n",
       "      <td>M</td>\n",
       "      <td>2019</td>\n",
       "      <td>410000.0</td>\n",
       "      <td>16200.0</td>\n",
       "      <td>False</td>\n",
       "      <td>NaN</td>\n",
       "      <td>2471000.0</td>\n",
       "      <td>NaN</td>\n",
       "      <td>0.0</td>\n",
       "      <td>2</td>\n",
       "    </tr>\n",
       "    <tr>\n",
       "      <th>4</th>\n",
       "      <td>26.0</td>\n",
       "      <td>F</td>\n",
       "      <td>2016</td>\n",
       "      <td>114000.0</td>\n",
       "      <td>4300.0</td>\n",
       "      <td>True</td>\n",
       "      <td>0.0</td>\n",
       "      <td>689000.0</td>\n",
       "      <td>NaN</td>\n",
       "      <td>4300.0</td>\n",
       "      <td>3</td>\n",
       "    </tr>\n",
       "  </tbody>\n",
       "</table>\n",
       "</div>"
      ],
      "text/plain": [
       "    age gender  year    refund      fee  has_paid   income_근로  income_사업  \\\n",
       "0  27.0      F  2019    5000.0    400.0     False  10001000.0    61000.0   \n",
       "1  34.0      M  2018  100000.0   1700.0      True  18092000.0        NaN   \n",
       "2  28.0      F  2017  289000.0  11500.0     False         NaN  1461000.0   \n",
       "3  27.0      M  2019  410000.0  16200.0     False         NaN  2471000.0   \n",
       "4  26.0      F  2016  114000.0   4300.0      True         0.0   689000.0   \n",
       "\n",
       "   income_기타  real_fee  income_count  \n",
       "0        NaN       0.0             3  \n",
       "1  1815000.0    1700.0             3  \n",
       "2        NaN       0.0             2  \n",
       "3        NaN       0.0             2  \n",
       "4        NaN    4300.0             3  "
      ]
     },
     "execution_count": 291,
     "metadata": {},
     "output_type": "execute_result"
    }
   ],
   "source": [
    "df.head()"
   ]
  },
  {
   "cell_type": "code",
   "execution_count": null,
   "metadata": {},
   "outputs": [],
   "source": []
  },
  {
   "cell_type": "code",
   "execution_count": 293,
   "metadata": {},
   "outputs": [
    {
     "data": {
      "text/plain": [
       "age             0.058339\n",
       "year            0.034013\n",
       "refund          0.561167\n",
       "fee             0.563712\n",
       "has_paid        0.358132\n",
       "income_근로      -0.083926\n",
       "income_사업       0.535590\n",
       "income_기타       0.356084\n",
       "real_fee        1.000000\n",
       "income_count    0.080038\n",
       "Name: real_fee, dtype: float64"
      ]
     },
     "execution_count": 293,
     "metadata": {},
     "output_type": "execute_result"
    }
   ],
   "source": [
    "df.corr()['real_fee'] #사업소득과 가장 큰 상관관계를 보인다 (fee제외)"
   ]
  },
  {
   "cell_type": "code",
   "execution_count": null,
   "metadata": {},
   "outputs": [],
   "source": []
  },
  {
   "cell_type": "code",
   "execution_count": 315,
   "metadata": {},
   "outputs": [
    {
     "data": {
      "text/plain": [
       "(array([8.8236e+04, 6.9120e+03, 2.8930e+03, 1.0690e+03, 5.6900e+02,\n",
       "        1.2900e+02, 9.4000e+01, 4.1000e+01, 1.6000e+01, 1.3000e+01,\n",
       "        3.0000e+00, 5.0000e+00, 6.0000e+00, 4.0000e+00, 0.0000e+00,\n",
       "        0.0000e+00, 1.0000e+00, 1.0000e+00, 1.0000e+00, 3.0000e+00,\n",
       "        1.0000e+00, 1.0000e+00, 0.0000e+00, 0.0000e+00, 1.0000e+00,\n",
       "        0.0000e+00, 0.0000e+00, 0.0000e+00, 0.0000e+00, 1.0000e+00]),\n",
       " array([     0.        ,  10233.33333333,  20466.66666667,  30700.        ,\n",
       "         40933.33333333,  51166.66666667,  61400.        ,  71633.33333333,\n",
       "         81866.66666667,  92100.        , 102333.33333333, 112566.66666667,\n",
       "        122800.        , 133033.33333333, 143266.66666667, 153500.        ,\n",
       "        163733.33333333, 173966.66666667, 184200.        , 194433.33333333,\n",
       "        204666.66666667, 214900.        , 225133.33333333, 235366.66666667,\n",
       "        245600.        , 255833.33333333, 266066.66666667, 276300.        ,\n",
       "        286533.33333333, 296766.66666667, 307000.        ]),\n",
       " <a list of 30 Patch objects>)"
      ]
     },
     "execution_count": 315,
     "metadata": {},
     "output_type": "execute_result"
    },
    {
     "data": {
      "image/png": "[encoded data removed]",
      "text/plain": [
       "<Figure size 432x288 with 1 Axes>"
      ]
     },
     "metadata": {
      "needs_background": "light"
     },
     "output_type": "display_data"
    }
   ],
   "source": [
    "plt.hist(df['real_fee'],bins=30)#0값이 많아 0보다 큰 real_fee만"
   ]
  },
  {
   "cell_type": "markdown",
   "metadata": {},
   "source": [
    "* 5만 이하의 데이터가 많다"
   ]
  },
  {
   "cell_type": "code",
   "execution_count": 341,
   "metadata": {},
   "outputs": [
    {
     "name": "stdout",
     "output_type": "stream",
     "text": [
      "100000개의 데이터 중 real_fee가 10000이하인 데이터의 개수는  87862\n",
      "real_fee가 10000이하인 데이터들의 총합은 144546100.0\n"
     ]
    }
   ],
   "source": [
    "print(str(len(df))+'개의 데이터 중 real_fee가 10000이하인 데이터의 개수는 ',str(sum(df['real_fee']<10000)))\n",
    "\n",
    "print('real_fee가 10000이하인 데이터들의 총합은',str(sum(df[df['real_fee']<10000]['real_fee'])))\n"
   ]
  },
  {
   "cell_type": "code",
   "execution_count": 359,
   "metadata": {},
   "outputs": [
    {
     "data": {
      "text/plain": [
       "(array([7.178e+03, 2.850e+03, 1.143e+03, 6.240e+02, 1.370e+02, 9.600e+01,\n",
       "        4.700e+01, 1.800e+01, 1.500e+01, 4.000e+00, 6.000e+00, 1.000e+00,\n",
       "        8.000e+00, 1.000e+00, 0.000e+00, 0.000e+00, 2.000e+00, 0.000e+00,\n",
       "        3.000e+00, 1.000e+00, 1.000e+00, 1.000e+00, 0.000e+00, 0.000e+00,\n",
       "        1.000e+00, 0.000e+00, 0.000e+00, 0.000e+00, 0.000e+00, 1.000e+00]),\n",
       " array([ 10200.        ,  20093.33333333,  29986.66666667,  39880.        ,\n",
       "         49773.33333333,  59666.66666667,  69560.        ,  79453.33333333,\n",
       "         89346.66666667,  99240.        , 109133.33333333, 119026.66666667,\n",
       "        128920.        , 138813.33333333, 148706.66666667, 158600.        ,\n",
       "        168493.33333333, 178386.66666667, 188280.        , 198173.33333333,\n",
       "        208066.66666667, 217960.        , 227853.33333333, 237746.66666667,\n",
       "        247640.        , 257533.33333333, 267426.66666667, 277320.        ,\n",
       "        287213.33333333, 297106.66666667, 307000.        ]),\n",
       " <a list of 30 Patch objects>)"
      ]
     },
     "execution_count": 359,
     "metadata": {},
     "output_type": "execute_result"
    },
    {
     "data": {
      "image/png": "[encoded data removed]",
      "text/plain": [
       "<Figure size 432x288 with 1 Axes>"
      ]
     },
     "metadata": {
      "needs_background": "light"
     },
     "output_type": "display_data"
    }
   ],
   "source": [
    "plt.hist(df[df['real_fee']>10000]['real_fee'],bins=30)#0값이 많아 0보다 큰 real_fee만"
   ]
  },
  {
   "cell_type": "code",
   "execution_count": 340,
   "metadata": {},
   "outputs": [
    {
     "name": "stdout",
     "output_type": "stream",
     "text": [
      "100000개의 데이터 중 real_fee가 10000이상인 데이터의 개수는  12138\n",
      "real_fee가 10000이상인 데이터들의 총합은 256854200.0\n"
     ]
    }
   ],
   "source": [
    "print(str(len(df))+'개의 데이터 중 real_fee가 10000이상인 데이터의 개수는 ',str(sum(df['real_fee']>=10000)))\n",
    "\n",
    "print('real_fee가 10000이상인 데이터들의 총합은',str(sum(df[df['real_fee']>=10000]['real_fee'])))\n"
   ]
  },
  {
   "cell_type": "markdown",
   "metadata": {},
   "source": [
    "* 12138개의 데이터가 87862데이터보다 수수료 결제금액의 합이 약 1.7배 더 높다"
   ]
  },
  {
   "cell_type": "markdown",
   "metadata": {},
   "source": [
    "#### 한번 더 세부적으로 그룹을 나눠보자"
   ]
  },
  {
   "cell_type": "code",
   "execution_count": 351,
   "metadata": {},
   "outputs": [
    {
     "name": "stdout",
     "output_type": "stream",
     "text": [
      "401400300.0\n",
      "144546100.0\n",
      "232430400.0\n",
      "24423800.0\n"
     ]
    }
   ],
   "source": [
    "print(sum(df['real_fee']))\n",
    "print(sum(df[df['real_fee']<10000]['real_fee']))\n",
    "print(sum(df.query('real_fee>=10000 and real_fee<50000')['real_fee']))\n",
    "print(sum(df.query('real_fee>=50000')['real_fee']))"
   ]
  },
  {
   "cell_type": "markdown",
   "metadata": {},
   "source": [
    "#### 누적그래프 혹은 real_fee를 기준으로 groupby된 누적그래프를 그려보고 싶음"
   ]
  },
  {
   "cell_type": "code",
   "execution_count": 384,
   "metadata": {},
   "outputs": [
    {
     "data": {
      "text/plain": [
       "array([ 1,  3,  6, 10], dtype=int32)"
      ]
     },
     "execution_count": 384,
     "metadata": {},
     "output_type": "execute_result"
    }
   ],
   "source": [
    "#누적\n",
    "np.cumsum([1,2,3,4])"
   ]
  },
  {
   "cell_type": "code",
   "execution_count": 368,
   "metadata": {},
   "outputs": [
    {
     "data": {
      "text/html": [
       "<div>\n",
       "<style scoped>\n",
       "    .dataframe tbody tr th:only-of-type {\n",
       "        vertical-align: middle;\n",
       "    }\n",
       "\n",
       "    .dataframe tbody tr th {\n",
       "        vertical-align: top;\n",
       "    }\n",
       "\n",
       "    .dataframe thead th {\n",
       "        text-align: right;\n",
       "    }\n",
       "</style>\n",
       "<table border=\"1\" class=\"dataframe\">\n",
       "  <thead>\n",
       "    <tr style=\"text-align: right;\">\n",
       "      <th></th>\n",
       "      <th>age</th>\n",
       "      <th>gender</th>\n",
       "      <th>year</th>\n",
       "      <th>refund</th>\n",
       "      <th>fee</th>\n",
       "      <th>has_paid</th>\n",
       "      <th>income_근로</th>\n",
       "      <th>income_사업</th>\n",
       "      <th>income_기타</th>\n",
       "      <th>real_fee</th>\n",
       "      <th>income_count</th>\n",
       "    </tr>\n",
       "  </thead>\n",
       "  <tbody>\n",
       "    <tr>\n",
       "      <th>99999</th>\n",
       "      <td>23.0</td>\n",
       "      <td>F</td>\n",
       "      <td>2019</td>\n",
       "      <td>34000.0</td>\n",
       "      <td>400.0</td>\n",
       "      <td>True</td>\n",
       "      <td>7344000.0</td>\n",
       "      <td>205000.0</td>\n",
       "      <td>NaN</td>\n",
       "      <td>400.0</td>\n",
       "      <td>3</td>\n",
       "    </tr>\n",
       "    <tr>\n",
       "      <th>59794</th>\n",
       "      <td>27.0</td>\n",
       "      <td>F</td>\n",
       "      <td>2017</td>\n",
       "      <td>21000.0</td>\n",
       "      <td>400.0</td>\n",
       "      <td>True</td>\n",
       "      <td>10270000.0</td>\n",
       "      <td>NaN</td>\n",
       "      <td>25000.0</td>\n",
       "      <td>400.0</td>\n",
       "      <td>3</td>\n",
       "    </tr>\n",
       "    <tr>\n",
       "      <th>24670</th>\n",
       "      <td>35.0</td>\n",
       "      <td>F</td>\n",
       "      <td>2020</td>\n",
       "      <td>10000.0</td>\n",
       "      <td>400.0</td>\n",
       "      <td>True</td>\n",
       "      <td>4337000.0</td>\n",
       "      <td>210000.0</td>\n",
       "      <td>NaN</td>\n",
       "      <td>400.0</td>\n",
       "      <td>3</td>\n",
       "    </tr>\n",
       "    <tr>\n",
       "      <th>59800</th>\n",
       "      <td>22.0</td>\n",
       "      <td>F</td>\n",
       "      <td>2019</td>\n",
       "      <td>51000.0</td>\n",
       "      <td>400.0</td>\n",
       "      <td>True</td>\n",
       "      <td>NaN</td>\n",
       "      <td>306000.0</td>\n",
       "      <td>NaN</td>\n",
       "      <td>400.0</td>\n",
       "      <td>2</td>\n",
       "    </tr>\n",
       "    <tr>\n",
       "      <th>24668</th>\n",
       "      <td>36.0</td>\n",
       "      <td>F</td>\n",
       "      <td>2018</td>\n",
       "      <td>34000.0</td>\n",
       "      <td>400.0</td>\n",
       "      <td>True</td>\n",
       "      <td>NaN</td>\n",
       "      <td>202000.0</td>\n",
       "      <td>NaN</td>\n",
       "      <td>400.0</td>\n",
       "      <td>2</td>\n",
       "    </tr>\n",
       "    <tr>\n",
       "      <th>...</th>\n",
       "      <td>...</td>\n",
       "      <td>...</td>\n",
       "      <td>...</td>\n",
       "      <td>...</td>\n",
       "      <td>...</td>\n",
       "      <td>...</td>\n",
       "      <td>...</td>\n",
       "      <td>...</td>\n",
       "      <td>...</td>\n",
       "      <td>...</td>\n",
       "      <td>...</td>\n",
       "    </tr>\n",
       "    <tr>\n",
       "      <th>50214</th>\n",
       "      <td>50.0</td>\n",
       "      <td>M</td>\n",
       "      <td>2020</td>\n",
       "      <td>5119000.0</td>\n",
       "      <td>203200.0</td>\n",
       "      <td>True</td>\n",
       "      <td>NaN</td>\n",
       "      <td>1958000.0</td>\n",
       "      <td>17702000.0</td>\n",
       "      <td>203200.0</td>\n",
       "      <td>3</td>\n",
       "    </tr>\n",
       "    <tr>\n",
       "      <th>87287</th>\n",
       "      <td>40.0</td>\n",
       "      <td>F</td>\n",
       "      <td>2018</td>\n",
       "      <td>5312000.0</td>\n",
       "      <td>210900.0</td>\n",
       "      <td>True</td>\n",
       "      <td>8029000.0</td>\n",
       "      <td>NaN</td>\n",
       "      <td>12755000.0</td>\n",
       "      <td>210900.0</td>\n",
       "      <td>3</td>\n",
       "    </tr>\n",
       "    <tr>\n",
       "      <th>87274</th>\n",
       "      <td>51.0</td>\n",
       "      <td>M</td>\n",
       "      <td>2020</td>\n",
       "      <td>5620000.0</td>\n",
       "      <td>223200.0</td>\n",
       "      <td>True</td>\n",
       "      <td>NaN</td>\n",
       "      <td>NaN</td>\n",
       "      <td>21093000.0</td>\n",
       "      <td>223200.0</td>\n",
       "      <td>2</td>\n",
       "    </tr>\n",
       "    <tr>\n",
       "      <th>30513</th>\n",
       "      <td>32.0</td>\n",
       "      <td>F</td>\n",
       "      <td>2017</td>\n",
       "      <td>6254000.0</td>\n",
       "      <td>248300.0</td>\n",
       "      <td>True</td>\n",
       "      <td>NaN</td>\n",
       "      <td>NaN</td>\n",
       "      <td>10918000.0</td>\n",
       "      <td>248300.0</td>\n",
       "      <td>2</td>\n",
       "    </tr>\n",
       "    <tr>\n",
       "      <th>61745</th>\n",
       "      <td>25.0</td>\n",
       "      <td>F</td>\n",
       "      <td>2018</td>\n",
       "      <td>7725000.0</td>\n",
       "      <td>307000.0</td>\n",
       "      <td>True</td>\n",
       "      <td>2850000.0</td>\n",
       "      <td>NaN</td>\n",
       "      <td>17297000.0</td>\n",
       "      <td>307000.0</td>\n",
       "      <td>3</td>\n",
       "    </tr>\n",
       "  </tbody>\n",
       "</table>\n",
       "<p>64643 rows × 11 columns</p>\n",
       "</div>"
      ],
      "text/plain": [
       "        age gender  year     refund       fee  has_paid   income_근로  \\\n",
       "99999  23.0      F  2019    34000.0     400.0      True   7344000.0   \n",
       "59794  27.0      F  2017    21000.0     400.0      True  10270000.0   \n",
       "24670  35.0      F  2020    10000.0     400.0      True   4337000.0   \n",
       "59800  22.0      F  2019    51000.0     400.0      True         NaN   \n",
       "24668  36.0      F  2018    34000.0     400.0      True         NaN   \n",
       "...     ...    ...   ...        ...       ...       ...         ...   \n",
       "50214  50.0      M  2020  5119000.0  203200.0      True         NaN   \n",
       "87287  40.0      F  2018  5312000.0  210900.0      True   8029000.0   \n",
       "87274  51.0      M  2020  5620000.0  223200.0      True         NaN   \n",
       "30513  32.0      F  2017  6254000.0  248300.0      True         NaN   \n",
       "61745  25.0      F  2018  7725000.0  307000.0      True   2850000.0   \n",
       "\n",
       "       income_사업   income_기타  real_fee  income_count  \n",
       "99999   205000.0         NaN     400.0             3  \n",
       "59794        NaN     25000.0     400.0             3  \n",
       "24670   210000.0         NaN     400.0             3  \n",
       "59800   306000.0         NaN     400.0             2  \n",
       "24668   202000.0         NaN     400.0             2  \n",
       "...          ...         ...       ...           ...  \n",
       "50214  1958000.0  17702000.0  203200.0             3  \n",
       "87287        NaN  12755000.0  210900.0             3  \n",
       "87274        NaN  21093000.0  223200.0             2  \n",
       "30513        NaN  10918000.0  248300.0             2  \n",
       "61745        NaN  17297000.0  307000.0             3  \n",
       "\n",
       "[64643 rows x 11 columns]"
      ]
     },
     "execution_count": 368,
     "metadata": {},
     "output_type": "execute_result"
    }
   ],
   "source": [
    "#real_fee순으로 정렬해보기\n",
    "df[df['real_fee']>0].sort_values(by='real_fee')"
   ]
  },
  {
   "cell_type": "code",
   "execution_count": 357,
   "metadata": {},
   "outputs": [
    {
     "data": {
      "text/html": [
       "<div>\n",
       "<style scoped>\n",
       "    .dataframe tbody tr th:only-of-type {\n",
       "        vertical-align: middle;\n",
       "    }\n",
       "\n",
       "    .dataframe tbody tr th {\n",
       "        vertical-align: top;\n",
       "    }\n",
       "\n",
       "    .dataframe thead th {\n",
       "        text-align: right;\n",
       "    }\n",
       "</style>\n",
       "<table border=\"1\" class=\"dataframe\">\n",
       "  <thead>\n",
       "    <tr style=\"text-align: right;\">\n",
       "      <th></th>\n",
       "      <th>age</th>\n",
       "      <th>year</th>\n",
       "      <th>refund</th>\n",
       "      <th>fee</th>\n",
       "      <th>has_paid</th>\n",
       "      <th>income_근로</th>\n",
       "      <th>income_사업</th>\n",
       "      <th>income_기타</th>\n",
       "      <th>income_count</th>\n",
       "    </tr>\n",
       "    <tr>\n",
       "      <th>real_fee</th>\n",
       "      <th></th>\n",
       "      <th></th>\n",
       "      <th></th>\n",
       "      <th></th>\n",
       "      <th></th>\n",
       "      <th></th>\n",
       "      <th></th>\n",
       "      <th></th>\n",
       "      <th></th>\n",
       "    </tr>\n",
       "  </thead>\n",
       "  <tbody>\n",
       "    <tr>\n",
       "      <th>400.0</th>\n",
       "      <td>635101.0</td>\n",
       "      <td>45046033</td>\n",
       "      <td>565524000.0</td>\n",
       "      <td>8930000.0</td>\n",
       "      <td>22325.0</td>\n",
       "      <td>6.692116e+10</td>\n",
       "      <td>3.603540e+09</td>\n",
       "      <td>1.024101e+09</td>\n",
       "      <td>56020</td>\n",
       "    </tr>\n",
       "    <tr>\n",
       "      <th>900.0</th>\n",
       "      <td>109094.0</td>\n",
       "      <td>7823327</td>\n",
       "      <td>204555000.0</td>\n",
       "      <td>3488400.0</td>\n",
       "      <td>3876.0</td>\n",
       "      <td>1.620080e+10</td>\n",
       "      <td>1.032084e+09</td>\n",
       "      <td>2.961270e+08</td>\n",
       "      <td>10212</td>\n",
       "    </tr>\n",
       "    <tr>\n",
       "      <th>1300.0</th>\n",
       "      <td>82296.0</td>\n",
       "      <td>5913834</td>\n",
       "      <td>216385000.0</td>\n",
       "      <td>3809000.0</td>\n",
       "      <td>2930.0</td>\n",
       "      <td>1.016076e+10</td>\n",
       "      <td>1.066121e+09</td>\n",
       "      <td>2.931710e+08</td>\n",
       "      <td>7616</td>\n",
       "    </tr>\n",
       "    <tr>\n",
       "      <th>1700.0</th>\n",
       "      <td>69067.0</td>\n",
       "      <td>4926940</td>\n",
       "      <td>232850000.0</td>\n",
       "      <td>4149700.0</td>\n",
       "      <td>2441.0</td>\n",
       "      <td>7.545816e+09</td>\n",
       "      <td>1.217276e+09</td>\n",
       "      <td>2.702000e+08</td>\n",
       "      <td>6368</td>\n",
       "    </tr>\n",
       "    <tr>\n",
       "      <th>2100.0</th>\n",
       "      <td>10617.0</td>\n",
       "      <td>770681</td>\n",
       "      <td>29481000.0</td>\n",
       "      <td>802200.0</td>\n",
       "      <td>382.0</td>\n",
       "      <td>7.719440e+08</td>\n",
       "      <td>1.833520e+08</td>\n",
       "      <td>1.058900e+07</td>\n",
       "      <td>930</td>\n",
       "    </tr>\n",
       "    <tr>\n",
       "      <th>...</th>\n",
       "      <td>...</td>\n",
       "      <td>...</td>\n",
       "      <td>...</td>\n",
       "      <td>...</td>\n",
       "      <td>...</td>\n",
       "      <td>...</td>\n",
       "      <td>...</td>\n",
       "      <td>...</td>\n",
       "      <td>...</td>\n",
       "    </tr>\n",
       "    <tr>\n",
       "      <th>203200.0</th>\n",
       "      <td>50.0</td>\n",
       "      <td>2020</td>\n",
       "      <td>5119000.0</td>\n",
       "      <td>203200.0</td>\n",
       "      <td>1.0</td>\n",
       "      <td>0.000000e+00</td>\n",
       "      <td>1.958000e+06</td>\n",
       "      <td>1.770200e+07</td>\n",
       "      <td>3</td>\n",
       "    </tr>\n",
       "    <tr>\n",
       "      <th>210900.0</th>\n",
       "      <td>40.0</td>\n",
       "      <td>2018</td>\n",
       "      <td>5312000.0</td>\n",
       "      <td>210900.0</td>\n",
       "      <td>1.0</td>\n",
       "      <td>8.029000e+06</td>\n",
       "      <td>0.000000e+00</td>\n",
       "      <td>1.275500e+07</td>\n",
       "      <td>3</td>\n",
       "    </tr>\n",
       "    <tr>\n",
       "      <th>223200.0</th>\n",
       "      <td>51.0</td>\n",
       "      <td>2020</td>\n",
       "      <td>5620000.0</td>\n",
       "      <td>223200.0</td>\n",
       "      <td>1.0</td>\n",
       "      <td>0.000000e+00</td>\n",
       "      <td>0.000000e+00</td>\n",
       "      <td>2.109300e+07</td>\n",
       "      <td>2</td>\n",
       "    </tr>\n",
       "    <tr>\n",
       "      <th>248300.0</th>\n",
       "      <td>32.0</td>\n",
       "      <td>2017</td>\n",
       "      <td>6254000.0</td>\n",
       "      <td>248300.0</td>\n",
       "      <td>1.0</td>\n",
       "      <td>0.000000e+00</td>\n",
       "      <td>0.000000e+00</td>\n",
       "      <td>1.091800e+07</td>\n",
       "      <td>2</td>\n",
       "    </tr>\n",
       "    <tr>\n",
       "      <th>307000.0</th>\n",
       "      <td>25.0</td>\n",
       "      <td>2018</td>\n",
       "      <td>7725000.0</td>\n",
       "      <td>307000.0</td>\n",
       "      <td>1.0</td>\n",
       "      <td>2.850000e+06</td>\n",
       "      <td>0.000000e+00</td>\n",
       "      <td>1.729700e+07</td>\n",
       "      <td>3</td>\n",
       "    </tr>\n",
       "  </tbody>\n",
       "</table>\n",
       "<p>233 rows × 9 columns</p>\n",
       "</div>"
      ],
      "text/plain": [
       "               age      year       refund        fee  has_paid     income_근로  \\\n",
       "real_fee                                                                       \n",
       "400.0     635101.0  45046033  565524000.0  8930000.0   22325.0  6.692116e+10   \n",
       "900.0     109094.0   7823327  204555000.0  3488400.0    3876.0  1.620080e+10   \n",
       "1300.0     82296.0   5913834  216385000.0  3809000.0    2930.0  1.016076e+10   \n",
       "1700.0     69067.0   4926940  232850000.0  4149700.0    2441.0  7.545816e+09   \n",
       "2100.0     10617.0    770681   29481000.0   802200.0     382.0  7.719440e+08   \n",
       "...            ...       ...          ...        ...       ...           ...   \n",
       "203200.0      50.0      2020    5119000.0   203200.0       1.0  0.000000e+00   \n",
       "210900.0      40.0      2018    5312000.0   210900.0       1.0  8.029000e+06   \n",
       "223200.0      51.0      2020    5620000.0   223200.0       1.0  0.000000e+00   \n",
       "248300.0      32.0      2017    6254000.0   248300.0       1.0  0.000000e+00   \n",
       "307000.0      25.0      2018    7725000.0   307000.0       1.0  2.850000e+06   \n",
       "\n",
       "             income_사업     income_기타  income_count  \n",
       "real_fee                                            \n",
       "400.0     3.603540e+09  1.024101e+09         56020  \n",
       "900.0     1.032084e+09  2.961270e+08         10212  \n",
       "1300.0    1.066121e+09  2.931710e+08          7616  \n",
       "1700.0    1.217276e+09  2.702000e+08          6368  \n",
       "2100.0    1.833520e+08  1.058900e+07           930  \n",
       "...                ...           ...           ...  \n",
       "203200.0  1.958000e+06  1.770200e+07             3  \n",
       "210900.0  0.000000e+00  1.275500e+07             3  \n",
       "223200.0  0.000000e+00  2.109300e+07             2  \n",
       "248300.0  0.000000e+00  1.091800e+07             2  \n",
       "307000.0  0.000000e+00  1.729700e+07             3  \n",
       "\n",
       "[233 rows x 9 columns]"
      ]
     },
     "execution_count": 357,
     "metadata": {},
     "output_type": "execute_result"
    }
   ],
   "source": [
    "#real_fee를 기준으로 묶어보기\n",
    "df[df['real_fee']>0].groupby('real_fee').sum()"
   ]
  }
 ],
 "metadata": {
  "kernelspec": {
   "display_name": "Python 3",
   "language": "python",
   "name": "python3"
  },
  "language_info": {
   "codemirror_mode": {
    "name": "ipython",
    "version": 3
   },
   "file_extension": ".py",
   "mimetype": "text/x-python",
   "name": "python",
   "nbconvert_exporter": "python",
   "pygments_lexer": "ipython3",
   "version": "3.8.3"
  }
 },
 "nbformat": 4,
 "nbformat_minor": 5
}
